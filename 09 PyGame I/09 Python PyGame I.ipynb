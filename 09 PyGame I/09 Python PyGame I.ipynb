{
 "cells": [
  {
   "cell_type": "markdown",
   "metadata": {},
   "source": [
    "# 09 PyGame I\n"
   ]
  },
  {
   "cell_type": "markdown",
   "metadata": {},
   "source": [
    "## Plan for the Lecture\n",
    "\n",
    "1. Scope Requirements for the game Space Invaders! \n",
    "\n",
    "2. Think about Design + initial thoughts in Python\n",
    "\n",
    "3. Coding in PyGame"
   ]
  },
  {
   "cell_type": "markdown",
   "metadata": {},
   "source": [
    "<img src=\"https://res.cloudinary.com/cook-becker/image/fetch/q_auto:best,f_auto,w_1200,h_630,c_fill_pad,g_auto,b_auto/https://candb.com/site/candb/images/artwork/MarqueeHome.jpg\" alt=\"space_invaders\" width=\"850\"> "
   ]
  },
  {
   "cell_type": "markdown",
   "metadata": {},
   "source": [
    "## 1.0 What are the characteristics/patterns of Space Invaders?\n",
    "\n",
    "![space_invaders_gameplay](https://th-thumbnailer.cdn-si-edu.com/7NbBM6Rr4RJzKr6QyTAq78_nM2I=/800x600/https://tf-cmsv2-smithsonianmag-media.s3.amazonaws.com/filer/7f/4c/7f4c2d11-089f-4d86-8052-5cf95295be7e/file-20180531-69508-1oenzpj.png)\n"
   ]
  },
  {
   "cell_type": "markdown",
   "metadata": {},
   "source": [
    "![space_invaders](https://media1.tenor.com/m/V4N-smXOuwUAAAAd/space-invaders-arcade.gif)"
   ]
  },
  {
   "cell_type": "markdown",
   "metadata": {},
   "source": [
    "## 1.1 Key characteristics of the game\n",
    "\n",
    "* Main shooter moves left and right \n",
    "\n",
    "* The array of invaders move together, row by row when the left-most or right-most invader reaches the edge of the screen.\n",
    "\n",
    "* The invaders array speed of movement increases as the game levels progress.\n",
    "\n",
    "* The barriers crumble as they are shot. \n",
    "\n",
    "* UFO boss appears in intervals - bonus points if shot."
   ]
  },
  {
   "cell_type": "markdown",
   "metadata": {},
   "source": [
    "## 2.0 Let's design a solution to these requirements \n",
    "\n",
    "1. Main shooter moves left and right \n",
    "\n",
    "    * Move coordinate (x) when respond to left and right key press\n",
    "\n",
    "2. The array of invaders \n",
    "\n",
    "    * Drawing the array of invaders \n",
    "    * Moving the array of invaders -> edge detection (left/right most)\n",
    "\n",
    "3. How do we maintain the left and right-most invaders \n",
    "\n",
    "    * This could be a variable keeping track of array positions\n",
    "\n",
    "4. Collision detection - edges / shooting each other / barriers \n",
    "\n",
    "    * Fire upon key press \n",
    "    * Enemies fire randomly? \n",
    "    * Coordinates overlapping? \n",
    "\n",
    "5. Increasing speed of movement \n",
    "\n",
    "    * Variable that is multiplied upon intervals\n",
    "\n",
    "6. Crumbling barriers \n",
    "\n",
    "    * "
   ]
  },
  {
   "cell_type": "markdown",
   "metadata": {},
   "source": [
    "## 2.1 Let's think about Requirement 1 - moving the shooter\n",
    "\n",
    "* `y` (vertical) won't change once set\n",
    "\n",
    "* `x` (horizontal) will decrease to go left, and increase to go right \n",
    "\n",
    "![defender](https://encrypted-tbn0.gstatic.com/images?q=tbn:ANd9GcTzmLFyzPX8Oa_MqTgDhf-VkV_PCfSiYQOzybo_h5-L4EUo4PPAV3ozgBqWJ3DGljQQdxU&usqp=CAU)\n"
   ]
  },
  {
   "cell_type": "code",
   "execution_count": 159,
   "metadata": {},
   "outputs": [
    {
     "data": {
      "text/plain": [
       "<module 'numpy' from '/Users/nick/Library/Python/3.9/lib/python/site-packages/numpy/__init__.py'>"
      ]
     },
     "execution_count": 159,
     "metadata": {},
     "output_type": "execute_result"
    }
   ],
   "source": [
    "import numpy as np\n",
    "np"
   ]
  },
  {
   "cell_type": "code",
   "execution_count": 160,
   "metadata": {},
   "outputs": [
    {
     "name": "stdout",
     "output_type": "stream",
     "text": [
      "[['_' '_' '_' '_' '_' '_' '_' '_' '_']\n",
      " ['_' '_' '_' '_' '_' '_' '_' '_' '_']\n",
      " ['_' '_' '_' '_' '_' '_' '_' '_' '_']\n",
      " ['_' '_' '_' '_' '_' '_' '_' '_' '_']\n",
      " ['_' '_' '_' '_' '_' '_' '_' '_' '_']\n",
      " ['_' '_' '_' '_' '_' '_' '_' '_' '_']\n",
      " ['_' '_' '_' '_' '_' '_' '_' '_' '_']\n",
      " ['_' '_' '_' '_' '_' '_' '_' '_' '_']\n",
      " ['_' '_' '_' '_' '_' '_' '_' '_' '_']]\n"
     ]
    }
   ],
   "source": [
    "board = np.full(fill_value= \"_\", shape=(9,9), dtype=np.str_)\n",
    "print(board)"
   ]
  },
  {
   "cell_type": "code",
   "execution_count": 161,
   "metadata": {},
   "outputs": [],
   "source": [
    "x = 4"
   ]
  },
  {
   "cell_type": "code",
   "execution_count": 162,
   "metadata": {},
   "outputs": [
    {
     "name": "stdout",
     "output_type": "stream",
     "text": [
      "[['_' '_' '_' '_' '_' '_' '_' '_' '_']\n",
      " ['_' '_' '_' '_' '_' '_' '_' '_' '_']\n",
      " ['_' '_' '_' '_' '_' '_' '_' '_' '_']\n",
      " ['_' '_' '_' '_' '_' '_' '_' '_' '_']\n",
      " ['_' '_' '_' '_' '_' '_' '_' '_' '_']\n",
      " ['_' '_' '_' '_' '_' '_' '_' '_' '_']\n",
      " ['_' '_' '_' '_' '_' '_' '_' '_' '_']\n",
      " ['_' '_' '_' '_' '_' '_' '_' '_' '_']\n",
      " ['_' '_' '_' '_' 'X' '_' '_' '_' '_']]\n"
     ]
    }
   ],
   "source": [
    "board[len(board)-1, x] = 'X'\n",
    "print(board)"
   ]
  },
  {
   "cell_type": "markdown",
   "metadata": {},
   "source": [
    "Move left? "
   ]
  },
  {
   "cell_type": "code",
   "execution_count": 176,
   "metadata": {},
   "outputs": [],
   "source": [
    "board[len(board)-1, x] = '_'\n",
    "x -= 1\n",
    "board[len(board)-1, x] = 'X'"
   ]
  },
  {
   "cell_type": "code",
   "execution_count": 177,
   "metadata": {},
   "outputs": [
    {
     "name": "stdout",
     "output_type": "stream",
     "text": [
      "[['_' '_' '_' '_' '_' '_' '_' '_' '_']\n",
      " ['_' '_' '_' '_' '_' '_' '_' '_' '_']\n",
      " ['_' '_' '_' '_' '_' '_' '_' '_' '_']\n",
      " ['_' '_' '_' '_' '_' '_' '_' '_' '_']\n",
      " ['_' '_' '_' '_' '_' '_' '_' '_' '_']\n",
      " ['_' '_' '_' '_' '_' '_' '_' '_' '_']\n",
      " ['_' '_' '_' '_' '_' '_' '_' '_' '_']\n",
      " ['_' '_' '_' '_' '_' '_' '_' '_' '_']\n",
      " ['_' '_' '_' 'X' '_' '_' '_' '_' '_']]\n"
     ]
    }
   ],
   "source": [
    "print(board)"
   ]
  },
  {
   "cell_type": "markdown",
   "metadata": {},
   "source": [
    "Move right?"
   ]
  },
  {
   "cell_type": "code",
   "execution_count": 169,
   "metadata": {},
   "outputs": [],
   "source": [
    "board[len(board)-1, x] = '_'\n",
    "x += 1\n",
    "board[len(board)-1, x] = 'X'"
   ]
  },
  {
   "cell_type": "code",
   "execution_count": 170,
   "metadata": {},
   "outputs": [
    {
     "name": "stdout",
     "output_type": "stream",
     "text": [
      "[['_' '_' '_' '_' '_' '_' '_' '_' '_']\n",
      " ['_' '_' '_' '_' '_' '_' '_' '_' '_']\n",
      " ['_' '_' '_' '_' '_' '_' '_' '_' '_']\n",
      " ['_' '_' '_' '_' '_' '_' '_' '_' '_']\n",
      " ['_' '_' '_' '_' '_' '_' '_' '_' '_']\n",
      " ['_' '_' '_' '_' '_' '_' '_' '_' '_']\n",
      " ['_' '_' '_' '_' '_' '_' '_' '_' '_']\n",
      " ['_' '_' '_' '_' '_' '_' '_' '_' '_']\n",
      " ['_' '_' '_' '_' '_' '_' 'X' '_' '_']]\n"
     ]
    }
   ],
   "source": [
    "print(board)"
   ]
  },
  {
   "cell_type": "markdown",
   "metadata": {},
   "source": [
    "We'll come back to detecting boundaries - as we'll also have to do this for the invaders too. This could probably be a function which returns a boolean `True` / `False`"
   ]
  },
  {
   "cell_type": "markdown",
   "metadata": {},
   "source": [
    "Let's translate this principle of increasing / decreasing `x` values to work with keypresses."
   ]
  },
  {
   "cell_type": "markdown",
   "metadata": {},
   "source": [
    "`pip install pygame`\n",
    "\n",
    "or \n",
    "\n",
    "`python3 -m pip install -U pygame --user`"
   ]
  },
  {
   "cell_type": "code",
   "execution_count": 178,
   "metadata": {},
   "outputs": [
    {
     "name": "stdout",
     "output_type": "stream",
     "text": [
      "pygame 2.5.2 (SDL 2.28.3, Python 3.9.6)\n",
      "Hello from the pygame community. https://www.pygame.org/contribute.html\n"
     ]
    }
   ],
   "source": [
    "import pygame"
   ]
  },
  {
   "cell_type": "code",
   "execution_count": 179,
   "metadata": {},
   "outputs": [
    {
     "data": {
      "text/plain": [
       "(5, 0)"
      ]
     },
     "execution_count": 179,
     "metadata": {},
     "output_type": "execute_result"
    }
   ],
   "source": [
    "pygame.init()"
   ]
  },
  {
   "cell_type": "code",
   "execution_count": 180,
   "metadata": {},
   "outputs": [
    {
     "data": {
      "text/plain": [
       "250"
      ]
     },
     "execution_count": 180,
     "metadata": {},
     "output_type": "execute_result"
    }
   ],
   "source": [
    "x = 250\n",
    "x"
   ]
  },
  {
   "cell_type": "code",
   "execution_count": 197,
   "metadata": {},
   "outputs": [],
   "source": [
    "key = pygame.K_LEFT"
   ]
  },
  {
   "cell_type": "code",
   "execution_count": 217,
   "metadata": {},
   "outputs": [
    {
     "name": "stdout",
     "output_type": "stream",
     "text": [
      "Right arrow key pressed\n",
      "255\n"
     ]
    }
   ],
   "source": [
    "if key == pygame.K_LEFT:\n",
    "    print(\"Left arrow key pressed\")\n",
    "    x -= 5\n",
    "    print(x)\n",
    "elif key == pygame.K_RIGHT:\n",
    "    print(\"Right arrow key pressed\")\n",
    "    x += 5\n",
    "    print(x)"
   ]
  },
  {
   "cell_type": "code",
   "execution_count": 210,
   "metadata": {},
   "outputs": [],
   "source": [
    "key = pygame.K_RIGHT"
   ]
  },
  {
   "cell_type": "markdown",
   "metadata": {},
   "source": [
    "## 2.2 Let's think about Requirement 2 - Moving the array of Invaders!\n",
    "\n",
    "![invaders_array](https://koenig-media.raywenderlich.com/uploads/2013/10/SpaceInvaders.png)\n",
    "\n",
    "![invaders_gif](https://blogger.googleusercontent.com/img/b/R29vZ2xl/AVvXsEgiLhonVydOMBfi3msDCS5uYBROaq_1uG1_01hIlGs2USptGPbEG83Oc02cy5nTTRu0SEGyjCWTteDnZDYGwVvYQO5QkMX887XKNNEcu88sQNdf1XXt0TeO-e3W_2nERfptoBamMQP58N4j/s320/Path2.gif)"
   ]
  },
  {
   "cell_type": "markdown",
   "metadata": {},
   "source": [
    "### First let's initialise the board"
   ]
  },
  {
   "cell_type": "code",
   "execution_count": 33,
   "metadata": {},
   "outputs": [
    {
     "name": "stdout",
     "output_type": "stream",
     "text": [
      "[['_' '_' '_' '_' '_' '_' '_' '_' '_']\n",
      " ['_' '_' '_' '_' '_' '_' '_' '_' '_']\n",
      " ['_' '_' '_' '_' '_' '_' '_' '_' '_']\n",
      " ['_' '_' '_' '_' '_' '_' '_' '_' '_']\n",
      " ['_' '_' '_' '_' '_' '_' '_' '_' '_']\n",
      " ['_' '_' '_' '_' '_' '_' '_' '_' '_']\n",
      " ['_' '_' '_' '_' '_' '_' '_' '_' '_']\n",
      " ['_' '_' '_' '_' '_' '_' '_' '_' '_']\n",
      " ['_' '_' '_' '_' '_' '_' '_' '_' '_']]\n"
     ]
    }
   ],
   "source": [
    "board = np.full(fill_value= \"_\", shape=(9,9), dtype=np.str_)\n",
    "print(board)"
   ]
  },
  {
   "cell_type": "markdown",
   "metadata": {},
   "source": [
    "### Let's start with one single invader"
   ]
  },
  {
   "cell_type": "code",
   "execution_count": 34,
   "metadata": {},
   "outputs": [],
   "source": [
    "board[1,1] = 'O'"
   ]
  },
  {
   "cell_type": "code",
   "execution_count": 35,
   "metadata": {},
   "outputs": [
    {
     "name": "stdout",
     "output_type": "stream",
     "text": [
      "[['_' '_' '_' '_' '_' '_' '_' '_' '_']\n",
      " ['_' 'O' '_' '_' '_' '_' '_' '_' '_']\n",
      " ['_' '_' '_' '_' '_' '_' '_' '_' '_']\n",
      " ['_' '_' '_' '_' '_' '_' '_' '_' '_']\n",
      " ['_' '_' '_' '_' '_' '_' '_' '_' '_']\n",
      " ['_' '_' '_' '_' '_' '_' '_' '_' '_']\n",
      " ['_' '_' '_' '_' '_' '_' '_' '_' '_']\n",
      " ['_' '_' '_' '_' '_' '_' '_' '_' '_']\n",
      " ['_' '_' '_' '_' '_' '_' '_' '_' '_']]\n"
     ]
    }
   ],
   "source": [
    "print(board)"
   ]
  },
  {
   "cell_type": "markdown",
   "metadata": {},
   "source": [
    "### Now a row of invaders"
   ]
  },
  {
   "cell_type": "code",
   "execution_count": 36,
   "metadata": {},
   "outputs": [],
   "source": [
    "for col in range(1, len(board) - 1):\n",
    "    board[1, col] = 'O'"
   ]
  },
  {
   "cell_type": "code",
   "execution_count": 37,
   "metadata": {},
   "outputs": [
    {
     "name": "stdout",
     "output_type": "stream",
     "text": [
      "[['_' '_' '_' '_' '_' '_' '_' '_' '_']\n",
      " ['_' 'O' 'O' 'O' 'O' 'O' 'O' 'O' '_']\n",
      " ['_' '_' '_' '_' '_' '_' '_' '_' '_']\n",
      " ['_' '_' '_' '_' '_' '_' '_' '_' '_']\n",
      " ['_' '_' '_' '_' '_' '_' '_' '_' '_']\n",
      " ['_' '_' '_' '_' '_' '_' '_' '_' '_']\n",
      " ['_' '_' '_' '_' '_' '_' '_' '_' '_']\n",
      " ['_' '_' '_' '_' '_' '_' '_' '_' '_']\n",
      " ['_' '_' '_' '_' '_' '_' '_' '_' '_']]\n"
     ]
    }
   ],
   "source": [
    "print(board)"
   ]
  },
  {
   "cell_type": "markdown",
   "metadata": {},
   "source": [
    "### Now let's repeat that row to give us a 2D array of invaders\n",
    "\n",
    "* inner-most `for` loop is a row\n",
    "\n",
    "* outer-most `for` loop repeats the inner for multiple rows!"
   ]
  },
  {
   "cell_type": "code",
   "execution_count": 38,
   "metadata": {},
   "outputs": [],
   "source": [
    "for row in range(1, 5):\n",
    "    for col in range(1, len(board) - 1):\n",
    "        board[row, col] = 'O'"
   ]
  },
  {
   "cell_type": "code",
   "execution_count": 39,
   "metadata": {},
   "outputs": [
    {
     "name": "stdout",
     "output_type": "stream",
     "text": [
      "[['_' '_' '_' '_' '_' '_' '_' '_' '_']\n",
      " ['_' 'O' 'O' 'O' 'O' 'O' 'O' 'O' '_']\n",
      " ['_' 'O' 'O' 'O' 'O' 'O' 'O' 'O' '_']\n",
      " ['_' 'O' 'O' 'O' 'O' 'O' 'O' 'O' '_']\n",
      " ['_' 'O' 'O' 'O' 'O' 'O' 'O' 'O' '_']\n",
      " ['_' '_' '_' '_' '_' '_' '_' '_' '_']\n",
      " ['_' '_' '_' '_' '_' '_' '_' '_' '_']\n",
      " ['_' '_' '_' '_' '_' '_' '_' '_' '_']\n",
      " ['_' '_' '_' '_' '_' '_' '_' '_' '_']]\n"
     ]
    }
   ],
   "source": [
    "print(board)"
   ]
  },
  {
   "cell_type": "markdown",
   "metadata": {},
   "source": [
    "### Requirement 2.1 - Moving the array of invaders"
   ]
  },
  {
   "cell_type": "code",
   "execution_count": null,
   "metadata": {},
   "outputs": [],
   "source": [
    "print(board)"
   ]
  },
  {
   "cell_type": "markdown",
   "metadata": {},
   "source": [
    "Let's reset the board - and then redraw the array of invaders in the new position."
   ]
  },
  {
   "cell_type": "code",
   "execution_count": 40,
   "metadata": {},
   "outputs": [],
   "source": [
    "for row in range(1, 5):\n",
    "    for col in range(1, len(board) - 1):\n",
    "        board[row, col] = '_'"
   ]
  },
  {
   "cell_type": "markdown",
   "metadata": {},
   "source": [
    "Now codify these positions as `startcol` and `endcol`"
   ]
  },
  {
   "cell_type": "code",
   "execution_count": 41,
   "metadata": {},
   "outputs": [],
   "source": [
    "startcol = 1\n",
    "endcol = len(board) - 1"
   ]
  },
  {
   "cell_type": "markdown",
   "metadata": {},
   "source": [
    "### Let's move right by increasing these variables \n",
    " `startcol + 1 ` and `endcol + 1` "
   ]
  },
  {
   "cell_type": "code",
   "execution_count": 42,
   "metadata": {},
   "outputs": [],
   "source": [
    "for row in range(1, 5):\n",
    "    for col in range(startcol+1, endcol+1):\n",
    "        board[row, col] = 'O'"
   ]
  },
  {
   "cell_type": "code",
   "execution_count": 43,
   "metadata": {},
   "outputs": [
    {
     "name": "stdout",
     "output_type": "stream",
     "text": [
      "[['_' '_' '_' '_' '_' '_' '_' '_' '_']\n",
      " ['_' '_' 'O' 'O' 'O' 'O' 'O' 'O' 'O']\n",
      " ['_' '_' 'O' 'O' 'O' 'O' 'O' 'O' 'O']\n",
      " ['_' '_' 'O' 'O' 'O' 'O' 'O' 'O' 'O']\n",
      " ['_' '_' 'O' 'O' 'O' 'O' 'O' 'O' 'O']\n",
      " ['_' '_' '_' '_' '_' '_' '_' '_' '_']\n",
      " ['_' '_' '_' '_' '_' '_' '_' '_' '_']\n",
      " ['_' '_' '_' '_' '_' '_' '_' '_' '_']\n",
      " ['_' '_' '_' '_' '_' '_' '_' '_' '_']]\n"
     ]
    }
   ],
   "source": [
    "print(board)"
   ]
  },
  {
   "cell_type": "markdown",
   "metadata": {},
   "source": [
    "### Let's now move the array down\n",
    "\n",
    "* reset the board (remove the existing array positons)\n",
    "\n",
    "* codify the move down by having a `startcol` and `endcol` variable\n",
    "\n",
    "* redraw in new position (with updated `startcol` and `endcol`)"
   ]
  },
  {
   "cell_type": "markdown",
   "metadata": {},
   "source": [
    "reset the board in preparation to move down"
   ]
  },
  {
   "cell_type": "code",
   "execution_count": 44,
   "metadata": {},
   "outputs": [],
   "source": [
    "for row in range(1, 5):\n",
    "    for col in range(startcol+1, endcol+1): # + 1 to move RIGHT\n",
    "        board[row, col] = '_'"
   ]
  },
  {
   "cell_type": "code",
   "execution_count": 45,
   "metadata": {},
   "outputs": [
    {
     "name": "stdout",
     "output_type": "stream",
     "text": [
      "[['_' '_' '_' '_' '_' '_' '_' '_' '_']\n",
      " ['_' '_' '_' '_' '_' '_' '_' '_' '_']\n",
      " ['_' '_' '_' '_' '_' '_' '_' '_' '_']\n",
      " ['_' '_' '_' '_' '_' '_' '_' '_' '_']\n",
      " ['_' '_' '_' '_' '_' '_' '_' '_' '_']\n",
      " ['_' '_' '_' '_' '_' '_' '_' '_' '_']\n",
      " ['_' '_' '_' '_' '_' '_' '_' '_' '_']\n",
      " ['_' '_' '_' '_' '_' '_' '_' '_' '_']\n",
      " ['_' '_' '_' '_' '_' '_' '_' '_' '_']]\n"
     ]
    }
   ],
   "source": [
    "print(board)"
   ]
  },
  {
   "cell_type": "markdown",
   "metadata": {},
   "source": [
    "### Codify with startrow and endrow"
   ]
  },
  {
   "cell_type": "code",
   "execution_count": 46,
   "metadata": {},
   "outputs": [],
   "source": [
    "startrow = 1\n",
    "endrow = 5"
   ]
  },
  {
   "cell_type": "code",
   "execution_count": 47,
   "metadata": {},
   "outputs": [],
   "source": [
    "for row in range(startrow+1, endrow+1): # + 1 to move DOWN\n",
    "    for col in range(startcol+1, endcol+1):\n",
    "        board[row, col] = 'O'"
   ]
  },
  {
   "cell_type": "code",
   "execution_count": 48,
   "metadata": {},
   "outputs": [
    {
     "name": "stdout",
     "output_type": "stream",
     "text": [
      "[['_' '_' '_' '_' '_' '_' '_' '_' '_']\n",
      " ['_' '_' '_' '_' '_' '_' '_' '_' '_']\n",
      " ['_' '_' 'O' 'O' 'O' 'O' 'O' 'O' 'O']\n",
      " ['_' '_' 'O' 'O' 'O' 'O' 'O' 'O' 'O']\n",
      " ['_' '_' 'O' 'O' 'O' 'O' 'O' 'O' 'O']\n",
      " ['_' '_' 'O' 'O' 'O' 'O' 'O' 'O' 'O']\n",
      " ['_' '_' '_' '_' '_' '_' '_' '_' '_']\n",
      " ['_' '_' '_' '_' '_' '_' '_' '_' '_']\n",
      " ['_' '_' '_' '_' '_' '_' '_' '_' '_']]\n"
     ]
    }
   ],
   "source": [
    "print(board)"
   ]
  },
  {
   "cell_type": "markdown",
   "metadata": {},
   "source": [
    "### Now that we're getting the pattern, let's build some functions to save us some duplication! "
   ]
  },
  {
   "cell_type": "code",
   "execution_count": 55,
   "metadata": {},
   "outputs": [],
   "source": [
    "def draw_invaders(board, startrow, endrow, startcol, endcol):\n",
    "    for row in range(startrow, endrow):\n",
    "        for col in range(startcol, endcol):\n",
    "            board[row, col] = 'O'\n",
    "    return board"
   ]
  },
  {
   "cell_type": "code",
   "execution_count": 104,
   "metadata": {},
   "outputs": [],
   "source": [
    "def init_board():\n",
    "    board = np.full(fill_value= \"_\", shape=(9,9), dtype=np.str_)\n",
    "    return board"
   ]
  },
  {
   "cell_type": "code",
   "execution_count": 105,
   "metadata": {},
   "outputs": [],
   "source": [
    "def print_board(board):\n",
    "    print(board)"
   ]
  },
  {
   "cell_type": "code",
   "execution_count": 138,
   "metadata": {},
   "outputs": [
    {
     "name": "stdout",
     "output_type": "stream",
     "text": [
      "[['_' '_' '_' '_' '_' '_' '_' '_' '_']\n",
      " ['_' '_' '_' '_' '_' '_' '_' '_' '_']\n",
      " ['_' '_' '_' '_' '_' '_' '_' '_' '_']\n",
      " ['_' '_' '_' '_' '_' '_' '_' '_' '_']\n",
      " ['_' '_' '_' '_' '_' '_' '_' '_' '_']\n",
      " ['_' '_' '_' '_' '_' '_' '_' '_' '_']\n",
      " ['_' '_' '_' '_' '_' '_' '_' '_' '_']\n",
      " ['_' '_' '_' '_' '_' '_' '_' '_' '_']\n",
      " ['_' '_' '_' '_' '_' '_' '_' '_' '_']]\n"
     ]
    }
   ],
   "source": [
    "board = init_board()\n",
    "print_board(board)"
   ]
  },
  {
   "cell_type": "markdown",
   "metadata": {},
   "source": [
    "### Starting positions for our array of invaders"
   ]
  },
  {
   "cell_type": "code",
   "execution_count": 139,
   "metadata": {},
   "outputs": [],
   "source": [
    "startrow = 1\n",
    "endrow = 5\n",
    "\n",
    "startcol = 1\n",
    "endcol = len(board) - 1"
   ]
  },
  {
   "cell_type": "code",
   "execution_count": 158,
   "metadata": {},
   "outputs": [
    {
     "name": "stdout",
     "output_type": "stream",
     "text": [
      "[['_' '_' '_' '_' '_' '_' '_' '_' '_']\n",
      " ['_' '_' '_' '_' '_' '_' '_' '_' '_']\n",
      " ['_' '_' '_' '_' '_' '_' '_' '_' '_']\n",
      " ['_' '_' '_' '_' '_' '_' '_' '_' '_']\n",
      " ['_' 'O' 'O' 'O' 'O' 'O' 'O' 'O' '_']\n",
      " ['_' 'O' 'O' 'O' 'O' 'O' 'O' 'O' '_']\n",
      " ['_' 'O' 'O' 'O' 'O' 'O' 'O' 'O' '_']\n",
      " ['_' 'O' 'O' 'O' 'O' 'O' 'O' 'O' '_']\n",
      " ['_' '_' '_' '_' '_' '_' '_' '_' '_']]\n"
     ]
    }
   ],
   "source": [
    "board = draw_invaders(board, startrow, endrow, startcol, endcol)\n",
    "print_board(board)"
   ]
  },
  {
   "cell_type": "code",
   "execution_count": 153,
   "metadata": {},
   "outputs": [],
   "source": [
    "def move_invaders_right(startcol, endcol):\n",
    "    board = init_board()\n",
    "    startcol += 1\n",
    "    endcol += 1\n",
    "    return board, startcol, endcol\n",
    "\n",
    "board, startcol, endcol = move_invaders_right(startcol, endcol)"
   ]
  },
  {
   "cell_type": "markdown",
   "metadata": {},
   "source": [
    "Now run `draw_invaders()` above"
   ]
  },
  {
   "cell_type": "code",
   "execution_count": 155,
   "metadata": {},
   "outputs": [],
   "source": [
    "def move_invaders_down(startrow, endrow):\n",
    "    board = init_board()\n",
    "    startrow += 1\n",
    "    endrow += 1\n",
    "    return board, startrow, endrow\n",
    "\n",
    "board, startrow, endrow = move_invaders_down(startrow, endrow)"
   ]
  },
  {
   "cell_type": "markdown",
   "metadata": {},
   "source": [
    "Now run `draw_invaders()` above"
   ]
  },
  {
   "cell_type": "code",
   "execution_count": 157,
   "metadata": {},
   "outputs": [],
   "source": [
    "def move_invaders_left(startcol, endcol):\n",
    "    board = init_board()\n",
    "    startcol -= 1\n",
    "    endcol -= 1\n",
    "    return board, startcol, endcol\n",
    "\n",
    "board, startcol, endcol = move_invaders_left(startcol, endcol)"
   ]
  },
  {
   "cell_type": "markdown",
   "metadata": {},
   "source": [
    "Don't need a move up obviously... "
   ]
  },
  {
   "cell_type": "markdown",
   "metadata": {},
   "source": [
    "## Let's now take a look at PyGame"
   ]
  },
  {
   "cell_type": "code",
   "execution_count": 1,
   "metadata": {},
   "outputs": [
    {
     "name": "stdout",
     "output_type": "stream",
     "text": [
      "pygame 2.5.2 (SDL 2.28.3, Python 3.9.6)\n",
      "Hello from the pygame community. https://www.pygame.org/contribute.html\n"
     ]
    },
    {
     "name": "stderr",
     "output_type": "stream",
     "text": [
      "2024-11-03 12:20:53.581 Python[44877:19937000] +[IMKClient subclass]: chose IMKClient_Legacy\n",
      "2024-11-03 12:20:53.581 Python[44877:19937000] +[IMKInputSession subclass]: chose IMKInputSession_Legacy\n"
     ]
    },
    {
     "ename": "KeyboardInterrupt",
     "evalue": "",
     "output_type": "error",
     "traceback": [
      "\u001b[0;31m---------------------------------------------------------------------------\u001b[0m",
      "\u001b[0;31mKeyboardInterrupt\u001b[0m                         Traceback (most recent call last)",
      "Cell \u001b[0;32mIn [1], line 15\u001b[0m\n\u001b[1;32m     11\u001b[0m     screen\u001b[38;5;241m.\u001b[39mfill([\u001b[38;5;241m255\u001b[39m,\u001b[38;5;241m255\u001b[39m,\u001b[38;5;241m255\u001b[39m]) \n\u001b[1;32m     13\u001b[0m     pygame\u001b[38;5;241m.\u001b[39mdraw\u001b[38;5;241m.\u001b[39mcircle(screen,(\u001b[38;5;241m0\u001b[39m,\u001b[38;5;241m0\u001b[39m,\u001b[38;5;241m255\u001b[39m), (\u001b[38;5;241m250\u001b[39m,\u001b[38;5;241m250\u001b[39m), \u001b[38;5;241m75\u001b[39m)\n\u001b[0;32m---> 15\u001b[0m     pygame\u001b[38;5;241m.\u001b[39mdisplay\u001b[38;5;241m.\u001b[39mflip()\n\u001b[1;32m     17\u001b[0m pygame\u001b[38;5;241m.\u001b[39mquit()\n",
      "\u001b[0;31mKeyboardInterrupt\u001b[0m: "
     ]
    }
   ],
   "source": [
    "import pygame \n",
    "pygame.init()\n",
    "\n",
    "screen = pygame.display.set_mode([500,500])\n",
    "\n",
    "running = True\n",
    "while running: \n",
    "    for event in pygame.event.get():\n",
    "        if event.type == pygame.QUIT:\n",
    "            running = False\n",
    "    screen.fill([255,255,255]) \n",
    "    \n",
    "    pygame.draw.circle(screen,(0,0,255), (250,250), 75)\n",
    "    \n",
    "    pygame.display.flip()\n",
    "    \n",
    "pygame.quit()"
   ]
  },
  {
   "cell_type": "markdown",
   "metadata": {},
   "source": [
    "### Let's start by changing the colour of the foreground and background\n",
    "\n",
    "* RGB values stored as a `list`. \n",
    "\n",
    "* `screen.fill([255,255,255])` by default gave us a white background\n",
    "\n",
    "* `screen.fill([0,0,0])` should give us a `black` background\n",
    "\n",
    "* `pygame.draw.circle(screen,(0,0,255), (250,250), 75)` = blue colour\n",
    "\n",
    "* Green = `[0,255,0]`"
   ]
  },
  {
   "cell_type": "code",
   "execution_count": 1,
   "metadata": {},
   "outputs": [
    {
     "name": "stdout",
     "output_type": "stream",
     "text": [
      "pygame 2.5.2 (SDL 2.28.3, Python 3.9.6)\n",
      "Hello from the pygame community. https://www.pygame.org/contribute.html\n"
     ]
    },
    {
     "name": "stderr",
     "output_type": "stream",
     "text": [
      "2024-11-03 12:32:20.208 Python[49379:20076324] +[IMKClient subclass]: chose IMKClient_Legacy\n",
      "2024-11-03 12:32:20.208 Python[49379:20076324] +[IMKInputSession subclass]: chose IMKInputSession_Legacy\n"
     ]
    },
    {
     "ename": "",
     "evalue": "",
     "output_type": "error",
     "traceback": [
      "\u001b[1;31mThe Kernel crashed while executing code in the current cell or a previous cell. \n",
      "\u001b[1;31mPlease review the code in the cell(s) to identify a possible cause of the failure. \n",
      "\u001b[1;31mClick <a href='https://aka.ms/vscodeJupyterKernelCrash'>here</a> for more info. \n",
      "\u001b[1;31mView Jupyter <a href='command:jupyter.viewOutput'>log</a> for further details."
     ]
    }
   ],
   "source": [
    "import pygame \n",
    "pygame.init()\n",
    "\n",
    "screen = pygame.display.set_mode([500,500])\n",
    "\n",
    "running = True\n",
    "while running: \n",
    "    for event in pygame.event.get():\n",
    "        if event.type == pygame.QUIT:\n",
    "            running = False\n",
    "    screen.fill([0,0,0]) # black background\n",
    "    \n",
    "    pygame.draw.circle(screen,(0,255,0), (250,250), 75) ## (0, 255, 0) = green\n",
    "    \n",
    "    pygame.display.flip()\n",
    "    \n",
    "pygame.quit()"
   ]
  },
  {
   "cell_type": "markdown",
   "metadata": {},
   "source": [
    "### Now let's add our keypress logic from earlier: "
   ]
  },
  {
   "cell_type": "code",
   "execution_count": null,
   "metadata": {},
   "outputs": [],
   "source": [
    "if key == pygame.K_LEFT:\n",
    "    print(\"Left arrow key pressed\")\n",
    "    x -= 5\n",
    "    print(x)\n",
    "elif key == pygame.K_RIGHT:\n",
    "    print(\"Right arrow key pressed\")\n",
    "    x += 5\n",
    "    print(x)"
   ]
  },
  {
   "cell_type": "code",
   "execution_count": 1,
   "metadata": {},
   "outputs": [
    {
     "name": "stdout",
     "output_type": "stream",
     "text": [
      "pygame 2.5.2 (SDL 2.28.3, Python 3.9.6)\n",
      "Hello from the pygame community. https://www.pygame.org/contribute.html\n"
     ]
    },
    {
     "name": "stderr",
     "output_type": "stream",
     "text": [
      "2024-11-03 12:34:37.833 Python[49463:20078268] +[IMKClient subclass]: chose IMKClient_Legacy\n",
      "2024-11-03 12:34:37.833 Python[49463:20078268] +[IMKInputSession subclass]: chose IMKInputSession_Legacy\n"
     ]
    },
    {
     "name": "stdout",
     "output_type": "stream",
     "text": [
      "Left arrow key pressed\n",
      "Left arrow key pressed\n",
      "Left arrow key pressed\n",
      "Left arrow key pressed\n",
      "Left arrow key pressed\n",
      "Left arrow key pressed\n",
      "Left arrow key pressed\n",
      "Left arrow key pressed\n",
      "Left arrow key pressed\n",
      "Left arrow key pressed\n",
      "Left arrow key pressed\n",
      "Left arrow key pressed\n",
      "Left arrow key pressed\n",
      "Left arrow key pressed\n",
      "Left arrow key pressed\n",
      "Left arrow key pressed\n",
      "Left arrow key pressed\n",
      "Left arrow key pressed\n",
      "Left arrow key pressed\n",
      "Left arrow key pressed\n",
      "Left arrow key pressed\n",
      "Left arrow key pressed\n",
      "Left arrow key pressed\n",
      "Left arrow key pressed\n",
      "Left arrow key pressed\n",
      "Left arrow key pressed\n",
      "Left arrow key pressed\n",
      "Left arrow key pressed\n",
      "Left arrow key pressed\n",
      "Left arrow key pressed\n",
      "Left arrow key pressed\n",
      "Left arrow key pressed\n",
      "Left arrow key pressed\n",
      "Left arrow key pressed\n",
      "Left arrow key pressed\n",
      "Left arrow key pressed\n",
      "Left arrow key pressed\n",
      "Left arrow key pressed\n",
      "Left arrow key pressed\n",
      "Left arrow key pressed\n",
      "Left arrow key pressed\n",
      "Left arrow key pressed\n",
      "Left arrow key pressed\n",
      "Left arrow key pressed\n",
      "Left arrow key pressed\n",
      "Left arrow key pressed\n",
      "Left arrow key pressed\n"
     ]
    }
   ],
   "source": [
    "import pygame \n",
    "pygame.init()\n",
    "\n",
    "screen = pygame.display.set_mode([500,500])\n",
    "\n",
    "player_x = 250\n",
    "\n",
    "running = True\n",
    "while running: \n",
    "    for event in pygame.event.get():\n",
    "        if event.type == pygame.QUIT:\n",
    "            running = False\n",
    "        elif event.type == pygame.KEYDOWN:\n",
    "            if event.key == pygame.K_LEFT:\n",
    "                print(\"Left arrow key pressed\")\n",
    "                player_x -= 5\n",
    "            elif event.key == pygame.K_RIGHT:\n",
    "                print(\"Left arrow key pressed\")\n",
    "                player_x += 5\n",
    "    \n",
    "    screen.fill([0,0,0]) # black background\n",
    "    \n",
    "    pygame.draw.circle(screen,(0,255,0), [player_x, 250], 75) ## (0, 255, 0) = green\n",
    "    \n",
    "    pygame.display.flip()\n",
    "    \n",
    "pygame.quit()"
   ]
  },
  {
   "cell_type": "markdown",
   "metadata": {},
   "source": [
    "### Load some assets? "
   ]
  },
  {
   "cell_type": "markdown",
   "metadata": {},
   "source": [
    "\n",
    "<img src=\"https://steamuserimages-a.akamaihd.net/ugc/469813240322220005/CC92CEF7CD382AF330A63DF13B811B1A5553B150/?imw=637&imh=358&ima=fit&impolicy=Letterbox&imcolor=%23000000&letterbox=true\" alt=\"space_invaders\" width=\"500\"> \n"
   ]
  },
  {
   "cell_type": "code",
   "execution_count": null,
   "metadata": {},
   "outputs": [],
   "source": [
    "player_img = pygame.image.load(\"img/defender.png\")\n",
    "screen.blit(player_img, (player_x, 250))"
   ]
  },
  {
   "cell_type": "code",
   "execution_count": null,
   "metadata": {},
   "outputs": [],
   "source": [
    "player_img = pygame.transform.scale(player_img, (35, 30))"
   ]
  },
  {
   "cell_type": "code",
   "execution_count": 1,
   "metadata": {},
   "outputs": [
    {
     "name": "stdout",
     "output_type": "stream",
     "text": [
      "pygame 2.5.2 (SDL 2.28.3, Python 3.9.6)\n",
      "Hello from the pygame community. https://www.pygame.org/contribute.html\n"
     ]
    },
    {
     "name": "stderr",
     "output_type": "stream",
     "text": [
      "2024-11-03 12:46:27.343 Python[49869:20087567] +[IMKClient subclass]: chose IMKClient_Legacy\n",
      "2024-11-03 12:46:27.343 Python[49869:20087567] +[IMKInputSession subclass]: chose IMKInputSession_Legacy\n"
     ]
    },
    {
     "name": "stdout",
     "output_type": "stream",
     "text": [
      "Left arrow key pressed\n",
      "Left arrow key pressed\n",
      "Left arrow key pressed\n",
      "Left arrow key pressed\n",
      "Left arrow key pressed\n",
      "Left arrow key pressed\n",
      "Left arrow key pressed\n",
      "Left arrow key pressed\n",
      "Left arrow key pressed\n",
      "Left arrow key pressed\n",
      "Left arrow key pressed\n",
      "Left arrow key pressed\n",
      "Left arrow key pressed\n",
      "Left arrow key pressed\n",
      "Left arrow key pressed\n",
      "Left arrow key pressed\n",
      "Left arrow key pressed\n",
      "Left arrow key pressed\n",
      "Left arrow key pressed\n",
      "Left arrow key pressed\n",
      "Left arrow key pressed\n",
      "Left arrow key pressed\n",
      "Left arrow key pressed\n",
      "Left arrow key pressed\n",
      "Left arrow key pressed\n",
      "Left arrow key pressed\n",
      "Left arrow key pressed\n",
      "Left arrow key pressed\n",
      "Left arrow key pressed\n",
      "Left arrow key pressed\n",
      "Left arrow key pressed\n",
      "Left arrow key pressed\n",
      "Left arrow key pressed\n",
      "Left arrow key pressed\n",
      "Left arrow key pressed\n",
      "Left arrow key pressed\n",
      "Left arrow key pressed\n",
      "Left arrow key pressed\n",
      "Left arrow key pressed\n",
      "Left arrow key pressed\n",
      "Left arrow key pressed\n",
      "Left arrow key pressed\n",
      "Left arrow key pressed\n",
      "Left arrow key pressed\n",
      "Left arrow key pressed\n",
      "Left arrow key pressed\n",
      "Left arrow key pressed\n",
      "Left arrow key pressed\n",
      "Left arrow key pressed\n",
      "Left arrow key pressed\n",
      "Left arrow key pressed\n",
      "Left arrow key pressed\n",
      "Left arrow key pressed\n",
      "Left arrow key pressed\n",
      "Left arrow key pressed\n",
      "Left arrow key pressed\n"
     ]
    }
   ],
   "source": [
    "import pygame \n",
    "pygame.init()\n",
    "\n",
    "screen = pygame.display.set_mode([500,500])\n",
    "\n",
    "player_x = 250\n",
    "player_img = pygame.image.load(\"defender.png\") #load in the image\n",
    "\n",
    "player_img = pygame.transform.scale(player_img, (35, 30)) # change the scale\n",
    "\n",
    "running = True\n",
    "while running: \n",
    "    for event in pygame.event.get():\n",
    "        if event.type == pygame.QUIT:\n",
    "            running = False\n",
    "        elif event.type == pygame.KEYDOWN:\n",
    "            if event.key == pygame.K_LEFT:\n",
    "                print(\"Left arrow key pressed\")\n",
    "                player_x -= 5\n",
    "            elif event.key == pygame.K_RIGHT:\n",
    "                print(\"Left arrow key pressed\")\n",
    "                player_x += 5\n",
    "    \n",
    "    screen.fill([0,0,0]) # black background\n",
    "    \n",
    "    #pygame.draw.circle(screen,(0,255,0), [player_x, 250], 75) ## (0, 255, 0) = green\n",
    "    \n",
    "    screen.blit(player_img, (player_x, 250))\n",
    "    \n",
    "    pygame.display.flip()\n",
    "    \n",
    "pygame.quit()"
   ]
  },
  {
   "cell_type": "code",
   "execution_count": null,
   "metadata": {},
   "outputs": [],
   "source": [
    "pygame.transform.scale(img, (l, h))"
   ]
  },
  {
   "cell_type": "code",
   "execution_count": null,
   "metadata": {},
   "outputs": [],
   "source": [
    "player = Player((SCREEN_X/2)-(35/2), (SCREEN_Y - 100), \n",
    "                pygame.image.load(\"img/defender.png\"), 35, 30)\n"
   ]
  },
  {
   "cell_type": "code",
   "execution_count": null,
   "metadata": {},
   "outputs": [],
   "source": [
    "    #1.0 draw the png on the screen!\n",
    "    #screen.blit(player.img, (player.x, player.y))\n",
    "    \n",
    "    #1.1 draw one of the invaders\n",
    "    #screen.blit(invader.img, (invader.x, invader.y))"
   ]
  },
  {
   "cell_type": "code",
   "execution_count": 1,
   "metadata": {},
   "outputs": [
    {
     "name": "stderr",
     "output_type": "stream",
     "text": [
      "2024-11-02 11:45:15.560 Python[33430:19578634] +[IMKClient subclass]: chose IMKClient_Legacy\n",
      "2024-11-02 11:45:15.560 Python[33430:19578634] +[IMKInputSession subclass]: chose IMKInputSession_Legacy\n"
     ]
    },
    {
     "name": "stdout",
     "output_type": "stream",
     "text": [
      "Cleaning up...\n"
     ]
    },
    {
     "ename": "",
     "evalue": "",
     "output_type": "error",
     "traceback": [
      "\u001b[1;31mThe Kernel crashed while executing code in the current cell or a previous cell. \n",
      "\u001b[1;31mPlease review the code in the cell(s) to identify a possible cause of the failure. \n",
      "\u001b[1;31mClick <a href='https://aka.ms/vscodeJupyterKernelCrash'>here</a> for more info. \n",
      "\u001b[1;31mView Jupyter <a href='command:jupyter.viewOutput'>log</a> for further details."
     ]
    }
   ],
   "source": [
    "import tkinter as tk\n",
    "\n",
    "root = tk.Tk()\n",
    "\n",
    "# Define a cleanup function\n",
    "def on_close():\n",
    "    print(\"Cleaning up...\")\n",
    "    root.destroy()\n",
    "\n",
    "# Handle the window close button\n",
    "root.protocol(\"WM_DELETE_WINDOW\", on_close)\n",
    "\n",
    "root.mainloop()"
   ]
  },
  {
   "cell_type": "code",
   "execution_count": 1,
   "metadata": {},
   "outputs": [
    {
     "name": "stdout",
     "output_type": "stream",
     "text": [
      "pygame 2.5.2 (SDL 2.28.3, Python 3.9.6)\n",
      "Hello from the pygame community. https://www.pygame.org/contribute.html\n"
     ]
    },
    {
     "name": "stderr",
     "output_type": "stream",
     "text": [
      "2024-11-02 11:44:18.101 Python[33413:19577781] +[IMKClient subclass]: chose IMKClient_Legacy\n",
      "2024-11-02 11:44:18.101 Python[33413:19577781] +[IMKInputSession subclass]: chose IMKInputSession_Legacy\n"
     ]
    },
    {
     "ename": "TypeError",
     "evalue": "'int' object is not callable",
     "output_type": "error",
     "traceback": [
      "\u001b[0;31m---------------------------------------------------------------------------\u001b[0m",
      "\u001b[0;31mSystemExit\u001b[0m                                Traceback (most recent call last)",
      "Cell \u001b[0;32mIn [1], line 11\u001b[0m\n\u001b[1;32m     10\u001b[0m             running \u001b[38;5;241m=\u001b[39m \u001b[38;5;28;01mFalse\u001b[39;00m\n\u001b[0;32m---> 11\u001b[0m             sys\u001b[38;5;241m.\u001b[39mexit(\u001b[38;5;241m0\u001b[39m)\n\u001b[1;32m     12\u001b[0m pygame\u001b[38;5;241m.\u001b[39mQUIT()\n",
      "\u001b[0;31mSystemExit\u001b[0m: 0",
      "\nDuring handling of the above exception, another exception occurred:\n",
      "\u001b[0;31mTypeError\u001b[0m                                 Traceback (most recent call last)",
      "Cell \u001b[0;32mIn [1], line 14\u001b[0m\n\u001b[1;32m     12\u001b[0m     pygame\u001b[38;5;241m.\u001b[39mQUIT()\n\u001b[1;32m     13\u001b[0m \u001b[38;5;28;01mexcept\u001b[39;00m \u001b[38;5;167;01mSystemExit\u001b[39;00m:\n\u001b[0;32m---> 14\u001b[0m     pygame\u001b[38;5;241m.\u001b[39mQUIT()\n",
      "\u001b[0;31mTypeError\u001b[0m: 'int' object is not callable"
     ]
    }
   ],
   "source": [
    "import pygame\n",
    "import sys\n",
    "screen = pygame.display.set_mode((500, 500))\n",
    "pygame.display.set_caption(\"Graceful Quit Example\")\n",
    "running = True\n",
    "try:\n",
    "    while running:\n",
    "        for event in pygame.event.get():\n",
    "            if event.type == pygame.QUIT:\n",
    "                running = False\n",
    "                sys.exit(0)\n",
    "    pygame.quit()\n",
    "except SystemExit:\n",
    "    pygame.quit()"
   ]
  },
  {
   "cell_type": "code",
   "execution_count": 3,
   "metadata": {},
   "outputs": [
    {
     "name": "stderr",
     "output_type": "stream",
     "text": [
      "2024-11-02 11:33:12.931 Python[33092:19566135] +[IMKClient subclass]: chose IMKClient_Legacy\n",
      "2024-11-02 11:33:12.931 Python[33092:19566135] +[IMKInputSession subclass]: chose IMKInputSession_Legacy\n"
     ]
    },
    {
     "ename": "SystemExit",
     "evalue": "",
     "output_type": "error",
     "traceback": [
      "An exception has occurred, use %tb to see the full traceback.\n",
      "\u001b[0;31mSystemExit\u001b[0m\n"
     ]
    },
    {
     "name": "stderr",
     "output_type": "stream",
     "text": [
      "/Users/nick/Library/Python/3.9/lib/python/site-packages/IPython/core/interactiveshell.py:3386: UserWarning: To exit: use 'exit', 'quit', or Ctrl-D.\n",
      "  warn(\"To exit: use 'exit', 'quit', or Ctrl-D.\", stacklevel=1)\n"
     ]
    },
    {
     "ename": "",
     "evalue": "",
     "output_type": "error",
     "traceback": [
      "\u001b[1;31mThe Kernel crashed while executing code in the current cell or a previous cell. \n",
      "\u001b[1;31mPlease review the code in the cell(s) to identify a possible cause of the failure. \n",
      "\u001b[1;31mClick <a href='https://aka.ms/vscodeJupyterKernelCrash'>here</a> for more info. \n",
      "\u001b[1;31mView Jupyter <a href='command:jupyter.viewOutput'>log</a> for further details."
     ]
    }
   ],
   "source": [
    "import sys\n",
    "screen = pygame.display.set_mode((500, 500))\n",
    "pygame.display.set_caption(\"Detect Key Press\")\n",
    "\n",
    "running = True\n",
    "while running:\n",
    "    for event in pygame.event.get():\n",
    "        if event.type == pygame.QUIT:\n",
    "            running = False\n",
    "            break\n",
    "        elif event.type == pygame.KEYDOWN:\n",
    "            if event.key == pygame.K_LEFT:\n",
    "                print(\"Left arrow key pressed\")\n",
    "            elif event.key == pygame.K_RIGHT:\n",
    "                print(\"Right arrow key pressed\")\n",
    "\n",
    "pygame.quit()\n",
    "sys.exit()  # Ensure the program exits cleanly"
   ]
  },
  {
   "cell_type": "code",
   "execution_count": null,
   "metadata": {},
   "outputs": [],
   "source": []
  },
  {
   "cell_type": "markdown",
   "metadata": {},
   "source": [
    "## 1.1 Installing PyGame\n",
    "\n",
    "`pip install pygame`\n",
    "\n",
    "or \n",
    "\n",
    "`python3 -m pip install -U pygame --user`"
   ]
  },
  {
   "cell_type": "markdown",
   "metadata": {},
   "source": [
    "#### This Jupyter Notebook contains exercises for you to extend your introduction to the basics with Python libraries and packages. Attempt the following exercises, which slowly build in complexity. If you get stuck, check back to the <a href = \"https://www.youtube.com/watch?v=HGZy4aLKGmI\"> Python lecture recording on PyGame here</a> or view the <a href = \"https://realpython.com/pygame-a-primer/\">Real Python resource</a> on how to get started with PyGame."
   ]
  },
  {
   "cell_type": "markdown",
   "metadata": {},
   "source": [
    "### Exercise 1: \n",
    "\n",
    "Install PyGame and load the example games\n",
    "\n"
   ]
  },
  {
   "cell_type": "markdown",
   "metadata": {},
   "source": [
    "### Exercise 2: \n",
    "\n",
    "Change something in the code. "
   ]
  }
 ],
 "metadata": {
  "kernelspec": {
   "display_name": "Python 3",
   "language": "python",
   "name": "python3"
  },
  "language_info": {
   "codemirror_mode": {
    "name": "ipython",
    "version": 3
   },
   "file_extension": ".py",
   "mimetype": "text/x-python",
   "name": "python",
   "nbconvert_exporter": "python",
   "pygments_lexer": "ipython3",
   "version": "3.9.6"
  }
 },
 "nbformat": 4,
 "nbformat_minor": 0
}
