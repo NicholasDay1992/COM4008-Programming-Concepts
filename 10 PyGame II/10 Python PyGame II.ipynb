{
 "cells": [
  {
   "cell_type": "markdown",
   "metadata": {},
   "source": [
    "# 10 PyGame I\n"
   ]
  },
  {
   "cell_type": "markdown",
   "metadata": {},
   "source": [
    "## Plan for the Lecture\n",
    "\n",
    "1. Recap on Requirements for Space Invaders! \n",
    "\n",
    "2. Classes\n",
    "\n",
    "3. Collisions\n",
    "\n",
    "4. Testing via PyTest"
   ]
  },
  {
   "cell_type": "markdown",
   "metadata": {},
   "source": [
    "<img src=\"https://res.cloudinary.com/cook-becker/image/fetch/q_auto:best,f_auto,w_1200,h_630,c_fill_pad,g_auto,b_auto/https://candb.com/site/candb/images/artwork/MarqueeHome.jpg\" alt=\"space_invaders\" width=\"850\"> "
   ]
  },
  {
   "cell_type": "markdown",
   "metadata": {},
   "source": [
    "## 1.0 What are the characteristics/patterns of Space Invaders?\n",
    "\n",
    "![space_invaders](https://media1.tenor.com/m/V4N-smXOuwUAAAAd/space-invaders-arcade.gif)\n"
   ]
  },
  {
   "cell_type": "markdown",
   "metadata": {},
   "source": [
    "## 1.1 Key characteristics of the game\n",
    "\n",
    "* Main shooter moves left and right \n",
    "\n",
    "* The array of invaders move together, row by row when the left-most or right-most invader reaches the edge of the screen.\n",
    "\n",
    "* The invaders array speed of movement increases as the game levels progress.\n",
    "\n",
    "* The barriers crumble as they are shot. \n",
    "\n",
    "* UFO boss appears in intervals - bonus points if shot."
   ]
  },
  {
   "cell_type": "markdown",
   "metadata": {},
   "source": [
    "## 2.0 Let's design a solution to these requirements \n",
    "\n",
    "1. Main shooter moves left and right ✅\n",
    "\n",
    "    * Move coordinate (x) when respond to left and right key press ✅\n",
    "\n",
    "2. The array of invaders ✅\n",
    "\n",
    "    * Drawing the array of invaders ✅\n",
    "    * Moving the array of invaders -> edge detection (left/right most) ✅\n",
    "\n",
    "3. How do we maintain the left and right-most invaders ✅\n",
    "\n",
    "    * This could be a variable keeping track of array positions ✅\n",
    "\n",
    "4. Collision detection - edges / shooting each other / barriers \n",
    "\n",
    "    * Fire upon key press \n",
    "    * Enemies fire randomly? \n",
    "    * Coordinates overlapping? \n",
    "\n",
    "5. Increasing speed of movement \n",
    "\n",
    "    * Variable that is multiplied upon intervals\n",
    "\n",
    "6. Crumbling barriers \n",
    "\n",
    "    * As barriers are hit, parts need to disappear - build as a tiny 2D matrix of cells?"
   ]
  },
  {
   "cell_type": "markdown",
   "metadata": {},
   "source": [
    "## 2.1 Our design for Requirement 1 - moving the shooter\n",
    "\n",
    "![defender](https://encrypted-tbn0.gstatic.com/images?q=tbn:ANd9GcTzmLFyzPX8Oa_MqTgDhf-VkV_PCfSiYQOzybo_h5-L4EUo4PPAV3ozgBqWJ3DGljQQdxU&usqp=CAU)\n"
   ]
  },
  {
   "cell_type": "code",
   "execution_count": 5,
   "metadata": {},
   "outputs": [
    {
     "ename": "SystemExit",
     "evalue": "",
     "output_type": "error",
     "traceback": [
      "An exception has occurred, use %tb to see the full traceback.\n",
      "\u001b[0;31mSystemExit\u001b[0m\n"
     ]
    }
   ],
   "source": [
    "%reset -f\n",
    "import pygame \n",
    "import sys\n",
    "pygame.init()\n",
    "\n",
    "screen = pygame.display.set_mode([500,500])\n",
    "\n",
    "player_x = 250\n",
    "player_img = pygame.image.load(\"defender.png\") #load in the image\n",
    "\n",
    "player_img = pygame.transform.scale(player_img, (35, 30)) # change the scale\n",
    "\n",
    "running = True\n",
    "while running: \n",
    "    for event in pygame.event.get():\n",
    "        if event.type == pygame.QUIT:\n",
    "            running = False\n",
    "            pygame.display.quit()\n",
    "            pygame.quit()\n",
    "            sys.exit()\n",
    "        elif event.type == pygame.KEYDOWN:\n",
    "            if event.key == pygame.K_LEFT:\n",
    "                player_x -= 5\n",
    "            elif event.key == pygame.K_RIGHT:\n",
    "                player_x += 5\n",
    "            elif event.key == pygame.K_ESCAPE or event.key == pygame.WINDOWCLOSE: # TO QUIT\n",
    "                running = False\n",
    "                #pygame.display.quit()\n",
    "                #pygame.QUIT()\n",
    "                #sys.exit()\n",
    "    \n",
    "    screen.fill([0,0,0]) # black background\n",
    "    \n",
    "    #pygame.draw.circle(screen,(0,255,0), [player_x, 250], 75) ## (0, 255, 0) = green\n",
    "    \n",
    "    screen.blit(player_img, (player_x, 450))\n",
    "    \n",
    "    pygame.display.flip()\n",
    "    \n",
    "print(\"in loop: \",running)\n",
    "#pygame.display.quit()\n",
    "#pygame.quit()\n",
    "sys.exit(0)"
   ]
  },
  {
   "cell_type": "markdown",
   "metadata": {},
   "source": [
    "## 2.2 Our design for Requirement 2 - Moving the array of Invaders!\n",
    "\n",
    "![invaders_gif](https://blogger.googleusercontent.com/img/b/R29vZ2xl/AVvXsEgiLhonVydOMBfi3msDCS5uYBROaq_1uG1_01hIlGs2USptGPbEG83Oc02cy5nTTRu0SEGyjCWTteDnZDYGwVvYQO5QkMX887XKNNEcu88sQNdf1XXt0TeO-e3W_2nERfptoBamMQP58N4j/s320/Path2.gif)"
   ]
  },
  {
   "cell_type": "markdown",
   "metadata": {},
   "source": [
    "### Let's now move the array down\n",
    "\n",
    "* reset the board (remove the existing array positons)\n",
    "\n",
    "* codify the move down by having a `startcol` and `endcol` variable\n",
    "\n",
    "* redraw in new position (with updated `startcol` and `endcol`)"
   ]
  },
  {
   "cell_type": "code",
   "execution_count": 35,
   "metadata": {},
   "outputs": [],
   "source": [
    "import numpy as np"
   ]
  },
  {
   "cell_type": "code",
   "execution_count": 36,
   "metadata": {},
   "outputs": [],
   "source": [
    "def draw_invaders(board, startrow, endrow, startcol, endcol):\n",
    "    for row in range(startrow, endrow):\n",
    "        for col in range(startcol, endcol):\n",
    "            board[row, col] = 'O'\n",
    "    return board"
   ]
  },
  {
   "cell_type": "code",
   "execution_count": 37,
   "metadata": {},
   "outputs": [],
   "source": [
    "def init_board():\n",
    "    board = np.full(fill_value= \"_\", shape=(9,9), dtype=np.str_)\n",
    "    return board"
   ]
  },
  {
   "cell_type": "code",
   "execution_count": 38,
   "metadata": {},
   "outputs": [],
   "source": [
    "def print_board(board):\n",
    "    print(board)"
   ]
  },
  {
   "cell_type": "code",
   "execution_count": 39,
   "metadata": {},
   "outputs": [
    {
     "name": "stdout",
     "output_type": "stream",
     "text": [
      "[['_' '_' '_' '_' '_' '_' '_' '_' '_']\n",
      " ['_' '_' '_' '_' '_' '_' '_' '_' '_']\n",
      " ['_' '_' '_' '_' '_' '_' '_' '_' '_']\n",
      " ['_' '_' '_' '_' '_' '_' '_' '_' '_']\n",
      " ['_' '_' '_' '_' '_' '_' '_' '_' '_']\n",
      " ['_' '_' '_' '_' '_' '_' '_' '_' '_']\n",
      " ['_' '_' '_' '_' '_' '_' '_' '_' '_']\n",
      " ['_' '_' '_' '_' '_' '_' '_' '_' '_']\n",
      " ['_' '_' '_' '_' '_' '_' '_' '_' '_']]\n"
     ]
    }
   ],
   "source": [
    "board = init_board()\n",
    "print_board(board)"
   ]
  },
  {
   "cell_type": "markdown",
   "metadata": {},
   "source": [
    "### Starting positions for our array of invaders"
   ]
  },
  {
   "cell_type": "code",
   "execution_count": 40,
   "metadata": {},
   "outputs": [],
   "source": [
    "startrow = 1\n",
    "endrow = 5\n",
    "\n",
    "startcol = 1\n",
    "endcol = len(board) - 1"
   ]
  },
  {
   "cell_type": "code",
   "execution_count": 4,
   "metadata": {},
   "outputs": [
    {
     "ename": "NameError",
     "evalue": "name 'board' is not defined",
     "output_type": "error",
     "traceback": [
      "\u001b[0;31m---------------------------------------------------------------------------\u001b[0m",
      "\u001b[0;31mNameError\u001b[0m                                 Traceback (most recent call last)",
      "Cell \u001b[0;32mIn [4], line 1\u001b[0m\n\u001b[0;32m----> 1\u001b[0m board \u001b[38;5;241m=\u001b[39m draw_invaders(board, startrow, endrow, startcol, endcol)\n\u001b[1;32m      2\u001b[0m print_board(board)\n",
      "\u001b[0;31mNameError\u001b[0m: name 'board' is not defined"
     ]
    }
   ],
   "source": [
    "board = draw_invaders(board, startrow, endrow, startcol, endcol)\n",
    "print_board(board)"
   ]
  },
  {
   "cell_type": "code",
   "execution_count": 42,
   "metadata": {},
   "outputs": [],
   "source": [
    "def move_invaders_right(startcol, endcol):\n",
    "    board = init_board()\n",
    "    startcol += 1\n",
    "    endcol += 1\n",
    "    return board, startcol, endcol\n",
    "\n",
    "board, startcol, endcol = move_invaders_right(startcol, endcol)"
   ]
  },
  {
   "cell_type": "markdown",
   "metadata": {},
   "source": [
    "Now run `draw_invaders()` above"
   ]
  },
  {
   "cell_type": "code",
   "execution_count": 44,
   "metadata": {},
   "outputs": [],
   "source": [
    "def move_invaders_down(startrow, endrow):\n",
    "    board = init_board()\n",
    "    startrow += 1\n",
    "    endrow += 1\n",
    "    return board, startrow, endrow\n",
    "\n",
    "board, startrow, endrow = move_invaders_down(startrow, endrow)"
   ]
  },
  {
   "cell_type": "markdown",
   "metadata": {},
   "source": [
    "Now run `draw_invaders()` above"
   ]
  },
  {
   "cell_type": "code",
   "execution_count": 46,
   "metadata": {},
   "outputs": [],
   "source": [
    "def move_invaders_left(startcol, endcol):\n",
    "    board = init_board()\n",
    "    startcol -= 1\n",
    "    endcol -= 1\n",
    "    return board, startcol, endcol\n",
    "\n",
    "board, startcol, endcol = move_invaders_left(startcol, endcol)"
   ]
  },
  {
   "cell_type": "markdown",
   "metadata": {},
   "source": [
    "Don't need a move up obviously... "
   ]
  },
  {
   "cell_type": "code",
   "execution_count": null,
   "metadata": {},
   "outputs": [],
   "source": [
    "player_img = pygame.image.load(\"defender.png\")\n",
    "screen.blit(player_img, (player_x, 250))"
   ]
  },
  {
   "cell_type": "code",
   "execution_count": null,
   "metadata": {},
   "outputs": [],
   "source": [
    "player_img = pygame.transform.scale(player_img, (35, 30))"
   ]
  },
  {
   "cell_type": "code",
   "execution_count": 3,
   "metadata": {},
   "outputs": [
    {
     "ename": "SystemExit",
     "evalue": "",
     "output_type": "error",
     "traceback": [
      "An exception has occurred, use %tb to see the full traceback.\n",
      "\u001b[0;31mSystemExit\u001b[0m\n"
     ]
    }
   ],
   "source": [
    "%reset -f\n",
    "import pygame \n",
    "import sys\n",
    "pygame.init()\n",
    "\n",
    "screen = pygame.display.set_mode([500,500])\n",
    "\n",
    "player_x = 250\n",
    "player_img = pygame.image.load(\"defender.png\") #load in the image\n",
    "\n",
    "invader_startrow = 100\n",
    "invader_endrow = 300\n",
    "invader_startcol = 100\n",
    "invader_endcol = 400 \n",
    "\n",
    "invader_img = pygame.image.load(\"invader1.png\")\n",
    "invader_img = pygame.transform.scale(invader_img, (30, 30))\n",
    "\n",
    "player_img = pygame.transform.scale(player_img, (35, 30)) # change the scale\n",
    "\n",
    "\n",
    "def draw_invaders():\n",
    "    for row in range(invader_startrow, invader_endrow, 30): # intervals of 30 \n",
    "        for col in range(invader_startcol, invader_endcol, 30):\n",
    "            screen.blit(invader_img, (col, row))\n",
    "\n",
    "running = True\n",
    "while running: \n",
    "    for event in pygame.event.get():\n",
    "        if event.type == pygame.QUIT:\n",
    "            running = False\n",
    "            pygame.display.quit()\n",
    "            pygame.quit()\n",
    "            sys.exit()\n",
    "        elif event.type == pygame.KEYDOWN:\n",
    "            if event.key == pygame.K_LEFT:\n",
    "                player_x -= 5\n",
    "            elif event.key == pygame.K_RIGHT:\n",
    "                player_x += 5\n",
    "            elif event.key == pygame.K_ESCAPE or event.key == pygame.WINDOWCLOSE: # TO QUIT\n",
    "                running = False\n",
    "                #pygame.display.quit()\n",
    "                #pygame.QUIT()\n",
    "                #sys.exit()\n",
    "    \n",
    "    screen.fill([0,0,0]) # black background\n",
    "    \n",
    "    draw_invaders()\n",
    "    screen.blit(player_img, (player_x, 450)) # draw player\n",
    "    \n",
    "    pygame.display.flip()\n",
    "    \n",
    "print(\"in loop: \",running)\n",
    "#pygame.display.quit()\n",
    "#pygame.quit()\n",
    "sys.exit(0)"
   ]
  },
  {
   "cell_type": "code",
   "execution_count": null,
   "metadata": {},
   "outputs": [],
   "source": [
    "pygame.transform.scale(img, (l, h))"
   ]
  },
  {
   "cell_type": "code",
   "execution_count": null,
   "metadata": {},
   "outputs": [],
   "source": [
    "player = Player((SCREEN_X/2)-(35/2), (SCREEN_Y - 100), \n",
    "                pygame.image.load(\"img/defender.png\"), 35, 30)\n"
   ]
  },
  {
   "cell_type": "code",
   "execution_count": null,
   "metadata": {},
   "outputs": [],
   "source": [
    "    #1.0 draw the png on the screen!\n",
    "    #screen.blit(player.img, (player.x, player.y))\n",
    "    \n",
    "    #1.1 draw one of the invaders\n",
    "    #screen.blit(invader.img, (invader.x, invader.y))"
   ]
  },
  {
   "cell_type": "code",
   "execution_count": null,
   "metadata": {},
   "outputs": [],
   "source": []
  },
  {
   "cell_type": "markdown",
   "metadata": {},
   "source": [
    "## 1.1 Installing PyGame\n",
    "\n",
    "`pip install pygame`\n",
    "\n",
    "or \n",
    "\n",
    "`python3 -m pip install -U pygame --user`"
   ]
  },
  {
   "cell_type": "markdown",
   "metadata": {},
   "source": [
    "#### This Jupyter Notebook contains exercises for you to extend your introduction to the basics with Python libraries and packages. Attempt the following exercises, which slowly build in complexity. If you get stuck, check back to the <a href = \"https://www.youtube.com/watch?v=HGZy4aLKGmI\"> Python lecture recording on PyGame here</a> or view the <a href = \"https://realpython.com/pygame-a-primer/\">Real Python resource</a> on how to get started with PyGame."
   ]
  },
  {
   "cell_type": "markdown",
   "metadata": {},
   "source": [
    "### Exercise 1: \n",
    "\n",
    "Install PyGame and load the example games\n",
    "\n",
    "`pip install pygame`"
   ]
  },
  {
   "cell_type": "markdown",
   "metadata": {},
   "source": [
    "`python -m pygame.examples.aliens`"
   ]
  },
  {
   "cell_type": "markdown",
   "metadata": {},
   "source": [
    "### Exercise 2: \n",
    "\n",
    "Explore the aliens example code, as this will help when it comes to creating your own game!\n",
    "\n",
    "![pygame_aliens](https://encrypted-tbn0.gstatic.com/images?q=tbn:ANd9GcS59BrP8wTsdLjXxnkq4ZXnVYlUFDIqaaf8Ng&s)"
   ]
  },
  {
   "cell_type": "code",
   "execution_count": 1,
   "metadata": {},
   "outputs": [
    {
     "data": {
      "text/plain": [
       "<module 'pygame.examples.aliens' from '/Users/nick/Library/Python/3.9/lib/python/site-packages/pygame/examples/aliens.py'>"
      ]
     },
     "execution_count": 1,
     "metadata": {},
     "output_type": "execute_result"
    }
   ],
   "source": [
    "import pygame.examples.aliens as aliens \n",
    "aliens"
   ]
  },
  {
   "cell_type": "markdown",
   "metadata": {},
   "source": [
    "Either locate the py file at the file path above, or import below."
   ]
  },
  {
   "cell_type": "code",
   "execution_count": 5,
   "metadata": {},
   "outputs": [],
   "source": [
    "from pygame.examples.aliens import Alien, Bomb, SCORE\n"
   ]
  },
  {
   "cell_type": "markdown",
   "metadata": {},
   "source": [
    "Code snippets from the game below: "
   ]
  },
  {
   "cell_type": "code",
   "execution_count": null,
   "metadata": {},
   "outputs": [],
   "source": [
    "pygame.sprite.groupcollide()"
   ]
  },
  {
   "cell_type": "code",
   "execution_count": null,
   "metadata": {},
   "outputs": [],
   "source": [
    "        # See if shots hit the aliens.\n",
    "        for alien in pg.sprite.groupcollide(aliens, shots, 1, 1).keys():\n",
    "            if pg.mixer and boom_sound is not None:\n",
    "                boom_sound.play()\n",
    "            Explosion(alien, all)\n",
    "            SCORE = SCORE + 1"
   ]
  },
  {
   "cell_type": "code",
   "execution_count": null,
   "metadata": {},
   "outputs": [],
   "source": [
    "class Shot(pg.sprite.Sprite):\n",
    "    \"\"\"a bullet the Player sprite fires.\"\"\"\n",
    "\n",
    "    speed = -11\n",
    "    images: List[pg.Surface] = []\n",
    "\n",
    "    def __init__(self, pos, *groups):\n",
    "        pg.sprite.Sprite.__init__(self, *groups)\n",
    "        self.image = self.images[0]\n",
    "        self.rect = self.image.get_rect(midbottom=pos)\n",
    "\n",
    "    def update(self):\n",
    "        \"\"\"called every time around the game loop.\n",
    "\n",
    "        Every tick we move the shot upwards.\n",
    "        \"\"\"\n",
    "        self.rect.move_ip(0, self.speed)\n",
    "        if self.rect.top <= 0:\n",
    "            self.kill()"
   ]
  },
  {
   "cell_type": "code",
   "execution_count": null,
   "metadata": {},
   "outputs": [],
   "source": [
    "class Bomb(pg.sprite.Sprite):\n",
    "    \"\"\"A bomb the aliens drop.\"\"\"\n",
    "\n",
    "    speed = 9\n",
    "    images: List[pg.Surface] = []\n",
    "\n",
    "    def __init__(self, alien, explosion_group, *groups):\n",
    "        pg.sprite.Sprite.__init__(self, *groups)\n",
    "        self.image = self.images[0]\n",
    "        self.rect = self.image.get_rect(midbottom=alien.rect.move(0, 5).midbottom)\n",
    "        self.explosion_group = explosion_group\n",
    "\n",
    "    def update(self):\n",
    "        \"\"\"called every time around the game loop.\n",
    "\n",
    "        Every frame we move the sprite 'rect' down.\n",
    "        When it reaches the bottom we:\n",
    "\n",
    "        - make an explosion.\n",
    "        - remove the Bomb.\n",
    "        \"\"\"\n",
    "        self.rect.move_ip(0, self.speed)\n",
    "        if self.rect.bottom >= 470:\n",
    "            Explosion(self, self.explosion_group)\n",
    "            self.kill()"
   ]
  },
  {
   "cell_type": "markdown",
   "metadata": {},
   "source": [
    "## Further Documentation on PyGame Examples: \n",
    "\n",
    "https://www.pygame.org/docs/ref/examples.html"
   ]
  }
 ],
 "metadata": {
  "kernelspec": {
   "display_name": "Python 3",
   "language": "python",
   "name": "python3"
  },
  "language_info": {
   "codemirror_mode": {
    "name": "ipython",
    "version": 3
   },
   "file_extension": ".py",
   "mimetype": "text/x-python",
   "name": "python",
   "nbconvert_exporter": "python",
   "pygments_lexer": "ipython3",
   "version": "3.9.6"
  }
 },
 "nbformat": 4,
 "nbformat_minor": 0
}
