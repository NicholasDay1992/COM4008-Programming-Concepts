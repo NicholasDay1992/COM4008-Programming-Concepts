{
 "cells": [
  {
   "cell_type": "markdown",
   "metadata": {},
   "source": [
    "# 10 PyGame I\n"
   ]
  },
  {
   "cell_type": "markdown",
   "metadata": {},
   "source": [
    "## Plan for the Lecture\n",
    "\n",
    "1. Recap on Requirements for Space Invaders! \n",
    "\n",
    "2. Classes\n",
    "\n",
    "3. Collisions\n",
    "\n",
    "4. Testing via PyTest"
   ]
  },
  {
   "cell_type": "markdown",
   "metadata": {},
   "source": [
    "<img src=\"https://res.cloudinary.com/cook-becker/image/fetch/q_auto:best,f_auto,w_1200,h_630,c_fill_pad,g_auto,b_auto/https://candb.com/site/candb/images/artwork/MarqueeHome.jpg\" alt=\"space_invaders\" width=\"850\"> "
   ]
  },
  {
   "cell_type": "markdown",
   "metadata": {},
   "source": [
    "## 1.0 What are the characteristics/patterns of Space Invaders?\n",
    "\n",
    "![space_invaders](https://media1.tenor.com/m/V4N-smXOuwUAAAAd/space-invaders-arcade.gif)\n"
   ]
  },
  {
   "cell_type": "markdown",
   "metadata": {},
   "source": [
    "## 1.1 Key characteristics of the game\n",
    "\n",
    "* Main shooter moves left and right \n",
    "\n",
    "* The array of invaders move together, row by row when the left-most or right-most invader reaches the edge of the screen.\n",
    "\n",
    "* The invaders array speed of movement increases as the game levels progress.\n",
    "\n",
    "* The barriers crumble as they are shot. \n",
    "\n",
    "* UFO boss appears in intervals - bonus points if shot."
   ]
  },
  {
   "cell_type": "markdown",
   "metadata": {},
   "source": [
    "## 2.0 Let's design a solution to these requirements \n",
    "\n",
    "1. Main shooter moves left and right ✅\n",
    "\n",
    "    * Move coordinate (x) when respond to left and right key press ✅\n",
    "\n",
    "2. The array of invaders ✅\n",
    "\n",
    "    * Drawing the array of invaders ✅\n",
    "    * Moving the array of invaders -> edge detection (left/right most) ✅\n",
    "\n",
    "3. How do we maintain the left and right-most invaders ✅\n",
    "\n",
    "    * This could be a variable keeping track of array positions ✅\n",
    "\n",
    "4. Collision detection - edges / shooting each other / barriers \n",
    "\n",
    "    * Fire upon key press \n",
    "    * Enemies fire randomly? \n",
    "    * Coordinates overlapping? \n",
    "\n",
    "5. Increasing speed of movement \n",
    "\n",
    "    * Variable that is multiplied upon intervals\n",
    "\n",
    "6. Crumbling barriers \n",
    "\n",
    "    * As barriers are hit, parts need to disappear - build as a tiny 2D matrix of cells?"
   ]
  },
  {
   "cell_type": "markdown",
   "metadata": {},
   "source": [
    "## 2.1 Our design for Requirement 1 - moving the shooter ✅\n",
    "\n",
    "![defender](https://encrypted-tbn0.gstatic.com/images?q=tbn:ANd9GcTzmLFyzPX8Oa_MqTgDhf-VkV_PCfSiYQOzybo_h5-L4EUo4PPAV3ozgBqWJ3DGljQQdxU&usqp=CAU)\n"
   ]
  },
  {
   "cell_type": "code",
   "execution_count": 5,
   "metadata": {},
   "outputs": [
    {
     "ename": "SystemExit",
     "evalue": "",
     "output_type": "error",
     "traceback": [
      "An exception has occurred, use %tb to see the full traceback.\n",
      "\u001b[0;31mSystemExit\u001b[0m\n"
     ]
    }
   ],
   "source": [
    "%reset -f\n",
    "import pygame \n",
    "import sys\n",
    "pygame.init()\n",
    "\n",
    "screen = pygame.display.set_mode([500,500])\n",
    "\n",
    "player_x = 250\n",
    "player_img = pygame.image.load(\"defender.png\") #load in the image\n",
    "\n",
    "player_img = pygame.transform.scale(player_img, (35, 30)) # change the scale\n",
    "\n",
    "running = True\n",
    "while running: \n",
    "    for event in pygame.event.get():\n",
    "        if event.type == pygame.QUIT:\n",
    "            running = False\n",
    "            pygame.display.quit()\n",
    "            pygame.quit()\n",
    "            sys.exit()\n",
    "        elif event.type == pygame.KEYDOWN:\n",
    "            if event.key == pygame.K_LEFT:\n",
    "                player_x -= 5\n",
    "            elif event.key == pygame.K_RIGHT:\n",
    "                player_x += 5\n",
    "            elif event.key == pygame.K_ESCAPE or event.key == pygame.WINDOWCLOSE: # TO QUIT\n",
    "                running = False\n",
    "                #pygame.display.quit()\n",
    "                #pygame.QUIT()\n",
    "                #sys.exit()\n",
    "    \n",
    "    screen.fill([0,0,0]) # black background\n",
    "    \n",
    "    #pygame.draw.circle(screen,(0,255,0), [player_x, 250], 75) ## (0, 255, 0) = green\n",
    "    \n",
    "    screen.blit(player_img, (player_x, 450))\n",
    "    \n",
    "    pygame.display.flip()\n",
    "    \n",
    "print(\"in loop: \",running)\n",
    "#pygame.display.quit()\n",
    "#pygame.quit()\n",
    "sys.exit(0)"
   ]
  },
  {
   "cell_type": "markdown",
   "metadata": {},
   "source": [
    "## 2.2 Our design for Requirement 2 - Moving the array of Invaders! ✅\n",
    "\n",
    "![invaders_gif](https://blogger.googleusercontent.com/img/b/R29vZ2xl/AVvXsEgiLhonVydOMBfi3msDCS5uYBROaq_1uG1_01hIlGs2USptGPbEG83Oc02cy5nTTRu0SEGyjCWTteDnZDYGwVvYQO5QkMX887XKNNEcu88sQNdf1XXt0TeO-e3W_2nERfptoBamMQP58N4j/s320/Path2.gif)"
   ]
  },
  {
   "cell_type": "markdown",
   "metadata": {},
   "source": [
    "### Remember how we modelled this array of invaders in Numpy? \n",
    "\n",
    "* reset the board (remove the existing array positons)\n",
    "\n",
    "* codify the move down by having a `startcol` and `endcol` variable\n",
    "\n",
    "* redraw in new position (with updated `startcol` and `endcol`)"
   ]
  },
  {
   "cell_type": "code",
   "execution_count": 5,
   "metadata": {},
   "outputs": [],
   "source": [
    "import numpy as np"
   ]
  },
  {
   "cell_type": "code",
   "execution_count": 6,
   "metadata": {},
   "outputs": [],
   "source": [
    "def draw_invaders(board, startrow, endrow, startcol, endcol):\n",
    "    for row in range(startrow, endrow):\n",
    "        for col in range(startcol, endcol):\n",
    "            board[row, col] = 'O'\n",
    "    return board"
   ]
  },
  {
   "cell_type": "code",
   "execution_count": 7,
   "metadata": {},
   "outputs": [],
   "source": [
    "def init_board():\n",
    "    board = np.full(fill_value= \"_\", shape=(9,9), dtype=np.str_)\n",
    "    return board"
   ]
  },
  {
   "cell_type": "code",
   "execution_count": 24,
   "metadata": {},
   "outputs": [],
   "source": [
    "def print_board(board):\n",
    "    print(board)"
   ]
  },
  {
   "cell_type": "code",
   "execution_count": 25,
   "metadata": {},
   "outputs": [
    {
     "name": "stdout",
     "output_type": "stream",
     "text": [
      "[['_' '_' '_' '_' '_' '_' '_' '_' '_']\n",
      " ['_' '_' '_' '_' '_' '_' '_' '_' '_']\n",
      " ['_' '_' '_' '_' '_' '_' '_' '_' '_']\n",
      " ['_' '_' '_' '_' '_' '_' '_' '_' '_']\n",
      " ['_' '_' '_' '_' '_' '_' '_' '_' '_']\n",
      " ['_' '_' '_' '_' '_' '_' '_' '_' '_']\n",
      " ['_' '_' '_' '_' '_' '_' '_' '_' '_']\n",
      " ['_' '_' '_' '_' '_' '_' '_' '_' '_']\n",
      " ['_' '_' '_' '_' '_' '_' '_' '_' '_']]\n"
     ]
    }
   ],
   "source": [
    "board = init_board()\n",
    "print_board(board)"
   ]
  },
  {
   "cell_type": "markdown",
   "metadata": {},
   "source": [
    "### Starting positions for our array of invaders"
   ]
  },
  {
   "cell_type": "code",
   "execution_count": 26,
   "metadata": {},
   "outputs": [],
   "source": [
    "startrow = 1\n",
    "endrow = 5\n",
    "\n",
    "startcol = 1\n",
    "endcol = len(board) - 1"
   ]
  },
  {
   "cell_type": "code",
   "execution_count": 27,
   "metadata": {},
   "outputs": [
    {
     "name": "stdout",
     "output_type": "stream",
     "text": [
      "[['_' '_' '_' '_' '_' '_' '_' '_' '_']\n",
      " ['_' 'O' 'O' 'O' 'O' 'O' 'O' 'O' '_']\n",
      " ['_' 'O' 'O' 'O' 'O' 'O' 'O' 'O' '_']\n",
      " ['_' 'O' 'O' 'O' 'O' 'O' 'O' 'O' '_']\n",
      " ['_' 'O' 'O' 'O' 'O' 'O' 'O' 'O' '_']\n",
      " ['_' '_' '_' '_' '_' '_' '_' '_' '_']\n",
      " ['_' '_' '_' '_' '_' '_' '_' '_' '_']\n",
      " ['_' '_' '_' '_' '_' '_' '_' '_' '_']\n",
      " ['_' '_' '_' '_' '_' '_' '_' '_' '_']]\n"
     ]
    }
   ],
   "source": [
    "board = draw_invaders(board, startrow, endrow, startcol, endcol)\n",
    "print_board(board)"
   ]
  },
  {
   "cell_type": "code",
   "execution_count": 22,
   "metadata": {},
   "outputs": [],
   "source": [
    "def move_invaders_right(startcol, endcol):\n",
    "    board = init_board()\n",
    "    startcol += 1\n",
    "    endcol += 1\n",
    "    return board, startcol, endcol\n",
    "\n",
    "board, startcol, endcol = move_invaders_right(startcol, endcol)"
   ]
  },
  {
   "cell_type": "markdown",
   "metadata": {},
   "source": [
    "Now run `draw_invaders()` above"
   ]
  },
  {
   "cell_type": "code",
   "execution_count": 20,
   "metadata": {},
   "outputs": [],
   "source": [
    "def move_invaders_down(startrow, endrow):\n",
    "    board = init_board()\n",
    "    startrow += 1\n",
    "    endrow += 1\n",
    "    return board, startrow, endrow\n",
    "\n",
    "board, startrow, endrow = move_invaders_down(startrow, endrow)"
   ]
  },
  {
   "cell_type": "markdown",
   "metadata": {},
   "source": [
    "Now run `draw_invaders()` above"
   ]
  },
  {
   "cell_type": "code",
   "execution_count": 18,
   "metadata": {},
   "outputs": [],
   "source": [
    "def move_invaders_left(startcol, endcol):\n",
    "    board = init_board()\n",
    "    startcol -= 1\n",
    "    endcol -= 1\n",
    "    return board, startcol, endcol\n",
    "\n",
    "board, startcol, endcol = move_invaders_left(startcol, endcol)"
   ]
  },
  {
   "cell_type": "markdown",
   "metadata": {},
   "source": [
    "Don't need a move up obviously... "
   ]
  },
  {
   "cell_type": "code",
   "execution_count": null,
   "metadata": {},
   "outputs": [],
   "source": [
    "player_img = pygame.image.load(\"defender.png\")\n",
    "screen.blit(player_img, (player_x, 250))"
   ]
  },
  {
   "cell_type": "code",
   "execution_count": null,
   "metadata": {},
   "outputs": [],
   "source": [
    "player_img = pygame.transform.scale(player_img, (35, 30))"
   ]
  },
  {
   "cell_type": "markdown",
   "metadata": {},
   "source": [
    "![invaders_spacing](https://www.xtronical.com/wp-content/uploads/2017/05/SpaceInvaderSpacing.png)"
   ]
  },
  {
   "cell_type": "markdown",
   "metadata": {},
   "source": [
    "## Let's start by drawing the array in PyGame"
   ]
  },
  {
   "cell_type": "code",
   "execution_count": null,
   "metadata": {},
   "outputs": [
    {
     "ename": "KeyboardInterrupt",
     "evalue": "",
     "output_type": "error",
     "traceback": [
      "\u001b[0;31m---------------------------------------------------------------------------\u001b[0m",
      "\u001b[0;31mKeyboardInterrupt\u001b[0m                         Traceback (most recent call last)",
      "Cell \u001b[0;32mIn [94], line 51\u001b[0m\n\u001b[1;32m     48\u001b[0m     draw_invaders()\n\u001b[1;32m     49\u001b[0m     screen\u001b[38;5;241m.\u001b[39mblit(player_img, (player_x, \u001b[38;5;241m450\u001b[39m)) \u001b[38;5;66;03m# draw player\u001b[39;00m\n\u001b[0;32m---> 51\u001b[0m     pygame\u001b[38;5;241m.\u001b[39mdisplay\u001b[38;5;241m.\u001b[39mflip()\n\u001b[1;32m     53\u001b[0m \u001b[38;5;28mprint\u001b[39m(\u001b[38;5;124m\"\u001b[39m\u001b[38;5;124min loop: \u001b[39m\u001b[38;5;124m\"\u001b[39m,running)\n\u001b[1;32m     54\u001b[0m \u001b[38;5;66;03m#pygame.display.quit()\u001b[39;00m\n\u001b[1;32m     55\u001b[0m \u001b[38;5;66;03m#pygame.quit()\u001b[39;00m\n",
      "\u001b[0;31mKeyboardInterrupt\u001b[0m: "
     ]
    }
   ],
   "source": [
    "%reset -f\n",
    "import pygame \n",
    "import sys\n",
    "pygame.init()\n",
    "\n",
    "screen = pygame.display.set_mode([500,500])\n",
    "\n",
    "player_x = 250\n",
    "player_img = pygame.image.load(\"defender.png\") #load in the image\n",
    "\n",
    "invader_startrow = 100\n",
    "invader_endrow = 300\n",
    "invader_startcol = 100\n",
    "invader_endcol = 400 \n",
    "\n",
    "invader_img = pygame.image.load(\"invader1.png\")\n",
    "invader_img = pygame.transform.scale(invader_img, (30, 30))\n",
    "\n",
    "player_img = pygame.transform.scale(player_img, (35, 30)) # change the scale\n",
    "\n",
    "\n",
    "def draw_invaders():\n",
    "    for row in range(invader_startrow, invader_endrow, 30): # intervals of 30 \n",
    "        for col in range(invader_startcol, invader_endcol, 30):\n",
    "            screen.blit(invader_img, (col, row))\n",
    "\n",
    "running = True\n",
    "while running: \n",
    "    for event in pygame.event.get():\n",
    "        if event.type == pygame.QUIT:\n",
    "            running = False\n",
    "            pygame.display.quit()\n",
    "            pygame.quit()\n",
    "            sys.exit()\n",
    "        elif event.type == pygame.KEYDOWN:\n",
    "            if event.key == pygame.K_LEFT:\n",
    "                player_x -= 5\n",
    "            elif event.key == pygame.K_RIGHT:\n",
    "                player_x += 5\n",
    "            elif event.key == pygame.K_ESCAPE or event.key == pygame.WINDOWCLOSE: # TO QUIT\n",
    "                running = False\n",
    "                #pygame.display.quit()\n",
    "                #pygame.QUIT()\n",
    "                #sys.exit()\n",
    "    \n",
    "    screen.fill([0,0,0]) # black background\n",
    "    \n",
    "    draw_invaders()\n",
    "    screen.blit(player_img, (player_x, 450)) # draw player\n",
    "    \n",
    "    pygame.display.flip()\n",
    "    \n",
    "#pygame.display.quit()\n",
    "#pygame.quit()\n",
    "sys.exit(0)"
   ]
  },
  {
   "cell_type": "markdown",
   "metadata": {},
   "source": [
    "## Move the Invaders array down in alternate directions"
   ]
  },
  {
   "cell_type": "code",
   "execution_count": null,
   "metadata": {},
   "outputs": [
    {
     "name": "stdout",
     "output_type": "stream",
     "text": [
      "pygame 2.5.2 (SDL 2.28.3, Python 3.9.6)\n",
      "Hello from the pygame community. https://www.pygame.org/contribute.html\n"
     ]
    },
    {
     "name": "stderr",
     "output_type": "stream",
     "text": [
      "2024-11-11 16:43:32.851 Python[89567:24979851] +[IMKClient subclass]: chose IMKClient_Legacy\n",
      "2024-11-11 16:43:32.851 Python[89567:24979851] +[IMKInputSession subclass]: chose IMKInputSession_Legacy\n"
     ]
    },
    {
     "ename": "SystemExit",
     "evalue": "",
     "output_type": "error",
     "traceback": [
      "An exception has occurred, use %tb to see the full traceback.\n",
      "\u001b[0;31mSystemExit\u001b[0m\n"
     ]
    },
    {
     "name": "stderr",
     "output_type": "stream",
     "text": [
      "/Users/nick/Library/Python/3.9/lib/python/site-packages/IPython/core/interactiveshell.py:3386: UserWarning: To exit: use 'exit', 'quit', or Ctrl-D.\n",
      "  warn(\"To exit: use 'exit', 'quit', or Ctrl-D.\", stacklevel=1)\n"
     ]
    }
   ],
   "source": [
    "%reset -f\n",
    "import pygame \n",
    "import sys\n",
    "pygame.init()\n",
    "\n",
    "SCREEN_HEIGHT = 500\n",
    "SCREEN_WIDTH = 500\n",
    "\n",
    "screen = pygame.display.set_mode([SCREEN_HEIGHT,SCREEN_WIDTH])\n",
    "\n",
    "clock = pygame.time.Clock() # to slow down the speed of movement\n",
    "FPS = 15 # to slow down the speed of movement\n",
    "\n",
    "player_x = 250\n",
    "player_img = pygame.image.load(\"defender.png\") #load in the image\n",
    "\n",
    "invader_startrow = 100\n",
    "invader_endrow = 300\n",
    "invader_startcol = 100\n",
    "invader_endcol = 400 \n",
    "\n",
    "moveRight = True\n",
    "\n",
    "invader_img = pygame.image.load(\"invader1.png\")\n",
    "invader_img = pygame.transform.scale(invader_img, (30, 30))\n",
    "\n",
    "player_img = pygame.transform.scale(player_img, (35, 30)) # change the scale\n",
    "\n",
    "\n",
    "def draw_invaders():\n",
    "    for row in range(invader_startrow, invader_endrow, 30): # intervals of 30 \n",
    "        for col in range(invader_startcol, invader_endcol, 30):\n",
    "            screen.blit(invader_img, (col, row))\n",
    "       \n",
    "\n",
    "     \n",
    "def move_invaders():\n",
    "    global invader_startcol, invader_endcol, invader_startrow, invader_endrow, moveRight\n",
    "    # start moving right \n",
    "    if moveRight == True:\n",
    "        invader_startcol += 2\n",
    "        invader_endcol += 2\n",
    "        edge_hit = False\n",
    "    else: # otherwise move left\n",
    "        invader_startcol -= 2\n",
    "        invader_endcol -= 2\n",
    "        edge_hit = False\n",
    "    \n",
    "    # detect edge of screen\n",
    "    if invader_endcol > SCREEN_WIDTH or invader_startcol < 0:\n",
    "        edge_hit = True\n",
    "        invader_startrow += 20\n",
    "        invader_endrow += 20\n",
    "    \n",
    "    # immediately reset edge_hit to prevent getting stuck! \n",
    "    if edge_hit == True:\n",
    "        edge_hit == False\n",
    "        if moveRight == True:\n",
    "            moveRight = False\n",
    "        else:\n",
    "            moveRight = True\n",
    "    \n",
    "running = True\n",
    "while running: \n",
    "    for event in pygame.event.get():\n",
    "        if event.type == pygame.QUIT:\n",
    "            running = False\n",
    "            pygame.display.quit()\n",
    "            pygame.quit()\n",
    "            sys.exit()\n",
    "        elif event.type == pygame.KEYDOWN:\n",
    "            if event.key == pygame.K_LEFT:\n",
    "                player_x -= 5\n",
    "            elif event.key == pygame.K_RIGHT:\n",
    "                player_x += 5\n",
    "            elif event.key == pygame.K_ESCAPE or event.key == pygame.WINDOWCLOSE: # TO QUIT\n",
    "                running = False\n",
    "                #pygame.display.quit()\n",
    "                #pygame.QUIT()\n",
    "                #sys.exit()\n",
    "    \n",
    "    screen.fill([0,0,0]) # black background\n",
    "    \n",
    "    move_invaders()\n",
    "    \n",
    "    draw_invaders()\n",
    "     \n",
    "    screen.blit(player_img, (player_x, 450)) # draw player\n",
    "    \n",
    "    pygame.display.flip()\n",
    "    \n",
    "    clock.tick(FPS)\n",
    "    \n",
    "#pygame.display.quit()\n",
    "#pygame.quit()\n",
    "sys.exit(0)"
   ]
  },
  {
   "cell_type": "markdown",
   "metadata": {},
   "source": [
    "## Refactoring - Classes? \n",
    "\n",
    "* `Player` class\n",
    "\n",
    "* `Invader` class \n"
   ]
  },
  {
   "cell_type": "code",
   "execution_count": 25,
   "metadata": {},
   "outputs": [],
   "source": [
    "class Player:\n",
    "    def __init__(self, x, y, img, l, h):\n",
    "        self.x = x\n",
    "        self.y = y\n",
    "        self.img = img\n",
    "        self.l = l\n",
    "        self.h = h \n",
    "        self.img = pygame.transform.scale(img, (l, h))\n",
    "        self.rect = pygame.Rect(self.x, self.y, self.l, self.h)"
   ]
  },
  {
   "cell_type": "code",
   "execution_count": 21,
   "metadata": {},
   "outputs": [],
   "source": [
    "class Invader:\n",
    "    def __init__(self, x, y, img, l, h, score = 0):\n",
    "        self.x = x\n",
    "        self.y = y\n",
    "        self.img = img\n",
    "        self.l = l\n",
    "        self.h = h\n",
    "        self.img = pygame.transform.scale(img, (l, h))\n",
    "        self.score = score\n",
    "        self.rect = pygame.Rect(self.x, self.y, self.l, self.h)"
   ]
  },
  {
   "cell_type": "code",
   "execution_count": null,
   "metadata": {},
   "outputs": [],
   "source": [
    "    #1.0 draw the png on the screen!\n",
    "    #screen.blit(player.img, (player.x, player.y))\n",
    "    \n",
    "    #1.1 draw one of the invaders\n",
    "    #screen.blit(invader.img, (invader.x, invader.y))"
   ]
  },
  {
   "cell_type": "markdown",
   "metadata": {},
   "source": [
    "## The Invader types! \n",
    "There are 3 primary types of invaders that recur throughout the franchise, which all have characteristics of aquatic animals and are pixelated: \n",
    "\n",
    "* The <b>Squid</b> (Small Invader) \n",
    "\n",
    "<img src=\"https://static.wikia.nocookie.net/spaceinvaders/images/e/ef/Squid_%28website%29.gif/revision/latest?cb=20231108051012\" alt=\"space_invaders\" width=\"100\"> \n",
    "\n",
    "* The <b>Crab</b> (Medium Invader)\n",
    "\n",
    "<img src=\"https://static.wikia.nocookie.net/spaceinvaders/images/f/f9/Crab_%28website%29.gif/revision/latest?cb=20231108051034\" alt=\"space_invaders\" width=\"100\">\n",
    "\n",
    "* The <b>Octopus</b> (Large Invader). \n",
    "\n",
    "<img src=\"https://static.wikia.nocookie.net/spaceinvaders/images/2/2e/Octopus_%28website%29.gif/revision/latest?cb=20231108051056\" alt=\"space_invaders\" width=\"100\">\n",
    "\n",
    "* They are often accompanied by <b>UFOs</b> that sometimes provide powerups or just a bonus score.\n",
    "\n",
    "<img src=\"https://static.wikia.nocookie.net/spaceinvaders/images/a/ae/Ufo_%28website%29.gif/revision/latest?cb=20231108050950\" alt=\"space_invaders\" width=\"100\">\n",
    "\n",
    "\n",
    "Source: https://spaceinvaders.fandom.com/wiki/Invaders"
   ]
  },
  {
   "cell_type": "code",
   "execution_count": null,
   "metadata": {},
   "outputs": [],
   "source": [
    "class Squid(Invader):\n",
    "    def __init__(self, x, y, img, l, h):\n",
    "        super().__init__(x, y, img, l, h, 30) #30 points for Squid"
   ]
  },
  {
   "cell_type": "code",
   "execution_count": null,
   "metadata": {},
   "outputs": [],
   "source": [
    "player = Player((SCREEN_WIDTH/2)-(35/2), (SCREEN_HEIGHT - 100), pygame.image.load(\"defender.png\"), 35, 30)\n"
   ]
  },
  {
   "cell_type": "code",
   "execution_count": null,
   "metadata": {},
   "outputs": [
    {
     "ename": "SystemExit",
     "evalue": "",
     "output_type": "error",
     "traceback": [
      "An exception has occurred, use %tb to see the full traceback.\n",
      "\u001b[0;31mSystemExit\u001b[0m\n"
     ]
    }
   ],
   "source": [
    "%reset -f\n",
    "import pygame \n",
    "import sys\n",
    "pygame.init()\n",
    "\n",
    "class Player:\n",
    "    def __init__(self, x, y, img, l, h):\n",
    "        self.x = x\n",
    "        self.y = y\n",
    "        self.img = img\n",
    "        self.l = l\n",
    "        self.h = h \n",
    "        self.img = pygame.transform.scale(img, (l, h))\n",
    "        self.rect = pygame.Rect(self.x, self.y, self.l, self.h)\n",
    "\n",
    "\n",
    "class Invader:\n",
    "    def __init__(self, x, y, img, l, h, score = 0):\n",
    "        self.x = x\n",
    "        self.y = y\n",
    "        self.img = img\n",
    "        self.l = l\n",
    "        self.h = h\n",
    "        self.img = pygame.transform.scale(img, (l, h))\n",
    "        self.score = score\n",
    "        self.rect = pygame.Rect(self.x, self.y, self.l, self.h)\n",
    "\n",
    "\n",
    "SCREEN_HEIGHT = 500\n",
    "SCREEN_WIDTH = 500\n",
    "\n",
    "screen = pygame.display.set_mode([SCREEN_HEIGHT,SCREEN_WIDTH])\n",
    "\n",
    "clock = pygame.time.Clock() # to slow down the speed of movement\n",
    "FPS = 15 # to slow down the speed of movement\n",
    "\n",
    "player = Player((SCREEN_WIDTH/2)-(35/2), (SCREEN_HEIGHT - 100), pygame.image.load(\"defender.png\"), 35, 30)\n",
    "\n",
    "#player_x = 250\n",
    "#player_img = pygame.image.load(\"defender.png\") #load in the image\n",
    "\n",
    "invader_startrow = 100\n",
    "invader_endrow = 300\n",
    "invader_startcol = 100\n",
    "invader_endcol = 400 \n",
    "\n",
    "moveRight = True\n",
    "\n",
    "\n",
    "#Invader((invaders_x_left + (j * 30) + 30), current_row, pygame.image.load(\"img/invader1.png\"), 30, 30)\n",
    "\n",
    "#invader_img = pygame.image.load(\"invader1.png\")\n",
    "#invader_img = pygame.transform.scale(invader_img, (30, 30))\n",
    "\n",
    "#player_img = pygame.transform.scale(player_img, (35, 30)) # change the scale\n",
    "\n",
    "\n",
    "def draw_invaders():\n",
    "    for row in range(invader_startrow, invader_endrow, 30): # intervals of 30 \n",
    "        for col in range(invader_startcol, invader_endcol, 30):\n",
    "            #screen.blit(invader_img, (col, row))\n",
    "            inv_obj = Invader(col, row, pygame.image.load(\"invader1.png\"), 30, 30)\n",
    "            screen.blit(inv_obj.img, (col, row))\n",
    "            \n",
    "\n",
    "def move_invaders():\n",
    "    global invader_startcol, invader_endcol, invader_startrow, invader_endrow, moveRight\n",
    "    # start moving right \n",
    "    if moveRight == True:\n",
    "        invader_startcol += 2\n",
    "        invader_endcol += 2\n",
    "        edge_hit = False\n",
    "    else: # otherwise move left\n",
    "        invader_startcol -= 2\n",
    "        invader_endcol -= 2\n",
    "        edge_hit = False\n",
    "    \n",
    "    # detect edge of screen\n",
    "    if invader_endcol > SCREEN_WIDTH or invader_startcol < 0:\n",
    "        edge_hit = True\n",
    "        invader_startrow += 20\n",
    "        invader_endrow += 20\n",
    "    \n",
    "    # immediately reset edge_hit to prevent getting stuck! \n",
    "    if edge_hit == True:\n",
    "        edge_hit == False\n",
    "        if moveRight == True:\n",
    "            moveRight = False\n",
    "        else:\n",
    "            moveRight = True\n",
    "    \n",
    "running = True\n",
    "while running: \n",
    "    for event in pygame.event.get():\n",
    "        if event.type == pygame.QUIT:\n",
    "            running = False\n",
    "            pygame.display.quit()\n",
    "            pygame.quit()\n",
    "            sys.exit()\n",
    "        elif event.type == pygame.KEYDOWN:\n",
    "            if event.key == pygame.K_LEFT:\n",
    "                player.x -= 5\n",
    "            elif event.key == pygame.K_RIGHT:\n",
    "                player.x += 5\n",
    "            elif event.key == pygame.K_ESCAPE or event.key == pygame.WINDOWCLOSE: # TO QUIT\n",
    "                running = False\n",
    "                #pygame.display.quit()\n",
    "                #pygame.QUIT()\n",
    "                #sys.exit()\n",
    "    \n",
    "    screen.fill([0,0,0]) # black background\n",
    "    \n",
    "    move_invaders()\n",
    "    \n",
    "    draw_invaders()\n",
    "     \n",
    "    #screen.blit(player_img, (player_x, 450)) # draw player\n",
    "    screen.blit(player.img, (player.x, player.y))   \n",
    "    \n",
    "    pygame.display.flip()\n",
    "    \n",
    "    clock.tick(FPS)\n",
    "    \n",
    "#pygame.display.quit()\n",
    "#pygame.quit()\n",
    "sys.exit(0)"
   ]
  },
  {
   "cell_type": "markdown",
   "metadata": {},
   "source": [
    "## Collisions \n",
    "\n",
    "* Player shooting at Invader \n",
    "\n",
    "* Invader shooting at Player"
   ]
  },
  {
   "cell_type": "code",
   "execution_count": 77,
   "metadata": {},
   "outputs": [
    {
     "name": "stdout",
     "output_type": "stream",
     "text": [
      "Collision detected between rect1 and rect2!\n"
     ]
    }
   ],
   "source": [
    "import pygame\n",
    "\n",
    "# Define two rectangles\n",
    "rect1 = pygame.Rect(100, 100, 50, 50)  # x, y, width, height\n",
    "rect2 = pygame.Rect(130, 120, 50, 50)\n",
    "\n",
    "# Check for collision\n",
    "if rect1.colliderect(rect2):\n",
    "    print(\"Collision detected between rect1 and rect2!\")"
   ]
  },
  {
   "cell_type": "markdown",
   "metadata": {},
   "source": [
    "## Setting up a simple collision in PyGame"
   ]
  },
  {
   "cell_type": "code",
   "execution_count": 87,
   "metadata": {},
   "outputs": [
    {
     "name": "stdout",
     "output_type": "stream",
     "text": [
      "Collision detected between bullet_rect and invader_rect!\n",
      "Collision detected between bullet_rect and invader_rect!\n",
      "Collision detected between bullet_rect and invader_rect!\n",
      "Collision detected between bullet_rect and invader_rect!\n",
      "Collision detected between bullet_rect and invader_rect!\n",
      "Collision detected between bullet_rect and invader_rect!\n",
      "Collision detected between bullet_rect and invader_rect!\n",
      "Collision detected between bullet_rect and invader_rect!\n",
      "Collision detected between bullet_rect and invader_rect!\n",
      "Collision detected between bullet_rect and invader_rect!\n",
      "Collision detected between bullet_rect and invader_rect!\n",
      "Collision detected between bullet_rect and invader_rect!\n",
      "Collision detected between bullet_rect and invader_rect!\n",
      "Collision detected between bullet_rect and invader_rect!\n",
      "Collision detected between bullet_rect and invader_rect!\n",
      "Collision detected between bullet_rect and invader_rect!\n",
      "Collision detected between bullet_rect and invader_rect!\n",
      "Collision detected between bullet_rect and invader_rect!\n",
      "Collision detected between bullet_rect and invader_rect!\n"
     ]
    },
    {
     "ename": "KeyboardInterrupt",
     "evalue": "",
     "output_type": "error",
     "traceback": [
      "\u001b[0;31m---------------------------------------------------------------------------\u001b[0m",
      "\u001b[0;31mKeyboardInterrupt\u001b[0m                         Traceback (most recent call last)",
      "Cell \u001b[0;32mIn [87], line 55\u001b[0m\n\u001b[1;32m     49\u001b[0m         \u001b[38;5;28mprint\u001b[39m(\u001b[38;5;124m\"\u001b[39m\u001b[38;5;124mCollision detected between bullet_rect and invader_rect!\u001b[39m\u001b[38;5;124m\"\u001b[39m)\n\u001b[1;32m     53\u001b[0m     pygame\u001b[38;5;241m.\u001b[39mdisplay\u001b[38;5;241m.\u001b[39mflip()\n\u001b[0;32m---> 55\u001b[0m     clock\u001b[38;5;241m.\u001b[39mtick(FPS)\n\u001b[1;32m     57\u001b[0m \u001b[38;5;66;03m#pygame.display.quit()\u001b[39;00m\n\u001b[1;32m     58\u001b[0m \u001b[38;5;66;03m#pygame.quit()\u001b[39;00m\n\u001b[1;32m     59\u001b[0m sys\u001b[38;5;241m.\u001b[39mexit(\u001b[38;5;241m0\u001b[39m)\n",
      "\u001b[0;31mKeyboardInterrupt\u001b[0m: "
     ]
    }
   ],
   "source": [
    "%reset -f\n",
    "import pygame \n",
    "import sys\n",
    "pygame.init()\n",
    "\n",
    "SCREEN_HEIGHT = 500\n",
    "SCREEN_WIDTH = 500\n",
    "\n",
    "screen = pygame.display.set_mode([SCREEN_HEIGHT,SCREEN_WIDTH])\n",
    "\n",
    "clock = pygame.time.Clock() # to slow down the speed of movement\n",
    "FPS = 15 # to slow down the speed of movement\n",
    "\n",
    "bullet_x = 250\n",
    "bullet_y = 500\n",
    "\n",
    "invader_x = 200\n",
    "invader_y = 10\n",
    "\n",
    "running = True\n",
    "while running: \n",
    "    for event in pygame.event.get():\n",
    "        if event.type == pygame.QUIT:\n",
    "            running = False\n",
    "            pygame.display.quit()\n",
    "            pygame.quit()\n",
    "            sys.exit()\n",
    "        elif event.type == pygame.KEYDOWN:\n",
    "            if event.key == pygame.K_LEFT:\n",
    "                player.x -= 5\n",
    "            elif event.key == pygame.K_RIGHT:\n",
    "                player.x += 5\n",
    "            elif event.key == pygame.K_SPACE:\n",
    "                ...\n",
    "            elif event.key == pygame.K_ESCAPE or event.key == pygame.WINDOWCLOSE: # TO QUIT\n",
    "                running = False\n",
    "    \n",
    "    screen.fill([0,0,0]) # black background\n",
    "    \n",
    "    bullet_rect = pygame.Rect(bullet_x, bullet_y, 10, 30)\n",
    "    pygame.draw.rect(screen, [0,255,0], bullet_rect)\n",
    "    \n",
    "    bullet_y -= 7\n",
    "\n",
    "    invader_rect = pygame.Rect(invader_x, invader_y, 100, 100)\n",
    "    pygame.draw.rect(screen, [255,0,0], invader_rect)\n",
    "    \n",
    "    if bullet_rect.colliderect(invader_rect):\n",
    "        print(\"Collision detected between bullet_rect and invader_rect!\")\n",
    "        \n",
    "    \n",
    "    \n",
    "    pygame.display.flip()\n",
    "    \n",
    "    clock.tick(FPS)\n",
    "    \n",
    "#pygame.display.quit()\n",
    "#pygame.quit()\n",
    "sys.exit(0)\n"
   ]
  },
  {
   "cell_type": "markdown",
   "metadata": {},
   "source": [
    "## Respond to collisions - let's integrate this code\n",
    "\n",
    "* If we shoot a invader - we want to remove this from the array \n",
    "\n",
    "* We also want to reset the bullet position "
   ]
  },
  {
   "cell_type": "code",
   "execution_count": null,
   "metadata": {},
   "outputs": [
    {
     "name": "stdout",
     "output_type": "stream",
     "text": [
      "Collision detected between bullet_rect and invader_rect!\n",
      "[<__main__.Invader object at 0x13d66b160>]\n"
     ]
    },
    {
     "ename": "KeyboardInterrupt",
     "evalue": "",
     "output_type": "error",
     "traceback": [
      "\u001b[0;31m---------------------------------------------------------------------------\u001b[0m",
      "\u001b[0;31mKeyboardInterrupt\u001b[0m                         Traceback (most recent call last)",
      "Cell \u001b[0;32mIn [104], line 120\u001b[0m\n\u001b[1;32m    115\u001b[0m             bullet\u001b[38;5;241m.\u001b[39my \u001b[38;5;241m=\u001b[39m \u001b[38;5;241m-\u001b[39m\u001b[38;5;241m10\u001b[39m\n\u001b[1;32m    118\u001b[0m     pygame\u001b[38;5;241m.\u001b[39mdisplay\u001b[38;5;241m.\u001b[39mflip()\n\u001b[0;32m--> 120\u001b[0m     clock\u001b[38;5;241m.\u001b[39mtick(FPS)\n\u001b[1;32m    122\u001b[0m \u001b[38;5;66;03m#pygame.display.quit()\u001b[39;00m\n\u001b[1;32m    123\u001b[0m \u001b[38;5;66;03m#pygame.quit()\u001b[39;00m\n\u001b[1;32m    124\u001b[0m sys\u001b[38;5;241m.\u001b[39mexit(\u001b[38;5;241m0\u001b[39m)\n",
      "\u001b[0;31mKeyboardInterrupt\u001b[0m: "
     ]
    }
   ],
   "source": [
    "%reset -f\n",
    "import pygame \n",
    "import sys\n",
    "pygame.init()\n",
    "\n",
    "class Player:\n",
    "    def __init__(self, x, y, img, l, h):\n",
    "        self.x = x\n",
    "        self.y = y\n",
    "        self.img = img\n",
    "        self.l = l\n",
    "        self.h = h \n",
    "        self.img = pygame.transform.scale(img, (l, h))\n",
    "        self.rect = pygame.Rect(self.x, self.y, self.l, self.h)\n",
    "    \n",
    "    def update(self):\n",
    "        self.rect = pygame.Rect(self.x, self.y, self.l, self.h)\n",
    "\n",
    "class Invader:\n",
    "    def __init__(self, x, y, img, l, h, score = 0):\n",
    "        self.x = x\n",
    "        self.y = y\n",
    "        self.img = img\n",
    "        self.l = l\n",
    "        self.h = h\n",
    "        self.img = pygame.transform.scale(img, (l, h))\n",
    "        self.score = score\n",
    "        self.rect = pygame.Rect(self.x, self.y, self.l, self.h)\n",
    "        \n",
    "    def update(self):\n",
    "        self.rect = pygame.Rect(self.x, self.y, self.l, self.h)\n",
    "        \n",
    "class Bullet:\n",
    "    def __init__(self, x, y, w, h, s):\n",
    "        self.x = x\n",
    "        self.y = y\n",
    "        #self.img = img\n",
    "        self.width = w\n",
    "        self.height = h\n",
    "        #self.img = pygame.transform.scale(img, (w, h))\n",
    "        self.speed = s\n",
    "        self.rect = pygame.Rect(self.x, self.y, self.width, self.height)\n",
    "        #pygame.Rect()\n",
    "\n",
    "    def update(self):\n",
    "        self.rect = pygame.Rect(self.x, self.y, self.width, self.height)\n",
    "\n",
    "\n",
    "SCREEN_HEIGHT = 500\n",
    "SCREEN_WIDTH = 500\n",
    "\n",
    "screen = pygame.display.set_mode([SCREEN_HEIGHT,SCREEN_WIDTH])\n",
    "\n",
    "clock = pygame.time.Clock() # to slow down the speed of movement\n",
    "FPS = 15 # to slow down the speed of movement\n",
    "\n",
    "player = Player((SCREEN_WIDTH/2)-(35/2), (SCREEN_HEIGHT - 100), pygame.image.load(\"defender.png\"), 35, 30)\n",
    "\n",
    "#player_x = 250\n",
    "#player_img = pygame.image.load(\"defender.png\") #load in the image\n",
    "\n",
    "invader = Invader(250, 100, pygame.image.load(\"invader1.png\"), 30, 30)\n",
    "invaders = []\n",
    "invaders.append(invader)\n",
    "\n",
    "moveRight = True\n",
    "fired = False\n",
    "collide = False\n",
    "\n",
    "bullet = Bullet(player.x, player.y, 10, 20, 10)\n",
    "bullets = []\n",
    "\n",
    "running = True\n",
    "while running: \n",
    "    for event in pygame.event.get():\n",
    "        if event.type == pygame.QUIT:\n",
    "            running = False\n",
    "            pygame.display.quit()\n",
    "            pygame.quit()\n",
    "            sys.exit()\n",
    "        elif event.type == pygame.KEYDOWN:\n",
    "            if event.key == pygame.K_LEFT:\n",
    "                player.x -= 5\n",
    "            elif event.key == pygame.K_RIGHT:\n",
    "                player.x += 5\n",
    "            elif event.key == pygame.K_SPACE:\n",
    "                fired = True\n",
    "                bullet.x = player.x + 15\n",
    "                bullet.y = player.y\n",
    "            elif event.key == pygame.K_ESCAPE or event.key == pygame.WINDOWCLOSE: # TO QUIT\n",
    "                running = False\n",
    "    \n",
    "    screen.fill([0,0,0]) # black background\n",
    "    \n",
    "    screen.blit(player.img, (player.x, player.y))\n",
    "    \n",
    "    if invaders != None: \n",
    "        for index in range(len(invaders)):\n",
    "            screen.blit(invaders[index].img, (invaders[index].x, invaders[index].y))\n",
    "    invader.update()   \n",
    "    \n",
    "    if fired == True:\n",
    "        pygame.draw.rect(screen, [0,255,0], bullet.rect)\n",
    "        bullet.y -= bullet.speed\n",
    "        bullet.update()\n",
    "        if bullet.y < 0:\n",
    "            fired = False # for reset\n",
    "        \n",
    "        if bullet.rect.colliderect(invader.rect) and collide == False:\n",
    "            invaders.remove(invader)\n",
    "            collide = True\n",
    "            bullet.x = -10\n",
    "            bullet.y = -10\n",
    "            \n",
    "\n",
    "    pygame.display.flip()\n",
    "    \n",
    "    clock.tick(FPS)\n",
    "    \n",
    "#pygame.display.quit()\n",
    "#pygame.quit()\n",
    "sys.exit(0)"
   ]
  },
  {
   "cell_type": "markdown",
   "metadata": {},
   "source": [
    "## What about our array of invaders? \n",
    "\n",
    "* To map the collisions to our array, we'll have to repeat this process.\n",
    "\n",
    "* Therefore, let's bring back our draw_invaders array! "
   ]
  },
  {
   "cell_type": "code",
   "execution_count": null,
   "metadata": {},
   "outputs": [
    {
     "ename": "NameError",
     "evalue": "name 'draw_invaders' is not defined",
     "output_type": "error",
     "traceback": [
      "\u001b[0;31m---------------------------------------------------------------------------\u001b[0m",
      "\u001b[0;31mNameError\u001b[0m                                 Traceback (most recent call last)",
      "Cell \u001b[0;32mIn [122], line 115\u001b[0m\n\u001b[1;32m    109\u001b[0m screen\u001b[38;5;241m.\u001b[39mblit(player\u001b[38;5;241m.\u001b[39mimg, (player\u001b[38;5;241m.\u001b[39mx, player\u001b[38;5;241m.\u001b[39my))\n\u001b[1;32m    111\u001b[0m \u001b[38;5;66;03m#if invaders != None: \u001b[39;00m\n\u001b[1;32m    112\u001b[0m \u001b[38;5;66;03m#    for index in range(len(invaders)):\u001b[39;00m\n\u001b[1;32m    113\u001b[0m \u001b[38;5;66;03m#        screen.blit(invaders[index].img, (invaders[index].x, invaders[index].y))\u001b[39;00m\n\u001b[0;32m--> 115\u001b[0m draw_invaders()\n\u001b[1;32m    116\u001b[0m \u001b[38;5;66;03m#invaders[:].update()   \u001b[39;00m\n\u001b[1;32m    118\u001b[0m \u001b[38;5;28;01mif\u001b[39;00m fired \u001b[38;5;241m==\u001b[39m \u001b[38;5;28;01mTrue\u001b[39;00m:\n",
      "\u001b[0;31mNameError\u001b[0m: name 'draw_invaders' is not defined"
     ]
    }
   ],
   "source": [
    "%reset -f\n",
    "import pygame \n",
    "import sys\n",
    "pygame.init()\n",
    "\n",
    "class Player:\n",
    "    def __init__(self, x, y, img, l, h):\n",
    "        self.x = x\n",
    "        self.y = y\n",
    "        self.img = img\n",
    "        self.l = l\n",
    "        self.h = h \n",
    "        self.img = pygame.transform.scale(img, (l, h))\n",
    "        self.rect = pygame.Rect(self.x, self.y, self.l, self.h)\n",
    "    \n",
    "    def update(self):\n",
    "        self.rect = pygame.Rect(self.x, self.y, self.l, self.h)\n",
    "\n",
    "class Invader:\n",
    "    def __init__(self, x, y, img, l, h, score = 0):\n",
    "        self.x = x\n",
    "        self.y = y\n",
    "        self.img = img\n",
    "        self.l = l\n",
    "        self.h = h\n",
    "        self.img = pygame.transform.scale(img, (l, h))\n",
    "        self.score = score\n",
    "        self.rect = pygame.Rect(self.x, self.y, self.l, self.h)\n",
    "        \n",
    "    def update(self):\n",
    "        self.rect = pygame.Rect(self.x, self.y, self.l, self.h)\n",
    "        \n",
    "class Bullet:\n",
    "    def __init__(self, x, y, w, h, s):\n",
    "        self.x = x\n",
    "        self.y = y\n",
    "        #self.img = img\n",
    "        self.width = w\n",
    "        self.height = h\n",
    "        #self.img = pygame.transform.scale(img, (w, h))\n",
    "        self.speed = s\n",
    "        self.rect = pygame.Rect(self.x, self.y, self.width, self.height)\n",
    "        #pygame.Rect()\n",
    "\n",
    "    def update(self):\n",
    "        self.rect = pygame.Rect(self.x, self.y, self.width, self.height)\n",
    "\n",
    "\n",
    "invader_startrow = 100\n",
    "invader_endrow = 300\n",
    "invader_startcol = 100\n",
    "invader_endcol = 400 \n",
    "\n",
    "SCREEN_HEIGHT = 500\n",
    "SCREEN_WIDTH = 500\n",
    "\n",
    "screen = pygame.display.set_mode([SCREEN_HEIGHT,SCREEN_WIDTH])\n",
    "\n",
    "clock = pygame.time.Clock() # to slow down the speed of movement\n",
    "FPS = 15 # to slow down the speed of movement\n",
    "\n",
    "player = Player((SCREEN_WIDTH/2)-(35/2), (SCREEN_HEIGHT - 100), pygame.image.load(\"defender.png\"), 35, 30)\n",
    "\n",
    "#player_x = 250\n",
    "#player_img = pygame.image.load(\"defender.png\") #load in the image\n",
    "\n",
    "invader = Invader(250, 100, pygame.image.load(\"invader1.png\"), 30, 30)\n",
    "invaders = []\n",
    "invaders.append(invader)\n",
    "\n",
    "moveRight = True\n",
    "fired = False\n",
    "collide = False\n",
    "\n",
    "bullet = Bullet(player.x, player.y, 10, 20, 10)\n",
    "bullets = []\n",
    "\n",
    "def assign_invaders():\n",
    "    for row in range(invader_startrow, invader_endrow, 30): # intervals of 30 \n",
    "        for col in range(invader_startcol, invader_endcol, 30):\n",
    "            #screen.blit(invader_img, (col, row))\n",
    "            inv_obj = Invader(col, row, pygame.image.load(\"invader1.png\"), 30, 30)\n",
    "            invaders.append(inv_obj)\n",
    "            screen.blit(inv_obj.img, (col, row))\n",
    "\n",
    "def draw_invaders():\n",
    "    for row in range(invader_startrow, invader_endrow, 30): # intervals of 30 \n",
    "        for col in range(invader_startcol, invader_endcol, 30):\n",
    "            #screen.blit(invader_img, (col, row))\n",
    "            inv_obj = Invader(col, row, pygame.image.load(\"invader1.png\"), 30, 30)\n",
    "            invaders.append(inv_obj)\n",
    "            screen.blit(inv_obj.img, (col, row))\n",
    "\n",
    "running = True\n",
    "while running: \n",
    "    for event in pygame.event.get():\n",
    "        if event.type == pygame.QUIT:\n",
    "            running = False\n",
    "            pygame.display.quit()\n",
    "            pygame.quit()\n",
    "            sys.exit()\n",
    "        elif event.type == pygame.KEYDOWN:\n",
    "            if event.key == pygame.K_LEFT:\n",
    "                player.x -= 5\n",
    "            elif event.key == pygame.K_RIGHT:\n",
    "                player.x += 5\n",
    "            elif event.key == pygame.K_SPACE:\n",
    "                fired = True\n",
    "                collide = False\n",
    "                bullet.x = player.x + 15\n",
    "                bullet.y = player.y\n",
    "            elif event.key == pygame.K_ESCAPE or event.key == pygame.WINDOWCLOSE: # TO QUIT\n",
    "                running = False\n",
    "    \n",
    "    screen.fill([0,0,0]) # black background\n",
    "    \n",
    "    screen.blit(player.img, (player.x, player.y))\n",
    "    \n",
    "    #if invaders != None: \n",
    "    #    for index in range(len(invaders)):\n",
    "    #        screen.blit(invaders[index].img, (invaders[index].x, invaders[index].y))\n",
    "    \n",
    "    draw_invaders()\n",
    "    #invaders[:].update()   \n",
    "    \n",
    "    if fired == True:\n",
    "        pygame.draw.rect(screen, [0,255,0], bullet.rect)\n",
    "        bullet.y -= bullet.speed\n",
    "        bullet.update()\n",
    "        if bullet.y < 0:\n",
    "            fired = False # for reset\n",
    "        \n",
    "        \n",
    "        #if bullet.rect.collidelistall(invaders) and collide == False:\n",
    "        #    invaders.remove(invader)\n",
    "        #    collide = True\n",
    "        #    bullet.x = -10\n",
    "        #    bullet.y = -10\n",
    "    \n",
    "    for invader in invaders:\n",
    "        if bullet.rect.colliderect(invader) and collide == False:\n",
    "            invaders.remove(invader)  # Remove the alien on collision\n",
    "            #bullets.remove(bullet)  # Remove the bullet on collision\n",
    "            collide = True\n",
    "            bullet.x = -10\n",
    "            bullet.y = -10\n",
    "    \n",
    "\n",
    "    pygame.display.flip()\n",
    "    \n",
    "    clock.tick(FPS)\n",
    "    \n",
    "#pygame.display.quit()\n",
    "#pygame.quit()\n",
    "sys.exit(0)"
   ]
  },
  {
   "cell_type": "code",
   "execution_count": 82,
   "metadata": {},
   "outputs": [
    {
     "data": {
      "text/plain": [
       "['AbstractGroup',\n",
       " 'DirtySprite',\n",
       " 'Group',\n",
       " 'GroupSingle',\n",
       " 'LayeredDirty',\n",
       " 'LayeredUpdates',\n",
       " 'OrderedUpdates',\n",
       " 'Rect',\n",
       " 'RenderClear',\n",
       " 'RenderPlain',\n",
       " 'RenderUpdates',\n",
       " 'Sprite',\n",
       " 'WeakDirtySprite',\n",
       " 'WeakSet',\n",
       " 'WeakSprite',\n",
       " '__builtins__',\n",
       " '__cached__',\n",
       " '__doc__',\n",
       " '__file__',\n",
       " '__loader__',\n",
       " '__name__',\n",
       " '__package__',\n",
       " '__spec__',\n",
       " 'collide_circle',\n",
       " 'collide_circle_ratio',\n",
       " 'collide_mask',\n",
       " 'collide_rect',\n",
       " 'collide_rect_ratio',\n",
       " 'from_surface',\n",
       " 'get_ticks',\n",
       " 'groupcollide',\n",
       " 'pygame',\n",
       " 'spritecollide',\n",
       " 'spritecollideany',\n",
       " 'warn']"
      ]
     },
     "execution_count": 82,
     "metadata": {},
     "output_type": "execute_result"
    }
   ],
   "source": [
    "dir(pygame.sprite)"
   ]
  },
  {
   "cell_type": "code",
   "execution_count": 81,
   "metadata": {},
   "outputs": [
    {
     "data": {
      "text/plain": [
       "['__class__',\n",
       " '__delattr__',\n",
       " '__dict__',\n",
       " '__dir__',\n",
       " '__doc__',\n",
       " '__eq__',\n",
       " '__format__',\n",
       " '__ge__',\n",
       " '__getattribute__',\n",
       " '__gt__',\n",
       " '__hash__',\n",
       " '__init__',\n",
       " '__init_subclass__',\n",
       " '__le__',\n",
       " '__lt__',\n",
       " '__module__',\n",
       " '__ne__',\n",
       " '__new__',\n",
       " '__reduce__',\n",
       " '__reduce_ex__',\n",
       " '__repr__',\n",
       " '__setattr__',\n",
       " '__sizeof__',\n",
       " '__str__',\n",
       " '__subclasshook__',\n",
       " '__weakref__',\n",
       " 'add',\n",
       " 'add_internal',\n",
       " 'alive',\n",
       " 'groups',\n",
       " 'kill',\n",
       " 'layer',\n",
       " 'remove',\n",
       " 'remove_internal',\n",
       " 'update']"
      ]
     },
     "execution_count": 81,
     "metadata": {},
     "output_type": "execute_result"
    }
   ],
   "source": [
    "dir(pygame.sprite.Sprite)"
   ]
  },
  {
   "cell_type": "code",
   "execution_count": 8,
   "metadata": {},
   "outputs": [],
   "source": [
    "# Initialize Game Groups\n",
    "aliens = pygame.sprite.Group()\n",
    "shots = pygame.sprite.Group()\n",
    "bombs = pygame.sprite.Group()\n",
    "all = pygame.sprite.RenderUpdates()\n",
    "lastalien = pygame.sprite.GroupSingle()"
   ]
  },
  {
   "cell_type": "code",
   "execution_count": 9,
   "metadata": {},
   "outputs": [
    {
     "ename": "TypeError",
     "evalue": "groupcollide() missing 2 required positional arguments: 'dokilla' and 'dokillb'",
     "output_type": "error",
     "traceback": [
      "\u001b[0;31m---------------------------------------------------------------------------\u001b[0m",
      "\u001b[0;31mTypeError\u001b[0m                                 Traceback (most recent call last)",
      "Cell \u001b[0;32mIn [9], line 1\u001b[0m\n\u001b[0;32m----> 1\u001b[0m pygame\u001b[38;5;241m.\u001b[39msprite\u001b[38;5;241m.\u001b[39mgroupcollide(shots, aliens)\n",
      "\u001b[0;31mTypeError\u001b[0m: groupcollide() missing 2 required positional arguments: 'dokilla' and 'dokillb'"
     ]
    }
   ],
   "source": [
    "pygame.sprite.groupcollide(shots, aliens)"
   ]
  },
  {
   "cell_type": "code",
   "execution_count": 5,
   "metadata": {},
   "outputs": [],
   "source": [
    "class Shot(pygame.sprite.Sprite):\n",
    "    \"\"\"a bullet the Player sprite fires.\"\"\"\n",
    "\n",
    "    speed = -11\n",
    "    #images: List[pg.Surface] = []\n",
    "\n",
    "    def __init__(self, pos, *groups):\n",
    "        pygame.sprite.Sprite.__init__(self, *groups)\n",
    "        #self.image = self.images[0]\n",
    "        self.rect = self.image.get_rect(midbottom=pos)\n",
    "\n",
    "    def update(self):\n",
    "        \"\"\"called every time around the game loop.\n",
    "\n",
    "        Every tick we move the shot upwards.\n",
    "        \"\"\"\n",
    "        self.rect.move_ip(0, self.speed)\n",
    "        if self.rect.top <= 0:\n",
    "            self.kill()"
   ]
  },
  {
   "cell_type": "code",
   "execution_count": 102,
   "metadata": {},
   "outputs": [
    {
     "ename": "KeyboardInterrupt",
     "evalue": "",
     "output_type": "error",
     "traceback": [
      "\u001b[0;31m---------------------------------------------------------------------------\u001b[0m",
      "\u001b[0;31mKeyboardInterrupt\u001b[0m                         Traceback (most recent call last)",
      "Cell \u001b[0;32mIn [102], line 200\u001b[0m\n\u001b[1;32m    194\u001b[0m                 bullets\u001b[38;5;241m.\u001b[39mremove(bullet)  \u001b[38;5;66;03m# Remove the bullet on collision\u001b[39;00m\n\u001b[1;32m    195\u001b[0m                 \u001b[38;5;28;01mbreak\u001b[39;00m  \u001b[38;5;66;03m# Exit loop to avoid modifying list during iteration\u001b[39;00m\n\u001b[0;32m--> 200\u001b[0m     pygame\u001b[38;5;241m.\u001b[39mdisplay\u001b[38;5;241m.\u001b[39mflip()\n\u001b[1;32m    202\u001b[0m     clock\u001b[38;5;241m.\u001b[39mtick(FPS)\n\u001b[1;32m    204\u001b[0m \u001b[38;5;66;03m#pygame.display.quit()\u001b[39;00m\n\u001b[1;32m    205\u001b[0m \u001b[38;5;66;03m#pygame.quit()\u001b[39;00m\n",
      "\u001b[0;31mKeyboardInterrupt\u001b[0m: "
     ]
    }
   ],
   "source": [
    "%reset -f\n",
    "import pygame \n",
    "import sys\n",
    "pygame.init()\n",
    "\n",
    "class Player:\n",
    "    def __init__(self, x, y, img, l, h):\n",
    "        self.x = x\n",
    "        self.y = y\n",
    "        self.img = img\n",
    "        self.l = l\n",
    "        self.h = h \n",
    "        self.img = pygame.transform.scale(img, (l, h))\n",
    "        self.rect = pygame.Rect(self.x, self.y, self.l, self.h)\n",
    "\n",
    "\n",
    "class Invader:\n",
    "    def __init__(self, x, y, img, l, h, score = 0):\n",
    "        self.x = x\n",
    "        self.y = y\n",
    "        self.img = img\n",
    "        self.l = l\n",
    "        self.h = h\n",
    "        self.img = pygame.transform.scale(img, (l, h))\n",
    "        self.score = score\n",
    "        self.rect = pygame.Rect(self.x, self.y, self.l, self.h)\n",
    "        \n",
    "    def update(self):\n",
    "        \"\"\"called every time around the game loop.\n",
    "        Every tick we move the shot upwards.\n",
    "        \"\"\"\n",
    "        #self.rect.move_ip(0, self.speed)\n",
    "        self.rect = pygame.Rect(self.x, self.y, self.l, self.h)\n",
    "        if self.rect.bottom >= 0:\n",
    "            self.kill()\n",
    "\n",
    "class Bullet:\n",
    "    def __init__(self, x, y, w, h, s):\n",
    "        self.x = x\n",
    "        self.y = y\n",
    "        #self.img = img\n",
    "        self.width = w\n",
    "        self.height = h\n",
    "        #self.img = pygame.transform.scale(img, (w, h))\n",
    "        self.speed = s\n",
    "        self.rect = pygame.Rect(self.x, self.y, self.width, self.height)\n",
    "        #pygame.Rect()\n",
    "\n",
    "    def update(self):\n",
    "        \"\"\"called every time around the game loop.\n",
    "        Every tick we move the shot upwards.\n",
    "        \"\"\"\n",
    "        self.rect.move_ip(0, self.speed)\n",
    "        if self.rect.top <= 0:\n",
    "            self.kill()\n",
    "\n",
    "\n",
    "SCREEN_HEIGHT = 500\n",
    "SCREEN_WIDTH = 500\n",
    "\n",
    "screen = pygame.display.set_mode([SCREEN_HEIGHT,SCREEN_WIDTH])\n",
    "\n",
    "clock = pygame.time.Clock() # to slow down the speed of movement\n",
    "FPS = 15 # to slow down the speed of movement\n",
    "\n",
    "player = Player((SCREEN_WIDTH/2)-(35/2), (SCREEN_HEIGHT - 100), pygame.image.load(\"defender.png\"), 35, 30)\n",
    "\n",
    "#player_x = 250\n",
    "#player_img = pygame.image.load(\"defender.png\") #load in the image\n",
    "\n",
    "invader = Invader(250, 100, pygame.image.load(\"invader1.png\"), 30, 30)\n",
    "invaders = []\n",
    "\n",
    "invader_startrow = 100\n",
    "invader_endrow = 300\n",
    "invader_startcol = 100\n",
    "invader_endcol = 400 \n",
    "\n",
    "moveRight = True\n",
    "fired = False\n",
    "\n",
    "bullet = Bullet(player.x, player.y, 10, 20, 10)\n",
    "bullets = []\n",
    "bullet_speed = 10\n",
    "\n",
    "\n",
    "#Invader((invaders_x_left + (j * 30) + 30), current_row, pygame.image.load(\"img/invader1.png\"), 30, 30)\n",
    "\n",
    "#invader_img = pygame.image.load(\"invader1.png\")\n",
    "#invader_img = pygame.transform.scale(invader_img, (30, 30))\n",
    "\n",
    "#player_img = pygame.transform.scale(player_img, (35, 30)) # change the scale\n",
    "\n",
    "\n",
    "def draw_invaders():\n",
    "    for row in range(invader_startrow, invader_endrow, 30): # intervals of 30 \n",
    "        for col in range(invader_startcol, invader_endcol, 30):\n",
    "            #screen.blit(invader_img, (col, row))\n",
    "            invader = Invader(col, row, pygame.image.load(\"invader1.png\"), 30, 30)\n",
    "            screen.blit(invader.img, (col, row))\n",
    "            \n",
    "\n",
    "def move_invaders():\n",
    "    global invader_startcol, invader_endcol, invader_startrow, invader_endrow, moveRight\n",
    "    # start moving right \n",
    "    if moveRight == True:\n",
    "        invader_startcol += 2\n",
    "        invader_endcol += 2\n",
    "        edge_hit = False\n",
    "    else: # otherwise move left\n",
    "        invader_startcol -= 2\n",
    "        invader_endcol -= 2\n",
    "        edge_hit = False\n",
    "    \n",
    "    # detect edge of screen\n",
    "    if invader_endcol > SCREEN_WIDTH or invader_startcol < 0:\n",
    "        edge_hit = True\n",
    "        invader_startrow += 20\n",
    "        invader_endrow += 20\n",
    "    \n",
    "    # immediately reset edge_hit to prevent getting stuck! \n",
    "    if edge_hit == True:\n",
    "        edge_hit == False\n",
    "        if moveRight == True:\n",
    "            moveRight = False\n",
    "        else:\n",
    "            moveRight = True\n",
    "\n",
    "  \n",
    "running = True\n",
    "while running: \n",
    "    for event in pygame.event.get():\n",
    "        if event.type == pygame.QUIT:\n",
    "            running = False\n",
    "            pygame.display.quit()\n",
    "            pygame.quit()\n",
    "            sys.exit()\n",
    "        elif event.type == pygame.KEYDOWN:\n",
    "            if event.key == pygame.K_LEFT:\n",
    "                player.x -= 5\n",
    "            elif event.key == pygame.K_RIGHT:\n",
    "                player.x += 5\n",
    "            elif event.key == pygame.K_SPACE:\n",
    "                #bullet = Bullet(player.x, player.y, 10, 20, 7)\n",
    "                #bullets.append(bullet)\n",
    "                #screen.blit(bullet.img, (bullet.x, bullet.y))  \n",
    "                #move_bullet()\n",
    "                fired = True\n",
    "                bullet.x = player.x + 15\n",
    "                bullet.y = player.y\n",
    "            elif event.key == pygame.K_ESCAPE or event.key == pygame.WINDOWCLOSE: # TO QUIT\n",
    "                running = False\n",
    "                #pygame.display.quit()\n",
    "                #pygame.QUIT()\n",
    "                #sys.exit()\n",
    "    \n",
    "    screen.fill([0,0,0]) # black background\n",
    "    \n",
    "    #move_invaders()\n",
    "    \n",
    "    #draw_invaders()\n",
    "     \n",
    "    #screen.blit(player_img, (player_x, 450)) # draw player\n",
    "    screen.blit(player.img, (player.x, player.y))   \n",
    "    screen.blit(invader.img, (invader.x, invader.y))   \n",
    "    \n",
    "    if fired == True:\n",
    "        #bullet = Bullet(bullet.x, bullet.y, 10, 30, 10)\n",
    "        #bullet = pygame.Rect(bullet.x, bullet.y, 10, 30)\n",
    "        pygame.draw.rect(screen, [0,255,0], pygame.Rect(bullet.x, bullet.y, 10, 30))\n",
    "        #pygame.draw.rect(screen, [0,255,0], bullet.rect)\n",
    "        bullet.y -= bullet.speed\n",
    "        bullet.update()\n",
    "        if bullet.y < 0:\n",
    "            fired = False # for reset\n",
    "            #bullet.x = player.x + 15\n",
    "            #bullet.y = player.y\n",
    "        if pygame.Rect.colliderect(bullet.rect, invader.rect):\n",
    "            print(\"COLLISION!\")\n",
    "        #if bullet.colliderect(invader.rect):\n",
    "        #    pygame.draw.rect(screen, [0,255,0], pygame.Rect(bullet.x, bullet.y, 10, 30))\n",
    "    \n",
    "    # Move bullets\n",
    "    for bullet in bullets[:]:\n",
    "        bullet.y -= bullet_speed\n",
    "        if bullet.y < 0:\n",
    "            bullets.remove(bullet)  # Remove bullet if it goes off-screen\n",
    "\n",
    "    # Check for collisions\n",
    "    for bullet in bullets[:]:\n",
    "        for invader in invaders[:]:\n",
    "            if bullet.colliderect(invader):\n",
    "                invaders.remove(invader)  # Remove the alien on collision\n",
    "                bullets.remove(bullet)  # Remove the bullet on collision\n",
    "                break  # Exit loop to avoid modifying list during iteration\n",
    "\n",
    "    \n",
    "\n",
    "    \n",
    "    pygame.display.flip()\n",
    "    \n",
    "    clock.tick(FPS)\n",
    "    \n",
    "#pygame.display.quit()\n",
    "#pygame.quit()\n",
    "sys.exit(0)"
   ]
  },
  {
   "cell_type": "code",
   "execution_count": null,
   "metadata": {},
   "outputs": [],
   "source": [
    "        # handle player input\n",
    "        direction = keystate[pg.K_RIGHT] - keystate[pg.K_LEFT]\n",
    "        player.move(direction)\n",
    "        firing = keystate[pg.K_SPACE]\n",
    "        if not player.reloading and firing and len(shots) < MAX_SHOTS:\n",
    "            Shot(player.gunpos(), shots, all)\n",
    "            if pg.mixer and shoot_sound is not None:\n",
    "                shoot_sound.play()\n",
    "        player.reloading = firing\n",
    "\n",
    "        # Create new alien\n",
    "        if alienreload:\n",
    "            alienreload = alienreload - 1\n",
    "        elif not int(random.random() * ALIEN_ODDS):\n",
    "            Alien(aliens, all, lastalien)\n",
    "            alienreload = ALIEN_RELOAD\n",
    "\n",
    "        # Drop bombs\n",
    "        if lastalien and not int(random.random() * BOMB_ODDS):\n",
    "            Bomb(lastalien.sprite, all, bombs, all)\n",
    "\n",
    "        # Detect collisions between aliens and players.\n",
    "        for alien in pg.sprite.spritecollide(player, aliens, 1):\n",
    "            if pg.mixer and boom_sound is not None:\n",
    "                boom_sound.play()\n",
    "            Explosion(alien, all)\n",
    "            Explosion(player, all)\n",
    "            SCORE = SCORE + 1\n",
    "            player.kill()\n",
    "\n",
    "        # See if shots hit the aliens.\n",
    "        for alien in pg.sprite.groupcollide(aliens, shots, 1, 1).keys():\n",
    "            if pg.mixer and boom_sound is not None:\n",
    "                boom_sound.play()\n",
    "            Explosion(alien, all)\n",
    "            SCORE = SCORE + 1\n",
    "\n",
    "        # See if alien bombs hit the player.\n",
    "        for bomb in pg.sprite.spritecollide(player, bombs, 1):\n",
    "            if pg.mixer and boom_sound is not None:\n",
    "                boom_sound.play()\n",
    "            Explosion(player, all)\n",
    "            Explosion(bomb, all)\n",
    "            player.kill()"
   ]
  },
  {
   "cell_type": "code",
   "execution_count": 4,
   "metadata": {},
   "outputs": [],
   "source": [
    "class Shot(pygame.sprite.Sprite):\n",
    "    \"\"\"a bullet the Player sprite fires.\"\"\"\n",
    "\n",
    "    speed = -11\n",
    "    #images: List[pg.Surface] = []\n",
    "\n",
    "    def __init__(self, pos, *groups):\n",
    "        pygame.sprite.Sprite.__init__(self, *groups)\n",
    "        #self.image = self.images[0]\n",
    "        self.rect = self.image.get_rect(midbottom=pos)\n",
    "\n",
    "    def update(self):\n",
    "        \"\"\"called every time around the game loop.\n",
    "\n",
    "        Every tick we move the shot upwards.\n",
    "        \"\"\"\n",
    "        self.rect.move_ip(0, self.speed)\n",
    "        if self.rect.top <= 0:\n",
    "            self.kill()"
   ]
  },
  {
   "cell_type": "markdown",
   "metadata": {},
   "source": [
    "## Designing Unit Tests in PyTest\n",
    "\n",
    "![python_pytest](https://encrypted-tbn0.gstatic.com/images?q=tbn:ANd9GcT53FNUfoJOMmuxHw_461WuMi5GZ7nQHoRjtg&s)\n",
    "\n",
    "* PyTest allows you to write tests as functions so they can be run multiple times. \n",
    "\n",
    "* Useful if you have repeated actions that need to be tested throughout development (especially as new features are added and code is refactored)\n",
    "\n",
    "* Not every event can be anticipated, but most events can be modelled/simulated. \n",
    "\n",
    "* Remember assertions from 05 Exceptions? PyTest applies them.\n",
    "\n",
    "`pip install pytest`\n",
    "\n",
    "`python3 -m pip install -U pytest --user`\n",
    "\n",
    "\n"
   ]
  },
  {
   "cell_type": "code",
   "execution_count": 28,
   "metadata": {},
   "outputs": [],
   "source": [
    "import pytest"
   ]
  },
  {
   "cell_type": "code",
   "execution_count": 53,
   "metadata": {},
   "outputs": [],
   "source": [
    "x = 5\n",
    "assert x > 0"
   ]
  },
  {
   "cell_type": "code",
   "execution_count": 54,
   "metadata": {},
   "outputs": [
    {
     "ename": "AssertionError",
     "evalue": "X must be greater than 0",
     "output_type": "error",
     "traceback": [
      "\u001b[0;31m---------------------------------------------------------------------------\u001b[0m",
      "\u001b[0;31mAssertionError\u001b[0m                            Traceback (most recent call last)",
      "Cell \u001b[0;32mIn [54], line 2\u001b[0m\n\u001b[1;32m      1\u001b[0m x \u001b[38;5;241m=\u001b[39m \u001b[38;5;241m-\u001b[39m\u001b[38;5;241m5\u001b[39m\n\u001b[0;32m----> 2\u001b[0m \u001b[38;5;28;01massert\u001b[39;00m x \u001b[38;5;241m>\u001b[39m \u001b[38;5;241m0\u001b[39m, \u001b[38;5;124m\"\u001b[39m\u001b[38;5;124mX must be greater than 0\u001b[39m\u001b[38;5;124m\"\u001b[39m\n",
      "\u001b[0;31mAssertionError\u001b[0m: X must be greater than 0"
     ]
    }
   ],
   "source": [
    "x = -5\n",
    "assert x > 0, \"X must be greater than 0\""
   ]
  },
  {
   "cell_type": "code",
   "execution_count": 69,
   "metadata": {},
   "outputs": [],
   "source": [
    "SCREEN_WIDTH = 500"
   ]
  },
  {
   "cell_type": "code",
   "execution_count": 86,
   "metadata": {},
   "outputs": [],
   "source": [
    "def test_move_left(x):\n",
    "    x -= 5\n",
    "    assert x > 0, \"X must be greater than 0 to move left\""
   ]
  },
  {
   "cell_type": "code",
   "execution_count": 87,
   "metadata": {},
   "outputs": [],
   "source": [
    "def test_move_right(x):\n",
    "    x += 5\n",
    "    assert x < SCREEN_WIDTH, \"X must be less than Screen Width to move right\""
   ]
  },
  {
   "cell_type": "code",
   "execution_count": 88,
   "metadata": {},
   "outputs": [
    {
     "ename": "AssertionError",
     "evalue": "X must be greater than 0 to move left",
     "output_type": "error",
     "traceback": [
      "\u001b[0;31m---------------------------------------------------------------------------\u001b[0m",
      "\u001b[0;31mAssertionError\u001b[0m                            Traceback (most recent call last)",
      "Cell \u001b[0;32mIn [88], line 1\u001b[0m\n\u001b[0;32m----> 1\u001b[0m test_move_left(\u001b[38;5;241m0\u001b[39m)\n",
      "Cell \u001b[0;32mIn [86], line 3\u001b[0m, in \u001b[0;36mtest_move_left\u001b[0;34m(x)\u001b[0m\n\u001b[1;32m      1\u001b[0m \u001b[38;5;28;01mdef\u001b[39;00m \u001b[38;5;21mtest_move_left\u001b[39m(x):\n\u001b[1;32m      2\u001b[0m     x \u001b[38;5;241m-\u001b[39m\u001b[38;5;241m=\u001b[39m \u001b[38;5;241m5\u001b[39m\n\u001b[0;32m----> 3\u001b[0m     \u001b[38;5;28;01massert\u001b[39;00m x \u001b[38;5;241m>\u001b[39m \u001b[38;5;241m0\u001b[39m, \u001b[38;5;124m\"\u001b[39m\u001b[38;5;124mX must be greater than 0 to move left\u001b[39m\u001b[38;5;124m\"\u001b[39m\n",
      "\u001b[0;31mAssertionError\u001b[0m: X must be greater than 0 to move left"
     ]
    }
   ],
   "source": [
    "test_move_left(0)"
   ]
  },
  {
   "cell_type": "code",
   "execution_count": 89,
   "metadata": {},
   "outputs": [],
   "source": [
    "test_move_left(10)"
   ]
  },
  {
   "cell_type": "code",
   "execution_count": 90,
   "metadata": {},
   "outputs": [
    {
     "ename": "AssertionError",
     "evalue": "X must be less than Screen Width to move right",
     "output_type": "error",
     "traceback": [
      "\u001b[0;31m---------------------------------------------------------------------------\u001b[0m",
      "\u001b[0;31mAssertionError\u001b[0m                            Traceback (most recent call last)",
      "Cell \u001b[0;32mIn [90], line 1\u001b[0m\n\u001b[0;32m----> 1\u001b[0m test_move_right(\u001b[38;5;241m500\u001b[39m)\n",
      "Cell \u001b[0;32mIn [87], line 3\u001b[0m, in \u001b[0;36mtest_move_right\u001b[0;34m(x)\u001b[0m\n\u001b[1;32m      1\u001b[0m \u001b[38;5;28;01mdef\u001b[39;00m \u001b[38;5;21mtest_move_right\u001b[39m(x):\n\u001b[1;32m      2\u001b[0m     x \u001b[38;5;241m+\u001b[39m\u001b[38;5;241m=\u001b[39m \u001b[38;5;241m5\u001b[39m\n\u001b[0;32m----> 3\u001b[0m     \u001b[38;5;28;01massert\u001b[39;00m x \u001b[38;5;241m<\u001b[39m SCREEN_WIDTH, \u001b[38;5;124m\"\u001b[39m\u001b[38;5;124mX must be less than Screen Width to move right\u001b[39m\u001b[38;5;124m\"\u001b[39m\n",
      "\u001b[0;31mAssertionError\u001b[0m: X must be less than Screen Width to move right"
     ]
    }
   ],
   "source": [
    "test_move_right(500)"
   ]
  },
  {
   "cell_type": "code",
   "execution_count": 91,
   "metadata": {},
   "outputs": [],
   "source": [
    "test_move_right(250)"
   ]
  },
  {
   "cell_type": "code",
   "execution_count": null,
   "metadata": {},
   "outputs": [],
   "source": [
    "# initialise player so test functions can refer to this\n",
    "# for reference: x, y, img, l, h\n",
    "player = Player(235, 550, pygame.image.load(\"img/defender.png\"), 35, 30))\n",
    "\n",
    "def test_move_left():\n",
    "     assert player.move_left() == True\n",
    "\n",
    "def test_prevent_offside_left():\n",
    "     player.x = 0 \n",
    "     assert player.move_left() == False"
   ]
  },
  {
   "cell_type": "markdown",
   "metadata": {},
   "source": [
    "Run `pytest [NAME_OF_FILE].py` in your terminal"
   ]
  },
  {
   "cell_type": "markdown",
   "metadata": {},
   "source": [
    "![pytest_example](https://pytest-with-eric.com/images/pytest-parameterized-tests-classes.png)"
   ]
  },
  {
   "cell_type": "markdown",
   "metadata": {},
   "source": [
    "#### This Jupyter Notebook contains exercises for you to extend your introduction to the basics with Python libraries and packages. Attempt the following exercises, which slowly build in complexity. If you get stuck, check back to the <a href = \"https://www.youtube.com/watch?v=HGZy4aLKGmI\"> Python lecture recording on PyGame here</a> or view the <a href = \"https://realpython.com/pygame-a-primer/\">Real Python resource</a> on how to get started with PyGame."
   ]
  },
  {
   "cell_type": "markdown",
   "metadata": {},
   "source": [
    "### Exercise 1: \n",
    "\n",
    "Install PyGame and load the example games\n",
    "\n",
    "`pip install pygame`"
   ]
  },
  {
   "cell_type": "markdown",
   "metadata": {},
   "source": [
    "`python -m pygame.examples.aliens`"
   ]
  },
  {
   "cell_type": "markdown",
   "metadata": {},
   "source": [
    "### Exercise 2: \n",
    "\n",
    "Explore the aliens example code, as this will help when it comes to creating your own game!\n",
    "\n",
    "![pygame_aliens](https://encrypted-tbn0.gstatic.com/images?q=tbn:ANd9GcS59BrP8wTsdLjXxnkq4ZXnVYlUFDIqaaf8Ng&s)"
   ]
  },
  {
   "cell_type": "code",
   "execution_count": 1,
   "metadata": {},
   "outputs": [
    {
     "data": {
      "text/plain": [
       "<module 'pygame.examples.aliens' from '/Users/nick/Library/Python/3.9/lib/python/site-packages/pygame/examples/aliens.py'>"
      ]
     },
     "execution_count": 1,
     "metadata": {},
     "output_type": "execute_result"
    }
   ],
   "source": [
    "import pygame.examples.aliens as aliens \n",
    "aliens"
   ]
  },
  {
   "cell_type": "markdown",
   "metadata": {},
   "source": [
    "Either locate the py file at the file path above, or import below."
   ]
  },
  {
   "cell_type": "code",
   "execution_count": 5,
   "metadata": {},
   "outputs": [],
   "source": [
    "from pygame.examples.aliens import Alien, Bomb, SCORE\n"
   ]
  },
  {
   "cell_type": "markdown",
   "metadata": {},
   "source": [
    "Code snippets from the game below: "
   ]
  },
  {
   "cell_type": "code",
   "execution_count": null,
   "metadata": {},
   "outputs": [],
   "source": [
    "pygame.sprite.groupcollide()"
   ]
  },
  {
   "cell_type": "code",
   "execution_count": null,
   "metadata": {},
   "outputs": [],
   "source": [
    "        # See if shots hit the aliens.\n",
    "        for alien in pg.sprite.groupcollide(aliens, shots, 1, 1).keys():\n",
    "            if pg.mixer and boom_sound is not None:\n",
    "                boom_sound.play()\n",
    "            Explosion(alien, all)\n",
    "            SCORE = SCORE + 1"
   ]
  },
  {
   "cell_type": "code",
   "execution_count": null,
   "metadata": {},
   "outputs": [],
   "source": [
    "class Shot(pg.sprite.Sprite):\n",
    "    \"\"\"a bullet the Player sprite fires.\"\"\"\n",
    "\n",
    "    speed = -11\n",
    "    images: List[pg.Surface] = []\n",
    "\n",
    "    def __init__(self, pos, *groups):\n",
    "        pg.sprite.Sprite.__init__(self, *groups)\n",
    "        self.image = self.images[0]\n",
    "        self.rect = self.image.get_rect(midbottom=pos)\n",
    "\n",
    "    def update(self):\n",
    "        \"\"\"called every time around the game loop.\n",
    "\n",
    "        Every tick we move the shot upwards.\n",
    "        \"\"\"\n",
    "        self.rect.move_ip(0, self.speed)\n",
    "        if self.rect.top <= 0:\n",
    "            self.kill()"
   ]
  },
  {
   "cell_type": "code",
   "execution_count": null,
   "metadata": {},
   "outputs": [],
   "source": [
    "class Bomb(pg.sprite.Sprite):\n",
    "    \"\"\"A bomb the aliens drop.\"\"\"\n",
    "\n",
    "    speed = 9\n",
    "    images: List[pg.Surface] = []\n",
    "\n",
    "    def __init__(self, alien, explosion_group, *groups):\n",
    "        pg.sprite.Sprite.__init__(self, *groups)\n",
    "        self.image = self.images[0]\n",
    "        self.rect = self.image.get_rect(midbottom=alien.rect.move(0, 5).midbottom)\n",
    "        self.explosion_group = explosion_group\n",
    "\n",
    "    def update(self):\n",
    "        \"\"\"called every time around the game loop.\n",
    "\n",
    "        Every frame we move the sprite 'rect' down.\n",
    "        When it reaches the bottom we:\n",
    "\n",
    "        - make an explosion.\n",
    "        - remove the Bomb.\n",
    "        \"\"\"\n",
    "        self.rect.move_ip(0, self.speed)\n",
    "        if self.rect.bottom >= 470:\n",
    "            Explosion(self, self.explosion_group)\n",
    "            self.kill()"
   ]
  },
  {
   "cell_type": "markdown",
   "metadata": {},
   "source": [
    "## Further Documentation on PyGame Examples: \n",
    "\n",
    "https://www.pygame.org/docs/ref/examples.html"
   ]
  }
 ],
 "metadata": {
  "kernelspec": {
   "display_name": "Python 3",
   "language": "python",
   "name": "python3"
  },
  "language_info": {
   "codemirror_mode": {
    "name": "ipython",
    "version": 3
   },
   "file_extension": ".py",
   "mimetype": "text/x-python",
   "name": "python",
   "nbconvert_exporter": "python",
   "pygments_lexer": "ipython3",
   "version": "3.9.6"
  }
 },
 "nbformat": 4,
 "nbformat_minor": 0
}
