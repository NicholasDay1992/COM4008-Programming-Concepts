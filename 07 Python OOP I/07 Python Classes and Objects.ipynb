{
 "cells": [
  {
   "cell_type": "markdown",
   "id": "1eba3b72",
   "metadata": {
    "id": "1eba3b72"
   },
   "source": [
    "# 07 Python Object Oriented Programming I - Classes & Objects"
   ]
  },
  {
   "cell_type": "markdown",
   "id": "57bc8bf6",
   "metadata": {},
   "source": [
    "## Plan for the Lecture\n",
    "\n",
    "1. Object Oriented Programming Theory\n",
    "\n",
    "2. Classes and Objects in Python\n",
    "\n",
    "3. Classes and Objects in other languages\n"
   ]
  },
  {
   "cell_type": "markdown",
   "id": "3fbf16b5",
   "metadata": {},
   "source": [
    "## 0.0 Reminder that you have seen classes before! "
   ]
  },
  {
   "cell_type": "code",
   "execution_count": 12,
   "id": "e3b7329e",
   "metadata": {},
   "outputs": [
    {
     "name": "stdout",
     "output_type": "stream",
     "text": [
      "<class 'int'>\n",
      "<class 'str'>\n"
     ]
    }
   ],
   "source": [
    "age = 30 \n",
    "print(type(age))\n",
    "name = \"Nick\" \n",
    "print(type(name)) "
   ]
  },
  {
   "cell_type": "code",
   "execution_count": 16,
   "id": "4056691e",
   "metadata": {},
   "outputs": [
    {
     "name": "stdout",
     "output_type": "stream",
     "text": [
      "<class 'list'>\n",
      "<class 'tuple'>\n",
      "<class 'set'>\n",
      "<class 'dict'>\n"
     ]
    }
   ],
   "source": [
    "print(list)\n",
    "print(tuple)\n",
    "print(set)\n",
    "print(dict)"
   ]
  },
  {
   "cell_type": "code",
   "execution_count": 17,
   "id": "e731fc9a",
   "metadata": {},
   "outputs": [
    {
     "name": "stdout",
     "output_type": "stream",
     "text": [
      "<class 'BaseException'>\n",
      "<class 'Exception'>\n",
      "<class 'ZeroDivisionError'>\n"
     ]
    }
   ],
   "source": [
    "print(BaseException)\n",
    "print(Exception)\n",
    "print(ZeroDivisionError)"
   ]
  },
  {
   "cell_type": "markdown",
   "id": "afd7247b",
   "metadata": {},
   "source": [
    "## 1.0 Object Oriented Programming Theory \n",
    "* The Object-Oriented Paradigm originated in the 1980s. \n",
    "\n",
    "* C++ was originally known as 'C with classes'.\n",
    "\n",
    "* Procedural programming would separate data from procedures. \n",
    "\n",
    "* Object Oriented Programming encapsulates both data and procedures into a package (an object).\n",
    "\n",
    "* As we have seen, Python build primitive types as classes: `int`, `str`, `float`, `bool`\n"
   ]
  },
  {
   "cell_type": "markdown",
   "id": "5cb7add1",
   "metadata": {},
   "source": [
    "<img src=\"https://media.dev.to/cdn-cgi/image/width=800%2Cheight=%2Cfit=scale-down%2Cgravity=auto%2Cformat=auto/https%3A%2F%2Fdev-to-uploads.s3.amazonaws.com%2Fuploads%2Farticles%2Fbpcvpxpcdqnxqn53n3zf.png\" alt=\"class_entity\" width=\"650\"> "
   ]
  },
  {
   "cell_type": "markdown",
   "id": "372ec4ee",
   "metadata": {},
   "source": [
    "<img src=\"https://miro.medium.com/v2/resize:fit:1400/1*CM0Jy_kA06FwPx0O432RxA.png\" alt=\"classes_and_objects\" width=\"650\"> \n",
    "\n"
   ]
  },
  {
   "cell_type": "markdown",
   "id": "08387436",
   "metadata": {},
   "source": [
    "<img src=\"https://techbeamers.com/wp-content/uploads/2019/04/Java-Class-and-Object-Concept.png\" alt=\"classes_objects2\" width=\"650\"> "
   ]
  },
  {
   "cell_type": "markdown",
   "id": "8432eb7c",
   "metadata": {},
   "source": [
    "<img src=\"https://scaler.com/topics/images/What-is-class-768x659.webp\" alt=\"classes_objects2\" width=\"650\"> "
   ]
  },
  {
   "cell_type": "markdown",
   "id": "d8700915",
   "metadata": {},
   "source": [
    "<img src=\"https://media.geeksforgeeks.org/wp-content/uploads/20220520121002/classdiagramaccount-660x604.jpg\" alt=\"classes_objects2\" width=\"650\"> "
   ]
  },
  {
   "cell_type": "markdown",
   "id": "768df662",
   "metadata": {},
   "source": [
    "## 2.1 Classes and Objects\n",
    "\n",
    "* Let's start by modelling a familiar entity - yourselves! \n",
    "\n",
    "* We could build a `blueprint` for the `Student` entity\n"
   ]
  },
  {
   "cell_type": "code",
   "execution_count": 6,
   "id": "93a5fdd7",
   "metadata": {},
   "outputs": [],
   "source": [
    "class Student:\n",
    "    name = \"Nick\""
   ]
  },
  {
   "cell_type": "markdown",
   "id": "e12f2c9c",
   "metadata": {},
   "source": [
    "We can call the `constructor` to build / initialise an object of this `Student` class. "
   ]
  },
  {
   "cell_type": "code",
   "execution_count": 7,
   "id": "9cf01884",
   "metadata": {},
   "outputs": [
    {
     "data": {
      "text/plain": [
       "'Nick'"
      ]
     },
     "execution_count": 7,
     "metadata": {},
     "output_type": "execute_result"
    }
   ],
   "source": [
    "nick_obj = Student()\n",
    "nick_obj.name"
   ]
  },
  {
   "cell_type": "code",
   "execution_count": 13,
   "id": "e5312596",
   "metadata": {},
   "outputs": [],
   "source": [
    "class Student:\n",
    "    name = \"Nick\"\n",
    "    def print_name(self):\n",
    "        print(\"Hi Nick\") "
   ]
  },
  {
   "cell_type": "markdown",
   "id": "97c71e8b",
   "metadata": {},
   "source": [
    "Now that we have this class defined, we can instantiate an object from this blueprint."
   ]
  },
  {
   "cell_type": "code",
   "execution_count": 14,
   "id": "c7e275cc",
   "metadata": {},
   "outputs": [
    {
     "name": "stdout",
     "output_type": "stream",
     "text": [
      "Hi Nick\n"
     ]
    }
   ],
   "source": [
    "nick_obj = Student() # call constructor\n",
    "nick_obj.print_name() "
   ]
  },
  {
   "cell_type": "markdown",
   "id": "8fee52b4",
   "metadata": {},
   "source": [
    "## 2.2 Object Addresses"
   ]
  },
  {
   "cell_type": "code",
   "execution_count": 15,
   "id": "190832b1",
   "metadata": {},
   "outputs": [
    {
     "name": "stdout",
     "output_type": "stream",
     "text": [
      "<__main__.Student object at 0x10442b8b0>\n"
     ]
    }
   ],
   "source": [
    "nick_obj = Student() # call constructor\n",
    "print(nick_obj)\n"
   ]
  },
  {
   "cell_type": "markdown",
   "id": "e81fb3f2",
   "metadata": {},
   "source": [
    "## 2.3 Multiple Objects of the same Class\n",
    "\n",
    "* Notice below how we can create more than one object of the same class blueprint (structure).\n",
    "\n",
    "* Each object has its own unique memory address (hexedecimal printed below)\n",
    "\n",
    "* The object name stores this memory address - like a variable would store a value (an integer or a str value)"
   ]
  },
  {
   "cell_type": "code",
   "execution_count": 17,
   "id": "95f1c5a1",
   "metadata": {},
   "outputs": [
    {
     "name": "stdout",
     "output_type": "stream",
     "text": [
      "<__main__.Student object at 0x10428a6d0>\n",
      "<__main__.Student object at 0x1044821f0>\n"
     ]
    }
   ],
   "source": [
    "nick_obj = Student() # one object\n",
    "print(nick_obj)\n",
    "\n",
    "sam_obj = Student() # another object!\n",
    "print(sam_obj)"
   ]
  },
  {
   "cell_type": "code",
   "execution_count": 18,
   "id": "f66b8b29",
   "metadata": {},
   "outputs": [
    {
     "name": "stdout",
     "output_type": "stream",
     "text": [
      "Hi Nick\n",
      "Hi Nick\n"
     ]
    }
   ],
   "source": [
    "nick_obj.print_name()\n",
    "sam_obj.print_name()"
   ]
  },
  {
   "cell_type": "markdown",
   "id": "43a30c22",
   "metadata": {},
   "source": [
    "Problem... how should we address this?"
   ]
  },
  {
   "cell_type": "markdown",
   "id": "b9026ec0",
   "metadata": {},
   "source": [
    "## 2.4 The `self` reference\n",
    "\n",
    "* `self` can be substituted for any given object created of the class.\n",
    "\n",
    "* Rather than specifying one object that will be referred to every time the method is run, `self` can refer to the object that the method is being called on.\n",
    "\n",
    "* In Python, `self` is automatically passed (so we don’t have to), but it is received, so has to be defined in class methods.\n"
   ]
  },
  {
   "cell_type": "markdown",
   "id": "0f80f220",
   "metadata": {},
   "source": [
    "Let's update the `Student` class below with `self`:"
   ]
  },
  {
   "cell_type": "code",
   "execution_count": 30,
   "id": "6a245cb7",
   "metadata": {},
   "outputs": [],
   "source": [
    "class Student:\n",
    "    def set_name(self, name):\n",
    "        print(\"self refers to\", self)\n",
    "        self.name = name"
   ]
  },
  {
   "cell_type": "code",
   "execution_count": 31,
   "id": "d7c64a37",
   "metadata": {},
   "outputs": [
    {
     "name": "stdout",
     "output_type": "stream",
     "text": [
      "<__main__.Student object at 0x103f56f10>\n",
      "self refers to <__main__.Student object at 0x103f56f10>\n",
      "Nick\n"
     ]
    }
   ],
   "source": [
    "nick_obj = Student() # call constructor\n",
    "print(nick_obj)\n",
    "nick_obj.set_name(\"Nick\") \n",
    "print(nick_obj.name) "
   ]
  },
  {
   "cell_type": "code",
   "execution_count": 32,
   "id": "dd55b89e",
   "metadata": {},
   "outputs": [
    {
     "name": "stdout",
     "output_type": "stream",
     "text": [
      "<__main__.Student object at 0x103efa100>\n",
      "self refers to <__main__.Student object at 0x103efa100>\n",
      "Nick\n",
      "<__main__.Student object at 0x103efac10>\n",
      "self refers to <__main__.Student object at 0x103efac10>\n",
      "Sam\n"
     ]
    }
   ],
   "source": [
    "nick_obj = Student() # One object\n",
    "print(nick_obj)\n",
    "nick_obj.set_name(\"Nick\") \n",
    "print(nick_obj.name)\n",
    "\n",
    "sam_obj = Student() # Another object\n",
    "print(sam_obj)\n",
    "sam_obj.set_name(\"Sam\") \n",
    "print(sam_obj.name)"
   ]
  },
  {
   "cell_type": "markdown",
   "id": "6d08aa6c",
   "metadata": {},
   "source": [
    "## 2.5 Constructor `__init__()`\n",
    "\n",
    "* A constructor is a method which has the same name as the class. \n",
    "\n",
    "* In Python, we can use the <b>dunder method</b> (double underscore) `__init__()` to refer to the constructor. \n",
    "\n",
    "* Dunder methods are called by the Python interpreter. It initialises the object and sets values for attributes (variables).\n",
    "\n",
    "* The constructor is called when we create an object of the class.\n",
    "\n",
    "* In Python we can still call the constructor (same name as the class). The Python interpreter then calls the `__init__()` method.\n",
    "\n"
   ]
  },
  {
   "cell_type": "markdown",
   "id": "e944d46c",
   "metadata": {},
   "source": [
    "Now let's 'set' the name of our student in this constructor `__init__()`\n",
    "\n",
    "We also have to include the `self` reference and the name to be passed in."
   ]
  },
  {
   "cell_type": "code",
   "execution_count": 39,
   "id": "7b16e332",
   "metadata": {},
   "outputs": [],
   "source": [
    "class Student:\n",
    "    def __init__(self, name, id):\n",
    "        self.name = name\n",
    "        self.id = id\n",
    "        \n",
    "    def print(self):\n",
    "        print(self.name)\n",
    "        print(self.id)"
   ]
  },
  {
   "cell_type": "markdown",
   "id": "e12c75b6",
   "metadata": {},
   "source": [
    "Now, when we call the constructor to instantiate the object, we pass in the name via the parentheses `()`."
   ]
  },
  {
   "cell_type": "code",
   "execution_count": 42,
   "id": "f1466cda",
   "metadata": {},
   "outputs": [
    {
     "name": "stdout",
     "output_type": "stream",
     "text": [
      "Nick\n",
      "22342612\n"
     ]
    }
   ],
   "source": [
    "nick_obj = Student(\"Nick\", 22342612) \n",
    "nick_obj.print()"
   ]
  },
  {
   "cell_type": "markdown",
   "id": "41216819",
   "metadata": {},
   "source": [
    "Now that we can customise the name for each object we can bring our earlier print method:"
   ]
  },
  {
   "cell_type": "code",
   "execution_count": 20,
   "id": "f9bf4019",
   "metadata": {},
   "outputs": [],
   "source": [
    "class Student:\n",
    "    def __init__(self, name):\n",
    "        self.name = name\n",
    "        \n",
    "    def print_name(self):\n",
    "        print(self.name) "
   ]
  },
  {
   "cell_type": "markdown",
   "id": "1e8fd58d",
   "metadata": {},
   "source": [
    "Note: remember the indentation for each block (the functions that sit in the class)"
   ]
  },
  {
   "cell_type": "code",
   "execution_count": 26,
   "id": "b679b736",
   "metadata": {},
   "outputs": [
    {
     "name": "stdout",
     "output_type": "stream",
     "text": [
      "Nick\n",
      "Sam\n"
     ]
    }
   ],
   "source": [
    "nick_obj = Student(\"Nick\") \n",
    "nick_obj.print_name()\n",
    "\n",
    "sam_obj = Student(\"Sam\") \n",
    "sam_obj.print_name()"
   ]
  },
  {
   "cell_type": "code",
   "execution_count": 29,
   "id": "929ca251",
   "metadata": {},
   "outputs": [
    {
     "name": "stdout",
     "output_type": "stream",
     "text": [
      "Nick\n",
      "Sam\n"
     ]
    }
   ],
   "source": [
    "print(nick_obj.name) \n",
    "print(sam_obj.name) "
   ]
  },
  {
   "cell_type": "markdown",
   "id": "8b26883a",
   "metadata": {},
   "source": [
    "## Python Classes in `.py` files\n",
    "\n",
    "* Remember when we imported modules? \n",
    "\n",
    "* These modules are dedicated scripts of a package, and often use the `init` language that we've seen for our class constructors. e.g.\n",
    "`.../numpy/__init__.py`"
   ]
  },
  {
   "cell_type": "code",
   "execution_count": 1,
   "id": "6d856781",
   "metadata": {},
   "outputs": [
    {
     "data": {
      "text/plain": [
       "<module 'numpy' from '/Users/nick/Library/Python/3.9/lib/python/site-packages/numpy/__init__.py'>"
      ]
     },
     "execution_count": 1,
     "metadata": {},
     "output_type": "execute_result"
    }
   ],
   "source": [
    "import numpy as np\n",
    "np"
   ]
  },
  {
   "cell_type": "markdown",
   "id": "a59fef0d",
   "metadata": {},
   "source": [
    "* It's often the case, like other languages that a class will be placed in a file. \n",
    "\n",
    "* It's wise to name this file with a lowercase letter, so not to be confused with the class with an uppercase letter. "
   ]
  },
  {
   "cell_type": "code",
   "execution_count": null,
   "id": "f449a71d",
   "metadata": {},
   "outputs": [],
   "source": [
    "# place the class definition in a student.py file\n",
    "class Student:\n",
    "    def __init__(self):\n",
    "        print(self)"
   ]
  },
  {
   "cell_type": "markdown",
   "id": "6573c1f4",
   "metadata": {},
   "source": [
    "* Remember that the format is: \n",
    "\n",
    "`from filename import Class`"
   ]
  },
  {
   "cell_type": "code",
   "execution_count": null,
   "id": "f7ae40b3",
   "metadata": {},
   "outputs": [
    {
     "name": "stdout",
     "output_type": "stream",
     "text": [
      "<student.Student object at 0x107bccdc0>\n"
     ]
    },
    {
     "data": {
      "text/plain": [
       "<student.Student at 0x107bccdc0>"
      ]
     },
     "execution_count": 2,
     "metadata": {},
     "output_type": "execute_result"
    }
   ],
   "source": [
    "from student import Student\n",
    "\n",
    "Student() # call the constructor"
   ]
  },
  {
   "cell_type": "markdown",
   "id": "20ae25af",
   "metadata": {},
   "source": [
    "## Classes and Objects in other languages: \n",
    "\n",
    "* In C++, C# and Java, we tend to define the constructor with the same name as the class: \n",
    "\n",
    "```\n",
    "public Student\n",
    "{\n",
    "    private int id;\n",
    "    private string name;\n",
    "\n",
    "    public Student() // default constructor\n",
    "    {\n",
    "        this.id = 0;\n",
    "        this.name = \"\"; \n",
    "    }\n",
    "\n",
    "    public Student(id, name) //non-default constructor\n",
    "    {\n",
    "        this.id = id;\n",
    "        this.name = name; \n",
    "    }\n",
    "}\n",
    "```\n",
    "\n",
    "\n",
    "* In C++, C# and Java, you would see this format for creating an object: \n",
    "\n",
    "`Student nick = new Student();`\n",
    "\n",
    "* The keyword `new` is an instruction to assign memory from the `heap`."
   ]
  },
  {
   "cell_type": "markdown",
   "id": "5b8fdb3b",
   "metadata": {},
   "source": [
    "## Constructor naming in Python: \n",
    "\n",
    "* If you tried to define the constructor with the same name as the class in Python, it would actually be a separate method (not the constructor)"
   ]
  },
  {
   "cell_type": "code",
   "execution_count": 19,
   "id": "2035b0b5",
   "metadata": {},
   "outputs": [],
   "source": [
    "class Student():\n",
    "    #def __init__(self):  #called implicitly\n",
    "    #  print(\"__init__() constructor called\")\n",
    "    def Student(self):\n",
    "        print(\"In Student() method - not the constructor!\")"
   ]
  },
  {
   "cell_type": "code",
   "execution_count": 20,
   "id": "6766edd9",
   "metadata": {},
   "outputs": [
    {
     "data": {
      "text/plain": [
       "<__main__.Student at 0x1247d2250>"
      ]
     },
     "execution_count": 20,
     "metadata": {},
     "output_type": "execute_result"
    }
   ],
   "source": [
    "Student() "
   ]
  },
  {
   "cell_type": "code",
   "execution_count": 24,
   "id": "144feb39",
   "metadata": {},
   "outputs": [],
   "source": [
    "class Student():\n",
    "    def __init__(self):\n",
    "        print(\"__init__() constructor called\")\n",
    "    def Student(self):\n",
    "        print(\"In Student method - not the constructor!\")"
   ]
  },
  {
   "cell_type": "code",
   "execution_count": 25,
   "id": "1fe965c3",
   "metadata": {},
   "outputs": [
    {
     "name": "stdout",
     "output_type": "stream",
     "text": [
      "__init__() constructor called\n"
     ]
    },
    {
     "data": {
      "text/plain": [
       "<__main__.Student at 0x1247d2ee0>"
      ]
     },
     "execution_count": 25,
     "metadata": {},
     "output_type": "execute_result"
    }
   ],
   "source": [
    "Student()"
   ]
  },
  {
   "cell_type": "code",
   "execution_count": 27,
   "id": "50701e66",
   "metadata": {},
   "outputs": [
    {
     "name": "stdout",
     "output_type": "stream",
     "text": [
      "__init__() constructor called\n",
      "In Student method - not the constructor!\n"
     ]
    }
   ],
   "source": [
    "obj = Student()\n",
    "obj.Student()"
   ]
  },
  {
   "cell_type": "markdown",
   "id": "d081cf4a",
   "metadata": {},
   "source": [
    "## Writing our own custom Exception classes\n",
    "\n",
    "* Whilst there are many (nearly 70) named `Exception` classes in Python, you may want to define your own Exception classes that are unique to your program. \n",
    "\n",
    "* Our custom Exception classes will need to inherit from the class `Exception`"
   ]
  },
  {
   "cell_type": "code",
   "execution_count": null,
   "id": "379696de",
   "metadata": {},
   "outputs": [],
   "source": [
    "class NegativeNumberError(Exception):\n",
    "    pass"
   ]
  },
  {
   "cell_type": "code",
   "execution_count": null,
   "id": "9a28ad62",
   "metadata": {},
   "outputs": [],
   "source": [
    "def square_root(x):\n",
    "    if x < 0:\n",
    "        raise NegativeNumberError(\"Cannot take square root of a negative number.\")\n",
    "    return x ** 0.5"
   ]
  },
  {
   "cell_type": "code",
   "execution_count": null,
   "id": "0ac278f3",
   "metadata": {},
   "outputs": [
    {
     "ename": "NegativeNumberError",
     "evalue": "Cannot take square root of a negative number.",
     "output_type": "error",
     "traceback": [
      "\u001b[0;31m---------------------------------------------------------------------------\u001b[0m\n",
      "\u001b[0;31mNegativeNumberError\u001b[0m                       Traceback (most recent call last)\n",
      "Cell \u001b[0;32mIn [65], line 1\u001b[0m\n",
      "\u001b[0;32m----> 1\u001b[0m square_root(\u001b[38;5;241m-\u001b[39m\u001b[38;5;241m4\u001b[39m)\n",
      "\n",
      "Cell \u001b[0;32mIn [64], line 3\u001b[0m, in \u001b[0;36msquare_root\u001b[0;34m(x)\u001b[0m\n",
      "\u001b[1;32m      1\u001b[0m \u001b[38;5;28;01mdef\u001b[39;00m \u001b[38;5;21msquare_root\u001b[39m(x):\n",
      "\u001b[1;32m      2\u001b[0m     \u001b[38;5;28;01mif\u001b[39;00m x \u001b[38;5;241m<\u001b[39m \u001b[38;5;241m0\u001b[39m:\n",
      "\u001b[0;32m----> 3\u001b[0m         \u001b[38;5;28;01mraise\u001b[39;00m NegativeNumberError(\u001b[38;5;124m\"\u001b[39m\u001b[38;5;124mCannot take square root of a negative number.\u001b[39m\u001b[38;5;124m\"\u001b[39m)\n",
      "\u001b[1;32m      4\u001b[0m     \u001b[38;5;28;01mreturn\u001b[39;00m x \u001b[38;5;241m*\u001b[39m\u001b[38;5;241m*\u001b[39m \u001b[38;5;241m0.5\u001b[39m\n",
      "\n",
      "\u001b[0;31mNegativeNumberError\u001b[0m: Cannot take square root of a negative number."
     ]
    }
   ],
   "source": [
    "square_root(-4) "
   ]
  },
  {
   "cell_type": "markdown",
   "id": "82c5f462",
   "metadata": {},
   "source": [
    "## Summary \n",
    "\n",
    "* A class is like a blueprint \n",
    "\n",
    "* Objects are instantiated (created) from a class \n",
    "\n",
    "* You can create multiple objects of a class.\n",
    "\n",
    "* A class defines the structure of objects to be created from it:\n",
    "    * attributes (variables)\n",
    "    * methods (functions) \n",
    "\n",
    "* Some of the object data may be `init`ialised when `constructed` - this data can be passed into `__init__()` via calling the constructor. \n",
    "\n",
    "* Object data (attributes) can be affected (changed) via mutator methods (functions) - or `setter` methods. \n",
    "\n",
    "* Object data is typically returned through the `getter` methods. These methods act like an interface - which controls access. More on this in the next lecture!\n",
    "\n",
    "* The Object name holds the memory address. This is what will be substituted into the `self` placeholder"
   ]
  },
  {
   "cell_type": "code",
   "execution_count": null,
   "id": "e093cb50",
   "metadata": {},
   "outputs": [],
   "source": [
    "class Student:\n",
    "    def __init__(self):\n",
    "        print(\"self refers to:\", self)"
   ]
  },
  {
   "cell_type": "code",
   "execution_count": 25,
   "id": "08bb9142",
   "metadata": {},
   "outputs": [
    {
     "name": "stdout",
     "output_type": "stream",
     "text": [
      "self refers to: <__main__.Student object at 0x103efae20>\n"
     ]
    },
    {
     "data": {
      "text/plain": [
       "<__main__.Student at 0x103efae20>"
      ]
     },
     "execution_count": 25,
     "metadata": {},
     "output_type": "execute_result"
    }
   ],
   "source": [
    "Student()"
   ]
  },
  {
   "cell_type": "markdown",
   "id": "e3fdbc6c",
   "metadata": {},
   "source": [
    "<img src=\"https://techvidvan.com/tutorials/wp-content/uploads/2020/02/java-class-objects.jpg\" alt=\"classes_vs_objects\" width=\"650\"> "
   ]
  },
  {
   "cell_type": "markdown",
   "id": "dd38cc99",
   "metadata": {
    "id": "dd38cc99"
   },
   "source": [
    "#### This Jupyter Notebook contains exercises for you to organise attributes and functions related to an entity into classes. You can then instantiate these classes (create objects) and assign unique values for these attributes. Attempt the following exercises, which slowly build in complexity. If you get stuck, check back to the <a href = \"https://youtu.be/druwXuJ-X4g?si=AuSmSu0RCVxdP8HC\"> Python lecture recording on Object Orientation here</a> or view the <a href = \"https://www.w3schools.com/python/python_classes.asp\">W3Schools page on Python Classes and Objects</a>, which includes examples, exercises and quizzes to help your understanding. \n"
   ]
  },
  {
   "cell_type": "markdown",
   "id": "9c74b2da",
   "metadata": {},
   "source": [
    "### Exercise 1: \n",
    "\n",
    "Below you will see a basic definition of a `Student` class. \n",
    "\n",
    "In the class definition below, write your name (as a `str`) where you see `...`. "
   ]
  },
  {
   "cell_type": "code",
   "execution_count": null,
   "id": "95fca166",
   "metadata": {},
   "outputs": [],
   "source": [
    "class Student: \n",
    "    name = ... # assign your name here as a str value"
   ]
  },
  {
   "cell_type": "markdown",
   "id": "765aae63",
   "metadata": {},
   "source": [
    "Now call the constructor to `initialise` the object (construct the object). \n",
    "\n",
    "Hint: the constructor is a method with the same name as the class."
   ]
  },
  {
   "cell_type": "code",
   "execution_count": null,
   "id": "fb01c237",
   "metadata": {},
   "outputs": [],
   "source": [
    "obj = ... # Call the constructor here.\n",
    "obj.name  # print your name"
   ]
  },
  {
   "cell_type": "markdown",
   "id": "6e5075e1",
   "metadata": {
    "id": "6e5075e1"
   },
   "source": [
    "### Exercise 2:\n",
    "\n",
    "Now we'll add an initialisation method  ``` __init__() ``` (otherwise known as a constructor) to the `Student` class. \n",
    "\n",
    "In this constructor method, write a `print` statement that outputs a message (e.g. \"Student constructor called\"). If you're new to OOP, this will be helpful to let you know when the constructor has been called. \n",
    "\n",
    "Now create a new object by calling the constructor. If successful, you should see the message you wrote into the constructor.\n",
    "\n",
    "<b>Question:</b> If you see this output:  ``` <__main__.Student at 0x10422b3d0> ``` What does it refer to?"
   ]
  },
  {
   "cell_type": "code",
   "execution_count": null,
   "id": "c0cbe127",
   "metadata": {},
   "outputs": [],
   "source": [
    "class Student: \n",
    "    def __init__(self):\n",
    "        ... # Write your print message here"
   ]
  },
  {
   "cell_type": "code",
   "execution_count": 4,
   "id": "1c93996b",
   "metadata": {
    "id": "1c93996b",
    "outputId": "fc2acb5f-64bd-48f2-9659-ddbc761958a4",
    "scrolled": false
   },
   "outputs": [
    {
     "name": "stdout",
     "output_type": "stream",
     "text": [
      "Student constructor called\n"
     ]
    },
    {
     "data": {
      "text/plain": [
       "<__main__.Student at 0x10422b3d0>"
      ]
     },
     "execution_count": 4,
     "metadata": {},
     "output_type": "execute_result"
    }
   ],
   "source": [
    "# Create an object by calling the constructor of Student here."
   ]
  },
  {
   "cell_type": "markdown",
   "id": "f62b3876",
   "metadata": {
    "id": "f62b3876"
   },
   "source": [
    "### Exercise 3\n",
    "Now modify the parameter list of the ```__init__()``` constructor for your `Student` class. \n",
    "\n",
    "Add variable names for the student's `name` and `id`. The values passed in as parameters will need to be stored in attributes of the `self` reference so they can be retreived. \n",
    "\n",
    "When you next call the constructor, you will have to supply values for these variables/attributes (name and id) in the paretheses of the constructor (values separated by a comma `,`).\n"
   ]
  },
  {
   "cell_type": "code",
   "execution_count": 6,
   "id": "b9e65ba7",
   "metadata": {
    "id": "b9e65ba7",
    "outputId": "efd8e87b-3df2-4d76-e08c-06eefe519d7d"
   },
   "outputs": [],
   "source": [
    "# Write your solution here"
   ]
  },
  {
   "cell_type": "markdown",
   "id": "82b6c407",
   "metadata": {
    "id": "82b6c407"
   },
   "source": [
    "### Exercise 4:\n",
    "Now provide an object name for the reference that is returned from calling the constructor (self), and which you see you output so far. In this case, as the context is students, use your first name as the name of the object.\n",
    "\n",
    "As the attributes of self are public, you can refer to them directly. Print the name and id values which you assigned to the object (by passing to the constructor), through the name of the object (your firstname that you gave to the object)."
   ]
  },
  {
   "cell_type": "code",
   "execution_count": 5,
   "id": "d786193b",
   "metadata": {
    "id": "d786193b",
    "outputId": "3e3128f6-0046-4064-c8af-e19e9f32bd99"
   },
   "outputs": [],
   "source": [
    "# Write your solution here"
   ]
  },
  {
   "cell_type": "markdown",
   "id": "fbe9071a",
   "metadata": {
    "id": "fbe9071a"
   },
   "source": [
    "### Exercise 5:\n",
    "Now reuse the same instructions in Exercise 3, to create two new objects which have unique names and id values. Print their details to the screen again (remember that each value is scoped to an object - make sure you refer to the right one!).\n",
    "\n",
    "(This step should illustrate the importance of defining a class structure that can be instantiated many times as objects)."
   ]
  },
  {
   "cell_type": "code",
   "execution_count": 4,
   "id": "2097420a",
   "metadata": {
    "id": "2097420a",
    "outputId": "63566834-43e9-40b2-9720-d7cb20961a41"
   },
   "outputs": [],
   "source": [
    "# Write your solution here"
   ]
  },
  {
   "cell_type": "markdown",
   "id": "564b04d8",
   "metadata": {
    "id": "564b04d8"
   },
   "source": [
    "### Exercise 6:\n",
    "For the sake of efficiency, let's define a print function in the Student class that will output the name and id values of self. Feel free to format how you would like. \n",
    "\n",
    "Check this works by calling the Student's print function. <b> You'll need to create new objects though </b>"
   ]
  },
  {
   "cell_type": "code",
   "execution_count": 3,
   "id": "e921a81c",
   "metadata": {
    "id": "e921a81c",
    "outputId": "53918f7e-b710-4784-b217-eaff27019afa"
   },
   "outputs": [],
   "source": [
    "# Write your solution here"
   ]
  },
  {
   "cell_type": "markdown",
   "id": "b441ed01",
   "metadata": {},
   "source": [
    "### Exercise 7\n",
    "\n",
    "Move your `Student` class (or create one if you haven't yet) to a `student.py` file. Then `import` the `Student` class `from` `student` either here in this `.ipynb` file or in your `main.py` that you created in the above exercise. Create an object in the location where this class is imported to ensure you have access to this class. "
   ]
  },
  {
   "cell_type": "code",
   "execution_count": null,
   "id": "759a8fcf",
   "metadata": {},
   "outputs": [],
   "source": [
    "# Either import your Student class here or in your main.py file\n",
    "# Create an object of Student here.\n"
   ]
  },
  {
   "cell_type": "markdown",
   "id": "f81fd6ff",
   "metadata": {},
   "source": []
  },
  {
   "cell_type": "markdown",
   "id": "2c2f5bab",
   "metadata": {},
   "source": [
    "### Exercise 8\n",
    "\n",
    "Now write the data of the student object to a file (e.g. `students.txt`). Consider how you will store the unique data for each attribute of a student object...\n",
    "\n",
    "Once considered and written, check that you can read it back in successfully. Display this data (either via printing in `main.py` or via this `.ipynb` file) to check the data has been written and read correctly.\n",
    "\n",
    "Extension: Now create multiple student objects and check that you can write the data of each to a file, and read them back in successfully. \n",
    "\n",
    "Extension: Can you create a function which arrange student data from objects in rows and columns (like a table/CSV)?\n"
   ]
  },
  {
   "cell_type": "code",
   "execution_count": null,
   "id": "c878344e",
   "metadata": {},
   "outputs": [],
   "source": [
    "# Write your solution here or in your main.py file\n"
   ]
  },
  {
   "cell_type": "markdown",
   "id": "3ebccf84",
   "metadata": {
    "id": "3ebccf84"
   },
   "source": [
    "### Exercise 9:\n",
    "Now that you've managed to create one class for `Student`, now define a `Course` class.\n",
    "\n",
    "This `Course` class should define a constructor that takes the course's `name` and `code` (course code) as arguments. Also define a `print()` method that will output these values to screen for any object of the `Course` class.\n",
    "\n",
    "Test this by instantiating the class, creating an object for the course you are enrolled on here at BNU. Call the constructor and pass the course name and code. Then call the Course's `print()` method on your object to see the details on the screen. \n",
    "\n",
    "FYI: You can find the official BNU Course Codes in the Programme Specifications <a href = \"https://www.bucks.ac.uk/search/courses?query=computing\"> which are linked under the course pages on our website </a>\n"
   ]
  },
  {
   "cell_type": "code",
   "execution_count": 2,
   "id": "0cadfab5",
   "metadata": {
    "id": "0cadfab5",
    "outputId": "a97500bd-0e84-477b-b939-33555d4a4c4d"
   },
   "outputs": [],
   "source": [
    "# Write your solution here"
   ]
  },
  {
   "cell_type": "markdown",
   "id": "7b1efbdb",
   "metadata": {
    "id": "7b1efbdb"
   },
   "source": [
    "### Exercise 10:\n",
    "\n",
    "Now add an attribute to the `Student` class, which will resemble the course object that a particular student is enroled on. Modify the constructor to accept an object of the `Course` class. Also amend the print function to call the Course's method defined previously (saving you having to write it again!).\n"
   ]
  },
  {
   "cell_type": "code",
   "execution_count": null,
   "id": "08a6006b",
   "metadata": {},
   "outputs": [],
   "source": [
    "# Write your solution here or in the Student.py file"
   ]
  },
  {
   "cell_type": "markdown",
   "id": "237a13f8",
   "metadata": {},
   "source": []
  },
  {
   "cell_type": "markdown",
   "id": "5210d058",
   "metadata": {},
   "source": [
    "### Exercise 11: \n",
    "\n",
    "Write exception handling into the constructor of the `Student` class below to ensure that objects are initialised with valid data. For example, student names cannot be empty strings or integers.\n",
    "\n",
    "Extension: What about `Staff` names too? Write a super class `Person` which features the exception handling code for validating names of both `Student` objects and `Staff` objects. Write both the `Staff` and `Student` classes to inherit from `Person`. "
   ]
  },
  {
   "cell_type": "code",
   "execution_count": null,
   "id": "82e601c3",
   "metadata": {},
   "outputs": [],
   "source": [
    "# Amend the code below to feature exception handling\n",
    "class Student: \n",
    "    def __init__(self, name, id):\n",
    "        self.name = name\n",
    "        self.id = id"
   ]
  },
  {
   "cell_type": "code",
   "execution_count": null,
   "id": "6179e00e",
   "metadata": {},
   "outputs": [],
   "source": [
    "# Create three objects of the Student class here.  \n",
    "obj1 = ..."
   ]
  },
  {
   "cell_type": "markdown",
   "id": "1c4a232a",
   "metadata": {
    "id": "1c4a232a"
   },
   "source": [
    "### (Bonus) Exercise 12:\n",
    "\n",
    "Now add an appropriate variable to the Student class, which will store each student's overall mark for their course. \n",
    "Rather than defining the mark at compile time, ask a user to enter a mark. \n",
    "\n",
    "This concept can be expanded later for modules (each course has modules, and each module has its own mark), but for this exercise let's work with one overall mark for the student's course. \n",
    "\n",
    "Then amend the print function of the Student class to print their mark (for the course), in addition to printing the details of the course they are enrolled on.\n",
    "\n",
    "\n",
    "Extension: you could reuse the functions from the previous notebook for converting the mark to a grade, and the grade to a university classification. Consider whether could define these functions in one of your two classes (Student or Course) - which is a better fit for the logic?"
   ]
  },
  {
   "cell_type": "code",
   "execution_count": null,
   "id": "f2120fbd",
   "metadata": {},
   "outputs": [],
   "source": [
    "# Write your solution here. Also integrate the functions below as you see fit."
   ]
  },
  {
   "cell_type": "code",
   "execution_count": null,
   "id": "71adb574",
   "metadata": {
    "id": "71adb574",
    "outputId": "caf99270-db1e-4717-b546-0828602acf6a"
   },
   "outputs": [],
   "source": [
    "def convert_mark_to_grade(mark):\n",
    "    ''' Function comment: describe what this function does '''\n",
    "    if mark < 0 or mark > 100:\n",
    "        return 'invalid mark'\n",
    "    elif mark < 40:\n",
    "        return 'F'\n",
    "    elif mark < 50:\n",
    "        return 'D'\n",
    "    elif mark < 60:\n",
    "        return 'C'\n",
    "    elif mark < 70:\n",
    "        return 'B'\n",
    "    else:\n",
    "        return 'A'"
   ]
  },
  {
   "cell_type": "code",
   "execution_count": null,
   "id": "561092b7",
   "metadata": {},
   "outputs": [],
   "source": [
    "def convert_grade_to_classification(grade):\n",
    "    ''' Function comment: describe what this function does '''\n",
    "    if grade == 'A':\n",
    "        return '1st class'\n",
    "    elif grade == 'B':\n",
    "        return '2:1'\n",
    "    elif grade == 'C':\n",
    "        return '2:2'\n",
    "    elif grade == 'D':\n",
    "        return '3rd'\n",
    "    elif grade == 'E':\n",
    "        return 'ordinary'\n",
    "    else:\n",
    "        return 'fail'"
   ]
  },
  {
   "cell_type": "markdown",
   "id": "07c657a6",
   "metadata": {
    "id": "07c657a6"
   },
   "source": [
    "### (Bonus) Exercise 13\n",
    "\n",
    "In preparation for further work (and one final practice of writing classes and instantiating objects), write a `Module` class where the constructor will store the module name and module code. Also create a print function which will output the relevant values for an object of this class. \n",
    "\n",
    "Call the constructor and create a module object (e.g. COM4008 Programming Concepts). \n",
    "\n",
    "Extension: Link the `Course` and `Module` class so that students on a course, also take a module. To keep it simple, write a function in the `Course` class that enables module objects to be added (e.g. ``` add_module() ``` ) to an attribute of a course object. "
   ]
  },
  {
   "cell_type": "code",
   "execution_count": null,
   "id": "917a0a3f",
   "metadata": {
    "id": "917a0a3f",
    "outputId": "936088ec-1292-41d1-cf52-7702569c3122"
   },
   "outputs": [],
   "source": [
    "# Write your solution here"
   ]
  },
  {
   "cell_type": "markdown",
   "id": "11077868",
   "metadata": {
    "id": "11077868"
   },
   "source": [
    "### (Bonus) Exercise 14 (Extensions on this example):\n",
    "\n",
    "If you've successfully managed to create the `Student`, `Course`, `Module` classes by navigating the previous exercises. Why not continue to develop this example. \n",
    "\n",
    "You could:\n",
    "- You could create a `list` of students that take one module, and a `list` of modules that are associated with one course.  \n",
    "- Create statistics: average mark across one student's modules. And/or average mark across a cohort of students for one module.\n",
    "- Save the code for each Class as a separate `.py` file (rather than ipynb file). This would allow you to expand upon the code for each class (`Student`, `Course`, `Module` etc). You could also then have a dedicated `main.py` file that manages the program. "
   ]
  },
  {
   "cell_type": "code",
   "execution_count": null,
   "id": "ddf7677c",
   "metadata": {
    "id": "ddf7677c"
   },
   "outputs": [],
   "source": [
    "# Write your solution here"
   ]
  }
 ],
 "metadata": {
  "colab": {
   "provenance": []
  },
  "kernelspec": {
   "display_name": "Python 3",
   "language": "python",
   "name": "python3"
  },
  "language_info": {
   "codemirror_mode": {
    "name": "ipython",
    "version": 3
   },
   "file_extension": ".py",
   "mimetype": "text/x-python",
   "name": "python",
   "nbconvert_exporter": "python",
   "pygments_lexer": "ipython3",
   "version": "3.9.6"
  }
 },
 "nbformat": 4,
 "nbformat_minor": 5
}
