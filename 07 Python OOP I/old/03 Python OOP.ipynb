{
  "cells": [
    {
      "cell_type": "markdown",
      "id": "1eba3b72",
      "metadata": {
        "id": "1eba3b72"
      },
      "source": [
        "# 03 Python Object Oriented Programming\n",
        "ND August 2023"
      ]
    },
    {
      "cell_type": "markdown",
      "id": "dd38cc99",
      "metadata": {
        "id": "dd38cc99"
      },
      "source": [
        "#### This Jupyter Notebook contains exercises for you to organise attributes and functions related to an entity into classes. You can then instantiate these classes (create objects) and assign unique values for these attributes. Attempt the following exercises, which slowly build in complexity. If you get stuck, check back to the <a href = \"https://youtu.be/RZeZ1Ig0T_E?si=RJ0DtJbsCDrJw8zv\"> Python lecture recording on Object Orientation here</a> or look through the <a href = \"https://www.python.org\">Python documentation here</a>."
      ]
    },
    {
      "cell_type": "markdown",
      "id": "6e5075e1",
      "metadata": {
        "id": "6e5075e1"
      },
      "source": [
        "### Exercise 1:\n",
        "\n",
        "First define a Student class with an initialisation function  ``` __init__() ``` (otherwise known as a constructor) that prints out a message (e.g. \"Student constructor called\"). \n",
        "\n",
        "Then call this constructor (in other cell or underneath the class definition) to check that the right function is being called. Hint: rememember that the constructor function has the same name as the class. \n",
        "\n",
        "<b>Question:</b> If you see this output:  ``` <__main__.Student at 0x10422b3d0> ``` What does it refer to?"
      ]
    },
    {
      "cell_type": "code",
      "execution_count": 4,
      "id": "1c93996b",
      "metadata": {
        "id": "1c93996b",
        "outputId": "fc2acb5f-64bd-48f2-9659-ddbc761958a4",
        "scrolled": false
      },
      "outputs": [
        {
          "name": "stdout",
          "output_type": "stream",
          "text": [
            "Student constructor called\n"
          ]
        },
        {
          "data": {
            "text/plain": [
              "<__main__.Student at 0x10422b3d0>"
            ]
          },
          "execution_count": 4,
          "metadata": {},
          "output_type": "execute_result"
        }
      ],
      "source": [
        "# Write your solution here"
      ]
    },
    {
      "cell_type": "markdown",
      "id": "f62b3876",
      "metadata": {
        "id": "f62b3876"
      },
      "source": [
        "### Exercise 2\n",
        "Now modify the parameter list of the ```__init__()``` constructor, and add variable names for the student's name and id. The values passed in as parameters will need to be stored in attributes of the self reference so they can be retreived. \n",
        "\n",
        "When you next call the constructor, you will have to supply values for these variables/attributes (name and id) in the paretheses of the constructor (values separated by a comma , ).\n"
      ]
    },
    {
      "cell_type": "code",
      "execution_count": 6,
      "id": "b9e65ba7",
      "metadata": {
        "id": "b9e65ba7",
        "outputId": "efd8e87b-3df2-4d76-e08c-06eefe519d7d"
      },
      "outputs": [],
      "source": [
        "# Write your solution here"
      ]
    },
    {
      "cell_type": "markdown",
      "id": "82b6c407",
      "metadata": {
        "id": "82b6c407"
      },
      "source": [
        "### Exercise 3:\n",
        "Now provide an object name for the reference that is returned from calling the constructor (self), and which you see you output so far. In this case, as the context is students, use your first name as the name of the object.\n",
        "\n",
        "As the attributes of self are public, you can refer to them directly. Print the name and id values which you assigned to the object (by passing to the constructor), through the name of the object (your firstname that you gave to the object)."
      ]
    },
    {
      "cell_type": "code",
      "execution_count": 5,
      "id": "d786193b",
      "metadata": {
        "id": "d786193b",
        "outputId": "3e3128f6-0046-4064-c8af-e19e9f32bd99"
      },
      "outputs": [],
      "source": [
        "# Write your solution here"
      ]
    },
    {
      "cell_type": "markdown",
      "id": "fbe9071a",
      "metadata": {
        "id": "fbe9071a"
      },
      "source": [
        "### Exercise 4:\n",
        "Now reuse the same instructions in Exercise 3, to create two new objects which have unique names and id values. Print their details to the screen again (remember that each value is scoped to an object - make sure you refer to the right one!).\n",
        "\n",
        "(This step should illustrate the importance of defining a class structure that can be instantiated many times as objects)."
      ]
    },
    {
      "cell_type": "code",
      "execution_count": 4,
      "id": "2097420a",
      "metadata": {
        "id": "2097420a",
        "outputId": "63566834-43e9-40b2-9720-d7cb20961a41"
      },
      "outputs": [],
      "source": [
        "# Write your solution here"
      ]
    },
    {
      "cell_type": "markdown",
      "id": "564b04d8",
      "metadata": {
        "id": "564b04d8"
      },
      "source": [
        "### Exercise 5:\n",
        "For the sake of efficiency, let's define a print function in the Student class that will output the name and id values of self. Feel free to format how you would like. \n",
        "\n",
        "Check this works by calling the Student's print function. <b> You'll need to create new objects though </b>"
      ]
    },
    {
      "cell_type": "code",
      "execution_count": 3,
      "id": "e921a81c",
      "metadata": {
        "id": "e921a81c",
        "outputId": "53918f7e-b710-4784-b217-eaff27019afa"
      },
      "outputs": [],
      "source": [
        "# Write your solution here"
      ]
    },
    {
      "cell_type": "markdown",
      "id": "3ebccf84",
      "metadata": {
        "id": "3ebccf84"
      },
      "source": [
        "### Exercise 6:\n",
        "Now that you've managed to create one class for Students, define a Course class.\n",
        "\n",
        "This Course class should define a constructor that takes the course's name and code as arguments. Also define a print function that will output these values to screen for any object of the Course class.\n",
        "\n",
        "Test this by instantiating the class, creating an object for the course you are enrolled on here at BNU. Call the constructor and pass the course name and code. Then call the Course's print method on your object to see the details on the screen. \n",
        "\n",
        "FYI: You can find the official BNU Course Codes in the Programme Specifications <a href = \"https://www.bucks.ac.uk/search/courses?query=computing\"> which are linked under the course pages on our website </a>\n"
      ]
    },
    {
      "cell_type": "code",
      "execution_count": 2,
      "id": "0cadfab5",
      "metadata": {
        "id": "0cadfab5",
        "outputId": "a97500bd-0e84-477b-b939-33555d4a4c4d"
      },
      "outputs": [],
      "source": [
        "# Write your solution here"
      ]
    },
    {
      "cell_type": "markdown",
      "id": "7b1efbdb",
      "metadata": {
        "id": "7b1efbdb"
      },
      "source": [
        "### Exercise 7:\n",
        "\n",
        "Now add an attribute to the Student class, which will resemble the course object that a particular student is enroled one. Modify the constructor to accept an object of the Course class. Also amend the print function to call the Course's function defined previously (saving you having to write it again!).\n"
      ]
    },
    {
      "cell_type": "code",
      "execution_count": 1,
      "id": "08a6006b",
      "metadata": {},
      "outputs": [],
      "source": [
        "# Write your solution here"
      ]
    },
    {
      "cell_type": "markdown",
      "id": "1c4a232a",
      "metadata": {
        "id": "1c4a232a"
      },
      "source": [
        "### Exercise 8 (Which reuses the functions from Exercise 6 and 7 in 02 Python Selection and Iteration):\n",
        "\n",
        "Now add an appropriate variable to the Student class, which will store each student's overall mark for their course. \n",
        "Rather than defining the mark at compile time, ask a user to enter a mark. \n",
        "\n",
        "This concept can be expanded later for modules (each course has modules, and each module has its own mark), but for this exercise let's work with one overall mark for the student's course. \n",
        "\n",
        "Then amend the print function of the Student class to print their mark (for the course), in addition to printing the details of the course they are enrolled on.\n",
        "\n",
        "\n",
        "Extension: you could reuse the functions from the previous notebook for converting the mark to a grade, and the grade to a university classification. Consider whether could define these functions in one of your two classes (Student or Course) - which is a better fit for the logic?"
      ]
    },
    {
      "cell_type": "code",
      "execution_count": null,
      "id": "f2120fbd",
      "metadata": {},
      "outputs": [],
      "source": [
        "# Write your solution here. Also integrate the functions below as you see fit."
      ]
    },
    {
      "cell_type": "code",
      "execution_count": 58,
      "id": "71adb574",
      "metadata": {
        "id": "71adb574",
        "outputId": "caf99270-db1e-4717-b546-0828602acf6a"
      },
      "outputs": [],
      "source": [
        "''' Function from Python 02 '''\n",
        "def convert_mark_to_grade():\n",
        "    if mark < 0 or mark > 100:\n",
        "        return 'invalid mark'\n",
        "    elif mark < 40:\n",
        "        return 'F'\n",
        "    elif mark < 50:\n",
        "        return 'D'\n",
        "    elif mark < 60:\n",
        "        return 'C'\n",
        "    elif mark < 70:\n",
        "        return 'B'\n",
        "    else:\n",
        "        return 'A'"
      ]
    },
    {
      "cell_type": "code",
      "execution_count": 60,
      "id": "561092b7",
      "metadata": {},
      "outputs": [],
      "source": [
        "''' Function from Python 02 '''\n",
        "def convert_grade_to_classification():\n",
        "    if grade == 'A':\n",
        "        return '1st class'\n",
        "    elif grade == 'B':\n",
        "        return '2:1'\n",
        "    elif grade == 'C':\n",
        "        return '2:2'\n",
        "    elif grade == 'D':\n",
        "        return '3rd'\n",
        "    elif grade == 'E':\n",
        "        return 'ordinary'\n",
        "    else:\n",
        "        return 'fail'"
      ]
    },
    {
      "cell_type": "markdown",
      "id": "07c657a6",
      "metadata": {
        "id": "07c657a6"
      },
      "source": [
        "### Exercise 9\n",
        "\n",
        "In preparation for further work (and one final practice of writing classes and instantiating objects), write a Module class where the constructor will store the module name and module code. Also create a print function which will output the relevant values for an object of this class. \n",
        "\n",
        "Call the constructor and create a module object (e.g. COM4008 Programming Concepts). \n",
        "\n",
        "Extension: Link the Course and Module class so that students on a course, also take a module. To keep it simple, write a function in the Course class that enables module objects to be added (e.g. ``` add_module() ``` ) to an attribute of a course object. "
      ]
    },
    {
      "cell_type": "code",
      "execution_count": null,
      "id": "917a0a3f",
      "metadata": {
        "id": "917a0a3f",
        "outputId": "936088ec-1292-41d1-cf52-7702569c3122"
      },
      "outputs": [],
      "source": [
        "# Write your solution here"
      ]
    },
    {
      "cell_type": "markdown",
      "id": "11077868",
      "metadata": {
        "id": "11077868"
      },
      "source": [
        "### Exercise 10 (Extensions on this example):\n",
        "\n",
        "If you've successfully managed to create the Student, Course, Module classes by navigating the previous exercises. Why not continue to develop this example. \n",
        "\n",
        "You could:\n",
        "- Ahead of the next Python class (04), look into Python lists. You could create a list of students that take one module, and a list of modules that are associated with one course.  \n",
        "- Create statistics: average mark across one student's modules. And/or average mark across a cohort of students for one module.\n",
        "- Save the code for each Class as a separate .py file (rather than ipynb file). This would allow you to expand upon the code for each class (Student, Course, Module etc). You could also then have a dedicated main file that manages the program. "
      ]
    },
    {
      "cell_type": "code",
      "execution_count": null,
      "id": "ddf7677c",
      "metadata": {
        "id": "ddf7677c"
      },
      "outputs": [],
      "source": [
        "# Write your solution here"
      ]
    }
  ],
  "metadata": {
    "colab": {
      "provenance": []
    },
    "kernelspec": {
      "display_name": "Python 3 (ipykernel)",
      "language": "python",
      "name": "python3"
    },
    "language_info": {
      "codemirror_mode": {
        "name": "ipython",
        "version": 3
      },
      "file_extension": ".py",
      "mimetype": "text/x-python",
      "name": "python",
      "nbconvert_exporter": "python",
      "pygments_lexer": "ipython3",
      "version": "3.10.9"
    }
  },
  "nbformat": 4,
  "nbformat_minor": 5
}
