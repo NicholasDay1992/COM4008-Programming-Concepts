{
  "cells": [
    {
      "cell_type": "markdown",
      "id": "1eba3b72",
      "metadata": {
        "id": "1eba3b72"
      },
      "source": [
        "# 06 Python Imports, Libraries and APIs\n"
      ]
    },
    {
      "cell_type": "markdown",
      "id": "104769f3",
      "metadata": {},
      "source": [
        "## Plan for the Lecture:\n",
        "\n",
        "1. Imports and Libraries\n",
        "\n",
        "2. File Handling (I/O)\n",
        "\n",
        "3. APIs"
      ]
    },
    {
      "cell_type": "markdown",
      "id": "8c46bc3d",
      "metadata": {},
      "source": [
        "## 1.0 Framework, Package, Modules, Library - aren't they all the same?\n",
        "\n",
        "* Modules = self contained file or script. e.g. `maths_utils.py`\n",
        "\n",
        "* Package = a group of modules (self-contained scripts) e.g. Pandas. Packages will contain a `__init__.py` file that indicates to Python that this directory should be treated as a package.\n",
        "\n",
        "* Library = like a library of books, in software development, a library is a collection of classes and functions. In Python, this would be a collection of related packages.\n",
        "\n",
        "* Framework = more extensive system that provides a structure for building applications, often dictating architecture and calling your code.\n"
      ]
    },
    {
      "cell_type": "markdown",
      "id": "8326f023",
      "metadata": {},
      "source": [
        "## 1.0 The `import` keyword"
      ]
    },
    {
      "cell_type": "code",
      "execution_count": 129,
      "id": "d1c61ab5",
      "metadata": {},
      "outputs": [
        {
          "data": {
            "text/plain": [
              "<module 'random' from '/Library/Developer/CommandLineTools/Library/Frameworks/Python3.framework/Versions/3.9/lib/python3.9/random.py'>"
            ]
          },
          "execution_count": 129,
          "metadata": {},
          "output_type": "execute_result"
        }
      ],
      "source": [
        "import random\n",
        "random"
      ]
    },
    {
      "cell_type": "code",
      "execution_count": 130,
      "id": "43ec3b8d",
      "metadata": {},
      "outputs": [
        {
          "data": {
            "text/plain": [
              "<bound method Random.shuffle of <random.Random object at 0x155838e10>>"
            ]
          },
          "execution_count": 130,
          "metadata": {},
          "output_type": "execute_result"
        }
      ],
      "source": [
        "random.shuffle"
      ]
    },
    {
      "cell_type": "code",
      "execution_count": 131,
      "id": "3142bf92",
      "metadata": {},
      "outputs": [
        {
          "data": {
            "text/plain": [
              "['/Users/nick/Documents/GitHub/COM4008-Programming-Concepts/06 Python Imports and APIs',\n",
              " '/Library/Developer/CommandLineTools/Library/Frameworks/Python3.framework/Versions/3.9/lib/python39.zip',\n",
              " '/Library/Developer/CommandLineTools/Library/Frameworks/Python3.framework/Versions/3.9/lib/python3.9',\n",
              " '/Library/Developer/CommandLineTools/Library/Frameworks/Python3.framework/Versions/3.9/lib/python3.9/lib-dynload',\n",
              " '',\n",
              " '/Users/nick/Library/Python/3.9/lib/python/site-packages',\n",
              " '/Library/Developer/CommandLineTools/Library/Frameworks/Python3.framework/Versions/3.9/lib/python3.9/site-packages']"
            ]
          },
          "execution_count": 131,
          "metadata": {},
          "output_type": "execute_result"
        }
      ],
      "source": [
        "import sys\n",
        "sys.path"
      ]
    },
    {
      "cell_type": "code",
      "execution_count": 132,
      "id": "58bca8a8",
      "metadata": {},
      "outputs": [
        {
          "data": {
            "text/plain": [
              "['/Users/nick/Library/Python/3.9/lib/python/site-packages/ipykernel_launcher.py',\n",
              " '--f=/Users/nick/Library/Jupyter/runtime/kernel-v374f231c893613ef967c7845bbcd9f0c43701a3f9.json']"
            ]
          },
          "execution_count": 132,
          "metadata": {},
          "output_type": "execute_result"
        }
      ],
      "source": [
        "sys.argv"
      ]
    },
    {
      "cell_type": "code",
      "execution_count": 133,
      "id": "0513df02",
      "metadata": {},
      "outputs": [
        {
          "data": {
            "text/plain": [
              "'/Users/nick/Library/Python/3.9/lib/python/site-packages/ipykernel_launcher.py'"
            ]
          },
          "execution_count": 133,
          "metadata": {},
          "output_type": "execute_result"
        }
      ],
      "source": [
        "sys.argv[0]"
      ]
    },
    {
      "cell_type": "code",
      "execution_count": 134,
      "id": "34e22e9e",
      "metadata": {},
      "outputs": [
        {
          "data": {
            "text/plain": [
              "'--f=/Users/nick/Library/Jupyter/runtime/kernel-v374f231c893613ef967c7845bbcd9f0c43701a3f9.json'"
            ]
          },
          "execution_count": 134,
          "metadata": {},
          "output_type": "execute_result"
        }
      ],
      "source": [
        "sys.argv[1]"
      ]
    },
    {
      "cell_type": "code",
      "execution_count": 135,
      "id": "fbfce1d8",
      "metadata": {},
      "outputs": [
        {
          "name": "stdout",
          "output_type": "stream",
          "text": [
            "5.0\n"
          ]
        }
      ],
      "source": [
        "import math\n",
        "print(math.sqrt(25)) "
      ]
    },
    {
      "cell_type": "markdown",
      "id": "679dd8d0",
      "metadata": {},
      "source": [
        "## The `from` keyword"
      ]
    },
    {
      "cell_type": "code",
      "execution_count": 163,
      "id": "ceb9d5f1",
      "metadata": {},
      "outputs": [
        {
          "data": {
            "text/plain": [
              "1"
            ]
          },
          "execution_count": 163,
          "metadata": {},
          "output_type": "execute_result"
        }
      ],
      "source": [
        "from random import randint\n",
        "\n",
        "num = randint(0, 10) # lower bound to upper bound (incl.)\n",
        "num"
      ]
    },
    {
      "cell_type": "code",
      "execution_count": 162,
      "id": "181ad923",
      "metadata": {},
      "outputs": [
        {
          "data": {
            "text/plain": [
              "4"
            ]
          },
          "execution_count": 162,
          "metadata": {},
          "output_type": "execute_result"
        }
      ],
      "source": [
        "num = random.randint(0, 10)\n",
        "num "
      ]
    },
    {
      "cell_type": "markdown",
      "id": "9c1d0984",
      "metadata": {},
      "source": [
        "## Now switch to `main.py`\n",
        "\n",
        "* Open a terminal window in VSC (or other environment)\n",
        "\n",
        "* `cd \"06 Python Imports and APIs`\n",
        "\n",
        "* `python main.py`"
      ]
    },
    {
      "cell_type": "code",
      "execution_count": null,
      "id": "22c69731",
      "metadata": {},
      "outputs": [],
      "source": []
    },
    {
      "cell_type": "markdown",
      "id": "b5b6f79a",
      "metadata": {},
      "source": [
        "## 2.0 File I/O\n",
        "\n",
        "* In Python, the `open()` function is used to manage external files. \n",
        "\n",
        "* The `open()` function takes two parameters; <b>filepath</b>, and <b>mode</b>.\n",
        "\n",
        "\n",
        "\n",
        "* There are four different methods (modes) for opening a file:\n",
        "\n",
        "* `\"r\"` - Read - Default value. Opens a file for reading, error if the file does not exist\n",
        "\n",
        "* `\"a\"` - Append - Opens a file for appending, creates the file if it does not exist\n",
        "\n",
        "* `\"w\"` - Write - Opens a file for writing, creates the file if it does not exist\n",
        "\n",
        "* `\"x\"` - Create - Creates the specified file, returns an error if the file exists"
      ]
    },
    {
      "cell_type": "markdown",
      "id": "ef103ac9",
      "metadata": {},
      "source": [
        "## 2.1 Create and Write to File\n",
        "Create and write a message to a text file"
      ]
    },
    {
      "cell_type": "code",
      "execution_count": 64,
      "id": "1d519000",
      "metadata": {},
      "outputs": [
        {
          "data": {
            "text/plain": [
              "22"
            ]
          },
          "execution_count": 64,
          "metadata": {},
          "output_type": "execute_result"
        }
      ],
      "source": [
        "file_content = open(\"message.txt\", \"w\") # w for write - create the file\n",
        "file_content.write(\"Hello from message.txt\")"
      ]
    },
    {
      "cell_type": "markdown",
      "id": "19e7d3b3",
      "metadata": {},
      "source": [
        "Read from this text file"
      ]
    },
    {
      "cell_type": "code",
      "execution_count": 65,
      "id": "aed2749c",
      "metadata": {},
      "outputs": [
        {
          "name": "stdout",
          "output_type": "stream",
          "text": [
            "Hello from message.txt\n"
          ]
        }
      ],
      "source": [
        "file_content = open(\"message.txt\", \"r\")\n",
        "print(file_content.read())"
      ]
    },
    {
      "cell_type": "code",
      "execution_count": null,
      "id": "5b451236",
      "metadata": {},
      "outputs": [],
      "source": [
        "file_content = open(\"message.txt\", \"a\") # a for append - add to the file\n",
        "file_content.write(\"\\nAdditional line in message.txt\")"
      ]
    },
    {
      "cell_type": "markdown",
      "id": "962177fd",
      "metadata": {},
      "source": [
        "## 2.2 Read Methods"
      ]
    },
    {
      "cell_type": "code",
      "execution_count": null,
      "id": "19ac1b4b",
      "metadata": {},
      "outputs": [],
      "source": [
        "file_content = open(\"message.txt\", \"r\")\n",
        "print(file_content.read())"
      ]
    },
    {
      "cell_type": "code",
      "execution_count": null,
      "id": "dadbe62f",
      "metadata": {},
      "outputs": [],
      "source": [
        "file_content = open(\"message.txt\", \"r\")\n",
        "print(file_content.readline())"
      ]
    },
    {
      "cell_type": "code",
      "execution_count": null,
      "id": "5e9b946f",
      "metadata": {},
      "outputs": [],
      "source": [
        "file_content = open(\"message.txt\", \"r\")\n",
        "print(file_content.readline())\n",
        "print(file_content.readline())"
      ]
    },
    {
      "cell_type": "code",
      "execution_count": null,
      "id": "cf2f5f0a",
      "metadata": {},
      "outputs": [],
      "source": [
        "file_content = open(\"message.txt\", \"r\")\n",
        "print(file_content.read())\n",
        "print(file_content.read())"
      ]
    },
    {
      "cell_type": "code",
      "execution_count": null,
      "id": "7ab14679",
      "metadata": {},
      "outputs": [],
      "source": [
        "file_content = open(\"message.txt\", \"r\")\n",
        "for line in file_content:\n",
        "  print(line)"
      ]
    },
    {
      "cell_type": "markdown",
      "id": "8e823ec0",
      "metadata": {},
      "source": [
        "## 2.3 Adding Exception Handling\n",
        "\n",
        "* Here is where we can guard against `IOErrors` as file management concerns input and output of text."
      ]
    },
    {
      "cell_type": "code",
      "execution_count": 83,
      "id": "7fe61504",
      "metadata": {},
      "outputs": [],
      "source": [
        "def open_file(filename):\n",
        "    if not filename.endswith('.txt'):\n",
        "        raise IOError(\"Only .txt files are supported.\")\n",
        "    with open(filename) as file:\n",
        "        return file.read()"
      ]
    },
    {
      "cell_type": "code",
      "execution_count": 84,
      "id": "3540d07f",
      "metadata": {},
      "outputs": [
        {
          "ename": "OSError",
          "evalue": "Only .txt files are supported.",
          "output_type": "error",
          "traceback": [
            "\u001b[0;31m---------------------------------------------------------------------------\u001b[0m",
            "\u001b[0;31mOSError\u001b[0m                                   Traceback (most recent call last)",
            "Cell \u001b[0;32mIn [84], line 1\u001b[0m\n\u001b[0;32m----> 1\u001b[0m file_content \u001b[38;5;241m=\u001b[39m open_file(\u001b[38;5;124m\"\u001b[39m\u001b[38;5;124mdata.csv\u001b[39m\u001b[38;5;124m\"\u001b[39m)\n",
            "Cell \u001b[0;32mIn [83], line 3\u001b[0m, in \u001b[0;36mopen_file\u001b[0;34m(filename)\u001b[0m\n\u001b[1;32m      1\u001b[0m \u001b[38;5;28;01mdef\u001b[39;00m \u001b[38;5;21mopen_file\u001b[39m(filename):\n\u001b[1;32m      2\u001b[0m     \u001b[38;5;28;01mif\u001b[39;00m \u001b[38;5;129;01mnot\u001b[39;00m filename\u001b[38;5;241m.\u001b[39mendswith(\u001b[38;5;124m'\u001b[39m\u001b[38;5;124m.txt\u001b[39m\u001b[38;5;124m'\u001b[39m):\n\u001b[0;32m----> 3\u001b[0m         \u001b[38;5;28;01mraise\u001b[39;00m \u001b[38;5;167;01mIOError\u001b[39;00m(\u001b[38;5;124m\"\u001b[39m\u001b[38;5;124mOnly .txt files are supported.\u001b[39m\u001b[38;5;124m\"\u001b[39m)\n\u001b[1;32m      4\u001b[0m     \u001b[38;5;28;01mwith\u001b[39;00m \u001b[38;5;28mopen\u001b[39m(filename) \u001b[38;5;28;01mas\u001b[39;00m file:\n\u001b[1;32m      5\u001b[0m         \u001b[38;5;28;01mreturn\u001b[39;00m file\u001b[38;5;241m.\u001b[39mread()\n",
            "\u001b[0;31mOSError\u001b[0m: Only .txt files are supported."
          ]
        }
      ],
      "source": [
        "file_content = open_file(\"data.csv\")  # Raises IOError: Only .txt files are supported."
      ]
    },
    {
      "cell_type": "code",
      "execution_count": 31,
      "id": "e91d3016",
      "metadata": {},
      "outputs": [],
      "source": [
        "file_content = open_file(\"message.txt\")"
      ]
    },
    {
      "cell_type": "code",
      "execution_count": null,
      "id": "78a7942c",
      "metadata": {},
      "outputs": [],
      "source": [
        "file_content"
      ]
    },
    {
      "cell_type": "markdown",
      "id": "d5162b7f",
      "metadata": {},
      "source": [
        "## Converting file content to `str`\n",
        "\n",
        "* Helpful for searching and navigating the contents of files\n",
        "\n",
        "* Also good for using this content in your python applications. "
      ]
    },
    {
      "cell_type": "code",
      "execution_count": 66,
      "id": "c50e484f",
      "metadata": {},
      "outputs": [
        {
          "data": {
            "text/plain": [
              "_io.TextIOWrapper"
            ]
          },
          "execution_count": 66,
          "metadata": {},
          "output_type": "execute_result"
        }
      ],
      "source": [
        "file_content = open(\"message.txt\", \"r\")\n",
        "type(file_content)"
      ]
    },
    {
      "cell_type": "code",
      "execution_count": 67,
      "id": "85b39307",
      "metadata": {},
      "outputs": [],
      "source": [
        "file_str = str(file_content)"
      ]
    },
    {
      "cell_type": "code",
      "execution_count": 68,
      "id": "f4f64cff",
      "metadata": {},
      "outputs": [
        {
          "data": {
            "text/plain": [
              "\"<_io.TextIOWrapper name='message.txt' mode='r' encoding='UTF-8'>\""
            ]
          },
          "execution_count": 68,
          "metadata": {},
          "output_type": "execute_result"
        }
      ],
      "source": [
        "file_str"
      ]
    },
    {
      "cell_type": "code",
      "execution_count": 69,
      "id": "9de16b76",
      "metadata": {},
      "outputs": [
        {
          "name": "stdout",
          "output_type": "stream",
          "text": [
            "Hello from message.txt\n"
          ]
        }
      ],
      "source": [
        "file_content = open(\"message.txt\", \"r\")\n",
        "print(file_content.read())"
      ]
    },
    {
      "cell_type": "code",
      "execution_count": 74,
      "id": "590aa116",
      "metadata": {},
      "outputs": [
        {
          "data": {
            "text/plain": [
              "str"
            ]
          },
          "execution_count": 74,
          "metadata": {},
          "output_type": "execute_result"
        }
      ],
      "source": [
        "file_content = open(\"message.txt\", \"r\")\n",
        "file_str = file_content.read()\n",
        "type(file_str)"
      ]
    },
    {
      "cell_type": "code",
      "execution_count": 75,
      "id": "e82b4df1",
      "metadata": {},
      "outputs": [
        {
          "data": {
            "text/plain": [
              "'Hello'"
            ]
          },
          "execution_count": 75,
          "metadata": {},
          "output_type": "execute_result"
        }
      ],
      "source": [
        "file_str[0:5]"
      ]
    },
    {
      "cell_type": "code",
      "execution_count": 76,
      "id": "8d46c13d",
      "metadata": {},
      "outputs": [
        {
          "data": {
            "text/plain": [
              "6"
            ]
          },
          "execution_count": 76,
          "metadata": {},
          "output_type": "execute_result"
        }
      ],
      "source": [
        "file_str.find('from')"
      ]
    },
    {
      "cell_type": "code",
      "execution_count": 79,
      "id": "d7476226",
      "metadata": {},
      "outputs": [
        {
          "name": "stdout",
          "output_type": "stream",
          "text": [
            "HELLO FROM MESSAGE.TXT\n"
          ]
        }
      ],
      "source": [
        "print(file_str.upper())"
      ]
    },
    {
      "cell_type": "code",
      "execution_count": 80,
      "id": "6b70b339",
      "metadata": {},
      "outputs": [
        {
          "data": {
            "text/plain": [
              "['Hello', 'from', 'message.txt']"
            ]
          },
          "execution_count": 80,
          "metadata": {},
          "output_type": "execute_result"
        }
      ],
      "source": [
        "words = file_str.split()\n",
        "words"
      ]
    },
    {
      "cell_type": "markdown",
      "id": "9cc5caea",
      "metadata": {},
      "source": [
        "File path of the file represented as a `str`, followed by `r` for read"
      ]
    },
    {
      "cell_type": "markdown",
      "id": "bf18580b",
      "metadata": {},
      "source": [
        "## APIs - Application Programming Interface\n",
        "\n",
        "* APIs are interfaces to an existing system/application\n",
        "\n",
        "* When you touch your smartphone, you're tapping the interface (the screen) to communicate with the OS.\n",
        "\n",
        "* Someone has already coded great applications that serve useful data. E.g. Google Maps, PayPal, iTunes, TFL etc\n",
        "\n",
        "* Therefore, you don't need to code this from scratch - you can communicate with their service/system via the API. \n",
        "\n",
        "* You can use your file structure and navigation skills to ascertain the data you're looking for. "
      ]
    },
    {
      "cell_type": "markdown",
      "id": "b00f38de",
      "metadata": {},
      "source": [
        "## 3.1 JSON\n",
        "\n",
        "* JavaScript Object Notation (JSON) is near universal form that REST APIs use today to communicate data. \n",
        "\n",
        "* We can import this format into Python. \n",
        "\n",
        "* As you'll see, JSON utilises a similar key and value pair to the `dict` Python structure/type."
      ]
    },
    {
      "cell_type": "code",
      "execution_count": null,
      "id": "8bb4c16c",
      "metadata": {},
      "outputs": [],
      "source": [
        "import json"
      ]
    },
    {
      "cell_type": "code",
      "execution_count": null,
      "id": "1cea71d4",
      "metadata": {},
      "outputs": [],
      "source": [
        "\n",
        "# some JSON:\n",
        "x =  '{ \"name\":\"John\", \"age\":30, \"city\":\"New York\"}'\n",
        "\n",
        "# parse x:\n",
        "y = json.loads(x)\n",
        "\n",
        "# the result is a Python dictionary:\n",
        "print(y[\"age\"])"
      ]
    },
    {
      "cell_type": "code",
      "execution_count": null,
      "id": "19a693e0",
      "metadata": {},
      "outputs": [],
      "source": [
        "import json\n",
        "\n",
        "# a Python object (dict):\n",
        "x = {\n",
        "  \"name\": \"John\",\n",
        "  \"age\": 30,\n",
        "  \"city\": \"New York\"\n",
        "}\n",
        "\n",
        "# convert into JSON:\n",
        "y = json.dumps(x)\n",
        "\n",
        "# the result is a JSON string:\n",
        "print(y)"
      ]
    },
    {
      "cell_type": "code",
      "execution_count": null,
      "id": "02186998",
      "metadata": {},
      "outputs": [],
      "source": [
        "print(json.dumps({\"name\": \"John\", \"age\": 30}))\n",
        "print(json.dumps([\"apple\", \"bananas\"]))\n",
        "print(json.dumps((\"apple\", \"bananas\")))\n",
        "print(json.dumps(\"hello\"))\n",
        "print(json.dumps(42))\n",
        "print(json.dumps(31.76))\n",
        "print(json.dumps(True))\n",
        "print(json.dumps(False))\n",
        "print(json.dumps(None))"
      ]
    },
    {
      "cell_type": "code",
      "execution_count": null,
      "id": "fc643fdd",
      "metadata": {},
      "outputs": [],
      "source": [
        "x = {\n",
        "  \"name\": \"John\",\n",
        "  \"age\": 30,\n",
        "  \"married\": True,\n",
        "  \"divorced\": False,\n",
        "  \"children\": (\"Ann\",\"Billy\"),\n",
        "  \"pets\": None,\n",
        "  \"cars\": [\n",
        "    {\"model\": \"BMW 230\", \"mpg\": 27.5},\n",
        "    {\"model\": \"Ford Edge\", \"mpg\": 24.1}\n",
        "  ]\n",
        "}\n",
        "\n",
        "print(json.dumps(x))"
      ]
    },
    {
      "cell_type": "code",
      "execution_count": null,
      "id": "a978eb73",
      "metadata": {},
      "outputs": [],
      "source": [
        "json.dumps(x, indent=4)"
      ]
    },
    {
      "cell_type": "code",
      "execution_count": null,
      "id": "3c44609f",
      "metadata": {},
      "outputs": [],
      "source": [
        "json.dumps(x, indent=4, separators=(\". \", \" = \"))"
      ]
    },
    {
      "cell_type": "code",
      "execution_count": null,
      "id": "6f2b5c38",
      "metadata": {},
      "outputs": [],
      "source": [
        "json.dumps(x, indent=4, sort_keys=True)"
      ]
    },
    {
      "cell_type": "markdown",
      "id": "694d71cd",
      "metadata": {},
      "source": [
        "## iTunes example \n",
        "\n",
        "Example searches:\n",
        "\n",
        "* `https://itunes.apple.com/search?term=jack+johnson`\n",
        "\n",
        "* `https://itunes.apple.com/search?term=jack+johnson&limit=25`\n",
        "\n",
        "* `https://itunes.apple.com/search?term=queen&limit=25`\n",
        "\n",
        "Not just music either, iTunes has books, which you can lookup via ISBN:\n",
        "\n",
        "* `https://itunes.apple.com/lookup?isbn=9780316069359`\n",
        "\n",
        "For more information and examples of how to construct search queries, see the [iTunes documentation here](https://developer.apple.com/library/archive/documentation/AudioVideo/Conceptual/iTuneSearchAPI/SearchExamples.html#//apple_ref/doc/uid/TP40017632-CH6-SW1).\n",
        "\n"
      ]
    },
    {
      "cell_type": "markdown",
      "id": "237b5838",
      "metadata": {},
      "source": [
        "Depending on which environment you're running this notebook, you may need to install `requests` before using this package. \n",
        "\n",
        "`pip install requests`\n",
        "\n",
        "`python3 -m pip install -U requests --user`"
      ]
    },
    {
      "cell_type": "code",
      "execution_count": 87,
      "id": "7c773d49",
      "metadata": {},
      "outputs": [
        {
          "name": "stderr",
          "output_type": "stream",
          "text": [
            "/Users/nick/Library/Python/3.9/lib/python/site-packages/urllib3/__init__.py:35: NotOpenSSLWarning: urllib3 v2 only supports OpenSSL 1.1.1+, currently the 'ssl' module is compiled with 'LibreSSL 2.8.3'. See: https://github.com/urllib3/urllib3/issues/3020\n",
            "  warnings.warn(\n"
          ]
        }
      ],
      "source": [
        "import requests"
      ]
    },
    {
      "cell_type": "code",
      "execution_count": 116,
      "id": "c6a4e264",
      "metadata": {},
      "outputs": [
        {
          "name": "stdout",
          "output_type": "stream",
          "text": [
            "{'resultCount': 10, 'results': [{'wrapperType': 'track', 'kind': 'song', 'artistId': 159260351, 'collectionId': 1468058165, 'trackId': 1468058173, 'artistName': 'Taylor Swift', 'collectionName': 'Lover', 'trackName': 'Lover', 'collectionCensoredName': 'Lover', 'trackCensoredName': 'Lover', 'artistViewUrl': 'https://music.apple.com/us/artist/taylor-swift/159260351?uo=4', 'collectionViewUrl': 'https://music.apple.com/us/album/lover/1468058165?i=1468058173&uo=4', 'trackViewUrl': 'https://music.apple.com/us/album/lover/1468058165?i=1468058173&uo=4', 'previewUrl': 'https://audio-ssl.itunes.apple.com/itunes-assets/AudioPreview211/v4/4f/fd/c7/4ffdc746-c0de-999b-eb93-2753eaa18978/mzaf_8574966813156057641.plus.aac.p.m4a', 'artworkUrl30': 'https://is1-ssl.mzstatic.com/image/thumb/Music125/v4/49/3d/ab/493dab54-f920-9043-6181-80993b8116c9/19UMGIM53909.rgb.jpg/30x30bb.jpg', 'artworkUrl60': 'https://is1-ssl.mzstatic.com/image/thumb/Music125/v4/49/3d/ab/493dab54-f920-9043-6181-80993b8116c9/19UMGIM53909.rgb.jpg/60x60bb.jpg', 'artworkUrl100': 'https://is1-ssl.mzstatic.com/image/thumb/Music125/v4/49/3d/ab/493dab54-f920-9043-6181-80993b8116c9/19UMGIM53909.rgb.jpg/100x100bb.jpg', 'collectionPrice': 11.99, 'trackPrice': 1.29, 'releaseDate': '2019-08-16T07:00:00Z', 'collectionExplicitness': 'notExplicit', 'trackExplicitness': 'notExplicit', 'discCount': 1, 'discNumber': 1, 'trackCount': 18, 'trackNumber': 3, 'trackTimeMillis': 221300, 'country': 'USA', 'currency': 'USD', 'primaryGenreName': 'Pop', 'isStreamable': True}, {'wrapperType': 'track', 'kind': 'song', 'artistId': 159260351, 'collectionId': 1468058165, 'trackId': 1468058704, 'artistName': 'Taylor Swift', 'collectionName': 'Lover', 'trackName': 'You Need To Calm Down', 'collectionCensoredName': 'Lover', 'trackCensoredName': 'You Need To Calm Down', 'artistViewUrl': 'https://music.apple.com/us/artist/taylor-swift/159260351?uo=4', 'collectionViewUrl': 'https://music.apple.com/us/album/you-need-to-calm-down/1468058165?i=1468058704&uo=4', 'trackViewUrl': 'https://music.apple.com/us/album/you-need-to-calm-down/1468058165?i=1468058704&uo=4', 'previewUrl': 'https://audio-ssl.itunes.apple.com/itunes-assets/AudioPreview211/v4/85/05/a9/8505a97c-15ff-f665-fec4-f6bf59e5b0fa/mzaf_5253572336075386160.plus.aac.p.m4a', 'artworkUrl30': 'https://is1-ssl.mzstatic.com/image/thumb/Music125/v4/49/3d/ab/493dab54-f920-9043-6181-80993b8116c9/19UMGIM53909.rgb.jpg/30x30bb.jpg', 'artworkUrl60': 'https://is1-ssl.mzstatic.com/image/thumb/Music125/v4/49/3d/ab/493dab54-f920-9043-6181-80993b8116c9/19UMGIM53909.rgb.jpg/60x60bb.jpg', 'artworkUrl100': 'https://is1-ssl.mzstatic.com/image/thumb/Music125/v4/49/3d/ab/493dab54-f920-9043-6181-80993b8116c9/19UMGIM53909.rgb.jpg/100x100bb.jpg', 'collectionPrice': 11.99, 'trackPrice': 1.29, 'releaseDate': '2019-06-14T07:00:00Z', 'collectionExplicitness': 'notExplicit', 'trackExplicitness': 'notExplicit', 'discCount': 1, 'discNumber': 1, 'trackCount': 18, 'trackNumber': 14, 'trackTimeMillis': 171352, 'country': 'USA', 'currency': 'USD', 'primaryGenreName': 'Pop', 'isStreamable': True}, {'wrapperType': 'track', 'kind': 'song', 'artistId': 159260351, 'collectionId': 1468058165, 'trackId': 1468058171, 'artistName': 'Taylor Swift', 'collectionName': 'Lover', 'trackName': 'Cruel Summer', 'collectionCensoredName': 'Lover', 'trackCensoredName': 'Cruel Summer', 'artistViewUrl': 'https://music.apple.com/us/artist/taylor-swift/159260351?uo=4', 'collectionViewUrl': 'https://music.apple.com/us/album/cruel-summer/1468058165?i=1468058171&uo=4', 'trackViewUrl': 'https://music.apple.com/us/album/cruel-summer/1468058165?i=1468058171&uo=4', 'previewUrl': 'https://audio-ssl.itunes.apple.com/itunes-assets/AudioPreview211/v4/96/61/ff/9661ff73-0d57-582a-5e57-5687abb33313/mzaf_15246628164161261055.plus.aac.p.m4a', 'artworkUrl30': 'https://is1-ssl.mzstatic.com/image/thumb/Music125/v4/49/3d/ab/493dab54-f920-9043-6181-80993b8116c9/19UMGIM53909.rgb.jpg/30x30bb.jpg', 'artworkUrl60': 'https://is1-ssl.mzstatic.com/image/thumb/Music125/v4/49/3d/ab/493dab54-f920-9043-6181-80993b8116c9/19UMGIM53909.rgb.jpg/60x60bb.jpg', 'artworkUrl100': 'https://is1-ssl.mzstatic.com/image/thumb/Music125/v4/49/3d/ab/493dab54-f920-9043-6181-80993b8116c9/19UMGIM53909.rgb.jpg/100x100bb.jpg', 'collectionPrice': 11.99, 'trackPrice': 1.29, 'releaseDate': '2019-08-23T07:00:00Z', 'collectionExplicitness': 'notExplicit', 'trackExplicitness': 'notExplicit', 'discCount': 1, 'discNumber': 1, 'trackCount': 18, 'trackNumber': 2, 'trackTimeMillis': 178426, 'country': 'USA', 'currency': 'USD', 'primaryGenreName': 'Pop', 'isStreamable': True}, {'wrapperType': 'track', 'kind': 'song', 'artistId': 159260351, 'collectionId': 1468058165, 'trackId': 1468058177, 'artistName': 'Taylor Swift', 'collectionName': 'Lover', 'trackName': 'The Archer', 'collectionCensoredName': 'Lover', 'trackCensoredName': 'The Archer', 'artistViewUrl': 'https://music.apple.com/us/artist/taylor-swift/159260351?uo=4', 'collectionViewUrl': 'https://music.apple.com/us/album/the-archer/1468058165?i=1468058177&uo=4', 'trackViewUrl': 'https://music.apple.com/us/album/the-archer/1468058165?i=1468058177&uo=4', 'previewUrl': 'https://audio-ssl.itunes.apple.com/itunes-assets/AudioPreview221/v4/d6/72/ff/d672ffa9-9504-10b0-d3e6-bcf888b7ef00/mzaf_6747193909082167147.plus.aac.p.m4a', 'artworkUrl30': 'https://is1-ssl.mzstatic.com/image/thumb/Music125/v4/49/3d/ab/493dab54-f920-9043-6181-80993b8116c9/19UMGIM53909.rgb.jpg/30x30bb.jpg', 'artworkUrl60': 'https://is1-ssl.mzstatic.com/image/thumb/Music125/v4/49/3d/ab/493dab54-f920-9043-6181-80993b8116c9/19UMGIM53909.rgb.jpg/60x60bb.jpg', 'artworkUrl100': 'https://is1-ssl.mzstatic.com/image/thumb/Music125/v4/49/3d/ab/493dab54-f920-9043-6181-80993b8116c9/19UMGIM53909.rgb.jpg/100x100bb.jpg', 'collectionPrice': 11.99, 'trackPrice': 1.29, 'releaseDate': '2019-07-23T07:00:00Z', 'collectionExplicitness': 'notExplicit', 'trackExplicitness': 'notExplicit', 'discCount': 1, 'discNumber': 1, 'trackCount': 18, 'trackNumber': 5, 'trackTimeMillis': 211235, 'country': 'USA', 'currency': 'USD', 'primaryGenreName': 'Pop', 'isStreamable': True}, {'wrapperType': 'track', 'kind': 'song', 'artistId': 159260351, 'collectionId': 1468058165, 'trackId': 1468058706, 'artistName': 'Taylor Swift', 'collectionName': 'Lover', 'trackName': 'ME! (feat. Brendon Urie of Panic! At The Disco)', 'collectionCensoredName': 'Lover', 'trackCensoredName': 'ME! (feat. Brendon Urie of Panic! At The Disco)', 'artistViewUrl': 'https://music.apple.com/us/artist/taylor-swift/159260351?uo=4', 'collectionViewUrl': 'https://music.apple.com/us/album/me-feat-brendon-urie-of-panic-at-the-disco/1468058165?i=1468058706&uo=4', 'trackViewUrl': 'https://music.apple.com/us/album/me-feat-brendon-urie-of-panic-at-the-disco/1468058165?i=1468058706&uo=4', 'previewUrl': 'https://audio-ssl.itunes.apple.com/itunes-assets/AudioPreview221/v4/08/b2/a1/08b2a176-be4a-6218-3339-dd1dbf00c443/mzaf_13396297911439214793.plus.aac.p.m4a', 'artworkUrl30': 'https://is1-ssl.mzstatic.com/image/thumb/Music125/v4/49/3d/ab/493dab54-f920-9043-6181-80993b8116c9/19UMGIM53909.rgb.jpg/30x30bb.jpg', 'artworkUrl60': 'https://is1-ssl.mzstatic.com/image/thumb/Music125/v4/49/3d/ab/493dab54-f920-9043-6181-80993b8116c9/19UMGIM53909.rgb.jpg/60x60bb.jpg', 'artworkUrl100': 'https://is1-ssl.mzstatic.com/image/thumb/Music125/v4/49/3d/ab/493dab54-f920-9043-6181-80993b8116c9/19UMGIM53909.rgb.jpg/100x100bb.jpg', 'collectionPrice': 11.99, 'trackPrice': 1.29, 'releaseDate': '2019-04-26T07:00:00Z', 'collectionExplicitness': 'notExplicit', 'trackExplicitness': 'notExplicit', 'discCount': 1, 'discNumber': 1, 'trackCount': 18, 'trackNumber': 16, 'trackTimeMillis': 193000, 'country': 'USA', 'currency': 'USD', 'primaryGenreName': 'Pop', 'isStreamable': True}, {'wrapperType': 'track', 'kind': 'song', 'artistId': 159260351, 'collectionId': 1468058165, 'trackId': 1468058699, 'artistName': 'Taylor Swift', 'collectionName': 'Lover', 'trackName': 'Soon You’ll Get Better (feat. The Chicks)', 'collectionCensoredName': 'Lover', 'trackCensoredName': 'Soon You’ll Get Better (feat. The Chicks)', 'artistViewUrl': 'https://music.apple.com/us/artist/taylor-swift/159260351?uo=4', 'collectionViewUrl': 'https://music.apple.com/us/album/soon-youll-get-better-feat-the-chicks/1468058165?i=1468058699&uo=4', 'trackViewUrl': 'https://music.apple.com/us/album/soon-youll-get-better-feat-the-chicks/1468058165?i=1468058699&uo=4', 'previewUrl': 'https://audio-ssl.itunes.apple.com/itunes-assets/AudioPreview211/v4/a4/cd/f3/a4cdf39b-9a13-9826-54d6-1f1d26485dca/mzaf_2564565437711864211.plus.aac.p.m4a', 'artworkUrl30': 'https://is1-ssl.mzstatic.com/image/thumb/Music125/v4/49/3d/ab/493dab54-f920-9043-6181-80993b8116c9/19UMGIM53909.rgb.jpg/30x30bb.jpg', 'artworkUrl60': 'https://is1-ssl.mzstatic.com/image/thumb/Music125/v4/49/3d/ab/493dab54-f920-9043-6181-80993b8116c9/19UMGIM53909.rgb.jpg/60x60bb.jpg', 'artworkUrl100': 'https://is1-ssl.mzstatic.com/image/thumb/Music125/v4/49/3d/ab/493dab54-f920-9043-6181-80993b8116c9/19UMGIM53909.rgb.jpg/100x100bb.jpg', 'collectionPrice': 11.99, 'trackPrice': 1.29, 'releaseDate': '2019-08-23T07:00:00Z', 'collectionExplicitness': 'notExplicit', 'trackExplicitness': 'notExplicit', 'discCount': 1, 'discNumber': 1, 'trackCount': 18, 'trackNumber': 12, 'trackTimeMillis': 201590, 'country': 'USA', 'currency': 'USD', 'primaryGenreName': 'Pop', 'isStreamable': True}, {'wrapperType': 'track', 'kind': 'song', 'artistId': 159260351, 'collectionId': 1468058165, 'trackId': 1468058169, 'artistName': 'Taylor Swift', 'collectionName': 'Lover', 'trackName': 'I Forgot That You Existed', 'collectionCensoredName': 'Lover', 'trackCensoredName': 'I Forgot That You Existed', 'artistViewUrl': 'https://music.apple.com/us/artist/taylor-swift/159260351?uo=4', 'collectionViewUrl': 'https://music.apple.com/us/album/i-forgot-that-you-existed/1468058165?i=1468058169&uo=4', 'trackViewUrl': 'https://music.apple.com/us/album/i-forgot-that-you-existed/1468058165?i=1468058169&uo=4', 'previewUrl': 'https://audio-ssl.itunes.apple.com/itunes-assets/AudioPreview211/v4/47/0e/44/470e44f6-b7f6-d9b6-2808-0c0396351fd2/mzaf_10683787134779885341.plus.aac.p.m4a', 'artworkUrl30': 'https://is1-ssl.mzstatic.com/image/thumb/Music125/v4/49/3d/ab/493dab54-f920-9043-6181-80993b8116c9/19UMGIM53909.rgb.jpg/30x30bb.jpg', 'artworkUrl60': 'https://is1-ssl.mzstatic.com/image/thumb/Music125/v4/49/3d/ab/493dab54-f920-9043-6181-80993b8116c9/19UMGIM53909.rgb.jpg/60x60bb.jpg', 'artworkUrl100': 'https://is1-ssl.mzstatic.com/image/thumb/Music125/v4/49/3d/ab/493dab54-f920-9043-6181-80993b8116c9/19UMGIM53909.rgb.jpg/100x100bb.jpg', 'collectionPrice': 11.99, 'trackPrice': 1.29, 'releaseDate': '2019-08-23T07:00:00Z', 'collectionExplicitness': 'notExplicit', 'trackExplicitness': 'notExplicit', 'discCount': 1, 'discNumber': 1, 'trackCount': 18, 'trackNumber': 1, 'trackTimeMillis': 170651, 'country': 'USA', 'currency': 'USD', 'primaryGenreName': 'Pop', 'isStreamable': True}, {'wrapperType': 'track', 'kind': 'song', 'artistId': 159260351, 'collectionId': 1468058165, 'trackId': 1468058180, 'artistName': 'Taylor Swift', 'collectionName': 'Lover', 'trackName': 'Miss Americana & The Heartbreak Prince', 'collectionCensoredName': 'Lover', 'trackCensoredName': 'Miss Americana & The Heartbreak Prince', 'artistViewUrl': 'https://music.apple.com/us/artist/taylor-swift/159260351?uo=4', 'collectionViewUrl': 'https://music.apple.com/us/album/miss-americana-the-heartbreak-prince/1468058165?i=1468058180&uo=4', 'trackViewUrl': 'https://music.apple.com/us/album/miss-americana-the-heartbreak-prince/1468058165?i=1468058180&uo=4', 'previewUrl': 'https://audio-ssl.itunes.apple.com/itunes-assets/AudioPreview221/v4/c4/38/9b/c4389b8d-bb1e-2713-3fdb-a63c5d737ccb/mzaf_8781066753461023269.plus.aac.p.m4a', 'artworkUrl30': 'https://is1-ssl.mzstatic.com/image/thumb/Music125/v4/49/3d/ab/493dab54-f920-9043-6181-80993b8116c9/19UMGIM53909.rgb.jpg/30x30bb.jpg', 'artworkUrl60': 'https://is1-ssl.mzstatic.com/image/thumb/Music125/v4/49/3d/ab/493dab54-f920-9043-6181-80993b8116c9/19UMGIM53909.rgb.jpg/60x60bb.jpg', 'artworkUrl100': 'https://is1-ssl.mzstatic.com/image/thumb/Music125/v4/49/3d/ab/493dab54-f920-9043-6181-80993b8116c9/19UMGIM53909.rgb.jpg/100x100bb.jpg', 'collectionPrice': 11.99, 'trackPrice': 1.29, 'releaseDate': '2019-08-23T07:00:00Z', 'collectionExplicitness': 'notExplicit', 'trackExplicitness': 'notExplicit', 'discCount': 1, 'discNumber': 1, 'trackCount': 18, 'trackNumber': 7, 'trackTimeMillis': 234137, 'country': 'USA', 'currency': 'USD', 'primaryGenreName': 'Pop', 'isStreamable': True}, {'wrapperType': 'track', 'kind': 'song', 'artistId': 159260351, 'collectionId': 1468058165, 'trackId': 1468058185, 'artistName': 'Taylor Swift', 'collectionName': 'Lover', 'trackName': 'Death By A Thousand Cuts', 'collectionCensoredName': 'Lover', 'trackCensoredName': 'Death By A Thousand Cuts', 'artistViewUrl': 'https://music.apple.com/us/artist/taylor-swift/159260351?uo=4', 'collectionViewUrl': 'https://music.apple.com/us/album/death-by-a-thousand-cuts/1468058165?i=1468058185&uo=4', 'trackViewUrl': 'https://music.apple.com/us/album/death-by-a-thousand-cuts/1468058165?i=1468058185&uo=4', 'previewUrl': 'https://audio-ssl.itunes.apple.com/itunes-assets/AudioPreview221/v4/9d/e4/21/9de42109-b4b4-9989-c0af-e23b565c031d/mzaf_9751897862617583377.plus.aac.p.m4a', 'artworkUrl30': 'https://is1-ssl.mzstatic.com/image/thumb/Music125/v4/49/3d/ab/493dab54-f920-9043-6181-80993b8116c9/19UMGIM53909.rgb.jpg/30x30bb.jpg', 'artworkUrl60': 'https://is1-ssl.mzstatic.com/image/thumb/Music125/v4/49/3d/ab/493dab54-f920-9043-6181-80993b8116c9/19UMGIM53909.rgb.jpg/60x60bb.jpg', 'artworkUrl100': 'https://is1-ssl.mzstatic.com/image/thumb/Music125/v4/49/3d/ab/493dab54-f920-9043-6181-80993b8116c9/19UMGIM53909.rgb.jpg/100x100bb.jpg', 'collectionPrice': 11.99, 'trackPrice': 1.29, 'releaseDate': '2019-08-23T07:00:00Z', 'collectionExplicitness': 'notExplicit', 'trackExplicitness': 'notExplicit', 'discCount': 1, 'discNumber': 1, 'trackCount': 18, 'trackNumber': 10, 'trackTimeMillis': 198530, 'country': 'USA', 'currency': 'USD', 'primaryGenreName': 'Pop', 'isStreamable': True}, {'wrapperType': 'track', 'kind': 'song', 'artistId': 159260351, 'collectionId': 1468058165, 'trackId': 1468058181, 'artistName': 'Taylor Swift', 'collectionName': 'Lover', 'trackName': 'Paper Rings', 'collectionCensoredName': 'Lover', 'trackCensoredName': 'Paper Rings', 'artistViewUrl': 'https://music.apple.com/us/artist/taylor-swift/159260351?uo=4', 'collectionViewUrl': 'https://music.apple.com/us/album/paper-rings/1468058165?i=1468058181&uo=4', 'trackViewUrl': 'https://music.apple.com/us/album/paper-rings/1468058165?i=1468058181&uo=4', 'previewUrl': 'https://audio-ssl.itunes.apple.com/itunes-assets/AudioPreview221/v4/cd/f1/47/cdf1474c-fe9f-3d45-7ca1-c7a8e1aad405/mzaf_7251368477724682182.plus.aac.p.m4a', 'artworkUrl30': 'https://is1-ssl.mzstatic.com/image/thumb/Music125/v4/49/3d/ab/493dab54-f920-9043-6181-80993b8116c9/19UMGIM53909.rgb.jpg/30x30bb.jpg', 'artworkUrl60': 'https://is1-ssl.mzstatic.com/image/thumb/Music125/v4/49/3d/ab/493dab54-f920-9043-6181-80993b8116c9/19UMGIM53909.rgb.jpg/60x60bb.jpg', 'artworkUrl100': 'https://is1-ssl.mzstatic.com/image/thumb/Music125/v4/49/3d/ab/493dab54-f920-9043-6181-80993b8116c9/19UMGIM53909.rgb.jpg/100x100bb.jpg', 'collectionPrice': 11.99, 'trackPrice': 1.29, 'releaseDate': '2019-08-23T07:00:00Z', 'collectionExplicitness': 'notExplicit', 'trackExplicitness': 'notExplicit', 'discCount': 1, 'discNumber': 1, 'trackCount': 18, 'trackNumber': 8, 'trackTimeMillis': 222407, 'country': 'USA', 'currency': 'USD', 'primaryGenreName': 'Pop', 'isStreamable': True}]}\n"
          ]
        }
      ],
      "source": [
        "def search_itunes(query, media_type=\"music\"):\n",
        "    \"\"\"Search iTunes and return results in JSON format.\n",
        "    \n",
        "    Args:\n",
        "        query (str): The search term.\n",
        "        media_type (str): The type of media to search for (e.g., music, movie, podcast).\n",
        "    \n",
        "    Returns:\n",
        "        dict: The JSON response from the iTunes API.\n",
        "    \"\"\"\n",
        "    base_url = \"https://itunes.apple.com/search\"\n",
        "    params = {\n",
        "        \"term\": query,\n",
        "        \"media\": media_type,\n",
        "        \"limit\": 10  # Limit the number of results to 10\n",
        "    }\n",
        "    \n",
        "    response = requests.get(base_url, params=params)\n",
        "    \n",
        "    # Check if the request was successful\n",
        "    if response.status_code == 200:\n",
        "        return response.json()  # Convert the response to JSON\n",
        "    else:\n",
        "        response.raise_for_status()  # Raise an exception for HTTP errors\n",
        "\n",
        "# Example usage\n",
        "query = \"Taylor Swift\"\n",
        "media_type = \"music\"\n",
        "results = search_itunes(query, media_type)\n",
        "\n",
        "print(results)"
      ]
    },
    {
      "cell_type": "code",
      "execution_count": 117,
      "id": "6533c4d1",
      "metadata": {},
      "outputs": [
        {
          "data": {
            "text/plain": [
              "{'resultCount': 10,\n",
              " 'results': [{'wrapperType': 'track',\n",
              "   'kind': 'song',\n",
              "   'artistId': 159260351,\n",
              "   'collectionId': 1468058165,\n",
              "   'trackId': 1468058173,\n",
              "   'artistName': 'Taylor Swift',\n",
              "   'collectionName': 'Lover',\n",
              "   'trackName': 'Lover',\n",
              "   'collectionCensoredName': 'Lover',\n",
              "   'trackCensoredName': 'Lover',\n",
              "   'artistViewUrl': 'https://music.apple.com/us/artist/taylor-swift/159260351?uo=4',\n",
              "   'collectionViewUrl': 'https://music.apple.com/us/album/lover/1468058165?i=1468058173&uo=4',\n",
              "   'trackViewUrl': 'https://music.apple.com/us/album/lover/1468058165?i=1468058173&uo=4',\n",
              "   'previewUrl': 'https://audio-ssl.itunes.apple.com/itunes-assets/AudioPreview211/v4/4f/fd/c7/4ffdc746-c0de-999b-eb93-2753eaa18978/mzaf_8574966813156057641.plus.aac.p.m4a',\n",
              "   'artworkUrl30': 'https://is1-ssl.mzstatic.com/image/thumb/Music125/v4/49/3d/ab/493dab54-f920-9043-6181-80993b8116c9/19UMGIM53909.rgb.jpg/30x30bb.jpg',\n",
              "   'artworkUrl60': 'https://is1-ssl.mzstatic.com/image/thumb/Music125/v4/49/3d/ab/493dab54-f920-9043-6181-80993b8116c9/19UMGIM53909.rgb.jpg/60x60bb.jpg',\n",
              "   'artworkUrl100': 'https://is1-ssl.mzstatic.com/image/thumb/Music125/v4/49/3d/ab/493dab54-f920-9043-6181-80993b8116c9/19UMGIM53909.rgb.jpg/100x100bb.jpg',\n",
              "   'collectionPrice': 11.99,\n",
              "   'trackPrice': 1.29,\n",
              "   'releaseDate': '2019-08-16T07:00:00Z',\n",
              "   'collectionExplicitness': 'notExplicit',\n",
              "   'trackExplicitness': 'notExplicit',\n",
              "   'discCount': 1,\n",
              "   'discNumber': 1,\n",
              "   'trackCount': 18,\n",
              "   'trackNumber': 3,\n",
              "   'trackTimeMillis': 221300,\n",
              "   'country': 'USA',\n",
              "   'currency': 'USD',\n",
              "   'primaryGenreName': 'Pop',\n",
              "   'isStreamable': True},\n",
              "  {'wrapperType': 'track',\n",
              "   'kind': 'song',\n",
              "   'artistId': 159260351,\n",
              "   'collectionId': 1468058165,\n",
              "   'trackId': 1468058704,\n",
              "   'artistName': 'Taylor Swift',\n",
              "   'collectionName': 'Lover',\n",
              "   'trackName': 'You Need To Calm Down',\n",
              "   'collectionCensoredName': 'Lover',\n",
              "   'trackCensoredName': 'You Need To Calm Down',\n",
              "   'artistViewUrl': 'https://music.apple.com/us/artist/taylor-swift/159260351?uo=4',\n",
              "   'collectionViewUrl': 'https://music.apple.com/us/album/you-need-to-calm-down/1468058165?i=1468058704&uo=4',\n",
              "   'trackViewUrl': 'https://music.apple.com/us/album/you-need-to-calm-down/1468058165?i=1468058704&uo=4',\n",
              "   'previewUrl': 'https://audio-ssl.itunes.apple.com/itunes-assets/AudioPreview211/v4/85/05/a9/8505a97c-15ff-f665-fec4-f6bf59e5b0fa/mzaf_5253572336075386160.plus.aac.p.m4a',\n",
              "   'artworkUrl30': 'https://is1-ssl.mzstatic.com/image/thumb/Music125/v4/49/3d/ab/493dab54-f920-9043-6181-80993b8116c9/19UMGIM53909.rgb.jpg/30x30bb.jpg',\n",
              "   'artworkUrl60': 'https://is1-ssl.mzstatic.com/image/thumb/Music125/v4/49/3d/ab/493dab54-f920-9043-6181-80993b8116c9/19UMGIM53909.rgb.jpg/60x60bb.jpg',\n",
              "   'artworkUrl100': 'https://is1-ssl.mzstatic.com/image/thumb/Music125/v4/49/3d/ab/493dab54-f920-9043-6181-80993b8116c9/19UMGIM53909.rgb.jpg/100x100bb.jpg',\n",
              "   'collectionPrice': 11.99,\n",
              "   'trackPrice': 1.29,\n",
              "   'releaseDate': '2019-06-14T07:00:00Z',\n",
              "   'collectionExplicitness': 'notExplicit',\n",
              "   'trackExplicitness': 'notExplicit',\n",
              "   'discCount': 1,\n",
              "   'discNumber': 1,\n",
              "   'trackCount': 18,\n",
              "   'trackNumber': 14,\n",
              "   'trackTimeMillis': 171352,\n",
              "   'country': 'USA',\n",
              "   'currency': 'USD',\n",
              "   'primaryGenreName': 'Pop',\n",
              "   'isStreamable': True},\n",
              "  {'wrapperType': 'track',\n",
              "   'kind': 'song',\n",
              "   'artistId': 159260351,\n",
              "   'collectionId': 1468058165,\n",
              "   'trackId': 1468058171,\n",
              "   'artistName': 'Taylor Swift',\n",
              "   'collectionName': 'Lover',\n",
              "   'trackName': 'Cruel Summer',\n",
              "   'collectionCensoredName': 'Lover',\n",
              "   'trackCensoredName': 'Cruel Summer',\n",
              "   'artistViewUrl': 'https://music.apple.com/us/artist/taylor-swift/159260351?uo=4',\n",
              "   'collectionViewUrl': 'https://music.apple.com/us/album/cruel-summer/1468058165?i=1468058171&uo=4',\n",
              "   'trackViewUrl': 'https://music.apple.com/us/album/cruel-summer/1468058165?i=1468058171&uo=4',\n",
              "   'previewUrl': 'https://audio-ssl.itunes.apple.com/itunes-assets/AudioPreview211/v4/96/61/ff/9661ff73-0d57-582a-5e57-5687abb33313/mzaf_15246628164161261055.plus.aac.p.m4a',\n",
              "   'artworkUrl30': 'https://is1-ssl.mzstatic.com/image/thumb/Music125/v4/49/3d/ab/493dab54-f920-9043-6181-80993b8116c9/19UMGIM53909.rgb.jpg/30x30bb.jpg',\n",
              "   'artworkUrl60': 'https://is1-ssl.mzstatic.com/image/thumb/Music125/v4/49/3d/ab/493dab54-f920-9043-6181-80993b8116c9/19UMGIM53909.rgb.jpg/60x60bb.jpg',\n",
              "   'artworkUrl100': 'https://is1-ssl.mzstatic.com/image/thumb/Music125/v4/49/3d/ab/493dab54-f920-9043-6181-80993b8116c9/19UMGIM53909.rgb.jpg/100x100bb.jpg',\n",
              "   'collectionPrice': 11.99,\n",
              "   'trackPrice': 1.29,\n",
              "   'releaseDate': '2019-08-23T07:00:00Z',\n",
              "   'collectionExplicitness': 'notExplicit',\n",
              "   'trackExplicitness': 'notExplicit',\n",
              "   'discCount': 1,\n",
              "   'discNumber': 1,\n",
              "   'trackCount': 18,\n",
              "   'trackNumber': 2,\n",
              "   'trackTimeMillis': 178426,\n",
              "   'country': 'USA',\n",
              "   'currency': 'USD',\n",
              "   'primaryGenreName': 'Pop',\n",
              "   'isStreamable': True},\n",
              "  {'wrapperType': 'track',\n",
              "   'kind': 'song',\n",
              "   'artistId': 159260351,\n",
              "   'collectionId': 1468058165,\n",
              "   'trackId': 1468058177,\n",
              "   'artistName': 'Taylor Swift',\n",
              "   'collectionName': 'Lover',\n",
              "   'trackName': 'The Archer',\n",
              "   'collectionCensoredName': 'Lover',\n",
              "   'trackCensoredName': 'The Archer',\n",
              "   'artistViewUrl': 'https://music.apple.com/us/artist/taylor-swift/159260351?uo=4',\n",
              "   'collectionViewUrl': 'https://music.apple.com/us/album/the-archer/1468058165?i=1468058177&uo=4',\n",
              "   'trackViewUrl': 'https://music.apple.com/us/album/the-archer/1468058165?i=1468058177&uo=4',\n",
              "   'previewUrl': 'https://audio-ssl.itunes.apple.com/itunes-assets/AudioPreview221/v4/d6/72/ff/d672ffa9-9504-10b0-d3e6-bcf888b7ef00/mzaf_6747193909082167147.plus.aac.p.m4a',\n",
              "   'artworkUrl30': 'https://is1-ssl.mzstatic.com/image/thumb/Music125/v4/49/3d/ab/493dab54-f920-9043-6181-80993b8116c9/19UMGIM53909.rgb.jpg/30x30bb.jpg',\n",
              "   'artworkUrl60': 'https://is1-ssl.mzstatic.com/image/thumb/Music125/v4/49/3d/ab/493dab54-f920-9043-6181-80993b8116c9/19UMGIM53909.rgb.jpg/60x60bb.jpg',\n",
              "   'artworkUrl100': 'https://is1-ssl.mzstatic.com/image/thumb/Music125/v4/49/3d/ab/493dab54-f920-9043-6181-80993b8116c9/19UMGIM53909.rgb.jpg/100x100bb.jpg',\n",
              "   'collectionPrice': 11.99,\n",
              "   'trackPrice': 1.29,\n",
              "   'releaseDate': '2019-07-23T07:00:00Z',\n",
              "   'collectionExplicitness': 'notExplicit',\n",
              "   'trackExplicitness': 'notExplicit',\n",
              "   'discCount': 1,\n",
              "   'discNumber': 1,\n",
              "   'trackCount': 18,\n",
              "   'trackNumber': 5,\n",
              "   'trackTimeMillis': 211235,\n",
              "   'country': 'USA',\n",
              "   'currency': 'USD',\n",
              "   'primaryGenreName': 'Pop',\n",
              "   'isStreamable': True},\n",
              "  {'wrapperType': 'track',\n",
              "   'kind': 'song',\n",
              "   'artistId': 159260351,\n",
              "   'collectionId': 1468058165,\n",
              "   'trackId': 1468058706,\n",
              "   'artistName': 'Taylor Swift',\n",
              "   'collectionName': 'Lover',\n",
              "   'trackName': 'ME! (feat. Brendon Urie of Panic! At The Disco)',\n",
              "   'collectionCensoredName': 'Lover',\n",
              "   'trackCensoredName': 'ME! (feat. Brendon Urie of Panic! At The Disco)',\n",
              "   'artistViewUrl': 'https://music.apple.com/us/artist/taylor-swift/159260351?uo=4',\n",
              "   'collectionViewUrl': 'https://music.apple.com/us/album/me-feat-brendon-urie-of-panic-at-the-disco/1468058165?i=1468058706&uo=4',\n",
              "   'trackViewUrl': 'https://music.apple.com/us/album/me-feat-brendon-urie-of-panic-at-the-disco/1468058165?i=1468058706&uo=4',\n",
              "   'previewUrl': 'https://audio-ssl.itunes.apple.com/itunes-assets/AudioPreview221/v4/08/b2/a1/08b2a176-be4a-6218-3339-dd1dbf00c443/mzaf_13396297911439214793.plus.aac.p.m4a',\n",
              "   'artworkUrl30': 'https://is1-ssl.mzstatic.com/image/thumb/Music125/v4/49/3d/ab/493dab54-f920-9043-6181-80993b8116c9/19UMGIM53909.rgb.jpg/30x30bb.jpg',\n",
              "   'artworkUrl60': 'https://is1-ssl.mzstatic.com/image/thumb/Music125/v4/49/3d/ab/493dab54-f920-9043-6181-80993b8116c9/19UMGIM53909.rgb.jpg/60x60bb.jpg',\n",
              "   'artworkUrl100': 'https://is1-ssl.mzstatic.com/image/thumb/Music125/v4/49/3d/ab/493dab54-f920-9043-6181-80993b8116c9/19UMGIM53909.rgb.jpg/100x100bb.jpg',\n",
              "   'collectionPrice': 11.99,\n",
              "   'trackPrice': 1.29,\n",
              "   'releaseDate': '2019-04-26T07:00:00Z',\n",
              "   'collectionExplicitness': 'notExplicit',\n",
              "   'trackExplicitness': 'notExplicit',\n",
              "   'discCount': 1,\n",
              "   'discNumber': 1,\n",
              "   'trackCount': 18,\n",
              "   'trackNumber': 16,\n",
              "   'trackTimeMillis': 193000,\n",
              "   'country': 'USA',\n",
              "   'currency': 'USD',\n",
              "   'primaryGenreName': 'Pop',\n",
              "   'isStreamable': True},\n",
              "  {'wrapperType': 'track',\n",
              "   'kind': 'song',\n",
              "   'artistId': 159260351,\n",
              "   'collectionId': 1468058165,\n",
              "   'trackId': 1468058699,\n",
              "   'artistName': 'Taylor Swift',\n",
              "   'collectionName': 'Lover',\n",
              "   'trackName': 'Soon You’ll Get Better (feat. The Chicks)',\n",
              "   'collectionCensoredName': 'Lover',\n",
              "   'trackCensoredName': 'Soon You’ll Get Better (feat. The Chicks)',\n",
              "   'artistViewUrl': 'https://music.apple.com/us/artist/taylor-swift/159260351?uo=4',\n",
              "   'collectionViewUrl': 'https://music.apple.com/us/album/soon-youll-get-better-feat-the-chicks/1468058165?i=1468058699&uo=4',\n",
              "   'trackViewUrl': 'https://music.apple.com/us/album/soon-youll-get-better-feat-the-chicks/1468058165?i=1468058699&uo=4',\n",
              "   'previewUrl': 'https://audio-ssl.itunes.apple.com/itunes-assets/AudioPreview211/v4/a4/cd/f3/a4cdf39b-9a13-9826-54d6-1f1d26485dca/mzaf_2564565437711864211.plus.aac.p.m4a',\n",
              "   'artworkUrl30': 'https://is1-ssl.mzstatic.com/image/thumb/Music125/v4/49/3d/ab/493dab54-f920-9043-6181-80993b8116c9/19UMGIM53909.rgb.jpg/30x30bb.jpg',\n",
              "   'artworkUrl60': 'https://is1-ssl.mzstatic.com/image/thumb/Music125/v4/49/3d/ab/493dab54-f920-9043-6181-80993b8116c9/19UMGIM53909.rgb.jpg/60x60bb.jpg',\n",
              "   'artworkUrl100': 'https://is1-ssl.mzstatic.com/image/thumb/Music125/v4/49/3d/ab/493dab54-f920-9043-6181-80993b8116c9/19UMGIM53909.rgb.jpg/100x100bb.jpg',\n",
              "   'collectionPrice': 11.99,\n",
              "   'trackPrice': 1.29,\n",
              "   'releaseDate': '2019-08-23T07:00:00Z',\n",
              "   'collectionExplicitness': 'notExplicit',\n",
              "   'trackExplicitness': 'notExplicit',\n",
              "   'discCount': 1,\n",
              "   'discNumber': 1,\n",
              "   'trackCount': 18,\n",
              "   'trackNumber': 12,\n",
              "   'trackTimeMillis': 201590,\n",
              "   'country': 'USA',\n",
              "   'currency': 'USD',\n",
              "   'primaryGenreName': 'Pop',\n",
              "   'isStreamable': True},\n",
              "  {'wrapperType': 'track',\n",
              "   'kind': 'song',\n",
              "   'artistId': 159260351,\n",
              "   'collectionId': 1468058165,\n",
              "   'trackId': 1468058169,\n",
              "   'artistName': 'Taylor Swift',\n",
              "   'collectionName': 'Lover',\n",
              "   'trackName': 'I Forgot That You Existed',\n",
              "   'collectionCensoredName': 'Lover',\n",
              "   'trackCensoredName': 'I Forgot That You Existed',\n",
              "   'artistViewUrl': 'https://music.apple.com/us/artist/taylor-swift/159260351?uo=4',\n",
              "   'collectionViewUrl': 'https://music.apple.com/us/album/i-forgot-that-you-existed/1468058165?i=1468058169&uo=4',\n",
              "   'trackViewUrl': 'https://music.apple.com/us/album/i-forgot-that-you-existed/1468058165?i=1468058169&uo=4',\n",
              "   'previewUrl': 'https://audio-ssl.itunes.apple.com/itunes-assets/AudioPreview211/v4/47/0e/44/470e44f6-b7f6-d9b6-2808-0c0396351fd2/mzaf_10683787134779885341.plus.aac.p.m4a',\n",
              "   'artworkUrl30': 'https://is1-ssl.mzstatic.com/image/thumb/Music125/v4/49/3d/ab/493dab54-f920-9043-6181-80993b8116c9/19UMGIM53909.rgb.jpg/30x30bb.jpg',\n",
              "   'artworkUrl60': 'https://is1-ssl.mzstatic.com/image/thumb/Music125/v4/49/3d/ab/493dab54-f920-9043-6181-80993b8116c9/19UMGIM53909.rgb.jpg/60x60bb.jpg',\n",
              "   'artworkUrl100': 'https://is1-ssl.mzstatic.com/image/thumb/Music125/v4/49/3d/ab/493dab54-f920-9043-6181-80993b8116c9/19UMGIM53909.rgb.jpg/100x100bb.jpg',\n",
              "   'collectionPrice': 11.99,\n",
              "   'trackPrice': 1.29,\n",
              "   'releaseDate': '2019-08-23T07:00:00Z',\n",
              "   'collectionExplicitness': 'notExplicit',\n",
              "   'trackExplicitness': 'notExplicit',\n",
              "   'discCount': 1,\n",
              "   'discNumber': 1,\n",
              "   'trackCount': 18,\n",
              "   'trackNumber': 1,\n",
              "   'trackTimeMillis': 170651,\n",
              "   'country': 'USA',\n",
              "   'currency': 'USD',\n",
              "   'primaryGenreName': 'Pop',\n",
              "   'isStreamable': True},\n",
              "  {'wrapperType': 'track',\n",
              "   'kind': 'song',\n",
              "   'artistId': 159260351,\n",
              "   'collectionId': 1468058165,\n",
              "   'trackId': 1468058180,\n",
              "   'artistName': 'Taylor Swift',\n",
              "   'collectionName': 'Lover',\n",
              "   'trackName': 'Miss Americana & The Heartbreak Prince',\n",
              "   'collectionCensoredName': 'Lover',\n",
              "   'trackCensoredName': 'Miss Americana & The Heartbreak Prince',\n",
              "   'artistViewUrl': 'https://music.apple.com/us/artist/taylor-swift/159260351?uo=4',\n",
              "   'collectionViewUrl': 'https://music.apple.com/us/album/miss-americana-the-heartbreak-prince/1468058165?i=1468058180&uo=4',\n",
              "   'trackViewUrl': 'https://music.apple.com/us/album/miss-americana-the-heartbreak-prince/1468058165?i=1468058180&uo=4',\n",
              "   'previewUrl': 'https://audio-ssl.itunes.apple.com/itunes-assets/AudioPreview221/v4/c4/38/9b/c4389b8d-bb1e-2713-3fdb-a63c5d737ccb/mzaf_8781066753461023269.plus.aac.p.m4a',\n",
              "   'artworkUrl30': 'https://is1-ssl.mzstatic.com/image/thumb/Music125/v4/49/3d/ab/493dab54-f920-9043-6181-80993b8116c9/19UMGIM53909.rgb.jpg/30x30bb.jpg',\n",
              "   'artworkUrl60': 'https://is1-ssl.mzstatic.com/image/thumb/Music125/v4/49/3d/ab/493dab54-f920-9043-6181-80993b8116c9/19UMGIM53909.rgb.jpg/60x60bb.jpg',\n",
              "   'artworkUrl100': 'https://is1-ssl.mzstatic.com/image/thumb/Music125/v4/49/3d/ab/493dab54-f920-9043-6181-80993b8116c9/19UMGIM53909.rgb.jpg/100x100bb.jpg',\n",
              "   'collectionPrice': 11.99,\n",
              "   'trackPrice': 1.29,\n",
              "   'releaseDate': '2019-08-23T07:00:00Z',\n",
              "   'collectionExplicitness': 'notExplicit',\n",
              "   'trackExplicitness': 'notExplicit',\n",
              "   'discCount': 1,\n",
              "   'discNumber': 1,\n",
              "   'trackCount': 18,\n",
              "   'trackNumber': 7,\n",
              "   'trackTimeMillis': 234137,\n",
              "   'country': 'USA',\n",
              "   'currency': 'USD',\n",
              "   'primaryGenreName': 'Pop',\n",
              "   'isStreamable': True},\n",
              "  {'wrapperType': 'track',\n",
              "   'kind': 'song',\n",
              "   'artistId': 159260351,\n",
              "   'collectionId': 1468058165,\n",
              "   'trackId': 1468058185,\n",
              "   'artistName': 'Taylor Swift',\n",
              "   'collectionName': 'Lover',\n",
              "   'trackName': 'Death By A Thousand Cuts',\n",
              "   'collectionCensoredName': 'Lover',\n",
              "   'trackCensoredName': 'Death By A Thousand Cuts',\n",
              "   'artistViewUrl': 'https://music.apple.com/us/artist/taylor-swift/159260351?uo=4',\n",
              "   'collectionViewUrl': 'https://music.apple.com/us/album/death-by-a-thousand-cuts/1468058165?i=1468058185&uo=4',\n",
              "   'trackViewUrl': 'https://music.apple.com/us/album/death-by-a-thousand-cuts/1468058165?i=1468058185&uo=4',\n",
              "   'previewUrl': 'https://audio-ssl.itunes.apple.com/itunes-assets/AudioPreview221/v4/9d/e4/21/9de42109-b4b4-9989-c0af-e23b565c031d/mzaf_9751897862617583377.plus.aac.p.m4a',\n",
              "   'artworkUrl30': 'https://is1-ssl.mzstatic.com/image/thumb/Music125/v4/49/3d/ab/493dab54-f920-9043-6181-80993b8116c9/19UMGIM53909.rgb.jpg/30x30bb.jpg',\n",
              "   'artworkUrl60': 'https://is1-ssl.mzstatic.com/image/thumb/Music125/v4/49/3d/ab/493dab54-f920-9043-6181-80993b8116c9/19UMGIM53909.rgb.jpg/60x60bb.jpg',\n",
              "   'artworkUrl100': 'https://is1-ssl.mzstatic.com/image/thumb/Music125/v4/49/3d/ab/493dab54-f920-9043-6181-80993b8116c9/19UMGIM53909.rgb.jpg/100x100bb.jpg',\n",
              "   'collectionPrice': 11.99,\n",
              "   'trackPrice': 1.29,\n",
              "   'releaseDate': '2019-08-23T07:00:00Z',\n",
              "   'collectionExplicitness': 'notExplicit',\n",
              "   'trackExplicitness': 'notExplicit',\n",
              "   'discCount': 1,\n",
              "   'discNumber': 1,\n",
              "   'trackCount': 18,\n",
              "   'trackNumber': 10,\n",
              "   'trackTimeMillis': 198530,\n",
              "   'country': 'USA',\n",
              "   'currency': 'USD',\n",
              "   'primaryGenreName': 'Pop',\n",
              "   'isStreamable': True},\n",
              "  {'wrapperType': 'track',\n",
              "   'kind': 'song',\n",
              "   'artistId': 159260351,\n",
              "   'collectionId': 1468058165,\n",
              "   'trackId': 1468058181,\n",
              "   'artistName': 'Taylor Swift',\n",
              "   'collectionName': 'Lover',\n",
              "   'trackName': 'Paper Rings',\n",
              "   'collectionCensoredName': 'Lover',\n",
              "   'trackCensoredName': 'Paper Rings',\n",
              "   'artistViewUrl': 'https://music.apple.com/us/artist/taylor-swift/159260351?uo=4',\n",
              "   'collectionViewUrl': 'https://music.apple.com/us/album/paper-rings/1468058165?i=1468058181&uo=4',\n",
              "   'trackViewUrl': 'https://music.apple.com/us/album/paper-rings/1468058165?i=1468058181&uo=4',\n",
              "   'previewUrl': 'https://audio-ssl.itunes.apple.com/itunes-assets/AudioPreview221/v4/cd/f1/47/cdf1474c-fe9f-3d45-7ca1-c7a8e1aad405/mzaf_7251368477724682182.plus.aac.p.m4a',\n",
              "   'artworkUrl30': 'https://is1-ssl.mzstatic.com/image/thumb/Music125/v4/49/3d/ab/493dab54-f920-9043-6181-80993b8116c9/19UMGIM53909.rgb.jpg/30x30bb.jpg',\n",
              "   'artworkUrl60': 'https://is1-ssl.mzstatic.com/image/thumb/Music125/v4/49/3d/ab/493dab54-f920-9043-6181-80993b8116c9/19UMGIM53909.rgb.jpg/60x60bb.jpg',\n",
              "   'artworkUrl100': 'https://is1-ssl.mzstatic.com/image/thumb/Music125/v4/49/3d/ab/493dab54-f920-9043-6181-80993b8116c9/19UMGIM53909.rgb.jpg/100x100bb.jpg',\n",
              "   'collectionPrice': 11.99,\n",
              "   'trackPrice': 1.29,\n",
              "   'releaseDate': '2019-08-23T07:00:00Z',\n",
              "   'collectionExplicitness': 'notExplicit',\n",
              "   'trackExplicitness': 'notExplicit',\n",
              "   'discCount': 1,\n",
              "   'discNumber': 1,\n",
              "   'trackCount': 18,\n",
              "   'trackNumber': 8,\n",
              "   'trackTimeMillis': 222407,\n",
              "   'country': 'USA',\n",
              "   'currency': 'USD',\n",
              "   'primaryGenreName': 'Pop',\n",
              "   'isStreamable': True}]}"
            ]
          },
          "execution_count": 117,
          "metadata": {},
          "output_type": "execute_result"
        }
      ],
      "source": [
        "results"
      ]
    },
    {
      "cell_type": "code",
      "execution_count": 118,
      "id": "baa0141f",
      "metadata": {},
      "outputs": [
        {
          "data": {
            "text/plain": [
              "dict"
            ]
          },
          "execution_count": 118,
          "metadata": {},
          "output_type": "execute_result"
        }
      ],
      "source": [
        "type(results)"
      ]
    },
    {
      "cell_type": "markdown",
      "id": "c298fb1c",
      "metadata": {},
      "source": [
        "However, this result 'dictionary' is in fact a list of dictionaries!"
      ]
    },
    {
      "cell_type": "code",
      "execution_count": 119,
      "id": "cb8c2cc8",
      "metadata": {},
      "outputs": [
        {
          "name": "stdout",
          "output_type": "stream",
          "text": [
            "Number of results: 10\n"
          ]
        }
      ],
      "source": [
        "print(f\"Number of results: {results['resultCount']}\")"
      ]
    },
    {
      "cell_type": "code",
      "execution_count": 120,
      "id": "a49b57ff",
      "metadata": {},
      "outputs": [
        {
          "data": {
            "text/plain": [
              "[{'wrapperType': 'track',\n",
              "  'kind': 'song',\n",
              "  'artistId': 159260351,\n",
              "  'collectionId': 1468058165,\n",
              "  'trackId': 1468058173,\n",
              "  'artistName': 'Taylor Swift',\n",
              "  'collectionName': 'Lover',\n",
              "  'trackName': 'Lover',\n",
              "  'collectionCensoredName': 'Lover',\n",
              "  'trackCensoredName': 'Lover',\n",
              "  'artistViewUrl': 'https://music.apple.com/us/artist/taylor-swift/159260351?uo=4',\n",
              "  'collectionViewUrl': 'https://music.apple.com/us/album/lover/1468058165?i=1468058173&uo=4',\n",
              "  'trackViewUrl': 'https://music.apple.com/us/album/lover/1468058165?i=1468058173&uo=4',\n",
              "  'previewUrl': 'https://audio-ssl.itunes.apple.com/itunes-assets/AudioPreview211/v4/4f/fd/c7/4ffdc746-c0de-999b-eb93-2753eaa18978/mzaf_8574966813156057641.plus.aac.p.m4a',\n",
              "  'artworkUrl30': 'https://is1-ssl.mzstatic.com/image/thumb/Music125/v4/49/3d/ab/493dab54-f920-9043-6181-80993b8116c9/19UMGIM53909.rgb.jpg/30x30bb.jpg',\n",
              "  'artworkUrl60': 'https://is1-ssl.mzstatic.com/image/thumb/Music125/v4/49/3d/ab/493dab54-f920-9043-6181-80993b8116c9/19UMGIM53909.rgb.jpg/60x60bb.jpg',\n",
              "  'artworkUrl100': 'https://is1-ssl.mzstatic.com/image/thumb/Music125/v4/49/3d/ab/493dab54-f920-9043-6181-80993b8116c9/19UMGIM53909.rgb.jpg/100x100bb.jpg',\n",
              "  'collectionPrice': 11.99,\n",
              "  'trackPrice': 1.29,\n",
              "  'releaseDate': '2019-08-16T07:00:00Z',\n",
              "  'collectionExplicitness': 'notExplicit',\n",
              "  'trackExplicitness': 'notExplicit',\n",
              "  'discCount': 1,\n",
              "  'discNumber': 1,\n",
              "  'trackCount': 18,\n",
              "  'trackNumber': 3,\n",
              "  'trackTimeMillis': 221300,\n",
              "  'country': 'USA',\n",
              "  'currency': 'USD',\n",
              "  'primaryGenreName': 'Pop',\n",
              "  'isStreamable': True},\n",
              " {'wrapperType': 'track',\n",
              "  'kind': 'song',\n",
              "  'artistId': 159260351,\n",
              "  'collectionId': 1468058165,\n",
              "  'trackId': 1468058704,\n",
              "  'artistName': 'Taylor Swift',\n",
              "  'collectionName': 'Lover',\n",
              "  'trackName': 'You Need To Calm Down',\n",
              "  'collectionCensoredName': 'Lover',\n",
              "  'trackCensoredName': 'You Need To Calm Down',\n",
              "  'artistViewUrl': 'https://music.apple.com/us/artist/taylor-swift/159260351?uo=4',\n",
              "  'collectionViewUrl': 'https://music.apple.com/us/album/you-need-to-calm-down/1468058165?i=1468058704&uo=4',\n",
              "  'trackViewUrl': 'https://music.apple.com/us/album/you-need-to-calm-down/1468058165?i=1468058704&uo=4',\n",
              "  'previewUrl': 'https://audio-ssl.itunes.apple.com/itunes-assets/AudioPreview211/v4/85/05/a9/8505a97c-15ff-f665-fec4-f6bf59e5b0fa/mzaf_5253572336075386160.plus.aac.p.m4a',\n",
              "  'artworkUrl30': 'https://is1-ssl.mzstatic.com/image/thumb/Music125/v4/49/3d/ab/493dab54-f920-9043-6181-80993b8116c9/19UMGIM53909.rgb.jpg/30x30bb.jpg',\n",
              "  'artworkUrl60': 'https://is1-ssl.mzstatic.com/image/thumb/Music125/v4/49/3d/ab/493dab54-f920-9043-6181-80993b8116c9/19UMGIM53909.rgb.jpg/60x60bb.jpg',\n",
              "  'artworkUrl100': 'https://is1-ssl.mzstatic.com/image/thumb/Music125/v4/49/3d/ab/493dab54-f920-9043-6181-80993b8116c9/19UMGIM53909.rgb.jpg/100x100bb.jpg',\n",
              "  'collectionPrice': 11.99,\n",
              "  'trackPrice': 1.29,\n",
              "  'releaseDate': '2019-06-14T07:00:00Z',\n",
              "  'collectionExplicitness': 'notExplicit',\n",
              "  'trackExplicitness': 'notExplicit',\n",
              "  'discCount': 1,\n",
              "  'discNumber': 1,\n",
              "  'trackCount': 18,\n",
              "  'trackNumber': 14,\n",
              "  'trackTimeMillis': 171352,\n",
              "  'country': 'USA',\n",
              "  'currency': 'USD',\n",
              "  'primaryGenreName': 'Pop',\n",
              "  'isStreamable': True},\n",
              " {'wrapperType': 'track',\n",
              "  'kind': 'song',\n",
              "  'artistId': 159260351,\n",
              "  'collectionId': 1468058165,\n",
              "  'trackId': 1468058171,\n",
              "  'artistName': 'Taylor Swift',\n",
              "  'collectionName': 'Lover',\n",
              "  'trackName': 'Cruel Summer',\n",
              "  'collectionCensoredName': 'Lover',\n",
              "  'trackCensoredName': 'Cruel Summer',\n",
              "  'artistViewUrl': 'https://music.apple.com/us/artist/taylor-swift/159260351?uo=4',\n",
              "  'collectionViewUrl': 'https://music.apple.com/us/album/cruel-summer/1468058165?i=1468058171&uo=4',\n",
              "  'trackViewUrl': 'https://music.apple.com/us/album/cruel-summer/1468058165?i=1468058171&uo=4',\n",
              "  'previewUrl': 'https://audio-ssl.itunes.apple.com/itunes-assets/AudioPreview211/v4/96/61/ff/9661ff73-0d57-582a-5e57-5687abb33313/mzaf_15246628164161261055.plus.aac.p.m4a',\n",
              "  'artworkUrl30': 'https://is1-ssl.mzstatic.com/image/thumb/Music125/v4/49/3d/ab/493dab54-f920-9043-6181-80993b8116c9/19UMGIM53909.rgb.jpg/30x30bb.jpg',\n",
              "  'artworkUrl60': 'https://is1-ssl.mzstatic.com/image/thumb/Music125/v4/49/3d/ab/493dab54-f920-9043-6181-80993b8116c9/19UMGIM53909.rgb.jpg/60x60bb.jpg',\n",
              "  'artworkUrl100': 'https://is1-ssl.mzstatic.com/image/thumb/Music125/v4/49/3d/ab/493dab54-f920-9043-6181-80993b8116c9/19UMGIM53909.rgb.jpg/100x100bb.jpg',\n",
              "  'collectionPrice': 11.99,\n",
              "  'trackPrice': 1.29,\n",
              "  'releaseDate': '2019-08-23T07:00:00Z',\n",
              "  'collectionExplicitness': 'notExplicit',\n",
              "  'trackExplicitness': 'notExplicit',\n",
              "  'discCount': 1,\n",
              "  'discNumber': 1,\n",
              "  'trackCount': 18,\n",
              "  'trackNumber': 2,\n",
              "  'trackTimeMillis': 178426,\n",
              "  'country': 'USA',\n",
              "  'currency': 'USD',\n",
              "  'primaryGenreName': 'Pop',\n",
              "  'isStreamable': True},\n",
              " {'wrapperType': 'track',\n",
              "  'kind': 'song',\n",
              "  'artistId': 159260351,\n",
              "  'collectionId': 1468058165,\n",
              "  'trackId': 1468058177,\n",
              "  'artistName': 'Taylor Swift',\n",
              "  'collectionName': 'Lover',\n",
              "  'trackName': 'The Archer',\n",
              "  'collectionCensoredName': 'Lover',\n",
              "  'trackCensoredName': 'The Archer',\n",
              "  'artistViewUrl': 'https://music.apple.com/us/artist/taylor-swift/159260351?uo=4',\n",
              "  'collectionViewUrl': 'https://music.apple.com/us/album/the-archer/1468058165?i=1468058177&uo=4',\n",
              "  'trackViewUrl': 'https://music.apple.com/us/album/the-archer/1468058165?i=1468058177&uo=4',\n",
              "  'previewUrl': 'https://audio-ssl.itunes.apple.com/itunes-assets/AudioPreview221/v4/d6/72/ff/d672ffa9-9504-10b0-d3e6-bcf888b7ef00/mzaf_6747193909082167147.plus.aac.p.m4a',\n",
              "  'artworkUrl30': 'https://is1-ssl.mzstatic.com/image/thumb/Music125/v4/49/3d/ab/493dab54-f920-9043-6181-80993b8116c9/19UMGIM53909.rgb.jpg/30x30bb.jpg',\n",
              "  'artworkUrl60': 'https://is1-ssl.mzstatic.com/image/thumb/Music125/v4/49/3d/ab/493dab54-f920-9043-6181-80993b8116c9/19UMGIM53909.rgb.jpg/60x60bb.jpg',\n",
              "  'artworkUrl100': 'https://is1-ssl.mzstatic.com/image/thumb/Music125/v4/49/3d/ab/493dab54-f920-9043-6181-80993b8116c9/19UMGIM53909.rgb.jpg/100x100bb.jpg',\n",
              "  'collectionPrice': 11.99,\n",
              "  'trackPrice': 1.29,\n",
              "  'releaseDate': '2019-07-23T07:00:00Z',\n",
              "  'collectionExplicitness': 'notExplicit',\n",
              "  'trackExplicitness': 'notExplicit',\n",
              "  'discCount': 1,\n",
              "  'discNumber': 1,\n",
              "  'trackCount': 18,\n",
              "  'trackNumber': 5,\n",
              "  'trackTimeMillis': 211235,\n",
              "  'country': 'USA',\n",
              "  'currency': 'USD',\n",
              "  'primaryGenreName': 'Pop',\n",
              "  'isStreamable': True},\n",
              " {'wrapperType': 'track',\n",
              "  'kind': 'song',\n",
              "  'artistId': 159260351,\n",
              "  'collectionId': 1468058165,\n",
              "  'trackId': 1468058706,\n",
              "  'artistName': 'Taylor Swift',\n",
              "  'collectionName': 'Lover',\n",
              "  'trackName': 'ME! (feat. Brendon Urie of Panic! At The Disco)',\n",
              "  'collectionCensoredName': 'Lover',\n",
              "  'trackCensoredName': 'ME! (feat. Brendon Urie of Panic! At The Disco)',\n",
              "  'artistViewUrl': 'https://music.apple.com/us/artist/taylor-swift/159260351?uo=4',\n",
              "  'collectionViewUrl': 'https://music.apple.com/us/album/me-feat-brendon-urie-of-panic-at-the-disco/1468058165?i=1468058706&uo=4',\n",
              "  'trackViewUrl': 'https://music.apple.com/us/album/me-feat-brendon-urie-of-panic-at-the-disco/1468058165?i=1468058706&uo=4',\n",
              "  'previewUrl': 'https://audio-ssl.itunes.apple.com/itunes-assets/AudioPreview221/v4/08/b2/a1/08b2a176-be4a-6218-3339-dd1dbf00c443/mzaf_13396297911439214793.plus.aac.p.m4a',\n",
              "  'artworkUrl30': 'https://is1-ssl.mzstatic.com/image/thumb/Music125/v4/49/3d/ab/493dab54-f920-9043-6181-80993b8116c9/19UMGIM53909.rgb.jpg/30x30bb.jpg',\n",
              "  'artworkUrl60': 'https://is1-ssl.mzstatic.com/image/thumb/Music125/v4/49/3d/ab/493dab54-f920-9043-6181-80993b8116c9/19UMGIM53909.rgb.jpg/60x60bb.jpg',\n",
              "  'artworkUrl100': 'https://is1-ssl.mzstatic.com/image/thumb/Music125/v4/49/3d/ab/493dab54-f920-9043-6181-80993b8116c9/19UMGIM53909.rgb.jpg/100x100bb.jpg',\n",
              "  'collectionPrice': 11.99,\n",
              "  'trackPrice': 1.29,\n",
              "  'releaseDate': '2019-04-26T07:00:00Z',\n",
              "  'collectionExplicitness': 'notExplicit',\n",
              "  'trackExplicitness': 'notExplicit',\n",
              "  'discCount': 1,\n",
              "  'discNumber': 1,\n",
              "  'trackCount': 18,\n",
              "  'trackNumber': 16,\n",
              "  'trackTimeMillis': 193000,\n",
              "  'country': 'USA',\n",
              "  'currency': 'USD',\n",
              "  'primaryGenreName': 'Pop',\n",
              "  'isStreamable': True},\n",
              " {'wrapperType': 'track',\n",
              "  'kind': 'song',\n",
              "  'artistId': 159260351,\n",
              "  'collectionId': 1468058165,\n",
              "  'trackId': 1468058699,\n",
              "  'artistName': 'Taylor Swift',\n",
              "  'collectionName': 'Lover',\n",
              "  'trackName': 'Soon You’ll Get Better (feat. The Chicks)',\n",
              "  'collectionCensoredName': 'Lover',\n",
              "  'trackCensoredName': 'Soon You’ll Get Better (feat. The Chicks)',\n",
              "  'artistViewUrl': 'https://music.apple.com/us/artist/taylor-swift/159260351?uo=4',\n",
              "  'collectionViewUrl': 'https://music.apple.com/us/album/soon-youll-get-better-feat-the-chicks/1468058165?i=1468058699&uo=4',\n",
              "  'trackViewUrl': 'https://music.apple.com/us/album/soon-youll-get-better-feat-the-chicks/1468058165?i=1468058699&uo=4',\n",
              "  'previewUrl': 'https://audio-ssl.itunes.apple.com/itunes-assets/AudioPreview211/v4/a4/cd/f3/a4cdf39b-9a13-9826-54d6-1f1d26485dca/mzaf_2564565437711864211.plus.aac.p.m4a',\n",
              "  'artworkUrl30': 'https://is1-ssl.mzstatic.com/image/thumb/Music125/v4/49/3d/ab/493dab54-f920-9043-6181-80993b8116c9/19UMGIM53909.rgb.jpg/30x30bb.jpg',\n",
              "  'artworkUrl60': 'https://is1-ssl.mzstatic.com/image/thumb/Music125/v4/49/3d/ab/493dab54-f920-9043-6181-80993b8116c9/19UMGIM53909.rgb.jpg/60x60bb.jpg',\n",
              "  'artworkUrl100': 'https://is1-ssl.mzstatic.com/image/thumb/Music125/v4/49/3d/ab/493dab54-f920-9043-6181-80993b8116c9/19UMGIM53909.rgb.jpg/100x100bb.jpg',\n",
              "  'collectionPrice': 11.99,\n",
              "  'trackPrice': 1.29,\n",
              "  'releaseDate': '2019-08-23T07:00:00Z',\n",
              "  'collectionExplicitness': 'notExplicit',\n",
              "  'trackExplicitness': 'notExplicit',\n",
              "  'discCount': 1,\n",
              "  'discNumber': 1,\n",
              "  'trackCount': 18,\n",
              "  'trackNumber': 12,\n",
              "  'trackTimeMillis': 201590,\n",
              "  'country': 'USA',\n",
              "  'currency': 'USD',\n",
              "  'primaryGenreName': 'Pop',\n",
              "  'isStreamable': True},\n",
              " {'wrapperType': 'track',\n",
              "  'kind': 'song',\n",
              "  'artistId': 159260351,\n",
              "  'collectionId': 1468058165,\n",
              "  'trackId': 1468058169,\n",
              "  'artistName': 'Taylor Swift',\n",
              "  'collectionName': 'Lover',\n",
              "  'trackName': 'I Forgot That You Existed',\n",
              "  'collectionCensoredName': 'Lover',\n",
              "  'trackCensoredName': 'I Forgot That You Existed',\n",
              "  'artistViewUrl': 'https://music.apple.com/us/artist/taylor-swift/159260351?uo=4',\n",
              "  'collectionViewUrl': 'https://music.apple.com/us/album/i-forgot-that-you-existed/1468058165?i=1468058169&uo=4',\n",
              "  'trackViewUrl': 'https://music.apple.com/us/album/i-forgot-that-you-existed/1468058165?i=1468058169&uo=4',\n",
              "  'previewUrl': 'https://audio-ssl.itunes.apple.com/itunes-assets/AudioPreview211/v4/47/0e/44/470e44f6-b7f6-d9b6-2808-0c0396351fd2/mzaf_10683787134779885341.plus.aac.p.m4a',\n",
              "  'artworkUrl30': 'https://is1-ssl.mzstatic.com/image/thumb/Music125/v4/49/3d/ab/493dab54-f920-9043-6181-80993b8116c9/19UMGIM53909.rgb.jpg/30x30bb.jpg',\n",
              "  'artworkUrl60': 'https://is1-ssl.mzstatic.com/image/thumb/Music125/v4/49/3d/ab/493dab54-f920-9043-6181-80993b8116c9/19UMGIM53909.rgb.jpg/60x60bb.jpg',\n",
              "  'artworkUrl100': 'https://is1-ssl.mzstatic.com/image/thumb/Music125/v4/49/3d/ab/493dab54-f920-9043-6181-80993b8116c9/19UMGIM53909.rgb.jpg/100x100bb.jpg',\n",
              "  'collectionPrice': 11.99,\n",
              "  'trackPrice': 1.29,\n",
              "  'releaseDate': '2019-08-23T07:00:00Z',\n",
              "  'collectionExplicitness': 'notExplicit',\n",
              "  'trackExplicitness': 'notExplicit',\n",
              "  'discCount': 1,\n",
              "  'discNumber': 1,\n",
              "  'trackCount': 18,\n",
              "  'trackNumber': 1,\n",
              "  'trackTimeMillis': 170651,\n",
              "  'country': 'USA',\n",
              "  'currency': 'USD',\n",
              "  'primaryGenreName': 'Pop',\n",
              "  'isStreamable': True},\n",
              " {'wrapperType': 'track',\n",
              "  'kind': 'song',\n",
              "  'artistId': 159260351,\n",
              "  'collectionId': 1468058165,\n",
              "  'trackId': 1468058180,\n",
              "  'artistName': 'Taylor Swift',\n",
              "  'collectionName': 'Lover',\n",
              "  'trackName': 'Miss Americana & The Heartbreak Prince',\n",
              "  'collectionCensoredName': 'Lover',\n",
              "  'trackCensoredName': 'Miss Americana & The Heartbreak Prince',\n",
              "  'artistViewUrl': 'https://music.apple.com/us/artist/taylor-swift/159260351?uo=4',\n",
              "  'collectionViewUrl': 'https://music.apple.com/us/album/miss-americana-the-heartbreak-prince/1468058165?i=1468058180&uo=4',\n",
              "  'trackViewUrl': 'https://music.apple.com/us/album/miss-americana-the-heartbreak-prince/1468058165?i=1468058180&uo=4',\n",
              "  'previewUrl': 'https://audio-ssl.itunes.apple.com/itunes-assets/AudioPreview221/v4/c4/38/9b/c4389b8d-bb1e-2713-3fdb-a63c5d737ccb/mzaf_8781066753461023269.plus.aac.p.m4a',\n",
              "  'artworkUrl30': 'https://is1-ssl.mzstatic.com/image/thumb/Music125/v4/49/3d/ab/493dab54-f920-9043-6181-80993b8116c9/19UMGIM53909.rgb.jpg/30x30bb.jpg',\n",
              "  'artworkUrl60': 'https://is1-ssl.mzstatic.com/image/thumb/Music125/v4/49/3d/ab/493dab54-f920-9043-6181-80993b8116c9/19UMGIM53909.rgb.jpg/60x60bb.jpg',\n",
              "  'artworkUrl100': 'https://is1-ssl.mzstatic.com/image/thumb/Music125/v4/49/3d/ab/493dab54-f920-9043-6181-80993b8116c9/19UMGIM53909.rgb.jpg/100x100bb.jpg',\n",
              "  'collectionPrice': 11.99,\n",
              "  'trackPrice': 1.29,\n",
              "  'releaseDate': '2019-08-23T07:00:00Z',\n",
              "  'collectionExplicitness': 'notExplicit',\n",
              "  'trackExplicitness': 'notExplicit',\n",
              "  'discCount': 1,\n",
              "  'discNumber': 1,\n",
              "  'trackCount': 18,\n",
              "  'trackNumber': 7,\n",
              "  'trackTimeMillis': 234137,\n",
              "  'country': 'USA',\n",
              "  'currency': 'USD',\n",
              "  'primaryGenreName': 'Pop',\n",
              "  'isStreamable': True},\n",
              " {'wrapperType': 'track',\n",
              "  'kind': 'song',\n",
              "  'artistId': 159260351,\n",
              "  'collectionId': 1468058165,\n",
              "  'trackId': 1468058185,\n",
              "  'artistName': 'Taylor Swift',\n",
              "  'collectionName': 'Lover',\n",
              "  'trackName': 'Death By A Thousand Cuts',\n",
              "  'collectionCensoredName': 'Lover',\n",
              "  'trackCensoredName': 'Death By A Thousand Cuts',\n",
              "  'artistViewUrl': 'https://music.apple.com/us/artist/taylor-swift/159260351?uo=4',\n",
              "  'collectionViewUrl': 'https://music.apple.com/us/album/death-by-a-thousand-cuts/1468058165?i=1468058185&uo=4',\n",
              "  'trackViewUrl': 'https://music.apple.com/us/album/death-by-a-thousand-cuts/1468058165?i=1468058185&uo=4',\n",
              "  'previewUrl': 'https://audio-ssl.itunes.apple.com/itunes-assets/AudioPreview221/v4/9d/e4/21/9de42109-b4b4-9989-c0af-e23b565c031d/mzaf_9751897862617583377.plus.aac.p.m4a',\n",
              "  'artworkUrl30': 'https://is1-ssl.mzstatic.com/image/thumb/Music125/v4/49/3d/ab/493dab54-f920-9043-6181-80993b8116c9/19UMGIM53909.rgb.jpg/30x30bb.jpg',\n",
              "  'artworkUrl60': 'https://is1-ssl.mzstatic.com/image/thumb/Music125/v4/49/3d/ab/493dab54-f920-9043-6181-80993b8116c9/19UMGIM53909.rgb.jpg/60x60bb.jpg',\n",
              "  'artworkUrl100': 'https://is1-ssl.mzstatic.com/image/thumb/Music125/v4/49/3d/ab/493dab54-f920-9043-6181-80993b8116c9/19UMGIM53909.rgb.jpg/100x100bb.jpg',\n",
              "  'collectionPrice': 11.99,\n",
              "  'trackPrice': 1.29,\n",
              "  'releaseDate': '2019-08-23T07:00:00Z',\n",
              "  'collectionExplicitness': 'notExplicit',\n",
              "  'trackExplicitness': 'notExplicit',\n",
              "  'discCount': 1,\n",
              "  'discNumber': 1,\n",
              "  'trackCount': 18,\n",
              "  'trackNumber': 10,\n",
              "  'trackTimeMillis': 198530,\n",
              "  'country': 'USA',\n",
              "  'currency': 'USD',\n",
              "  'primaryGenreName': 'Pop',\n",
              "  'isStreamable': True},\n",
              " {'wrapperType': 'track',\n",
              "  'kind': 'song',\n",
              "  'artistId': 159260351,\n",
              "  'collectionId': 1468058165,\n",
              "  'trackId': 1468058181,\n",
              "  'artistName': 'Taylor Swift',\n",
              "  'collectionName': 'Lover',\n",
              "  'trackName': 'Paper Rings',\n",
              "  'collectionCensoredName': 'Lover',\n",
              "  'trackCensoredName': 'Paper Rings',\n",
              "  'artistViewUrl': 'https://music.apple.com/us/artist/taylor-swift/159260351?uo=4',\n",
              "  'collectionViewUrl': 'https://music.apple.com/us/album/paper-rings/1468058165?i=1468058181&uo=4',\n",
              "  'trackViewUrl': 'https://music.apple.com/us/album/paper-rings/1468058165?i=1468058181&uo=4',\n",
              "  'previewUrl': 'https://audio-ssl.itunes.apple.com/itunes-assets/AudioPreview221/v4/cd/f1/47/cdf1474c-fe9f-3d45-7ca1-c7a8e1aad405/mzaf_7251368477724682182.plus.aac.p.m4a',\n",
              "  'artworkUrl30': 'https://is1-ssl.mzstatic.com/image/thumb/Music125/v4/49/3d/ab/493dab54-f920-9043-6181-80993b8116c9/19UMGIM53909.rgb.jpg/30x30bb.jpg',\n",
              "  'artworkUrl60': 'https://is1-ssl.mzstatic.com/image/thumb/Music125/v4/49/3d/ab/493dab54-f920-9043-6181-80993b8116c9/19UMGIM53909.rgb.jpg/60x60bb.jpg',\n",
              "  'artworkUrl100': 'https://is1-ssl.mzstatic.com/image/thumb/Music125/v4/49/3d/ab/493dab54-f920-9043-6181-80993b8116c9/19UMGIM53909.rgb.jpg/100x100bb.jpg',\n",
              "  'collectionPrice': 11.99,\n",
              "  'trackPrice': 1.29,\n",
              "  'releaseDate': '2019-08-23T07:00:00Z',\n",
              "  'collectionExplicitness': 'notExplicit',\n",
              "  'trackExplicitness': 'notExplicit',\n",
              "  'discCount': 1,\n",
              "  'discNumber': 1,\n",
              "  'trackCount': 18,\n",
              "  'trackNumber': 8,\n",
              "  'trackTimeMillis': 222407,\n",
              "  'country': 'USA',\n",
              "  'currency': 'USD',\n",
              "  'primaryGenreName': 'Pop',\n",
              "  'isStreamable': True}]"
            ]
          },
          "execution_count": 120,
          "metadata": {},
          "output_type": "execute_result"
        }
      ],
      "source": [
        "results['results']"
      ]
    },
    {
      "cell_type": "code",
      "execution_count": 121,
      "id": "4a60a395",
      "metadata": {},
      "outputs": [
        {
          "name": "stdout",
          "output_type": "stream",
          "text": [
            "Artist: Taylor Swift\n",
            "Track: Lover\n",
            "Album: Lover\n",
            "Release Date: 2019-08-16T07:00:00Z\n",
            "Genre: Pop\n",
            "URL: https://music.apple.com/us/album/lover/1468058165?i=1468058173&uo=4\n",
            "----------------------------------------\n",
            "Artist: Taylor Swift\n",
            "Track: You Need To Calm Down\n",
            "Album: Lover\n",
            "Release Date: 2019-06-14T07:00:00Z\n",
            "Genre: Pop\n",
            "URL: https://music.apple.com/us/album/you-need-to-calm-down/1468058165?i=1468058704&uo=4\n",
            "----------------------------------------\n",
            "Artist: Taylor Swift\n",
            "Track: Cruel Summer\n",
            "Album: Lover\n",
            "Release Date: 2019-08-23T07:00:00Z\n",
            "Genre: Pop\n",
            "URL: https://music.apple.com/us/album/cruel-summer/1468058165?i=1468058171&uo=4\n",
            "----------------------------------------\n",
            "Artist: Taylor Swift\n",
            "Track: The Archer\n",
            "Album: Lover\n",
            "Release Date: 2019-07-23T07:00:00Z\n",
            "Genre: Pop\n",
            "URL: https://music.apple.com/us/album/the-archer/1468058165?i=1468058177&uo=4\n",
            "----------------------------------------\n",
            "Artist: Taylor Swift\n",
            "Track: ME! (feat. Brendon Urie of Panic! At The Disco)\n",
            "Album: Lover\n",
            "Release Date: 2019-04-26T07:00:00Z\n",
            "Genre: Pop\n",
            "URL: https://music.apple.com/us/album/me-feat-brendon-urie-of-panic-at-the-disco/1468058165?i=1468058706&uo=4\n",
            "----------------------------------------\n",
            "Artist: Taylor Swift\n",
            "Track: Soon You’ll Get Better (feat. The Chicks)\n",
            "Album: Lover\n",
            "Release Date: 2019-08-23T07:00:00Z\n",
            "Genre: Pop\n",
            "URL: https://music.apple.com/us/album/soon-youll-get-better-feat-the-chicks/1468058165?i=1468058699&uo=4\n",
            "----------------------------------------\n",
            "Artist: Taylor Swift\n",
            "Track: I Forgot That You Existed\n",
            "Album: Lover\n",
            "Release Date: 2019-08-23T07:00:00Z\n",
            "Genre: Pop\n",
            "URL: https://music.apple.com/us/album/i-forgot-that-you-existed/1468058165?i=1468058169&uo=4\n",
            "----------------------------------------\n",
            "Artist: Taylor Swift\n",
            "Track: Miss Americana & The Heartbreak Prince\n",
            "Album: Lover\n",
            "Release Date: 2019-08-23T07:00:00Z\n",
            "Genre: Pop\n",
            "URL: https://music.apple.com/us/album/miss-americana-the-heartbreak-prince/1468058165?i=1468058180&uo=4\n",
            "----------------------------------------\n",
            "Artist: Taylor Swift\n",
            "Track: Death By A Thousand Cuts\n",
            "Album: Lover\n",
            "Release Date: 2019-08-23T07:00:00Z\n",
            "Genre: Pop\n",
            "URL: https://music.apple.com/us/album/death-by-a-thousand-cuts/1468058165?i=1468058185&uo=4\n",
            "----------------------------------------\n",
            "Artist: Taylor Swift\n",
            "Track: Paper Rings\n",
            "Album: Lover\n",
            "Release Date: 2019-08-23T07:00:00Z\n",
            "Genre: Pop\n",
            "URL: https://music.apple.com/us/album/paper-rings/1468058165?i=1468058181&uo=4\n",
            "----------------------------------------\n"
          ]
        }
      ],
      "source": [
        "# Iterate through each item in the 'results' list\n",
        "for item in results['results']:\n",
        "    # Access common attributes\n",
        "    artist_name = item.get('artistName', 'Unknown Artist')\n",
        "    track_name = item.get('trackName', 'Unknown Track')\n",
        "    collection_name = item.get('collectionName', 'Unknown Album')\n",
        "    release_date = item.get('releaseDate', 'Unknown Date')\n",
        "    genre = item.get('primaryGenreName', 'Unknown Genre')\n",
        "    track_url = item.get('trackViewUrl', 'No URL Available')\n",
        "    \n",
        "    # Print the extracted information\n",
        "    print(f\"Artist: {artist_name}\")\n",
        "    print(f\"Track: {track_name}\")\n",
        "    print(f\"Album: {collection_name}\")\n",
        "    print(f\"Release Date: {release_date}\")\n",
        "    print(f\"Genre: {genre}\")\n",
        "    print(f\"URL: {track_url}\")\n",
        "    print(\"-\" * 40)"
      ]
    },
    {
      "cell_type": "code",
      "execution_count": 123,
      "id": "f25529b5",
      "metadata": {},
      "outputs": [
        {
          "name": "stdout",
          "output_type": "stream",
          "text": [
            "Lover by Taylor Swift\n",
            "You Need To Calm Down by Taylor Swift\n",
            "Cruel Summer by Taylor Swift\n",
            "The Archer by Taylor Swift\n",
            "ME! (feat. Brendon Urie of Panic! At The Disco) by Taylor Swift\n",
            "Soon You’ll Get Better (feat. The Chicks) by Taylor Swift\n",
            "I Forgot That You Existed by Taylor Swift\n",
            "Miss Americana & The Heartbreak Prince by Taylor Swift\n",
            "Death By A Thousand Cuts by Taylor Swift\n",
            "Paper Rings by Taylor Swift\n"
          ]
        }
      ],
      "source": [
        "for item in results['results']:\n",
        "    artist_name = item.get('artistName', 'Unknown Artist')\n",
        "    track_name = item.get('trackName', 'Unknown Track')\n",
        "    \n",
        "    #print(track_name)\n",
        "    print(track_name, \"by\", artist_name)\n",
        "    \n",
        "    "
      ]
    },
    {
      "cell_type": "markdown",
      "id": "666335c1",
      "metadata": {},
      "source": [
        "## Media Type = `ebook` example\n",
        "\n",
        "* for digital books, use the media type value `ebook`\n",
        "\n",
        "* for audiobooks, use media type value `audiobooks`"
      ]
    },
    {
      "cell_type": "markdown",
      "id": "1bd98602",
      "metadata": {},
      "source": [
        "`media_type` = \n",
        "\n",
        "Common media Types in the iTunes Search API\n",
        "\n",
        "* `\"music\"`: For music content, including songs, albums, and artists.\n",
        "* `\"movie\"`: For movies available in the iTunes Store.\n",
        "* `\"podcast\"`: For podcasts.\n",
        "* `\"musicVideo\"`: For music videos.\n",
        "* `\"audiobook\"`: For audiobooks.\n",
        "* `\"shortFilm\"`: For short films.\n",
        "* `\"tvShow\"`: For TV shows.\n",
        "* `\"software\"`: For apps available in the App Store.\n",
        "* `\"ebook\"`: For books available in the iBooks Store.\n",
        "* `\"all\"`: To search across all media types.\n"
      ]
    },
    {
      "cell_type": "markdown",
      "id": "f8238714",
      "metadata": {},
      "source": [
        "You could search via the ISBN (International Standard Book Number) - a unique id for each published book."
      ]
    },
    {
      "cell_type": "code",
      "execution_count": 125,
      "id": "79ce8fed",
      "metadata": {},
      "outputs": [],
      "source": [
        "query = \"9780316069359\"\n",
        "media_type = \"ebook\"\n",
        "results = search_itunes(query, media_type)\n"
      ]
    },
    {
      "cell_type": "code",
      "execution_count": 126,
      "id": "d390dcc7",
      "metadata": {},
      "outputs": [
        {
          "data": {
            "text/plain": [
              "{'resultCount': 1,\n",
              " 'results': [{'currency': 'USD',\n",
              "   'trackCensoredName': 'The Fifth Witness',\n",
              "   'fileSizeBytes': 3982112,\n",
              "   'formattedPrice': '$9.99',\n",
              "   'trackViewUrl': 'https://books.apple.com/us/book/the-fifth-witness/id395519191?uo=4',\n",
              "   'artworkUrl60': 'https://is1-ssl.mzstatic.com/image/thumb/Publication126/v4/de/df/4c/dedf4cde-adb4-7c3b-35d7-dda44ab83cf2/9780316069380.jpg/60x60bb.jpg',\n",
              "   'artworkUrl100': 'https://is1-ssl.mzstatic.com/image/thumb/Publication126/v4/de/df/4c/dedf4cde-adb4-7c3b-35d7-dda44ab83cf2/9780316069380.jpg/100x100bb.jpg',\n",
              "   'artistViewUrl': 'https://books.apple.com/us/artist/michael-connelly/2087642?uo=4',\n",
              "   'artistIds': [2087642],\n",
              "   'artistId': 2087642,\n",
              "   'artistName': 'Michael Connelly',\n",
              "   'genres': ['Mysteries & Thrillers', 'Books', 'Police Procedural'],\n",
              "   'price': 9.99,\n",
              "   'description': '<b>In this #1&#xa0;<i>New York Times</i>&#xa0;bestselling thriller, after taking on a foreclosure case, defense attorney Mickey Haller fights to prove his client’s innocence—but first he must follow a trail of black market evidence to its sinister end.</b> &#xa0;  Mickey Haller has fallen on tough times. He expands his business into foreclosure defense, only to see one of his clients accused of killing the banker she blames for trying to take away her home.<br /><br /> Mickey puts his team into high gear to exonerate Lisa Trammel, even though the evidence and his own suspicions tell him his client is guilty. Soon after he learns that the victim had black market dealings of his own, Haller is assaulted, too -- and he\\'s certain he\\'s on the right trail.<br /><br /> Despite the danger and uncertainty, Haller mounts the best defense of his career in a trial where the last surprise comes after the verdict is in. Connelly proves again why he \"may very well be the best novelist working in the United States today\" (<i>San Francisco Chronicle</i>).',\n",
              "   'trackId': 395519191,\n",
              "   'trackName': 'The Fifth Witness',\n",
              "   'genreIds': ['9032', '38', '10052'],\n",
              "   'releaseDate': '2011-04-05T07:00:00Z',\n",
              "   'kind': 'ebook',\n",
              "   'averageUserRating': 4.0,\n",
              "   'userRatingCount': 2783}]}"
            ]
          },
          "execution_count": 126,
          "metadata": {},
          "output_type": "execute_result"
        }
      ],
      "source": [
        "results"
      ]
    },
    {
      "cell_type": "code",
      "execution_count": 127,
      "id": "d06b8015",
      "metadata": {},
      "outputs": [],
      "source": [
        "query = \"Python Programming\"\n",
        "media_type = \"ebook\"\n",
        "results = search_itunes(query, media_type)"
      ]
    },
    {
      "cell_type": "code",
      "execution_count": 128,
      "id": "fc39b011",
      "metadata": {},
      "outputs": [
        {
          "name": "stdout",
          "output_type": "stream",
          "text": [
            "Python For Beginners: A Practical and Step-by-Step Guide to Programming with Python by Daniel Correa\n",
            "Python Simplified by Ratneshwaran Maheswaran\n",
            "Python 3 Tutorial by Python Software Foundation.\n",
            "Fundamentals of Programming: Using Python by Bruce Embry\n",
            "Python Programming by Ryan Turner\n",
            "Python Programming For Beginners by James Tudor\n",
            "Python Programming by Ryan Turner\n",
            "Python Programming by Knowledge flow\n",
            "Non-Programmer's Tutorial for Python 3 by Wikibooks\n",
            "Learn Python by Shyam Bharath, S.D.\n"
          ]
        }
      ],
      "source": [
        "for item in results['results']:\n",
        "    artist_name = item.get('artistName', 'Unknown Artist')\n",
        "    track_name = item.get('trackName', 'Unknown Track')\n",
        "    \n",
        "    print(track_name, \"by\", artist_name)"
      ]
    },
    {
      "cell_type": "markdown",
      "id": "34dd1bb6",
      "metadata": {},
      "source": [
        "## Extension - Spotify \n",
        "\n",
        "There is a Spotify equivalent of this API, which allows you to search their database, but it has a few extra steps, such as linking your account (whereas iTunes API doesn't require an API key).\n",
        "\n",
        "[Spotify API](https://developer.spotify.com/documentation/web-api/howtos/web-app-profile)"
      ]
    },
    {
      "cell_type": "markdown",
      "id": "cfb01905",
      "metadata": {},
      "source": [
        "## ZeroDivisionError"
      ]
    },
    {
      "cell_type": "code",
      "execution_count": null,
      "id": "2134a60f",
      "metadata": {},
      "outputs": [],
      "source": [
        "try:\n",
        "    # Code that might raise an exception\n",
        "    division = 10 / 0\n",
        "    \n",
        "except ZeroDivisionError:\n",
        "    # Code to handle the exception\n",
        "    print(\"You cannot divide by zero!\")"
      ]
    },
    {
      "cell_type": "markdown",
      "id": "f1a646d0",
      "metadata": {},
      "source": [
        "## ValueError - for type casting issues"
      ]
    },
    {
      "cell_type": "code",
      "execution_count": null,
      "id": "e5be8018",
      "metadata": {},
      "outputs": [],
      "source": [
        "try:\n",
        "    risky_code = int(\"abc\")  # This will raise a ValueError\n",
        "    print(risky_code)\n",
        "except (ZeroDivisionError, ValueError):\n",
        "    print(\"An error occurred!\")"
      ]
    },
    {
      "cell_type": "code",
      "execution_count": null,
      "id": "750543cd",
      "metadata": {},
      "outputs": [],
      "source": [
        "try:\n",
        "    risky_code = int(True)  # This will raise a ValueError\n",
        "    print(risky_code)\n",
        "except (ZeroDivisionError, ValueError):\n",
        "    print(\"An error occurred!\")"
      ]
    },
    {
      "cell_type": "code",
      "execution_count": null,
      "id": "001f1aa8",
      "metadata": {},
      "outputs": [],
      "source": [
        "try:\n",
        "    risky_code = bool(\"Nick\")  # This will raise a ValueError\n",
        "    print(risky_code)\n",
        "except (ZeroDivisionError, ValueError):\n",
        "    print(\"An error occurred!\")"
      ]
    },
    {
      "cell_type": "markdown",
      "id": "e883bbf3",
      "metadata": {},
      "source": [
        "## Input Exceptions\n",
        "\n",
        "* Using dynamic typing means that we're not bound to types... \n",
        "\n",
        "* The `input()` function returns an `str` therefore numbers, characters and key presses can be stored in an `str`\n",
        "\n",
        "* With typed variables, this would be a problem... \n",
        "\n",
        "* However, be careful if casting the returned `str` from an input function to an `int` or `float`"
      ]
    },
    {
      "cell_type": "code",
      "execution_count": null,
      "id": "d862c5a7",
      "metadata": {},
      "outputs": [],
      "source": [
        "try: \n",
        "    num = input(\"Please enter a number\")\n",
        "    print(num)\n",
        "except:\n",
        "    print(\"An error occurred!\")"
      ]
    },
    {
      "cell_type": "code",
      "execution_count": null,
      "id": "2d9a237b",
      "metadata": {},
      "outputs": [],
      "source": [
        "try: \n",
        "    num = int(input(\"Please enter a number\"))\n",
        "    print(num)\n",
        "except:\n",
        "    print(\"An error occurred!\")"
      ]
    },
    {
      "cell_type": "markdown",
      "id": "960a94dc",
      "metadata": {},
      "source": [
        "## List and Key Exceptions"
      ]
    },
    {
      "cell_type": "code",
      "execution_count": null,
      "id": "e314990c",
      "metadata": {},
      "outputs": [],
      "source": [
        "name = \"Nick\"\n",
        "name[4]"
      ]
    },
    {
      "cell_type": "code",
      "execution_count": null,
      "id": "12da529f",
      "metadata": {},
      "outputs": [],
      "source": [
        "list(LookupError.__subclasses__())"
      ]
    },
    {
      "cell_type": "code",
      "execution_count": null,
      "id": "65738068",
      "metadata": {},
      "outputs": [],
      "source": [
        "try: \n",
        "    name = \"Nick\"\n",
        "    name[4]\n",
        "except(IndexError):\n",
        "    print(\"Issue with the index\")"
      ]
    },
    {
      "cell_type": "code",
      "execution_count": null,
      "id": "2531aab0",
      "metadata": {},
      "outputs": [],
      "source": [
        "d = { \"Nick\" : 12345}\n",
        "d[\"Sam\"]"
      ]
    },
    {
      "cell_type": "code",
      "execution_count": null,
      "id": "b5707513",
      "metadata": {},
      "outputs": [],
      "source": [
        "try: \n",
        "    d = { \"Nick\" : 12345}\n",
        "    d[\"Sam\"]\n",
        "except(KeyError):\n",
        "    print(\"Key could not be found\")"
      ]
    },
    {
      "cell_type": "markdown",
      "id": "52f7efbb",
      "metadata": {},
      "source": [
        "## The `else` statement in `try` / `except` blocks"
      ]
    },
    {
      "cell_type": "code",
      "execution_count": null,
      "id": "5930b01e",
      "metadata": {},
      "outputs": [],
      "source": [
        "try: \n",
        "    num = int(input(\"Please enter a number\"))\n",
        "    print(num)\n",
        "except Exception as e:\n",
        "    print(\"An error occurred!\")"
      ]
    },
    {
      "cell_type": "code",
      "execution_count": null,
      "id": "1bc885e1",
      "metadata": {},
      "outputs": [],
      "source": [
        "try: \n",
        "    num = int(input(\"Please enter a number\"))\n",
        "    #print(num)\n",
        "except:\n",
        "    print(\"An error occurred!\")\n",
        "else: \n",
        "    print(num)"
      ]
    },
    {
      "cell_type": "markdown",
      "id": "5bf365af",
      "metadata": {},
      "source": [
        "The below would work in a Jupyter notebooks environment, because variables are cached. But in a .py file, num may only be visible to the try block, and not outside of this. "
      ]
    },
    {
      "cell_type": "code",
      "execution_count": null,
      "id": "c3a8b2b4",
      "metadata": {},
      "outputs": [],
      "source": [
        "try: \n",
        "    num = int(input(\"Please enter a number\"))\n",
        "    #print(num)\n",
        "except:\n",
        "    print(\"An error occurred!\")\n",
        "\n",
        "print(num)"
      ]
    },
    {
      "cell_type": "markdown",
      "id": "16e3c64e",
      "metadata": {},
      "source": [
        "## The `break` keyword\n",
        "\n",
        "* In the context of loops, you may wish to `break` out of loops once a condition is met.\n",
        "\n",
        "* This is effective for 'reprompting' - we need to give our users a few chances to get it right! "
      ]
    },
    {
      "cell_type": "code",
      "execution_count": 20,
      "id": "c58c5e9a",
      "metadata": {},
      "outputs": [],
      "source": [
        "while True: \n",
        "    try: \n",
        "        num = int(input(\"Please enter a number\"))\n",
        "        break\n",
        "    except Exception as e:\n",
        "        print(e.args)\n",
        "    else: \n",
        "        print(num)"
      ]
    },
    {
      "cell_type": "markdown",
      "id": "5341c98d",
      "metadata": {},
      "source": [
        "Whilst this effective for exiting the loop, we don't get to our `else` block, which prints the value...  \n",
        "  We could move the `break` statement:"
      ]
    },
    {
      "cell_type": "code",
      "execution_count": null,
      "id": "ca5e4023",
      "metadata": {},
      "outputs": [],
      "source": [
        "while True: \n",
        "    try: \n",
        "        num = int(input(\"Please enter a number\"))\n",
        "    except Exception as e:\n",
        "        print(e.args)\n",
        "        #pass\n",
        "    else: \n",
        "        print(num)\n",
        "        break"
      ]
    },
    {
      "cell_type": "markdown",
      "id": "7da58848",
      "metadata": {},
      "source": [
        "## Could formulate into a function\n",
        "\n",
        "* This function can be reused: getting integers likely to happen multiple times in multiple programs. \n",
        "\n",
        "* The `return` keyword `breaks` out of the function, whereas `break` is just for a loop.\n",
        "\n",
        "* The keyword `pass` could help if we don't want to print all the bad exception messages to our user. \n",
        "\n",
        "* Think about how you might get the messaging right with your context - you may need to provide some help... but maybe a message reaffirming the data sought, rather than all the exception messaging which is intended for developers - not users!"
      ]
    },
    {
      "cell_type": "code",
      "execution_count": 26,
      "id": "8c5e509a",
      "metadata": {},
      "outputs": [],
      "source": [
        "def get_int():\n",
        "    while True:\n",
        "        try:\n",
        "            return int(input(\"Please enter a number\"))\n",
        "        except Exception as e:\n",
        "            pass # may not want to print the exceptions\n",
        "            #print(e.args)"
      ]
    },
    {
      "cell_type": "code",
      "execution_count": null,
      "id": "0ec4dc13",
      "metadata": {},
      "outputs": [],
      "source": [
        "print(get_int())"
      ]
    },
    {
      "cell_type": "markdown",
      "id": "532d5bdd",
      "metadata": {},
      "source": [
        "## Exception object `e` methods\n",
        "\n",
        "* objects of an Exception/Error class can give users useful information "
      ]
    },
    {
      "cell_type": "code",
      "execution_count": null,
      "id": "4f73f677",
      "metadata": {},
      "outputs": [],
      "source": [
        "try:\n",
        "    division = 10 / 0\n",
        "    \n",
        "except Exception as e:\n",
        "    print(f\"An error occurred: {e}\")"
      ]
    },
    {
      "cell_type": "code",
      "execution_count": null,
      "id": "f77a446a",
      "metadata": {},
      "outputs": [],
      "source": [
        "try:\n",
        "    #num = int(input(\"Enter a number\"))\n",
        "    division = 10 / 0\n",
        "except Exception as e:\n",
        "    print(f\"An error occurred: {e}\")\n",
        "    print(\"arguments\",e.args)\n",
        "    print(\"representation\", repr(e))\n",
        "    print(\"context:\", e.__context__)"
      ]
    },
    {
      "cell_type": "code",
      "execution_count": null,
      "id": "28f72ff0",
      "metadata": {},
      "outputs": [],
      "source": [
        "import traceback\n",
        "# Nested try and catch block for context\n",
        "try:\n",
        "    try:\n",
        "        result = 1 / 0\n",
        "    except ZeroDivisionError as e1:\n",
        "        raise ValueError(\"Encountered a value error during division\") from e1\n",
        "except Exception as e:\n",
        "    print(f\"Exception args: {e.args}\")\n",
        "    print(f\"String representation: {str(e)}\")\n",
        "    print(f\"Official representation: {repr(e)}\")\n",
        "    print(f\"Cause: {e.__cause__}\")\n",
        "    print(f\"Context: {e.__context__}\")\n",
        "    print(\"Traceback:\")\n",
        "    traceback.print_tb(e.__traceback__)"
      ]
    },
    {
      "cell_type": "code",
      "execution_count": null,
      "id": "d086ed14",
      "metadata": {},
      "outputs": [],
      "source": [
        "dir(Exception)"
      ]
    },
    {
      "cell_type": "markdown",
      "id": "f870ec47",
      "metadata": {},
      "source": [
        "## The need to `Raise` (Throw) an Exception\n",
        "\n",
        "* To organise code more efficiently, one can write a manually `raise` an `Exception` in a function.\n",
        "\n",
        "* Defensive programming is proactive in anticipating exceptions and write them into functions.\n",
        "\n",
        "* Other languages use the keyword `throw`, but Python uses `raise`.\n",
        "\n"
      ]
    },
    {
      "cell_type": "code",
      "execution_count": 90,
      "id": "75078231",
      "metadata": {},
      "outputs": [],
      "source": [
        "def divide(a, b):\n",
        "    if b == 0:\n",
        "        raise ValueError(\"Cannot divide by zero.\")\n",
        "    return a / b"
      ]
    },
    {
      "cell_type": "code",
      "execution_count": null,
      "id": "4994e94b",
      "metadata": {},
      "outputs": [],
      "source": [
        "divide(10, 0)  "
      ]
    },
    {
      "cell_type": "markdown",
      "id": "5c90a784",
      "metadata": {},
      "source": [
        "Notice below, we can surround the function call with `try` / `except` blocks, rather than the full workings of the function. "
      ]
    },
    {
      "cell_type": "code",
      "execution_count": null,
      "id": "7e91e323",
      "metadata": {},
      "outputs": [],
      "source": [
        "try: \n",
        "    divide(10, 0)  \n",
        "except Exception as e: \n",
        "    print(f\"Exception args: {e.args}\")\n",
        "    print(f\"Official representation: {repr(e)}\")"
      ]
    },
    {
      "cell_type": "markdown",
      "id": "cc9eac08",
      "metadata": {},
      "source": [
        "Furthermore, you may want to enforce certain logical rules as `Exceptions`, even if they syntactically check out."
      ]
    },
    {
      "cell_type": "code",
      "execution_count": 98,
      "id": "5c5dc727",
      "metadata": {},
      "outputs": [],
      "source": [
        "def withdraw(amount, balance):\n",
        "    if amount > balance:\n",
        "        raise ValueError(\"Insufficient funds.\")\n",
        "    balance -= amount\n",
        "    return balance"
      ]
    },
    {
      "cell_type": "code",
      "execution_count": null,
      "id": "b60efb6b",
      "metadata": {},
      "outputs": [],
      "source": [
        "withdraw(100, 50)  "
      ]
    },
    {
      "cell_type": "markdown",
      "id": "b82351d5",
      "metadata": {},
      "source": [
        "Whilst our Python variable can handle a negative value, there may critical situations where negative values would cause significant damage to a system. "
      ]
    },
    {
      "cell_type": "markdown",
      "id": "eefe5aa8",
      "metadata": {},
      "source": [
        "## 3.0 Writing our own custom Exception classes\n",
        "\n",
        "* Whilst there are many (nearly 70) named `Exception` classes in Python, you may want to define your own Exception classes that are unique to your program. \n",
        "\n",
        "* Our custom Exception classes will need to inherit from the class `Exception`"
      ]
    },
    {
      "cell_type": "code",
      "execution_count": 28,
      "id": "30474739",
      "metadata": {},
      "outputs": [],
      "source": [
        "class NegativeNumberError(Exception):\n",
        "    pass"
      ]
    },
    {
      "cell_type": "code",
      "execution_count": 29,
      "id": "bd5e4bdf",
      "metadata": {},
      "outputs": [],
      "source": [
        "def square_root(x):\n",
        "    if x < 0:\n",
        "        raise NegativeNumberError(\"Cannot take square root of a negative number.\")\n",
        "    return x ** 0.5"
      ]
    },
    {
      "cell_type": "code",
      "execution_count": null,
      "id": "b7f3ab0b",
      "metadata": {},
      "outputs": [],
      "source": [
        "square_root(-4) "
      ]
    },
    {
      "cell_type": "markdown",
      "id": "b4b01a2b",
      "metadata": {},
      "source": [
        "## 4.0 Assertions in Python \n",
        "\n",
        "* Assertions can be used to check parameters of methods, or values of variables. \n",
        "\n",
        "* Assertions typically feature in Unit Testing. We'll look at the module `pytest` in due course!\n",
        "\n",
        "* In C and C++ assertions would be checked at compile-time (before the run-time exception handling). Java disables this behaviour by default, however, this can be enabled. Furthermore, in Java, an `Assertion` would be treated as an `Error`, whereas `ZeroDivision` would be an `Exception`.\n",
        "\n",
        "* In Python, `AssertionError` inherits from `Exception`. \n",
        "\n",
        "* Debugging: Assertions are commonly used to catch bugs by making assumptions about the code’s behavior explicit.\n",
        "\n",
        "* Checking Invariants: You can use assertions to ensure that certain conditions hold true at specific points in your code.\n",
        "\n",
        "* Testing Conditions: They can be used to validate inputs, outputs, and internal states during development."
      ]
    },
    {
      "cell_type": "code",
      "execution_count": null,
      "id": "716c53b0",
      "metadata": {},
      "outputs": [],
      "source": [
        "x = 5\n",
        "assert x > 10 "
      ]
    },
    {
      "cell_type": "markdown",
      "id": "ddc966c1",
      "metadata": {},
      "source": [
        "What do you notice above - an `AssertionError`"
      ]
    },
    {
      "cell_type": "code",
      "execution_count": 47,
      "id": "6610e02f",
      "metadata": {},
      "outputs": [],
      "source": [
        "x = 10\n",
        "assert x > 5  # This will pass since the condition is True"
      ]
    },
    {
      "cell_type": "markdown",
      "id": "2bc31fd1",
      "metadata": {},
      "source": [
        "Assertions can be globally disabled in Python by running the interpreter with the -O (optimize) flag:\n",
        "\n",
        "` python -O your_script.py `"
      ]
    },
    {
      "cell_type": "markdown",
      "id": "f277e2a0",
      "metadata": {},
      "source": []
    },
    {
      "cell_type": "markdown",
      "id": "dd38cc99",
      "metadata": {
        "id": "dd38cc99"
      },
      "source": [
        "#### This Jupyter Notebook contains exercises for you to extend your introduction to OOP, by creating lists, tuples, sets, dictionaries of objects. Attempt the following exercises, which slowly build in complexity. If you get stuck, check back to the <a href = \"https://youtu.be/MDZX59Lrc_g?si=MW3m7FYgfVYoYqum\"> Python lecture recording on Data Structures here</a> or look through the <a href = \"https://www.python.org\">Python documentation here</a>."
      ]
    },
    {
      "cell_type": "markdown",
      "id": "6e5075e1",
      "metadata": {
        "id": "6e5075e1"
      },
      "source": [
        "### Exercise 1:\n",
        "Create a Python list that stores the numbers 1-10 in indivdual elements. Then print out the contents of the list to check the values have been stored correctly.\n",
        "\n",
        "Extension: make use of an appropriate list method to reverse the order of this list."
      ]
    },
    {
      "cell_type": "code",
      "execution_count": null,
      "id": "1c93996b",
      "metadata": {
        "id": "1c93996b",
        "outputId": "fc2acb5f-64bd-48f2-9659-ddbc761958a4",
        "scrolled": false
      },
      "outputs": [],
      "source": [
        "#Write your solution here\n"
      ]
    },
    {
      "cell_type": "markdown",
      "id": "2ae0edc0",
      "metadata": {},
      "source": [
        "### Exercise 2:\n",
        "\n",
        "Create a Python dictionary which stores the price for three items of food. For example; milk is £1.30, pasta is £0.75, and strawberries are £1.50. Output the dictionary to check the values are stored, and then see if you can access the price for one of the items by using the item name as the 'key'.\n",
        "\n",
        "Extension: Now add a new key and value pair to previously defined dictionary."
      ]
    },
    {
      "cell_type": "code",
      "execution_count": null,
      "id": "84b40bdc",
      "metadata": {},
      "outputs": [],
      "source": [
        "#Write your solution here"
      ]
    },
    {
      "cell_type": "markdown",
      "id": "18d27a22",
      "metadata": {},
      "source": [
        "### Exercise 3: \n",
        "\n",
        "Given two sets (prices and food names), can you create a dictionary that uses the foodnames as keys, and the prices as values?\n"
      ]
    },
    {
      "cell_type": "code",
      "execution_count": null,
      "id": "989af81c",
      "metadata": {},
      "outputs": [],
      "source": [
        "foodnames = {\"milk\", \"pasta\", \"strawberries\"}\n",
        "prices = {1.30, 0.75, 1.50}\n",
        "\n",
        "print(foodnames)\n",
        "print(prices)\n",
        "\n",
        "# Write your solution: \n"
      ]
    },
    {
      "cell_type": "markdown",
      "id": "d14cb700",
      "metadata": {},
      "source": [
        "### Exercise 4: \n",
        "\n",
        "Write one function which will return the intersection of two sets passed in. Write another function which will return the union of two sets passed in."
      ]
    },
    {
      "cell_type": "code",
      "execution_count": null,
      "id": "c4dc15f6",
      "metadata": {},
      "outputs": [],
      "source": [
        "a = {1,2,3,4,5,6,7,8,9,10}\n",
        "b = {7,8,9,10,11,12,13,14}\n",
        "\n",
        "#write your solution here"
      ]
    },
    {
      "cell_type": "markdown",
      "id": "fbb5bdfe",
      "metadata": {},
      "source": [
        "### Exercise 5:\n",
        "Write a function that takes two lists of numbers, and returns the number that appears most frequently across both lists (the mode). \n",
        "\n",
        "Hint: if you get stuck, try creating a tally of how many times each number appears. This could be a list.\n"
      ]
    },
    {
      "cell_type": "code",
      "execution_count": null,
      "id": "6f9446d9",
      "metadata": {},
      "outputs": [],
      "source": [
        "def most_frequent(a, b):\n",
        "    #write your solution here\n",
        "    ...\n",
        "    #write your solution above\n",
        "\n",
        "a = [0,1,3,4,6,3,2,4,1,9,5,6,7,7,1,8,4,0]\n",
        "b = [7,3,9,6,7,4,2,1,3,9,7,5,1,3,4,2,1,8]\n",
        "\n",
        "result = most_frequent(a, b)\n",
        "result\n"
      ]
    },
    {
      "cell_type": "markdown",
      "id": "64e7ea31",
      "metadata": {},
      "source": [
        "### Exercise 6: \n",
        "\n",
        "Return to your student class created in Python 03 notebook. Create three new student objects and add/store these objects in a list."
      ]
    },
    {
      "cell_type": "code",
      "execution_count": null,
      "id": "c5c92884",
      "metadata": {},
      "outputs": [],
      "source": [
        "class Student:\n",
        "  def __init__(self, name, id):\n",
        "    self.name = name\n",
        "    self.id = id\n",
        "  def print(self):\n",
        "      print(self.name) \n",
        "      print(self.id)\n",
        "\n",
        "#write your solution here"
      ]
    },
    {
      "cell_type": "markdown",
      "id": "99a26654",
      "metadata": {},
      "source": [
        "### Exercise 7: \n",
        "\n",
        "Amend your Module class from Python 03 notebook so that module objects can store a list of student objects (which take the module). Start by defining an attribute in the Module constructor. This could be initialised as an empty list in the constructor. Create a ```add_student()``` function which can append a student object. \n",
        "\n",
        "Extension: is it possible to use the ```add_student()``` function to add a list of students to already existing list attribute? "
      ]
    },
    {
      "cell_type": "code",
      "execution_count": null,
      "id": "e078c746",
      "metadata": {},
      "outputs": [],
      "source": [
        "#Write your solution here"
      ]
    },
    {
      "cell_type": "markdown",
      "id": "f85dedf5",
      "metadata": {},
      "source": [
        "### Exercise 7\n",
        "\n",
        "Now modify the list of the students in Module, to a dictionary. The dictionary should store the student object as the 'key' and the student mark for the module as the 'value'. Test this new structure works by passing in students and their marks when you call ```add_student()```\n",
        "\n",
        "Extension: Can you now create some descriptive statistics for each module: the maximum mark, minimum mark, and mean (average)?"
      ]
    },
    {
      "cell_type": "code",
      "execution_count": 1,
      "id": "8ea7dad5",
      "metadata": {},
      "outputs": [],
      "source": [
        "#write your solution here"
      ]
    },
    {
      "cell_type": "markdown",
      "id": "2a013a70",
      "metadata": {},
      "source": [
        "### Exercise 8\n",
        "Make adjustments to the Course class from Python 03 Notebook to allow a Course to store a list of module objects. \n",
        "Create additional module objects and output their details."
      ]
    },
    {
      "cell_type": "code",
      "execution_count": 2,
      "id": "89872b11",
      "metadata": {},
      "outputs": [],
      "source": [
        "#write your solution here"
      ]
    },
    {
      "cell_type": "markdown",
      "id": "f62b3876",
      "metadata": {
        "id": "f62b3876"
      },
      "source": [
        "### Exercise 9:\n",
        "Write a function that will generate the multiplications of a number passed in. For example, if the value 5 is passed in, then generate the 5 times table. The values of the multiplication table should be stored in indivdiual elements (max 12) of a list. The list should be returned at the end of the function. \n"
      ]
    },
    {
      "cell_type": "code",
      "execution_count": null,
      "id": "7111df18",
      "metadata": {},
      "outputs": [],
      "source": [
        "#write your solution here"
      ]
    },
    {
      "cell_type": "markdown",
      "id": "c76976fd",
      "metadata": {},
      "source": [
        "### Exercise 10:\n",
        "\n",
        "Write a function which will square any list of values passed into it. Test this works by passing in your list of numbers (1-10) you created in the first exericse.\n",
        "\n",
        "<b>Extension</b>: what happens if the values in a list are not ints or floats? How would you respond to this event?"
      ]
    },
    {
      "cell_type": "code",
      "execution_count": null,
      "id": "7889352e",
      "metadata": {},
      "outputs": [],
      "source": [
        "#write your solution here"
      ]
    },
    {
      "cell_type": "markdown",
      "id": "5861f62c",
      "metadata": {},
      "source": [
        "### Bonus exercise (in the style of an interview question)\n",
        "\n",
        "You are given a list of integers, and your task is to find the longest subsequence of consecutive integers within the list. A subsequence is a sequence that can be derived from another sequence by deleting some or no elements without changing the order of the remaining elements. \n",
        "\n",
        "Write a Python function to solve this problem. Your function should return the longest consecutive subsequence found in the original list.\n",
        "\n",
        "For example, given the input list: ``` [4, 2, 8, 5, 6, 7, 11, 12, 10]```\n",
        "\n",
        "The longest consecutive subsequence is: ``` [4, 5, 6, 7, 8] ```\n"
      ]
    },
    {
      "cell_type": "code",
      "execution_count": null,
      "id": "ddf7677c",
      "metadata": {
        "id": "ddf7677c"
      },
      "outputs": [],
      "source": [
        "def longest_consecutive_subsequence(numbers):\n",
        "    #write your solution here\n",
        "    ...\n",
        "    #write your solution above\n",
        "\n",
        "\n",
        "numbers = [4, 2, 8, 5, 6, 7, 11, 12, 10]\n",
        "result = longest_consecutive_subsequence(numbers)\n",
        "print(result)  "
      ]
    }
  ],
  "metadata": {
    "colab": {
      "provenance": []
    },
    "kernelspec": {
      "display_name": "Python 3 (ipykernel)",
      "language": "python",
      "name": "python3"
    },
    "language_info": {
      "codemirror_mode": {
        "name": "ipython",
        "version": 3
      },
      "file_extension": ".py",
      "mimetype": "text/x-python",
      "name": "python",
      "nbconvert_exporter": "python",
      "pygments_lexer": "ipython3",
      "version": "3.9.6"
    }
  },
  "nbformat": 4,
  "nbformat_minor": 5
}
