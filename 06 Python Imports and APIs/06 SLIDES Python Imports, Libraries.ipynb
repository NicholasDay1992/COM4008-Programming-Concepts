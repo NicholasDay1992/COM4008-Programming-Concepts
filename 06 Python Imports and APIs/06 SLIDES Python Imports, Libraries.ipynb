{
  "cells": [
    {
      "cell_type": "markdown",
      "id": "1eba3b72",
      "metadata": {
        "id": "1eba3b72"
      },
      "source": [
        "# 06 Python Imports, Libraries and APIs\n"
      ]
    },
    {
      "cell_type": "markdown",
      "id": "104769f3",
      "metadata": {},
      "source": [
        "## Plan for the Lecture:\n",
        "\n",
        "1. Imports and Libraries\n",
        "\n",
        "2. File Handling (I/O)\n",
        "\n",
        "3. APIs"
      ]
    },
    {
      "cell_type": "markdown",
      "id": "8326f023",
      "metadata": {},
      "source": [
        "## 1.0 The `import` keyword"
      ]
    },
    {
      "cell_type": "code",
      "execution_count": 2,
      "id": "d1c61ab5",
      "metadata": {},
      "outputs": [
        {
          "data": {
            "text/plain": [
              "<module 'random' from '/Library/Developer/CommandLineTools/Library/Frameworks/Python3.framework/Versions/3.9/lib/python3.9/random.py'>"
            ]
          },
          "execution_count": 2,
          "metadata": {},
          "output_type": "execute_result"
        }
      ],
      "source": [
        "import random\n",
        "random"
      ]
    },
    {
      "cell_type": "code",
      "execution_count": 4,
      "id": "43ec3b8d",
      "metadata": {},
      "outputs": [
        {
          "data": {
            "text/plain": [
              "<bound method Random.shuffle of <random.Random object at 0x155838e10>>"
            ]
          },
          "execution_count": 4,
          "metadata": {},
          "output_type": "execute_result"
        }
      ],
      "source": [
        "random.shuffle"
      ]
    },
    {
      "cell_type": "code",
      "execution_count": 3,
      "id": "3142bf92",
      "metadata": {},
      "outputs": [
        {
          "data": {
            "text/plain": [
              "['/Users/nick/Documents/GitHub/COM4008-Programming-Concepts/06 Python Imports and APIs',\n",
              " '/Library/Developer/CommandLineTools/Library/Frameworks/Python3.framework/Versions/3.9/lib/python39.zip',\n",
              " '/Library/Developer/CommandLineTools/Library/Frameworks/Python3.framework/Versions/3.9/lib/python3.9',\n",
              " '/Library/Developer/CommandLineTools/Library/Frameworks/Python3.framework/Versions/3.9/lib/python3.9/lib-dynload',\n",
              " '',\n",
              " '/Users/nick/Library/Python/3.9/lib/python/site-packages',\n",
              " '/Library/Developer/CommandLineTools/Library/Frameworks/Python3.framework/Versions/3.9/lib/python3.9/site-packages']"
            ]
          },
          "execution_count": 3,
          "metadata": {},
          "output_type": "execute_result"
        }
      ],
      "source": [
        "import sys\n",
        "sys.path"
      ]
    },
    {
      "cell_type": "markdown",
      "id": "679dd8d0",
      "metadata": {},
      "source": [
        "## The `from` keyword"
      ]
    },
    {
      "cell_type": "code",
      "execution_count": null,
      "id": "ceb9d5f1",
      "metadata": {},
      "outputs": [],
      "source": [
        "from random import choice\n"
      ]
    },
    {
      "cell_type": "markdown",
      "id": "9c1d0984",
      "metadata": {},
      "source": [
        "## Now switch to `main.py`\n",
        "\n",
        "* Open a terminal window in VSC (or other environment)\n",
        "\n",
        "* `cd \"06 Python Imports and APIs`\n",
        "\n",
        "* `python main.py`"
      ]
    },
    {
      "cell_type": "code",
      "execution_count": null,
      "id": "22c69731",
      "metadata": {},
      "outputs": [],
      "source": []
    },
    {
      "cell_type": "markdown",
      "id": "b5b6f79a",
      "metadata": {},
      "source": [
        "## 2.0 File I/O\n",
        "\n",
        "* In Python, the `open()` function is used to manage external files. \n",
        "\n",
        "* The `open()` function takes two parameters; <b>filepath</b>, and <b>mode</b>.\n",
        "\n",
        "\n",
        "\n",
        "* There are four different methods (modes) for opening a file:\n",
        "\n",
        "* `\"r\"` - Read - Default value. Opens a file for reading, error if the file does not exist\n",
        "\n",
        "* `\"a\"` - Append - Opens a file for appending, creates the file if it does not exist\n",
        "\n",
        "* `\"w\"` - Write - Opens a file for writing, creates the file if it does not exist\n",
        "\n",
        "* `\"x\"` - Create - Creates the specified file, returns an error if the file exists"
      ]
    },
    {
      "cell_type": "markdown",
      "id": "ef103ac9",
      "metadata": {},
      "source": [
        "## 2.1 Create and Write to File\n",
        "Create and write a message to a text file"
      ]
    },
    {
      "cell_type": "code",
      "execution_count": 59,
      "id": "1d519000",
      "metadata": {},
      "outputs": [
        {
          "data": {
            "text/plain": [
              "22"
            ]
          },
          "execution_count": 59,
          "metadata": {},
          "output_type": "execute_result"
        }
      ],
      "source": [
        "file_content = open(\"message.txt\", \"w\") # w for write - create the file\n",
        "file_content.write(\"Hello from message.txt\")"
      ]
    },
    {
      "cell_type": "markdown",
      "id": "19e7d3b3",
      "metadata": {},
      "source": [
        "Read from this text file"
      ]
    },
    {
      "cell_type": "code",
      "execution_count": 60,
      "id": "aed2749c",
      "metadata": {},
      "outputs": [
        {
          "name": "stdout",
          "output_type": "stream",
          "text": [
            "Hello from message.txt\n"
          ]
        }
      ],
      "source": [
        "file_content = open(\"message.txt\", \"r\")\n",
        "print(file_content.read())"
      ]
    },
    {
      "cell_type": "code",
      "execution_count": 61,
      "id": "5b451236",
      "metadata": {},
      "outputs": [
        {
          "data": {
            "text/plain": [
              "31"
            ]
          },
          "execution_count": 61,
          "metadata": {},
          "output_type": "execute_result"
        }
      ],
      "source": [
        "file_content = open(\"message.txt\", \"a\") # a for append - add to the file\n",
        "file_content.write(\"\\nAdditional line in message.txt\")"
      ]
    },
    {
      "cell_type": "markdown",
      "id": "962177fd",
      "metadata": {},
      "source": [
        "## 2.2 Read Methods"
      ]
    },
    {
      "cell_type": "code",
      "execution_count": 37,
      "id": "19ac1b4b",
      "metadata": {},
      "outputs": [
        {
          "name": "stdout",
          "output_type": "stream",
          "text": [
            "Hello from message.txt\n",
            "Additional line in message.txt\n"
          ]
        }
      ],
      "source": [
        "file_content = open(\"message.txt\", \"r\")\n",
        "print(file_content.read())"
      ]
    },
    {
      "cell_type": "code",
      "execution_count": 38,
      "id": "dadbe62f",
      "metadata": {},
      "outputs": [
        {
          "name": "stdout",
          "output_type": "stream",
          "text": [
            "Hello from message.txt\n",
            "\n"
          ]
        }
      ],
      "source": [
        "file_content = open(\"message.txt\", \"r\")\n",
        "print(file_content.readline())"
      ]
    },
    {
      "cell_type": "code",
      "execution_count": 39,
      "id": "5e9b946f",
      "metadata": {},
      "outputs": [
        {
          "name": "stdout",
          "output_type": "stream",
          "text": [
            "Hello from message.txt\n",
            "\n",
            "Additional line in message.txt\n"
          ]
        }
      ],
      "source": [
        "file_content = open(\"message.txt\", \"r\")\n",
        "print(file_content.readline())\n",
        "print(file_content.readline())"
      ]
    },
    {
      "cell_type": "code",
      "execution_count": 40,
      "id": "cf2f5f0a",
      "metadata": {},
      "outputs": [
        {
          "name": "stdout",
          "output_type": "stream",
          "text": [
            "Hello from message.txt\n",
            "Additional line in message.txt\n",
            "\n"
          ]
        }
      ],
      "source": [
        "file_content = open(\"message.txt\", \"r\")\n",
        "print(file_content.read())\n",
        "print(file_content.read())"
      ]
    },
    {
      "cell_type": "code",
      "execution_count": 41,
      "id": "7ab14679",
      "metadata": {},
      "outputs": [
        {
          "name": "stdout",
          "output_type": "stream",
          "text": [
            "Hello from message.txt\n",
            "\n",
            "Additional line in message.txt\n"
          ]
        }
      ],
      "source": [
        "file_content = open(\"message.txt\", \"r\")\n",
        "for line in file_content:\n",
        "  print(line)"
      ]
    },
    {
      "cell_type": "code",
      "execution_count": 50,
      "id": "c50e484f",
      "metadata": {},
      "outputs": [
        {
          "data": {
            "text/plain": [
              "_io.TextIOWrapper"
            ]
          },
          "execution_count": 50,
          "metadata": {},
          "output_type": "execute_result"
        }
      ],
      "source": [
        "type(file_content)"
      ]
    },
    {
      "cell_type": "code",
      "execution_count": 51,
      "id": "85b39307",
      "metadata": {},
      "outputs": [],
      "source": [
        "file_str = str(file_content)"
      ]
    },
    {
      "cell_type": "code",
      "execution_count": 53,
      "id": "f4f64cff",
      "metadata": {},
      "outputs": [
        {
          "data": {
            "text/plain": [
              "\"<_io.TextIOWrapper name='message.txt' mode='r' encoding='UTF-8'>\""
            ]
          },
          "execution_count": 53,
          "metadata": {},
          "output_type": "execute_result"
        }
      ],
      "source": [
        "file_str"
      ]
    },
    {
      "cell_type": "code",
      "execution_count": 57,
      "id": "b6f42df2",
      "metadata": {},
      "outputs": [],
      "source": [
        "file_str = file_content.read()"
      ]
    },
    {
      "cell_type": "code",
      "execution_count": 63,
      "id": "9de16b76",
      "metadata": {},
      "outputs": [
        {
          "ename": "UnsupportedOperation",
          "evalue": "not readable",
          "output_type": "error",
          "traceback": [
            "\u001b[0;31m---------------------------------------------------------------------------\u001b[0m",
            "\u001b[0;31mUnsupportedOperation\u001b[0m                      Traceback (most recent call last)",
            "Cell \u001b[0;32mIn [63], line 1\u001b[0m\n\u001b[0;32m----> 1\u001b[0m \u001b[38;5;28mprint\u001b[39m(file_content\u001b[38;5;241m.\u001b[39mread())\n",
            "\u001b[0;31mUnsupportedOperation\u001b[0m: not readable"
          ]
        }
      ],
      "source": [
        "print(file_content.read())"
      ]
    },
    {
      "cell_type": "markdown",
      "id": "9cc5caea",
      "metadata": {},
      "source": [
        "File path of the file represented as a `str`, followed by `r` for read"
      ]
    },
    {
      "cell_type": "markdown",
      "id": "8e823ec0",
      "metadata": {},
      "source": [
        "## 2.3 Adding Exception Handling\n",
        "\n",
        "* Here is where we can guard against `IOErrors` as file management concerns input and output of text."
      ]
    },
    {
      "cell_type": "code",
      "execution_count": 42,
      "id": "7fe61504",
      "metadata": {},
      "outputs": [],
      "source": [
        "def open_file(filename):\n",
        "    if not filename.endswith('.txt'):\n",
        "        raise IOError(\"Only .txt files are supported.\")\n",
        "    with open(filename) as file:\n",
        "        return file.read()"
      ]
    },
    {
      "cell_type": "code",
      "execution_count": 27,
      "id": "3540d07f",
      "metadata": {},
      "outputs": [
        {
          "ename": "OSError",
          "evalue": "Only .txt files are supported.",
          "output_type": "error",
          "traceback": [
            "\u001b[0;31m---------------------------------------------------------------------------\u001b[0m",
            "\u001b[0;31mOSError\u001b[0m                                   Traceback (most recent call last)",
            "Cell \u001b[0;32mIn [27], line 1\u001b[0m\n\u001b[0;32m----> 1\u001b[0m content \u001b[38;5;241m=\u001b[39m open_file(\u001b[38;5;124m\"\u001b[39m\u001b[38;5;124mdata.csv\u001b[39m\u001b[38;5;124m\"\u001b[39m)\n",
            "Cell \u001b[0;32mIn [26], line 3\u001b[0m, in \u001b[0;36mopen_file\u001b[0;34m(filename)\u001b[0m\n\u001b[1;32m      1\u001b[0m \u001b[38;5;28;01mdef\u001b[39;00m \u001b[38;5;21mopen_file\u001b[39m(filename):\n\u001b[1;32m      2\u001b[0m     \u001b[38;5;28;01mif\u001b[39;00m \u001b[38;5;129;01mnot\u001b[39;00m filename\u001b[38;5;241m.\u001b[39mendswith(\u001b[38;5;124m'\u001b[39m\u001b[38;5;124m.txt\u001b[39m\u001b[38;5;124m'\u001b[39m):\n\u001b[0;32m----> 3\u001b[0m         \u001b[38;5;28;01mraise\u001b[39;00m \u001b[38;5;167;01mIOError\u001b[39;00m(\u001b[38;5;124m\"\u001b[39m\u001b[38;5;124mOnly .txt files are supported.\u001b[39m\u001b[38;5;124m\"\u001b[39m)\n\u001b[1;32m      4\u001b[0m     \u001b[38;5;28;01mwith\u001b[39;00m \u001b[38;5;28mopen\u001b[39m(filename) \u001b[38;5;28;01mas\u001b[39;00m file:\n\u001b[1;32m      5\u001b[0m         \u001b[38;5;28;01mreturn\u001b[39;00m file\u001b[38;5;241m.\u001b[39mread()\n",
            "\u001b[0;31mOSError\u001b[0m: Only .txt files are supported."
          ]
        }
      ],
      "source": [
        "file_content = open_file(\"data.csv\")  # Raises IOError: Only .txt files are supported."
      ]
    },
    {
      "cell_type": "code",
      "execution_count": 31,
      "id": "e91d3016",
      "metadata": {},
      "outputs": [],
      "source": [
        "file_content = open_file(\"message.txt\")"
      ]
    },
    {
      "cell_type": "code",
      "execution_count": 32,
      "id": "78a7942c",
      "metadata": {},
      "outputs": [
        {
          "data": {
            "text/plain": [
              "'Hello from message.txt\\nAdditional line in message.txt'"
            ]
          },
          "execution_count": 32,
          "metadata": {},
          "output_type": "execute_result"
        }
      ],
      "source": [
        "file_content"
      ]
    },
    {
      "cell_type": "markdown",
      "id": "bf18580b",
      "metadata": {},
      "source": [
        "## APIs - Application Programming Interface\n",
        "\n",
        "* APIs are interfaces to an existing system/application\n",
        "\n",
        "* When you touch your smartphone, you're tapping the interface (the screen) to communicate with the OS.\n",
        "\n",
        "* Someone has already coded applications out there like Google Maps, PayPal, iTunes, TFL etc\n",
        "\n",
        "* Therefore, you don't need to code this from scratch - you can communicate with their service/system via the API. "
      ]
    },
    {
      "cell_type": "markdown",
      "id": "b00f38de",
      "metadata": {},
      "source": [
        "## 3.1 JSON\n",
        "\n",
        "* JavaScript Object Notation (JSON) is near universal form that REST APIs use today to communicate data. \n",
        "\n",
        "* We can import this format into Python. \n",
        "\n",
        "* As you'll see, JSON utilises a similar key and value pair to the `dict` Python structure/type."
      ]
    },
    {
      "cell_type": "code",
      "execution_count": null,
      "id": "8bb4c16c",
      "metadata": {},
      "outputs": [],
      "source": [
        "import json"
      ]
    },
    {
      "cell_type": "code",
      "execution_count": 43,
      "id": "1cea71d4",
      "metadata": {},
      "outputs": [
        {
          "name": "stdout",
          "output_type": "stream",
          "text": [
            "30\n"
          ]
        }
      ],
      "source": [
        "\n",
        "# some JSON:\n",
        "x =  '{ \"name\":\"John\", \"age\":30, \"city\":\"New York\"}'\n",
        "\n",
        "# parse x:\n",
        "y = json.loads(x)\n",
        "\n",
        "# the result is a Python dictionary:\n",
        "print(y[\"age\"])"
      ]
    },
    {
      "cell_type": "code",
      "execution_count": 44,
      "id": "19a693e0",
      "metadata": {},
      "outputs": [
        {
          "name": "stdout",
          "output_type": "stream",
          "text": [
            "{\"name\": \"John\", \"age\": 30, \"city\": \"New York\"}\n"
          ]
        }
      ],
      "source": [
        "import json\n",
        "\n",
        "# a Python object (dict):\n",
        "x = {\n",
        "  \"name\": \"John\",\n",
        "  \"age\": 30,\n",
        "  \"city\": \"New York\"\n",
        "}\n",
        "\n",
        "# convert into JSON:\n",
        "y = json.dumps(x)\n",
        "\n",
        "# the result is a JSON string:\n",
        "print(y)"
      ]
    },
    {
      "cell_type": "code",
      "execution_count": 45,
      "id": "02186998",
      "metadata": {},
      "outputs": [
        {
          "name": "stdout",
          "output_type": "stream",
          "text": [
            "{\"name\": \"John\", \"age\": 30}\n",
            "[\"apple\", \"bananas\"]\n",
            "[\"apple\", \"bananas\"]\n",
            "\"hello\"\n",
            "42\n",
            "31.76\n",
            "true\n",
            "false\n",
            "null\n"
          ]
        }
      ],
      "source": [
        "print(json.dumps({\"name\": \"John\", \"age\": 30}))\n",
        "print(json.dumps([\"apple\", \"bananas\"]))\n",
        "print(json.dumps((\"apple\", \"bananas\")))\n",
        "print(json.dumps(\"hello\"))\n",
        "print(json.dumps(42))\n",
        "print(json.dumps(31.76))\n",
        "print(json.dumps(True))\n",
        "print(json.dumps(False))\n",
        "print(json.dumps(None))"
      ]
    },
    {
      "cell_type": "code",
      "execution_count": 46,
      "id": "fc643fdd",
      "metadata": {},
      "outputs": [
        {
          "name": "stdout",
          "output_type": "stream",
          "text": [
            "{\"name\": \"John\", \"age\": 30, \"married\": true, \"divorced\": false, \"children\": [\"Ann\", \"Billy\"], \"pets\": null, \"cars\": [{\"model\": \"BMW 230\", \"mpg\": 27.5}, {\"model\": \"Ford Edge\", \"mpg\": 24.1}]}\n"
          ]
        }
      ],
      "source": [
        "x = {\n",
        "  \"name\": \"John\",\n",
        "  \"age\": 30,\n",
        "  \"married\": True,\n",
        "  \"divorced\": False,\n",
        "  \"children\": (\"Ann\",\"Billy\"),\n",
        "  \"pets\": None,\n",
        "  \"cars\": [\n",
        "    {\"model\": \"BMW 230\", \"mpg\": 27.5},\n",
        "    {\"model\": \"Ford Edge\", \"mpg\": 24.1}\n",
        "  ]\n",
        "}\n",
        "\n",
        "print(json.dumps(x))"
      ]
    },
    {
      "cell_type": "code",
      "execution_count": 47,
      "id": "a978eb73",
      "metadata": {},
      "outputs": [
        {
          "data": {
            "text/plain": [
              "'{\\n    \"name\": \"John\",\\n    \"age\": 30,\\n    \"married\": true,\\n    \"divorced\": false,\\n    \"children\": [\\n        \"Ann\",\\n        \"Billy\"\\n    ],\\n    \"pets\": null,\\n    \"cars\": [\\n        {\\n            \"model\": \"BMW 230\",\\n            \"mpg\": 27.5\\n        },\\n        {\\n            \"model\": \"Ford Edge\",\\n            \"mpg\": 24.1\\n        }\\n    ]\\n}'"
            ]
          },
          "execution_count": 47,
          "metadata": {},
          "output_type": "execute_result"
        }
      ],
      "source": [
        "json.dumps(x, indent=4)"
      ]
    },
    {
      "cell_type": "code",
      "execution_count": 48,
      "id": "3c44609f",
      "metadata": {},
      "outputs": [
        {
          "data": {
            "text/plain": [
              "'{\\n    \"name\" = \"John\". \\n    \"age\" = 30. \\n    \"married\" = true. \\n    \"divorced\" = false. \\n    \"children\" = [\\n        \"Ann\". \\n        \"Billy\"\\n    ]. \\n    \"pets\" = null. \\n    \"cars\" = [\\n        {\\n            \"model\" = \"BMW 230\". \\n            \"mpg\" = 27.5\\n        }. \\n        {\\n            \"model\" = \"Ford Edge\". \\n            \"mpg\" = 24.1\\n        }\\n    ]\\n}'"
            ]
          },
          "execution_count": 48,
          "metadata": {},
          "output_type": "execute_result"
        }
      ],
      "source": [
        "json.dumps(x, indent=4, separators=(\". \", \" = \"))"
      ]
    },
    {
      "cell_type": "code",
      "execution_count": 49,
      "id": "6f2b5c38",
      "metadata": {},
      "outputs": [
        {
          "data": {
            "text/plain": [
              "'{\\n    \"age\": 30,\\n    \"cars\": [\\n        {\\n            \"model\": \"BMW 230\",\\n            \"mpg\": 27.5\\n        },\\n        {\\n            \"model\": \"Ford Edge\",\\n            \"mpg\": 24.1\\n        }\\n    ],\\n    \"children\": [\\n        \"Ann\",\\n        \"Billy\"\\n    ],\\n    \"divorced\": false,\\n    \"married\": true,\\n    \"name\": \"John\",\\n    \"pets\": null\\n}'"
            ]
          },
          "execution_count": 49,
          "metadata": {},
          "output_type": "execute_result"
        }
      ],
      "source": [
        "json.dumps(x, indent=4, sort_keys=True)"
      ]
    },
    {
      "cell_type": "markdown",
      "id": "cfb01905",
      "metadata": {},
      "source": [
        "## ZeroDivisionError"
      ]
    },
    {
      "cell_type": "code",
      "execution_count": 11,
      "id": "2134a60f",
      "metadata": {},
      "outputs": [
        {
          "name": "stdout",
          "output_type": "stream",
          "text": [
            "You cannot divide by zero!\n"
          ]
        }
      ],
      "source": [
        "try:\n",
        "    # Code that might raise an exception\n",
        "    division = 10 / 0\n",
        "    \n",
        "except ZeroDivisionError:\n",
        "    # Code to handle the exception\n",
        "    print(\"You cannot divide by zero!\")"
      ]
    },
    {
      "cell_type": "markdown",
      "id": "f1a646d0",
      "metadata": {},
      "source": [
        "## ValueError - for type casting issues"
      ]
    },
    {
      "cell_type": "code",
      "execution_count": 15,
      "id": "e5be8018",
      "metadata": {},
      "outputs": [
        {
          "name": "stdout",
          "output_type": "stream",
          "text": [
            "An error occurred!\n"
          ]
        }
      ],
      "source": [
        "try:\n",
        "    risky_code = int(\"abc\")  # This will raise a ValueError\n",
        "    print(risky_code)\n",
        "except (ZeroDivisionError, ValueError):\n",
        "    print(\"An error occurred!\")"
      ]
    },
    {
      "cell_type": "code",
      "execution_count": 16,
      "id": "750543cd",
      "metadata": {},
      "outputs": [
        {
          "name": "stdout",
          "output_type": "stream",
          "text": [
            "1\n"
          ]
        }
      ],
      "source": [
        "try:\n",
        "    risky_code = int(True)  # This will raise a ValueError\n",
        "    print(risky_code)\n",
        "except (ZeroDivisionError, ValueError):\n",
        "    print(\"An error occurred!\")"
      ]
    },
    {
      "cell_type": "code",
      "execution_count": 17,
      "id": "001f1aa8",
      "metadata": {},
      "outputs": [
        {
          "name": "stdout",
          "output_type": "stream",
          "text": [
            "True\n"
          ]
        }
      ],
      "source": [
        "try:\n",
        "    risky_code = bool(\"Nick\")  # This will raise a ValueError\n",
        "    print(risky_code)\n",
        "except (ZeroDivisionError, ValueError):\n",
        "    print(\"An error occurred!\")"
      ]
    },
    {
      "cell_type": "markdown",
      "id": "e883bbf3",
      "metadata": {},
      "source": [
        "## Input Exceptions\n",
        "\n",
        "* Using dynamic typing means that we're not bound to types... \n",
        "\n",
        "* The `input()` function returns an `str` therefore numbers, characters and key presses can be stored in an `str`\n",
        "\n",
        "* With typed variables, this would be a problem... \n",
        "\n",
        "* However, be careful if casting the returned `str` from an input function to an `int` or `float`"
      ]
    },
    {
      "cell_type": "code",
      "execution_count": 18,
      "id": "d862c5a7",
      "metadata": {},
      "outputs": [
        {
          "name": "stdout",
          "output_type": "stream",
          "text": [
            "nick\n"
          ]
        }
      ],
      "source": [
        "try: \n",
        "    num = input(\"Please enter a number\")\n",
        "    print(num)\n",
        "except:\n",
        "    print(\"An error occurred!\")"
      ]
    },
    {
      "cell_type": "code",
      "execution_count": 19,
      "id": "2d9a237b",
      "metadata": {},
      "outputs": [
        {
          "name": "stdout",
          "output_type": "stream",
          "text": [
            "An error occurred!\n"
          ]
        }
      ],
      "source": [
        "try: \n",
        "    num = int(input(\"Please enter a number\"))\n",
        "    print(num)\n",
        "except:\n",
        "    print(\"An error occurred!\")"
      ]
    },
    {
      "cell_type": "markdown",
      "id": "960a94dc",
      "metadata": {},
      "source": [
        "## List and Key Exceptions"
      ]
    },
    {
      "cell_type": "code",
      "execution_count": 54,
      "id": "e314990c",
      "metadata": {},
      "outputs": [
        {
          "ename": "IndexError",
          "evalue": "string index out of range",
          "output_type": "error",
          "traceback": [
            "\u001b[0;31m---------------------------------------------------------------------------\u001b[0m",
            "\u001b[0;31mIndexError\u001b[0m                                Traceback (most recent call last)",
            "Cell \u001b[0;32mIn [54], line 2\u001b[0m\n\u001b[1;32m      1\u001b[0m name \u001b[38;5;241m=\u001b[39m \u001b[38;5;124m\"\u001b[39m\u001b[38;5;124mNick\u001b[39m\u001b[38;5;124m\"\u001b[39m\n\u001b[0;32m----> 2\u001b[0m name[\u001b[38;5;241m4\u001b[39m]\n",
            "\u001b[0;31mIndexError\u001b[0m: string index out of range"
          ]
        }
      ],
      "source": [
        "name = \"Nick\"\n",
        "name[4]"
      ]
    },
    {
      "cell_type": "code",
      "execution_count": 57,
      "id": "12da529f",
      "metadata": {},
      "outputs": [
        {
          "data": {
            "text/plain": [
              "[IndexError, KeyError, encodings.CodecRegistryError]"
            ]
          },
          "execution_count": 57,
          "metadata": {},
          "output_type": "execute_result"
        }
      ],
      "source": [
        "list(LookupError.__subclasses__())"
      ]
    },
    {
      "cell_type": "code",
      "execution_count": 55,
      "id": "65738068",
      "metadata": {},
      "outputs": [
        {
          "name": "stdout",
          "output_type": "stream",
          "text": [
            "Issue with the index\n"
          ]
        }
      ],
      "source": [
        "try: \n",
        "    name = \"Nick\"\n",
        "    name[4]\n",
        "except(IndexError):\n",
        "    print(\"Issue with the index\")"
      ]
    },
    {
      "cell_type": "code",
      "execution_count": 58,
      "id": "2531aab0",
      "metadata": {},
      "outputs": [
        {
          "ename": "KeyError",
          "evalue": "'Sam'",
          "output_type": "error",
          "traceback": [
            "\u001b[0;31m---------------------------------------------------------------------------\u001b[0m",
            "\u001b[0;31mKeyError\u001b[0m                                  Traceback (most recent call last)",
            "Cell \u001b[0;32mIn [58], line 2\u001b[0m\n\u001b[1;32m      1\u001b[0m d \u001b[38;5;241m=\u001b[39m { \u001b[38;5;124m\"\u001b[39m\u001b[38;5;124mNick\u001b[39m\u001b[38;5;124m\"\u001b[39m : \u001b[38;5;241m12345\u001b[39m}\n\u001b[0;32m----> 2\u001b[0m d[\u001b[38;5;124m\"\u001b[39m\u001b[38;5;124mSam\u001b[39m\u001b[38;5;124m\"\u001b[39m]\n",
            "\u001b[0;31mKeyError\u001b[0m: 'Sam'"
          ]
        }
      ],
      "source": [
        "d = { \"Nick\" : 12345}\n",
        "d[\"Sam\"]"
      ]
    },
    {
      "cell_type": "code",
      "execution_count": 59,
      "id": "b5707513",
      "metadata": {},
      "outputs": [
        {
          "name": "stdout",
          "output_type": "stream",
          "text": [
            "Key could not be found\n"
          ]
        }
      ],
      "source": [
        "try: \n",
        "    d = { \"Nick\" : 12345}\n",
        "    d[\"Sam\"]\n",
        "except(KeyError):\n",
        "    print(\"Key could not be found\")"
      ]
    },
    {
      "cell_type": "markdown",
      "id": "52f7efbb",
      "metadata": {},
      "source": [
        "## The `else` statement in `try` / `except` blocks"
      ]
    },
    {
      "cell_type": "code",
      "execution_count": 104,
      "id": "5930b01e",
      "metadata": {},
      "outputs": [
        {
          "name": "stdout",
          "output_type": "stream",
          "text": [
            "An error occurred!\n"
          ]
        }
      ],
      "source": [
        "try: \n",
        "    num = int(input(\"Please enter a number\"))\n",
        "    print(num)\n",
        "except Exception as e:\n",
        "    print(\"An error occurred!\")"
      ]
    },
    {
      "cell_type": "code",
      "execution_count": 105,
      "id": "1bc885e1",
      "metadata": {},
      "outputs": [
        {
          "name": "stdout",
          "output_type": "stream",
          "text": [
            "50\n"
          ]
        }
      ],
      "source": [
        "try: \n",
        "    num = int(input(\"Please enter a number\"))\n",
        "    #print(num)\n",
        "except:\n",
        "    print(\"An error occurred!\")\n",
        "else: \n",
        "    print(num)"
      ]
    },
    {
      "cell_type": "markdown",
      "id": "5bf365af",
      "metadata": {},
      "source": [
        "The below would work in a Jupyter notebooks environment, because variables are cached. But in a .py file, num may only be visible to the try block, and not outside of this. "
      ]
    },
    {
      "cell_type": "code",
      "execution_count": 106,
      "id": "c3a8b2b4",
      "metadata": {},
      "outputs": [
        {
          "name": "stdout",
          "output_type": "stream",
          "text": [
            "50\n"
          ]
        }
      ],
      "source": [
        "try: \n",
        "    num = int(input(\"Please enter a number\"))\n",
        "    #print(num)\n",
        "except:\n",
        "    print(\"An error occurred!\")\n",
        "\n",
        "print(num)"
      ]
    },
    {
      "cell_type": "markdown",
      "id": "16e3c64e",
      "metadata": {},
      "source": [
        "## The `break` keyword\n",
        "\n",
        "* In the context of loops, you may wish to `break` out of loops once a condition is met.\n",
        "\n",
        "* This is effective for 'reprompting' - we need to give our users a few chances to get it right! "
      ]
    },
    {
      "cell_type": "code",
      "execution_count": 20,
      "id": "c58c5e9a",
      "metadata": {},
      "outputs": [],
      "source": [
        "while True: \n",
        "    try: \n",
        "        num = int(input(\"Please enter a number\"))\n",
        "        break\n",
        "    except Exception as e:\n",
        "        print(e.args)\n",
        "    else: \n",
        "        print(num)"
      ]
    },
    {
      "cell_type": "markdown",
      "id": "5341c98d",
      "metadata": {},
      "source": [
        "Whilst this effective for exiting the loop, we don't get to our `else` block, which prints the value...  \n",
        "  We could move the `break` statement:"
      ]
    },
    {
      "cell_type": "code",
      "execution_count": 21,
      "id": "ca5e4023",
      "metadata": {},
      "outputs": [
        {
          "name": "stdout",
          "output_type": "stream",
          "text": [
            "50\n"
          ]
        }
      ],
      "source": [
        "while True: \n",
        "    try: \n",
        "        num = int(input(\"Please enter a number\"))\n",
        "    except Exception as e:\n",
        "        print(e.args)\n",
        "        #pass\n",
        "    else: \n",
        "        print(num)\n",
        "        break"
      ]
    },
    {
      "cell_type": "markdown",
      "id": "7da58848",
      "metadata": {},
      "source": [
        "## Could formulate into a function\n",
        "\n",
        "* This function can be reused: getting integers likely to happen multiple times in multiple programs. \n",
        "\n",
        "* The `return` keyword `breaks` out of the function, whereas `break` is just for a loop.\n",
        "\n",
        "* The keyword `pass` could help if we don't want to print all the bad exception messages to our user. \n",
        "\n",
        "* Think about how you might get the messaging right with your context - you may need to provide some help... but maybe a message reaffirming the data sought, rather than all the exception messaging which is intended for developers - not users!"
      ]
    },
    {
      "cell_type": "code",
      "execution_count": 26,
      "id": "8c5e509a",
      "metadata": {},
      "outputs": [],
      "source": [
        "def get_int():\n",
        "    while True:\n",
        "        try:\n",
        "            return int(input(\"Please enter a number\"))\n",
        "        except Exception as e:\n",
        "            pass # may not want to print the exceptions\n",
        "            #print(e.args)"
      ]
    },
    {
      "cell_type": "code",
      "execution_count": 27,
      "id": "0ec4dc13",
      "metadata": {},
      "outputs": [
        {
          "name": "stdout",
          "output_type": "stream",
          "text": [
            "124\n"
          ]
        }
      ],
      "source": [
        "print(get_int())"
      ]
    },
    {
      "cell_type": "markdown",
      "id": "532d5bdd",
      "metadata": {},
      "source": [
        "## Exception object `e` methods\n",
        "\n",
        "* objects of an Exception/Error class can give users useful information "
      ]
    },
    {
      "cell_type": "code",
      "execution_count": 85,
      "id": "4f73f677",
      "metadata": {},
      "outputs": [
        {
          "name": "stdout",
          "output_type": "stream",
          "text": [
            "An error occurred: division by zero\n"
          ]
        }
      ],
      "source": [
        "try:\n",
        "    division = 10 / 0\n",
        "    \n",
        "except Exception as e:\n",
        "    print(f\"An error occurred: {e}\")"
      ]
    },
    {
      "cell_type": "code",
      "execution_count": 88,
      "id": "f77a446a",
      "metadata": {},
      "outputs": [
        {
          "name": "stdout",
          "output_type": "stream",
          "text": [
            "An error occurred: division by zero\n",
            "arguments ('division by zero',)\n",
            "representation ZeroDivisionError('division by zero')\n",
            "context: None\n"
          ]
        }
      ],
      "source": [
        "try:\n",
        "    #num = int(input(\"Enter a number\"))\n",
        "    division = 10 / 0\n",
        "except Exception as e:\n",
        "    print(f\"An error occurred: {e}\")\n",
        "    print(\"arguments\",e.args)\n",
        "    print(\"representation\", repr(e))\n",
        "    print(\"context:\", e.__context__)"
      ]
    },
    {
      "cell_type": "code",
      "execution_count": 89,
      "id": "28f72ff0",
      "metadata": {},
      "outputs": [
        {
          "name": "stdout",
          "output_type": "stream",
          "text": [
            "Exception args: ('Encountered a value error during division',)\n",
            "String representation: Encountered a value error during division\n",
            "Official representation: ValueError('Encountered a value error during division')\n",
            "Cause: division by zero\n",
            "Context: division by zero\n",
            "Traceback:\n"
          ]
        },
        {
          "name": "stderr",
          "output_type": "stream",
          "text": [
            "  File \"/var/folders/ry/3hkntqmd6lx9rvtg9q4zp4vr0000gn/T/ipykernel_58007/1879128491.py\", line 6, in <module>\n",
            "    raise ValueError(\"Encountered a value error during division\") from e1\n"
          ]
        }
      ],
      "source": [
        "import traceback\n",
        "# Nested try and catch block for context\n",
        "try:\n",
        "    try:\n",
        "        result = 1 / 0\n",
        "    except ZeroDivisionError as e1:\n",
        "        raise ValueError(\"Encountered a value error during division\") from e1\n",
        "except Exception as e:\n",
        "    print(f\"Exception args: {e.args}\")\n",
        "    print(f\"String representation: {str(e)}\")\n",
        "    print(f\"Official representation: {repr(e)}\")\n",
        "    print(f\"Cause: {e.__cause__}\")\n",
        "    print(f\"Context: {e.__context__}\")\n",
        "    print(\"Traceback:\")\n",
        "    traceback.print_tb(e.__traceback__)"
      ]
    },
    {
      "cell_type": "code",
      "execution_count": 71,
      "id": "d086ed14",
      "metadata": {},
      "outputs": [
        {
          "data": {
            "text/plain": [
              "['__cause__',\n",
              " '__class__',\n",
              " '__context__',\n",
              " '__delattr__',\n",
              " '__dict__',\n",
              " '__dir__',\n",
              " '__doc__',\n",
              " '__eq__',\n",
              " '__format__',\n",
              " '__ge__',\n",
              " '__getattribute__',\n",
              " '__gt__',\n",
              " '__hash__',\n",
              " '__init__',\n",
              " '__init_subclass__',\n",
              " '__le__',\n",
              " '__lt__',\n",
              " '__ne__',\n",
              " '__new__',\n",
              " '__reduce__',\n",
              " '__reduce_ex__',\n",
              " '__repr__',\n",
              " '__setattr__',\n",
              " '__setstate__',\n",
              " '__sizeof__',\n",
              " '__str__',\n",
              " '__subclasshook__',\n",
              " '__suppress_context__',\n",
              " '__traceback__',\n",
              " 'args',\n",
              " 'with_traceback']"
            ]
          },
          "execution_count": 71,
          "metadata": {},
          "output_type": "execute_result"
        }
      ],
      "source": [
        "dir(Exception)"
      ]
    },
    {
      "cell_type": "markdown",
      "id": "f870ec47",
      "metadata": {},
      "source": [
        "## The need to `Raise` (Throw) an Exception\n",
        "\n",
        "* To organise code more efficiently, one can write a manually `raise` an `Exception` in a function.\n",
        "\n",
        "* Defensive programming is proactive in anticipating exceptions and write them into functions.\n",
        "\n",
        "* Other languages use the keyword `throw`, but Python uses `raise`.\n",
        "\n"
      ]
    },
    {
      "cell_type": "code",
      "execution_count": 90,
      "id": "75078231",
      "metadata": {},
      "outputs": [],
      "source": [
        "def divide(a, b):\n",
        "    if b == 0:\n",
        "        raise ValueError(\"Cannot divide by zero.\")\n",
        "    return a / b"
      ]
    },
    {
      "cell_type": "code",
      "execution_count": 96,
      "id": "4994e94b",
      "metadata": {},
      "outputs": [
        {
          "ename": "ValueError",
          "evalue": "Cannot divide by zero.",
          "output_type": "error",
          "traceback": [
            "\u001b[0;31m---------------------------------------------------------------------------\u001b[0m",
            "\u001b[0;31mValueError\u001b[0m                                Traceback (most recent call last)",
            "Cell \u001b[0;32mIn [96], line 1\u001b[0m\n\u001b[0;32m----> 1\u001b[0m divide(\u001b[38;5;241m10\u001b[39m, \u001b[38;5;241m0\u001b[39m)\n",
            "Cell \u001b[0;32mIn [90], line 3\u001b[0m, in \u001b[0;36mdivide\u001b[0;34m(a, b)\u001b[0m\n\u001b[1;32m      1\u001b[0m \u001b[38;5;28;01mdef\u001b[39;00m \u001b[38;5;21mdivide\u001b[39m(a, b):\n\u001b[1;32m      2\u001b[0m     \u001b[38;5;28;01mif\u001b[39;00m b \u001b[38;5;241m==\u001b[39m \u001b[38;5;241m0\u001b[39m:\n\u001b[0;32m----> 3\u001b[0m         \u001b[38;5;28;01mraise\u001b[39;00m \u001b[38;5;167;01mValueError\u001b[39;00m(\u001b[38;5;124m\"\u001b[39m\u001b[38;5;124mCannot divide by zero.\u001b[39m\u001b[38;5;124m\"\u001b[39m)\n\u001b[1;32m      4\u001b[0m     \u001b[38;5;28;01mreturn\u001b[39;00m a \u001b[38;5;241m/\u001b[39m b\n",
            "\u001b[0;31mValueError\u001b[0m: Cannot divide by zero."
          ]
        }
      ],
      "source": [
        "divide(10, 0)  "
      ]
    },
    {
      "cell_type": "markdown",
      "id": "5c90a784",
      "metadata": {},
      "source": [
        "Notice below, we can surround the function call with `try` / `except` blocks, rather than the full workings of the function. "
      ]
    },
    {
      "cell_type": "code",
      "execution_count": 97,
      "id": "7e91e323",
      "metadata": {},
      "outputs": [
        {
          "name": "stdout",
          "output_type": "stream",
          "text": [
            "Exception args: ('Cannot divide by zero.',)\n",
            "Official representation: ValueError('Cannot divide by zero.')\n"
          ]
        }
      ],
      "source": [
        "try: \n",
        "    divide(10, 0)  \n",
        "except Exception as e: \n",
        "    print(f\"Exception args: {e.args}\")\n",
        "    print(f\"Official representation: {repr(e)}\")"
      ]
    },
    {
      "cell_type": "markdown",
      "id": "cc9eac08",
      "metadata": {},
      "source": [
        "Furthermore, you may want to enforce certain logical rules as `Exceptions`, even if they syntactically check out."
      ]
    },
    {
      "cell_type": "code",
      "execution_count": 98,
      "id": "5c5dc727",
      "metadata": {},
      "outputs": [],
      "source": [
        "def withdraw(amount, balance):\n",
        "    if amount > balance:\n",
        "        raise ValueError(\"Insufficient funds.\")\n",
        "    balance -= amount\n",
        "    return balance"
      ]
    },
    {
      "cell_type": "code",
      "execution_count": 99,
      "id": "b60efb6b",
      "metadata": {},
      "outputs": [
        {
          "ename": "ValueError",
          "evalue": "Insufficient funds.",
          "output_type": "error",
          "traceback": [
            "\u001b[0;31m---------------------------------------------------------------------------\u001b[0m",
            "\u001b[0;31mValueError\u001b[0m                                Traceback (most recent call last)",
            "Cell \u001b[0;32mIn [99], line 1\u001b[0m\n\u001b[0;32m----> 1\u001b[0m withdraw(\u001b[38;5;241m100\u001b[39m, \u001b[38;5;241m50\u001b[39m)\n",
            "Cell \u001b[0;32mIn [98], line 3\u001b[0m, in \u001b[0;36mwithdraw\u001b[0;34m(amount, balance)\u001b[0m\n\u001b[1;32m      1\u001b[0m \u001b[38;5;28;01mdef\u001b[39;00m \u001b[38;5;21mwithdraw\u001b[39m(amount, balance):\n\u001b[1;32m      2\u001b[0m     \u001b[38;5;28;01mif\u001b[39;00m amount \u001b[38;5;241m>\u001b[39m balance:\n\u001b[0;32m----> 3\u001b[0m         \u001b[38;5;28;01mraise\u001b[39;00m \u001b[38;5;167;01mValueError\u001b[39;00m(\u001b[38;5;124m\"\u001b[39m\u001b[38;5;124mInsufficient funds.\u001b[39m\u001b[38;5;124m\"\u001b[39m)\n\u001b[1;32m      4\u001b[0m     balance \u001b[38;5;241m-\u001b[39m\u001b[38;5;241m=\u001b[39m amount\n\u001b[1;32m      5\u001b[0m     \u001b[38;5;28;01mreturn\u001b[39;00m balance\n",
            "\u001b[0;31mValueError\u001b[0m: Insufficient funds."
          ]
        }
      ],
      "source": [
        "withdraw(100, 50)  "
      ]
    },
    {
      "cell_type": "markdown",
      "id": "b82351d5",
      "metadata": {},
      "source": [
        "Whilst our Python variable can handle a negative value, there may critical situations where negative values would cause significant damage to a system. "
      ]
    },
    {
      "cell_type": "markdown",
      "id": "eefe5aa8",
      "metadata": {},
      "source": [
        "## 3.0 Writing our own custom Exception classes\n",
        "\n",
        "* Whilst there are many (nearly 70) named `Exception` classes in Python, you may want to define your own Exception classes that are unique to your program. \n",
        "\n",
        "* Our custom Exception classes will need to inherit from the class `Exception`"
      ]
    },
    {
      "cell_type": "code",
      "execution_count": 28,
      "id": "30474739",
      "metadata": {},
      "outputs": [],
      "source": [
        "class NegativeNumberError(Exception):\n",
        "    pass"
      ]
    },
    {
      "cell_type": "code",
      "execution_count": 29,
      "id": "bd5e4bdf",
      "metadata": {},
      "outputs": [],
      "source": [
        "def square_root(x):\n",
        "    if x < 0:\n",
        "        raise NegativeNumberError(\"Cannot take square root of a negative number.\")\n",
        "    return x ** 0.5"
      ]
    },
    {
      "cell_type": "code",
      "execution_count": 31,
      "id": "b7f3ab0b",
      "metadata": {},
      "outputs": [
        {
          "ename": "NegativeNumberError",
          "evalue": "Cannot take square root of a negative number.",
          "output_type": "error",
          "traceback": [
            "\u001b[0;31m---------------------------------------------------------------------------\u001b[0m",
            "\u001b[0;31mNegativeNumberError\u001b[0m                       Traceback (most recent call last)",
            "Cell \u001b[0;32mIn [31], line 1\u001b[0m\n\u001b[0;32m----> 1\u001b[0m square_root(\u001b[38;5;241m-\u001b[39m\u001b[38;5;241m4\u001b[39m)\n",
            "Cell \u001b[0;32mIn [29], line 3\u001b[0m, in \u001b[0;36msquare_root\u001b[0;34m(x)\u001b[0m\n\u001b[1;32m      1\u001b[0m \u001b[38;5;28;01mdef\u001b[39;00m \u001b[38;5;21msquare_root\u001b[39m(x):\n\u001b[1;32m      2\u001b[0m     \u001b[38;5;28;01mif\u001b[39;00m x \u001b[38;5;241m<\u001b[39m \u001b[38;5;241m0\u001b[39m:\n\u001b[0;32m----> 3\u001b[0m         \u001b[38;5;28;01mraise\u001b[39;00m NegativeNumberError(\u001b[38;5;124m\"\u001b[39m\u001b[38;5;124mCannot take square root of a negative number.\u001b[39m\u001b[38;5;124m\"\u001b[39m)\n\u001b[1;32m      4\u001b[0m     \u001b[38;5;28;01mreturn\u001b[39;00m x \u001b[38;5;241m*\u001b[39m\u001b[38;5;241m*\u001b[39m \u001b[38;5;241m0.5\u001b[39m\n",
            "\u001b[0;31mNegativeNumberError\u001b[0m: Cannot take square root of a negative number."
          ]
        }
      ],
      "source": [
        "square_root(-4) "
      ]
    },
    {
      "cell_type": "markdown",
      "id": "b4b01a2b",
      "metadata": {},
      "source": [
        "## 4.0 Assertions in Python \n",
        "\n",
        "* Assertions can be used to check parameters of methods, or values of variables. \n",
        "\n",
        "* Assertions typically feature in Unit Testing. We'll look at the module `pytest` in due course!\n",
        "\n",
        "* In C and C++ assertions would be checked at compile-time (before the run-time exception handling). Java disables this behaviour by default, however, this can be enabled. Furthermore, in Java, an `Assertion` would be treated as an `Error`, whereas `ZeroDivision` would be an `Exception`.\n",
        "\n",
        "* In Python, `AssertionError` inherits from `Exception`. \n",
        "\n",
        "* Debugging: Assertions are commonly used to catch bugs by making assumptions about the code’s behavior explicit.\n",
        "\n",
        "* Checking Invariants: You can use assertions to ensure that certain conditions hold true at specific points in your code.\n",
        "\n",
        "* Testing Conditions: They can be used to validate inputs, outputs, and internal states during development."
      ]
    },
    {
      "cell_type": "code",
      "execution_count": 45,
      "id": "716c53b0",
      "metadata": {},
      "outputs": [
        {
          "ename": "AssertionError",
          "evalue": "",
          "output_type": "error",
          "traceback": [
            "\u001b[0;31m---------------------------------------------------------------------------\u001b[0m",
            "\u001b[0;31mAssertionError\u001b[0m                            Traceback (most recent call last)",
            "Cell \u001b[0;32mIn [45], line 2\u001b[0m\n\u001b[1;32m      1\u001b[0m x \u001b[38;5;241m=\u001b[39m \u001b[38;5;241m5\u001b[39m\n\u001b[0;32m----> 2\u001b[0m \u001b[38;5;28;01massert\u001b[39;00m x \u001b[38;5;241m>\u001b[39m \u001b[38;5;241m10\u001b[39m\n",
            "\u001b[0;31mAssertionError\u001b[0m: "
          ]
        }
      ],
      "source": [
        "x = 5\n",
        "assert x > 10 "
      ]
    },
    {
      "cell_type": "markdown",
      "id": "ddc966c1",
      "metadata": {},
      "source": [
        "What do you notice above - an `AssertionError`"
      ]
    },
    {
      "cell_type": "code",
      "execution_count": 47,
      "id": "6610e02f",
      "metadata": {},
      "outputs": [],
      "source": [
        "x = 10\n",
        "assert x > 5  # This will pass since the condition is True"
      ]
    },
    {
      "cell_type": "markdown",
      "id": "2bc31fd1",
      "metadata": {},
      "source": [
        "Assertions can be globally disabled in Python by running the interpreter with the -O (optimize) flag:\n",
        "\n",
        "` python -O your_script.py `"
      ]
    },
    {
      "cell_type": "markdown",
      "id": "f277e2a0",
      "metadata": {},
      "source": []
    },
    {
      "cell_type": "markdown",
      "id": "dd38cc99",
      "metadata": {
        "id": "dd38cc99"
      },
      "source": [
        "#### This Jupyter Notebook contains exercises for you to extend your introduction to OOP, by creating lists, tuples, sets, dictionaries of objects. Attempt the following exercises, which slowly build in complexity. If you get stuck, check back to the <a href = \"https://youtu.be/MDZX59Lrc_g?si=MW3m7FYgfVYoYqum\"> Python lecture recording on Data Structures here</a> or look through the <a href = \"https://www.python.org\">Python documentation here</a>."
      ]
    },
    {
      "cell_type": "markdown",
      "id": "6e5075e1",
      "metadata": {
        "id": "6e5075e1"
      },
      "source": [
        "### Exercise 1:\n",
        "Create a Python list that stores the numbers 1-10 in indivdual elements. Then print out the contents of the list to check the values have been stored correctly.\n",
        "\n",
        "Extension: make use of an appropriate list method to reverse the order of this list."
      ]
    },
    {
      "cell_type": "code",
      "execution_count": 38,
      "id": "1c93996b",
      "metadata": {
        "id": "1c93996b",
        "outputId": "fc2acb5f-64bd-48f2-9659-ddbc761958a4",
        "scrolled": false
      },
      "outputs": [
        {
          "data": {
            "text/plain": [
              "[1, 2, 3, 4, 5, 6, 7, 8, 9, 10]"
            ]
          },
          "execution_count": 38,
          "metadata": {},
          "output_type": "execute_result"
        }
      ],
      "source": [
        "#Write your solution here\n"
      ]
    },
    {
      "cell_type": "markdown",
      "id": "2ae0edc0",
      "metadata": {},
      "source": [
        "### Exercise 2:\n",
        "\n",
        "Create a Python dictionary which stores the price for three items of food. For example; milk is £1.30, pasta is £0.75, and strawberries are £1.50. Output the dictionary to check the values are stored, and then see if you can access the price for one of the items by using the item name as the 'key'.\n",
        "\n",
        "Extension: Now add a new key and value pair to previously defined dictionary."
      ]
    },
    {
      "cell_type": "code",
      "execution_count": 49,
      "id": "84b40bdc",
      "metadata": {},
      "outputs": [
        {
          "data": {
            "text/plain": [
              "{'milk': 1.3, 'pasta': 0.75, 'strawberries': 1.5}"
            ]
          },
          "execution_count": 49,
          "metadata": {},
          "output_type": "execute_result"
        }
      ],
      "source": [
        "#Write your solution here"
      ]
    },
    {
      "cell_type": "markdown",
      "id": "18d27a22",
      "metadata": {},
      "source": [
        "### Exercise 3: \n",
        "\n",
        "Given two sets (prices and food names), can you create a dictionary that uses the foodnames as keys, and the prices as values?\n"
      ]
    },
    {
      "cell_type": "code",
      "execution_count": 124,
      "id": "989af81c",
      "metadata": {},
      "outputs": [
        {
          "name": "stdout",
          "output_type": "stream",
          "text": [
            "{'pasta', 'milk', 'strawberries'}\n",
            "{0.75, 1.3, 1.5}\n"
          ]
        },
        {
          "data": {
            "text/plain": [
              "{'pasta': 0.75, 'milk': 1.3, 'strawberries': 1.5}"
            ]
          },
          "execution_count": 124,
          "metadata": {},
          "output_type": "execute_result"
        }
      ],
      "source": [
        "foodnames = {\"milk\", \"pasta\", \"strawberries\"}\n",
        "prices = {1.30, 0.75, 1.50}\n",
        "\n",
        "print(foodnames)\n",
        "print(prices)\n",
        "\n",
        "# Write your solution: \n"
      ]
    },
    {
      "cell_type": "markdown",
      "id": "d14cb700",
      "metadata": {},
      "source": [
        "### Exercise 4: \n",
        "\n",
        "Write one function which will return the intersection of two sets passed in. Write another function which will return the union of two sets passed in."
      ]
    },
    {
      "cell_type": "code",
      "execution_count": 174,
      "id": "c4dc15f6",
      "metadata": {},
      "outputs": [
        {
          "name": "stdout",
          "output_type": "stream",
          "text": [
            "{8, 9, 10, 7}\n",
            "{1, 2, 3, 4, 5, 6, 7, 8, 9, 10, 11, 12, 13, 14}\n"
          ]
        }
      ],
      "source": [
        "a = {1,2,3,4,5,6,7,8,9,10}\n",
        "b = {7,8,9,10,11,12,13,14}\n",
        "\n",
        "#write your solution here"
      ]
    },
    {
      "cell_type": "markdown",
      "id": "fbb5bdfe",
      "metadata": {},
      "source": [
        "### Exercise 5:\n",
        "Write a function that takes two lists of numbers, and returns the number that appears most frequently across both lists (the mode). \n",
        "\n",
        "Hint: if you get stuck, try creating a tally of how many times each number appears. This could be a list.\n"
      ]
    },
    {
      "cell_type": "code",
      "execution_count": 165,
      "id": "6f9446d9",
      "metadata": {},
      "outputs": [
        {
          "name": "stdout",
          "output_type": "stream",
          "text": [
            "[0, 0, 1, 1, 1, 1, 1, 1, 2, 2, 2, 3, 3, 3, 3, 3, 4, 4, 4, 4, 4, 5, 5, 6, 6, 6, 7, 7, 7, 7, 7, 8, 8, 9, 9, 9]\n",
            "count of 0 is 2\n",
            "count of 1 is 6\n",
            "count of 2 is 3\n",
            "count of 3 is 5\n",
            "count of 4 is 5\n",
            "count of 5 is 2\n",
            "count of 6 is 3\n",
            "count of 7 is 5\n",
            "count of 8 is 2\n",
            "count of 9 is 3\n"
          ]
        },
        {
          "data": {
            "text/plain": [
              "1"
            ]
          },
          "execution_count": 165,
          "metadata": {},
          "output_type": "execute_result"
        }
      ],
      "source": [
        "def most_frequent(a, b):\n",
        "    #write your solution here\n",
        "    ...\n",
        "    #write your solution above\n",
        "\n",
        "a = [0,1,3,4,6,3,2,4,1,9,5,6,7,7,1,8,4,0]\n",
        "b = [7,3,9,6,7,4,2,1,3,9,7,5,1,3,4,2,1,8]\n",
        "\n",
        "result = most_frequent(a, b)\n",
        "result\n"
      ]
    },
    {
      "cell_type": "markdown",
      "id": "64e7ea31",
      "metadata": {},
      "source": [
        "### Exercise 6: \n",
        "\n",
        "Return to your student class created in Python 03 notebook. Create three new student objects and add/store these objects in a list."
      ]
    },
    {
      "cell_type": "code",
      "execution_count": 67,
      "id": "c5c92884",
      "metadata": {},
      "outputs": [
        {
          "data": {
            "text/plain": [
              "[<__main__.Student at 0x103ccc940>,\n",
              " <__main__.Student at 0x103ccd210>,\n",
              " <__main__.Student at 0x103b5d870>]"
            ]
          },
          "execution_count": 67,
          "metadata": {},
          "output_type": "execute_result"
        }
      ],
      "source": [
        "class Student:\n",
        "  def __init__(self, name, id):\n",
        "    self.name = name\n",
        "    self.id = id\n",
        "  def print(self):\n",
        "      print(self.name) \n",
        "      print(self.id)\n",
        "\n",
        "#write your solution here"
      ]
    },
    {
      "cell_type": "markdown",
      "id": "99a26654",
      "metadata": {},
      "source": [
        "### Exercise 7: \n",
        "\n",
        "Amend your Module class from Python 03 notebook so that module objects can store a list of student objects (which take the module). Start by defining an attribute in the Module constructor. This could be initialised as an empty list in the constructor. Create a ```add_student()``` function which can append a student object. \n",
        "\n",
        "Extension: is it possible to use the ```add_student()``` function to add a list of students to already existing list attribute? "
      ]
    },
    {
      "cell_type": "code",
      "execution_count": 127,
      "id": "e078c746",
      "metadata": {},
      "outputs": [
        {
          "name": "stdout",
          "output_type": "stream",
          "text": [
            "Programming Concepts\n",
            "COM4008\n",
            "Programming Concepts\n",
            "COM4008\n",
            "nick\n",
            "Programming Concepts\n",
            "COM4008\n",
            "nick\n",
            "Emily\n"
          ]
        }
      ],
      "source": [
        "#Write your solution here"
      ]
    },
    {
      "cell_type": "markdown",
      "id": "f85dedf5",
      "metadata": {},
      "source": [
        "### Exercise 7\n",
        "\n",
        "Now modify the list of the students in Module, to a dictionary. The dictionary should store the student object as the 'key' and the student mark for the module as the 'value'. Test this new structure works by passing in students and their marks when you call ```add_student()```\n",
        "\n",
        "Extension: Can you now create some descriptive statistics for each module: the maximum mark, minimum mark, and mean (average)?"
      ]
    },
    {
      "cell_type": "code",
      "execution_count": 1,
      "id": "8ea7dad5",
      "metadata": {},
      "outputs": [],
      "source": [
        "#write your solution here"
      ]
    },
    {
      "cell_type": "markdown",
      "id": "2a013a70",
      "metadata": {},
      "source": [
        "### Exercise 8\n",
        "Make adjustments to the Course class from Python 03 Notebook to allow a Course to store a list of module objects. \n",
        "Create additional module objects and output their details."
      ]
    },
    {
      "cell_type": "code",
      "execution_count": 2,
      "id": "89872b11",
      "metadata": {},
      "outputs": [],
      "source": [
        "#write your solution here"
      ]
    },
    {
      "cell_type": "markdown",
      "id": "f62b3876",
      "metadata": {
        "id": "f62b3876"
      },
      "source": [
        "### Exercise 9:\n",
        "Write a function that will generate the multiplications of a number passed in. For example, if the value 5 is passed in, then generate the 5 times table. The values of the multiplication table should be stored in indivdiual elements (max 12) of a list. The list should be returned at the end of the function. \n"
      ]
    },
    {
      "cell_type": "code",
      "execution_count": 53,
      "id": "7111df18",
      "metadata": {},
      "outputs": [
        {
          "data": {
            "text/plain": [
              "[7, 14, 21, 28, 35, 42, 49, 56, 63, 70, 77, 84]"
            ]
          },
          "execution_count": 53,
          "metadata": {},
          "output_type": "execute_result"
        }
      ],
      "source": [
        "#write your solution here"
      ]
    },
    {
      "cell_type": "markdown",
      "id": "c76976fd",
      "metadata": {},
      "source": [
        "### Exercise 10:\n",
        "\n",
        "Write a function which will square any list of values passed into it. Test this works by passing in your list of numbers (1-10) you created in the first exericse.\n",
        "\n",
        "<b>Extension</b>: what happens if the values in a list are not ints or floats? How would you respond to this event?"
      ]
    },
    {
      "cell_type": "code",
      "execution_count": 60,
      "id": "7889352e",
      "metadata": {},
      "outputs": [
        {
          "data": {
            "text/plain": [
              "[1, 4, 9, 16, 25, 36]"
            ]
          },
          "execution_count": 60,
          "metadata": {},
          "output_type": "execute_result"
        }
      ],
      "source": [
        "#write your solution here"
      ]
    },
    {
      "cell_type": "markdown",
      "id": "5861f62c",
      "metadata": {},
      "source": [
        "### Bonus exercise (in the style of an interview question)\n",
        "\n",
        "You are given a list of integers, and your task is to find the longest subsequence of consecutive integers within the list. A subsequence is a sequence that can be derived from another sequence by deleting some or no elements without changing the order of the remaining elements. \n",
        "\n",
        "Write a Python function to solve this problem. Your function should return the longest consecutive subsequence found in the original list.\n",
        "\n",
        "For example, given the input list: ``` [4, 2, 8, 5, 6, 7, 11, 12, 10]```\n",
        "\n",
        "The longest consecutive subsequence is: ``` [4, 5, 6, 7, 8] ```\n"
      ]
    },
    {
      "cell_type": "code",
      "execution_count": 185,
      "id": "ddf7677c",
      "metadata": {
        "id": "ddf7677c"
      },
      "outputs": [
        {
          "name": "stdout",
          "output_type": "stream",
          "text": [
            "[4, 5, 6, 7, 8]\n"
          ]
        }
      ],
      "source": [
        "def longest_consecutive_subsequence(numbers):\n",
        "    #write your solution here\n",
        "    ...\n",
        "    #write your solution above\n",
        "\n",
        "\n",
        "numbers = [4, 2, 8, 5, 6, 7, 11, 12, 10]\n",
        "result = longest_consecutive_subsequence(numbers)\n",
        "print(result)  "
      ]
    }
  ],
  "metadata": {
    "colab": {
      "provenance": []
    },
    "kernelspec": {
      "display_name": "Python 3 (ipykernel)",
      "language": "python",
      "name": "python3"
    },
    "language_info": {
      "codemirror_mode": {
        "name": "ipython",
        "version": 3
      },
      "file_extension": ".py",
      "mimetype": "text/x-python",
      "name": "python",
      "nbconvert_exporter": "python",
      "pygments_lexer": "ipython3",
      "version": "3.9.6"
    }
  },
  "nbformat": 4,
  "nbformat_minor": 5
}
