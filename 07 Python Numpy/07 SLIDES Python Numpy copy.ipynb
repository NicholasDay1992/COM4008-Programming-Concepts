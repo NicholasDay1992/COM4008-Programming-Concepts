{
 "cells": [
  {
   "cell_type": "markdown",
   "metadata": {},
   "source": [
    "# 07 Data Libraries\n"
   ]
  },
  {
   "cell_type": "markdown",
   "metadata": {},
   "source": [
    "## Plan for this lecture\n",
    "\n",
    "1. Numpy (+ little bit of Matplotlib)\n",
    "\n",
    "2. Pandas (+ little bit of Seaborn)\n",
    "\n",
    "3. a"
   ]
  },
  {
   "cell_type": "markdown",
   "metadata": {},
   "source": [
    "## Introduction to Numpy \n",
    "\n",
    "![numpy_logo](https://upload.wikimedia.org/wikipedia/commons/thumb/3/31/NumPy_logo_2020.svg/320px-NumPy_logo_2020.svg.png)\n",
    "* Numerical Python (NumPy) is a package full of methods that can perform useful operations on data.  \n",
    "\n",
    "* NumPy provides a convenient API (Application Programmable Interface) that provides a way to ‘interface’ with / operate on data. \n",
    "\n",
    "* It reintroduces types which is more coding but more efficient way to search/sort/store data than the ‘loosely’ typed nature of Python that we’ve seen so far. \n",
    "\n",
    "* More documentation available at: https://numpy.org \n"
   ]
  },
  {
   "cell_type": "markdown",
   "metadata": {},
   "source": [
    "## Numpy Arrays vs Python List\n",
    "\n",
    "* NumPy arrays are different to Python Lists. \n",
    "\n",
    "* NumPy arrays reintroduce the ‘typed’ nature of more ‘verbose’ languages (C, C++, Java), where everything is explicitly typed. \n",
    "\n",
    "* NumPy arrays operate like arrays from C and Java where they declared to store data of one type (only integers), unlike Python and JS, which can store data of different types. \n",
    "\n",
    "* NumPy arrays therefore data is ‘cast’ – floating point numbers to integers, or in some cases – an error is produced (strings to integers)."
   ]
  },
  {
   "cell_type": "markdown",
   "metadata": {},
   "source": [
    "## Getting started with Numpy\n",
    "\n",
    "* You'll either need to install this if you're in VSC. \n",
    "\n",
    "* OR if you're in Anaconda or Google Colab, you should have access to it already..."
   ]
  },
  {
   "cell_type": "markdown",
   "metadata": {},
   "source": [
    "`!pip install numpy`"
   ]
  },
  {
   "cell_type": "markdown",
   "metadata": {},
   "source": [
    "`pip install numpy`\n",
    "\n",
    "`python3 -m pip install -U numpy --user`"
   ]
  },
  {
   "cell_type": "code",
   "execution_count": 1,
   "metadata": {},
   "outputs": [
    {
     "data": {
      "text/plain": [
       "<module 'numpy' from '/Users/nick/Library/Python/3.9/lib/python/site-packages/numpy/__init__.py'>"
      ]
     },
     "execution_count": 1,
     "metadata": {},
     "output_type": "execute_result"
    }
   ],
   "source": [
    "import numpy as np \n",
    "np"
   ]
  },
  {
   "cell_type": "code",
   "execution_count": 2,
   "metadata": {},
   "outputs": [
    {
     "data": {
      "text/plain": [
       "array([1, 2, 3, 4, 5, 6])"
      ]
     },
     "execution_count": 2,
     "metadata": {},
     "output_type": "execute_result"
    }
   ],
   "source": [
    "a = np.array([1,2,3,4,5,6]) \n",
    "a\n"
   ]
  },
  {
   "cell_type": "markdown",
   "metadata": {},
   "source": [
    "## Upcasting to floating points\n",
    "\n",
    "Notice below how one floating point number will upcast all the integers to floats"
   ]
  },
  {
   "cell_type": "code",
   "execution_count": 77,
   "metadata": {},
   "outputs": [
    {
     "data": {
      "text/plain": [
       "array([3.14, 2.  , 3.  , 4.  , 5.  ])"
      ]
     },
     "execution_count": 77,
     "metadata": {},
     "output_type": "execute_result"
    }
   ],
   "source": [
    "a = np.array([3.14,2,3,4,5]) \n",
    "a\n"
   ]
  },
  {
   "cell_type": "code",
   "execution_count": 78,
   "metadata": {},
   "outputs": [
    {
     "data": {
      "text/plain": [
       "array([1., 2., 3.], dtype=float32)"
      ]
     },
     "execution_count": 78,
     "metadata": {},
     "output_type": "execute_result"
    }
   ],
   "source": [
    "a = np.array([1,2,3],dtype='float32')\n",
    "a\n"
   ]
  },
  {
   "cell_type": "markdown",
   "metadata": {},
   "source": [
    "## 2-Dimensions!"
   ]
  },
  {
   "cell_type": "code",
   "execution_count": 79,
   "metadata": {},
   "outputs": [
    {
     "data": {
      "text/plain": [
       "array([[1, 2, 3],\n",
       "       [4, 5, 6]])"
      ]
     },
     "execution_count": 79,
     "metadata": {},
     "output_type": "execute_result"
    }
   ],
   "source": [
    "a = np.array([[1,2,3],[4,5,6]]) \n",
    "a\n"
   ]
  },
  {
   "cell_type": "markdown",
   "metadata": {},
   "source": [
    "## Array functions"
   ]
  },
  {
   "cell_type": "code",
   "execution_count": 80,
   "metadata": {},
   "outputs": [
    {
     "data": {
      "text/plain": [
       "array([0, 1, 2])"
      ]
     },
     "execution_count": 80,
     "metadata": {},
     "output_type": "execute_result"
    }
   ],
   "source": [
    "a = np.arange(3) \n",
    "a\n"
   ]
  },
  {
   "cell_type": "code",
   "execution_count": 81,
   "metadata": {},
   "outputs": [
    {
     "data": {
      "text/plain": [
       "array([0, 1, 2, 3, 4, 5, 6, 7, 8, 9])"
      ]
     },
     "execution_count": 81,
     "metadata": {},
     "output_type": "execute_result"
    }
   ],
   "source": [
    "a = np.arange(10) \n",
    "a\n"
   ]
  },
  {
   "cell_type": "code",
   "execution_count": 32,
   "metadata": {},
   "outputs": [
    {
     "data": {
      "text/plain": [
       "array([0., 0., 0., 0., 0., 0., 0., 0., 0., 0.])"
      ]
     },
     "execution_count": 32,
     "metadata": {},
     "output_type": "execute_result"
    }
   ],
   "source": [
    "np.zeros(10)"
   ]
  },
  {
   "cell_type": "code",
   "execution_count": 31,
   "metadata": {},
   "outputs": [
    {
     "data": {
      "text/plain": [
       "array([1., 1., 1., 1., 1., 1., 1., 1., 1.])"
      ]
     },
     "execution_count": 31,
     "metadata": {},
     "output_type": "execute_result"
    }
   ],
   "source": [
    "np.ones(10)"
   ]
  },
  {
   "cell_type": "code",
   "execution_count": 82,
   "metadata": {},
   "outputs": [
    {
     "data": {
      "text/plain": [
       "array([[1., 1.],\n",
       "       [1., 1.],\n",
       "       [1., 1.]])"
      ]
     },
     "execution_count": 82,
     "metadata": {},
     "output_type": "execute_result"
    }
   ],
   "source": [
    "a = np.ones((3, 2)) \n",
    "a\n"
   ]
  },
  {
   "cell_type": "code",
   "execution_count": 83,
   "metadata": {},
   "outputs": [
    {
     "data": {
      "text/plain": [
       "array([[5, 5],\n",
       "       [5, 5]])"
      ]
     },
     "execution_count": 83,
     "metadata": {},
     "output_type": "execute_result"
    }
   ],
   "source": [
    "a = np.full((2, 2), 5) \n",
    "a\n"
   ]
  },
  {
   "cell_type": "code",
   "execution_count": 84,
   "metadata": {},
   "outputs": [
    {
     "data": {
      "text/plain": [
       "array([[7, 7, 7],\n",
       "       [7, 7, 7],\n",
       "       [7, 7, 7]])"
      ]
     },
     "execution_count": 84,
     "metadata": {},
     "output_type": "execute_result"
    }
   ],
   "source": [
    "a = np.full((3, 3), 7) \n",
    "a\n"
   ]
  },
  {
   "cell_type": "code",
   "execution_count": 30,
   "metadata": {},
   "outputs": [
    {
     "data": {
      "text/plain": [
       "array([[1., 0., 0.],\n",
       "       [0., 1., 0.],\n",
       "       [0., 0., 1.]])"
      ]
     },
     "execution_count": 30,
     "metadata": {},
     "output_type": "execute_result"
    }
   ],
   "source": [
    "np.eye(3)"
   ]
  },
  {
   "cell_type": "markdown",
   "metadata": {},
   "source": [
    "## Random"
   ]
  },
  {
   "cell_type": "code",
   "execution_count": 85,
   "metadata": {},
   "outputs": [
    {
     "data": {
      "text/plain": [
       "array([[0.64254536, 0.71292754],\n",
       "       [0.27729644, 0.96306581]])"
      ]
     },
     "execution_count": 85,
     "metadata": {},
     "output_type": "execute_result"
    }
   ],
   "source": [
    "a = np.random.random((2,2)) \n",
    "a\n"
   ]
  },
  {
   "cell_type": "code",
   "execution_count": 86,
   "metadata": {},
   "outputs": [
    {
     "data": {
      "text/plain": [
       "array([0, 1])"
      ]
     },
     "execution_count": 86,
     "metadata": {},
     "output_type": "execute_result"
    }
   ],
   "source": [
    "a = np.random.randint((2,2)) \n",
    "a\n"
   ]
  },
  {
   "cell_type": "code",
   "execution_count": 87,
   "metadata": {},
   "outputs": [
    {
     "data": {
      "text/plain": [
       "array([1, 1, 1, 1, 0, 1, 0, 0, 1, 0])"
      ]
     },
     "execution_count": 87,
     "metadata": {},
     "output_type": "execute_result"
    }
   ],
   "source": [
    "a = np.random.randint(2, size=10) \n",
    "a\n"
   ]
  },
  {
   "cell_type": "code",
   "execution_count": 88,
   "metadata": {},
   "outputs": [
    {
     "data": {
      "text/plain": [
       "array([[1, 0],\n",
       "       [1, 1]])"
      ]
     },
     "execution_count": 88,
     "metadata": {},
     "output_type": "execute_result"
    }
   ],
   "source": [
    "a = np.random.randint(2, size=(2,2)) \n",
    "a\n"
   ]
  },
  {
   "cell_type": "code",
   "execution_count": 89,
   "metadata": {},
   "outputs": [
    {
     "data": {
      "text/plain": [
       "array([[1, 0],\n",
       "       [1, 0],\n",
       "       [1, 0]])"
      ]
     },
     "execution_count": 89,
     "metadata": {},
     "output_type": "execute_result"
    }
   ],
   "source": [
    "a = np.random.randint(2, size=(3,2)) \n",
    "a\n"
   ]
  },
  {
   "cell_type": "code",
   "execution_count": 90,
   "metadata": {},
   "outputs": [
    {
     "data": {
      "text/plain": [
       "array([[0, 1, 0],\n",
       "       [1, 1, 0]])"
      ]
     },
     "execution_count": 90,
     "metadata": {},
     "output_type": "execute_result"
    }
   ],
   "source": [
    "a = np.random.randint(2, size=(2,3)) \n",
    "a\n"
   ]
  },
  {
   "cell_type": "code",
   "execution_count": 91,
   "metadata": {},
   "outputs": [
    {
     "data": {
      "text/plain": [
       "array([[1, 2, 2],\n",
       "       [1, 2, 1],\n",
       "       [0, 2, 1]])"
      ]
     },
     "execution_count": 91,
     "metadata": {},
     "output_type": "execute_result"
    }
   ],
   "source": [
    "a = np.random.randint(3, size=(3,3)) \n",
    "a\n"
   ]
  },
  {
   "cell_type": "code",
   "execution_count": 92,
   "metadata": {},
   "outputs": [
    {
     "data": {
      "text/plain": [
       "array([[8, 0, 1],\n",
       "       [3, 7, 6],\n",
       "       [8, 2, 8]])"
      ]
     },
     "execution_count": 92,
     "metadata": {},
     "output_type": "execute_result"
    }
   ],
   "source": [
    "a = np.random.randint(9, size=(3,3)) \n",
    "a\n"
   ]
  },
  {
   "cell_type": "code",
   "execution_count": 93,
   "metadata": {},
   "outputs": [
    {
     "data": {
      "text/plain": [
       "array([[[5, 4, 6],\n",
       "        [6, 6, 6],\n",
       "        [4, 8, 4]],\n",
       "\n",
       "       [[2, 6, 8],\n",
       "        [4, 4, 6],\n",
       "        [7, 8, 0]],\n",
       "\n",
       "       [[0, 8, 5],\n",
       "        [4, 7, 3],\n",
       "        [2, 7, 1]]])"
      ]
     },
     "execution_count": 93,
     "metadata": {},
     "output_type": "execute_result"
    }
   ],
   "source": [
    "a = np.random.randint(9, size=(3,3,3))\n",
    "a\n"
   ]
  },
  {
   "cell_type": "code",
   "execution_count": 94,
   "metadata": {},
   "outputs": [
    {
     "data": {
      "text/plain": [
       "array([0. , 0.1, 0.2, 0.3, 0.4, 0.5, 0.6, 0.7, 0.8, 0.9, 1. ])"
      ]
     },
     "execution_count": 94,
     "metadata": {},
     "output_type": "execute_result"
    }
   ],
   "source": [
    "a = np.linspace(0, 1, 11)\n",
    "a\n"
   ]
  },
  {
   "cell_type": "markdown",
   "metadata": {},
   "source": [
    "## Array attributes"
   ]
  },
  {
   "cell_type": "code",
   "execution_count": 95,
   "metadata": {},
   "outputs": [
    {
     "name": "stdout",
     "output_type": "stream",
     "text": [
      "size: 9\n",
      "shape: (3, 3)\n",
      "dimensions: 2\n"
     ]
    }
   ],
   "source": [
    "a = np.random.randint(9, size=(3,3))\n",
    "print(\"size:\", a.size)\n",
    "print(\"shape:\", a.shape)\n",
    "print(\"dimensions:\", a.ndim)\n"
   ]
  },
  {
   "cell_type": "code",
   "execution_count": 96,
   "metadata": {},
   "outputs": [
    {
     "name": "stdout",
     "output_type": "stream",
     "text": [
      "size: 27\n",
      "shape: (3, 3, 3)\n",
      "dimensions: 3\n"
     ]
    }
   ],
   "source": [
    "a = np.random.randint(9, size=(3,3,3))\n",
    "print(\"size:\", a.size)\n",
    "print(\"shape:\", a.shape)\n",
    "print(\"dimensions:\", a.ndim)"
   ]
  },
  {
   "cell_type": "markdown",
   "metadata": {},
   "source": [
    "## Array slicing `[ : ]`\n",
    "\n",
    "* `array_name[ start : stop : interval]`"
   ]
  },
  {
   "cell_type": "code",
   "execution_count": 97,
   "metadata": {},
   "outputs": [
    {
     "data": {
      "text/plain": [
       "array([0, 1, 2, 3, 4, 5, 6, 7, 8, 9])"
      ]
     },
     "execution_count": 97,
     "metadata": {},
     "output_type": "execute_result"
    }
   ],
   "source": [
    "a = np.arange(10)\n",
    "a\n"
   ]
  },
  {
   "cell_type": "code",
   "execution_count": 101,
   "metadata": {},
   "outputs": [
    {
     "name": "stdout",
     "output_type": "stream",
     "text": [
      "3\n"
     ]
    }
   ],
   "source": [
    "print(a[3])\n"
   ]
  },
  {
   "cell_type": "code",
   "execution_count": 102,
   "metadata": {},
   "outputs": [
    {
     "data": {
      "text/plain": [
       "array([0, 1, 2])"
      ]
     },
     "execution_count": 102,
     "metadata": {},
     "output_type": "execute_result"
    }
   ],
   "source": [
    "a[:3]\n"
   ]
  },
  {
   "cell_type": "code",
   "execution_count": 103,
   "metadata": {},
   "outputs": [
    {
     "data": {
      "text/plain": [
       "array([3, 4, 5, 6, 7, 8, 9])"
      ]
     },
     "execution_count": 103,
     "metadata": {},
     "output_type": "execute_result"
    }
   ],
   "source": [
    "a[3:]\n"
   ]
  },
  {
   "cell_type": "code",
   "execution_count": 104,
   "metadata": {},
   "outputs": [
    {
     "data": {
      "text/plain": [
       "array([3, 4, 5])"
      ]
     },
     "execution_count": 104,
     "metadata": {},
     "output_type": "execute_result"
    }
   ],
   "source": [
    "a[3:6]\n"
   ]
  },
  {
   "cell_type": "markdown",
   "metadata": {},
   "source": [
    "Steps/intervals of 2:"
   ]
  },
  {
   "cell_type": "code",
   "execution_count": 105,
   "metadata": {},
   "outputs": [
    {
     "data": {
      "text/plain": [
       "array([3, 5])"
      ]
     },
     "execution_count": 105,
     "metadata": {},
     "output_type": "execute_result"
    }
   ],
   "source": [
    "a[3:6:2]\n"
   ]
  },
  {
   "cell_type": "markdown",
   "metadata": {},
   "source": [
    "Mutiples of 3"
   ]
  },
  {
   "cell_type": "code",
   "execution_count": 106,
   "metadata": {},
   "outputs": [
    {
     "data": {
      "text/plain": [
       "array([0, 3, 6, 9])"
      ]
     },
     "execution_count": 106,
     "metadata": {},
     "output_type": "execute_result"
    }
   ],
   "source": [
    "a[::3]\n"
   ]
  },
  {
   "cell_type": "markdown",
   "metadata": {},
   "source": [
    "## Row and Col access"
   ]
  },
  {
   "cell_type": "code",
   "execution_count": 107,
   "metadata": {},
   "outputs": [
    {
     "data": {
      "text/plain": [
       "array([[2, 0, 5],\n",
       "       [5, 2, 3],\n",
       "       [6, 1, 1]])"
      ]
     },
     "execution_count": 107,
     "metadata": {},
     "output_type": "execute_result"
    }
   ],
   "source": [
    "a = np.random.randint(9, size=(3,3)) \n",
    "a\n"
   ]
  },
  {
   "cell_type": "markdown",
   "metadata": {},
   "source": [
    "All of the first column (column 0) - displayed in a one-dimensional form"
   ]
  },
  {
   "cell_type": "code",
   "execution_count": 112,
   "metadata": {},
   "outputs": [
    {
     "data": {
      "text/plain": [
       "array([2, 5, 6])"
      ]
     },
     "execution_count": 112,
     "metadata": {},
     "output_type": "execute_result"
    }
   ],
   "source": [
    "a[:,0]\n"
   ]
  },
  {
   "cell_type": "markdown",
   "metadata": {},
   "source": [
    "All of the first row (row 0)"
   ]
  },
  {
   "cell_type": "code",
   "execution_count": 113,
   "metadata": {},
   "outputs": [
    {
     "data": {
      "text/plain": [
       "array([2, 0, 5])"
      ]
     },
     "execution_count": 113,
     "metadata": {},
     "output_type": "execute_result"
    }
   ],
   "source": [
    "a[0,:]\n"
   ]
  },
  {
   "cell_type": "markdown",
   "metadata": {},
   "source": [
    "All of the second row (row 1)"
   ]
  },
  {
   "cell_type": "code",
   "execution_count": 114,
   "metadata": {},
   "outputs": [
    {
     "data": {
      "text/plain": [
       "array([5, 2, 3])"
      ]
     },
     "execution_count": 114,
     "metadata": {},
     "output_type": "execute_result"
    }
   ],
   "source": [
    "a[1,:]\n"
   ]
  },
  {
   "cell_type": "markdown",
   "metadata": {},
   "source": [
    "## Matplotlib for data viz!"
   ]
  },
  {
   "cell_type": "markdown",
   "metadata": {},
   "source": [
    "`pip install matplotlib`\n",
    "\n",
    "`python3 -m pip install -U matplotlib --user`"
   ]
  },
  {
   "cell_type": "code",
   "execution_count": 47,
   "metadata": {},
   "outputs": [
    {
     "data": {
      "text/plain": [
       "<module 'matplotlib.pyplot' from '/Users/nick/Library/Python/3.9/lib/python/site-packages/matplotlib/pyplot.py'>"
      ]
     },
     "execution_count": 47,
     "metadata": {},
     "output_type": "execute_result"
    }
   ],
   "source": [
    "import matplotlib.pyplot as plt\n",
    "plt"
   ]
  },
  {
   "cell_type": "code",
   "execution_count": 56,
   "metadata": {},
   "outputs": [
    {
     "data": {
      "text/plain": [
       "[<matplotlib.lines.Line2D at 0x12331bd90>]"
      ]
     },
     "execution_count": 56,
     "metadata": {},
     "output_type": "execute_result"
    },
    {
     "data": {
      "image/png": "[encoded data removed]",
      "text/plain": [
       "<Figure size 640x480 with 1 Axes>"
      ]
     },
     "metadata": {},
     "output_type": "display_data"
    }
   ],
   "source": [
    "x = np.arange(0,10)\n",
    "y = np.array(x**2)\n",
    "plt.plot(x,y)"
   ]
  },
  {
   "cell_type": "markdown",
   "metadata": {},
   "source": [
    "## Introduction to Pandas\n",
    "\n",
    "![pandas_logo](https://preview.redd.it/c6h7rok9c2v31.jpg?width=1080&crop=smart&auto=webp&s=3a92812520f9651db2900014b7973e3c3b5a43d4)\n",
    "\n",
    "(https://upload.wikimedia.org/wikipedia/commons/thumb/e/ed/Pandas_logo.svg/320px-Pandas_logo.svg.png)"
   ]
  },
  {
   "cell_type": "markdown",
   "metadata": {},
   "source": [
    "* Pandas is a package that supplies data analysis tools in Python.\n",
    "\n",
    "* DataFrames provide convenient formatting to visualise the data source. Often CSVs, and even NumPy arrays are used as the source for these DataFrames.\n",
    "\n",
    "* It provides useful functions from summaries and descriptive statistics of data, in addition to SQL joins (GroupBy) \n",
    "\n",
    "* More documentation available at: https://pandas.pydata.org  \n"
   ]
  },
  {
   "cell_type": "markdown",
   "metadata": {},
   "source": [
    "## Formatting CSV data in Pandas DataFrames"
   ]
  },
  {
   "cell_type": "markdown",
   "metadata": {},
   "source": [
    "`pip install pandas`\n",
    "\n",
    "`python3 -m pip install -U pandas --user`"
   ]
  },
  {
   "cell_type": "code",
   "execution_count": 2,
   "metadata": {},
   "outputs": [
    {
     "data": {
      "text/plain": [
       "<module 'pandas' from '/Users/nick/Library/Python/3.9/lib/python/site-packages/pandas/__init__.py'>"
      ]
     },
     "execution_count": 2,
     "metadata": {},
     "output_type": "execute_result"
    }
   ],
   "source": [
    "import pandas as pd\n",
    "pd"
   ]
  },
  {
   "cell_type": "markdown",
   "metadata": {},
   "source": [
    "## Pandas Series"
   ]
  },
  {
   "cell_type": "code",
   "execution_count": 115,
   "metadata": {},
   "outputs": [
    {
     "data": {
      "text/plain": [
       "0    10\n",
       "1    20\n",
       "2    30\n",
       "dtype: int64"
      ]
     },
     "execution_count": 115,
     "metadata": {},
     "output_type": "execute_result"
    }
   ],
   "source": [
    "my_list = [10,20,30]\n",
    "pd.Series(data=my_list) \n"
   ]
  },
  {
   "cell_type": "code",
   "execution_count": 116,
   "metadata": {},
   "outputs": [
    {
     "data": {
      "text/plain": [
       "a    10\n",
       "b    20\n",
       "c    30\n",
       "dtype: int64"
      ]
     },
     "execution_count": 116,
     "metadata": {},
     "output_type": "execute_result"
    }
   ],
   "source": [
    "labels = ['a','b','c']\n",
    "my_list = [10,20,30]\n",
    "pd.Series(data=my_list,index=labels)\n"
   ]
  },
  {
   "cell_type": "code",
   "execution_count": 117,
   "metadata": {},
   "outputs": [
    {
     "data": {
      "text/plain": [
       "a    10\n",
       "b    20\n",
       "c    30\n",
       "dtype: int64"
      ]
     },
     "execution_count": 117,
     "metadata": {},
     "output_type": "execute_result"
    }
   ],
   "source": [
    "labels = ['a','b','c']\n",
    "my_list = [10,20,30]\n",
    "pd.Series(my_list,labels)\n"
   ]
  },
  {
   "cell_type": "code",
   "execution_count": 118,
   "metadata": {},
   "outputs": [
    {
     "data": {
      "text/plain": [
       "0    10\n",
       "1    20\n",
       "2    30\n",
       "dtype: int64"
      ]
     },
     "execution_count": 118,
     "metadata": {},
     "output_type": "execute_result"
    }
   ],
   "source": [
    "arr = np.array([10,20,30])\n",
    "pd.Series(arr) \n"
   ]
  },
  {
   "cell_type": "code",
   "execution_count": 119,
   "metadata": {},
   "outputs": [
    {
     "data": {
      "text/plain": [
       "0    1.0\n",
       "1    1.0\n",
       "2    1.0\n",
       "3    1.0\n",
       "4    1.0\n",
       "5    1.0\n",
       "6    1.0\n",
       "7    1.0\n",
       "8    1.0\n",
       "9    1.0\n",
       "dtype: float64"
      ]
     },
     "execution_count": 119,
     "metadata": {},
     "output_type": "execute_result"
    }
   ],
   "source": [
    "s1 = pd.Series( np.ones(10))\n",
    "s1"
   ]
  },
  {
   "cell_type": "code",
   "execution_count": 120,
   "metadata": {},
   "outputs": [
    {
     "data": {
      "text/plain": [
       "a    10\n",
       "b    20\n",
       "c    30\n",
       "dtype: int64"
      ]
     },
     "execution_count": 120,
     "metadata": {},
     "output_type": "execute_result"
    }
   ],
   "source": [
    "d = {'a':10,'b':20,'c':30}\n",
    "pd.Series(d)\n"
   ]
  },
  {
   "cell_type": "code",
   "execution_count": 121,
   "metadata": {},
   "outputs": [
    {
     "data": {
      "text/plain": [
       "UK     1\n",
       "USA    2\n",
       "EU     3\n",
       "dtype: int64"
      ]
     },
     "execution_count": 121,
     "metadata": {},
     "output_type": "execute_result"
    }
   ],
   "source": [
    "ser1 = pd.Series([1,2,3], index = ['UK', 'USA', 'EU'])     \n",
    "ser1         \n"
   ]
  },
  {
   "cell_type": "code",
   "execution_count": 123,
   "metadata": {},
   "outputs": [
    {
     "name": "stdout",
     "output_type": "stream",
     "text": [
      "2\n"
     ]
    }
   ],
   "source": [
    "print(ser1['USA']) "
   ]
  },
  {
   "cell_type": "code",
   "execution_count": 124,
   "metadata": {},
   "outputs": [
    {
     "data": {
      "text/plain": [
       "UK      5\n",
       "USA     3\n",
       "ASIA    7\n",
       "dtype: int64"
      ]
     },
     "execution_count": 124,
     "metadata": {},
     "output_type": "execute_result"
    }
   ],
   "source": [
    "ser2 = pd.Series([5,3,7], index = ['UK', 'USA', 'ASIA'])\n",
    "ser2         \n"
   ]
  },
  {
   "cell_type": "code",
   "execution_count": 125,
   "metadata": {},
   "outputs": [
    {
     "data": {
      "text/plain": [
       "ASIA    NaN\n",
       "EU      NaN\n",
       "UK      6.0\n",
       "USA     5.0\n",
       "dtype: float64"
      ]
     },
     "execution_count": 125,
     "metadata": {},
     "output_type": "execute_result"
    }
   ],
   "source": [
    "ser1 + ser2\n"
   ]
  },
  {
   "cell_type": "code",
   "execution_count": 126,
   "metadata": {},
   "outputs": [
    {
     "data": {
      "text/plain": [
       "UK      1\n",
       "USA     2\n",
       "EU      3\n",
       "UK      5\n",
       "USA     3\n",
       "ASIA    7\n",
       "dtype: int64"
      ]
     },
     "execution_count": 126,
     "metadata": {},
     "output_type": "execute_result"
    }
   ],
   "source": [
    "pd.concat([ser1, ser2])"
   ]
  },
  {
   "cell_type": "markdown",
   "metadata": {},
   "source": [
    "## Pandas DataFrame"
   ]
  },
  {
   "cell_type": "code",
   "execution_count": 33,
   "metadata": {},
   "outputs": [
    {
     "data": {
      "text/html": [
       "<div>\n",
       "<style scoped>\n",
       "    .dataframe tbody tr th:only-of-type {\n",
       "        vertical-align: middle;\n",
       "    }\n",
       "\n",
       "    .dataframe tbody tr th {\n",
       "        vertical-align: top;\n",
       "    }\n",
       "\n",
       "    .dataframe thead th {\n",
       "        text-align: right;\n",
       "    }\n",
       "</style>\n",
       "<table border=\"1\" class=\"dataframe\">\n",
       "  <thead>\n",
       "    <tr style=\"text-align: right;\">\n",
       "      <th></th>\n",
       "      <th>col 1</th>\n",
       "      <th>col 2</th>\n",
       "    </tr>\n",
       "  </thead>\n",
       "  <tbody>\n",
       "    <tr>\n",
       "      <th>0</th>\n",
       "      <td>1</td>\n",
       "      <td>3</td>\n",
       "    </tr>\n",
       "    <tr>\n",
       "      <th>1</th>\n",
       "      <td>2</td>\n",
       "      <td>4</td>\n",
       "    </tr>\n",
       "  </tbody>\n",
       "</table>\n",
       "</div>"
      ],
      "text/plain": [
       "   col 1  col 2\n",
       "0      1      3\n",
       "1      2      4"
      ]
     },
     "execution_count": 33,
     "metadata": {},
     "output_type": "execute_result"
    }
   ],
   "source": [
    "\n",
    "df = pd.DataFrame({'col 1': [1, 2], 'col 2': [3, 4]})  # Using the pandas package to create a DataFrame.\n",
    "df"
   ]
  },
  {
   "cell_type": "markdown",
   "metadata": {},
   "source": [
    "## Col access"
   ]
  },
  {
   "cell_type": "code",
   "execution_count": 127,
   "metadata": {},
   "outputs": [
    {
     "data": {
      "text/html": [
       "<div>\n",
       "<style scoped>\n",
       "    .dataframe tbody tr th:only-of-type {\n",
       "        vertical-align: middle;\n",
       "    }\n",
       "\n",
       "    .dataframe tbody tr th {\n",
       "        vertical-align: top;\n",
       "    }\n",
       "\n",
       "    .dataframe thead th {\n",
       "        text-align: right;\n",
       "    }\n",
       "</style>\n",
       "<table border=\"1\" class=\"dataframe\">\n",
       "  <thead>\n",
       "    <tr style=\"text-align: right;\">\n",
       "      <th></th>\n",
       "      <th>X</th>\n",
       "      <th>Y</th>\n",
       "      <th>Z</th>\n",
       "    </tr>\n",
       "  </thead>\n",
       "  <tbody>\n",
       "    <tr>\n",
       "      <th>A</th>\n",
       "      <td>-0.395206</td>\n",
       "      <td>-0.024570</td>\n",
       "      <td>1.373567</td>\n",
       "    </tr>\n",
       "    <tr>\n",
       "      <th>B</th>\n",
       "      <td>0.849051</td>\n",
       "      <td>-0.278069</td>\n",
       "      <td>2.052038</td>\n",
       "    </tr>\n",
       "    <tr>\n",
       "      <th>C</th>\n",
       "      <td>-0.604493</td>\n",
       "      <td>-0.368296</td>\n",
       "      <td>-0.362035</td>\n",
       "    </tr>\n",
       "  </tbody>\n",
       "</table>\n",
       "</div>"
      ],
      "text/plain": [
       "          X         Y         Z\n",
       "A -0.395206 -0.024570  1.373567\n",
       "B  0.849051 -0.278069  2.052038\n",
       "C -0.604493 -0.368296 -0.362035"
      ]
     },
     "execution_count": 127,
     "metadata": {},
     "output_type": "execute_result"
    }
   ],
   "source": [
    "df = pd.DataFrame(np.random.randn(3,3),\n",
    "                  index='A B C'.split(),\n",
    "                  columns='X Y Z'.split())\n",
    "df\n"
   ]
  },
  {
   "cell_type": "code",
   "execution_count": 128,
   "metadata": {},
   "outputs": [
    {
     "data": {
      "text/plain": [
       "A    1.373567\n",
       "B    2.052038\n",
       "C   -0.362035\n",
       "Name: Z, dtype: float64"
      ]
     },
     "execution_count": 128,
     "metadata": {},
     "output_type": "execute_result"
    }
   ],
   "source": [
    "df['Z']"
   ]
  },
  {
   "cell_type": "code",
   "execution_count": 129,
   "metadata": {},
   "outputs": [
    {
     "data": {
      "text/html": [
       "<div>\n",
       "<style scoped>\n",
       "    .dataframe tbody tr th:only-of-type {\n",
       "        vertical-align: middle;\n",
       "    }\n",
       "\n",
       "    .dataframe tbody tr th {\n",
       "        vertical-align: top;\n",
       "    }\n",
       "\n",
       "    .dataframe thead th {\n",
       "        text-align: right;\n",
       "    }\n",
       "</style>\n",
       "<table border=\"1\" class=\"dataframe\">\n",
       "  <thead>\n",
       "    <tr style=\"text-align: right;\">\n",
       "      <th></th>\n",
       "      <th>X</th>\n",
       "      <th>Z</th>\n",
       "    </tr>\n",
       "  </thead>\n",
       "  <tbody>\n",
       "    <tr>\n",
       "      <th>A</th>\n",
       "      <td>-0.395206</td>\n",
       "      <td>1.373567</td>\n",
       "    </tr>\n",
       "    <tr>\n",
       "      <th>B</th>\n",
       "      <td>0.849051</td>\n",
       "      <td>2.052038</td>\n",
       "    </tr>\n",
       "    <tr>\n",
       "      <th>C</th>\n",
       "      <td>-0.604493</td>\n",
       "      <td>-0.362035</td>\n",
       "    </tr>\n",
       "  </tbody>\n",
       "</table>\n",
       "</div>"
      ],
      "text/plain": [
       "          X         Z\n",
       "A -0.395206  1.373567\n",
       "B  0.849051  2.052038\n",
       "C -0.604493 -0.362035"
      ]
     },
     "execution_count": 129,
     "metadata": {},
     "output_type": "execute_result"
    }
   ],
   "source": [
    "df[['X','Z']]"
   ]
  },
  {
   "cell_type": "code",
   "execution_count": 130,
   "metadata": {},
   "outputs": [
    {
     "data": {
      "text/html": [
       "<div>\n",
       "<style scoped>\n",
       "    .dataframe tbody tr th:only-of-type {\n",
       "        vertical-align: middle;\n",
       "    }\n",
       "\n",
       "    .dataframe tbody tr th {\n",
       "        vertical-align: top;\n",
       "    }\n",
       "\n",
       "    .dataframe thead th {\n",
       "        text-align: right;\n",
       "    }\n",
       "</style>\n",
       "<table border=\"1\" class=\"dataframe\">\n",
       "  <thead>\n",
       "    <tr style=\"text-align: right;\">\n",
       "      <th></th>\n",
       "      <th>X</th>\n",
       "      <th>Y</th>\n",
       "      <th>Z</th>\n",
       "      <th>W</th>\n",
       "    </tr>\n",
       "  </thead>\n",
       "  <tbody>\n",
       "    <tr>\n",
       "      <th>A</th>\n",
       "      <td>-0.395206</td>\n",
       "      <td>-0.024570</td>\n",
       "      <td>1.373567</td>\n",
       "      <td>0.1</td>\n",
       "    </tr>\n",
       "    <tr>\n",
       "      <th>B</th>\n",
       "      <td>0.849051</td>\n",
       "      <td>-0.278069</td>\n",
       "      <td>2.052038</td>\n",
       "      <td>0.2</td>\n",
       "    </tr>\n",
       "    <tr>\n",
       "      <th>C</th>\n",
       "      <td>-0.604493</td>\n",
       "      <td>-0.368296</td>\n",
       "      <td>-0.362035</td>\n",
       "      <td>0.3</td>\n",
       "    </tr>\n",
       "  </tbody>\n",
       "</table>\n",
       "</div>"
      ],
      "text/plain": [
       "          X         Y         Z    W\n",
       "A -0.395206 -0.024570  1.373567  0.1\n",
       "B  0.849051 -0.278069  2.052038  0.2\n",
       "C -0.604493 -0.368296 -0.362035  0.3"
      ]
     },
     "execution_count": 130,
     "metadata": {},
     "output_type": "execute_result"
    }
   ],
   "source": [
    "df['W'] = [0.1, 0.2, 0.3]\n",
    "df"
   ]
  },
  {
   "cell_type": "code",
   "execution_count": 131,
   "metadata": {},
   "outputs": [
    {
     "data": {
      "text/html": [
       "<div>\n",
       "<style scoped>\n",
       "    .dataframe tbody tr th:only-of-type {\n",
       "        vertical-align: middle;\n",
       "    }\n",
       "\n",
       "    .dataframe tbody tr th {\n",
       "        vertical-align: top;\n",
       "    }\n",
       "\n",
       "    .dataframe thead th {\n",
       "        text-align: right;\n",
       "    }\n",
       "</style>\n",
       "<table border=\"1\" class=\"dataframe\">\n",
       "  <thead>\n",
       "    <tr style=\"text-align: right;\">\n",
       "      <th></th>\n",
       "      <th>X</th>\n",
       "      <th>Y</th>\n",
       "      <th>Z</th>\n",
       "    </tr>\n",
       "  </thead>\n",
       "  <tbody>\n",
       "    <tr>\n",
       "      <th>A</th>\n",
       "      <td>-0.395206</td>\n",
       "      <td>-0.024570</td>\n",
       "      <td>1.373567</td>\n",
       "    </tr>\n",
       "    <tr>\n",
       "      <th>B</th>\n",
       "      <td>0.849051</td>\n",
       "      <td>-0.278069</td>\n",
       "      <td>2.052038</td>\n",
       "    </tr>\n",
       "    <tr>\n",
       "      <th>C</th>\n",
       "      <td>-0.604493</td>\n",
       "      <td>-0.368296</td>\n",
       "      <td>-0.362035</td>\n",
       "    </tr>\n",
       "  </tbody>\n",
       "</table>\n",
       "</div>"
      ],
      "text/plain": [
       "          X         Y         Z\n",
       "A -0.395206 -0.024570  1.373567\n",
       "B  0.849051 -0.278069  2.052038\n",
       "C -0.604493 -0.368296 -0.362035"
      ]
     },
     "execution_count": 131,
     "metadata": {},
     "output_type": "execute_result"
    }
   ],
   "source": [
    "df = df.drop(['W'], axis = 1)\n",
    "df"
   ]
  },
  {
   "cell_type": "markdown",
   "metadata": {},
   "source": [
    "## Row access"
   ]
  },
  {
   "cell_type": "code",
   "execution_count": 134,
   "metadata": {},
   "outputs": [
    {
     "data": {
      "text/html": [
       "<div>\n",
       "<style scoped>\n",
       "    .dataframe tbody tr th:only-of-type {\n",
       "        vertical-align: middle;\n",
       "    }\n",
       "\n",
       "    .dataframe tbody tr th {\n",
       "        vertical-align: top;\n",
       "    }\n",
       "\n",
       "    .dataframe thead th {\n",
       "        text-align: right;\n",
       "    }\n",
       "</style>\n",
       "<table border=\"1\" class=\"dataframe\">\n",
       "  <thead>\n",
       "    <tr style=\"text-align: right;\">\n",
       "      <th></th>\n",
       "      <th>X</th>\n",
       "      <th>Y</th>\n",
       "      <th>Z</th>\n",
       "    </tr>\n",
       "  </thead>\n",
       "  <tbody>\n",
       "    <tr>\n",
       "      <th>A</th>\n",
       "      <td>-0.395206</td>\n",
       "      <td>-0.024570</td>\n",
       "      <td>1.373567</td>\n",
       "    </tr>\n",
       "    <tr>\n",
       "      <th>B</th>\n",
       "      <td>0.849051</td>\n",
       "      <td>-0.278069</td>\n",
       "      <td>2.052038</td>\n",
       "    </tr>\n",
       "    <tr>\n",
       "      <th>C</th>\n",
       "      <td>-0.604493</td>\n",
       "      <td>-0.368296</td>\n",
       "      <td>-0.362035</td>\n",
       "    </tr>\n",
       "  </tbody>\n",
       "</table>\n",
       "</div>"
      ],
      "text/plain": [
       "          X         Y         Z\n",
       "A -0.395206 -0.024570  1.373567\n",
       "B  0.849051 -0.278069  2.052038\n",
       "C -0.604493 -0.368296 -0.362035"
      ]
     },
     "execution_count": 134,
     "metadata": {},
     "output_type": "execute_result"
    }
   ],
   "source": [
    "df"
   ]
  },
  {
   "cell_type": "code",
   "execution_count": 132,
   "metadata": {},
   "outputs": [
    {
     "data": {
      "text/plain": [
       "X   -0.395206\n",
       "Y   -0.024570\n",
       "Z    1.373567\n",
       "Name: A, dtype: float64"
      ]
     },
     "execution_count": 132,
     "metadata": {},
     "output_type": "execute_result"
    }
   ],
   "source": [
    "df.loc['A']"
   ]
  },
  {
   "cell_type": "code",
   "execution_count": 133,
   "metadata": {},
   "outputs": [
    {
     "data": {
      "text/plain": [
       "X   -0.395206\n",
       "Y   -0.024570\n",
       "Z    1.373567\n",
       "Name: A, dtype: float64"
      ]
     },
     "execution_count": 133,
     "metadata": {},
     "output_type": "execute_result"
    }
   ],
   "source": [
    "df.iloc[0]"
   ]
  },
  {
   "cell_type": "markdown",
   "metadata": {},
   "source": [
    "## Basic operations / useful functions"
   ]
  },
  {
   "cell_type": "code",
   "execution_count": 136,
   "metadata": {},
   "outputs": [
    {
     "data": {
      "text/html": [
       "<div>\n",
       "<style scoped>\n",
       "    .dataframe tbody tr th:only-of-type {\n",
       "        vertical-align: middle;\n",
       "    }\n",
       "\n",
       "    .dataframe tbody tr th {\n",
       "        vertical-align: top;\n",
       "    }\n",
       "\n",
       "    .dataframe thead th {\n",
       "        text-align: right;\n",
       "    }\n",
       "</style>\n",
       "<table border=\"1\" class=\"dataframe\">\n",
       "  <thead>\n",
       "    <tr style=\"text-align: right;\">\n",
       "      <th></th>\n",
       "      <th>X</th>\n",
       "      <th>Y</th>\n",
       "      <th>Z</th>\n",
       "    </tr>\n",
       "  </thead>\n",
       "  <tbody>\n",
       "    <tr>\n",
       "      <th>A</th>\n",
       "      <td>-0.395206</td>\n",
       "      <td>-0.024570</td>\n",
       "      <td>1.373567</td>\n",
       "    </tr>\n",
       "    <tr>\n",
       "      <th>B</th>\n",
       "      <td>0.849051</td>\n",
       "      <td>-0.278069</td>\n",
       "      <td>2.052038</td>\n",
       "    </tr>\n",
       "  </tbody>\n",
       "</table>\n",
       "</div>"
      ],
      "text/plain": [
       "          X         Y         Z\n",
       "A -0.395206 -0.024570  1.373567\n",
       "B  0.849051 -0.278069  2.052038"
      ]
     },
     "execution_count": 136,
     "metadata": {},
     "output_type": "execute_result"
    }
   ],
   "source": [
    "df.head(2)"
   ]
  },
  {
   "cell_type": "code",
   "execution_count": 137,
   "metadata": {},
   "outputs": [
    {
     "data": {
      "text/html": [
       "<div>\n",
       "<style scoped>\n",
       "    .dataframe tbody tr th:only-of-type {\n",
       "        vertical-align: middle;\n",
       "    }\n",
       "\n",
       "    .dataframe tbody tr th {\n",
       "        vertical-align: top;\n",
       "    }\n",
       "\n",
       "    .dataframe thead th {\n",
       "        text-align: right;\n",
       "    }\n",
       "</style>\n",
       "<table border=\"1\" class=\"dataframe\">\n",
       "  <thead>\n",
       "    <tr style=\"text-align: right;\">\n",
       "      <th></th>\n",
       "      <th>X</th>\n",
       "      <th>Y</th>\n",
       "      <th>Z</th>\n",
       "    </tr>\n",
       "  </thead>\n",
       "  <tbody>\n",
       "    <tr>\n",
       "      <th>B</th>\n",
       "      <td>0.849051</td>\n",
       "      <td>-0.278069</td>\n",
       "      <td>2.052038</td>\n",
       "    </tr>\n",
       "    <tr>\n",
       "      <th>C</th>\n",
       "      <td>-0.604493</td>\n",
       "      <td>-0.368296</td>\n",
       "      <td>-0.362035</td>\n",
       "    </tr>\n",
       "  </tbody>\n",
       "</table>\n",
       "</div>"
      ],
      "text/plain": [
       "          X         Y         Z\n",
       "B  0.849051 -0.278069  2.052038\n",
       "C -0.604493 -0.368296 -0.362035"
      ]
     },
     "execution_count": 137,
     "metadata": {},
     "output_type": "execute_result"
    }
   ],
   "source": [
    "df.tail(2)"
   ]
  },
  {
   "cell_type": "code",
   "execution_count": 135,
   "metadata": {},
   "outputs": [
    {
     "data": {
      "text/html": [
       "<div>\n",
       "<style scoped>\n",
       "    .dataframe tbody tr th:only-of-type {\n",
       "        vertical-align: middle;\n",
       "    }\n",
       "\n",
       "    .dataframe tbody tr th {\n",
       "        vertical-align: top;\n",
       "    }\n",
       "\n",
       "    .dataframe thead th {\n",
       "        text-align: right;\n",
       "    }\n",
       "</style>\n",
       "<table border=\"1\" class=\"dataframe\">\n",
       "  <thead>\n",
       "    <tr style=\"text-align: right;\">\n",
       "      <th></th>\n",
       "      <th>X</th>\n",
       "      <th>Y</th>\n",
       "      <th>Z</th>\n",
       "    </tr>\n",
       "  </thead>\n",
       "  <tbody>\n",
       "    <tr>\n",
       "      <th>count</th>\n",
       "      <td>3.000000</td>\n",
       "      <td>3.000000</td>\n",
       "      <td>3.000000</td>\n",
       "    </tr>\n",
       "    <tr>\n",
       "      <th>mean</th>\n",
       "      <td>-0.050216</td>\n",
       "      <td>-0.223645</td>\n",
       "      <td>1.021190</td>\n",
       "    </tr>\n",
       "    <tr>\n",
       "      <th>std</th>\n",
       "      <td>0.785787</td>\n",
       "      <td>0.178209</td>\n",
       "      <td>1.245015</td>\n",
       "    </tr>\n",
       "    <tr>\n",
       "      <th>min</th>\n",
       "      <td>-0.604493</td>\n",
       "      <td>-0.368296</td>\n",
       "      <td>-0.362035</td>\n",
       "    </tr>\n",
       "    <tr>\n",
       "      <th>25%</th>\n",
       "      <td>-0.499850</td>\n",
       "      <td>-0.323182</td>\n",
       "      <td>0.505766</td>\n",
       "    </tr>\n",
       "    <tr>\n",
       "      <th>50%</th>\n",
       "      <td>-0.395206</td>\n",
       "      <td>-0.278069</td>\n",
       "      <td>1.373567</td>\n",
       "    </tr>\n",
       "    <tr>\n",
       "      <th>75%</th>\n",
       "      <td>0.226923</td>\n",
       "      <td>-0.151319</td>\n",
       "      <td>1.712802</td>\n",
       "    </tr>\n",
       "    <tr>\n",
       "      <th>max</th>\n",
       "      <td>0.849051</td>\n",
       "      <td>-0.024570</td>\n",
       "      <td>2.052038</td>\n",
       "    </tr>\n",
       "  </tbody>\n",
       "</table>\n",
       "</div>"
      ],
      "text/plain": [
       "              X         Y         Z\n",
       "count  3.000000  3.000000  3.000000\n",
       "mean  -0.050216 -0.223645  1.021190\n",
       "std    0.785787  0.178209  1.245015\n",
       "min   -0.604493 -0.368296 -0.362035\n",
       "25%   -0.499850 -0.323182  0.505766\n",
       "50%   -0.395206 -0.278069  1.373567\n",
       "75%    0.226923 -0.151319  1.712802\n",
       "max    0.849051 -0.024570  2.052038"
      ]
     },
     "execution_count": 135,
     "metadata": {},
     "output_type": "execute_result"
    }
   ],
   "source": [
    "df.describe()"
   ]
  },
  {
   "cell_type": "code",
   "execution_count": 139,
   "metadata": {},
   "outputs": [
    {
     "name": "stdout",
     "output_type": "stream",
     "text": [
      "<class 'pandas.core.frame.DataFrame'>\n",
      "Index: 3 entries, A to C\n",
      "Data columns (total 3 columns):\n",
      " #   Column  Non-Null Count  Dtype  \n",
      "---  ------  --------------  -----  \n",
      " 0   X       3 non-null      float64\n",
      " 1   Y       3 non-null      float64\n",
      " 2   Z       3 non-null      float64\n",
      "dtypes: float64(3)\n",
      "memory usage: 204.0+ bytes\n"
     ]
    }
   ],
   "source": [
    "df.info()"
   ]
  },
  {
   "cell_type": "code",
   "execution_count": 141,
   "metadata": {},
   "outputs": [
    {
     "name": "stdout",
     "output_type": "stream",
     "text": [
      "3\n"
     ]
    }
   ],
   "source": [
    "print(df['X'].count())"
   ]
  },
  {
   "cell_type": "code",
   "execution_count": 143,
   "metadata": {},
   "outputs": [
    {
     "name": "stdout",
     "output_type": "stream",
     "text": [
      "-0.6044934476177519\n"
     ]
    }
   ],
   "source": [
    "print(df['X'].min())"
   ]
  },
  {
   "cell_type": "code",
   "execution_count": 144,
   "metadata": {},
   "outputs": [
    {
     "name": "stdout",
     "output_type": "stream",
     "text": [
      "0.8490510720788959\n"
     ]
    }
   ],
   "source": [
    "print(df['X'].max())"
   ]
  },
  {
   "cell_type": "code",
   "execution_count": 142,
   "metadata": {},
   "outputs": [
    {
     "name": "stdout",
     "output_type": "stream",
     "text": [
      "-0.05021608935481995\n"
     ]
    }
   ],
   "source": [
    "print(df['X'].mean())"
   ]
  },
  {
   "cell_type": "markdown",
   "metadata": {},
   "source": [
    "## DataFrames for CSVs / JSON"
   ]
  },
  {
   "cell_type": "markdown",
   "metadata": {},
   "source": [
    "\n",
    "If you find a csv online, you can import it via `read_csv`, however, be aware that the data needs to be in raw format (without the html/css/table structure)\n",
    "\n",
    "https://github.com/riteshc6/amazon_scraper/blob/master/downloads/Computers%20%26%20Accessories.csv\n",
    "\n",
    "https://raw.githubusercontent.com/riteshc6/amazon_scraper/master/downloads/Computers%20%26%20Accessories.csv"
   ]
  },
  {
   "cell_type": "code",
   "execution_count": 145,
   "metadata": {},
   "outputs": [],
   "source": [
    "url = \"https://raw.githubusercontent.com/riteshc6/amazon_scraper/master/downloads/Computers%20%26%20Accessories.csv\" \n",
    "\n",
    "df = pd.read_csv(url)"
   ]
  },
  {
   "cell_type": "code",
   "execution_count": 146,
   "metadata": {},
   "outputs": [
    {
     "data": {
      "text/html": [
       "<div>\n",
       "<style scoped>\n",
       "    .dataframe tbody tr th:only-of-type {\n",
       "        vertical-align: middle;\n",
       "    }\n",
       "\n",
       "    .dataframe tbody tr th {\n",
       "        vertical-align: top;\n",
       "    }\n",
       "\n",
       "    .dataframe thead th {\n",
       "        text-align: right;\n",
       "    }\n",
       "</style>\n",
       "<table border=\"1\" class=\"dataframe\">\n",
       "  <thead>\n",
       "    <tr style=\"text-align: right;\">\n",
       "      <th></th>\n",
       "      <th>Product</th>\n",
       "      <th>Price</th>\n",
       "      <th>Rating</th>\n",
       "      <th>No. of reviews</th>\n",
       "      <th>Link</th>\n",
       "    </tr>\n",
       "  </thead>\n",
       "  <tbody>\n",
       "    <tr>\n",
       "      <th>0</th>\n",
       "      <td>Mi Band 3 (Black)</td>\n",
       "      <td>1,999.00</td>\n",
       "      <td>4.1 out of 5 stars</td>\n",
       "      <td>14,837</td>\n",
       "      <td>https://www.amazon.in//Mi-XMSH05HM-Band-3-Blac...</td>\n",
       "    </tr>\n",
       "    <tr>\n",
       "      <th>1</th>\n",
       "      <td>Mi Band - HRX Edition (Black)</td>\n",
       "      <td>999.00</td>\n",
       "      <td>3.9 out of 5 stars</td>\n",
       "      <td>8,667</td>\n",
       "      <td>https://www.amazon.in//Mi-Band-HRX-Edition-Bla...</td>\n",
       "    </tr>\n",
       "    <tr>\n",
       "      <th>2</th>\n",
       "      <td>SanDisk Ultra Dual 32GB USB 3.0 OTG Pen Drive</td>\n",
       "      <td>549.00</td>\n",
       "      <td>4.2 out of 5 stars</td>\n",
       "      <td>14,268</td>\n",
       "      <td>https://www.amazon.in//SanDisk-Ultra-Dual-32GB...</td>\n",
       "    </tr>\n",
       "    <tr>\n",
       "      <th>3</th>\n",
       "      <td>SanDisk Cruzer Blade 32GB USB Flash Drive</td>\n",
       "      <td>399.00</td>\n",
       "      <td>4.2 out of 5 stars</td>\n",
       "      <td>37,951</td>\n",
       "      <td>https://www.amazon.in//SanDisk-Cruzer-Blade-Fl...</td>\n",
       "    </tr>\n",
       "    <tr>\n",
       "      <th>4</th>\n",
       "      <td>SanDisk 32GB Class 10 Micro SDHC Memory Card w...</td>\n",
       "      <td>449.00</td>\n",
       "      <td>4.4 out of 5 stars</td>\n",
       "      <td>8,459</td>\n",
       "      <td>https://www.amazon.in//SanDisk-Class-Memory-Ad...</td>\n",
       "    </tr>\n",
       "    <tr>\n",
       "      <th>5</th>\n",
       "      <td>Honor Band 4 (Black)</td>\n",
       "      <td>2,599.00</td>\n",
       "      <td>4.4 out of 5 stars</td>\n",
       "      <td>3,017</td>\n",
       "      <td>https://www.amazon.in//Honor-Crius-B19-Band-4-...</td>\n",
       "    </tr>\n",
       "    <tr>\n",
       "      <th>6</th>\n",
       "      <td>SanDisk Ultra Dual 32GB USB 3.0 OTG Pen Drive ...</td>\n",
       "      <td>549.00</td>\n",
       "      <td>4.2 out of 5 stars</td>\n",
       "      <td>2,718</td>\n",
       "      <td>https://www.amazon.in//SanDisk-Ultra-Dual-32GB...</td>\n",
       "    </tr>\n",
       "    <tr>\n",
       "      <th>7</th>\n",
       "      <td>Mi Body Composition Scale (White)</td>\n",
       "      <td>1,499.00</td>\n",
       "      <td>4.1 out of 5 stars</td>\n",
       "      <td>628</td>\n",
       "      <td>https://www.amazon.in//Mi-Body-Composition-Sca...</td>\n",
       "    </tr>\n",
       "    <tr>\n",
       "      <th>8</th>\n",
       "      <td>SanDisk Cruzer Blade SDCZ50-016G-135 16GB USB ...</td>\n",
       "      <td>279.00</td>\n",
       "      <td>4.2 out of 5 stars</td>\n",
       "      <td>37,951</td>\n",
       "      <td>https://www.amazon.in//SanDisk-Cruzer-Blade-SD...</td>\n",
       "    </tr>\n",
       "    <tr>\n",
       "      <th>9</th>\n",
       "      <td>SanDisk 64GB Class 10 microSDXC Memory Card wi...</td>\n",
       "      <td>899.00</td>\n",
       "      <td>4.4 out of 5 stars</td>\n",
       "      <td>8,459</td>\n",
       "      <td>https://www.amazon.in//SanDisk-microSDXC-Memor...</td>\n",
       "    </tr>\n",
       "    <tr>\n",
       "      <th>10</th>\n",
       "      <td>Samsung EVO Plus Grade 1, Class 10 32GB MicroS...</td>\n",
       "      <td>448.00</td>\n",
       "      <td>4.4 out of 5 stars</td>\n",
       "      <td>7,542</td>\n",
       "      <td>https://www.amazon.in//Samsung-MicroSDHC-Memor...</td>\n",
       "    </tr>\n",
       "    <tr>\n",
       "      <th>11</th>\n",
       "      <td>JioFi 4G Hotspot M2S 150 Mbps Jio 4G Portable ...</td>\n",
       "      <td>999.00</td>\n",
       "      <td>3.9 out of 5 stars</td>\n",
       "      <td>7,457</td>\n",
       "      <td>https://www.amazon.in//JioFi-Hotspot-M2S-Porta...</td>\n",
       "    </tr>\n",
       "    <tr>\n",
       "      <th>12</th>\n",
       "      <td>SanDisk Cruzer Blade 64GB USB 2.0 Flash Drive</td>\n",
       "      <td>710.00</td>\n",
       "      <td>4.1 out of 5 stars</td>\n",
       "      <td>1,026</td>\n",
       "      <td>https://www.amazon.in//SanDisk-Cruzer-Blade-Fl...</td>\n",
       "    </tr>\n",
       "    <tr>\n",
       "      <th>13</th>\n",
       "      <td>Sandisk U1  A1 98Mbps 16GB Ultra MicroSDHC (Mi...</td>\n",
       "      <td>299.00</td>\n",
       "      <td>4.4 out of 5 stars</td>\n",
       "      <td>8,459</td>\n",
       "      <td>https://www.amazon.in//SanDisk-Ultra-microSD-A...</td>\n",
       "    </tr>\n",
       "    <tr>\n",
       "      <th>14</th>\n",
       "      <td>Logitech M235 Wireless Mouse for Windows and M...</td>\n",
       "      <td>699.00</td>\n",
       "      <td>4.4 out of 5 stars</td>\n",
       "      <td>10,643</td>\n",
       "      <td>https://www.amazon.in//Logitech-M235-Wireless-...</td>\n",
       "    </tr>\n",
       "    <tr>\n",
       "      <th>15</th>\n",
       "      <td>SanDisk Ultra Dual 64GB USB 3.0 OTG Pen Drive</td>\n",
       "      <td>999.00</td>\n",
       "      <td>4.2 out of 5 stars</td>\n",
       "      <td>14,268</td>\n",
       "      <td>https://www.amazon.in//SanDisk-Ultra-Dual-64GB...</td>\n",
       "    </tr>\n",
       "    <tr>\n",
       "      <th>16</th>\n",
       "      <td>Samsung EVO Plus Grade 3, Class 10 64GB MicroS...</td>\n",
       "      <td>869.00</td>\n",
       "      <td>4.4 out of 5 stars</td>\n",
       "      <td>2,877</td>\n",
       "      <td>https://www.amazon.in//Samsung-MicroSDXC-Memor...</td>\n",
       "    </tr>\n",
       "    <tr>\n",
       "      <th>17</th>\n",
       "      <td>HP X4E78AA 680 Combo-Pack Black &amp; Tri-Color In...</td>\n",
       "      <td>1,150.00</td>\n",
       "      <td>3.8 out of 5 stars</td>\n",
       "      <td>2,207</td>\n",
       "      <td>https://www.amazon.in//HP-X4E78AA-Combo-Pack-T...</td>\n",
       "    </tr>\n",
       "    <tr>\n",
       "      <th>18</th>\n",
       "      <td>HP X1000 Wired Mouse (Black/Grey)</td>\n",
       "      <td>289.00</td>\n",
       "      <td>4.2 out of 5 stars</td>\n",
       "      <td>5,520</td>\n",
       "      <td>https://www.amazon.in//HP-X1000-Wired-Mouse-Bl...</td>\n",
       "    </tr>\n",
       "    <tr>\n",
       "      <th>19</th>\n",
       "      <td>Dell MS116 1000DPI USB Wired Optical Mouse</td>\n",
       "      <td>258.00</td>\n",
       "      <td>4.2 out of 5 stars</td>\n",
       "      <td>737</td>\n",
       "      <td>https://www.amazon.in//Dell-MS116-1000DPI-Wire...</td>\n",
       "    </tr>\n",
       "    <tr>\n",
       "      <th>20</th>\n",
       "      <td>TP-Link TL-WN725N 150Mbps Wireless N Nano USB ...</td>\n",
       "      <td>449.00</td>\n",
       "      <td>4.2 out of 5 stars</td>\n",
       "      <td>10,129</td>\n",
       "      <td>https://www.amazon.in//TP-Link-TL-WN725N-150Mb...</td>\n",
       "    </tr>\n",
       "    <tr>\n",
       "      <th>21</th>\n",
       "      <td>Kingston DataTraveler 16GB USB 3.0 Flash Drive...</td>\n",
       "      <td>249.00</td>\n",
       "      <td>4.1 out of 5 stars</td>\n",
       "      <td>752</td>\n",
       "      <td>https://www.amazon.in//Kingston-DataTraveler-F...</td>\n",
       "    </tr>\n",
       "    <tr>\n",
       "      <th>22</th>\n",
       "      <td>K3 PUBG Mobile Game Controller, Gamers Yard 1 ...</td>\n",
       "      <td>79.00</td>\n",
       "      <td>2.7 out of 5 stars</td>\n",
       "      <td>73</td>\n",
       "      <td>https://www.amazon.in//Controller-Sensitive-Tr...</td>\n",
       "    </tr>\n",
       "    <tr>\n",
       "      <th>23</th>\n",
       "      <td>Seagate Expansion 1.5TB USB 3.0 Portable 2.5 I...</td>\n",
       "      <td>4,199.00</td>\n",
       "      <td>4.1 out of 5 stars</td>\n",
       "      <td>2,993</td>\n",
       "      <td>https://www.amazon.in//Seagate-Expansion-Porta...</td>\n",
       "    </tr>\n",
       "    <tr>\n",
       "      <th>24</th>\n",
       "      <td>SanDisk Ultra Dual 16GB USB 3.0 OTG Pen Drive</td>\n",
       "      <td>399.00</td>\n",
       "      <td>4.2 out of 5 stars</td>\n",
       "      <td>14,268</td>\n",
       "      <td>https://www.amazon.in//SanDisk-Ultra-Dual-16GB...</td>\n",
       "    </tr>\n",
       "    <tr>\n",
       "      <th>25</th>\n",
       "      <td>Strontium Ammo 32GB 2.0 USB Pen Drive (Silver)</td>\n",
       "      <td>379.00</td>\n",
       "      <td>4.3 out of 5 stars</td>\n",
       "      <td>1,411</td>\n",
       "      <td>https://www.amazon.in//Strontium-Ammo-32GB-Dri...</td>\n",
       "    </tr>\n",
       "    <tr>\n",
       "      <th>26</th>\n",
       "      <td>Terabyte HDMI to VGA Converter Adapter Cable (...</td>\n",
       "      <td>245.00</td>\n",
       "      <td>3.4 out of 5 stars</td>\n",
       "      <td>1,553</td>\n",
       "      <td>https://www.amazon.in//Terabyte-Converter-Adap...</td>\n",
       "    </tr>\n",
       "    <tr>\n",
       "      <th>27</th>\n",
       "      <td>HP FD236W 32GB USB 2.0 Pen Drive (Gray)</td>\n",
       "      <td>429.00</td>\n",
       "      <td>4.0 out of 5 stars</td>\n",
       "      <td>447</td>\n",
       "      <td>https://www.amazon.in//HP-FD236W-32GB-Drive-Gr...</td>\n",
       "    </tr>\n",
       "    <tr>\n",
       "      <th>28</th>\n",
       "      <td>TP-Link TL-WR841N 300Mbps Wireless-N Router (N...</td>\n",
       "      <td>999.00</td>\n",
       "      <td>4.0 out of 5 stars</td>\n",
       "      <td>15,715</td>\n",
       "      <td>https://www.amazon.in//TP-Link-TL-WR841N-300Mb...</td>\n",
       "    </tr>\n",
       "    <tr>\n",
       "      <th>29</th>\n",
       "      <td>SanDisk 32GB Class 4 microSDHC Flash Memory Card</td>\n",
       "      <td>359.00</td>\n",
       "      <td>3.4 out of 5 stars</td>\n",
       "      <td>395</td>\n",
       "      <td>https://www.amazon.in//SanDisk-Class-microSDHC...</td>\n",
       "    </tr>\n",
       "    <tr>\n",
       "      <th>30</th>\n",
       "      <td>Logitech B170 Wireless Mouse (Black)</td>\n",
       "      <td>599.00</td>\n",
       "      <td>4.2 out of 5 stars</td>\n",
       "      <td>2,914</td>\n",
       "      <td>https://www.amazon.in//Logitech-B170-Wireless-...</td>\n",
       "    </tr>\n",
       "    <tr>\n",
       "      <th>31</th>\n",
       "      <td>SanDisk 128GB Class 10 microSDXC Memory Card w...</td>\n",
       "      <td>1,749.00</td>\n",
       "      <td>4.4 out of 5 stars</td>\n",
       "      <td>8,459</td>\n",
       "      <td>https://www.amazon.in//SanDisk-microSDXC-Memor...</td>\n",
       "    </tr>\n",
       "    <tr>\n",
       "      <th>32</th>\n",
       "      <td>D-Link DIR-615 Wireless-N300 Router (Black, No...</td>\n",
       "      <td>999.00</td>\n",
       "      <td>3.9 out of 5 stars</td>\n",
       "      <td>2,339</td>\n",
       "      <td>https://www.amazon.in//D-Link-DIR-615-Wireless...</td>\n",
       "    </tr>\n",
       "    <tr>\n",
       "      <th>33</th>\n",
       "      <td>HP 678 L0S24AA Combo-Pack Ink Advantage Cartri...</td>\n",
       "      <td>1,233.00</td>\n",
       "      <td>3.7 out of 5 stars</td>\n",
       "      <td>3,798</td>\n",
       "      <td>https://www.amazon.in//HP-L0S24AA-Combo-Pack-A...</td>\n",
       "    </tr>\n",
       "    <tr>\n",
       "      <th>34</th>\n",
       "      <td>Zebronics Km2100 Multimedia, USB Keyboard</td>\n",
       "      <td>250.00</td>\n",
       "      <td>3.6 out of 5 stars</td>\n",
       "      <td>312</td>\n",
       "      <td>https://www.amazon.in//Zebronics-Km2100-Multim...</td>\n",
       "    </tr>\n",
       "    <tr>\n",
       "      <th>35</th>\n",
       "      <td>SanDisk Ultra Dual 64GB USB 3.0 OTG Pen Drive ...</td>\n",
       "      <td>999.00</td>\n",
       "      <td>4.2 out of 5 stars</td>\n",
       "      <td>2,718</td>\n",
       "      <td>https://www.amazon.in//SanDisk-Ultra-Dual-64GB...</td>\n",
       "    </tr>\n",
       "    <tr>\n",
       "      <th>36</th>\n",
       "      <td>Western Digital WDS240G2G0A 240GB SATA III 6GB...</td>\n",
       "      <td>2,581.00</td>\n",
       "      <td>4.6 out of 5 stars</td>\n",
       "      <td>328</td>\n",
       "      <td>https://www.amazon.in//Western-Digital-WDS240G...</td>\n",
       "    </tr>\n",
       "    <tr>\n",
       "      <th>37</th>\n",
       "      <td>HP 16GB Class 10 MicroSD Memory Card (U1 TF Ca...</td>\n",
       "      <td>249.00</td>\n",
       "      <td>4.2 out of 5 stars</td>\n",
       "      <td>738</td>\n",
       "      <td>https://www.amazon.in//HP-MicroSD-U1-TF-Card-1...</td>\n",
       "    </tr>\n",
       "    <tr>\n",
       "      <th>38</th>\n",
       "      <td>HP 32GB Class 10 MicroSD Memory Card (U1 TF Ca...</td>\n",
       "      <td>309.00</td>\n",
       "      <td>4.2 out of 5 stars</td>\n",
       "      <td>738</td>\n",
       "      <td>https://www.amazon.in//HP-MicroSD-U1-TF-Card-3...</td>\n",
       "    </tr>\n",
       "    <tr>\n",
       "      <th>39</th>\n",
       "      <td>TP-Link Archer C20 AC750 Wireless Dual Band Ro...</td>\n",
       "      <td>1,499.00</td>\n",
       "      <td>3.9 out of 5 stars</td>\n",
       "      <td>1,869</td>\n",
       "      <td>https://www.amazon.in//TP-Link-Archer-C20-Wire...</td>\n",
       "    </tr>\n",
       "    <tr>\n",
       "      <th>40</th>\n",
       "      <td>WD Elements 1.5 TB Portable External Hard Driv...</td>\n",
       "      <td>4,099.00</td>\n",
       "      <td>4.3 out of 5 stars</td>\n",
       "      <td>702</td>\n",
       "      <td>https://www.amazon.in//Elements-Portable-Exter...</td>\n",
       "    </tr>\n",
       "    <tr>\n",
       "      <th>41</th>\n",
       "      <td>HP 680 Ink Advantage Cartridge (Black)</td>\n",
       "      <td>717.00</td>\n",
       "      <td>3.8 out of 5 stars</td>\n",
       "      <td>2,207</td>\n",
       "      <td>https://www.amazon.in//HP-Original-Advantage-C...</td>\n",
       "    </tr>\n",
       "    <tr>\n",
       "      <th>42</th>\n",
       "      <td>Sony Microvault 32GB USB Drive (Black)</td>\n",
       "      <td>429.00</td>\n",
       "      <td>3.5 out of 5 stars</td>\n",
       "      <td>2,049</td>\n",
       "      <td>https://www.amazon.in//Sony-Microvault-32GB-Dr...</td>\n",
       "    </tr>\n",
       "    <tr>\n",
       "      <th>43</th>\n",
       "      <td>Seagate 2TB Backup Plus Slim (Black) USB 3.0 E...</td>\n",
       "      <td>5,499.00</td>\n",
       "      <td>4.0 out of 5 stars</td>\n",
       "      <td>19,928</td>\n",
       "      <td>https://www.amazon.in//Seagate-Photography-Kas...</td>\n",
       "    </tr>\n",
       "    <tr>\n",
       "      <th>44</th>\n",
       "      <td>Quantum QHM8810 Keyboard with Mouse (Black)</td>\n",
       "      <td>299.00</td>\n",
       "      <td>3.5 out of 5 stars</td>\n",
       "      <td>269</td>\n",
       "      <td>https://www.amazon.in//Quantum-QHM8810-Keyboar...</td>\n",
       "    </tr>\n",
       "    <tr>\n",
       "      <th>45</th>\n",
       "      <td>RPM Euro Games PUBG Trigger R11 Mobile Gaming ...</td>\n",
       "      <td>319.00</td>\n",
       "      <td>3.8 out of 5 stars</td>\n",
       "      <td>352</td>\n",
       "      <td>https://www.amazon.in//RPM-Euro-Games-Trigger-...</td>\n",
       "    </tr>\n",
       "    <tr>\n",
       "      <th>46</th>\n",
       "      <td>HP x740w 32 GB USB 3.0 Flash Drive (Gray)</td>\n",
       "      <td>579.00</td>\n",
       "      <td>4.4 out of 5 stars</td>\n",
       "      <td>345</td>\n",
       "      <td>https://www.amazon.in//HP-x740w-Flash-Drive-Gr...</td>\n",
       "    </tr>\n",
       "    <tr>\n",
       "      <th>47</th>\n",
       "      <td>Dell KB216 Wired Multimedia USB Keyboard</td>\n",
       "      <td>569.00</td>\n",
       "      <td>4.4 out of 5 stars</td>\n",
       "      <td>1,877</td>\n",
       "      <td>https://www.amazon.in//Dell-KB216-Wired-Multim...</td>\n",
       "    </tr>\n",
       "    <tr>\n",
       "      <th>48</th>\n",
       "      <td>HP usb X500 Wired Optical Sensor Mouse 3 Butto...</td>\n",
       "      <td>345.00</td>\n",
       "      <td>4.5 out of 5 stars</td>\n",
       "      <td>1,041</td>\n",
       "      <td>https://www.amazon.in//HP-Optical-Buttons-wind...</td>\n",
       "    </tr>\n",
       "    <tr>\n",
       "      <th>49</th>\n",
       "      <td>TP-Link TL-WA850RE 300Mbps Universal Wi-Fi Ran...</td>\n",
       "      <td>1,399.00</td>\n",
       "      <td>4.1 out of 5 stars</td>\n",
       "      <td>4,478</td>\n",
       "      <td>https://www.amazon.in//TP-Link-TL-WA850RE-300M...</td>\n",
       "    </tr>\n",
       "  </tbody>\n",
       "</table>\n",
       "</div>"
      ],
      "text/plain": [
       "                                              Product     Price  \\\n",
       "0                                   Mi Band 3 (Black)  1,999.00   \n",
       "1                       Mi Band - HRX Edition (Black)    999.00   \n",
       "2       SanDisk Ultra Dual 32GB USB 3.0 OTG Pen Drive    549.00   \n",
       "3           SanDisk Cruzer Blade 32GB USB Flash Drive    399.00   \n",
       "4   SanDisk 32GB Class 10 Micro SDHC Memory Card w...    449.00   \n",
       "5                                Honor Band 4 (Black)  2,599.00   \n",
       "6   SanDisk Ultra Dual 32GB USB 3.0 OTG Pen Drive ...    549.00   \n",
       "7                   Mi Body Composition Scale (White)  1,499.00   \n",
       "8   SanDisk Cruzer Blade SDCZ50-016G-135 16GB USB ...    279.00   \n",
       "9   SanDisk 64GB Class 10 microSDXC Memory Card wi...    899.00   \n",
       "10  Samsung EVO Plus Grade 1, Class 10 32GB MicroS...    448.00   \n",
       "11  JioFi 4G Hotspot M2S 150 Mbps Jio 4G Portable ...    999.00   \n",
       "12      SanDisk Cruzer Blade 64GB USB 2.0 Flash Drive    710.00   \n",
       "13  Sandisk U1  A1 98Mbps 16GB Ultra MicroSDHC (Mi...    299.00   \n",
       "14  Logitech M235 Wireless Mouse for Windows and M...    699.00   \n",
       "15      SanDisk Ultra Dual 64GB USB 3.0 OTG Pen Drive    999.00   \n",
       "16  Samsung EVO Plus Grade 3, Class 10 64GB MicroS...    869.00   \n",
       "17  HP X4E78AA 680 Combo-Pack Black & Tri-Color In...  1,150.00   \n",
       "18                  HP X1000 Wired Mouse (Black/Grey)    289.00   \n",
       "19         Dell MS116 1000DPI USB Wired Optical Mouse    258.00   \n",
       "20  TP-Link TL-WN725N 150Mbps Wireless N Nano USB ...    449.00   \n",
       "21  Kingston DataTraveler 16GB USB 3.0 Flash Drive...    249.00   \n",
       "22  K3 PUBG Mobile Game Controller, Gamers Yard 1 ...     79.00   \n",
       "23  Seagate Expansion 1.5TB USB 3.0 Portable 2.5 I...  4,199.00   \n",
       "24      SanDisk Ultra Dual 16GB USB 3.0 OTG Pen Drive    399.00   \n",
       "25     Strontium Ammo 32GB 2.0 USB Pen Drive (Silver)    379.00   \n",
       "26  Terabyte HDMI to VGA Converter Adapter Cable (...    245.00   \n",
       "27            HP FD236W 32GB USB 2.0 Pen Drive (Gray)    429.00   \n",
       "28  TP-Link TL-WR841N 300Mbps Wireless-N Router (N...    999.00   \n",
       "29   SanDisk 32GB Class 4 microSDHC Flash Memory Card    359.00   \n",
       "30               Logitech B170 Wireless Mouse (Black)    599.00   \n",
       "31  SanDisk 128GB Class 10 microSDXC Memory Card w...  1,749.00   \n",
       "32  D-Link DIR-615 Wireless-N300 Router (Black, No...    999.00   \n",
       "33  HP 678 L0S24AA Combo-Pack Ink Advantage Cartri...  1,233.00   \n",
       "34          Zebronics Km2100 Multimedia, USB Keyboard    250.00   \n",
       "35  SanDisk Ultra Dual 64GB USB 3.0 OTG Pen Drive ...    999.00   \n",
       "36  Western Digital WDS240G2G0A 240GB SATA III 6GB...  2,581.00   \n",
       "37  HP 16GB Class 10 MicroSD Memory Card (U1 TF Ca...    249.00   \n",
       "38  HP 32GB Class 10 MicroSD Memory Card (U1 TF Ca...    309.00   \n",
       "39  TP-Link Archer C20 AC750 Wireless Dual Band Ro...  1,499.00   \n",
       "40  WD Elements 1.5 TB Portable External Hard Driv...  4,099.00   \n",
       "41             HP 680 Ink Advantage Cartridge (Black)    717.00   \n",
       "42             Sony Microvault 32GB USB Drive (Black)    429.00   \n",
       "43  Seagate 2TB Backup Plus Slim (Black) USB 3.0 E...  5,499.00   \n",
       "44        Quantum QHM8810 Keyboard with Mouse (Black)    299.00   \n",
       "45  RPM Euro Games PUBG Trigger R11 Mobile Gaming ...    319.00   \n",
       "46          HP x740w 32 GB USB 3.0 Flash Drive (Gray)    579.00   \n",
       "47           Dell KB216 Wired Multimedia USB Keyboard    569.00   \n",
       "48  HP usb X500 Wired Optical Sensor Mouse 3 Butto...    345.00   \n",
       "49  TP-Link TL-WA850RE 300Mbps Universal Wi-Fi Ran...  1,399.00   \n",
       "\n",
       "                Rating No. of reviews  \\\n",
       "0   4.1 out of 5 stars         14,837   \n",
       "1   3.9 out of 5 stars          8,667   \n",
       "2   4.2 out of 5 stars         14,268   \n",
       "3   4.2 out of 5 stars         37,951   \n",
       "4   4.4 out of 5 stars          8,459   \n",
       "5   4.4 out of 5 stars          3,017   \n",
       "6   4.2 out of 5 stars          2,718   \n",
       "7   4.1 out of 5 stars            628   \n",
       "8   4.2 out of 5 stars         37,951   \n",
       "9   4.4 out of 5 stars          8,459   \n",
       "10  4.4 out of 5 stars          7,542   \n",
       "11  3.9 out of 5 stars          7,457   \n",
       "12  4.1 out of 5 stars          1,026   \n",
       "13  4.4 out of 5 stars          8,459   \n",
       "14  4.4 out of 5 stars         10,643   \n",
       "15  4.2 out of 5 stars         14,268   \n",
       "16  4.4 out of 5 stars          2,877   \n",
       "17  3.8 out of 5 stars          2,207   \n",
       "18  4.2 out of 5 stars          5,520   \n",
       "19  4.2 out of 5 stars            737   \n",
       "20  4.2 out of 5 stars         10,129   \n",
       "21  4.1 out of 5 stars            752   \n",
       "22  2.7 out of 5 stars             73   \n",
       "23  4.1 out of 5 stars          2,993   \n",
       "24  4.2 out of 5 stars         14,268   \n",
       "25  4.3 out of 5 stars          1,411   \n",
       "26  3.4 out of 5 stars          1,553   \n",
       "27  4.0 out of 5 stars            447   \n",
       "28  4.0 out of 5 stars         15,715   \n",
       "29  3.4 out of 5 stars            395   \n",
       "30  4.2 out of 5 stars          2,914   \n",
       "31  4.4 out of 5 stars          8,459   \n",
       "32  3.9 out of 5 stars          2,339   \n",
       "33  3.7 out of 5 stars          3,798   \n",
       "34  3.6 out of 5 stars            312   \n",
       "35  4.2 out of 5 stars          2,718   \n",
       "36  4.6 out of 5 stars            328   \n",
       "37  4.2 out of 5 stars            738   \n",
       "38  4.2 out of 5 stars            738   \n",
       "39  3.9 out of 5 stars          1,869   \n",
       "40  4.3 out of 5 stars            702   \n",
       "41  3.8 out of 5 stars          2,207   \n",
       "42  3.5 out of 5 stars          2,049   \n",
       "43  4.0 out of 5 stars         19,928   \n",
       "44  3.5 out of 5 stars            269   \n",
       "45  3.8 out of 5 stars            352   \n",
       "46  4.4 out of 5 stars            345   \n",
       "47  4.4 out of 5 stars          1,877   \n",
       "48  4.5 out of 5 stars          1,041   \n",
       "49  4.1 out of 5 stars          4,478   \n",
       "\n",
       "                                                 Link  \n",
       "0   https://www.amazon.in//Mi-XMSH05HM-Band-3-Blac...  \n",
       "1   https://www.amazon.in//Mi-Band-HRX-Edition-Bla...  \n",
       "2   https://www.amazon.in//SanDisk-Ultra-Dual-32GB...  \n",
       "3   https://www.amazon.in//SanDisk-Cruzer-Blade-Fl...  \n",
       "4   https://www.amazon.in//SanDisk-Class-Memory-Ad...  \n",
       "5   https://www.amazon.in//Honor-Crius-B19-Band-4-...  \n",
       "6   https://www.amazon.in//SanDisk-Ultra-Dual-32GB...  \n",
       "7   https://www.amazon.in//Mi-Body-Composition-Sca...  \n",
       "8   https://www.amazon.in//SanDisk-Cruzer-Blade-SD...  \n",
       "9   https://www.amazon.in//SanDisk-microSDXC-Memor...  \n",
       "10  https://www.amazon.in//Samsung-MicroSDHC-Memor...  \n",
       "11  https://www.amazon.in//JioFi-Hotspot-M2S-Porta...  \n",
       "12  https://www.amazon.in//SanDisk-Cruzer-Blade-Fl...  \n",
       "13  https://www.amazon.in//SanDisk-Ultra-microSD-A...  \n",
       "14  https://www.amazon.in//Logitech-M235-Wireless-...  \n",
       "15  https://www.amazon.in//SanDisk-Ultra-Dual-64GB...  \n",
       "16  https://www.amazon.in//Samsung-MicroSDXC-Memor...  \n",
       "17  https://www.amazon.in//HP-X4E78AA-Combo-Pack-T...  \n",
       "18  https://www.amazon.in//HP-X1000-Wired-Mouse-Bl...  \n",
       "19  https://www.amazon.in//Dell-MS116-1000DPI-Wire...  \n",
       "20  https://www.amazon.in//TP-Link-TL-WN725N-150Mb...  \n",
       "21  https://www.amazon.in//Kingston-DataTraveler-F...  \n",
       "22  https://www.amazon.in//Controller-Sensitive-Tr...  \n",
       "23  https://www.amazon.in//Seagate-Expansion-Porta...  \n",
       "24  https://www.amazon.in//SanDisk-Ultra-Dual-16GB...  \n",
       "25  https://www.amazon.in//Strontium-Ammo-32GB-Dri...  \n",
       "26  https://www.amazon.in//Terabyte-Converter-Adap...  \n",
       "27  https://www.amazon.in//HP-FD236W-32GB-Drive-Gr...  \n",
       "28  https://www.amazon.in//TP-Link-TL-WR841N-300Mb...  \n",
       "29  https://www.amazon.in//SanDisk-Class-microSDHC...  \n",
       "30  https://www.amazon.in//Logitech-B170-Wireless-...  \n",
       "31  https://www.amazon.in//SanDisk-microSDXC-Memor...  \n",
       "32  https://www.amazon.in//D-Link-DIR-615-Wireless...  \n",
       "33  https://www.amazon.in//HP-L0S24AA-Combo-Pack-A...  \n",
       "34  https://www.amazon.in//Zebronics-Km2100-Multim...  \n",
       "35  https://www.amazon.in//SanDisk-Ultra-Dual-64GB...  \n",
       "36  https://www.amazon.in//Western-Digital-WDS240G...  \n",
       "37  https://www.amazon.in//HP-MicroSD-U1-TF-Card-1...  \n",
       "38  https://www.amazon.in//HP-MicroSD-U1-TF-Card-3...  \n",
       "39  https://www.amazon.in//TP-Link-Archer-C20-Wire...  \n",
       "40  https://www.amazon.in//Elements-Portable-Exter...  \n",
       "41  https://www.amazon.in//HP-Original-Advantage-C...  \n",
       "42  https://www.amazon.in//Sony-Microvault-32GB-Dr...  \n",
       "43  https://www.amazon.in//Seagate-Photography-Kas...  \n",
       "44  https://www.amazon.in//Quantum-QHM8810-Keyboar...  \n",
       "45  https://www.amazon.in//RPM-Euro-Games-Trigger-...  \n",
       "46  https://www.amazon.in//HP-x740w-Flash-Drive-Gr...  \n",
       "47  https://www.amazon.in//Dell-KB216-Wired-Multim...  \n",
       "48  https://www.amazon.in//HP-Optical-Buttons-wind...  \n",
       "49  https://www.amazon.in//TP-Link-TL-WA850RE-300M...  "
      ]
     },
     "execution_count": 146,
     "metadata": {},
     "output_type": "execute_result"
    }
   ],
   "source": [
    "df"
   ]
  },
  {
   "cell_type": "code",
   "execution_count": 61,
   "metadata": {},
   "outputs": [
    {
     "data": {
      "text/html": [
       "<div>\n",
       "<style scoped>\n",
       "    .dataframe tbody tr th:only-of-type {\n",
       "        vertical-align: middle;\n",
       "    }\n",
       "\n",
       "    .dataframe tbody tr th {\n",
       "        vertical-align: top;\n",
       "    }\n",
       "\n",
       "    .dataframe thead th {\n",
       "        text-align: right;\n",
       "    }\n",
       "</style>\n",
       "<table border=\"1\" class=\"dataframe\">\n",
       "  <thead>\n",
       "    <tr style=\"text-align: right;\">\n",
       "      <th></th>\n",
       "      <th>Product</th>\n",
       "      <th>Price</th>\n",
       "      <th>Rating</th>\n",
       "      <th>No. of reviews</th>\n",
       "      <th>Link</th>\n",
       "    </tr>\n",
       "  </thead>\n",
       "  <tbody>\n",
       "    <tr>\n",
       "      <th>0</th>\n",
       "      <td>Mi Band 3 (Black)</td>\n",
       "      <td>1,999.00</td>\n",
       "      <td>4.1 out of 5 stars</td>\n",
       "      <td>14,837</td>\n",
       "      <td>https://www.amazon.in//Mi-XMSH05HM-Band-3-Blac...</td>\n",
       "    </tr>\n",
       "    <tr>\n",
       "      <th>1</th>\n",
       "      <td>Mi Band - HRX Edition (Black)</td>\n",
       "      <td>999.00</td>\n",
       "      <td>3.9 out of 5 stars</td>\n",
       "      <td>8,667</td>\n",
       "      <td>https://www.amazon.in//Mi-Band-HRX-Edition-Bla...</td>\n",
       "    </tr>\n",
       "    <tr>\n",
       "      <th>2</th>\n",
       "      <td>SanDisk Ultra Dual 32GB USB 3.0 OTG Pen Drive</td>\n",
       "      <td>549.00</td>\n",
       "      <td>4.2 out of 5 stars</td>\n",
       "      <td>14,268</td>\n",
       "      <td>https://www.amazon.in//SanDisk-Ultra-Dual-32GB...</td>\n",
       "    </tr>\n",
       "    <tr>\n",
       "      <th>3</th>\n",
       "      <td>SanDisk Cruzer Blade 32GB USB Flash Drive</td>\n",
       "      <td>399.00</td>\n",
       "      <td>4.2 out of 5 stars</td>\n",
       "      <td>37,951</td>\n",
       "      <td>https://www.amazon.in//SanDisk-Cruzer-Blade-Fl...</td>\n",
       "    </tr>\n",
       "    <tr>\n",
       "      <th>4</th>\n",
       "      <td>SanDisk 32GB Class 10 Micro SDHC Memory Card w...</td>\n",
       "      <td>449.00</td>\n",
       "      <td>4.4 out of 5 stars</td>\n",
       "      <td>8,459</td>\n",
       "      <td>https://www.amazon.in//SanDisk-Class-Memory-Ad...</td>\n",
       "    </tr>\n",
       "  </tbody>\n",
       "</table>\n",
       "</div>"
      ],
      "text/plain": [
       "                                             Product     Price  \\\n",
       "0                                  Mi Band 3 (Black)  1,999.00   \n",
       "1                      Mi Band - HRX Edition (Black)    999.00   \n",
       "2      SanDisk Ultra Dual 32GB USB 3.0 OTG Pen Drive    549.00   \n",
       "3          SanDisk Cruzer Blade 32GB USB Flash Drive    399.00   \n",
       "4  SanDisk 32GB Class 10 Micro SDHC Memory Card w...    449.00   \n",
       "\n",
       "               Rating No. of reviews  \\\n",
       "0  4.1 out of 5 stars         14,837   \n",
       "1  3.9 out of 5 stars          8,667   \n",
       "2  4.2 out of 5 stars         14,268   \n",
       "3  4.2 out of 5 stars         37,951   \n",
       "4  4.4 out of 5 stars          8,459   \n",
       "\n",
       "                                                Link  \n",
       "0  https://www.amazon.in//Mi-XMSH05HM-Band-3-Blac...  \n",
       "1  https://www.amazon.in//Mi-Band-HRX-Edition-Bla...  \n",
       "2  https://www.amazon.in//SanDisk-Ultra-Dual-32GB...  \n",
       "3  https://www.amazon.in//SanDisk-Cruzer-Blade-Fl...  \n",
       "4  https://www.amazon.in//SanDisk-Class-Memory-Ad...  "
      ]
     },
     "execution_count": 61,
     "metadata": {},
     "output_type": "execute_result"
    }
   ],
   "source": [
    "df.head()"
   ]
  },
  {
   "cell_type": "code",
   "execution_count": 62,
   "metadata": {},
   "outputs": [
    {
     "data": {
      "text/html": [
       "<div>\n",
       "<style scoped>\n",
       "    .dataframe tbody tr th:only-of-type {\n",
       "        vertical-align: middle;\n",
       "    }\n",
       "\n",
       "    .dataframe tbody tr th {\n",
       "        vertical-align: top;\n",
       "    }\n",
       "\n",
       "    .dataframe thead th {\n",
       "        text-align: right;\n",
       "    }\n",
       "</style>\n",
       "<table border=\"1\" class=\"dataframe\">\n",
       "  <thead>\n",
       "    <tr style=\"text-align: right;\">\n",
       "      <th></th>\n",
       "      <th>Product</th>\n",
       "      <th>Price</th>\n",
       "      <th>Rating</th>\n",
       "      <th>No. of reviews</th>\n",
       "      <th>Link</th>\n",
       "    </tr>\n",
       "  </thead>\n",
       "  <tbody>\n",
       "    <tr>\n",
       "      <th>45</th>\n",
       "      <td>RPM Euro Games PUBG Trigger R11 Mobile Gaming ...</td>\n",
       "      <td>319.00</td>\n",
       "      <td>3.8 out of 5 stars</td>\n",
       "      <td>352</td>\n",
       "      <td>https://www.amazon.in//RPM-Euro-Games-Trigger-...</td>\n",
       "    </tr>\n",
       "    <tr>\n",
       "      <th>46</th>\n",
       "      <td>HP x740w 32 GB USB 3.0 Flash Drive (Gray)</td>\n",
       "      <td>579.00</td>\n",
       "      <td>4.4 out of 5 stars</td>\n",
       "      <td>345</td>\n",
       "      <td>https://www.amazon.in//HP-x740w-Flash-Drive-Gr...</td>\n",
       "    </tr>\n",
       "    <tr>\n",
       "      <th>47</th>\n",
       "      <td>Dell KB216 Wired Multimedia USB Keyboard</td>\n",
       "      <td>569.00</td>\n",
       "      <td>4.4 out of 5 stars</td>\n",
       "      <td>1,877</td>\n",
       "      <td>https://www.amazon.in//Dell-KB216-Wired-Multim...</td>\n",
       "    </tr>\n",
       "    <tr>\n",
       "      <th>48</th>\n",
       "      <td>HP usb X500 Wired Optical Sensor Mouse 3 Butto...</td>\n",
       "      <td>345.00</td>\n",
       "      <td>4.5 out of 5 stars</td>\n",
       "      <td>1,041</td>\n",
       "      <td>https://www.amazon.in//HP-Optical-Buttons-wind...</td>\n",
       "    </tr>\n",
       "    <tr>\n",
       "      <th>49</th>\n",
       "      <td>TP-Link TL-WA850RE 300Mbps Universal Wi-Fi Ran...</td>\n",
       "      <td>1,399.00</td>\n",
       "      <td>4.1 out of 5 stars</td>\n",
       "      <td>4,478</td>\n",
       "      <td>https://www.amazon.in//TP-Link-TL-WA850RE-300M...</td>\n",
       "    </tr>\n",
       "  </tbody>\n",
       "</table>\n",
       "</div>"
      ],
      "text/plain": [
       "                                              Product     Price  \\\n",
       "45  RPM Euro Games PUBG Trigger R11 Mobile Gaming ...    319.00   \n",
       "46          HP x740w 32 GB USB 3.0 Flash Drive (Gray)    579.00   \n",
       "47           Dell KB216 Wired Multimedia USB Keyboard    569.00   \n",
       "48  HP usb X500 Wired Optical Sensor Mouse 3 Butto...    345.00   \n",
       "49  TP-Link TL-WA850RE 300Mbps Universal Wi-Fi Ran...  1,399.00   \n",
       "\n",
       "                Rating No. of reviews  \\\n",
       "45  3.8 out of 5 stars            352   \n",
       "46  4.4 out of 5 stars            345   \n",
       "47  4.4 out of 5 stars          1,877   \n",
       "48  4.5 out of 5 stars          1,041   \n",
       "49  4.1 out of 5 stars          4,478   \n",
       "\n",
       "                                                 Link  \n",
       "45  https://www.amazon.in//RPM-Euro-Games-Trigger-...  \n",
       "46  https://www.amazon.in//HP-x740w-Flash-Drive-Gr...  \n",
       "47  https://www.amazon.in//Dell-KB216-Wired-Multim...  \n",
       "48  https://www.amazon.in//HP-Optical-Buttons-wind...  \n",
       "49  https://www.amazon.in//TP-Link-TL-WA850RE-300M...  "
      ]
     },
     "execution_count": 62,
     "metadata": {},
     "output_type": "execute_result"
    }
   ],
   "source": [
    "df.tail()"
   ]
  },
  {
   "cell_type": "code",
   "execution_count": 63,
   "metadata": {},
   "outputs": [
    {
     "data": {
      "text/plain": [
       "0                                     Mi Band 3 (Black)\n",
       "1                         Mi Band - HRX Edition (Black)\n",
       "2         SanDisk Ultra Dual 32GB USB 3.0 OTG Pen Drive\n",
       "3             SanDisk Cruzer Blade 32GB USB Flash Drive\n",
       "4     SanDisk 32GB Class 10 Micro SDHC Memory Card w...\n",
       "5                                  Honor Band 4 (Black)\n",
       "6     SanDisk Ultra Dual 32GB USB 3.0 OTG Pen Drive ...\n",
       "7                     Mi Body Composition Scale (White)\n",
       "8     SanDisk Cruzer Blade SDCZ50-016G-135 16GB USB ...\n",
       "9     SanDisk 64GB Class 10 microSDXC Memory Card wi...\n",
       "10    Samsung EVO Plus Grade 1, Class 10 32GB MicroS...\n",
       "11    JioFi 4G Hotspot M2S 150 Mbps Jio 4G Portable ...\n",
       "12        SanDisk Cruzer Blade 64GB USB 2.0 Flash Drive\n",
       "13    Sandisk U1  A1 98Mbps 16GB Ultra MicroSDHC (Mi...\n",
       "14    Logitech M235 Wireless Mouse for Windows and M...\n",
       "15        SanDisk Ultra Dual 64GB USB 3.0 OTG Pen Drive\n",
       "16    Samsung EVO Plus Grade 3, Class 10 64GB MicroS...\n",
       "17    HP X4E78AA 680 Combo-Pack Black & Tri-Color In...\n",
       "18                    HP X1000 Wired Mouse (Black/Grey)\n",
       "19           Dell MS116 1000DPI USB Wired Optical Mouse\n",
       "20    TP-Link TL-WN725N 150Mbps Wireless N Nano USB ...\n",
       "21    Kingston DataTraveler 16GB USB 3.0 Flash Drive...\n",
       "22    K3 PUBG Mobile Game Controller, Gamers Yard 1 ...\n",
       "23    Seagate Expansion 1.5TB USB 3.0 Portable 2.5 I...\n",
       "24        SanDisk Ultra Dual 16GB USB 3.0 OTG Pen Drive\n",
       "25       Strontium Ammo 32GB 2.0 USB Pen Drive (Silver)\n",
       "26    Terabyte HDMI to VGA Converter Adapter Cable (...\n",
       "27              HP FD236W 32GB USB 2.0 Pen Drive (Gray)\n",
       "28    TP-Link TL-WR841N 300Mbps Wireless-N Router (N...\n",
       "29     SanDisk 32GB Class 4 microSDHC Flash Memory Card\n",
       "30                 Logitech B170 Wireless Mouse (Black)\n",
       "31    SanDisk 128GB Class 10 microSDXC Memory Card w...\n",
       "32    D-Link DIR-615 Wireless-N300 Router (Black, No...\n",
       "33    HP 678 L0S24AA Combo-Pack Ink Advantage Cartri...\n",
       "34            Zebronics Km2100 Multimedia, USB Keyboard\n",
       "35    SanDisk Ultra Dual 64GB USB 3.0 OTG Pen Drive ...\n",
       "36    Western Digital WDS240G2G0A 240GB SATA III 6GB...\n",
       "37    HP 16GB Class 10 MicroSD Memory Card (U1 TF Ca...\n",
       "38    HP 32GB Class 10 MicroSD Memory Card (U1 TF Ca...\n",
       "39    TP-Link Archer C20 AC750 Wireless Dual Band Ro...\n",
       "40    WD Elements 1.5 TB Portable External Hard Driv...\n",
       "41               HP 680 Ink Advantage Cartridge (Black)\n",
       "42               Sony Microvault 32GB USB Drive (Black)\n",
       "43    Seagate 2TB Backup Plus Slim (Black) USB 3.0 E...\n",
       "44          Quantum QHM8810 Keyboard with Mouse (Black)\n",
       "45    RPM Euro Games PUBG Trigger R11 Mobile Gaming ...\n",
       "46            HP x740w 32 GB USB 3.0 Flash Drive (Gray)\n",
       "47             Dell KB216 Wired Multimedia USB Keyboard\n",
       "48    HP usb X500 Wired Optical Sensor Mouse 3 Butto...\n",
       "49    TP-Link TL-WA850RE 300Mbps Universal Wi-Fi Ran...\n",
       "Name: Product, dtype: object"
      ]
     },
     "execution_count": 63,
     "metadata": {},
     "output_type": "execute_result"
    }
   ],
   "source": [
    "df['Product']"
   ]
  },
  {
   "cell_type": "markdown",
   "metadata": {},
   "source": [
    "## Convert dictionary (via JSON) to a DataFrame"
   ]
  },
  {
   "cell_type": "code",
   "execution_count": 148,
   "metadata": {},
   "outputs": [],
   "source": [
    "from search_itunes import search_itunes\n",
    "\n",
    "df = pd.DataFrame(search_itunes(\"Python Programming\", \"ebook\"))\n"
   ]
  },
  {
   "cell_type": "code",
   "execution_count": 149,
   "metadata": {},
   "outputs": [
    {
     "data": {
      "text/html": [
       "<div>\n",
       "<style scoped>\n",
       "    .dataframe tbody tr th:only-of-type {\n",
       "        vertical-align: middle;\n",
       "    }\n",
       "\n",
       "    .dataframe tbody tr th {\n",
       "        vertical-align: top;\n",
       "    }\n",
       "\n",
       "    .dataframe thead th {\n",
       "        text-align: right;\n",
       "    }\n",
       "</style>\n",
       "<table border=\"1\" class=\"dataframe\">\n",
       "  <thead>\n",
       "    <tr style=\"text-align: right;\">\n",
       "      <th></th>\n",
       "      <th>resultCount</th>\n",
       "      <th>results</th>\n",
       "    </tr>\n",
       "  </thead>\n",
       "  <tbody>\n",
       "    <tr>\n",
       "      <th>0</th>\n",
       "      <td>10</td>\n",
       "      <td>{'currency': 'USD', 'artworkUrl60': 'https://i...</td>\n",
       "    </tr>\n",
       "    <tr>\n",
       "      <th>1</th>\n",
       "      <td>10</td>\n",
       "      <td>{'currency': 'USD', 'artworkUrl60': 'https://i...</td>\n",
       "    </tr>\n",
       "    <tr>\n",
       "      <th>2</th>\n",
       "      <td>10</td>\n",
       "      <td>{'currency': 'USD', 'artworkUrl60': 'https://i...</td>\n",
       "    </tr>\n",
       "    <tr>\n",
       "      <th>3</th>\n",
       "      <td>10</td>\n",
       "      <td>{'currency': 'USD', 'artworkUrl60': 'https://i...</td>\n",
       "    </tr>\n",
       "    <tr>\n",
       "      <th>4</th>\n",
       "      <td>10</td>\n",
       "      <td>{'currency': 'USD', 'artworkUrl60': 'https://i...</td>\n",
       "    </tr>\n",
       "    <tr>\n",
       "      <th>5</th>\n",
       "      <td>10</td>\n",
       "      <td>{'currency': 'USD', 'artworkUrl60': 'https://i...</td>\n",
       "    </tr>\n",
       "    <tr>\n",
       "      <th>6</th>\n",
       "      <td>10</td>\n",
       "      <td>{'currency': 'USD', 'artworkUrl60': 'https://i...</td>\n",
       "    </tr>\n",
       "    <tr>\n",
       "      <th>7</th>\n",
       "      <td>10</td>\n",
       "      <td>{'currency': 'USD', 'artworkUrl60': 'https://i...</td>\n",
       "    </tr>\n",
       "    <tr>\n",
       "      <th>8</th>\n",
       "      <td>10</td>\n",
       "      <td>{'currency': 'USD', 'artworkUrl60': 'https://i...</td>\n",
       "    </tr>\n",
       "    <tr>\n",
       "      <th>9</th>\n",
       "      <td>10</td>\n",
       "      <td>{'currency': 'USD', 'artworkUrl60': 'https://i...</td>\n",
       "    </tr>\n",
       "  </tbody>\n",
       "</table>\n",
       "</div>"
      ],
      "text/plain": [
       "   resultCount                                            results\n",
       "0           10  {'currency': 'USD', 'artworkUrl60': 'https://i...\n",
       "1           10  {'currency': 'USD', 'artworkUrl60': 'https://i...\n",
       "2           10  {'currency': 'USD', 'artworkUrl60': 'https://i...\n",
       "3           10  {'currency': 'USD', 'artworkUrl60': 'https://i...\n",
       "4           10  {'currency': 'USD', 'artworkUrl60': 'https://i...\n",
       "5           10  {'currency': 'USD', 'artworkUrl60': 'https://i...\n",
       "6           10  {'currency': 'USD', 'artworkUrl60': 'https://i...\n",
       "7           10  {'currency': 'USD', 'artworkUrl60': 'https://i...\n",
       "8           10  {'currency': 'USD', 'artworkUrl60': 'https://i...\n",
       "9           10  {'currency': 'USD', 'artworkUrl60': 'https://i..."
      ]
     },
     "execution_count": 149,
     "metadata": {},
     "output_type": "execute_result"
    }
   ],
   "source": [
    "df"
   ]
  },
  {
   "cell_type": "markdown",
   "metadata": {},
   "source": [
    "Due to the data being return as a list of dictionaries. \n",
    "\n",
    "If we 'zoom in' to the results column, we'll see the `{ }` syntax of the dictionary / json format. \n"
   ]
  },
  {
   "cell_type": "code",
   "execution_count": 150,
   "metadata": {},
   "outputs": [
    {
     "data": {
      "text/plain": [
       "0    {'currency': 'USD', 'artworkUrl60': 'https://i...\n",
       "1    {'currency': 'USD', 'artworkUrl60': 'https://i...\n",
       "2    {'currency': 'USD', 'artworkUrl60': 'https://i...\n",
       "3    {'currency': 'USD', 'artworkUrl60': 'https://i...\n",
       "4    {'currency': 'USD', 'artworkUrl60': 'https://i...\n",
       "5    {'currency': 'USD', 'artworkUrl60': 'https://i...\n",
       "6    {'currency': 'USD', 'artworkUrl60': 'https://i...\n",
       "7    {'currency': 'USD', 'artworkUrl60': 'https://i...\n",
       "8    {'currency': 'USD', 'artworkUrl60': 'https://i...\n",
       "9    {'currency': 'USD', 'artworkUrl60': 'https://i...\n",
       "Name: results, dtype: object"
      ]
     },
     "execution_count": 150,
     "metadata": {},
     "output_type": "execute_result"
    }
   ],
   "source": [
    "df['results']"
   ]
  },
  {
   "cell_type": "markdown",
   "metadata": {},
   "source": [
    "So how do we extract the values (rows) for each of these keys (which could act as column names) in a 2D matrix...\n",
    "\n",
    "Well, thankfully there is a handy method named `json_normalise()` which does just the trick!"
   ]
  },
  {
   "cell_type": "code",
   "execution_count": 151,
   "metadata": {},
   "outputs": [
    {
     "data": {
      "text/html": [
       "<div>\n",
       "<style scoped>\n",
       "    .dataframe tbody tr th:only-of-type {\n",
       "        vertical-align: middle;\n",
       "    }\n",
       "\n",
       "    .dataframe tbody tr th {\n",
       "        vertical-align: top;\n",
       "    }\n",
       "\n",
       "    .dataframe thead th {\n",
       "        text-align: right;\n",
       "    }\n",
       "</style>\n",
       "<table border=\"1\" class=\"dataframe\">\n",
       "  <thead>\n",
       "    <tr style=\"text-align: right;\">\n",
       "      <th></th>\n",
       "      <th>currency</th>\n",
       "      <th>artworkUrl60</th>\n",
       "      <th>artworkUrl100</th>\n",
       "      <th>artistViewUrl</th>\n",
       "      <th>description</th>\n",
       "      <th>trackId</th>\n",
       "      <th>trackName</th>\n",
       "      <th>trackCensoredName</th>\n",
       "      <th>fileSizeBytes</th>\n",
       "      <th>formattedPrice</th>\n",
       "      <th>...</th>\n",
       "      <th>genreIds</th>\n",
       "      <th>artistIds</th>\n",
       "      <th>releaseDate</th>\n",
       "      <th>price</th>\n",
       "      <th>genres</th>\n",
       "      <th>artistId</th>\n",
       "      <th>artistName</th>\n",
       "      <th>kind</th>\n",
       "      <th>averageUserRating</th>\n",
       "      <th>userRatingCount</th>\n",
       "    </tr>\n",
       "  </thead>\n",
       "  <tbody>\n",
       "    <tr>\n",
       "      <th>0</th>\n",
       "      <td>USD</td>\n",
       "      <td>https://is1-ssl.mzstatic.com/image/thumb/Publi...</td>\n",
       "      <td>https://is1-ssl.mzstatic.com/image/thumb/Publi...</td>\n",
       "      <td>https://books.apple.com/us/artist/daniel-corre...</td>\n",
       "      <td>This book is for beginners in programming and ...</td>\n",
       "      <td>6449404731</td>\n",
       "      <td>Python For Beginners: A Practical and Step-by-...</td>\n",
       "      <td>Python For Beginners: A Practical and Step-by-...</td>\n",
       "      <td>9524154</td>\n",
       "      <td>Free</td>\n",
       "      <td>...</td>\n",
       "      <td>[10023, 38, 9027]</td>\n",
       "      <td>[279284673]</td>\n",
       "      <td>2023-05-15T07:00:00Z</td>\n",
       "      <td>0.00</td>\n",
       "      <td>[Programming, Books, Computers &amp; Internet]</td>\n",
       "      <td>279284673</td>\n",
       "      <td>Daniel Correa</td>\n",
       "      <td>ebook</td>\n",
       "      <td>4.5</td>\n",
       "      <td>19.0</td>\n",
       "    </tr>\n",
       "    <tr>\n",
       "      <th>1</th>\n",
       "      <td>USD</td>\n",
       "      <td>https://is1-ssl.mzstatic.com/image/thumb/Publi...</td>\n",
       "      <td>https://is1-ssl.mzstatic.com/image/thumb/Publi...</td>\n",
       "      <td>https://books.apple.com/us/artist/ratneshwaran...</td>\n",
       "      <td>Welcome to Python, a programming language whic...</td>\n",
       "      <td>1524201116</td>\n",
       "      <td>Python Simplified</td>\n",
       "      <td>Python Simplified</td>\n",
       "      <td>3807233</td>\n",
       "      <td>Free</td>\n",
       "      <td>...</td>\n",
       "      <td>[10023, 38, 9027]</td>\n",
       "      <td>[1524201117]</td>\n",
       "      <td>2020-07-19T07:00:00Z</td>\n",
       "      <td>0.00</td>\n",
       "      <td>[Programming, Books, Computers &amp; Internet]</td>\n",
       "      <td>1524201117</td>\n",
       "      <td>Ratneshwaran Maheswaran</td>\n",
       "      <td>ebook</td>\n",
       "      <td>3.5</td>\n",
       "      <td>62.0</td>\n",
       "    </tr>\n",
       "    <tr>\n",
       "      <th>2</th>\n",
       "      <td>USD</td>\n",
       "      <td>https://is1-ssl.mzstatic.com/image/thumb/Publi...</td>\n",
       "      <td>https://is1-ssl.mzstatic.com/image/thumb/Publi...</td>\n",
       "      <td>https://books.apple.com/us/artist/python-softw...</td>\n",
       "      <td>This is an iBooks version of an official Pytho...</td>\n",
       "      <td>952220899</td>\n",
       "      <td>Python 3 Tutorial</td>\n",
       "      <td>Python 3 Tutorial</td>\n",
       "      <td>6151269</td>\n",
       "      <td>Free</td>\n",
       "      <td>...</td>\n",
       "      <td>[10017, 38, 9027]</td>\n",
       "      <td>[952227016]</td>\n",
       "      <td>2014-12-16T08:00:00Z</td>\n",
       "      <td>0.00</td>\n",
       "      <td>[Computers, Books, Computers &amp; Internet]</td>\n",
       "      <td>952227016</td>\n",
       "      <td>Python Software Foundation.</td>\n",
       "      <td>ebook</td>\n",
       "      <td>4.0</td>\n",
       "      <td>20.0</td>\n",
       "    </tr>\n",
       "    <tr>\n",
       "      <th>3</th>\n",
       "      <td>USD</td>\n",
       "      <td>https://is1-ssl.mzstatic.com/image/thumb/Publi...</td>\n",
       "      <td>https://is1-ssl.mzstatic.com/image/thumb/Publi...</td>\n",
       "      <td>https://books.apple.com/us/artist/bruce-embry/...</td>\n",
       "      <td>Why Python and why another Python book?\\t\\nSim...</td>\n",
       "      <td>1500081797</td>\n",
       "      <td>Fundamentals of Programming: Using Python</td>\n",
       "      <td>Fundamentals of Programming: Using Python</td>\n",
       "      <td>6164878</td>\n",
       "      <td>Free</td>\n",
       "      <td>...</td>\n",
       "      <td>[10017, 38, 9027]</td>\n",
       "      <td>[1500081800]</td>\n",
       "      <td>2020-02-14T08:00:00Z</td>\n",
       "      <td>0.00</td>\n",
       "      <td>[Computers, Books, Computers &amp; Internet]</td>\n",
       "      <td>1500081800</td>\n",
       "      <td>Bruce Embry</td>\n",
       "      <td>ebook</td>\n",
       "      <td>4.0</td>\n",
       "      <td>7.0</td>\n",
       "    </tr>\n",
       "    <tr>\n",
       "      <th>4</th>\n",
       "      <td>USD</td>\n",
       "      <td>https://is1-ssl.mzstatic.com/image/thumb/Publi...</td>\n",
       "      <td>https://is1-ssl.mzstatic.com/image/thumb/Publi...</td>\n",
       "      <td>https://books.apple.com/us/artist/ryan-turner/...</td>\n",
       "      <td>&lt;b&gt;If you're looking for a way to become an ex...</td>\n",
       "      <td>1508241396</td>\n",
       "      <td>Python Programming</td>\n",
       "      <td>Python Programming</td>\n",
       "      <td>305883</td>\n",
       "      <td>$9.99</td>\n",
       "      <td>...</td>\n",
       "      <td>[10023, 38, 9027]</td>\n",
       "      <td>[89761387]</td>\n",
       "      <td>2020-04-16T07:00:00Z</td>\n",
       "      <td>9.99</td>\n",
       "      <td>[Programming, Books, Computers &amp; Internet]</td>\n",
       "      <td>89761387</td>\n",
       "      <td>Ryan Turner</td>\n",
       "      <td>ebook</td>\n",
       "      <td>NaN</td>\n",
       "      <td>NaN</td>\n",
       "    </tr>\n",
       "    <tr>\n",
       "      <th>5</th>\n",
       "      <td>USD</td>\n",
       "      <td>https://is1-ssl.mzstatic.com/image/thumb/Publi...</td>\n",
       "      <td>https://is1-ssl.mzstatic.com/image/thumb/Publi...</td>\n",
       "      <td>https://books.apple.com/us/artist/james-tudor/...</td>\n",
       "      <td>Programming Doesn't Have To Be Difficult. If Y...</td>\n",
       "      <td>1551369966</td>\n",
       "      <td>Python Programming For Beginners</td>\n",
       "      <td>Python Programming For Beginners</td>\n",
       "      <td>1693255</td>\n",
       "      <td>Free</td>\n",
       "      <td>...</td>\n",
       "      <td>[10023, 38, 9027]</td>\n",
       "      <td>[1326923077]</td>\n",
       "      <td>2021-01-06T08:00:00Z</td>\n",
       "      <td>0.00</td>\n",
       "      <td>[Programming, Books, Computers &amp; Internet]</td>\n",
       "      <td>1326923077</td>\n",
       "      <td>James Tudor</td>\n",
       "      <td>ebook</td>\n",
       "      <td>2.0</td>\n",
       "      <td>6.0</td>\n",
       "    </tr>\n",
       "    <tr>\n",
       "      <th>6</th>\n",
       "      <td>USD</td>\n",
       "      <td>https://is1-ssl.mzstatic.com/image/thumb/Publi...</td>\n",
       "      <td>https://is1-ssl.mzstatic.com/image/thumb/Publi...</td>\n",
       "      <td>https://books.apple.com/us/artist/knowledge-fl...</td>\n",
       "      <td>★★★★★LEARNING STARTS WITH VIEWING THE WORLD DI...</td>\n",
       "      <td>1102381732</td>\n",
       "      <td>Python Programming</td>\n",
       "      <td>Python Programming</td>\n",
       "      <td>154278</td>\n",
       "      <td>$0.99</td>\n",
       "      <td>...</td>\n",
       "      <td>[10017, 38, 9027]</td>\n",
       "      <td>[1050452168]</td>\n",
       "      <td>2016-04-11T07:00:00Z</td>\n",
       "      <td>0.99</td>\n",
       "      <td>[Computers, Books, Computers &amp; Internet]</td>\n",
       "      <td>1050452168</td>\n",
       "      <td>Knowledge flow</td>\n",
       "      <td>ebook</td>\n",
       "      <td>NaN</td>\n",
       "      <td>NaN</td>\n",
       "    </tr>\n",
       "    <tr>\n",
       "      <th>7</th>\n",
       "      <td>USD</td>\n",
       "      <td>https://is1-ssl.mzstatic.com/image/thumb/Publi...</td>\n",
       "      <td>https://is1-ssl.mzstatic.com/image/thumb/Publi...</td>\n",
       "      <td>https://books.apple.com/us/artist/ryan-turner/...</td>\n",
       "      <td>&lt;b&gt;If you're looking for a complete beginners ...</td>\n",
       "      <td>1508240514</td>\n",
       "      <td>Python Programming</td>\n",
       "      <td>Python Programming</td>\n",
       "      <td>189804</td>\n",
       "      <td>$2.99</td>\n",
       "      <td>...</td>\n",
       "      <td>[10023, 38, 9027]</td>\n",
       "      <td>[89761387]</td>\n",
       "      <td>2020-04-16T07:00:00Z</td>\n",
       "      <td>2.99</td>\n",
       "      <td>[Programming, Books, Computers &amp; Internet]</td>\n",
       "      <td>89761387</td>\n",
       "      <td>Ryan Turner</td>\n",
       "      <td>ebook</td>\n",
       "      <td>NaN</td>\n",
       "      <td>NaN</td>\n",
       "    </tr>\n",
       "    <tr>\n",
       "      <th>8</th>\n",
       "      <td>USD</td>\n",
       "      <td>https://is1-ssl.mzstatic.com/image/thumb/Publi...</td>\n",
       "      <td>https://is1-ssl.mzstatic.com/image/thumb/Publi...</td>\n",
       "      <td>https://books.apple.com/us/artist/wikibooks/85...</td>\n",
       "      <td>Now you can easily download your favorite Wiki...</td>\n",
       "      <td>857275140</td>\n",
       "      <td>Non-Programmer's Tutorial for Python 3</td>\n",
       "      <td>Non-Programmer's Tutorial for Python 3</td>\n",
       "      <td>131835</td>\n",
       "      <td>Free</td>\n",
       "      <td>...</td>\n",
       "      <td>[10017, 38, 9027, 10023]</td>\n",
       "      <td>[856249884]</td>\n",
       "      <td>2014-04-06T21:47:50Z</td>\n",
       "      <td>0.00</td>\n",
       "      <td>[Computers, Books, Computers &amp; Internet, Progr...</td>\n",
       "      <td>856249884</td>\n",
       "      <td>Wikibooks</td>\n",
       "      <td>ebook</td>\n",
       "      <td>4.0</td>\n",
       "      <td>31.0</td>\n",
       "    </tr>\n",
       "    <tr>\n",
       "      <th>9</th>\n",
       "      <td>USD</td>\n",
       "      <td>https://is1-ssl.mzstatic.com/image/thumb/Publi...</td>\n",
       "      <td>https://is1-ssl.mzstatic.com/image/thumb/Publi...</td>\n",
       "      <td>https://books.apple.com/us/artist/shyam-bharat...</td>\n",
       "      <td>Following topics in Python programming languag...</td>\n",
       "      <td>1422381829</td>\n",
       "      <td>Learn Python</td>\n",
       "      <td>Learn Python</td>\n",
       "      <td>292215</td>\n",
       "      <td>Free</td>\n",
       "      <td>...</td>\n",
       "      <td>[10023, 38, 9027]</td>\n",
       "      <td>[1418962472]</td>\n",
       "      <td>2018-08-04T07:00:00Z</td>\n",
       "      <td>0.00</td>\n",
       "      <td>[Programming, Books, Computers &amp; Internet]</td>\n",
       "      <td>1418962472</td>\n",
       "      <td>Shyam Bharath, S.D.</td>\n",
       "      <td>ebook</td>\n",
       "      <td>3.5</td>\n",
       "      <td>24.0</td>\n",
       "    </tr>\n",
       "  </tbody>\n",
       "</table>\n",
       "<p>10 rows × 21 columns</p>\n",
       "</div>"
      ],
      "text/plain": [
       "  currency                                       artworkUrl60  \\\n",
       "0      USD  https://is1-ssl.mzstatic.com/image/thumb/Publi...   \n",
       "1      USD  https://is1-ssl.mzstatic.com/image/thumb/Publi...   \n",
       "2      USD  https://is1-ssl.mzstatic.com/image/thumb/Publi...   \n",
       "3      USD  https://is1-ssl.mzstatic.com/image/thumb/Publi...   \n",
       "4      USD  https://is1-ssl.mzstatic.com/image/thumb/Publi...   \n",
       "5      USD  https://is1-ssl.mzstatic.com/image/thumb/Publi...   \n",
       "6      USD  https://is1-ssl.mzstatic.com/image/thumb/Publi...   \n",
       "7      USD  https://is1-ssl.mzstatic.com/image/thumb/Publi...   \n",
       "8      USD  https://is1-ssl.mzstatic.com/image/thumb/Publi...   \n",
       "9      USD  https://is1-ssl.mzstatic.com/image/thumb/Publi...   \n",
       "\n",
       "                                       artworkUrl100  \\\n",
       "0  https://is1-ssl.mzstatic.com/image/thumb/Publi...   \n",
       "1  https://is1-ssl.mzstatic.com/image/thumb/Publi...   \n",
       "2  https://is1-ssl.mzstatic.com/image/thumb/Publi...   \n",
       "3  https://is1-ssl.mzstatic.com/image/thumb/Publi...   \n",
       "4  https://is1-ssl.mzstatic.com/image/thumb/Publi...   \n",
       "5  https://is1-ssl.mzstatic.com/image/thumb/Publi...   \n",
       "6  https://is1-ssl.mzstatic.com/image/thumb/Publi...   \n",
       "7  https://is1-ssl.mzstatic.com/image/thumb/Publi...   \n",
       "8  https://is1-ssl.mzstatic.com/image/thumb/Publi...   \n",
       "9  https://is1-ssl.mzstatic.com/image/thumb/Publi...   \n",
       "\n",
       "                                       artistViewUrl  \\\n",
       "0  https://books.apple.com/us/artist/daniel-corre...   \n",
       "1  https://books.apple.com/us/artist/ratneshwaran...   \n",
       "2  https://books.apple.com/us/artist/python-softw...   \n",
       "3  https://books.apple.com/us/artist/bruce-embry/...   \n",
       "4  https://books.apple.com/us/artist/ryan-turner/...   \n",
       "5  https://books.apple.com/us/artist/james-tudor/...   \n",
       "6  https://books.apple.com/us/artist/knowledge-fl...   \n",
       "7  https://books.apple.com/us/artist/ryan-turner/...   \n",
       "8  https://books.apple.com/us/artist/wikibooks/85...   \n",
       "9  https://books.apple.com/us/artist/shyam-bharat...   \n",
       "\n",
       "                                         description     trackId  \\\n",
       "0  This book is for beginners in programming and ...  6449404731   \n",
       "1  Welcome to Python, a programming language whic...  1524201116   \n",
       "2  This is an iBooks version of an official Pytho...   952220899   \n",
       "3  Why Python and why another Python book?\\t\\nSim...  1500081797   \n",
       "4  <b>If you're looking for a way to become an ex...  1508241396   \n",
       "5  Programming Doesn't Have To Be Difficult. If Y...  1551369966   \n",
       "6  ★★★★★LEARNING STARTS WITH VIEWING THE WORLD DI...  1102381732   \n",
       "7  <b>If you're looking for a complete beginners ...  1508240514   \n",
       "8  Now you can easily download your favorite Wiki...   857275140   \n",
       "9  Following topics in Python programming languag...  1422381829   \n",
       "\n",
       "                                           trackName  \\\n",
       "0  Python For Beginners: A Practical and Step-by-...   \n",
       "1                                  Python Simplified   \n",
       "2                                  Python 3 Tutorial   \n",
       "3          Fundamentals of Programming: Using Python   \n",
       "4                                 Python Programming   \n",
       "5                   Python Programming For Beginners   \n",
       "6                                 Python Programming   \n",
       "7                                 Python Programming   \n",
       "8             Non-Programmer's Tutorial for Python 3   \n",
       "9                                       Learn Python   \n",
       "\n",
       "                                   trackCensoredName  fileSizeBytes  \\\n",
       "0  Python For Beginners: A Practical and Step-by-...        9524154   \n",
       "1                                  Python Simplified        3807233   \n",
       "2                                  Python 3 Tutorial        6151269   \n",
       "3          Fundamentals of Programming: Using Python        6164878   \n",
       "4                                 Python Programming         305883   \n",
       "5                   Python Programming For Beginners        1693255   \n",
       "6                                 Python Programming         154278   \n",
       "7                                 Python Programming         189804   \n",
       "8             Non-Programmer's Tutorial for Python 3         131835   \n",
       "9                                       Learn Python         292215   \n",
       "\n",
       "  formattedPrice  ...                  genreIds     artistIds  \\\n",
       "0           Free  ...         [10023, 38, 9027]   [279284673]   \n",
       "1           Free  ...         [10023, 38, 9027]  [1524201117]   \n",
       "2           Free  ...         [10017, 38, 9027]   [952227016]   \n",
       "3           Free  ...         [10017, 38, 9027]  [1500081800]   \n",
       "4          $9.99  ...         [10023, 38, 9027]    [89761387]   \n",
       "5           Free  ...         [10023, 38, 9027]  [1326923077]   \n",
       "6          $0.99  ...         [10017, 38, 9027]  [1050452168]   \n",
       "7          $2.99  ...         [10023, 38, 9027]    [89761387]   \n",
       "8           Free  ...  [10017, 38, 9027, 10023]   [856249884]   \n",
       "9           Free  ...         [10023, 38, 9027]  [1418962472]   \n",
       "\n",
       "            releaseDate price  \\\n",
       "0  2023-05-15T07:00:00Z  0.00   \n",
       "1  2020-07-19T07:00:00Z  0.00   \n",
       "2  2014-12-16T08:00:00Z  0.00   \n",
       "3  2020-02-14T08:00:00Z  0.00   \n",
       "4  2020-04-16T07:00:00Z  9.99   \n",
       "5  2021-01-06T08:00:00Z  0.00   \n",
       "6  2016-04-11T07:00:00Z  0.99   \n",
       "7  2020-04-16T07:00:00Z  2.99   \n",
       "8  2014-04-06T21:47:50Z  0.00   \n",
       "9  2018-08-04T07:00:00Z  0.00   \n",
       "\n",
       "                                              genres    artistId  \\\n",
       "0         [Programming, Books, Computers & Internet]   279284673   \n",
       "1         [Programming, Books, Computers & Internet]  1524201117   \n",
       "2           [Computers, Books, Computers & Internet]   952227016   \n",
       "3           [Computers, Books, Computers & Internet]  1500081800   \n",
       "4         [Programming, Books, Computers & Internet]    89761387   \n",
       "5         [Programming, Books, Computers & Internet]  1326923077   \n",
       "6           [Computers, Books, Computers & Internet]  1050452168   \n",
       "7         [Programming, Books, Computers & Internet]    89761387   \n",
       "8  [Computers, Books, Computers & Internet, Progr...   856249884   \n",
       "9         [Programming, Books, Computers & Internet]  1418962472   \n",
       "\n",
       "                    artistName   kind averageUserRating  userRatingCount  \n",
       "0                Daniel Correa  ebook               4.5             19.0  \n",
       "1      Ratneshwaran Maheswaran  ebook               3.5             62.0  \n",
       "2  Python Software Foundation.  ebook               4.0             20.0  \n",
       "3                  Bruce Embry  ebook               4.0              7.0  \n",
       "4                  Ryan Turner  ebook               NaN              NaN  \n",
       "5                  James Tudor  ebook               2.0              6.0  \n",
       "6               Knowledge flow  ebook               NaN              NaN  \n",
       "7                  Ryan Turner  ebook               NaN              NaN  \n",
       "8                    Wikibooks  ebook               4.0             31.0  \n",
       "9          Shyam Bharath, S.D.  ebook               3.5             24.0  \n",
       "\n",
       "[10 rows x 21 columns]"
      ]
     },
     "execution_count": 151,
     "metadata": {},
     "output_type": "execute_result"
    }
   ],
   "source": [
    "df_norm = pd.json_normalize(df['results'])\n",
    "df_norm"
   ]
  },
  {
   "cell_type": "markdown",
   "metadata": {},
   "source": [
    "We now have this data in a table, ready for analysis! "
   ]
  },
  {
   "cell_type": "code",
   "execution_count": 155,
   "metadata": {},
   "outputs": [
    {
     "name": "stdout",
     "output_type": "stream",
     "text": [
      "7\n"
     ]
    }
   ],
   "source": [
    "print(df_norm['averageUserRating'].count())"
   ]
  },
  {
   "cell_type": "code",
   "execution_count": 157,
   "metadata": {},
   "outputs": [
    {
     "name": "stdout",
     "output_type": "stream",
     "text": [
      "4.5\n"
     ]
    }
   ],
   "source": [
    "print(df_norm['averageUserRating'].max())"
   ]
  },
  {
   "cell_type": "code",
   "execution_count": 169,
   "metadata": {},
   "outputs": [
    {
     "name": "stdout",
     "output_type": "stream",
     "text": [
      "3.642857142857143\n"
     ]
    }
   ],
   "source": [
    "print(df_norm['averageUserRating'].mean())"
   ]
  },
  {
   "cell_type": "code",
   "execution_count": 168,
   "metadata": {},
   "outputs": [
    {
     "data": {
      "text/html": [
       "<div>\n",
       "<style scoped>\n",
       "    .dataframe tbody tr th:only-of-type {\n",
       "        vertical-align: middle;\n",
       "    }\n",
       "\n",
       "    .dataframe tbody tr th {\n",
       "        vertical-align: top;\n",
       "    }\n",
       "\n",
       "    .dataframe thead th {\n",
       "        text-align: right;\n",
       "    }\n",
       "</style>\n",
       "<table border=\"1\" class=\"dataframe\">\n",
       "  <thead>\n",
       "    <tr style=\"text-align: right;\">\n",
       "      <th></th>\n",
       "      <th>currency</th>\n",
       "      <th>artworkUrl60</th>\n",
       "      <th>artworkUrl100</th>\n",
       "      <th>artistViewUrl</th>\n",
       "      <th>description</th>\n",
       "      <th>trackId</th>\n",
       "      <th>trackName</th>\n",
       "      <th>trackCensoredName</th>\n",
       "      <th>fileSizeBytes</th>\n",
       "      <th>formattedPrice</th>\n",
       "      <th>...</th>\n",
       "      <th>genreIds</th>\n",
       "      <th>artistIds</th>\n",
       "      <th>releaseDate</th>\n",
       "      <th>price</th>\n",
       "      <th>genres</th>\n",
       "      <th>artistId</th>\n",
       "      <th>artistName</th>\n",
       "      <th>kind</th>\n",
       "      <th>averageUserRating</th>\n",
       "      <th>userRatingCount</th>\n",
       "    </tr>\n",
       "  </thead>\n",
       "  <tbody>\n",
       "    <tr>\n",
       "      <th>0</th>\n",
       "      <td>USD</td>\n",
       "      <td>https://is1-ssl.mzstatic.com/image/thumb/Publi...</td>\n",
       "      <td>https://is1-ssl.mzstatic.com/image/thumb/Publi...</td>\n",
       "      <td>https://books.apple.com/us/artist/daniel-corre...</td>\n",
       "      <td>This book is for beginners in programming and ...</td>\n",
       "      <td>6449404731</td>\n",
       "      <td>Python For Beginners: A Practical and Step-by-...</td>\n",
       "      <td>Python For Beginners: A Practical and Step-by-...</td>\n",
       "      <td>9524154</td>\n",
       "      <td>Free</td>\n",
       "      <td>...</td>\n",
       "      <td>[10023, 38, 9027]</td>\n",
       "      <td>[279284673]</td>\n",
       "      <td>2023-05-15T07:00:00Z</td>\n",
       "      <td>0.0</td>\n",
       "      <td>[Programming, Books, Computers &amp; Internet]</td>\n",
       "      <td>279284673</td>\n",
       "      <td>Daniel Correa</td>\n",
       "      <td>ebook</td>\n",
       "      <td>4.5</td>\n",
       "      <td>19.0</td>\n",
       "    </tr>\n",
       "    <tr>\n",
       "      <th>2</th>\n",
       "      <td>USD</td>\n",
       "      <td>https://is1-ssl.mzstatic.com/image/thumb/Publi...</td>\n",
       "      <td>https://is1-ssl.mzstatic.com/image/thumb/Publi...</td>\n",
       "      <td>https://books.apple.com/us/artist/python-softw...</td>\n",
       "      <td>This is an iBooks version of an official Pytho...</td>\n",
       "      <td>952220899</td>\n",
       "      <td>Python 3 Tutorial</td>\n",
       "      <td>Python 3 Tutorial</td>\n",
       "      <td>6151269</td>\n",
       "      <td>Free</td>\n",
       "      <td>...</td>\n",
       "      <td>[10017, 38, 9027]</td>\n",
       "      <td>[952227016]</td>\n",
       "      <td>2014-12-16T08:00:00Z</td>\n",
       "      <td>0.0</td>\n",
       "      <td>[Computers, Books, Computers &amp; Internet]</td>\n",
       "      <td>952227016</td>\n",
       "      <td>Python Software Foundation.</td>\n",
       "      <td>ebook</td>\n",
       "      <td>4.0</td>\n",
       "      <td>20.0</td>\n",
       "    </tr>\n",
       "    <tr>\n",
       "      <th>3</th>\n",
       "      <td>USD</td>\n",
       "      <td>https://is1-ssl.mzstatic.com/image/thumb/Publi...</td>\n",
       "      <td>https://is1-ssl.mzstatic.com/image/thumb/Publi...</td>\n",
       "      <td>https://books.apple.com/us/artist/bruce-embry/...</td>\n",
       "      <td>Why Python and why another Python book?\\t\\nSim...</td>\n",
       "      <td>1500081797</td>\n",
       "      <td>Fundamentals of Programming: Using Python</td>\n",
       "      <td>Fundamentals of Programming: Using Python</td>\n",
       "      <td>6164878</td>\n",
       "      <td>Free</td>\n",
       "      <td>...</td>\n",
       "      <td>[10017, 38, 9027]</td>\n",
       "      <td>[1500081800]</td>\n",
       "      <td>2020-02-14T08:00:00Z</td>\n",
       "      <td>0.0</td>\n",
       "      <td>[Computers, Books, Computers &amp; Internet]</td>\n",
       "      <td>1500081800</td>\n",
       "      <td>Bruce Embry</td>\n",
       "      <td>ebook</td>\n",
       "      <td>4.0</td>\n",
       "      <td>7.0</td>\n",
       "    </tr>\n",
       "    <tr>\n",
       "      <th>8</th>\n",
       "      <td>USD</td>\n",
       "      <td>https://is1-ssl.mzstatic.com/image/thumb/Publi...</td>\n",
       "      <td>https://is1-ssl.mzstatic.com/image/thumb/Publi...</td>\n",
       "      <td>https://books.apple.com/us/artist/wikibooks/85...</td>\n",
       "      <td>Now you can easily download your favorite Wiki...</td>\n",
       "      <td>857275140</td>\n",
       "      <td>Non-Programmer's Tutorial for Python 3</td>\n",
       "      <td>Non-Programmer's Tutorial for Python 3</td>\n",
       "      <td>131835</td>\n",
       "      <td>Free</td>\n",
       "      <td>...</td>\n",
       "      <td>[10017, 38, 9027, 10023]</td>\n",
       "      <td>[856249884]</td>\n",
       "      <td>2014-04-06T21:47:50Z</td>\n",
       "      <td>0.0</td>\n",
       "      <td>[Computers, Books, Computers &amp; Internet, Progr...</td>\n",
       "      <td>856249884</td>\n",
       "      <td>Wikibooks</td>\n",
       "      <td>ebook</td>\n",
       "      <td>4.0</td>\n",
       "      <td>31.0</td>\n",
       "    </tr>\n",
       "  </tbody>\n",
       "</table>\n",
       "<p>4 rows × 21 columns</p>\n",
       "</div>"
      ],
      "text/plain": [
       "  currency                                       artworkUrl60  \\\n",
       "0      USD  https://is1-ssl.mzstatic.com/image/thumb/Publi...   \n",
       "2      USD  https://is1-ssl.mzstatic.com/image/thumb/Publi...   \n",
       "3      USD  https://is1-ssl.mzstatic.com/image/thumb/Publi...   \n",
       "8      USD  https://is1-ssl.mzstatic.com/image/thumb/Publi...   \n",
       "\n",
       "                                       artworkUrl100  \\\n",
       "0  https://is1-ssl.mzstatic.com/image/thumb/Publi...   \n",
       "2  https://is1-ssl.mzstatic.com/image/thumb/Publi...   \n",
       "3  https://is1-ssl.mzstatic.com/image/thumb/Publi...   \n",
       "8  https://is1-ssl.mzstatic.com/image/thumb/Publi...   \n",
       "\n",
       "                                       artistViewUrl  \\\n",
       "0  https://books.apple.com/us/artist/daniel-corre...   \n",
       "2  https://books.apple.com/us/artist/python-softw...   \n",
       "3  https://books.apple.com/us/artist/bruce-embry/...   \n",
       "8  https://books.apple.com/us/artist/wikibooks/85...   \n",
       "\n",
       "                                         description     trackId  \\\n",
       "0  This book is for beginners in programming and ...  6449404731   \n",
       "2  This is an iBooks version of an official Pytho...   952220899   \n",
       "3  Why Python and why another Python book?\\t\\nSim...  1500081797   \n",
       "8  Now you can easily download your favorite Wiki...   857275140   \n",
       "\n",
       "                                           trackName  \\\n",
       "0  Python For Beginners: A Practical and Step-by-...   \n",
       "2                                  Python 3 Tutorial   \n",
       "3          Fundamentals of Programming: Using Python   \n",
       "8             Non-Programmer's Tutorial for Python 3   \n",
       "\n",
       "                                   trackCensoredName  fileSizeBytes  \\\n",
       "0  Python For Beginners: A Practical and Step-by-...        9524154   \n",
       "2                                  Python 3 Tutorial        6151269   \n",
       "3          Fundamentals of Programming: Using Python        6164878   \n",
       "8             Non-Programmer's Tutorial for Python 3         131835   \n",
       "\n",
       "  formattedPrice  ...                  genreIds     artistIds  \\\n",
       "0           Free  ...         [10023, 38, 9027]   [279284673]   \n",
       "2           Free  ...         [10017, 38, 9027]   [952227016]   \n",
       "3           Free  ...         [10017, 38, 9027]  [1500081800]   \n",
       "8           Free  ...  [10017, 38, 9027, 10023]   [856249884]   \n",
       "\n",
       "            releaseDate price  \\\n",
       "0  2023-05-15T07:00:00Z   0.0   \n",
       "2  2014-12-16T08:00:00Z   0.0   \n",
       "3  2020-02-14T08:00:00Z   0.0   \n",
       "8  2014-04-06T21:47:50Z   0.0   \n",
       "\n",
       "                                              genres    artistId  \\\n",
       "0         [Programming, Books, Computers & Internet]   279284673   \n",
       "2           [Computers, Books, Computers & Internet]   952227016   \n",
       "3           [Computers, Books, Computers & Internet]  1500081800   \n",
       "8  [Computers, Books, Computers & Internet, Progr...   856249884   \n",
       "\n",
       "                    artistName   kind averageUserRating  userRatingCount  \n",
       "0                Daniel Correa  ebook               4.5             19.0  \n",
       "2  Python Software Foundation.  ebook               4.0             20.0  \n",
       "3                  Bruce Embry  ebook               4.0              7.0  \n",
       "8                    Wikibooks  ebook               4.0             31.0  \n",
       "\n",
       "[4 rows x 21 columns]"
      ]
     },
     "execution_count": 168,
     "metadata": {},
     "output_type": "execute_result"
    }
   ],
   "source": [
    "df_norm[df_norm['averageUserRating'] > 3.5]"
   ]
  },
  {
   "cell_type": "code",
   "execution_count": 174,
   "metadata": {},
   "outputs": [
    {
     "data": {
      "text/html": [
       "<div>\n",
       "<style scoped>\n",
       "    .dataframe tbody tr th:only-of-type {\n",
       "        vertical-align: middle;\n",
       "    }\n",
       "\n",
       "    .dataframe tbody tr th {\n",
       "        vertical-align: top;\n",
       "    }\n",
       "\n",
       "    .dataframe thead th {\n",
       "        text-align: right;\n",
       "    }\n",
       "</style>\n",
       "<table border=\"1\" class=\"dataframe\">\n",
       "  <thead>\n",
       "    <tr style=\"text-align: right;\">\n",
       "      <th></th>\n",
       "      <th>trackName</th>\n",
       "      <th>artistName</th>\n",
       "      <th>description</th>\n",
       "      <th>releaseDate</th>\n",
       "      <th>price</th>\n",
       "      <th>averageUserRating</th>\n",
       "      <th>userRatingCount</th>\n",
       "    </tr>\n",
       "  </thead>\n",
       "  <tbody>\n",
       "    <tr>\n",
       "      <th>0</th>\n",
       "      <td>Python For Beginners: A Practical and Step-by-...</td>\n",
       "      <td>Daniel Correa</td>\n",
       "      <td>This book is for beginners in programming and ...</td>\n",
       "      <td>2023-05-15T07:00:00Z</td>\n",
       "      <td>0.00</td>\n",
       "      <td>4.5</td>\n",
       "      <td>19.0</td>\n",
       "    </tr>\n",
       "    <tr>\n",
       "      <th>1</th>\n",
       "      <td>Python Simplified</td>\n",
       "      <td>Ratneshwaran Maheswaran</td>\n",
       "      <td>Welcome to Python, a programming language whic...</td>\n",
       "      <td>2020-07-19T07:00:00Z</td>\n",
       "      <td>0.00</td>\n",
       "      <td>3.5</td>\n",
       "      <td>62.0</td>\n",
       "    </tr>\n",
       "    <tr>\n",
       "      <th>2</th>\n",
       "      <td>Python 3 Tutorial</td>\n",
       "      <td>Python Software Foundation.</td>\n",
       "      <td>This is an iBooks version of an official Pytho...</td>\n",
       "      <td>2014-12-16T08:00:00Z</td>\n",
       "      <td>0.00</td>\n",
       "      <td>4.0</td>\n",
       "      <td>20.0</td>\n",
       "    </tr>\n",
       "    <tr>\n",
       "      <th>3</th>\n",
       "      <td>Fundamentals of Programming: Using Python</td>\n",
       "      <td>Bruce Embry</td>\n",
       "      <td>Why Python and why another Python book?\\t\\nSim...</td>\n",
       "      <td>2020-02-14T08:00:00Z</td>\n",
       "      <td>0.00</td>\n",
       "      <td>4.0</td>\n",
       "      <td>7.0</td>\n",
       "    </tr>\n",
       "    <tr>\n",
       "      <th>4</th>\n",
       "      <td>Python Programming</td>\n",
       "      <td>Ryan Turner</td>\n",
       "      <td>&lt;b&gt;If you're looking for a way to become an ex...</td>\n",
       "      <td>2020-04-16T07:00:00Z</td>\n",
       "      <td>9.99</td>\n",
       "      <td>NaN</td>\n",
       "      <td>NaN</td>\n",
       "    </tr>\n",
       "    <tr>\n",
       "      <th>5</th>\n",
       "      <td>Python Programming For Beginners</td>\n",
       "      <td>James Tudor</td>\n",
       "      <td>Programming Doesn't Have To Be Difficult. If Y...</td>\n",
       "      <td>2021-01-06T08:00:00Z</td>\n",
       "      <td>0.00</td>\n",
       "      <td>2.0</td>\n",
       "      <td>6.0</td>\n",
       "    </tr>\n",
       "    <tr>\n",
       "      <th>6</th>\n",
       "      <td>Python Programming</td>\n",
       "      <td>Knowledge flow</td>\n",
       "      <td>★★★★★LEARNING STARTS WITH VIEWING THE WORLD DI...</td>\n",
       "      <td>2016-04-11T07:00:00Z</td>\n",
       "      <td>0.99</td>\n",
       "      <td>NaN</td>\n",
       "      <td>NaN</td>\n",
       "    </tr>\n",
       "    <tr>\n",
       "      <th>7</th>\n",
       "      <td>Python Programming</td>\n",
       "      <td>Ryan Turner</td>\n",
       "      <td>&lt;b&gt;If you're looking for a complete beginners ...</td>\n",
       "      <td>2020-04-16T07:00:00Z</td>\n",
       "      <td>2.99</td>\n",
       "      <td>NaN</td>\n",
       "      <td>NaN</td>\n",
       "    </tr>\n",
       "    <tr>\n",
       "      <th>8</th>\n",
       "      <td>Non-Programmer's Tutorial for Python 3</td>\n",
       "      <td>Wikibooks</td>\n",
       "      <td>Now you can easily download your favorite Wiki...</td>\n",
       "      <td>2014-04-06T21:47:50Z</td>\n",
       "      <td>0.00</td>\n",
       "      <td>4.0</td>\n",
       "      <td>31.0</td>\n",
       "    </tr>\n",
       "    <tr>\n",
       "      <th>9</th>\n",
       "      <td>Learn Python</td>\n",
       "      <td>Shyam Bharath, S.D.</td>\n",
       "      <td>Following topics in Python programming languag...</td>\n",
       "      <td>2018-08-04T07:00:00Z</td>\n",
       "      <td>0.00</td>\n",
       "      <td>3.5</td>\n",
       "      <td>24.0</td>\n",
       "    </tr>\n",
       "  </tbody>\n",
       "</table>\n",
       "</div>"
      ],
      "text/plain": [
       "                                           trackName  \\\n",
       "0  Python For Beginners: A Practical and Step-by-...   \n",
       "1                                  Python Simplified   \n",
       "2                                  Python 3 Tutorial   \n",
       "3          Fundamentals of Programming: Using Python   \n",
       "4                                 Python Programming   \n",
       "5                   Python Programming For Beginners   \n",
       "6                                 Python Programming   \n",
       "7                                 Python Programming   \n",
       "8             Non-Programmer's Tutorial for Python 3   \n",
       "9                                       Learn Python   \n",
       "\n",
       "                    artistName  \\\n",
       "0                Daniel Correa   \n",
       "1      Ratneshwaran Maheswaran   \n",
       "2  Python Software Foundation.   \n",
       "3                  Bruce Embry   \n",
       "4                  Ryan Turner   \n",
       "5                  James Tudor   \n",
       "6               Knowledge flow   \n",
       "7                  Ryan Turner   \n",
       "8                    Wikibooks   \n",
       "9          Shyam Bharath, S.D.   \n",
       "\n",
       "                                         description           releaseDate  \\\n",
       "0  This book is for beginners in programming and ...  2023-05-15T07:00:00Z   \n",
       "1  Welcome to Python, a programming language whic...  2020-07-19T07:00:00Z   \n",
       "2  This is an iBooks version of an official Pytho...  2014-12-16T08:00:00Z   \n",
       "3  Why Python and why another Python book?\\t\\nSim...  2020-02-14T08:00:00Z   \n",
       "4  <b>If you're looking for a way to become an ex...  2020-04-16T07:00:00Z   \n",
       "5  Programming Doesn't Have To Be Difficult. If Y...  2021-01-06T08:00:00Z   \n",
       "6  ★★★★★LEARNING STARTS WITH VIEWING THE WORLD DI...  2016-04-11T07:00:00Z   \n",
       "7  <b>If you're looking for a complete beginners ...  2020-04-16T07:00:00Z   \n",
       "8  Now you can easily download your favorite Wiki...  2014-04-06T21:47:50Z   \n",
       "9  Following topics in Python programming languag...  2018-08-04T07:00:00Z   \n",
       "\n",
       "   price  averageUserRating  userRatingCount  \n",
       "0   0.00                4.5             19.0  \n",
       "1   0.00                3.5             62.0  \n",
       "2   0.00                4.0             20.0  \n",
       "3   0.00                4.0              7.0  \n",
       "4   9.99                NaN              NaN  \n",
       "5   0.00                2.0              6.0  \n",
       "6   0.99                NaN              NaN  \n",
       "7   2.99                NaN              NaN  \n",
       "8   0.00                4.0             31.0  \n",
       "9   0.00                3.5             24.0  "
      ]
     },
     "execution_count": 174,
     "metadata": {},
     "output_type": "execute_result"
    }
   ],
   "source": [
    "df_reduced = df_norm[[\"trackName\", \"artistName\", \"description\", \"releaseDate\", \"price\", \"averageUserRating\", \"userRatingCount\"]]\n",
    "df_reduced"
   ]
  },
  {
   "cell_type": "code",
   "execution_count": 176,
   "metadata": {},
   "outputs": [
    {
     "data": {
      "text/html": [
       "<div>\n",
       "<style scoped>\n",
       "    .dataframe tbody tr th:only-of-type {\n",
       "        vertical-align: middle;\n",
       "    }\n",
       "\n",
       "    .dataframe tbody tr th {\n",
       "        vertical-align: top;\n",
       "    }\n",
       "\n",
       "    .dataframe thead th {\n",
       "        text-align: right;\n",
       "    }\n",
       "</style>\n",
       "<table border=\"1\" class=\"dataframe\">\n",
       "  <thead>\n",
       "    <tr style=\"text-align: right;\">\n",
       "      <th></th>\n",
       "      <th>trackName</th>\n",
       "      <th>artistName</th>\n",
       "      <th>description</th>\n",
       "      <th>releaseDate</th>\n",
       "      <th>price</th>\n",
       "      <th>averageUserRating</th>\n",
       "      <th>userRatingCount</th>\n",
       "    </tr>\n",
       "  </thead>\n",
       "  <tbody>\n",
       "    <tr>\n",
       "      <th>0</th>\n",
       "      <td>Python For Beginners: A Practical and Step-by-...</td>\n",
       "      <td>Daniel Correa</td>\n",
       "      <td>This book is for beginners in programming and ...</td>\n",
       "      <td>2023-05-15T07:00:00Z</td>\n",
       "      <td>0.0</td>\n",
       "      <td>4.5</td>\n",
       "      <td>19.0</td>\n",
       "    </tr>\n",
       "    <tr>\n",
       "      <th>2</th>\n",
       "      <td>Python 3 Tutorial</td>\n",
       "      <td>Python Software Foundation.</td>\n",
       "      <td>This is an iBooks version of an official Pytho...</td>\n",
       "      <td>2014-12-16T08:00:00Z</td>\n",
       "      <td>0.0</td>\n",
       "      <td>4.0</td>\n",
       "      <td>20.0</td>\n",
       "    </tr>\n",
       "    <tr>\n",
       "      <th>3</th>\n",
       "      <td>Fundamentals of Programming: Using Python</td>\n",
       "      <td>Bruce Embry</td>\n",
       "      <td>Why Python and why another Python book?\\t\\nSim...</td>\n",
       "      <td>2020-02-14T08:00:00Z</td>\n",
       "      <td>0.0</td>\n",
       "      <td>4.0</td>\n",
       "      <td>7.0</td>\n",
       "    </tr>\n",
       "    <tr>\n",
       "      <th>8</th>\n",
       "      <td>Non-Programmer's Tutorial for Python 3</td>\n",
       "      <td>Wikibooks</td>\n",
       "      <td>Now you can easily download your favorite Wiki...</td>\n",
       "      <td>2014-04-06T21:47:50Z</td>\n",
       "      <td>0.0</td>\n",
       "      <td>4.0</td>\n",
       "      <td>31.0</td>\n",
       "    </tr>\n",
       "  </tbody>\n",
       "</table>\n",
       "</div>"
      ],
      "text/plain": [
       "                                           trackName  \\\n",
       "0  Python For Beginners: A Practical and Step-by-...   \n",
       "2                                  Python 3 Tutorial   \n",
       "3          Fundamentals of Programming: Using Python   \n",
       "8             Non-Programmer's Tutorial for Python 3   \n",
       "\n",
       "                    artistName  \\\n",
       "0                Daniel Correa   \n",
       "2  Python Software Foundation.   \n",
       "3                  Bruce Embry   \n",
       "8                    Wikibooks   \n",
       "\n",
       "                                         description           releaseDate  \\\n",
       "0  This book is for beginners in programming and ...  2023-05-15T07:00:00Z   \n",
       "2  This is an iBooks version of an official Pytho...  2014-12-16T08:00:00Z   \n",
       "3  Why Python and why another Python book?\\t\\nSim...  2020-02-14T08:00:00Z   \n",
       "8  Now you can easily download your favorite Wiki...  2014-04-06T21:47:50Z   \n",
       "\n",
       "   price  averageUserRating  userRatingCount  \n",
       "0    0.0                4.5             19.0  \n",
       "2    0.0                4.0             20.0  \n",
       "3    0.0                4.0              7.0  \n",
       "8    0.0                4.0             31.0  "
      ]
     },
     "execution_count": 176,
     "metadata": {},
     "output_type": "execute_result"
    }
   ],
   "source": [
    "df_reduced[df_reduced['averageUserRating'] > 3.5]"
   ]
  },
  {
   "cell_type": "code",
   "execution_count": null,
   "metadata": {},
   "outputs": [],
   "source": []
  },
  {
   "cell_type": "code",
   "execution_count": 175,
   "metadata": {},
   "outputs": [
    {
     "data": {
      "text/plain": [
       "<seaborn.axisgrid.JointGrid at 0x140c6fdc0>"
      ]
     },
     "execution_count": 175,
     "metadata": {},
     "output_type": "execute_result"
    },
    {
     "data": {
      "image/png": "[encoded data removed]",
      "text/plain": [
       "<Figure size 600x600 with 3 Axes>"
      ]
     },
     "metadata": {},
     "output_type": "display_data"
    }
   ],
   "source": [
    "sns.jointplot(x =\"price\", y = \"averageUserRating\", data = df_reduced)"
   ]
  },
  {
   "cell_type": "markdown",
   "metadata": {},
   "source": [
    "## Seaborn for data viz!"
   ]
  },
  {
   "cell_type": "markdown",
   "metadata": {},
   "source": [
    "`pip install seaborn`\n",
    "\n",
    "`python3 -m pip install -U seaborn --user`"
   ]
  },
  {
   "cell_type": "code",
   "execution_count": 57,
   "metadata": {},
   "outputs": [
    {
     "data": {
      "text/plain": [
       "<module 'seaborn' from '/Users/nick/Library/Python/3.9/lib/python/site-packages/seaborn/__init__.py'>"
      ]
     },
     "execution_count": 57,
     "metadata": {},
     "output_type": "execute_result"
    }
   ],
   "source": [
    "import seaborn as sns\n",
    "sns"
   ]
  },
  {
   "cell_type": "code",
   "execution_count": 65,
   "metadata": {},
   "outputs": [],
   "source": [
    "url = \"https://raw.githubusercontent.com/riteshc6/amazon_scraper/master/downloads/Computers%20%26%20Accessories.csv\" \n",
    "\n",
    "df = pd.read_csv(url)"
   ]
  },
  {
   "cell_type": "code",
   "execution_count": 67,
   "metadata": {},
   "outputs": [
    {
     "data": {
      "text/plain": [
       "Index(['Product', 'Price', 'Rating', 'No. of reviews', 'Link'], dtype='object')"
      ]
     },
     "execution_count": 67,
     "metadata": {},
     "output_type": "execute_result"
    }
   ],
   "source": [
    "df.columns"
   ]
  },
  {
   "cell_type": "code",
   "execution_count": 75,
   "metadata": {},
   "outputs": [
    {
     "data": {
      "text/plain": [
       "<seaborn.axisgrid.JointGrid at 0x123c0deb0>"
      ]
     },
     "execution_count": 75,
     "metadata": {},
     "output_type": "execute_result"
    },
    {
     "data": {
      "image/png": "[encoded data removed]",
      "text/plain": [
       "<Figure size 600x600 with 3 Axes>"
      ]
     },
     "metadata": {},
     "output_type": "display_data"
    }
   ],
   "source": [
    "sns.jointplot(x=\"Price\", y=\"Rating\", data =df)"
   ]
  },
  {
   "cell_type": "markdown",
   "metadata": {},
   "source": [
    "#### 1. Import NumPy as np"
   ]
  },
  {
   "cell_type": "code",
   "execution_count": 1,
   "metadata": {
    "collapsed": true
   },
   "outputs": [],
   "source": []
  },
  {
   "cell_type": "markdown",
   "metadata": {},
   "source": [
    "#### 2. Create an array of 10 zeros "
   ]
  },
  {
   "cell_type": "code",
   "execution_count": 2,
   "metadata": {
    "collapsed": false
   },
   "outputs": [
    {
     "data": {
      "text/plain": [
       "array([ 0.,  0.,  0.,  0.,  0.,  0.,  0.,  0.,  0.,  0.])"
      ]
     },
     "execution_count": 2,
     "metadata": {},
     "output_type": "execute_result"
    }
   ],
   "source": []
  },
  {
   "cell_type": "markdown",
   "metadata": {},
   "source": [
    "#### 3. Create an array of 10 ones"
   ]
  },
  {
   "cell_type": "code",
   "execution_count": 3,
   "metadata": {
    "collapsed": false
   },
   "outputs": [
    {
     "data": {
      "text/plain": [
       "array([ 1.,  1.,  1.,  1.,  1.,  1.,  1.,  1.,  1.,  1.])"
      ]
     },
     "execution_count": 3,
     "metadata": {},
     "output_type": "execute_result"
    }
   ],
   "source": []
  },
  {
   "cell_type": "markdown",
   "metadata": {},
   "source": [
    "#### 4. Create an array of 10 fives"
   ]
  },
  {
   "cell_type": "code",
   "execution_count": 4,
   "metadata": {
    "collapsed": false
   },
   "outputs": [
    {
     "data": {
      "text/plain": [
       "array([ 5.,  5.,  5.,  5.,  5.,  5.,  5.,  5.,  5.,  5.])"
      ]
     },
     "execution_count": 4,
     "metadata": {},
     "output_type": "execute_result"
    }
   ],
   "source": []
  },
  {
   "cell_type": "markdown",
   "metadata": {},
   "source": [
    "#### 5. Create an array of the integers from 10 to 50"
   ]
  },
  {
   "cell_type": "code",
   "execution_count": 5,
   "metadata": {
    "collapsed": false
   },
   "outputs": [
    {
     "data": {
      "text/plain": [
       "array([10, 11, 12, 13, 14, 15, 16, 17, 18, 19, 20, 21, 22, 23, 24, 25, 26,\n",
       "       27, 28, 29, 30, 31, 32, 33, 34, 35, 36, 37, 38, 39, 40, 41, 42, 43,\n",
       "       44, 45, 46, 47, 48, 49, 50])"
      ]
     },
     "execution_count": 5,
     "metadata": {},
     "output_type": "execute_result"
    }
   ],
   "source": []
  },
  {
   "cell_type": "markdown",
   "metadata": {},
   "source": [
    "#### 6. Create an array of all the even integers from 10 to 50"
   ]
  },
  {
   "cell_type": "code",
   "execution_count": 6,
   "metadata": {
    "collapsed": false
   },
   "outputs": [
    {
     "data": {
      "text/plain": [
       "array([10, 12, 14, 16, 18, 20, 22, 24, 26, 28, 30, 32, 34, 36, 38, 40, 42,\n",
       "       44, 46, 48, 50])"
      ]
     },
     "execution_count": 6,
     "metadata": {},
     "output_type": "execute_result"
    }
   ],
   "source": []
  },
  {
   "cell_type": "markdown",
   "metadata": {},
   "source": [
    "#### 7. Create a 3x3 matrix with values ranging from 0 to 8"
   ]
  },
  {
   "cell_type": "code",
   "execution_count": 7,
   "metadata": {
    "collapsed": false
   },
   "outputs": [
    {
     "data": {
      "text/plain": [
       "array([[0, 1, 2],\n",
       "       [3, 4, 5],\n",
       "       [6, 7, 8]])"
      ]
     },
     "execution_count": 7,
     "metadata": {},
     "output_type": "execute_result"
    }
   ],
   "source": []
  },
  {
   "cell_type": "markdown",
   "metadata": {},
   "source": [
    "#### 8. Create a 3x3 identity matrix"
   ]
  },
  {
   "cell_type": "code",
   "execution_count": 8,
   "metadata": {
    "collapsed": false
   },
   "outputs": [
    {
     "data": {
      "text/plain": [
       "array([[ 1.,  0.,  0.],\n",
       "       [ 0.,  1.,  0.],\n",
       "       [ 0.,  0.,  1.]])"
      ]
     },
     "execution_count": 8,
     "metadata": {},
     "output_type": "execute_result"
    }
   ],
   "source": []
  },
  {
   "cell_type": "markdown",
   "metadata": {},
   "source": [
    "#### 9. Use NumPy to generate a random number between 0 and 1"
   ]
  },
  {
   "cell_type": "code",
   "execution_count": 15,
   "metadata": {
    "collapsed": false
   },
   "outputs": [
    {
     "data": {
      "text/plain": [
       "array([ 0.42829726])"
      ]
     },
     "execution_count": 15,
     "metadata": {},
     "output_type": "execute_result"
    }
   ],
   "source": []
  },
  {
   "cell_type": "markdown",
   "metadata": {},
   "source": [
    "#### 10. Use NumPy to generate an array of 25 random numbers sampled from a standard normal distribution"
   ]
  },
  {
   "cell_type": "code",
   "execution_count": 33,
   "metadata": {
    "collapsed": false
   },
   "outputs": [
    {
     "data": {
      "text/plain": [
       "array([ 1.32031013,  1.6798602 , -0.42985892, -1.53116655,  0.85753232,\n",
       "        0.87339938,  0.35668636, -1.47491157,  0.15349697,  0.99530727,\n",
       "       -0.94865451, -1.69174783,  1.57525349, -0.70615234,  0.10991879,\n",
       "       -0.49478947,  1.08279872,  0.76488333, -2.3039931 ,  0.35401124,\n",
       "       -0.45454399, -0.64754649, -0.29391671,  0.02339861,  0.38272124])"
      ]
     },
     "execution_count": 33,
     "metadata": {},
     "output_type": "execute_result"
    }
   ],
   "source": []
  },
  {
   "cell_type": "markdown",
   "metadata": {},
   "source": [
    "#### 11. Create the following matrix:"
   ]
  },
  {
   "cell_type": "code",
   "execution_count": 35,
   "metadata": {
    "collapsed": false
   },
   "outputs": [
    {
     "data": {
      "text/plain": [
       "array([[ 0.01,  0.02,  0.03,  0.04,  0.05,  0.06,  0.07,  0.08,  0.09,  0.1 ],\n",
       "       [ 0.11,  0.12,  0.13,  0.14,  0.15,  0.16,  0.17,  0.18,  0.19,  0.2 ],\n",
       "       [ 0.21,  0.22,  0.23,  0.24,  0.25,  0.26,  0.27,  0.28,  0.29,  0.3 ],\n",
       "       [ 0.31,  0.32,  0.33,  0.34,  0.35,  0.36,  0.37,  0.38,  0.39,  0.4 ],\n",
       "       [ 0.41,  0.42,  0.43,  0.44,  0.45,  0.46,  0.47,  0.48,  0.49,  0.5 ],\n",
       "       [ 0.51,  0.52,  0.53,  0.54,  0.55,  0.56,  0.57,  0.58,  0.59,  0.6 ],\n",
       "       [ 0.61,  0.62,  0.63,  0.64,  0.65,  0.66,  0.67,  0.68,  0.69,  0.7 ],\n",
       "       [ 0.71,  0.72,  0.73,  0.74,  0.75,  0.76,  0.77,  0.78,  0.79,  0.8 ],\n",
       "       [ 0.81,  0.82,  0.83,  0.84,  0.85,  0.86,  0.87,  0.88,  0.89,  0.9 ],\n",
       "       [ 0.91,  0.92,  0.93,  0.94,  0.95,  0.96,  0.97,  0.98,  0.99,  1.  ]])"
      ]
     },
     "execution_count": 35,
     "metadata": {},
     "output_type": "execute_result"
    }
   ],
   "source": []
  },
  {
   "cell_type": "markdown",
   "metadata": {},
   "source": [
    "#### 12. Create an array of 20 linearly spaced points between 0 and 1:"
   ]
  },
  {
   "cell_type": "code",
   "execution_count": 36,
   "metadata": {
    "collapsed": false
   },
   "outputs": [
    {
     "data": {
      "text/plain": [
       "array([ 0.        ,  0.05263158,  0.10526316,  0.15789474,  0.21052632,\n",
       "        0.26315789,  0.31578947,  0.36842105,  0.42105263,  0.47368421,\n",
       "        0.52631579,  0.57894737,  0.63157895,  0.68421053,  0.73684211,\n",
       "        0.78947368,  0.84210526,  0.89473684,  0.94736842,  1.        ])"
      ]
     },
     "execution_count": 36,
     "metadata": {},
     "output_type": "execute_result"
    }
   ],
   "source": []
  },
  {
   "cell_type": "markdown",
   "metadata": {},
   "source": [
    "## Numpy Indexing and Selection\n",
    "\n",
    "Now you will be given a few matrices, and be asked to replicate the resulting matrix outputs:"
   ]
  },
  {
   "cell_type": "code",
   "execution_count": 38,
   "metadata": {
    "collapsed": false
   },
   "outputs": [
    {
     "data": {
      "text/plain": [
       "array([[ 1,  2,  3,  4,  5],\n",
       "       [ 6,  7,  8,  9, 10],\n",
       "       [11, 12, 13, 14, 15],\n",
       "       [16, 17, 18, 19, 20],\n",
       "       [21, 22, 23, 24, 25]])"
      ]
     },
     "execution_count": 38,
     "metadata": {},
     "output_type": "execute_result"
    }
   ],
   "source": [
    "mat = np.arange(1,26).reshape(5,5)\n",
    "mat"
   ]
  },
  {
   "cell_type": "markdown",
   "metadata": {},
   "source": [
    "#### 13. Write code to produce the following output (from referrring to mat): \n",
    "\n",
    "``` \n",
    "array([[12, 13, 14, 15],  \n",
    "       [17, 18, 19, 20],  \n",
    "       [22, 23, 24, 25]])\n",
    "```"
   ]
  },
  {
   "cell_type": "code",
   "execution_count": 40,
   "metadata": {
    "collapsed": false
   },
   "outputs": [
    {
     "data": {
      "text/plain": [
       "array([[12, 13, 14, 15],\n",
       "       [17, 18, 19, 20],\n",
       "       [22, 23, 24, 25]])"
      ]
     },
     "execution_count": 40,
     "metadata": {},
     "output_type": "execute_result"
    }
   ],
   "source": []
  },
  {
   "cell_type": "markdown",
   "metadata": {},
   "source": [
    "#### 14. Write code below to produce the following output (from referring to mat): \n",
    "``` 20 ```"
   ]
  },
  {
   "cell_type": "code",
   "execution_count": 41,
   "metadata": {
    "collapsed": false
   },
   "outputs": [
    {
     "data": {
      "text/plain": [
       "20"
      ]
     },
     "execution_count": 41,
     "metadata": {},
     "output_type": "execute_result"
    }
   ],
   "source": []
  },
  {
   "cell_type": "markdown",
   "metadata": {},
   "source": [
    "#### 15. Write code below to produce the following output (from referring to mat):\n",
    "  \n",
    "```\n",
    "array([[ 2],\n",
    "       [ 7],\n",
    "       [12]])\n",
    "```"
   ]
  },
  {
   "cell_type": "code",
   "execution_count": 42,
   "metadata": {
    "collapsed": false
   },
   "outputs": [
    {
     "data": {
      "text/plain": [
       "array([[ 2],\n",
       "       [ 7],\n",
       "       [12]])"
      ]
     },
     "execution_count": 42,
     "metadata": {},
     "output_type": "execute_result"
    }
   ],
   "source": []
  },
  {
   "cell_type": "markdown",
   "metadata": {},
   "source": [
    "#### 16. Write code that produces the following output (from referring to mat)\n",
    "\n",
    "``` array([21, 22, 23, 24, 25])```"
   ]
  },
  {
   "cell_type": "code",
   "execution_count": 46,
   "metadata": {
    "collapsed": false
   },
   "outputs": [
    {
     "data": {
      "text/plain": [
       "array([21, 22, 23, 24, 25])"
      ]
     },
     "execution_count": 46,
     "metadata": {},
     "output_type": "execute_result"
    }
   ],
   "source": []
  },
  {
   "cell_type": "markdown",
   "metadata": {},
   "source": [
    "#### 17. Write code that produces the following output (from referring to mat)\n",
    "\n",
    "```\n",
    "array([[16, 17, 18, 19, 20],\n",
    "       [21, 22, 23, 24, 25]])\n",
    "```"
   ]
  },
  {
   "cell_type": "code",
   "execution_count": 49,
   "metadata": {
    "collapsed": false
   },
   "outputs": [
    {
     "data": {
      "text/plain": [
       "array([[16, 17, 18, 19, 20],\n",
       "       [21, 22, 23, 24, 25]])"
      ]
     },
     "execution_count": 49,
     "metadata": {},
     "output_type": "execute_result"
    }
   ],
   "source": []
  },
  {
   "cell_type": "markdown",
   "metadata": {},
   "source": [
    "### Now do the following"
   ]
  },
  {
   "cell_type": "markdown",
   "metadata": {},
   "source": [
    "#### 18. Get the sum of all the values in mat"
   ]
  },
  {
   "cell_type": "code",
   "execution_count": 50,
   "metadata": {
    "collapsed": false
   },
   "outputs": [
    {
     "data": {
      "text/plain": [
       "325"
      ]
     },
     "execution_count": 50,
     "metadata": {},
     "output_type": "execute_result"
    }
   ],
   "source": []
  },
  {
   "cell_type": "markdown",
   "metadata": {},
   "source": [
    "#### 19. Get the standard deviation of the values in mat"
   ]
  },
  {
   "cell_type": "code",
   "execution_count": 51,
   "metadata": {
    "collapsed": false
   },
   "outputs": [
    {
     "data": {
      "text/plain": [
       "7.2111025509279782"
      ]
     },
     "execution_count": 51,
     "metadata": {},
     "output_type": "execute_result"
    }
   ],
   "source": []
  },
  {
   "cell_type": "markdown",
   "metadata": {},
   "source": [
    "#### 20. Get the sum of all the columns in mat"
   ]
  },
  {
   "cell_type": "code",
   "execution_count": 53,
   "metadata": {
    "collapsed": false
   },
   "outputs": [
    {
     "data": {
      "text/plain": [
       "array([55, 60, 65, 70, 75])"
      ]
     },
     "execution_count": 53,
     "metadata": {},
     "output_type": "execute_result"
    }
   ],
   "source": []
  }
 ],
 "metadata": {
  "kernelspec": {
   "display_name": "Python 3",
   "language": "python",
   "name": "python3"
  },
  "language_info": {
   "codemirror_mode": {
    "name": "ipython",
    "version": 3
   },
   "file_extension": ".py",
   "mimetype": "text/x-python",
   "name": "python",
   "nbconvert_exporter": "python",
   "pygments_lexer": "ipython3",
   "version": "3.9.6"
  }
 },
 "nbformat": 4,
 "nbformat_minor": 0
}
