{
 "cells": [
  {
   "cell_type": "markdown",
   "id": "1eba3b72",
   "metadata": {
    "id": "1eba3b72"
   },
   "source": [
    "# 04 Python Data Structures II - Sets and Dictionaries\n"
   ]
  },
  {
   "cell_type": "markdown",
   "id": "104769f3",
   "metadata": {},
   "source": [
    "## Plan for the Lecture:\n",
    "\n",
    "1. Recap on Lists and Tuples\n",
    "\n",
    "2. Sets\n",
    "\n",
    "3. Dictionaries"
   ]
  },
  {
   "cell_type": "markdown",
   "id": "b9834ff6",
   "metadata": {},
   "source": [
    "## 1. Recap on Lists and Tuples\n",
    "\n",
    "* A list in Python does use the subscript operator `[ ]` typically associated with an array. Elements in this list are also indexed.\n",
    "\n",
    "* The list will maintain a pointer (reference) to objects, rather the integer values (remember Python types are classes).\n",
    "\n",
    "* Lists in python are resizable, unlike static arrays which are fixed.\n",
    "\n",
    "* Python lists can store elements of different types, whereas arrays are declared to store values of one type.\n"
   ]
  },
  {
   "cell_type": "markdown",
   "id": "e73585cd",
   "metadata": {},
   "source": [
    "## 1.1 Lists & Arrays \n",
    "\n",
    "* The items in an array are called elements.\n",
    "\n",
    "* We specify how many elements an array will have when we declare the size of the array (if ‘fixed-size’), unlike flexible sized collections (e.g. ArrayList in Java).\n",
    "\n",
    "* Elements are numbered and can referred to by number inside the `[ ]` is called the index. This is used when data is input and output.\n",
    "\n",
    "* Can only store data if it matches the type the array is declared with.\n",
    "\n"
   ]
  },
  {
   "cell_type": "code",
   "execution_count": null,
   "id": "9045400c",
   "metadata": {},
   "outputs": [],
   "source": [
    "l = [1,2.25,\"Nick\",\"N\",True]\n",
    "l"
   ]
  },
  {
   "cell_type": "markdown",
   "id": "23e525d0",
   "metadata": {},
   "source": [
    "<img src=\"https://scaler.com/topics/images/character-in-character-array.webp\" alt=\"char_array\" width=\"650\"> "
   ]
  },
  {
   "cell_type": "markdown",
   "id": "9b6ced46",
   "metadata": {},
   "source": [
    "## 1.2 Tuples in Python `( )`\n",
    "\n",
    "* We’ve seen that a Python list is indexed and can store elements of different types (heterogeneity) \n",
    "\n",
    "* Tuples are constant (immutable) – once they are declared, they cannot be reassigned. \n",
    "\n",
    "* A list is declared with `[ ]` whereas the tuple is declared with `( )`\n",
    "\n",
    "* We can still refer to elements in a tuple via the `[ ]` \n"
   ]
  },
  {
   "cell_type": "code",
   "execution_count": null,
   "id": "5c1eb4d8",
   "metadata": {},
   "outputs": [],
   "source": [
    "t = (1,2,3,4,5,6)\n",
    "t"
   ]
  },
  {
   "cell_type": "markdown",
   "id": "2cf034f4",
   "metadata": {},
   "source": [
    "## 1.3 Tuples vs Lists \n",
    "\n",
    "* Tuples are immutable (constant) – once they are declared, they cannot be reassigned. \n",
    "\n",
    "* A list is mutable – elements can be reassigned. \n",
    "\n",
    "* A list is declared with `[ ]` whereas the tuple is declared with `( )`\n",
    "\n",
    "* We can refer to elements in both a list and tuple via the `[ ]` \n"
   ]
  },
  {
   "cell_type": "markdown",
   "id": "40f3dbe0",
   "metadata": {},
   "source": [
    "## 2.0 Sets in Python `{ }`\n",
    "\n",
    "* Sets in mathematics refer to a set of distinct numbers – there are no duplicates.\n",
    "\n",
    "* Whilst one may try and assign multiple instances of the same value, the Python set only stores one instance of this value.\n",
    "\n",
    "* Casting data to a set is a useful way to remove duplicates!\n",
    "\n",
    "* Sets are declared with the `{ }`\n",
    "\n",
    "* Sets are mutable (can change)\n"
   ]
  },
  {
   "cell_type": "code",
   "execution_count": null,
   "id": "4d43eb33",
   "metadata": {},
   "outputs": [],
   "source": [
    "s = {1,2,3,4,5,6}\n",
    "s"
   ]
  },
  {
   "cell_type": "code",
   "execution_count": null,
   "id": "912314c8",
   "metadata": {},
   "outputs": [],
   "source": [
    "s.add(7)\n",
    "s"
   ]
  },
  {
   "cell_type": "code",
   "execution_count": null,
   "id": "969b5f2c",
   "metadata": {},
   "outputs": [],
   "source": [
    "s.remove(7)\n",
    "s"
   ]
  },
  {
   "cell_type": "code",
   "execution_count": null,
   "id": "893f0c77",
   "metadata": {},
   "outputs": [],
   "source": [
    "s = {1,2,3,4,5,6,1,2,3,4,5,6}\n",
    "s"
   ]
  },
  {
   "cell_type": "code",
   "execution_count": null,
   "id": "4cd0259f",
   "metadata": {},
   "outputs": [],
   "source": [
    "l = [1,1,2,2,3,3,4,4,5,5,6,6]\n",
    "s = set(l)\n",
    "s"
   ]
  },
  {
   "cell_type": "markdown",
   "id": "196a18b7",
   "metadata": {},
   "source": [
    "## 2.1 Standard Sets and Notation (from Discrete Mathematics)\n",
    "\n",
    "* $ \\mathbb{N} = \\{ 0, 1, 2, 3, ...\\} $ the set of all non-negative integers\n",
    "\n",
    "* $ \\mathbb{Z} = \\{..., -3, -2, -1, 0, 1, 2, 3, ...\\} $ the set of all integers\n",
    "\n",
    "* $ \\mathbb{Q}$, the set of all rational numbers (fractions), i.e. numbers of the form $a/b$ where $a,b$ are integers with $b \\neq 0$\n",
    "\n",
    "* $ \\mathbb{R}$, the set of all real numbers, also denoted as as $(-\\infty, +\\infty)$"
   ]
  },
  {
   "cell_type": "code",
   "execution_count": 7,
   "id": "c7dc365c",
   "metadata": {},
   "outputs": [
    {
     "data": {
      "text/plain": [
       "{0, 1, 2, 3, 4, 5, Ellipsis}"
      ]
     },
     "execution_count": 7,
     "metadata": {},
     "output_type": "execute_result"
    }
   ],
   "source": [
    "N = {0, 1, 2, 3, 4, 5, ...}\n",
    "N"
   ]
  },
  {
   "cell_type": "markdown",
   "id": "69796656",
   "metadata": {},
   "source": [
    "## 2.2 Specifying Sets via Condition \n",
    "\n",
    "* $ \\in $ means <u>in</u> \n",
    "\n",
    "    * if $ x \\in \\mathbb{N} $ then $x$ is <u>in</u> $\\mathbb{N}$ - set of non-negative integers.\n",
    "\n",
    "* $\\mid$ means <u>such that</u>\n",
    "\n",
    "    * if $ S = \\{ x \\in \\mathbb{R} \\mid x > 0 \\} $, then S is going to hold real numbers greater than zero."
   ]
  },
  {
   "cell_type": "markdown",
   "id": "0ac495bf",
   "metadata": {},
   "source": [
    "* $ S = \\{ x \\in \\mathbb{R} \\mid x > 0 \\} $"
   ]
  },
  {
   "cell_type": "code",
   "execution_count": 18,
   "id": "166178b7",
   "metadata": {},
   "outputs": [
    {
     "data": {
      "text/plain": [
       "{1, 2, 3}"
      ]
     },
     "execution_count": 18,
     "metadata": {},
     "output_type": "execute_result"
    }
   ],
   "source": [
    "s = set()\n",
    "l = [-2, -1, 0, 1, 2, 3]\n",
    "\n",
    "for number in l: \n",
    "    if number > 0:\n",
    "        s.add(number)\n",
    "        \n",
    "s\n",
    "    "
   ]
  },
  {
   "cell_type": "markdown",
   "id": "093a9b4e",
   "metadata": {},
   "source": [
    "## 2.3 Subsets and Set Equality\n",
    "\n",
    "* $ \\subset $ means subset\n",
    "\n",
    "* subset $ A \\subset B $"
   ]
  },
  {
   "cell_type": "code",
   "execution_count": 19,
   "id": "1c9621b6",
   "metadata": {},
   "outputs": [],
   "source": [
    "A = {1,2,3}\n",
    "B = {1,2,3,4,5,6}"
   ]
  },
  {
   "cell_type": "code",
   "execution_count": 20,
   "id": "bc88a4c6",
   "metadata": {},
   "outputs": [
    {
     "data": {
      "text/plain": [
       "True"
      ]
     },
     "execution_count": 20,
     "metadata": {},
     "output_type": "execute_result"
    }
   ],
   "source": [
    "A.issubset(B)"
   ]
  },
  {
   "cell_type": "code",
   "execution_count": 21,
   "id": "cf34ff24",
   "metadata": {},
   "outputs": [],
   "source": [
    "A = {1,2,3}\n",
    "B = {4,5,6}"
   ]
  },
  {
   "cell_type": "code",
   "execution_count": 22,
   "id": "83304747",
   "metadata": {},
   "outputs": [
    {
     "data": {
      "text/plain": [
       "False"
      ]
     },
     "execution_count": 22,
     "metadata": {},
     "output_type": "execute_result"
    }
   ],
   "source": [
    "A.issubset(B)"
   ]
  },
  {
   "cell_type": "markdown",
   "id": "6ccbb7be",
   "metadata": {},
   "source": [
    "## 2.4 Union, Intersection and Difference \n",
    "\n",
    "* Intersect $ A \\cap B $ = ` A & B ` in Python\n",
    "\n",
    "* Union $ A \\cup B $ =  ` A | B ` in Python\n",
    "\n",
    "* Difference $ A \\setminus B $ =  ` A - B ` in Python"
   ]
  },
  {
   "cell_type": "markdown",
   "id": "539a5ec7",
   "metadata": {},
   "source": [
    "## 2.4.1 Set Intersect"
   ]
  },
  {
   "cell_type": "code",
   "execution_count": null,
   "id": "37640096",
   "metadata": {},
   "outputs": [],
   "source": [
    "A = {1,2,3,4,5,6}\n",
    "B = {4,5,6,7,8,9}\n",
    "A & B\n"
   ]
  },
  {
   "cell_type": "markdown",
   "id": "6f45633e",
   "metadata": {},
   "source": [
    "## 2.4.2 Set Union"
   ]
  },
  {
   "cell_type": "code",
   "execution_count": null,
   "id": "c22ef447",
   "metadata": {},
   "outputs": [],
   "source": [
    "A = {1,2,3,4,5,6}\n",
    "B = {4,5,6,7,8,9}\n",
    "A | B\n"
   ]
  },
  {
   "cell_type": "markdown",
   "id": "a63d8e52",
   "metadata": {},
   "source": [
    "## 2.4.3 Set Difference"
   ]
  },
  {
   "cell_type": "code",
   "execution_count": null,
   "id": "b1beac39",
   "metadata": {},
   "outputs": [],
   "source": [
    "A = {1,2,3,4,5,6}\n",
    "B = {4,5,6,7,8,9}\n",
    "A - B"
   ]
  },
  {
   "cell_type": "code",
   "execution_count": null,
   "id": "d2ce4385",
   "metadata": {},
   "outputs": [],
   "source": [
    "A = {1,2,3,4,5,6}\n",
    "B = {4,5,6,7,8,9}\n",
    "B - A"
   ]
  },
  {
   "cell_type": "markdown",
   "id": "cdc73ecd",
   "metadata": {},
   "source": [
    "## 3.0 Dictionaries `{ k : v}`\n",
    "\n",
    "* An English Dictionary would allow us to look up the definition of a word. We search the word to locate the definition. \n",
    "\n",
    "* In Python, we specify a key (word) to be able to get a value (definition). \n",
    "\n",
    "* Similar to an associative array, or a Map in Java.\n",
    "\n",
    "* Like Set, Dictionaries also use the `{ }` but they feature : for a key and value pair  `{ k : v }`\n"
   ]
  },
  {
   "cell_type": "code",
   "execution_count": null,
   "id": "9cdec5dc",
   "metadata": {},
   "outputs": [],
   "source": [
    "d = {\"USA\": 200, \"UK\": 200, \"EU\": 200}\n",
    "d\n"
   ]
  },
  {
   "cell_type": "code",
   "execution_count": null,
   "id": "2b5c9642",
   "metadata": {},
   "outputs": [],
   "source": [
    "d = {\"USA\": 200, \"UK\": 200, \"EU\": 200}\n",
    "d[\"UK\"]\n"
   ]
  },
  {
   "cell_type": "code",
   "execution_count": null,
   "id": "e9afa2d5",
   "metadata": {},
   "outputs": [],
   "source": [
    "d = {\"USA\": 200, \"UK\": 200, \"EU\": 200}\n",
    "d[\"UK\"]\n"
   ]
  },
  {
   "cell_type": "markdown",
   "id": "d2943d52",
   "metadata": {},
   "source": [
    "## 3.1 Append"
   ]
  },
  {
   "cell_type": "code",
   "execution_count": null,
   "id": "1d7be8ab",
   "metadata": {},
   "outputs": [],
   "source": [
    "d = {\"USA\": 200, \"UK\": 200, \"EU\": 200}\n",
    "d[\"Asia\"] = 300\n",
    "d\n"
   ]
  },
  {
   "cell_type": "markdown",
   "id": "9157c9d6",
   "metadata": {},
   "source": [
    "## 3.2 Remove"
   ]
  },
  {
   "cell_type": "code",
   "execution_count": null,
   "id": "a4ccae47",
   "metadata": {},
   "outputs": [],
   "source": [
    "d = {\"USA\": 200, \"UK\": 200, \"EU\": 200, \"Asia\": 30}\n",
    "del d[\"Asia\"]\n",
    "d\n"
   ]
  },
  {
   "cell_type": "code",
   "execution_count": null,
   "id": "355b59d5",
   "metadata": {},
   "outputs": [],
   "source": [
    "type(d)"
   ]
  },
  {
   "cell_type": "code",
   "execution_count": null,
   "id": "0f9152aa",
   "metadata": {},
   "outputs": [],
   "source": [
    "dir(dict)"
   ]
  },
  {
   "cell_type": "code",
   "execution_count": null,
   "id": "9e8856bf",
   "metadata": {},
   "outputs": [],
   "source": [
    "d = {\"USA\": 200, \"UK\": 200, \"EU\": 200}\n",
    "print( d.keys() )\n",
    "print( d.values() )\n"
   ]
  },
  {
   "cell_type": "markdown",
   "id": "da96d114",
   "metadata": {},
   "source": [
    "## JSON \n",
    "\n",
    "* JavaScript Object Notation (JSON) is a common format for storing data. \n",
    "\n",
    "* Like Python dictionaries, it also uses Key : Value pairs.\n",
    "\n",
    "* Keys translate to columns, and values translate to rows. "
   ]
  },
  {
   "cell_type": "markdown",
   "id": "b39f6628",
   "metadata": {},
   "source": [
    "## 3.1 JSON\n",
    "\n",
    "* JavaScript Object Notation (JSON) is near universal form that REST APIs use today to communicate data. \n",
    "\n",
    "* We can import this format into Python. \n",
    "\n",
    "* As you'll see, JSON utilises a similar key and value pair to the `dict` Python structure/type."
   ]
  },
  {
   "cell_type": "markdown",
   "id": "9b7d6f77",
   "metadata": {},
   "source": [
    "* Python dict -> JSON string\n",
    "* `json_str = json.dumps(person)`\n",
    "\n",
    "\n",
    "* JSON string -> Python dict\n",
    "* `person_dict = json.loads(json_str)`"
   ]
  },
  {
   "cell_type": "code",
   "execution_count": 1,
   "id": "dc10dae1",
   "metadata": {},
   "outputs": [],
   "source": [
    "import json"
   ]
  },
  {
   "cell_type": "code",
   "execution_count": null,
   "id": "da7de455",
   "metadata": {},
   "outputs": [
    {
     "name": "stdout",
     "output_type": "stream",
     "text": [
      "{\"name\": \"John\", \"age\": 30, \"city\": \"New York\"}\n"
     ]
    }
   ],
   "source": [
    "py_dict = {\n",
    "  \"name\": \"John\",\n",
    "  \"age\": 30,\n",
    "  \"city\": \"New York\"\n",
    "}\n",
    "\n",
    "json_str = json.dumps(py_dict)\n",
    "\n",
    "print(json_str)"
   ]
  },
  {
   "cell_type": "code",
   "execution_count": 26,
   "id": "8966c8ef",
   "metadata": {},
   "outputs": [
    {
     "name": "stdout",
     "output_type": "stream",
     "text": [
      "<class 'dict'>\n",
      "{'name': 'John', 'age': 30, 'city': 'New York'}\n"
     ]
    }
   ],
   "source": [
    "json_str = '{ \"name\":\"John\", \"age\":30, \"city\":\"New York\"}'\n",
    "\n",
    "py_dict = json.loads(json_str)\n",
    "print(type(py_dict))\n",
    "print(py_dict)"
   ]
  },
  {
   "cell_type": "markdown",
   "id": "46d0d432",
   "metadata": {},
   "source": [
    "## Very simple API example\n",
    "\n",
    "* https://randomuser.me/api/ generates a fictitious user's data in the form of JSON. \n",
    "\n",
    "* Navigate to the website to see the `{ k : v }` format\n"
   ]
  },
  {
   "cell_type": "code",
   "execution_count": 22,
   "id": "4623c319",
   "metadata": {},
   "outputs": [],
   "source": [
    "import requests\n",
    "\n",
    "url = \"https://randomuser.me/api/\"\n",
    "response = requests.get(url) # Send a GET request to the API\n",
    "\n",
    "data = response.json() # Convert the response to a Python dictionary"
   ]
  },
  {
   "cell_type": "code",
   "execution_count": 23,
   "id": "0820128c",
   "metadata": {},
   "outputs": [
    {
     "name": "stdout",
     "output_type": "stream",
     "text": [
      "{'results': [{'gender': 'male', 'name': {'title': 'Mr', 'first': 'Arnaud', 'last': 'Ma'}, 'location': {'street': {'number': 7245, 'name': '3rd St'}, 'city': 'Stratford', 'state': 'Nova Scotia', 'country': 'Canada', 'postcode': 'D1E 2D4', 'coordinates': {'latitude': '-65.9229', 'longitude': '-122.9170'}, 'timezone': {'offset': '-8:00', 'description': 'Pacific Time (US & Canada)'}}, 'email': 'arnaud.ma@example.com', 'login': {'uuid': '292b1d8b-b845-4d03-8c8b-4b5aa3beffbf', 'username': 'lazypanda344', 'password': 'rock', 'salt': 'SFsu2apW', 'md5': 'c0f7914ee5cd2c253e14e86c9b0d83da', 'sha1': '2f548a6652734bc428a07c10ad9068309dd96ac3', 'sha256': 'a139ab32b0ef73f49dad3947ffb91b2c03fd9677ba98ca76c9f48f7cff71f376'}, 'dob': {'date': '1985-02-21T19:43:08.148Z', 'age': 40}, 'registered': {'date': '2008-09-01T04:56:57.969Z', 'age': 17}, 'phone': 'Q27 X99-7948', 'cell': 'Q67 L17-9714', 'id': {'name': 'SIN', 'value': '692367139'}, 'picture': {'large': 'https://randomuser.me/api/portraits/men/65.jpg', 'medium': 'https://randomuser.me/api/portraits/med/men/65.jpg', 'thumbnail': 'https://randomuser.me/api/portraits/thumb/men/65.jpg'}, 'nat': 'CA'}], 'info': {'seed': '23d03d12680e502a', 'results': 1, 'page': 1, 'version': '1.4'}}\n"
     ]
    }
   ],
   "source": [
    "print(data)"
   ]
  },
  {
   "cell_type": "code",
   "execution_count": 24,
   "id": "e8a03678",
   "metadata": {},
   "outputs": [
    {
     "name": "stdout",
     "output_type": "stream",
     "text": [
      "{'title': 'Mr', 'first': 'Arnaud', 'last': 'Ma'}\n"
     ]
    }
   ],
   "source": [
    "print(data[\"results\"][0][\"name\"])"
   ]
  },
  {
   "cell_type": "code",
   "execution_count": 25,
   "id": "5a8d3368",
   "metadata": {},
   "outputs": [
    {
     "data": {
      "text/plain": [
       "dict"
      ]
     },
     "execution_count": 25,
     "metadata": {},
     "output_type": "execute_result"
    }
   ],
   "source": [
    "type(data)"
   ]
  },
  {
   "cell_type": "markdown",
   "id": "b0c4ff51",
   "metadata": {},
   "source": [
    "Python is useful language for data science!"
   ]
  },
  {
   "cell_type": "markdown",
   "id": "7274d3c9",
   "metadata": {},
   "source": [
    "## Summary \n",
    "\n",
    "* You can distinguish between the key collections by the pairs of brackets used: \n",
    "\n",
    "| Structure | Brackets | Characteristics |\n",
    "| ----------- | ----------- | --------- |\n",
    "| Lists |\t`[ , ]` | mutable |\n",
    "| Tuples |\t`( , )` | immutable | \n",
    "| Sets |\t`{ , }`  | unique values (no duplicates) |\n",
    "| Dict | `{k : v}` | key and value pairs |\n"
   ]
  },
  {
   "cell_type": "markdown",
   "id": "dd38cc99",
   "metadata": {
    "id": "dd38cc99"
   },
   "source": [
    "#### This Jupyter Notebook contains exercises for you to extend your introduction to OOP, by creating lists, tuples, sets, dictionaries of objects. Attempt the following exercises, which slowly build in complexity. If you get stuck, check back to the <a href = \"https://www.youtube.com/watch?v=359eGFD7hS4\"> Python lecture recording on Data Structures here</a> or view the <a href = \"https://www.w3schools.com/python/python_lists.asp\">W3Schools page on Python Variables</a>, which includes examples, exercises and quizzes to help your understanding. "
   ]
  },
  {
   "cell_type": "markdown",
   "id": "2ae0edc0",
   "metadata": {},
   "source": [
    "### Exercise 1:\n",
    "\n",
    "Create a Python dictionary (`dict`) which stores the price for three items of food. For example; milk is £1.30, pasta is £0.75, and strawberries are £1.50. Output the dictionary to check the `values` are stored, and then see if you can access the price for one of the items by using the item name as the `key`.\n",
    "\n",
    "Extension: Now add a new `key` and `value` pair to previously defined dictionary."
   ]
  },
  {
   "cell_type": "code",
   "execution_count": null,
   "id": "84b40bdc",
   "metadata": {},
   "outputs": [],
   "source": [
    "#Write your solution here\n"
   ]
  },
  {
   "cell_type": "markdown",
   "id": "d14cb700",
   "metadata": {},
   "source": [
    "### Exercise 2: \n",
    "\n",
    "Write one function which will return the intersection of two `sets` passed in.\n",
    "\n",
    "Write another function which will return the union of two `sets` passed in."
   ]
  },
  {
   "cell_type": "code",
   "execution_count": null,
   "id": "c4dc15f6",
   "metadata": {},
   "outputs": [],
   "source": [
    "a = {1,2,3,4,5,6,7,8,9,10}\n",
    "b = {7,8,9,10,11,12,13,14}\n",
    "\n",
    "#write your solution here"
   ]
  },
  {
   "cell_type": "markdown",
   "id": "f62b3876",
   "metadata": {
    "id": "f62b3876"
   },
   "source": [
    "### Exercise 3:\n",
    "Write a function that will generate the multiplications of a number passed in, and store each multiple in a `set` of values.\n",
    "\n",
    "For example, if the value 5 is passed in, then generate the 5 times table. The values of the multiplication table should be stored in indivdiual elements (max 12) of a `set`. The `set` should be returned at the end of the function. \n"
   ]
  },
  {
   "cell_type": "code",
   "execution_count": null,
   "id": "c92f5ae0",
   "metadata": {},
   "outputs": [],
   "source": [
    "def generate_multiples():\n",
    "    ... # Write your solution here."
   ]
  },
  {
   "cell_type": "code",
   "execution_count": null,
   "id": "cb185686",
   "metadata": {},
   "outputs": [],
   "source": [
    "generate_multiples()"
   ]
  },
  {
   "cell_type": "markdown",
   "id": "18d27a22",
   "metadata": {},
   "source": [
    "### Exercise 4: \n",
    "\n",
    "Given two `sets` (prices and food names), can you create a dictionary (`dict`) that uses the foodnames as `keys`, and the prices as `values`?\n"
   ]
  },
  {
   "cell_type": "code",
   "execution_count": null,
   "id": "989af81c",
   "metadata": {},
   "outputs": [],
   "source": [
    "foodnames = {\"milk\", \"pasta\", \"strawberries\"}\n",
    "prices = {1.30, 0.75, 1.50}\n",
    "\n",
    "print(foodnames)\n",
    "print(prices)\n",
    "\n",
    "# Write your solution: \n"
   ]
  },
  {
   "cell_type": "markdown",
   "id": "5861f62c",
   "metadata": {},
   "source": [
    "### (Bonus) Exercise (in the style of an interview question)\n",
    "\n",
    "You are given a list of integers, and your task is to find the longest subsequence of consecutive integers within the list. A subsequence is a sequence that can be derived from another sequence by deleting some or no elements without changing the order of the remaining elements. \n",
    "\n",
    "Write a Python function to solve this problem. Your function should return the longest consecutive subsequence found in the original list.\n",
    "\n",
    "For example, given the input list: ``` [4, 2, 8, 5, 6, 7, 11, 12, 10]```\n",
    "\n",
    "The longest consecutive subsequence is: ``` [4, 5, 6, 7, 8] ```\n"
   ]
  },
  {
   "cell_type": "code",
   "execution_count": null,
   "id": "ddf7677c",
   "metadata": {
    "id": "ddf7677c"
   },
   "outputs": [],
   "source": [
    "def longest_consecutive_subsequence(numbers):\n",
    "    #write your solution here\n",
    "    ...\n",
    "    #write your solution above\n",
    "\n",
    "\n",
    "numbers = [4, 2, 8, 5, 6, 7, 11, 12, 10]\n",
    "result = longest_consecutive_subsequence(numbers)\n",
    "print(result)  "
   ]
  }
 ],
 "metadata": {
  "colab": {
   "provenance": []
  },
  "kernelspec": {
   "display_name": "Python 3",
   "language": "python",
   "name": "python3"
  },
  "language_info": {
   "codemirror_mode": {
    "name": "ipython",
    "version": 3
   },
   "file_extension": ".py",
   "mimetype": "text/x-python",
   "name": "python",
   "nbconvert_exporter": "python",
   "pygments_lexer": "ipython3",
   "version": "3.9.6"
  }
 },
 "nbformat": 4,
 "nbformat_minor": 5
}
