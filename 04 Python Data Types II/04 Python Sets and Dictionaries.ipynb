{
 "cells": [
  {
   "cell_type": "markdown",
   "id": "1eba3b72",
   "metadata": {
    "id": "1eba3b72"
   },
   "source": [
    "# 04 Python Data Structures II - Sets and Dictionaries\n"
   ]
  },
  {
   "cell_type": "markdown",
   "id": "104769f3",
   "metadata": {},
   "source": [
    "## Plan for the Lecture:\n",
    "\n",
    "1. Recap on Lists and Tuples\n",
    "\n",
    "2. Sets\n",
    "\n",
    "3. Dictionaries"
   ]
  },
  {
   "cell_type": "markdown",
   "id": "b9834ff6",
   "metadata": {},
   "source": [
    "## 1. Recap on Lists and Tuples\n",
    "\n",
    "* A list in Python does use the subscript operator `[ ]` typically associated with an array. Elements in this list are also indexed.\n",
    "\n",
    "* The list will maintain a pointer (reference) to objects, rather the integer values (remember Python types are classes).\n",
    "\n",
    "* Lists in python are resizable, unlike static arrays which are fixed.\n",
    "\n",
    "* Python lists can store elements of different types, whereas arrays are declared to store values of one type.\n"
   ]
  },
  {
   "cell_type": "markdown",
   "id": "e73585cd",
   "metadata": {},
   "source": [
    "## 1.1 Lists & Arrays \n",
    "\n",
    "* The items in an array are called elements.\n",
    "\n",
    "* We specify how many elements an array will have when we declare the size of the array (if ‘fixed-size’), unlike flexible sized collections (e.g. ArrayList in Java).\n",
    "\n",
    "* Elements are numbered and can referred to by number inside the `[ ]` is called the index. This is used when data is input and output.\n",
    "\n",
    "* Can only store data if it matches the type the array is declared with.\n",
    "\n"
   ]
  },
  {
   "cell_type": "code",
   "execution_count": null,
   "id": "9045400c",
   "metadata": {},
   "outputs": [],
   "source": [
    "l = [1,2.25,\"Nick\",\"N\",True]\n",
    "l"
   ]
  },
  {
   "cell_type": "markdown",
   "id": "23e525d0",
   "metadata": {},
   "source": [
    "<img src=\"https://scaler.com/topics/images/character-in-character-array.webp\" alt=\"char_array\" width=\"650\"> "
   ]
  },
  {
   "cell_type": "markdown",
   "id": "9b6ced46",
   "metadata": {},
   "source": [
    "## 1.2 Tuples in Python `( )`\n",
    "\n",
    "* We’ve seen that a Python list is indexed and can store elements of different types (heterogeneity) \n",
    "\n",
    "* Tuples are constant (immutable) – once they are declared, they cannot be reassigned. \n",
    "\n",
    "* A list is declared with `[ ]` whereas the tuple is declared with `( )`\n",
    "\n",
    "* We can still refer to elements in a tuple via the `[ ]` \n"
   ]
  },
  {
   "cell_type": "code",
   "execution_count": null,
   "id": "5c1eb4d8",
   "metadata": {},
   "outputs": [],
   "source": [
    "t = (1,2,3,4,5,6)\n",
    "t"
   ]
  },
  {
   "cell_type": "markdown",
   "id": "2cf034f4",
   "metadata": {},
   "source": [
    "## 1.3 Tuples vs Lists \n",
    "\n",
    "* Tuples are immutable (constant) – once they are declared, they cannot be reassigned. \n",
    "\n",
    "* A list is mutable – elements can be reassigned. \n",
    "\n",
    "* A list is declared with `[ ]` whereas the tuple is declared with `( )`\n",
    "\n",
    "* We can refer to elements in both a list and tuple via the `[ ]` \n"
   ]
  },
  {
   "cell_type": "markdown",
   "id": "40f3dbe0",
   "metadata": {},
   "source": [
    "## 2.0 Sets in Python `{ }`\n",
    "\n",
    "* Sets in mathematics refer to a set of distinct numbers – there are no duplicates.\n",
    "\n",
    "* Whilst one may try and assign multiple instances of the same value, the Python set only stores one instance of this value.\n",
    "\n",
    "* Casting data to a set is a useful way to remove duplicates!\n",
    "\n",
    "* Sets are declared with the `{ }`\n",
    "\n",
    "* Sets are mutable (can change)\n"
   ]
  },
  {
   "cell_type": "code",
   "execution_count": null,
   "id": "4d43eb33",
   "metadata": {},
   "outputs": [],
   "source": [
    "s = {1,2,3,4,5,6}\n",
    "s"
   ]
  },
  {
   "cell_type": "code",
   "execution_count": null,
   "id": "912314c8",
   "metadata": {},
   "outputs": [],
   "source": [
    "s.add(7)\n",
    "s"
   ]
  },
  {
   "cell_type": "code",
   "execution_count": null,
   "id": "969b5f2c",
   "metadata": {},
   "outputs": [],
   "source": [
    "s.remove(7)\n",
    "s"
   ]
  },
  {
   "cell_type": "code",
   "execution_count": null,
   "id": "893f0c77",
   "metadata": {},
   "outputs": [],
   "source": [
    "s = {1,2,3,4,5,6,1,2,3,4,5,6}\n",
    "s"
   ]
  },
  {
   "cell_type": "code",
   "execution_count": null,
   "id": "4cd0259f",
   "metadata": {},
   "outputs": [],
   "source": [
    "l = [1,1,2,2,3,3,4,4,5,5,6,6]\n",
    "s = set(l)\n",
    "s"
   ]
  },
  {
   "cell_type": "markdown",
   "id": "196a18b7",
   "metadata": {},
   "source": [
    "## 2.1 Standard Sets and Notation (from Discrete Mathematics)\n",
    "\n",
    "* $ \\mathbb{N} = \\{ 0, 1, 2, 3, ...\\} $ the set of all non-negative integers\n",
    "\n",
    "* $ \\mathbb{Z} = \\{..., -3, -2, -1, 0, 1, 2, 3, ...\\} $ the set of all integers\n",
    "\n",
    "* $ \\mathbb{Q}$, the set of all rational numbers (fractions), i.e. numbers of the form $a/b$ where $a,b$ are integers with $b \\neq 0$\n",
    "\n",
    "* $ \\mathbb{R}$, the set of all real numbers, also denoted as as $(-\\infty, +\\infty)$"
   ]
  },
  {
   "cell_type": "code",
   "execution_count": 7,
   "id": "c7dc365c",
   "metadata": {},
   "outputs": [
    {
     "data": {
      "text/plain": [
       "{0, 1, 2, 3, 4, 5, Ellipsis}"
      ]
     },
     "execution_count": 7,
     "metadata": {},
     "output_type": "execute_result"
    }
   ],
   "source": [
    "N = {0, 1, 2, 3, 4, 5, ...}\n",
    "N"
   ]
  },
  {
   "cell_type": "markdown",
   "id": "69796656",
   "metadata": {},
   "source": [
    "## 2.2 Specifying Sets via Condition \n",
    "\n",
    "* $ \\in $ means <u>in</u> \n",
    "\n",
    "    * if $ x \\in \\mathbb{N} $ then $x$ is <u>in</u> $\\mathbb{N}$ - set of non-negative integers.\n",
    "\n",
    "* $\\mid$ means <u>such that</u>\n",
    "\n",
    "    * if $ S = \\{ x \\in \\mathbb{R} \\mid x > 0 \\} $, then S is going to hold real numbers greater than zero."
   ]
  },
  {
   "cell_type": "markdown",
   "id": "0ac495bf",
   "metadata": {},
   "source": [
    "* $ S = \\{ x \\in \\mathbb{R} \\mid x > 0 \\} $"
   ]
  },
  {
   "cell_type": "code",
   "execution_count": 18,
   "id": "166178b7",
   "metadata": {},
   "outputs": [
    {
     "data": {
      "text/plain": [
       "{1, 2, 3}"
      ]
     },
     "execution_count": 18,
     "metadata": {},
     "output_type": "execute_result"
    }
   ],
   "source": [
    "s = set()\n",
    "l = [-2, -1, 0, 1, 2, 3]\n",
    "\n",
    "for number in l: \n",
    "    if number > 0:\n",
    "        s.add(number)\n",
    "        \n",
    "s\n",
    "    "
   ]
  },
  {
   "cell_type": "markdown",
   "id": "093a9b4e",
   "metadata": {},
   "source": [
    "## 2.3 Subsets and Set Equality\n",
    "\n",
    "* $ \\subset $ means subset\n",
    "\n",
    "* subset $ A \\subset B $"
   ]
  },
  {
   "cell_type": "code",
   "execution_count": 19,
   "id": "1c9621b6",
   "metadata": {},
   "outputs": [],
   "source": [
    "A = {1,2,3}\n",
    "B = {1,2,3,4,5,6}"
   ]
  },
  {
   "cell_type": "code",
   "execution_count": 20,
   "id": "bc88a4c6",
   "metadata": {},
   "outputs": [
    {
     "data": {
      "text/plain": [
       "True"
      ]
     },
     "execution_count": 20,
     "metadata": {},
     "output_type": "execute_result"
    }
   ],
   "source": [
    "A.issubset(B)"
   ]
  },
  {
   "cell_type": "code",
   "execution_count": 21,
   "id": "cf34ff24",
   "metadata": {},
   "outputs": [],
   "source": [
    "A = {1,2,3}\n",
    "B = {4,5,6}"
   ]
  },
  {
   "cell_type": "code",
   "execution_count": 22,
   "id": "83304747",
   "metadata": {},
   "outputs": [
    {
     "data": {
      "text/plain": [
       "False"
      ]
     },
     "execution_count": 22,
     "metadata": {},
     "output_type": "execute_result"
    }
   ],
   "source": [
    "A.issubset(B)"
   ]
  },
  {
   "cell_type": "markdown",
   "id": "6ccbb7be",
   "metadata": {},
   "source": [
    "## 2.4 Union, Intersection and Difference \n",
    "\n",
    "* Intersect $ A \\cap B $ = ` A & B ` in Python\n",
    "\n",
    "* Union $ A \\cup B $ =  ` A | B ` in Python\n",
    "\n",
    "* Difference $ A \\setminus B $ =  ` A - B ` in Python"
   ]
  },
  {
   "cell_type": "markdown",
   "id": "539a5ec7",
   "metadata": {},
   "source": [
    "## 2.4.1 Set Intersect"
   ]
  },
  {
   "cell_type": "code",
   "execution_count": null,
   "id": "37640096",
   "metadata": {},
   "outputs": [],
   "source": [
    "A = {1,2,3,4,5,6}\n",
    "B = {4,5,6,7,8,9}\n",
    "A & B\n"
   ]
  },
  {
   "cell_type": "markdown",
   "id": "6f45633e",
   "metadata": {},
   "source": [
    "## 2.4.2 Set Union"
   ]
  },
  {
   "cell_type": "code",
   "execution_count": null,
   "id": "c22ef447",
   "metadata": {},
   "outputs": [],
   "source": [
    "A = {1,2,3,4,5,6}\n",
    "B = {4,5,6,7,8,9}\n",
    "A | B\n"
   ]
  },
  {
   "cell_type": "markdown",
   "id": "a63d8e52",
   "metadata": {},
   "source": [
    "## 2.4.3 Set Difference"
   ]
  },
  {
   "cell_type": "code",
   "execution_count": null,
   "id": "b1beac39",
   "metadata": {},
   "outputs": [],
   "source": [
    "A = {1,2,3,4,5,6}\n",
    "B = {4,5,6,7,8,9}\n",
    "A - B"
   ]
  },
  {
   "cell_type": "code",
   "execution_count": null,
   "id": "d2ce4385",
   "metadata": {},
   "outputs": [],
   "source": [
    "A = {1,2,3,4,5,6}\n",
    "B = {4,5,6,7,8,9}\n",
    "B - A"
   ]
  },
  {
   "cell_type": "markdown",
   "id": "cdc73ecd",
   "metadata": {},
   "source": [
    "## 3.0 Dictionaries `{ k : v}`\n",
    "\n",
    "* An English Dictionary would allow us to look up the definition of a word. We search the word to locate the definition. \n",
    "\n",
    "* In Python, we specify a key (word) to be able to get a value (definition). \n",
    "\n",
    "* Similar to an associative array, or a Map in Java.\n",
    "\n",
    "* Like Set, Dictionaries also use the `{ }` but they feature : for a key and value pair  `{ k : v }`\n"
   ]
  },
  {
   "cell_type": "code",
   "execution_count": null,
   "id": "9cdec5dc",
   "metadata": {},
   "outputs": [],
   "source": [
    "d = {\"USA\": 200, \"UK\": 200, \"EU\": 200}\n",
    "d\n"
   ]
  },
  {
   "cell_type": "code",
   "execution_count": null,
   "id": "2b5c9642",
   "metadata": {},
   "outputs": [],
   "source": [
    "d = {\"USA\": 200, \"UK\": 200, \"EU\": 200}\n",
    "d[\"UK\"]\n"
   ]
  },
  {
   "cell_type": "code",
   "execution_count": null,
   "id": "e9afa2d5",
   "metadata": {},
   "outputs": [],
   "source": [
    "d = {\"USA\": 200, \"UK\": 200, \"EU\": 200}\n",
    "d[\"UK\"]\n"
   ]
  },
  {
   "cell_type": "markdown",
   "id": "d2943d52",
   "metadata": {},
   "source": [
    "## 3.1 Append"
   ]
  },
  {
   "cell_type": "code",
   "execution_count": null,
   "id": "1d7be8ab",
   "metadata": {},
   "outputs": [],
   "source": [
    "d = {\"USA\": 200, \"UK\": 200, \"EU\": 200}\n",
    "d[\"Asia\"] = 300\n",
    "d\n"
   ]
  },
  {
   "cell_type": "markdown",
   "id": "9157c9d6",
   "metadata": {},
   "source": [
    "## 3.2 Remove"
   ]
  },
  {
   "cell_type": "code",
   "execution_count": null,
   "id": "a4ccae47",
   "metadata": {},
   "outputs": [],
   "source": [
    "d = {\"USA\": 200, \"UK\": 200, \"EU\": 200, \"Asia\": 30}\n",
    "del d[\"Asia\"]\n",
    "d\n"
   ]
  },
  {
   "cell_type": "code",
   "execution_count": null,
   "id": "355b59d5",
   "metadata": {},
   "outputs": [],
   "source": [
    "type(d)"
   ]
  },
  {
   "cell_type": "code",
   "execution_count": null,
   "id": "0f9152aa",
   "metadata": {},
   "outputs": [],
   "source": [
    "dir(dict)"
   ]
  },
  {
   "cell_type": "code",
   "execution_count": null,
   "id": "9e8856bf",
   "metadata": {},
   "outputs": [],
   "source": [
    "d = {\"USA\": 200, \"UK\": 200, \"EU\": 200}\n",
    "print( d.keys() )\n",
    "print( d.values() )\n"
   ]
  },
  {
   "cell_type": "markdown",
   "id": "6e7715bc",
   "metadata": {},
   "source": [
    "## 3.3 The `zip()` function\n",
    "\n",
    "* The `zip()` function combines two or more iterables (like lists or tuples) element-by-element\n",
    "\n",
    "* It returns an iterator of tuples, where each tuple contains elements from the same position in each iterable\n",
    "\n",
    "* It is useful for pairing related data (e.g., names with scores, countries with values)"
   ]
  },
  {
   "cell_type": "markdown",
   "id": "61640945",
   "metadata": {},
   "source": [
    "<img src=\"https://miro.medium.com/v2/1*tbujCKWQX-CrRIsn6MjY7A.gif\" alt=\"char_array\" width=\"650\"> \n",
    "<!--![zip_](https://miro.medium.com/v2/1*tbujCKWQX-CrRIsn6MjY7A.gif)-->"
   ]
  },
  {
   "cell_type": "code",
   "execution_count": 2,
   "id": "74b19ab1",
   "metadata": {},
   "outputs": [],
   "source": [
    "countries = [\"Japan\", \"Italy\", \"Brazil\", \"India\"]\n",
    "life_expectancy = [83.7, 82.7, 75.9, 68.3]"
   ]
  },
  {
   "cell_type": "code",
   "execution_count": 3,
   "id": "9e6d1f3d",
   "metadata": {},
   "outputs": [
    {
     "data": {
      "text/plain": [
       "[('Japan', 83.7), ('Italy', 82.7), ('Brazil', 75.9), ('India', 68.3)]"
      ]
     },
     "execution_count": 3,
     "metadata": {},
     "output_type": "execute_result"
    }
   ],
   "source": [
    "paired = list(zip(countries, life_expectancy))\n",
    "paired"
   ]
  },
  {
   "cell_type": "code",
   "execution_count": 7,
   "id": "6263c1f5",
   "metadata": {},
   "outputs": [
    {
     "data": {
      "text/plain": [
       "{'Japan': 83.7, 'Italy': 82.7, 'Brazil': 75.9, 'India': 68.3}"
      ]
     },
     "execution_count": 7,
     "metadata": {},
     "output_type": "execute_result"
    }
   ],
   "source": [
    "paired_dict = dict(zip(countries, life_expectancy))\n",
    "paired_dict"
   ]
  },
  {
   "cell_type": "code",
   "execution_count": 8,
   "id": "2590ebf7",
   "metadata": {},
   "outputs": [
    {
     "data": {
      "text/plain": [
       "dict_keys(['Japan', 'Italy', 'Brazil', 'India'])"
      ]
     },
     "execution_count": 8,
     "metadata": {},
     "output_type": "execute_result"
    }
   ],
   "source": [
    "paired_keys = paired_dict.keys()\n",
    "paired_keys"
   ]
  },
  {
   "cell_type": "code",
   "execution_count": 9,
   "id": "c3f02b86",
   "metadata": {},
   "outputs": [
    {
     "data": {
      "text/plain": [
       "dict_values([83.7, 82.7, 75.9, 68.3])"
      ]
     },
     "execution_count": 9,
     "metadata": {},
     "output_type": "execute_result"
    }
   ],
   "source": [
    "paired_values = paired_dict.values()\n",
    "paired_values"
   ]
  },
  {
   "cell_type": "code",
   "execution_count": 11,
   "id": "9ae8b454",
   "metadata": {},
   "outputs": [
    {
     "data": {
      "text/plain": [
       "{'Japan': 83.7, 'Italy': 82.7, 'Brazil': 75.9, 'India': 68.3}"
      ]
     },
     "execution_count": 11,
     "metadata": {},
     "output_type": "execute_result"
    }
   ],
   "source": [
    "paired_dict = dict(zip(paired_keys, paired_values))\n",
    "paired_dict"
   ]
  },
  {
   "cell_type": "code",
   "execution_count": 12,
   "id": "bcd5039f",
   "metadata": {},
   "outputs": [
    {
     "data": {
      "text/plain": [
       "{83.7: 'Japan', 82.7: 'Italy', 75.9: 'Brazil', 68.3: 'India'}"
      ]
     },
     "execution_count": 12,
     "metadata": {},
     "output_type": "execute_result"
    }
   ],
   "source": [
    "paired_dict = dict(zip(paired_values, paired_keys))\n",
    "paired_dict"
   ]
  },
  {
   "cell_type": "markdown",
   "id": "292b31ca",
   "metadata": {},
   "source": [
    "## 3.4 Sorting a Dictionary \n",
    "\n",
    "* Dictionaries in `Python 3.7+` maintain insertion order.\n",
    "\n",
    "* You could make use of the `sorted()` function to sort keys alphabetically.\n",
    "\n",
    "* However, to maintain the pairing, you would need to sort the dictionary `items`"
   ]
  },
  {
   "cell_type": "code",
   "execution_count": 23,
   "id": "51fb2c2c",
   "metadata": {},
   "outputs": [
    {
     "data": {
      "text/plain": [
       "{'Japan': 83.7, 'Italy': 82.7, 'Brazil': 75.9, 'India': 68.3}"
      ]
     },
     "execution_count": 23,
     "metadata": {},
     "output_type": "execute_result"
    }
   ],
   "source": [
    "paired_dict"
   ]
  },
  {
   "cell_type": "code",
   "execution_count": 24,
   "id": "cc52fce4",
   "metadata": {},
   "outputs": [
    {
     "data": {
      "text/plain": [
       "['Brazil', 'India', 'Italy', 'Japan']"
      ]
     },
     "execution_count": 24,
     "metadata": {},
     "output_type": "execute_result"
    }
   ],
   "source": [
    "sorted_pairs = sorted(paired_dict)\n",
    "sorted_pairs"
   ]
  },
  {
   "cell_type": "code",
   "execution_count": 25,
   "id": "77719a79",
   "metadata": {},
   "outputs": [
    {
     "data": {
      "text/plain": [
       "[('Brazil', 75.9), ('India', 68.3), ('Italy', 82.7), ('Japan', 83.7)]"
      ]
     },
     "execution_count": 25,
     "metadata": {},
     "output_type": "execute_result"
    }
   ],
   "source": [
    "sorted_pairs = sorted(paired_dict.items())\n",
    "sorted_pairs"
   ]
  },
  {
   "cell_type": "code",
   "execution_count": 26,
   "id": "289cf7c6",
   "metadata": {},
   "outputs": [
    {
     "data": {
      "text/plain": [
       "{'Brazil': 75.9, 'India': 68.3, 'Italy': 82.7, 'Japan': 83.7}"
      ]
     },
     "execution_count": 26,
     "metadata": {},
     "output_type": "execute_result"
    }
   ],
   "source": [
    "sorted_pairs = dict(sorted(paired_dict.items()))\n",
    "sorted_pairs"
   ]
  },
  {
   "cell_type": "markdown",
   "id": "b39f6628",
   "metadata": {},
   "source": [
    "## 4. JSON\n",
    "\n",
    "* JavaScript Object Notation (JSON) is near universal format that REST APIs use today to communicate data. \n",
    "\n",
    "* Like Python dictionaries, JSON also uses `Key : Value` pairs.\n",
    "\n",
    "* Keys translate to columns, and values translate to rows. \n",
    "\n",
    "* To go from a Python `dict` to a JSON string, use `json.dumps()`\n",
    "\n",
    "* To go from a JSON string to a Python `dict`, use `json.loads()`"
   ]
  },
  {
   "cell_type": "code",
   "execution_count": 1,
   "id": "dc10dae1",
   "metadata": {},
   "outputs": [],
   "source": [
    "import json"
   ]
  },
  {
   "cell_type": "code",
   "execution_count": null,
   "id": "da7de455",
   "metadata": {},
   "outputs": [
    {
     "name": "stdout",
     "output_type": "stream",
     "text": [
      "{\"name\": \"John\", \"age\": 30, \"city\": \"New York\"}\n"
     ]
    }
   ],
   "source": [
    "py_dict = {\n",
    "  \"name\": \"John\",\n",
    "  \"age\": 30,\n",
    "  \"city\": \"New York\"\n",
    "}\n",
    "\n",
    "json_str = json.dumps(py_dict)\n",
    "\n",
    "print(json_str)"
   ]
  },
  {
   "cell_type": "code",
   "execution_count": 26,
   "id": "8966c8ef",
   "metadata": {},
   "outputs": [
    {
     "name": "stdout",
     "output_type": "stream",
     "text": [
      "<class 'dict'>\n",
      "{'name': 'John', 'age': 30, 'city': 'New York'}\n"
     ]
    }
   ],
   "source": [
    "json_str = '{ \"name\":\"John\", \"age\":30, \"city\":\"New York\"}'\n",
    "\n",
    "py_dict = json.loads(json_str)\n",
    "print(type(py_dict))\n",
    "print(py_dict)"
   ]
  },
  {
   "cell_type": "markdown",
   "id": "46d0d432",
   "metadata": {},
   "source": [
    "## 4.1 Very simple API example\n",
    "\n",
    "* https://randomuser.me/api/ generates a fictitious user's data in the form of JSON. \n",
    "\n",
    "* Navigate to the website to see the `{ k : v }` format\n",
    "\n",
    "* We can load this JSON data into our Python environment by utilising `requests` - e.g. Sending a HTTP GET request to the URL. \n"
   ]
  },
  {
   "cell_type": "code",
   "execution_count": 22,
   "id": "4623c319",
   "metadata": {},
   "outputs": [],
   "source": [
    "import requests\n",
    "\n",
    "url = \"https://randomuser.me/api/\"\n",
    "response = requests.get(url) # Send a GET request to the API\n",
    "\n",
    "data = response.json() # Convert the response to a Python dictionary"
   ]
  },
  {
   "cell_type": "code",
   "execution_count": 23,
   "id": "0820128c",
   "metadata": {},
   "outputs": [
    {
     "name": "stdout",
     "output_type": "stream",
     "text": [
      "{'results': [{'gender': 'male', 'name': {'title': 'Mr', 'first': 'Arnaud', 'last': 'Ma'}, 'location': {'street': {'number': 7245, 'name': '3rd St'}, 'city': 'Stratford', 'state': 'Nova Scotia', 'country': 'Canada', 'postcode': 'D1E 2D4', 'coordinates': {'latitude': '-65.9229', 'longitude': '-122.9170'}, 'timezone': {'offset': '-8:00', 'description': 'Pacific Time (US & Canada)'}}, 'email': 'arnaud.ma@example.com', 'login': {'uuid': '292b1d8b-b845-4d03-8c8b-4b5aa3beffbf', 'username': 'lazypanda344', 'password': 'rock', 'salt': 'SFsu2apW', 'md5': 'c0f7914ee5cd2c253e14e86c9b0d83da', 'sha1': '2f548a6652734bc428a07c10ad9068309dd96ac3', 'sha256': 'a139ab32b0ef73f49dad3947ffb91b2c03fd9677ba98ca76c9f48f7cff71f376'}, 'dob': {'date': '1985-02-21T19:43:08.148Z', 'age': 40}, 'registered': {'date': '2008-09-01T04:56:57.969Z', 'age': 17}, 'phone': 'Q27 X99-7948', 'cell': 'Q67 L17-9714', 'id': {'name': 'SIN', 'value': '692367139'}, 'picture': {'large': 'https://randomuser.me/api/portraits/men/65.jpg', 'medium': 'https://randomuser.me/api/portraits/med/men/65.jpg', 'thumbnail': 'https://randomuser.me/api/portraits/thumb/men/65.jpg'}, 'nat': 'CA'}], 'info': {'seed': '23d03d12680e502a', 'results': 1, 'page': 1, 'version': '1.4'}}\n"
     ]
    }
   ],
   "source": [
    "print(data)"
   ]
  },
  {
   "cell_type": "code",
   "execution_count": 24,
   "id": "e8a03678",
   "metadata": {},
   "outputs": [
    {
     "name": "stdout",
     "output_type": "stream",
     "text": [
      "{'title': 'Mr', 'first': 'Arnaud', 'last': 'Ma'}\n"
     ]
    }
   ],
   "source": [
    "print(data[\"results\"][0][\"name\"])"
   ]
  },
  {
   "cell_type": "code",
   "execution_count": 25,
   "id": "5a8d3368",
   "metadata": {},
   "outputs": [
    {
     "data": {
      "text/plain": [
       "dict"
      ]
     },
     "execution_count": 25,
     "metadata": {},
     "output_type": "execute_result"
    }
   ],
   "source": [
    "type(data)"
   ]
  },
  {
   "cell_type": "markdown",
   "id": "b0c4ff51",
   "metadata": {},
   "source": [
    "Python is useful language for data science!"
   ]
  },
  {
   "cell_type": "markdown",
   "id": "7274d3c9",
   "metadata": {},
   "source": [
    "## Summary \n",
    "\n",
    "* You can distinguish between the key collections by the pairs of brackets used: \n",
    "\n",
    "| Structure | Brackets | Characteristics |\n",
    "| ----------- | ----------- | --------- |\n",
    "| Lists |\t`[ , ]` | mutable |\n",
    "| Tuples |\t`( , )` | immutable | \n",
    "| Sets |\t`{ , }`  | unique values (no duplicates) |\n",
    "| Dict | `{k : v}` | key and value pairs |\n"
   ]
  },
  {
   "cell_type": "markdown",
   "id": "dd38cc99",
   "metadata": {
    "id": "dd38cc99"
   },
   "source": [
    "#### This Jupyter Notebook contains exercises for you to extend your introduction to OOP, by creating lists, tuples, sets, dictionaries of objects. Attempt the following exercises, which slowly build in complexity. If you get stuck, check back to the <a href = \"https://www.youtube.com/watch?v=359eGFD7hS4\"> Python lecture recording on Data Structures here</a> or view the <a href = \"https://www.w3schools.com/python/python_lists.asp\">W3Schools page on Python Variables</a>, which includes examples, exercises and quizzes to help your understanding. "
   ]
  },
  {
   "cell_type": "markdown",
   "id": "2ae0edc0",
   "metadata": {},
   "source": [
    "### Exercise 1:\n",
    "\n",
    "Create a Python dictionary (`dict`) which stores the price for three items of food. For example; milk is £1.30, pasta is £0.75, and strawberries are £1.50. Output the dictionary to check the `values` are stored, and then see if you can access the price for one of the items by using the item name as the `key`.\n",
    "\n",
    "Extension: Now add a new `key` and `value` pair to previously defined dictionary."
   ]
  },
  {
   "cell_type": "code",
   "execution_count": null,
   "id": "84b40bdc",
   "metadata": {},
   "outputs": [],
   "source": [
    "food_prices = {...} # add the key:value pairs here.\n",
    "food_prices"
   ]
  },
  {
   "cell_type": "markdown",
   "id": "18d27a22",
   "metadata": {},
   "source": [
    "### Exercise 2: \n",
    "\n",
    "Given two `sets` (prices and food names), can you create a dictionary (`dict`) that uses the foodnames as `keys`, and the prices as `values`?\n"
   ]
  },
  {
   "cell_type": "code",
   "execution_count": null,
   "id": "989af81c",
   "metadata": {},
   "outputs": [],
   "source": [
    "foodnames = {\"milk\", \"pasta\", \"strawberries\"}\n",
    "prices = {1.30, 0.75, 1.50}\n",
    "\n",
    "print(foodnames)\n",
    "print(prices)\n",
    "\n",
    "# Write your solution: \n"
   ]
  },
  {
   "cell_type": "markdown",
   "id": "d14cb700",
   "metadata": {},
   "source": [
    "### Exercise 3: \n",
    "\n",
    "Write one function which will return the intersection of two `sets` passed in.\n",
    "\n",
    "Write another function which will return the union of two `sets` passed in."
   ]
  },
  {
   "cell_type": "code",
   "execution_count": null,
   "id": "c4dc15f6",
   "metadata": {},
   "outputs": [],
   "source": [
    "a = {1,2,3,4,5,6,7,8,9,10}\n",
    "b = {7,8,9,10,11,12,13,14}\n",
    "\n",
    "#write your solution here"
   ]
  },
  {
   "cell_type": "markdown",
   "id": "4e60f01b",
   "metadata": {},
   "source": [
    "### Exercise 4: \n",
    "\n",
    "Write a function to count the number of elements in a list within a specified range.\n",
    "\n"
   ]
  },
  {
   "cell_type": "code",
   "execution_count": 8,
   "id": "acd02184",
   "metadata": {},
   "outputs": [],
   "source": [
    "sample_list = [10,20,30,40,40,40,70,80,99]\n",
    "sample_min = 15 \n",
    "sample_max = 50\n",
    "# there should be five elements between 15 and 50"
   ]
  },
  {
   "cell_type": "code",
   "execution_count": 9,
   "id": "9afadc45",
   "metadata": {},
   "outputs": [],
   "source": [
    "def count_between_range(sample_list, sample_min, sample_max):\n",
    "    ... # Write your solution here"
   ]
  },
  {
   "cell_type": "code",
   "execution_count": null,
   "id": "ec7be704",
   "metadata": {},
   "outputs": [],
   "source": [
    "count_between_range(sample_list, sample_min, sample_max)"
   ]
  },
  {
   "cell_type": "markdown",
   "id": "f62b3876",
   "metadata": {
    "id": "f62b3876"
   },
   "source": [
    "### Exercise 5:\n",
    "Write a function that will generate the multiplications of a number passed in, and store each multiple in a `set` of values.\n",
    "\n",
    "For example, if the value 5 is passed in, then generate the 5 times table. The values of the multiplication table should be stored in indivdiual elements (max 12) of a `set`. The `set` should be returned at the end of the function. \n"
   ]
  },
  {
   "cell_type": "code",
   "execution_count": null,
   "id": "c92f5ae0",
   "metadata": {},
   "outputs": [],
   "source": [
    "def generate_multiples():\n",
    "    ... # Write your solution here."
   ]
  },
  {
   "cell_type": "code",
   "execution_count": null,
   "id": "cb185686",
   "metadata": {},
   "outputs": [],
   "source": [
    "fives = generate_multiples(5)\n",
    "print(type(fives))\n",
    "print(fives)"
   ]
  },
  {
   "cell_type": "markdown",
   "id": "0c3e9f61",
   "metadata": {},
   "source": [
    "### Exercise 6: \n",
    "\n",
    "Using a list comprehension, create a new list called \"positives\" out of the list \"numbers\". \n",
    "\n",
    "This \"positives\" list should contains only the positive numbers from the list, as integers rounded to the closest integer value."
   ]
  },
  {
   "cell_type": "code",
   "execution_count": null,
   "id": "fa4109f5",
   "metadata": {},
   "outputs": [],
   "source": [
    "numbers = [34.6, -203.4, 44.9, 68.3, -12.2, 44.6, 12.7]\n",
    "\n",
    "positives = [...] # Write your list comprehension solution here. \n",
    "positives"
   ]
  },
  {
   "cell_type": "markdown",
   "id": "d37c0150",
   "metadata": {},
   "source": [
    "### Exercise 7:\n",
    "\n",
    "Write a code block to convert a list of tuples to a dictionary\n",
    "\n",
    "Sample input: ```[(28, 'February'), (30, 'April'), (31, 'July'), (31, 'August'), (30, 'November')]```\n",
    "\n",
    "Sample output ```{'February': 28, 'April': 30, 'July': 31, 'August': 31, 'November': 30}```\n",
    "\n",
    "Hint: If you get stuck, consider the `zip()` function..."
   ]
  },
  {
   "cell_type": "code",
   "execution_count": null,
   "id": "b785d693",
   "metadata": {},
   "outputs": [],
   "source": [
    "tuples_list = [(28, 'February'), (30, 'April'), (31, 'July'), (31, 'August'), (30, 'November')]"
   ]
  },
  {
   "cell_type": "code",
   "execution_count": null,
   "id": "88b70e6a",
   "metadata": {},
   "outputs": [],
   "source": [
    "# Write your solution here. "
   ]
  },
  {
   "cell_type": "markdown",
   "id": "01f4441a",
   "metadata": {},
   "source": [
    "### Exercise 8: \n",
    "If we define $S$ as the set of prime numbers selected from the list of numbers, then:\n",
    "\n",
    "$S = \\{\\, n \\in \\text{numbers} \\mid n \\text{ is prime} \\,\\}$\n",
    "\n",
    "Or, written more explicitly using a predicate function $P(n)$ meaning \"n is prime\":\n",
    "\n",
    "$S = \\{\\, n \\in \\text{numbers} \\mid P(n) = \\text{True} \\,\\}$\n",
    "\n",
    "To convert this set notation to Python, write an `is_prime(n)` function which will be called on a `list` of numbers below."
   ]
  },
  {
   "cell_type": "code",
   "execution_count": 5,
   "id": "7eca25d8",
   "metadata": {},
   "outputs": [],
   "source": [
    "def is_prime(n):\n",
    "    ... # complete this is_prime function"
   ]
  },
  {
   "cell_type": "code",
   "execution_count": 3,
   "id": "436445d4",
   "metadata": {},
   "outputs": [
    {
     "data": {
      "text/plain": [
       "{2, 3, 5, 7, 11, 13, 17, 19}"
      ]
     },
     "execution_count": 3,
     "metadata": {},
     "output_type": "execute_result"
    }
   ],
   "source": [
    "numbers = [0,1,2,3,4,5,6,7,8,9,10,11,12,13,14,15,16,17,18,19,20]\n",
    "\n",
    "s = {n for n in numbers if is_prime(n)} # set comprehension\n",
    "s"
   ]
  },
  {
   "cell_type": "markdown",
   "id": "531c036d",
   "metadata": {},
   "source": [
    "### Exercise 9:\n",
    "\n",
    "Write a function that takes a `dictionary` as input and retuns the mean (i.e. average value) of the values stored in the `dictionary`. \n",
    "\n",
    "Extension: Can you group countries by their geographical continent? (how good is your geography!) Produce a new dictionary where the continent is the key, and the value is the mean temperature value across the countries that are located in that continent. "
   ]
  },
  {
   "cell_type": "code",
   "execution_count": null,
   "id": "935d2a72",
   "metadata": {},
   "outputs": [],
   "source": [
    "average_temperature = {\n",
    "    'Canada': -5.3,\n",
    "    'Norway': 1.5,\n",
    "    'United Kingdom': 9.3,\n",
    "    'Germany': 8.5,\n",
    "    'Spain': 14.9,\n",
    "    'Italy': 13.5,\n",
    "    'Egypt': 22.9,\n",
    "    'India': 24.6,\n",
    "    'Thailand': 27.7,\n",
    "    'Singapore': 27.6,\n",
    "    'Brazil': 25.0,\n",
    "    'Argentina': 14.8,\n",
    "    'Australia': 21.5,\n",
    "    'South Africa': 17.8,\n",
    "    'Japan': 11.9,\n",
    "    'United States': 8.6\n",
    "}"
   ]
  },
  {
   "cell_type": "code",
   "execution_count": null,
   "id": "8468371e",
   "metadata": {},
   "outputs": [],
   "source": [
    "def calculate_mean():\n",
    "    ..."
   ]
  },
  {
   "cell_type": "markdown",
   "id": "b8804ed2",
   "metadata": {},
   "source": [
    "### Exercise 10:\n",
    "\n",
    "Given the three dictionaries below, can you merge these so that the keys are the countries, and the values are themselves a dictionary of information (K:V pairs) for that country. \n",
    "\n",
    "The output should look like the following: \n",
    "\n",
    "```\n",
    "{\n",
    "    'Japan': {'temperature': 11.9, 'population': 125.7, 'gdp': 4937},\n",
    "    'India': {'temperature': 24.6, 'population': 1393, 'gdp': 3173},\n",
    "    'Brazil': {'temperature': 25.0, 'population': 214.3, 'gdp': 1860}\n",
    "}\n",
    "```\n",
    "\n",
    "Extension: Add a new key: 'GDP per capita' to each country, and use this formula to calculate the values:\n",
    "$\\text{GDP per capita} = \\frac{\\text{GDP}}{\\text{Population}}$"
   ]
  },
  {
   "cell_type": "code",
   "execution_count": null,
   "id": "ea303102",
   "metadata": {},
   "outputs": [],
   "source": [
    "temperature = {\n",
    "    'Japan': 11.9,\n",
    "    'India': 24.6,\n",
    "    'Brazil': 25.0\n",
    "}\n",
    "\n",
    "population = {\n",
    "    'Japan': 125.7,\n",
    "    'India': 1393,\n",
    "    'Brazil': 214.3\n",
    "}\n",
    "\n",
    "gdp = {\n",
    "    'Japan': 4937,\n",
    "    'India': 3173,\n",
    "    'Brazil': 1860\n",
    "}"
   ]
  },
  {
   "cell_type": "code",
   "execution_count": null,
   "id": "6ba079c1",
   "metadata": {},
   "outputs": [],
   "source": [
    "# Write your solution here. \n"
   ]
  }
 ],
 "metadata": {
  "colab": {
   "provenance": []
  },
  "kernelspec": {
   "display_name": "Python 3",
   "language": "python",
   "name": "python3"
  },
  "language_info": {
   "codemirror_mode": {
    "name": "ipython",
    "version": 3
   },
   "file_extension": ".py",
   "mimetype": "text/x-python",
   "name": "python",
   "nbconvert_exporter": "python",
   "pygments_lexer": "ipython3",
   "version": "3.9.6"
  }
 },
 "nbformat": 4,
 "nbformat_minor": 5
}
