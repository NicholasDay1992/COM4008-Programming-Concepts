{
 "cells": [
  {
   "cell_type": "markdown",
   "id": "1eba3b72",
   "metadata": {
    "id": "1eba3b72"
   },
   "source": [
    "# 04 Python Data Structures II - Sets and Dictionaries\n"
   ]
  },
  {
   "cell_type": "markdown",
   "id": "104769f3",
   "metadata": {},
   "source": [
    "## Plan for the Lecture:\n",
    "\n",
    "1. Recap on Lists and Tuples\n",
    "\n",
    "2. Sets\n",
    "\n",
    "3. Dictionaries"
   ]
  },
  {
   "cell_type": "markdown",
   "id": "b9834ff6",
   "metadata": {},
   "source": [
    "## 1. Recap on Lists and Tuples\n",
    "\n",
    "* A list in Python does use the subscript operator `[ ]` typically associated with an array. Elements in this list are also indexed.\n",
    "\n",
    "* The list will maintain a pointer (reference) to objects, rather the integer values (remember Python types are classes).\n",
    "\n",
    "* Lists in python are resizable, unlike static arrays which are fixed.\n",
    "\n",
    "* Python lists can store elements of different types, whereas arrays are declared to store values of one type.\n"
   ]
  },
  {
   "cell_type": "code",
   "execution_count": null,
   "id": "88792ab2",
   "metadata": {},
   "outputs": [
    {
     "name": "stdout",
     "output_type": "stream",
     "text": [
      "1\n",
      "8\n"
     ]
    }
   ],
   "source": [
    "numbers = [1,2,3,4,5,6,7,8]"
   ]
  },
  {
   "cell_type": "code",
   "execution_count": 11,
   "id": "a8ddd443",
   "metadata": {},
   "outputs": [
    {
     "data": {
      "text/plain": [
       "[1, 2, 3, 4, 5, 6, 7, 8, 5, 5, 5, 5, 5, 5, 5]"
      ]
     },
     "execution_count": 11,
     "metadata": {},
     "output_type": "execute_result"
    }
   ],
   "source": [
    "numbers.append(5)\n",
    "numbers"
   ]
  },
  {
   "cell_type": "code",
   "execution_count": 20,
   "id": "b0caf8c7",
   "metadata": {},
   "outputs": [
    {
     "ename": "ValueError",
     "evalue": "list.remove(x): x not in list",
     "output_type": "error",
     "traceback": [
      "\u001b[0;31m---------------------------------------------------------------------------\u001b[0m",
      "\u001b[0;31mValueError\u001b[0m                                Traceback (most recent call last)",
      "Cell \u001b[0;32mIn [20], line 1\u001b[0m\n\u001b[0;32m----> 1\u001b[0m numbers\u001b[38;5;241m.\u001b[39mremove(\u001b[38;5;241m5\u001b[39m)\n\u001b[1;32m      2\u001b[0m numbers\n",
      "\u001b[0;31mValueError\u001b[0m: list.remove(x): x not in list"
     ]
    }
   ],
   "source": [
    "numbers.remove(5)\n",
    "numbers"
   ]
  },
  {
   "cell_type": "code",
   "execution_count": 22,
   "id": "ac8eca61",
   "metadata": {},
   "outputs": [
    {
     "data": {
      "text/plain": [
       "(1, 1, 1, 1, 2, 3, 4, 5)"
      ]
     },
     "execution_count": 22,
     "metadata": {},
     "output_type": "execute_result"
    }
   ],
   "source": [
    "t = (1,1,1,1,2,3,4,5)\n",
    "t"
   ]
  },
  {
   "cell_type": "code",
   "execution_count": null,
   "id": "ac2bf2ff",
   "metadata": {},
   "outputs": [
    {
     "data": {
      "text/plain": [
       "True"
      ]
     },
     "execution_count": 25,
     "metadata": {},
     "output_type": "execute_result"
    }
   ],
   "source": [
    "t[0] = 0"
   ]
  },
  {
   "cell_type": "code",
   "execution_count": 26,
   "id": "63b317ed",
   "metadata": {},
   "outputs": [
    {
     "data": {
      "text/plain": [
       "4"
      ]
     },
     "execution_count": 26,
     "metadata": {},
     "output_type": "execute_result"
    }
   ],
   "source": [
    "t.count(1)"
   ]
  },
  {
   "cell_type": "code",
   "execution_count": 28,
   "id": "6809b225",
   "metadata": {},
   "outputs": [
    {
     "data": {
      "text/plain": [
       "(1, 1, 1, 1, 2, 3, 4, 5)"
      ]
     },
     "execution_count": 28,
     "metadata": {},
     "output_type": "execute_result"
    }
   ],
   "source": [
    "t"
   ]
  },
  {
   "cell_type": "code",
   "execution_count": 27,
   "id": "eb2b63ba",
   "metadata": {},
   "outputs": [
    {
     "data": {
      "text/plain": [
       "{1, 2, 3, 4, 5}"
      ]
     },
     "execution_count": 27,
     "metadata": {},
     "output_type": "execute_result"
    }
   ],
   "source": [
    "s = set(t)\n",
    "s"
   ]
  },
  {
   "cell_type": "code",
   "execution_count": 33,
   "id": "1357e524",
   "metadata": {},
   "outputs": [
    {
     "data": {
      "text/plain": [
       "4"
      ]
     },
     "execution_count": 33,
     "metadata": {},
     "output_type": "execute_result"
    }
   ],
   "source": [
    "t.count(list(s)[0])"
   ]
  },
  {
   "cell_type": "markdown",
   "id": "e73585cd",
   "metadata": {},
   "source": [
    "## 1.1 Lists & Arrays \n",
    "\n",
    "* The items in an array are called elements.\n",
    "\n",
    "* We specify how many elements an array will have when we declare the size of the array (if ‘fixed-size’), unlike flexible sized collections (e.g. ArrayList in Java).\n",
    "\n",
    "* Elements are numbered and can referred to by number inside the `[ ]` is called the index. This is used when data is input and output.\n",
    "\n",
    "* Can only store data if it matches the type the array is declared with.\n",
    "\n"
   ]
  },
  {
   "cell_type": "code",
   "execution_count": null,
   "id": "9045400c",
   "metadata": {},
   "outputs": [],
   "source": [
    "l = [1,2.25,\"Nick\",\"N\",True]\n",
    "l"
   ]
  },
  {
   "cell_type": "markdown",
   "id": "23e525d0",
   "metadata": {},
   "source": [
    "<img src=\"https://scaler.com/topics/images/character-in-character-array.webp\" alt=\"char_array\" width=\"650\"> "
   ]
  },
  {
   "cell_type": "markdown",
   "id": "9b6ced46",
   "metadata": {},
   "source": [
    "## 1.2 Tuples in Python `( )`\n",
    "\n",
    "* We’ve seen that a Python list is indexed and can store elements of different types (heterogeneity) \n",
    "\n",
    "* Tuples are constant (immutable) – once they are declared, they cannot be reassigned. \n",
    "\n",
    "* A list is declared with `[ ]` whereas the tuple is declared with `( )`\n",
    "\n",
    "* We can still refer to elements in a tuple via the `[ ]` \n"
   ]
  },
  {
   "cell_type": "code",
   "execution_count": null,
   "id": "5c1eb4d8",
   "metadata": {},
   "outputs": [],
   "source": [
    "t = (1,2,3,4,5,6)\n",
    "t"
   ]
  },
  {
   "cell_type": "markdown",
   "id": "2cf034f4",
   "metadata": {},
   "source": [
    "## 1.3 Tuples vs Lists \n",
    "\n",
    "* Tuples are immutable (constant) – once they are declared, they cannot be reassigned. \n",
    "\n",
    "* A list is mutable – elements can be reassigned. \n",
    "\n",
    "* A list is declared with `[ ]` whereas the tuple is declared with `( )`\n",
    "\n",
    "* We can refer to elements in both a list and tuple via the `[ ]` \n"
   ]
  },
  {
   "cell_type": "markdown",
   "id": "40f3dbe0",
   "metadata": {},
   "source": [
    "## 2.0 Sets in Python `{ }`\n",
    "\n",
    "* Sets in mathematics refer to a set of distinct numbers – there are no duplicates.\n",
    "\n",
    "* Whilst one may try and assign multiple instances of the same value, the Python set only stores one instance of this value.\n",
    "\n",
    "* Casting data to a set is a useful way to remove duplicates!\n",
    "\n",
    "* Sets are declared with the `{ }`\n",
    "\n",
    "* Sets are mutable (can change)\n"
   ]
  },
  {
   "cell_type": "code",
   "execution_count": 35,
   "id": "4d43eb33",
   "metadata": {},
   "outputs": [
    {
     "data": {
      "text/plain": [
       "{1, 2, 3, 4, 5, 6}"
      ]
     },
     "execution_count": 35,
     "metadata": {},
     "output_type": "execute_result"
    }
   ],
   "source": [
    "s = {1,2,3,4,5,6}\n",
    "s"
   ]
  },
  {
   "cell_type": "code",
   "execution_count": 34,
   "id": "20d49d8c",
   "metadata": {},
   "outputs": [
    {
     "data": {
      "text/plain": [
       "['__and__',\n",
       " '__class__',\n",
       " '__class_getitem__',\n",
       " '__contains__',\n",
       " '__delattr__',\n",
       " '__dir__',\n",
       " '__doc__',\n",
       " '__eq__',\n",
       " '__format__',\n",
       " '__ge__',\n",
       " '__getattribute__',\n",
       " '__gt__',\n",
       " '__hash__',\n",
       " '__iand__',\n",
       " '__init__',\n",
       " '__init_subclass__',\n",
       " '__ior__',\n",
       " '__isub__',\n",
       " '__iter__',\n",
       " '__ixor__',\n",
       " '__le__',\n",
       " '__len__',\n",
       " '__lt__',\n",
       " '__ne__',\n",
       " '__new__',\n",
       " '__or__',\n",
       " '__rand__',\n",
       " '__reduce__',\n",
       " '__reduce_ex__',\n",
       " '__repr__',\n",
       " '__ror__',\n",
       " '__rsub__',\n",
       " '__rxor__',\n",
       " '__setattr__',\n",
       " '__sizeof__',\n",
       " '__str__',\n",
       " '__sub__',\n",
       " '__subclasshook__',\n",
       " '__xor__',\n",
       " 'add',\n",
       " 'clear',\n",
       " 'copy',\n",
       " 'difference',\n",
       " 'difference_update',\n",
       " 'discard',\n",
       " 'intersection',\n",
       " 'intersection_update',\n",
       " 'isdisjoint',\n",
       " 'issubset',\n",
       " 'issuperset',\n",
       " 'pop',\n",
       " 'remove',\n",
       " 'symmetric_difference',\n",
       " 'symmetric_difference_update',\n",
       " 'union',\n",
       " 'update']"
      ]
     },
     "execution_count": 34,
     "metadata": {},
     "output_type": "execute_result"
    }
   ],
   "source": [
    "dir(set)"
   ]
  },
  {
   "cell_type": "code",
   "execution_count": 50,
   "id": "912314c8",
   "metadata": {},
   "outputs": [
    {
     "data": {
      "text/plain": [
       "{-2, -1, 0, 1, 2, 3, 4, 5, 6, 7, 8, 9}"
      ]
     },
     "execution_count": 50,
     "metadata": {},
     "output_type": "execute_result"
    }
   ],
   "source": [
    "s.add(8)\n",
    "s"
   ]
  },
  {
   "cell_type": "code",
   "execution_count": 48,
   "id": "969b5f2c",
   "metadata": {},
   "outputs": [
    {
     "data": {
      "text/plain": [
       "{-2, -1, 0, 1, 2, 3, 4, 5, 6, 7, 9}"
      ]
     },
     "execution_count": 48,
     "metadata": {},
     "output_type": "execute_result"
    }
   ],
   "source": [
    "s.remove(8)\n",
    "s"
   ]
  },
  {
   "cell_type": "code",
   "execution_count": 51,
   "id": "893f0c77",
   "metadata": {},
   "outputs": [
    {
     "data": {
      "text/plain": [
       "{1, 2, 3, 4, 5, 6}"
      ]
     },
     "execution_count": 51,
     "metadata": {},
     "output_type": "execute_result"
    }
   ],
   "source": [
    "s = {1,2,3,4,5,6,1,2,3,4,5,6}\n",
    "s"
   ]
  },
  {
   "cell_type": "code",
   "execution_count": 53,
   "id": "4cd0259f",
   "metadata": {},
   "outputs": [
    {
     "data": {
      "text/plain": [
       "{1, 2, 3, 4, 5, 6}"
      ]
     },
     "execution_count": 53,
     "metadata": {},
     "output_type": "execute_result"
    }
   ],
   "source": [
    "l = [1,1,2,2,3,3,4,4,5,5,6,6]\n",
    "s = set(l)\n",
    "s"
   ]
  },
  {
   "cell_type": "markdown",
   "id": "196a18b7",
   "metadata": {},
   "source": [
    "## 2.1 Standard Sets and Notation (from Discrete Mathematics)\n",
    "\n",
    "* $ \\mathbb{N} = \\{ 0, 1, 2, 3, ...\\} $ the set of all non-negative integers\n",
    "\n",
    "* $ \\mathbb{Z} = \\{..., -3, -2, -1, 0, 1, 2, 3, ...\\} $ the set of all integers\n",
    "\n",
    "* $ \\mathbb{Q}$, the set of all rational numbers (fractions), i.e. numbers of the form $a/b$ where $a,b$ are integers with $b \\neq 0$\n",
    "\n",
    "* $ \\mathbb{R}$, the set of all real numbers, also denoted as as $(-\\infty, +\\infty)$"
   ]
  },
  {
   "cell_type": "code",
   "execution_count": 54,
   "id": "c7dc365c",
   "metadata": {},
   "outputs": [
    {
     "data": {
      "text/plain": [
       "{0, 1, 2, 3, 4, 5, Ellipsis}"
      ]
     },
     "execution_count": 54,
     "metadata": {},
     "output_type": "execute_result"
    }
   ],
   "source": [
    "N = {0, 1, 2, 3, 4, 5, ...}\n",
    "N"
   ]
  },
  {
   "cell_type": "markdown",
   "id": "69796656",
   "metadata": {},
   "source": [
    "## 2.2 Specifying Sets via Condition \n",
    "\n",
    "* $ \\in $ means <u>in</u> \n",
    "\n",
    "    * if $ x \\in \\mathbb{N} $ then $x$ is <u>in</u> $\\mathbb{N}$ - set of non-negative integers.\n",
    "\n",
    "* $\\mid$ means <u>such that</u>\n",
    "\n",
    "    * if $ S = \\{ x \\in \\mathbb{R} \\mid x > 0 \\} $, then S is going to hold real numbers greater than zero."
   ]
  },
  {
   "cell_type": "markdown",
   "id": "0ac495bf",
   "metadata": {},
   "source": [
    "* $ S = \\{ x \\in \\mathbb{R} \\mid x > 0 \\} $"
   ]
  },
  {
   "cell_type": "code",
   "execution_count": 55,
   "id": "166178b7",
   "metadata": {},
   "outputs": [
    {
     "data": {
      "text/plain": [
       "{1, 2, 3}"
      ]
     },
     "execution_count": 55,
     "metadata": {},
     "output_type": "execute_result"
    }
   ],
   "source": [
    "s = set()\n",
    "l = [-2, -1, 0, 1, 2, 3]\n",
    "\n",
    "for x in l: \n",
    "    if x > 0:\n",
    "        s.add(x)\n",
    "        \n",
    "s\n",
    "    "
   ]
  },
  {
   "cell_type": "code",
   "execution_count": 56,
   "id": "c035307f",
   "metadata": {},
   "outputs": [
    {
     "data": {
      "text/plain": [
       "{1, 2, 3}"
      ]
     },
     "execution_count": 56,
     "metadata": {},
     "output_type": "execute_result"
    }
   ],
   "source": [
    "s = {x for x in l if x > 0}\n",
    "s"
   ]
  },
  {
   "cell_type": "code",
   "execution_count": 57,
   "id": "cdf6b4eb",
   "metadata": {},
   "outputs": [
    {
     "data": {
      "text/plain": [
       "[-2, -1, 0, 1, 2, 3]"
      ]
     },
     "execution_count": 57,
     "metadata": {},
     "output_type": "execute_result"
    }
   ],
   "source": [
    "l"
   ]
  },
  {
   "cell_type": "code",
   "execution_count": 58,
   "id": "1b112f0c",
   "metadata": {},
   "outputs": [
    {
     "data": {
      "text/plain": [
       "[-2, -1, 0, 1]"
      ]
     },
     "execution_count": 58,
     "metadata": {},
     "output_type": "execute_result"
    }
   ],
   "source": [
    "l[0:4]"
   ]
  },
  {
   "cell_type": "markdown",
   "id": "093a9b4e",
   "metadata": {},
   "source": [
    "## 2.3 Subsets and Set Equality\n",
    "\n",
    "* $ \\subset $ means subset\n",
    "\n",
    "* subset $ A \\subset B $"
   ]
  },
  {
   "cell_type": "code",
   "execution_count": 59,
   "id": "1c9621b6",
   "metadata": {},
   "outputs": [],
   "source": [
    "A = {1,2,3}\n",
    "B = {1,2,3,4,5,6}"
   ]
  },
  {
   "cell_type": "code",
   "execution_count": 60,
   "id": "bc88a4c6",
   "metadata": {},
   "outputs": [
    {
     "data": {
      "text/plain": [
       "True"
      ]
     },
     "execution_count": 60,
     "metadata": {},
     "output_type": "execute_result"
    }
   ],
   "source": [
    "A.issubset(B)"
   ]
  },
  {
   "cell_type": "code",
   "execution_count": 61,
   "id": "37b4e10d",
   "metadata": {},
   "outputs": [
    {
     "data": {
      "text/plain": [
       "False"
      ]
     },
     "execution_count": 61,
     "metadata": {},
     "output_type": "execute_result"
    }
   ],
   "source": [
    "B.issubset(A)"
   ]
  },
  {
   "cell_type": "code",
   "execution_count": 64,
   "id": "cf34ff24",
   "metadata": {},
   "outputs": [],
   "source": [
    "A = {1,2,3}\n",
    "B = {4,5,6}"
   ]
  },
  {
   "cell_type": "code",
   "execution_count": 65,
   "id": "83304747",
   "metadata": {},
   "outputs": [
    {
     "data": {
      "text/plain": [
       "False"
      ]
     },
     "execution_count": 65,
     "metadata": {},
     "output_type": "execute_result"
    }
   ],
   "source": [
    "A.issubset(B)"
   ]
  },
  {
   "cell_type": "code",
   "execution_count": 66,
   "id": "873c74bf",
   "metadata": {},
   "outputs": [
    {
     "data": {
      "text/plain": [
       "False"
      ]
     },
     "execution_count": 66,
     "metadata": {},
     "output_type": "execute_result"
    }
   ],
   "source": [
    "B.issubset(A)"
   ]
  },
  {
   "cell_type": "markdown",
   "id": "6ccbb7be",
   "metadata": {},
   "source": [
    "## 2.4 Union, Intersection and Difference \n",
    "\n",
    "* Intersect $ A \\cap B $ = ` A & B ` in Python\n",
    "\n",
    "* Union $ A \\cup B $ =  ` A | B ` in Python\n",
    "\n",
    "* Difference $ A \\setminus B $ =  ` A - B ` in Python"
   ]
  },
  {
   "cell_type": "code",
   "execution_count": 67,
   "id": "2b429a4b",
   "metadata": {},
   "outputs": [
    {
     "name": "stdout",
     "output_type": "stream",
     "text": [
      "You passed!\n"
     ]
    }
   ],
   "source": [
    "mark = 50\n",
    "if mark >= 40 and mark <= 100:\n",
    "    print(\"You passed!\")"
   ]
  },
  {
   "cell_type": "markdown",
   "id": "539a5ec7",
   "metadata": {},
   "source": [
    "## 2.4.1 Set Intersect"
   ]
  },
  {
   "cell_type": "code",
   "execution_count": 70,
   "id": "60068738",
   "metadata": {},
   "outputs": [],
   "source": [
    "mark = -145"
   ]
  },
  {
   "cell_type": "code",
   "execution_count": 71,
   "id": "ba032ea8",
   "metadata": {},
   "outputs": [
    {
     "name": "stdout",
     "output_type": "stream",
     "text": [
      "Invalid mark!\n"
     ]
    }
   ],
   "source": [
    "if mark < 0 or mark > 100:\n",
    "    print(\"Invalid mark!\")"
   ]
  },
  {
   "cell_type": "code",
   "execution_count": 69,
   "id": "37640096",
   "metadata": {},
   "outputs": [
    {
     "data": {
      "text/plain": [
       "{4, 5, 6}"
      ]
     },
     "execution_count": 69,
     "metadata": {},
     "output_type": "execute_result"
    }
   ],
   "source": [
    "A = {1,2,3,4,5,6}\n",
    "B = {4,5,6,7,8,9}\n",
    "A & B"
   ]
  },
  {
   "cell_type": "markdown",
   "id": "6f45633e",
   "metadata": {},
   "source": [
    "## 2.4.2 Set Union"
   ]
  },
  {
   "cell_type": "code",
   "execution_count": 76,
   "id": "c22ef447",
   "metadata": {},
   "outputs": [
    {
     "data": {
      "text/plain": [
       "{1, 2, 3, 4, 5, 6, 7, 8, 9}"
      ]
     },
     "execution_count": 76,
     "metadata": {},
     "output_type": "execute_result"
    }
   ],
   "source": [
    "A = {1,2,3,4,5,6}\n",
    "B = {4,5,6,7,8,9}\n",
    "A | B\n"
   ]
  },
  {
   "cell_type": "markdown",
   "id": "a63d8e52",
   "metadata": {},
   "source": [
    "## 2.4.3 Set Difference"
   ]
  },
  {
   "cell_type": "code",
   "execution_count": 77,
   "id": "b1beac39",
   "metadata": {},
   "outputs": [
    {
     "data": {
      "text/plain": [
       "{1, 2, 3}"
      ]
     },
     "execution_count": 77,
     "metadata": {},
     "output_type": "execute_result"
    }
   ],
   "source": [
    "A = {1,2,3,4,5,6}\n",
    "B = {4,5,6,7,8,9}\n",
    "A - B"
   ]
  },
  {
   "cell_type": "code",
   "execution_count": 78,
   "id": "d2ce4385",
   "metadata": {},
   "outputs": [
    {
     "data": {
      "text/plain": [
       "{7, 8, 9}"
      ]
     },
     "execution_count": 78,
     "metadata": {},
     "output_type": "execute_result"
    }
   ],
   "source": [
    "A = {1,2,3,4,5,6}\n",
    "B = {4,5,6,7,8,9}\n",
    "B - A"
   ]
  },
  {
   "cell_type": "markdown",
   "id": "cdc73ecd",
   "metadata": {},
   "source": [
    "## 3.0 Dictionaries `{ k : v}`\n",
    "\n",
    "* An English Dictionary would allow us to look up the definition of a word. We search the word to locate the definition. \n",
    "\n",
    "* In Python, we specify a key (word) to be able to get a value (definition). \n",
    "\n",
    "* Similar to an associative array, or a Map in Java.\n",
    "\n",
    "* Like Set, Dictionaries also use the `{ }` but they feature : for a key and value pair  `{ k : v }`\n"
   ]
  },
  {
   "cell_type": "code",
   "execution_count": null,
   "id": "30e713e1",
   "metadata": {},
   "outputs": [],
   "source": [
    "s = {1,2,3,4,5}"
   ]
  },
  {
   "cell_type": "code",
   "execution_count": 79,
   "id": "9cdec5dc",
   "metadata": {},
   "outputs": [
    {
     "data": {
      "text/plain": [
       "{'USA': 200, 'UK': 200, 'EU': 200}"
      ]
     },
     "execution_count": 79,
     "metadata": {},
     "output_type": "execute_result"
    }
   ],
   "source": [
    "d = {\"USA\": 200, \"UK\": 200, \"EU\": 200}\n",
    "d\n"
   ]
  },
  {
   "cell_type": "code",
   "execution_count": 80,
   "id": "40071002",
   "metadata": {},
   "outputs": [
    {
     "ename": "KeyError",
     "evalue": "0",
     "output_type": "error",
     "traceback": [
      "\u001b[0;31m---------------------------------------------------------------------------\u001b[0m",
      "\u001b[0;31mKeyError\u001b[0m                                  Traceback (most recent call last)",
      "Cell \u001b[0;32mIn [80], line 1\u001b[0m\n\u001b[0;32m----> 1\u001b[0m d[\u001b[38;5;241m0\u001b[39m]\n",
      "\u001b[0;31mKeyError\u001b[0m: 0"
     ]
    }
   ],
   "source": [
    "d[0]"
   ]
  },
  {
   "cell_type": "code",
   "execution_count": 81,
   "id": "2b5c9642",
   "metadata": {},
   "outputs": [
    {
     "data": {
      "text/plain": [
       "200"
      ]
     },
     "execution_count": 81,
     "metadata": {},
     "output_type": "execute_result"
    }
   ],
   "source": [
    "d = {\"USA\": 200, \"UK\": 200, \"EU\": 200}\n",
    "d[\"UK\"]\n"
   ]
  },
  {
   "cell_type": "code",
   "execution_count": 82,
   "id": "e9afa2d5",
   "metadata": {},
   "outputs": [
    {
     "ename": "KeyError",
     "evalue": "'uk'",
     "output_type": "error",
     "traceback": [
      "\u001b[0;31m---------------------------------------------------------------------------\u001b[0m",
      "\u001b[0;31mKeyError\u001b[0m                                  Traceback (most recent call last)",
      "Cell \u001b[0;32mIn [82], line 2\u001b[0m\n\u001b[1;32m      1\u001b[0m d \u001b[38;5;241m=\u001b[39m {\u001b[38;5;124m\"\u001b[39m\u001b[38;5;124mUSA\u001b[39m\u001b[38;5;124m\"\u001b[39m: \u001b[38;5;241m200\u001b[39m, \u001b[38;5;124m\"\u001b[39m\u001b[38;5;124mUK\u001b[39m\u001b[38;5;124m\"\u001b[39m: \u001b[38;5;241m200\u001b[39m, \u001b[38;5;124m\"\u001b[39m\u001b[38;5;124mEU\u001b[39m\u001b[38;5;124m\"\u001b[39m: \u001b[38;5;241m200\u001b[39m}\n\u001b[0;32m----> 2\u001b[0m d[\u001b[38;5;124m\"\u001b[39m\u001b[38;5;124muk\u001b[39m\u001b[38;5;124m\"\u001b[39m]\n",
      "\u001b[0;31mKeyError\u001b[0m: 'uk'"
     ]
    }
   ],
   "source": [
    "d = {\"USA\": 200, \"UK\": 200, \"EU\": 200}\n",
    "d[\"uk\"]\n"
   ]
  },
  {
   "cell_type": "markdown",
   "id": "d2943d52",
   "metadata": {},
   "source": [
    "## 3.1 Append"
   ]
  },
  {
   "cell_type": "code",
   "execution_count": 83,
   "id": "1d7be8ab",
   "metadata": {},
   "outputs": [
    {
     "data": {
      "text/plain": [
       "{'USA': 200, 'UK': 200, 'EU': 200, 'Asia': 300}"
      ]
     },
     "execution_count": 83,
     "metadata": {},
     "output_type": "execute_result"
    }
   ],
   "source": [
    "d = {\"USA\": 200, \"UK\": 200, \"EU\": 200}\n",
    "d[\"Asia\"] = 300\n",
    "d\n"
   ]
  },
  {
   "cell_type": "markdown",
   "id": "9157c9d6",
   "metadata": {},
   "source": [
    "## 3.2 Remove"
   ]
  },
  {
   "cell_type": "code",
   "execution_count": 93,
   "id": "a4ccae47",
   "metadata": {},
   "outputs": [
    {
     "data": {
      "text/plain": [
       "{'USA': 200, 'UK': 200, 'EU': 200}"
      ]
     },
     "execution_count": 93,
     "metadata": {},
     "output_type": "execute_result"
    }
   ],
   "source": [
    "d = {\"USA\": 200, \"UK\": 200, \"EU\": 200, \"Asia\": 30}\n",
    "del d[\"Asia\"]\n",
    "d\n"
   ]
  },
  {
   "cell_type": "code",
   "execution_count": 94,
   "id": "355b59d5",
   "metadata": {},
   "outputs": [
    {
     "data": {
      "text/plain": [
       "dict"
      ]
     },
     "execution_count": 94,
     "metadata": {},
     "output_type": "execute_result"
    }
   ],
   "source": [
    "type(d)"
   ]
  },
  {
   "cell_type": "code",
   "execution_count": 95,
   "id": "0f9152aa",
   "metadata": {},
   "outputs": [
    {
     "data": {
      "text/plain": [
       "['__class__',\n",
       " '__class_getitem__',\n",
       " '__contains__',\n",
       " '__delattr__',\n",
       " '__delitem__',\n",
       " '__dir__',\n",
       " '__doc__',\n",
       " '__eq__',\n",
       " '__format__',\n",
       " '__ge__',\n",
       " '__getattribute__',\n",
       " '__getitem__',\n",
       " '__gt__',\n",
       " '__hash__',\n",
       " '__init__',\n",
       " '__init_subclass__',\n",
       " '__ior__',\n",
       " '__iter__',\n",
       " '__le__',\n",
       " '__len__',\n",
       " '__lt__',\n",
       " '__ne__',\n",
       " '__new__',\n",
       " '__or__',\n",
       " '__reduce__',\n",
       " '__reduce_ex__',\n",
       " '__repr__',\n",
       " '__reversed__',\n",
       " '__ror__',\n",
       " '__setattr__',\n",
       " '__setitem__',\n",
       " '__sizeof__',\n",
       " '__str__',\n",
       " '__subclasshook__',\n",
       " 'clear',\n",
       " 'copy',\n",
       " 'fromkeys',\n",
       " 'get',\n",
       " 'items',\n",
       " 'keys',\n",
       " 'pop',\n",
       " 'popitem',\n",
       " 'setdefault',\n",
       " 'update',\n",
       " 'values']"
      ]
     },
     "execution_count": 95,
     "metadata": {},
     "output_type": "execute_result"
    }
   ],
   "source": [
    "dir(dict)"
   ]
  },
  {
   "cell_type": "code",
   "execution_count": 96,
   "id": "9e8856bf",
   "metadata": {},
   "outputs": [
    {
     "name": "stdout",
     "output_type": "stream",
     "text": [
      "dict_keys(['USA', 'UK', 'EU'])\n",
      "dict_values([200, 200, 200])\n"
     ]
    }
   ],
   "source": [
    "d = {\"USA\": 200, \"UK\": 200, \"EU\": 200}\n",
    "print( d.keys() )\n",
    "print( d.values() )\n"
   ]
  },
  {
   "cell_type": "markdown",
   "id": "6e7715bc",
   "metadata": {},
   "source": [
    "## 3.3 The `zip()` function\n",
    "\n",
    "* The `zip()` function combines two or more iterables (like lists or tuples) element-by-element\n",
    "\n",
    "* It returns an iterator of tuples, where each tuple contains elements from the same position in each iterable\n",
    "\n",
    "* It is useful for pairing related data (e.g., names with scores, countries with values)"
   ]
  },
  {
   "cell_type": "markdown",
   "id": "61640945",
   "metadata": {},
   "source": [
    "<img src=\"https://miro.medium.com/v2/1*tbujCKWQX-CrRIsn6MjY7A.gif\" alt=\"char_array\" width=\"650\"> \n",
    "<!--![zip_](https://miro.medium.com/v2/1*tbujCKWQX-CrRIsn6MjY7A.gif)-->"
   ]
  },
  {
   "cell_type": "code",
   "execution_count": 87,
   "id": "74b19ab1",
   "metadata": {},
   "outputs": [],
   "source": [
    "countries = [\"Japan\", \"Italy\", \"Brazil\", \"India\"]\n",
    "life_expectancy = [83.7, 82.7, 75.9, 68.3]"
   ]
  },
  {
   "cell_type": "code",
   "execution_count": 88,
   "id": "9e6d1f3d",
   "metadata": {},
   "outputs": [
    {
     "data": {
      "text/plain": [
       "[('Japan', 83.7), ('Italy', 82.7), ('Brazil', 75.9), ('India', 68.3)]"
      ]
     },
     "execution_count": 88,
     "metadata": {},
     "output_type": "execute_result"
    }
   ],
   "source": [
    "paired = list(zip(countries, life_expectancy))\n",
    "paired"
   ]
  },
  {
   "cell_type": "code",
   "execution_count": 89,
   "id": "6263c1f5",
   "metadata": {},
   "outputs": [
    {
     "data": {
      "text/plain": [
       "{'Japan': 83.7, 'Italy': 82.7, 'Brazil': 75.9, 'India': 68.3}"
      ]
     },
     "execution_count": 89,
     "metadata": {},
     "output_type": "execute_result"
    }
   ],
   "source": [
    "paired_dict = dict(zip(countries, life_expectancy))\n",
    "paired_dict"
   ]
  },
  {
   "cell_type": "code",
   "execution_count": 99,
   "id": "2590ebf7",
   "metadata": {},
   "outputs": [
    {
     "data": {
      "text/plain": [
       "dict_keys(['Japan', 'Italy', 'Brazil', 'India'])"
      ]
     },
     "execution_count": 99,
     "metadata": {},
     "output_type": "execute_result"
    }
   ],
   "source": [
    "paired_keys = paired_dict.keys()\n",
    "paired_keys"
   ]
  },
  {
   "cell_type": "code",
   "execution_count": 100,
   "id": "c3f02b86",
   "metadata": {},
   "outputs": [
    {
     "data": {
      "text/plain": [
       "dict_values([83.7, 82.7, 75.9, 68.3])"
      ]
     },
     "execution_count": 100,
     "metadata": {},
     "output_type": "execute_result"
    }
   ],
   "source": [
    "paired_values = paired_dict.values()\n",
    "paired_values"
   ]
  },
  {
   "cell_type": "code",
   "execution_count": 105,
   "id": "9ae8b454",
   "metadata": {},
   "outputs": [
    {
     "data": {
      "text/plain": [
       "{'Japan': 83.7, 'Italy': 82.7, 'Brazil': 75.9, 'India': 68.3}"
      ]
     },
     "execution_count": 105,
     "metadata": {},
     "output_type": "execute_result"
    }
   ],
   "source": [
    "paired_dict = dict(zip(paired_keys, paired_values))\n",
    "paired_dict"
   ]
  },
  {
   "cell_type": "code",
   "execution_count": 103,
   "id": "bcd5039f",
   "metadata": {},
   "outputs": [
    {
     "data": {
      "text/plain": [
       "{83.7: 'Japan', 82.7: 'Italy', 75.9: 'Brazil', 68.3: 'India'}"
      ]
     },
     "execution_count": 103,
     "metadata": {},
     "output_type": "execute_result"
    }
   ],
   "source": [
    "paired_dict = dict(zip(paired_values, paired_keys))\n",
    "paired_dict"
   ]
  },
  {
   "cell_type": "markdown",
   "id": "292b31ca",
   "metadata": {},
   "source": [
    "## 3.4 Sorting a Dictionary \n",
    "\n",
    "* Dictionaries in `Python 3.7+` maintain insertion order.\n",
    "\n",
    "* You could make use of the `sorted()` function to sort keys alphabetically.\n",
    "\n",
    "* However, to maintain the pairing, you would need to sort the dictionary `items`"
   ]
  },
  {
   "cell_type": "code",
   "execution_count": 90,
   "id": "51fb2c2c",
   "metadata": {},
   "outputs": [
    {
     "data": {
      "text/plain": [
       "{'Japan': 83.7, 'Italy': 82.7, 'Brazil': 75.9, 'India': 68.3}"
      ]
     },
     "execution_count": 90,
     "metadata": {},
     "output_type": "execute_result"
    }
   ],
   "source": [
    "paired_dict"
   ]
  },
  {
   "cell_type": "code",
   "execution_count": 91,
   "id": "cc52fce4",
   "metadata": {},
   "outputs": [
    {
     "data": {
      "text/plain": [
       "['Brazil', 'India', 'Italy', 'Japan']"
      ]
     },
     "execution_count": 91,
     "metadata": {},
     "output_type": "execute_result"
    }
   ],
   "source": [
    "sorted_pairs = sorted(paired_dict)\n",
    "sorted_pairs"
   ]
  },
  {
   "cell_type": "code",
   "execution_count": 92,
   "id": "77719a79",
   "metadata": {},
   "outputs": [
    {
     "data": {
      "text/plain": [
       "[('Brazil', 75.9), ('India', 68.3), ('Italy', 82.7), ('Japan', 83.7)]"
      ]
     },
     "execution_count": 92,
     "metadata": {},
     "output_type": "execute_result"
    }
   ],
   "source": [
    "sorted_pairs = sorted(paired_dict.items())\n",
    "sorted_pairs"
   ]
  },
  {
   "cell_type": "code",
   "execution_count": 93,
   "id": "289cf7c6",
   "metadata": {},
   "outputs": [
    {
     "data": {
      "text/plain": [
       "{'Brazil': 75.9, 'India': 68.3, 'Italy': 82.7, 'Japan': 83.7}"
      ]
     },
     "execution_count": 93,
     "metadata": {},
     "output_type": "execute_result"
    }
   ],
   "source": [
    "sorted_pairs = dict(sorted(paired_dict.items()))\n",
    "sorted_pairs"
   ]
  },
  {
   "cell_type": "markdown",
   "id": "b39f6628",
   "metadata": {},
   "source": [
    "## 4. JSON\n",
    "\n",
    "* JavaScript Object Notation (JSON) is near universal format that REST APIs use today to communicate data. \n",
    "\n",
    "* Like Python dictionaries, JSON also uses `Key : Value` pairs.\n",
    "\n",
    "* Keys translate to columns, and values translate to rows. \n",
    "\n",
    "* To go from a Python `dict` to a JSON string, use `json.dumps()`\n",
    "\n",
    "* To go from a JSON string to a Python `dict`, use `json.loads()`"
   ]
  },
  {
   "cell_type": "code",
   "execution_count": 109,
   "id": "dc10dae1",
   "metadata": {},
   "outputs": [],
   "source": [
    "import json"
   ]
  },
  {
   "cell_type": "code",
   "execution_count": 110,
   "id": "da7de455",
   "metadata": {},
   "outputs": [
    {
     "name": "stdout",
     "output_type": "stream",
     "text": [
      "{\"name\": \"John\", \"age\": 30, \"city\": \"New York\"}\n"
     ]
    }
   ],
   "source": [
    "py_dict = {\n",
    "  \"name\": \"John\",\n",
    "  \"age\": 30,\n",
    "  \"city\": \"New York\"\n",
    "}\n",
    "\n",
    "json_str = json.dumps(py_dict)\n",
    "\n",
    "print(json_str)"
   ]
  },
  {
   "cell_type": "code",
   "execution_count": 111,
   "id": "8966c8ef",
   "metadata": {},
   "outputs": [
    {
     "name": "stdout",
     "output_type": "stream",
     "text": [
      "<class 'dict'>\n",
      "{'name': 'John', 'age': 30, 'city': 'New York'}\n"
     ]
    }
   ],
   "source": [
    "json_str = '{ \"name\":\"John\", \"age\":30, \"city\":\"New York\"}'\n",
    "\n",
    "py_dict = json.loads(json_str)\n",
    "print(type(py_dict))\n",
    "print(py_dict)"
   ]
  },
  {
   "cell_type": "markdown",
   "id": "46d0d432",
   "metadata": {},
   "source": [
    "## 4.1 Very simple API example\n",
    "\n",
    "* https://randomuser.me/api/ generates a fictitious user's data in the form of JSON. \n",
    "\n",
    "* Navigate to the website to see the `{ k : v }` format\n",
    "\n",
    "* We can load this JSON data into our Python environment by utilising `requests` - e.g. Sending a HTTP GET request to the URL. \n"
   ]
  },
  {
   "cell_type": "code",
   "execution_count": 84,
   "id": "4623c319",
   "metadata": {},
   "outputs": [],
   "source": [
    "import requests\n",
    "\n",
    "url = \"https://randomuser.me/api/\"\n",
    "response = requests.get(url) # Send a GET request to the API\n",
    "\n",
    "data = response.json() # Convert the response to a Python dictionary"
   ]
  },
  {
   "cell_type": "code",
   "execution_count": 85,
   "id": "0820128c",
   "metadata": {},
   "outputs": [
    {
     "name": "stdout",
     "output_type": "stream",
     "text": [
      "{'results': [{'gender': 'female', 'name': {'title': 'Mrs', 'first': 'Sekleta', 'last': 'Atroshchenko'}, 'location': {'street': {'number': 7795, 'name': 'Ploshcha Geroyiv'}, 'city': 'Krasnoperekopsk', 'state': 'Zakarpatska', 'country': 'Ukraine', 'postcode': 74556, 'coordinates': {'latitude': '77.3126', 'longitude': '106.0253'}, 'timezone': {'offset': '-3:00', 'description': 'Brazil, Buenos Aires, Georgetown'}}, 'email': 'sekleta.atroshchenko@example.com', 'login': {'uuid': 'c0a5c374-be39-41a9-9a4e-241b1a6572d5', 'username': 'tinydog364', 'password': 'coolman', 'salt': '4nLfNKKP', 'md5': '28b76b741cde6f60001265f08902127a', 'sha1': '0b08d4e50e3929482d0644695531977cbd65e015', 'sha256': 'aad5412102cbd90bc1faa5d370d7f46c09264677f1697009641a08fc70ea962b'}, 'dob': {'date': '1948-11-09T06:24:57.367Z', 'age': 76}, 'registered': {'date': '2016-02-18T14:07:47.883Z', 'age': 9}, 'phone': '(097) K34-1830', 'cell': '(067) J75-4812', 'id': {'name': '', 'value': None}, 'picture': {'large': 'https://randomuser.me/api/portraits/women/6.jpg', 'medium': 'https://randomuser.me/api/portraits/med/women/6.jpg', 'thumbnail': 'https://randomuser.me/api/portraits/thumb/women/6.jpg'}, 'nat': 'UA'}], 'info': {'seed': 'eea87459480aa739', 'results': 1, 'page': 1, 'version': '1.4'}}\n"
     ]
    }
   ],
   "source": [
    "print(data)"
   ]
  },
  {
   "cell_type": "code",
   "execution_count": 86,
   "id": "e8a03678",
   "metadata": {},
   "outputs": [
    {
     "name": "stdout",
     "output_type": "stream",
     "text": [
      "{'title': 'Mrs', 'first': 'Sekleta', 'last': 'Atroshchenko'}\n"
     ]
    }
   ],
   "source": [
    "print(data[\"results\"][0][\"name\"])"
   ]
  },
  {
   "cell_type": "code",
   "execution_count": 115,
   "id": "5a8d3368",
   "metadata": {},
   "outputs": [
    {
     "data": {
      "text/plain": [
       "dict"
      ]
     },
     "execution_count": 115,
     "metadata": {},
     "output_type": "execute_result"
    }
   ],
   "source": [
    "type(data)"
   ]
  },
  {
   "cell_type": "markdown",
   "id": "b0c4ff51",
   "metadata": {},
   "source": [
    "Python is useful language for data science!"
   ]
  },
  {
   "cell_type": "markdown",
   "id": "7274d3c9",
   "metadata": {},
   "source": [
    "## Summary \n",
    "\n",
    "* You can distinguish between the key collections by the pairs of brackets used: \n",
    "\n",
    "| Structure | Brackets | Characteristics |\n",
    "| ----------- | ----------- | --------- |\n",
    "| Lists |\t`[ , ]` | mutable |\n",
    "| Tuples |\t`( , )` | immutable | \n",
    "| Sets |\t`{ , }`  | unique values (no duplicates) |\n",
    "| Dict | `{k : v}` | key and value pairs |\n"
   ]
  },
  {
   "cell_type": "markdown",
   "id": "dd38cc99",
   "metadata": {
    "id": "dd38cc99"
   },
   "source": [
    "#### This Jupyter Notebook contains exercises for you to extend your introduction to OOP, by creating lists, tuples, sets, dictionaries of objects. Attempt the following exercises, which slowly build in complexity. If you get stuck, check back to the <a href = \"https://youtu.be/FcSwGPMbm-U\"> Python lecture recording on Sets and Dictionaries here</a> or view the <a href = \"https://www.w3schools.com/python/python_lists.asp\">W3Schools page on Python Data Structures</a>, which includes examples, exercises and quizzes to help your understanding. "
   ]
  },
  {
   "cell_type": "markdown",
   "id": "2ae0edc0",
   "metadata": {},
   "source": [
    "### Exercise 1:\n",
    "\n",
    "Create a Python dictionary (`dict`) which stores the price for three items of food. For example; milk is £1.30, pasta is £0.75, and strawberries are £1.50. Output the dictionary to check the `values` are stored, and then see if you can access the price for one of the items by using the item name as the `key`.\n",
    "\n",
    "Extension: Now add a new `key` and `value` pair to previously defined dictionary."
   ]
  },
  {
   "cell_type": "code",
   "execution_count": null,
   "id": "84b40bdc",
   "metadata": {},
   "outputs": [],
   "source": [
    "food_prices = {...} # add the key:value pairs here.\n",
    "food_prices"
   ]
  },
  {
   "cell_type": "markdown",
   "id": "18d27a22",
   "metadata": {},
   "source": [
    "### Exercise 2: \n",
    "\n",
    "Given two `sets` (prices and food names), can you create a dictionary (`dict`) that uses the foodnames as `keys`, and the prices as `values`?\n"
   ]
  },
  {
   "cell_type": "code",
   "execution_count": null,
   "id": "989af81c",
   "metadata": {},
   "outputs": [],
   "source": [
    "foodnames = {\"milk\", \"pasta\", \"strawberries\"}\n",
    "prices = {1.30, 0.75, 1.50}\n",
    "\n",
    "print(foodnames)\n",
    "print(prices)\n",
    "\n",
    "# Write your solution: \n"
   ]
  },
  {
   "cell_type": "markdown",
   "id": "d14cb700",
   "metadata": {},
   "source": [
    "### Exercise 3: \n",
    "\n",
    "Write one function which will return the intersection of two `sets` passed in.\n",
    "\n",
    "Write another function which will return the union of two `sets` passed in."
   ]
  },
  {
   "cell_type": "code",
   "execution_count": null,
   "id": "c4dc15f6",
   "metadata": {},
   "outputs": [],
   "source": [
    "a = {1,2,3,4,5,6,7,8,9,10}\n",
    "b = {7,8,9,10,11,12,13,14}\n",
    "\n",
    "#write your solution here"
   ]
  },
  {
   "cell_type": "markdown",
   "id": "4e60f01b",
   "metadata": {},
   "source": [
    "### Exercise 4: \n",
    "\n",
    "Write a function to count the number of elements in a list within a specified range.\n",
    "\n"
   ]
  },
  {
   "cell_type": "code",
   "execution_count": 8,
   "id": "acd02184",
   "metadata": {},
   "outputs": [],
   "source": [
    "sample_list = [10,20,30,40,40,40,70,80,99]\n",
    "sample_min = 15 \n",
    "sample_max = 50\n",
    "# there should be five elements between 15 and 50"
   ]
  },
  {
   "cell_type": "code",
   "execution_count": 9,
   "id": "9afadc45",
   "metadata": {},
   "outputs": [],
   "source": [
    "def count_between_range(sample_list, sample_min, sample_max):\n",
    "    ... # Write your solution here"
   ]
  },
  {
   "cell_type": "code",
   "execution_count": null,
   "id": "ec7be704",
   "metadata": {},
   "outputs": [],
   "source": [
    "count_between_range(sample_list, sample_min, sample_max)"
   ]
  },
  {
   "cell_type": "markdown",
   "id": "f62b3876",
   "metadata": {
    "id": "f62b3876"
   },
   "source": [
    "### Exercise 5:\n",
    "Write a function that will generate the multiplications of a number passed in, and store each multiple in a `set` of values.\n",
    "\n",
    "For example, if the value 5 is passed in, then generate the 5 times table. The values of the multiplication table should be stored in indivdiual elements (max 12) of a `set`. The `set` should be returned at the end of the function. \n"
   ]
  },
  {
   "cell_type": "code",
   "execution_count": 97,
   "id": "c92f5ae0",
   "metadata": {},
   "outputs": [],
   "source": [
    "def generate_multiples(f):\n",
    "    ... # Write your solution here."
   ]
  },
  {
   "cell_type": "code",
   "execution_count": 98,
   "id": "cb185686",
   "metadata": {},
   "outputs": [
    {
     "name": "stdout",
     "output_type": "stream",
     "text": [
      "<class 'NoneType'>\n",
      "None\n"
     ]
    }
   ],
   "source": [
    "fives = generate_multiples(5)\n",
    "print(type(fives))\n",
    "print(fives)"
   ]
  },
  {
   "cell_type": "markdown",
   "id": "0c3e9f61",
   "metadata": {},
   "source": [
    "### Exercise 6: \n",
    "\n",
    "Using a list comprehension, create a new list called \"positives\" out of the list \"numbers\". \n",
    "\n",
    "This \"positives\" list should contains only the positive numbers from the list, as integers rounded to the closest integer value."
   ]
  },
  {
   "cell_type": "code",
   "execution_count": null,
   "id": "fa4109f5",
   "metadata": {},
   "outputs": [],
   "source": [
    "numbers = [34.6, -203.4, 44.9, 68.3, -12.2, 44.6, 12.7]\n",
    "\n",
    "positives = [...] # Write your list comprehension solution here. \n",
    "positives"
   ]
  },
  {
   "cell_type": "markdown",
   "id": "d37c0150",
   "metadata": {},
   "source": [
    "### Exercise 7:\n",
    "\n",
    "Write a code block to convert a list of tuples to a dictionary\n",
    "\n",
    "Sample input: ```[(28, 'February'), (30, 'April'), (31, 'July'), (31, 'August'), (30, 'November')]```\n",
    "\n",
    "Sample output ```{'February': 28, 'April': 30, 'July': 31, 'August': 31, 'November': 30}```\n",
    "\n",
    "Hint: If you get stuck, consider the `zip()` function..."
   ]
  },
  {
   "cell_type": "code",
   "execution_count": null,
   "id": "b785d693",
   "metadata": {},
   "outputs": [],
   "source": [
    "tuples_list = [(28, 'February'), (30, 'April'), (31, 'July'), (31, 'August'), (30, 'November')]"
   ]
  },
  {
   "cell_type": "code",
   "execution_count": null,
   "id": "88b70e6a",
   "metadata": {},
   "outputs": [],
   "source": [
    "# Write your solution here. "
   ]
  },
  {
   "cell_type": "markdown",
   "id": "01f4441a",
   "metadata": {},
   "source": [
    "### Exercise 8: \n",
    "If we define $S$ as the set of prime numbers selected from the list of numbers, then:\n",
    "\n",
    "$S = \\{\\, n \\in \\text{numbers} \\mid n \\text{ is prime} \\,\\}$\n",
    "\n",
    "Or, written more explicitly using a predicate function $P(n)$ meaning \"n is prime\":\n",
    "\n",
    "$S = \\{\\, n \\in \\text{numbers} \\mid P(n) = \\text{True} \\,\\}$\n",
    "\n",
    "To convert this set notation to Python, write an `is_prime(n)` function which will be called on a `list` of numbers below."
   ]
  },
  {
   "cell_type": "code",
   "execution_count": 5,
   "id": "7eca25d8",
   "metadata": {},
   "outputs": [],
   "source": [
    "def is_prime(n):\n",
    "    ... # complete this is_prime function"
   ]
  },
  {
   "cell_type": "code",
   "execution_count": 3,
   "id": "436445d4",
   "metadata": {},
   "outputs": [
    {
     "data": {
      "text/plain": [
       "{2, 3, 5, 7, 11, 13, 17, 19}"
      ]
     },
     "execution_count": 3,
     "metadata": {},
     "output_type": "execute_result"
    }
   ],
   "source": [
    "numbers = [0,1,2,3,4,5,6,7,8,9,10,11,12,13,14,15,16,17,18,19,20]\n",
    "\n",
    "s = {n for n in numbers if is_prime(n)} # set comprehension\n",
    "s"
   ]
  },
  {
   "cell_type": "markdown",
   "id": "531c036d",
   "metadata": {},
   "source": [
    "### Exercise 9:\n",
    "\n",
    "Write a function that takes a `dictionary` as input and retuns the mean (i.e. average value) of the values stored in the `dictionary`. \n",
    "\n",
    "Extension: Can you group countries by their geographical continent? (how good is your geography!) Produce a new dictionary where the continent is the key, and the value is the mean temperature value across the countries that are located in that continent. "
   ]
  },
  {
   "cell_type": "code",
   "execution_count": null,
   "id": "935d2a72",
   "metadata": {},
   "outputs": [],
   "source": [
    "average_temperature = {\n",
    "    'Canada': -5.3,\n",
    "    'Norway': 1.5,\n",
    "    'United Kingdom': 9.3,\n",
    "    'Germany': 8.5,\n",
    "    'Spain': 14.9,\n",
    "    'Italy': 13.5,\n",
    "    'Egypt': 22.9,\n",
    "    'India': 24.6,\n",
    "    'Thailand': 27.7,\n",
    "    'Singapore': 27.6,\n",
    "    'Brazil': 25.0,\n",
    "    'Argentina': 14.8,\n",
    "    'Australia': 21.5,\n",
    "    'South Africa': 17.8,\n",
    "    'Japan': 11.9,\n",
    "    'United States': 8.6\n",
    "}"
   ]
  },
  {
   "cell_type": "code",
   "execution_count": null,
   "id": "8468371e",
   "metadata": {},
   "outputs": [],
   "source": [
    "def calculate_mean():\n",
    "    ..."
   ]
  },
  {
   "cell_type": "markdown",
   "id": "b8804ed2",
   "metadata": {},
   "source": [
    "### Exercise 10:\n",
    "\n",
    "Given the three dictionaries below, can you merge these so that the keys are the countries, and the values are themselves a dictionary of information (K:V pairs) for that country. \n",
    "\n",
    "The output should look like the following: \n",
    "\n",
    "```\n",
    "{\n",
    "    'Japan': {'temperature': 11.9, 'population': 125.7, 'gdp': 4937},\n",
    "    'India': {'temperature': 24.6, 'population': 1393, 'gdp': 3173},\n",
    "    'Brazil': {'temperature': 25.0, 'population': 214.3, 'gdp': 1860}\n",
    "}\n",
    "```\n",
    "\n",
    "Extension: Add a new key: 'GDP per capita' to each country, and use this formula to calculate the values:\n",
    "$\\text{GDP per capita} = \\frac{\\text{GDP}}{\\text{Population}}$"
   ]
  },
  {
   "cell_type": "code",
   "execution_count": null,
   "id": "ea303102",
   "metadata": {},
   "outputs": [],
   "source": [
    "temperature = {\n",
    "    'Japan': 11.9,\n",
    "    'India': 24.6,\n",
    "    'Brazil': 25.0\n",
    "}\n",
    "\n",
    "population = {\n",
    "    'Japan': 125.7,\n",
    "    'India': 1393,\n",
    "    'Brazil': 214.3\n",
    "}\n",
    "\n",
    "gdp = {\n",
    "    'Japan': 4937,\n",
    "    'India': 3173,\n",
    "    'Brazil': 1860\n",
    "}"
   ]
  },
  {
   "cell_type": "code",
   "execution_count": null,
   "id": "6ba079c1",
   "metadata": {},
   "outputs": [],
   "source": [
    "# Write your solution here. \n"
   ]
  }
 ],
 "metadata": {
  "colab": {
   "provenance": []
  },
  "kernelspec": {
   "display_name": "Python 3",
   "language": "python",
   "name": "python3"
  },
  "language_info": {
   "codemirror_mode": {
    "name": "ipython",
    "version": 3
   },
   "file_extension": ".py",
   "mimetype": "text/x-python",
   "name": "python",
   "nbconvert_exporter": "python",
   "pygments_lexer": "ipython3",
   "version": "3.9.6"
  }
 },
 "nbformat": 4,
 "nbformat_minor": 5
}
