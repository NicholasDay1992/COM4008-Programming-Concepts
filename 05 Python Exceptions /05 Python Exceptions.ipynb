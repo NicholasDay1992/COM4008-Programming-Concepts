{
  "cells": [
    {
      "cell_type": "markdown",
      "id": "1eba3b72",
      "metadata": {
        "id": "1eba3b72"
      },
      "source": [
        "# 05 Python Exceptions\n"
      ]
    },
    {
      "cell_type": "markdown",
      "id": "104769f3",
      "metadata": {},
      "source": [
        "## Plan for the Lecture:\n",
        "\n",
        "1. Exception Theory \n",
        "\n",
        "2. Try / Except \n",
        "\n",
        "3. Pass \n",
        "\n",
        "4. Break "
      ]
    },
    {
      "cell_type": "markdown",
      "id": "f3c63fa9",
      "metadata": {},
      "source": [
        "## 0.0 Recap / Revision \n",
        "\n",
        "* Quiz here... \n",
        "\n",
        "* Selection vs Iteration \n",
        "\n",
        "* Classes vs Objects\n",
        "\n",
        "* Inheritance \n",
        "\n",
        "* Lists, Tuples, Sets & Dicts"
      ]
    },
    {
      "cell_type": "markdown",
      "id": "3ec7f7f9",
      "metadata": {},
      "source": [
        "## 1.0 What is an Exception? \n",
        "\n",
        "* An exception is an event that occurs during the life of a program which could cause that program to behave unreliably. \n",
        "\n",
        "* Sometimes the user will make a mistake or will interact with the program in an unintended way: \n",
        "\n",
        "- User may enter data in the wrong format.\n",
        "- Attempt to read an array element with an invalid index – referred to as being ‘out of bounds’\n",
        "- Attempt to open a file which has been relocated.\n",
        "\n",
        "* Rather than 'exceptional' meaning 'brilliant', here an exception is something unexpected - an exception to the rule. \n",
        "\n",
        "* Therefore, we need to find safe ways to deal with issues when they occur, so to limit damage. \n",
        "\n",
        "* Large applications can't afford to crash by a simple issue of entering data in the wrong format! "
      ]
    },
    {
      "cell_type": "markdown",
      "id": "b9206a2c",
      "metadata": {},
      "source": [
        "## 1.1 Examples of 'Exceptions'"
      ]
    },
    {
      "cell_type": "code",
      "execution_count": 4,
      "id": "1d749343",
      "metadata": {},
      "outputs": [
        {
          "ename": "TypeError",
          "evalue": "unsupported operand type(s) for +: 'int' and 'str'",
          "output_type": "error",
          "traceback": [
            "\u001b[0;31m---------------------------------------------------------------------------\u001b[0m",
            "\u001b[0;31mTypeError\u001b[0m                                 Traceback (most recent call last)",
            "Cell \u001b[0;32mIn [4], line 3\u001b[0m\n\u001b[1;32m      1\u001b[0m first_mark \u001b[38;5;241m=\u001b[39m \u001b[38;5;241m60\u001b[39m \n\u001b[1;32m      2\u001b[0m second_mark \u001b[38;5;241m=\u001b[39m \u001b[38;5;124m\"\u001b[39m\u001b[38;5;124m40\u001b[39m\u001b[38;5;124m\"\u001b[39m \n\u001b[0;32m----> 3\u001b[0m first_mark \u001b[38;5;241m+\u001b[39m second_mark\n",
            "\u001b[0;31mTypeError\u001b[0m: unsupported operand type(s) for +: 'int' and 'str'"
          ]
        }
      ],
      "source": [
        "first_mark = 60 \n",
        "second_mark = \"40\" \n",
        "first_mark + second_mark"
      ]
    },
    {
      "cell_type": "code",
      "execution_count": 5,
      "id": "685f7bac",
      "metadata": {},
      "outputs": [
        {
          "ename": "ZeroDivisionError",
          "evalue": "division by zero",
          "output_type": "error",
          "traceback": [
            "\u001b[0;31m---------------------------------------------------------------------------\u001b[0m",
            "\u001b[0;31mZeroDivisionError\u001b[0m                         Traceback (most recent call last)",
            "Cell \u001b[0;32mIn [5], line 1\u001b[0m\n\u001b[0;32m----> 1\u001b[0m \u001b[38;5;28msum\u001b[39m \u001b[38;5;241m=\u001b[39m \u001b[38;5;241m10\u001b[39m \u001b[38;5;241m/\u001b[39m \u001b[38;5;241m0\u001b[39m\n",
            "\u001b[0;31mZeroDivisionError\u001b[0m: division by zero"
          ]
        }
      ],
      "source": [
        "sum = 10 / 0"
      ]
    },
    {
      "cell_type": "code",
      "execution_count": 6,
      "id": "b17f0847",
      "metadata": {},
      "outputs": [
        {
          "ename": "ModuleNotFoundError",
          "evalue": "No module named 'Nick'",
          "output_type": "error",
          "traceback": [
            "\u001b[0;31m---------------------------------------------------------------------------\u001b[0m",
            "\u001b[0;31mModuleNotFoundError\u001b[0m                       Traceback (most recent call last)",
            "Cell \u001b[0;32mIn [6], line 1\u001b[0m\n\u001b[0;32m----> 1\u001b[0m \u001b[38;5;28;01mimport\u001b[39;00m \u001b[38;5;21;01mNick\u001b[39;00m\n",
            "\u001b[0;31mModuleNotFoundError\u001b[0m: No module named 'Nick'"
          ]
        }
      ],
      "source": [
        "import Nick"
      ]
    },
    {
      "cell_type": "markdown",
      "id": "9b51920e",
      "metadata": {},
      "source": [
        "There are many things that can go wrong when programming! "
      ]
    },
    {
      "cell_type": "markdown",
      "id": "9ab13298",
      "metadata": {},
      "source": [
        "## 1.2 Exception handling in Java: \n",
        "\n",
        "![Java_exceptions](https://miro.medium.com/v2/resize:fit:1400/1*_jXNZuPLKMTQ5IKjBzb8jA.png)"
      ]
    },
    {
      "cell_type": "markdown",
      "id": "b5122598",
      "metadata": {},
      "source": [
        "* Java distinguishes between checked and unchecked exceptions. \n",
        "\n",
        "* As Java is compiler-based it can 'check' exceptions before fully compiled. \n",
        "\n",
        "* By contrast, Python is an interpreted language, so doesn't have any compiler-checked exceptions. Some environments however, will point out syntax issues - and location based IO problems. See below the underlines (in VSC at least):"
      ]
    },
    {
      "cell_type": "code",
      "execution_count": 7,
      "id": "e3231356",
      "metadata": {},
      "outputs": [
        {
          "ename": "SyntaxError",
          "evalue": "EOL while scanning string literal (671343021.py, line 2)",
          "output_type": "error",
          "traceback": [
            "\u001b[0;36m  Cell \u001b[0;32mIn [7], line 2\u001b[0;36m\u001b[0m\n\u001b[0;31m    print(\"Hello)\u001b[0m\n\u001b[0m                 ^\u001b[0m\n\u001b[0;31mSyntaxError\u001b[0m\u001b[0;31m:\u001b[0m EOL while scanning string literal\n"
          ]
        }
      ],
      "source": [
        "import Nick \n",
        "print(\"Hello)"
      ]
    },
    {
      "cell_type": "markdown",
      "id": "552f59e3",
      "metadata": {},
      "source": [
        "## 1.3 Exception Handling in Python \n",
        "\n",
        "* Each type of event could lead to an exception has a corresponding pre-defined exception class in Python (similar in Java)\n",
        "\n",
        "* Python 3 has around 70 dedicated Exception classes that are arranged in groups in a hierarchy of inheritance\n",
        "\n",
        "* These are sub-classes of (they inherit from) the base-class `BaseException`, similar to Java's hierarchy\n",
        "\n",
        "* Important categories are: `StandardError` `FileHandling` and `Warning` classes"
      ]
    },
    {
      "cell_type": "markdown",
      "id": "29574a1d",
      "metadata": {},
      "source": [
        "![Python_exceptions](https://miro.medium.com/v2/resize:fit:745/0*v809W8GEKnvqM01c.jpg)"
      ]
    },
    {
      "cell_type": "markdown",
      "id": "bd930664",
      "metadata": {},
      "source": [
        "## 1.4 Exception vs Error - is there a difference? \n",
        "\n",
        "* Java (and C++) differentiated between an Exception and an Error. They have Exception and Error based classes. \n",
        "\n",
        "* In Python, notice how there is an Exception and a BaseException class, but the names of inheriting classes are either 'Error' or 'Warning'"
      ]
    },
    {
      "cell_type": "markdown",
      "id": "fa24813c",
      "metadata": {},
      "source": [
        "## 1.5 A list of the Python Exception Classes"
      ]
    },
    {
      "cell_type": "code",
      "execution_count": 8,
      "id": "96387f51",
      "metadata": {},
      "outputs": [
        {
          "data": {
            "text/plain": [
              "['ArithmeticError',\n",
              " 'AssertionError',\n",
              " 'AttributeError',\n",
              " 'BaseException',\n",
              " 'BlockingIOError',\n",
              " 'BrokenPipeError',\n",
              " 'BufferError',\n",
              " 'BytesWarning',\n",
              " 'ChildProcessError',\n",
              " 'ConnectionAbortedError',\n",
              " 'ConnectionError',\n",
              " 'ConnectionRefusedError',\n",
              " 'ConnectionResetError',\n",
              " 'DeprecationWarning',\n",
              " 'EOFError',\n",
              " 'EnvironmentError',\n",
              " 'Exception',\n",
              " 'FileExistsError',\n",
              " 'FileNotFoundError',\n",
              " 'FloatingPointError',\n",
              " 'FutureWarning',\n",
              " 'GeneratorExit',\n",
              " 'IOError',\n",
              " 'ImportError',\n",
              " 'ImportWarning',\n",
              " 'IndentationError',\n",
              " 'IndexError',\n",
              " 'InterruptedError',\n",
              " 'IsADirectoryError',\n",
              " 'KeyError',\n",
              " 'KeyboardInterrupt',\n",
              " 'LookupError',\n",
              " 'MemoryError',\n",
              " 'ModuleNotFoundError',\n",
              " 'NameError',\n",
              " 'NotADirectoryError',\n",
              " 'NotImplementedError',\n",
              " 'OSError',\n",
              " 'OverflowError',\n",
              " 'PendingDeprecationWarning',\n",
              " 'PermissionError',\n",
              " 'ProcessLookupError',\n",
              " 'RecursionError',\n",
              " 'ReferenceError',\n",
              " 'ResourceWarning',\n",
              " 'RuntimeError',\n",
              " 'RuntimeWarning',\n",
              " 'StopAsyncIteration',\n",
              " 'StopIteration',\n",
              " 'SyntaxError',\n",
              " 'SyntaxWarning',\n",
              " 'SystemError',\n",
              " 'SystemExit',\n",
              " 'TabError',\n",
              " 'TimeoutError',\n",
              " 'TypeError',\n",
              " 'UnboundLocalError',\n",
              " 'UnicodeDecodeError',\n",
              " 'UnicodeEncodeError',\n",
              " 'UnicodeError',\n",
              " 'UnicodeTranslateError',\n",
              " 'UnicodeWarning',\n",
              " 'UserWarning',\n",
              " 'ValueError',\n",
              " 'Warning',\n",
              " 'ZeroDivisionError']"
            ]
          },
          "execution_count": 8,
          "metadata": {},
          "output_type": "execute_result"
        }
      ],
      "source": [
        "import builtins\n",
        "\n",
        "exceptions = [e for e in dir(builtins) if isinstance(getattr(builtins, e), type) and issubclass(getattr(builtins, e), BaseException)]\n",
        "# print(len(exceptions))  # To get the total number\n",
        "exceptions       # To see all the names"
      ]
    },
    {
      "cell_type": "markdown",
      "id": "0c930ffd",
      "metadata": {},
      "source": [
        "## 1.6 Arranged into a Vertical Heirarchy\n",
        "```\n",
        "BaseException\n",
        " ├── SystemExit\n",
        " ├── KeyboardInterrupt\n",
        " ├── GeneratorExit\n",
        " └── Exception\n",
        "      ├── ArithmeticError\n",
        "      │    ├── FloatingPointError\n",
        "      │    ├── OverflowError\n",
        "      │    └── ZeroDivisionError\n",
        "      ├── BufferError\n",
        "      ├── LookupError\n",
        "      │    ├── IndexError\n",
        "      │    └── KeyError\n",
        "      ├── AssertionError\n",
        "      ├── AttributeError\n",
        "      ├── EOFError\n",
        "      ├── ImportError\n",
        "      │    └── ModuleNotFoundError\n",
        "      ├── NameError\n",
        "      │    └── UnboundLocalError\n",
        "      ├── OSError\n",
        "      │    ├── BlockingIOError\n",
        "      │    ├── ChildProcessError\n",
        "      │    ├── ConnectionError\n",
        "      │    │    ├── BrokenPipeError\n",
        "      │    │    ├── ConnectionAbortedError\n",
        "      │    │    ├── ConnectionRefusedError\n",
        "      │    │    └── ConnectionResetError\n",
        "      │    ├── FileExistsError\n",
        "      │    ├── FileNotFoundError\n",
        "      │    ├── InterruptedError\n",
        "      │    ├── IsADirectoryError\n",
        "      │    ├── NotADirectoryError\n",
        "      │    ├── PermissionError\n",
        "      │    ├── ProcessLookupError\n",
        "      │    └── TimeoutError\n",
        "      ├── ReferenceError\n",
        "      ├── RuntimeError\n",
        "      │    ├── NotImplementedError\n",
        "      │    └── RecursionError\n",
        "      ├── StopIteration\n",
        "      ├── StopAsyncIteration\n",
        "      ├── SyntaxError\n",
        "      │    └── IndentationError\n",
        "      │         └── TabError\n",
        "      ├── SystemError\n",
        "      ├── TypeError\n",
        "      ├── ValueError\n",
        "      │    └── UnicodeError\n",
        "      │         ├── UnicodeDecodeError\n",
        "      │         ├── UnicodeEncodeError\n",
        "      │         └── UnicodeTranslateError\n",
        "      └── Warning\n",
        "           ├── DeprecationWarning\n",
        "           ├── PendingDeprecationWarning\n",
        "           ├── RuntimeWarning\n",
        "           ├── SyntaxWarning\n",
        "           ├── UserWarning\n",
        "           ├── FutureWarning\n",
        "           ├── ImportWarning\n",
        "           ├── UnicodeWarning\n",
        "           └── BytesWarning\n",
        "```"
      ]
    },
    {
      "cell_type": "markdown",
      "id": "6be4c6fa",
      "metadata": {},
      "source": [
        "## 2.0 The `try` / `except` Python blocks\n",
        "\n",
        "* In other languages, one would typically `try` a block of code and then `catch` any exceptions that are `thrown`\n",
        "\n",
        "* In Python, there isn't an explicit keyword for `catch`, but there `except` fulfils this functionality."
      ]
    },
    {
      "cell_type": "markdown",
      "id": "f71c79fe",
      "metadata": {},
      "source": [
        "## SyntaxError"
      ]
    },
    {
      "cell_type": "code",
      "execution_count": 9,
      "id": "8ade37cd",
      "metadata": {},
      "outputs": [
        {
          "ename": "SyntaxError",
          "evalue": "EOL while scanning string literal (2344435519.py, line 1)",
          "output_type": "error",
          "traceback": [
            "\u001b[0;36m  Cell \u001b[0;32mIn [9], line 1\u001b[0;36m\u001b[0m\n\u001b[0;31m    print(\"Hello Nick)\u001b[0m\n\u001b[0m                      ^\u001b[0m\n\u001b[0;31mSyntaxError\u001b[0m\u001b[0;31m:\u001b[0m EOL while scanning string literal\n"
          ]
        }
      ],
      "source": [
        "print(\"Hello Nick)"
      ]
    },
    {
      "cell_type": "code",
      "execution_count": 10,
      "id": "972d3cef",
      "metadata": {},
      "outputs": [
        {
          "ename": "ZeroDivisionError",
          "evalue": "division by zero",
          "output_type": "error",
          "traceback": [
            "\u001b[0;31m---------------------------------------------------------------------------\u001b[0m",
            "\u001b[0;31mZeroDivisionError\u001b[0m                         Traceback (most recent call last)",
            "Cell \u001b[0;32mIn [10], line 1\u001b[0m\n\u001b[0;32m----> 1\u001b[0m risky_code \u001b[38;5;241m=\u001b[39m \u001b[38;5;241m10\u001b[39m \u001b[38;5;241m/\u001b[39m \u001b[38;5;241m0\u001b[39m\n",
            "\u001b[0;31mZeroDivisionError\u001b[0m: division by zero"
          ]
        }
      ],
      "source": [
        "risky_code = 10 / 0"
      ]
    },
    {
      "cell_type": "markdown",
      "id": "cfb01905",
      "metadata": {},
      "source": [
        "## ZeroDivisionError"
      ]
    },
    {
      "cell_type": "code",
      "execution_count": 11,
      "id": "2134a60f",
      "metadata": {},
      "outputs": [
        {
          "name": "stdout",
          "output_type": "stream",
          "text": [
            "You cannot divide by zero!\n"
          ]
        }
      ],
      "source": [
        "try:\n",
        "    # Code that might raise an exception\n",
        "    division = 10 / 0\n",
        "    \n",
        "except ZeroDivisionError:\n",
        "    # Code to handle the exception\n",
        "    print(\"You cannot divide by zero!\")"
      ]
    },
    {
      "cell_type": "code",
      "execution_count": 12,
      "id": "fa337731",
      "metadata": {},
      "outputs": [
        {
          "data": {
            "text/plain": [
              "[TypeError,\n",
              " StopAsyncIteration,\n",
              " StopIteration,\n",
              " ImportError,\n",
              " OSError,\n",
              " EOFError,\n",
              " RuntimeError,\n",
              " NameError,\n",
              " AttributeError,\n",
              " SyntaxError,\n",
              " LookupError,\n",
              " ValueError,\n",
              " AssertionError,\n",
              " ArithmeticError,\n",
              " SystemError,\n",
              " ReferenceError,\n",
              " MemoryError,\n",
              " BufferError,\n",
              " Warning,\n",
              " locale.Error,\n",
              " warnings._OptionError,\n",
              " re.error,\n",
              " sre_parse.Verbose,\n",
              " runpy._Error,\n",
              " subprocess.SubprocessError,\n",
              " tokenize.TokenError,\n",
              " tokenize.StopTokenizing,\n",
              " inspect.ClassFoundException,\n",
              " inspect.EndOfBlock,\n",
              " traitlets.traitlets.TraitError,\n",
              " copy.Error,\n",
              " concurrent.futures._base.Error,\n",
              " socket._GiveupOnSendfile,\n",
              " struct.error,\n",
              " binascii.Incomplete,\n",
              " asyncio.exceptions.TimeoutError,\n",
              " asyncio.exceptions.InvalidStateError,\n",
              " asyncio.exceptions.LimitOverrunError,\n",
              " asyncio.queues.QueueEmpty,\n",
              " asyncio.queues.QueueFull,\n",
              " _queue.Empty,\n",
              " queue.Full,\n",
              " ctypes.ArgumentError,\n",
              " zmq.error.ZMQBaseError,\n",
              " _pickle.PickleError,\n",
              " pickle._Stop,\n",
              " argparse.ArgumentError,\n",
              " argparse.ArgumentTypeError,\n",
              " traitlets.config.loader.ConfigError,\n",
              " traitlets.config.configurable.ConfigurableError,\n",
              " traitlets.config.application.ApplicationError,\n",
              " zlib.error,\n",
              " _curses.error,\n",
              " tornado.concurrent.ReturnValueIgnoredError,\n",
              " tornado.gen.KeyReuseError,\n",
              " tornado.gen.UnknownKeyError,\n",
              " tornado.gen.LeakedCallbackError,\n",
              " tornado.gen.BadYieldError,\n",
              " tornado.gen.ReturnValueIgnoredError,\n",
              " tornado.gen.Return,\n",
              " jupyter_client.channels.InvalidPortNumber,\n",
              " termios.error,\n",
              " _lzma.LZMAError,\n",
              " shutil.RegistryError,\n",
              " shutil._GiveupOnFastCopy,\n",
              " jupyter_client.localinterfaces.NoIPAddresses,\n",
              " zipfile.BadZipFile,\n",
              " zipfile.LargeZipFile,\n",
              " configparser.Error,\n",
              " entrypoints.BadEntryPoint,\n",
              " entrypoints.NoSuchEntryPoint,\n",
              " jupyter_client.multikernelmanager.DuplicateKernelError,\n",
              " pydoc.ErrorDuringImport,\n",
              " executing.executing.NotOneValueFound,\n",
              " pure_eval.utils.CannotEval,\n",
              " pygments.util.OptionError,\n",
              " bdb.BdbQuit,\n",
              " pdb.Restart,\n",
              " pexpect.exceptions.ExceptionPexpect,\n",
              " ptyprocess.util.PtyProcessError,\n",
              " IPython.utils.process.FindCmdError,\n",
              " IPython.utils.path.HomeDirError,\n",
              " IPython.core.profiledir.ProfileDirError,\n",
              " IPython.core.error.IPythonCoreError,\n",
              " IPython.core.error.InputRejected,\n",
              " getopt.GetoptError,\n",
              " pygments.filters.ErrorToken,\n",
              " IPython.core.prefilter.PrefilterError,\n",
              " IPython.core.alias.AliasError,\n",
              " sqlite3.Error,\n",
              " sqlite3.Warning,\n",
              " IPython.core.interactiveshell.SpaceInInput,\n",
              " xml.dom.DOMException,\n",
              " prompt_toolkit.validation.ValidationError,\n",
              " prompt_toolkit.buffer.EditReadOnlyBuffer,\n",
              " prompt_toolkit.buffer._Retry,\n",
              " prompt_toolkit.layout.layout.InvalidLayoutError,\n",
              " prompt_toolkit.renderer.HeightIsUnknownError,\n",
              " parso.parser.ParserSyntaxError,\n",
              " parso.parser.InternalParseError,\n",
              " parso.python.diff._PositionUpdatingFinished,\n",
              " jedi.inference.helpers.SimpleGetItemNotFound,\n",
              " jedi.inference.utils.UncaughtAttributeError,\n",
              " jedi.inference.base_value.HasNoContext,\n",
              " jedi.inference.arguments.ParamIssue,\n",
              " jedi.api.exceptions._JediError,\n",
              " jedi.api.helpers.OnErrorLeaf,\n",
              " jedi.api.environment.InvalidPythonEnvironment,\n",
              " email.errors.MessageError,\n",
              " uu.Error,\n",
              " http.client.HTTPException,\n",
              " IPython.core.magics.code.InteractivelyDefined,\n",
              " IPython.terminal.embed.KillEmbedded,\n",
              " psutil.Error,\n",
              " _psutil_osx.ZombieProcessError,\n",
              " tornado.queues.QueueEmpty,\n",
              " tornado.queues.QueueFull,\n",
              " _pydev_bundle._pydev_saved_modules.DebuggerInitializationError,\n",
              " xml.parsers.expat.ExpatError,\n",
              " xmlrpc.client.Error,\n",
              " pkg_resources._vendor.pyparsing.ParseBaseException,\n",
              " pkg_resources._vendor.pyparsing.RecursiveGrammarException,\n",
              " pkg_resources.ResolutionError,\n",
              " _pydevd_bundle.pydevd_runpy._Error,\n",
              " _pydevd_bundle.pydevd_resolver.UnableToResolveVariableException,\n",
              " _pydev_bundle.pydev_monkey.InvalidTypeInArgsException]"
            ]
          },
          "execution_count": 12,
          "metadata": {},
          "output_type": "execute_result"
        }
      ],
      "source": [
        "list(Exception.__subclasses__())"
      ]
    },
    {
      "cell_type": "code",
      "execution_count": 13,
      "id": "fd32f414",
      "metadata": {},
      "outputs": [
        {
          "data": {
            "text/plain": [
              "[FloatingPointError,\n",
              " OverflowError,\n",
              " ZeroDivisionError,\n",
              " decimal.DecimalException]"
            ]
          },
          "execution_count": 13,
          "metadata": {},
          "output_type": "execute_result"
        }
      ],
      "source": [
        "list(ArithmeticError.__subclasses__())\n"
      ]
    },
    {
      "cell_type": "code",
      "execution_count": 14,
      "id": "1f1cde78",
      "metadata": {},
      "outputs": [
        {
          "data": {
            "text/plain": [
              "[decimal.DivisionByZero, decimal.DivisionUndefined]"
            ]
          },
          "execution_count": 14,
          "metadata": {},
          "output_type": "execute_result"
        }
      ],
      "source": [
        "list(ZeroDivisionError.__subclasses__())"
      ]
    },
    {
      "cell_type": "markdown",
      "id": "f1a646d0",
      "metadata": {},
      "source": [
        "## ValueError - for type casting issues"
      ]
    },
    {
      "cell_type": "code",
      "execution_count": 15,
      "id": "e5be8018",
      "metadata": {},
      "outputs": [
        {
          "name": "stdout",
          "output_type": "stream",
          "text": [
            "An error occurred!\n"
          ]
        }
      ],
      "source": [
        "try:\n",
        "    risky_code = int(\"abc\")  # This will raise a ValueError\n",
        "    print(risky_code)\n",
        "except (ZeroDivisionError, ValueError):\n",
        "    print(\"An error occurred!\")"
      ]
    },
    {
      "cell_type": "code",
      "execution_count": 16,
      "id": "750543cd",
      "metadata": {},
      "outputs": [
        {
          "name": "stdout",
          "output_type": "stream",
          "text": [
            "1\n"
          ]
        }
      ],
      "source": [
        "try:\n",
        "    risky_code = int(True)  # This will raise a ValueError\n",
        "    print(risky_code)\n",
        "except (ZeroDivisionError, ValueError):\n",
        "    print(\"An error occurred!\")"
      ]
    },
    {
      "cell_type": "code",
      "execution_count": 17,
      "id": "001f1aa8",
      "metadata": {},
      "outputs": [
        {
          "name": "stdout",
          "output_type": "stream",
          "text": [
            "True\n"
          ]
        }
      ],
      "source": [
        "try:\n",
        "    risky_code = bool(\"Nick\")  # This will raise a ValueError\n",
        "    print(risky_code)\n",
        "except (ZeroDivisionError, ValueError):\n",
        "    print(\"An error occurred!\")"
      ]
    },
    {
      "cell_type": "markdown",
      "id": "e883bbf3",
      "metadata": {},
      "source": [
        "## Input Exceptions\n",
        "\n",
        "* Using dynamic typing means that we're not bound to types... \n",
        "\n",
        "* The `input()` function returns an `str` therefore numbers, characters and key presses can be stored in an `str`\n",
        "\n",
        "* With typed variables, this would be a problem... \n",
        "\n",
        "* However, be careful if casting the returned `str` from an input function to an `int` or `float`"
      ]
    },
    {
      "cell_type": "code",
      "execution_count": 18,
      "id": "d862c5a7",
      "metadata": {},
      "outputs": [
        {
          "name": "stdout",
          "output_type": "stream",
          "text": [
            "nick\n"
          ]
        }
      ],
      "source": [
        "try: \n",
        "    num = input(\"Please enter a number\")\n",
        "    print(num)\n",
        "except:\n",
        "    print(\"An error occurred!\")"
      ]
    },
    {
      "cell_type": "code",
      "execution_count": 19,
      "id": "2d9a237b",
      "metadata": {},
      "outputs": [
        {
          "name": "stdout",
          "output_type": "stream",
          "text": [
            "An error occurred!\n"
          ]
        }
      ],
      "source": [
        "try: \n",
        "    num = int(input(\"Please enter a number\"))\n",
        "    print(num)\n",
        "except:\n",
        "    print(\"An error occurred!\")"
      ]
    },
    {
      "cell_type": "markdown",
      "id": "960a94dc",
      "metadata": {},
      "source": [
        "## List and Key Exceptions"
      ]
    },
    {
      "cell_type": "code",
      "execution_count": 54,
      "id": "e314990c",
      "metadata": {},
      "outputs": [
        {
          "ename": "IndexError",
          "evalue": "string index out of range",
          "output_type": "error",
          "traceback": [
            "\u001b[0;31m---------------------------------------------------------------------------\u001b[0m",
            "\u001b[0;31mIndexError\u001b[0m                                Traceback (most recent call last)",
            "Cell \u001b[0;32mIn [54], line 2\u001b[0m\n\u001b[1;32m      1\u001b[0m name \u001b[38;5;241m=\u001b[39m \u001b[38;5;124m\"\u001b[39m\u001b[38;5;124mNick\u001b[39m\u001b[38;5;124m\"\u001b[39m\n\u001b[0;32m----> 2\u001b[0m name[\u001b[38;5;241m4\u001b[39m]\n",
            "\u001b[0;31mIndexError\u001b[0m: string index out of range"
          ]
        }
      ],
      "source": [
        "name = \"Nick\"\n",
        "name[4]"
      ]
    },
    {
      "cell_type": "code",
      "execution_count": 57,
      "id": "12da529f",
      "metadata": {},
      "outputs": [
        {
          "data": {
            "text/plain": [
              "[IndexError, KeyError, encodings.CodecRegistryError]"
            ]
          },
          "execution_count": 57,
          "metadata": {},
          "output_type": "execute_result"
        }
      ],
      "source": [
        "list(LookupError.__subclasses__())"
      ]
    },
    {
      "cell_type": "code",
      "execution_count": 55,
      "id": "65738068",
      "metadata": {},
      "outputs": [
        {
          "name": "stdout",
          "output_type": "stream",
          "text": [
            "Issue with the index\n"
          ]
        }
      ],
      "source": [
        "try: \n",
        "    name = \"Nick\"\n",
        "    name[4]\n",
        "except(IndexError):\n",
        "    print(\"Issue with the index\")"
      ]
    },
    {
      "cell_type": "code",
      "execution_count": 58,
      "id": "2531aab0",
      "metadata": {},
      "outputs": [
        {
          "ename": "KeyError",
          "evalue": "'Sam'",
          "output_type": "error",
          "traceback": [
            "\u001b[0;31m---------------------------------------------------------------------------\u001b[0m",
            "\u001b[0;31mKeyError\u001b[0m                                  Traceback (most recent call last)",
            "Cell \u001b[0;32mIn [58], line 2\u001b[0m\n\u001b[1;32m      1\u001b[0m d \u001b[38;5;241m=\u001b[39m { \u001b[38;5;124m\"\u001b[39m\u001b[38;5;124mNick\u001b[39m\u001b[38;5;124m\"\u001b[39m : \u001b[38;5;241m12345\u001b[39m}\n\u001b[0;32m----> 2\u001b[0m d[\u001b[38;5;124m\"\u001b[39m\u001b[38;5;124mSam\u001b[39m\u001b[38;5;124m\"\u001b[39m]\n",
            "\u001b[0;31mKeyError\u001b[0m: 'Sam'"
          ]
        }
      ],
      "source": [
        "d = { \"Nick\" : 12345}\n",
        "d[\"Sam\"]"
      ]
    },
    {
      "cell_type": "code",
      "execution_count": 59,
      "id": "b5707513",
      "metadata": {},
      "outputs": [
        {
          "name": "stdout",
          "output_type": "stream",
          "text": [
            "Key could not be found\n"
          ]
        }
      ],
      "source": [
        "try: \n",
        "    d = { \"Nick\" : 12345}\n",
        "    d[\"Sam\"]\n",
        "except(KeyError):\n",
        "    print(\"Key could not be found\")"
      ]
    },
    {
      "cell_type": "markdown",
      "id": "52f7efbb",
      "metadata": {},
      "source": [
        "## The `else` statement in `try` / `except` blocks"
      ]
    },
    {
      "cell_type": "code",
      "execution_count": 104,
      "id": "5930b01e",
      "metadata": {},
      "outputs": [
        {
          "name": "stdout",
          "output_type": "stream",
          "text": [
            "An error occurred!\n"
          ]
        }
      ],
      "source": [
        "try: \n",
        "    num = int(input(\"Please enter a number\"))\n",
        "    print(num)\n",
        "except Exception as e:\n",
        "    print(\"An error occurred!\")"
      ]
    },
    {
      "cell_type": "code",
      "execution_count": 105,
      "id": "1bc885e1",
      "metadata": {},
      "outputs": [
        {
          "name": "stdout",
          "output_type": "stream",
          "text": [
            "50\n"
          ]
        }
      ],
      "source": [
        "try: \n",
        "    num = int(input(\"Please enter a number\"))\n",
        "    #print(num)\n",
        "except:\n",
        "    print(\"An error occurred!\")\n",
        "else: \n",
        "    print(num)"
      ]
    },
    {
      "cell_type": "markdown",
      "id": "5bf365af",
      "metadata": {},
      "source": [
        "The below would work in a Jupyter notebooks environment, because variables are cached. But in a .py file, num may only be visible to the try block, and not outside of this. "
      ]
    },
    {
      "cell_type": "code",
      "execution_count": 106,
      "id": "c3a8b2b4",
      "metadata": {},
      "outputs": [
        {
          "name": "stdout",
          "output_type": "stream",
          "text": [
            "50\n"
          ]
        }
      ],
      "source": [
        "try: \n",
        "    num = int(input(\"Please enter a number\"))\n",
        "    #print(num)\n",
        "except:\n",
        "    print(\"An error occurred!\")\n",
        "\n",
        "print(num)"
      ]
    },
    {
      "cell_type": "markdown",
      "id": "16e3c64e",
      "metadata": {},
      "source": [
        "## The `break` keyword\n",
        "\n",
        "* In the context of loops, you may wish to `break` out of loops once a condition is met.\n",
        "\n",
        "* This is effective for 'reprompting' - we need to give our users a few chances to get it right! "
      ]
    },
    {
      "cell_type": "code",
      "execution_count": 20,
      "id": "c58c5e9a",
      "metadata": {},
      "outputs": [],
      "source": [
        "while True: \n",
        "    try: \n",
        "        num = int(input(\"Please enter a number\"))\n",
        "        break\n",
        "    except Exception as e:\n",
        "        print(e.args)\n",
        "    else: \n",
        "        print(num)"
      ]
    },
    {
      "cell_type": "markdown",
      "id": "5341c98d",
      "metadata": {},
      "source": [
        "Whilst this effective for exiting the loop, we don't get to our `else` block, which prints the value...  \n",
        "  We could move the `break` statement:"
      ]
    },
    {
      "cell_type": "code",
      "execution_count": 21,
      "id": "ca5e4023",
      "metadata": {},
      "outputs": [
        {
          "name": "stdout",
          "output_type": "stream",
          "text": [
            "50\n"
          ]
        }
      ],
      "source": [
        "while True: \n",
        "    try: \n",
        "        num = int(input(\"Please enter a number\"))\n",
        "    except Exception as e:\n",
        "        print(e.args)\n",
        "        #pass\n",
        "    else: \n",
        "        print(num)\n",
        "        break"
      ]
    },
    {
      "cell_type": "markdown",
      "id": "7da58848",
      "metadata": {},
      "source": [
        "## Could formulate into a function\n",
        "\n",
        "* This function can be reused: getting integers likely to happen multiple times in multiple programs. \n",
        "\n",
        "* The `return` keyword `breaks` out of the function, whereas `break` is just for a loop.\n",
        "\n",
        "* The keyword `pass` could help if we don't want to print all the bad exception messages to our user. \n",
        "\n",
        "* Think about how you might get the messaging right with your context - you may need to provide some help... but maybe a message reaffirming the data sought, rather than all the exception messaging which is intended for developers - not users!"
      ]
    },
    {
      "cell_type": "code",
      "execution_count": 26,
      "id": "8c5e509a",
      "metadata": {},
      "outputs": [],
      "source": [
        "def get_int():\n",
        "    while True:\n",
        "        try:\n",
        "            return int(input(\"Please enter a number\"))\n",
        "        except Exception as e:\n",
        "            pass # may not want to print the exceptions\n",
        "            #print(e.args)"
      ]
    },
    {
      "cell_type": "code",
      "execution_count": 27,
      "id": "0ec4dc13",
      "metadata": {},
      "outputs": [
        {
          "name": "stdout",
          "output_type": "stream",
          "text": [
            "124\n"
          ]
        }
      ],
      "source": [
        "print(get_int())"
      ]
    },
    {
      "cell_type": "markdown",
      "id": "532d5bdd",
      "metadata": {},
      "source": [
        "## Exception object `e` methods\n",
        "\n",
        "* objects of an Exception/Error class can give users useful information "
      ]
    },
    {
      "cell_type": "code",
      "execution_count": 85,
      "id": "4f73f677",
      "metadata": {},
      "outputs": [
        {
          "name": "stdout",
          "output_type": "stream",
          "text": [
            "An error occurred: division by zero\n"
          ]
        }
      ],
      "source": [
        "try:\n",
        "    division = 10 / 0\n",
        "    \n",
        "except Exception as e:\n",
        "    print(f\"An error occurred: {e}\")"
      ]
    },
    {
      "cell_type": "code",
      "execution_count": 88,
      "id": "f77a446a",
      "metadata": {},
      "outputs": [
        {
          "name": "stdout",
          "output_type": "stream",
          "text": [
            "An error occurred: division by zero\n",
            "arguments ('division by zero',)\n",
            "representation ZeroDivisionError('division by zero')\n",
            "context: None\n"
          ]
        }
      ],
      "source": [
        "try:\n",
        "    #num = int(input(\"Enter a number\"))\n",
        "    division = 10 / 0\n",
        "except Exception as e:\n",
        "    print(f\"An error occurred: {e}\")\n",
        "    print(\"arguments\",e.args)\n",
        "    print(\"representation\", repr(e))\n",
        "    print(\"context:\", e.__context__)"
      ]
    },
    {
      "cell_type": "code",
      "execution_count": 89,
      "id": "28f72ff0",
      "metadata": {},
      "outputs": [
        {
          "name": "stdout",
          "output_type": "stream",
          "text": [
            "Exception args: ('Encountered a value error during division',)\n",
            "String representation: Encountered a value error during division\n",
            "Official representation: ValueError('Encountered a value error during division')\n",
            "Cause: division by zero\n",
            "Context: division by zero\n",
            "Traceback:\n"
          ]
        },
        {
          "name": "stderr",
          "output_type": "stream",
          "text": [
            "  File \"/var/folders/ry/3hkntqmd6lx9rvtg9q4zp4vr0000gn/T/ipykernel_58007/1879128491.py\", line 6, in <module>\n",
            "    raise ValueError(\"Encountered a value error during division\") from e1\n"
          ]
        }
      ],
      "source": [
        "import traceback\n",
        "# Nested try and catch block for context\n",
        "try:\n",
        "    try:\n",
        "        result = 1 / 0\n",
        "    except ZeroDivisionError as e1:\n",
        "        raise ValueError(\"Encountered a value error during division\") from e1\n",
        "except Exception as e:\n",
        "    print(f\"Exception args: {e.args}\")\n",
        "    print(f\"String representation: {str(e)}\")\n",
        "    print(f\"Official representation: {repr(e)}\")\n",
        "    print(f\"Cause: {e.__cause__}\")\n",
        "    print(f\"Context: {e.__context__}\")\n",
        "    print(\"Traceback:\")\n",
        "    traceback.print_tb(e.__traceback__)"
      ]
    },
    {
      "cell_type": "code",
      "execution_count": 71,
      "id": "d086ed14",
      "metadata": {},
      "outputs": [
        {
          "data": {
            "text/plain": [
              "['__cause__',\n",
              " '__class__',\n",
              " '__context__',\n",
              " '__delattr__',\n",
              " '__dict__',\n",
              " '__dir__',\n",
              " '__doc__',\n",
              " '__eq__',\n",
              " '__format__',\n",
              " '__ge__',\n",
              " '__getattribute__',\n",
              " '__gt__',\n",
              " '__hash__',\n",
              " '__init__',\n",
              " '__init_subclass__',\n",
              " '__le__',\n",
              " '__lt__',\n",
              " '__ne__',\n",
              " '__new__',\n",
              " '__reduce__',\n",
              " '__reduce_ex__',\n",
              " '__repr__',\n",
              " '__setattr__',\n",
              " '__setstate__',\n",
              " '__sizeof__',\n",
              " '__str__',\n",
              " '__subclasshook__',\n",
              " '__suppress_context__',\n",
              " '__traceback__',\n",
              " 'args',\n",
              " 'with_traceback']"
            ]
          },
          "execution_count": 71,
          "metadata": {},
          "output_type": "execute_result"
        }
      ],
      "source": [
        "dir(Exception)"
      ]
    },
    {
      "cell_type": "markdown",
      "id": "f870ec47",
      "metadata": {},
      "source": [
        "## The need to `Raise` (Throw) an Exception\n",
        "\n",
        "* To organise code more efficiently, one can write a manually `raise` an `Exception` in a function.\n",
        "\n",
        "* Defensive programming is proactive in anticipating exceptions and write them into functions.\n",
        "\n",
        "* Other languages use the keyword `throw`, but Python uses `raise`.\n",
        "\n"
      ]
    },
    {
      "cell_type": "code",
      "execution_count": 90,
      "id": "75078231",
      "metadata": {},
      "outputs": [],
      "source": [
        "def divide(a, b):\n",
        "    if b == 0:\n",
        "        raise ValueError(\"Cannot divide by zero.\")\n",
        "    return a / b"
      ]
    },
    {
      "cell_type": "code",
      "execution_count": 96,
      "id": "4994e94b",
      "metadata": {},
      "outputs": [
        {
          "ename": "ValueError",
          "evalue": "Cannot divide by zero.",
          "output_type": "error",
          "traceback": [
            "\u001b[0;31m---------------------------------------------------------------------------\u001b[0m",
            "\u001b[0;31mValueError\u001b[0m                                Traceback (most recent call last)",
            "Cell \u001b[0;32mIn [96], line 1\u001b[0m\n\u001b[0;32m----> 1\u001b[0m divide(\u001b[38;5;241m10\u001b[39m, \u001b[38;5;241m0\u001b[39m)\n",
            "Cell \u001b[0;32mIn [90], line 3\u001b[0m, in \u001b[0;36mdivide\u001b[0;34m(a, b)\u001b[0m\n\u001b[1;32m      1\u001b[0m \u001b[38;5;28;01mdef\u001b[39;00m \u001b[38;5;21mdivide\u001b[39m(a, b):\n\u001b[1;32m      2\u001b[0m     \u001b[38;5;28;01mif\u001b[39;00m b \u001b[38;5;241m==\u001b[39m \u001b[38;5;241m0\u001b[39m:\n\u001b[0;32m----> 3\u001b[0m         \u001b[38;5;28;01mraise\u001b[39;00m \u001b[38;5;167;01mValueError\u001b[39;00m(\u001b[38;5;124m\"\u001b[39m\u001b[38;5;124mCannot divide by zero.\u001b[39m\u001b[38;5;124m\"\u001b[39m)\n\u001b[1;32m      4\u001b[0m     \u001b[38;5;28;01mreturn\u001b[39;00m a \u001b[38;5;241m/\u001b[39m b\n",
            "\u001b[0;31mValueError\u001b[0m: Cannot divide by zero."
          ]
        }
      ],
      "source": [
        "divide(10, 0)  "
      ]
    },
    {
      "cell_type": "markdown",
      "id": "5c90a784",
      "metadata": {},
      "source": [
        "Notice below, we can surround the function call with `try` / `except` blocks, rather than the full workings of the function. "
      ]
    },
    {
      "cell_type": "code",
      "execution_count": 97,
      "id": "7e91e323",
      "metadata": {},
      "outputs": [
        {
          "name": "stdout",
          "output_type": "stream",
          "text": [
            "Exception args: ('Cannot divide by zero.',)\n",
            "Official representation: ValueError('Cannot divide by zero.')\n"
          ]
        }
      ],
      "source": [
        "try: \n",
        "    divide(10, 0)  \n",
        "except Exception as e: \n",
        "    print(f\"Exception args: {e.args}\")\n",
        "    print(f\"Official representation: {repr(e)}\")"
      ]
    },
    {
      "cell_type": "markdown",
      "id": "cc9eac08",
      "metadata": {},
      "source": [
        "Furthermore, you may want to enforce certain logical rules as `Exceptions`, even if they syntactically check out."
      ]
    },
    {
      "cell_type": "code",
      "execution_count": 98,
      "id": "5c5dc727",
      "metadata": {},
      "outputs": [],
      "source": [
        "def withdraw(amount, balance):\n",
        "    if amount > balance:\n",
        "        raise ValueError(\"Insufficient funds.\")\n",
        "    balance -= amount\n",
        "    return balance"
      ]
    },
    {
      "cell_type": "code",
      "execution_count": 99,
      "id": "b60efb6b",
      "metadata": {},
      "outputs": [
        {
          "ename": "ValueError",
          "evalue": "Insufficient funds.",
          "output_type": "error",
          "traceback": [
            "\u001b[0;31m---------------------------------------------------------------------------\u001b[0m",
            "\u001b[0;31mValueError\u001b[0m                                Traceback (most recent call last)",
            "Cell \u001b[0;32mIn [99], line 1\u001b[0m\n\u001b[0;32m----> 1\u001b[0m withdraw(\u001b[38;5;241m100\u001b[39m, \u001b[38;5;241m50\u001b[39m)\n",
            "Cell \u001b[0;32mIn [98], line 3\u001b[0m, in \u001b[0;36mwithdraw\u001b[0;34m(amount, balance)\u001b[0m\n\u001b[1;32m      1\u001b[0m \u001b[38;5;28;01mdef\u001b[39;00m \u001b[38;5;21mwithdraw\u001b[39m(amount, balance):\n\u001b[1;32m      2\u001b[0m     \u001b[38;5;28;01mif\u001b[39;00m amount \u001b[38;5;241m>\u001b[39m balance:\n\u001b[0;32m----> 3\u001b[0m         \u001b[38;5;28;01mraise\u001b[39;00m \u001b[38;5;167;01mValueError\u001b[39;00m(\u001b[38;5;124m\"\u001b[39m\u001b[38;5;124mInsufficient funds.\u001b[39m\u001b[38;5;124m\"\u001b[39m)\n\u001b[1;32m      4\u001b[0m     balance \u001b[38;5;241m-\u001b[39m\u001b[38;5;241m=\u001b[39m amount\n\u001b[1;32m      5\u001b[0m     \u001b[38;5;28;01mreturn\u001b[39;00m balance\n",
            "\u001b[0;31mValueError\u001b[0m: Insufficient funds."
          ]
        }
      ],
      "source": [
        "withdraw(100, 50)  "
      ]
    },
    {
      "cell_type": "markdown",
      "id": "b82351d5",
      "metadata": {},
      "source": [
        "Whilst our Python variable can handle a negative value, there may critical situations where negative values would cause significant damage to a system. "
      ]
    },
    {
      "cell_type": "markdown",
      "id": "eefe5aa8",
      "metadata": {},
      "source": [
        "## 3.0 Writing our own custom Exception classes\n",
        "\n",
        "* Whilst there are many (nearly 70) named `Exception` classes in Python, you may want to define your own Exception classes that are unique to your program. \n",
        "\n",
        "* Our custom Exception classes will need to inherit from the class `Exception`"
      ]
    },
    {
      "cell_type": "code",
      "execution_count": 28,
      "id": "30474739",
      "metadata": {},
      "outputs": [],
      "source": [
        "class NegativeNumberError(Exception):\n",
        "    pass"
      ]
    },
    {
      "cell_type": "code",
      "execution_count": 29,
      "id": "bd5e4bdf",
      "metadata": {},
      "outputs": [],
      "source": [
        "def square_root(x):\n",
        "    if x < 0:\n",
        "        raise NegativeNumberError(\"Cannot take square root of a negative number.\")\n",
        "    return x ** 0.5"
      ]
    },
    {
      "cell_type": "code",
      "execution_count": 31,
      "id": "b7f3ab0b",
      "metadata": {},
      "outputs": [
        {
          "ename": "NegativeNumberError",
          "evalue": "Cannot take square root of a negative number.",
          "output_type": "error",
          "traceback": [
            "\u001b[0;31m---------------------------------------------------------------------------\u001b[0m",
            "\u001b[0;31mNegativeNumberError\u001b[0m                       Traceback (most recent call last)",
            "Cell \u001b[0;32mIn [31], line 1\u001b[0m\n\u001b[0;32m----> 1\u001b[0m square_root(\u001b[38;5;241m-\u001b[39m\u001b[38;5;241m4\u001b[39m)\n",
            "Cell \u001b[0;32mIn [29], line 3\u001b[0m, in \u001b[0;36msquare_root\u001b[0;34m(x)\u001b[0m\n\u001b[1;32m      1\u001b[0m \u001b[38;5;28;01mdef\u001b[39;00m \u001b[38;5;21msquare_root\u001b[39m(x):\n\u001b[1;32m      2\u001b[0m     \u001b[38;5;28;01mif\u001b[39;00m x \u001b[38;5;241m<\u001b[39m \u001b[38;5;241m0\u001b[39m:\n\u001b[0;32m----> 3\u001b[0m         \u001b[38;5;28;01mraise\u001b[39;00m NegativeNumberError(\u001b[38;5;124m\"\u001b[39m\u001b[38;5;124mCannot take square root of a negative number.\u001b[39m\u001b[38;5;124m\"\u001b[39m)\n\u001b[1;32m      4\u001b[0m     \u001b[38;5;28;01mreturn\u001b[39;00m x \u001b[38;5;241m*\u001b[39m\u001b[38;5;241m*\u001b[39m \u001b[38;5;241m0.5\u001b[39m\n",
            "\u001b[0;31mNegativeNumberError\u001b[0m: Cannot take square root of a negative number."
          ]
        }
      ],
      "source": [
        "square_root(-4) "
      ]
    },
    {
      "cell_type": "markdown",
      "id": "b4b01a2b",
      "metadata": {},
      "source": [
        "## 4.0 Assertions in Python \n",
        "\n",
        "* Assertions can be used to check parameters of methods, or values of variables. \n",
        "\n",
        "* Assertions typically feature in Unit Testing. We'll look at the module `pytest` in due course!\n",
        "\n",
        "* In C and C++ assertions would be checked at compile-time (before the run-time exception handling). Java disables this behaviour by default, however, this can be enabled. Furthermore, in Java, an `Assertion` would be treated as an `Error`, whereas `ZeroDivision` would be an `Exception`.\n",
        "\n",
        "* In Python, `AssertionError` inherits from `Exception`. \n",
        "\n",
        "* Debugging: Assertions are commonly used to catch bugs by making assumptions about the code’s behavior explicit.\n",
        "\n",
        "* Checking Invariants: You can use assertions to ensure that certain conditions hold true at specific points in your code.\n",
        "\n",
        "* Testing Conditions: They can be used to validate inputs, outputs, and internal states during development."
      ]
    },
    {
      "cell_type": "code",
      "execution_count": 45,
      "id": "716c53b0",
      "metadata": {},
      "outputs": [
        {
          "ename": "AssertionError",
          "evalue": "",
          "output_type": "error",
          "traceback": [
            "\u001b[0;31m---------------------------------------------------------------------------\u001b[0m",
            "\u001b[0;31mAssertionError\u001b[0m                            Traceback (most recent call last)",
            "Cell \u001b[0;32mIn [45], line 2\u001b[0m\n\u001b[1;32m      1\u001b[0m x \u001b[38;5;241m=\u001b[39m \u001b[38;5;241m5\u001b[39m\n\u001b[0;32m----> 2\u001b[0m \u001b[38;5;28;01massert\u001b[39;00m x \u001b[38;5;241m>\u001b[39m \u001b[38;5;241m10\u001b[39m\n",
            "\u001b[0;31mAssertionError\u001b[0m: "
          ]
        }
      ],
      "source": [
        "x = 5\n",
        "assert x > 10 "
      ]
    },
    {
      "cell_type": "markdown",
      "id": "ddc966c1",
      "metadata": {},
      "source": [
        "What do you notice above - an `AssertionError`"
      ]
    },
    {
      "cell_type": "code",
      "execution_count": 47,
      "id": "6610e02f",
      "metadata": {},
      "outputs": [],
      "source": [
        "x = 10\n",
        "assert x > 5  # This will pass since the condition is True"
      ]
    },
    {
      "cell_type": "markdown",
      "id": "0359f2fa",
      "metadata": {},
      "source": [
        "We can also add a message to accompany the assertion: "
      ]
    },
    {
      "cell_type": "code",
      "execution_count": 17,
      "id": "e25d572b",
      "metadata": {},
      "outputs": [],
      "source": [
        "def calculate_area(radius):\n",
        "    assert radius > 0, \"Radius must be positive!\"\n",
        "    return 3.14159 * radius * radius"
      ]
    },
    {
      "cell_type": "code",
      "execution_count": 18,
      "id": "73543949",
      "metadata": {},
      "outputs": [
        {
          "name": "stdout",
          "output_type": "stream",
          "text": [
            "78.53975\n"
          ]
        }
      ],
      "source": [
        "print(calculate_area(5))   # This works"
      ]
    },
    {
      "cell_type": "code",
      "execution_count": 19,
      "id": "140bce14",
      "metadata": {},
      "outputs": [
        {
          "ename": "AssertionError",
          "evalue": "Radius must be positive!",
          "output_type": "error",
          "traceback": [
            "\u001b[0;31m---------------------------------------------------------------------------\u001b[0m",
            "\u001b[0;31mAssertionError\u001b[0m                            Traceback (most recent call last)",
            "Cell \u001b[0;32mIn [19], line 1\u001b[0m\n\u001b[0;32m----> 1\u001b[0m \u001b[38;5;28mprint\u001b[39m(calculate_area(\u001b[38;5;241m-\u001b[39m\u001b[38;5;241m3\u001b[39m))\n",
            "Cell \u001b[0;32mIn [17], line 2\u001b[0m, in \u001b[0;36mcalculate_area\u001b[0;34m(radius)\u001b[0m\n\u001b[1;32m      1\u001b[0m \u001b[38;5;28;01mdef\u001b[39;00m \u001b[38;5;21mcalculate_area\u001b[39m(radius):\n\u001b[0;32m----> 2\u001b[0m     \u001b[38;5;28;01massert\u001b[39;00m radius \u001b[38;5;241m>\u001b[39m \u001b[38;5;241m0\u001b[39m, \u001b[38;5;124m\"\u001b[39m\u001b[38;5;124mRadius must be positive!\u001b[39m\u001b[38;5;124m\"\u001b[39m\n\u001b[1;32m      3\u001b[0m     \u001b[38;5;28;01mreturn\u001b[39;00m \u001b[38;5;241m3.14159\u001b[39m \u001b[38;5;241m*\u001b[39m radius \u001b[38;5;241m*\u001b[39m radius\n",
            "\u001b[0;31mAssertionError\u001b[0m: Radius must be positive!"
          ]
        }
      ],
      "source": [
        "print(calculate_area(-3))  # This will raise an AssertionError"
      ]
    },
    {
      "cell_type": "markdown",
      "id": "2bc31fd1",
      "metadata": {},
      "source": [
        "Assertions should be enabled by default in Python. This isn't the case in Java. \n",
        "\n",
        "You can disable assertions in Python by running the interpreter with the -O (optimize) flag:\n",
        "\n",
        "` python -O your_script.py `"
      ]
    },
    {
      "cell_type": "markdown",
      "id": "dd38cc99",
      "metadata": {
        "id": "dd38cc99"
      },
      "source": [
        "#### This Jupyter Notebook contains exercises for you to extend your introduction to the basics, by checking for user validation. Attempt the following exercises, which slowly build in complexity. If you get stuck, check back to the <a href = \"https://youtu.be/MDZX59Lrc_g?si=MW3m7FYgfVYoYqum\"> Python lecture recording on Exceptions here</a> or look through the <a href = \"https://www.python.org\">Python documentation here</a>."
      ]
    },
    {
      "cell_type": "markdown",
      "id": "bcb9491d",
      "metadata": {},
      "source": [
        "### Exercise 1: \n",
        "\n",
        "Let's start by writing a function that is designed to return user input (from the keyboard) as an integer."
      ]
    },
    {
      "cell_type": "code",
      "execution_count": 1,
      "id": "2f2d4aec",
      "metadata": {},
      "outputs": [],
      "source": [
        "def get_number():\n",
        "    ... # complete the function here"
      ]
    },
    {
      "cell_type": "code",
      "execution_count": null,
      "id": "64963e54",
      "metadata": {},
      "outputs": [],
      "source": [
        "get_number()"
      ]
    },
    {
      "cell_type": "markdown",
      "id": "370155e5",
      "metadata": {},
      "source": [
        "### Exercise 2: \n",
        "\n",
        "Now add some exception handling code to guard against non-integer values (e.g. strings) from being entered and causing an error. \n",
        "\n",
        "Question: Would floating point numbers and booleans throw an error here? If you're not sure, try it and see!"
      ]
    },
    {
      "cell_type": "code",
      "execution_count": null,
      "id": "9fe9dd1b",
      "metadata": {},
      "outputs": [],
      "source": [
        "# You could modify the above function definition or copy and expand below."
      ]
    },
    {
      "cell_type": "markdown",
      "id": "0b480bec",
      "metadata": {},
      "source": [
        "### Exercise 3: \n",
        "\n"
      ]
    },
    {
      "cell_type": "code",
      "execution_count": null,
      "id": "2fa30b5d",
      "metadata": {},
      "outputs": [],
      "source": [
        "# Write your solution here. "
      ]
    },
    {
      "cell_type": "markdown",
      "id": "66a56f9a",
      "metadata": {},
      "source": [
        "### Exercise 4: \n"
      ]
    },
    {
      "cell_type": "code",
      "execution_count": null,
      "id": "45c7e207",
      "metadata": {},
      "outputs": [],
      "source": [
        "# Write your solution here. "
      ]
    },
    {
      "cell_type": "markdown",
      "id": "7837d07f",
      "metadata": {},
      "source": [
        "### Exercise 5: \n"
      ]
    },
    {
      "cell_type": "code",
      "execution_count": null,
      "id": "9bab0668",
      "metadata": {},
      "outputs": [],
      "source": [
        "# Write your solution here. "
      ]
    },
    {
      "cell_type": "markdown",
      "id": "2da007e3",
      "metadata": {},
      "source": [
        "### Exercise 6: \n",
        "\n"
      ]
    },
    {
      "cell_type": "code",
      "execution_count": null,
      "id": "8cad462b",
      "metadata": {},
      "outputs": [],
      "source": [
        "# Write your solution here. "
      ]
    },
    {
      "cell_type": "markdown",
      "id": "7ce5ed60",
      "metadata": {},
      "source": [
        "### Exercise 7: \n",
        "\n",
        "Write exception handling code to prevent `IndexErrors` below from either loops, or user entered positions which are outside the bounds (range) of a `list`. Remember negative integers and floating point numbers (`TypeErrors`) too!"
      ]
    },
    {
      "cell_type": "code",
      "execution_count": 21,
      "id": "5d1147f0",
      "metadata": {},
      "outputs": [
        {
          "data": {
            "text/plain": [
              "[0, 1, 2, 3, 4, 5, 6, 7, 8, 9]"
            ]
          },
          "execution_count": 21,
          "metadata": {},
          "output_type": "execute_result"
        }
      ],
      "source": [
        "l = list(range(0,10))\n",
        "l"
      ]
    },
    {
      "cell_type": "code",
      "execution_count": 22,
      "id": "dde7961e",
      "metadata": {},
      "outputs": [
        {
          "name": "stdout",
          "output_type": "stream",
          "text": [
            "0\n",
            "1\n",
            "2\n",
            "3\n",
            "4\n",
            "5\n",
            "6\n",
            "7\n",
            "8\n",
            "9\n"
          ]
        },
        {
          "ename": "IndexError",
          "evalue": "list index out of range",
          "output_type": "error",
          "traceback": [
            "\u001b[0;31m---------------------------------------------------------------------------\u001b[0m",
            "\u001b[0;31mIndexError\u001b[0m                                Traceback (most recent call last)",
            "Cell \u001b[0;32mIn [22], line 3\u001b[0m\n\u001b[1;32m      1\u001b[0m i \u001b[38;5;241m=\u001b[39m \u001b[38;5;241m0\u001b[39m\n\u001b[1;32m      2\u001b[0m \u001b[38;5;28;01mwhile\u001b[39;00m \u001b[38;5;28;01mTrue\u001b[39;00m: \n\u001b[0;32m----> 3\u001b[0m     \u001b[38;5;28mprint\u001b[39m(l[i])\n\u001b[1;32m      4\u001b[0m     i \u001b[38;5;241m+\u001b[39m\u001b[38;5;241m=\u001b[39m\u001b[38;5;241m1\u001b[39m\n",
            "\u001b[0;31mIndexError\u001b[0m: list index out of range"
          ]
        }
      ],
      "source": [
        "i = 0\n",
        "while True: \n",
        "    print(l[i])\n",
        "    i +=1"
      ]
    },
    {
      "cell_type": "code",
      "execution_count": 23,
      "id": "469bce2e",
      "metadata": {},
      "outputs": [
        {
          "ename": "IndexError",
          "evalue": "list index out of range",
          "output_type": "error",
          "traceback": [
            "\u001b[0;31m---------------------------------------------------------------------------\u001b[0m",
            "\u001b[0;31mIndexError\u001b[0m                                Traceback (most recent call last)",
            "Cell \u001b[0;32mIn [23], line 2\u001b[0m\n\u001b[1;32m      1\u001b[0m index \u001b[38;5;241m=\u001b[39m get_number()\n\u001b[0;32m----> 2\u001b[0m \u001b[38;5;28mprint\u001b[39m(l[index])\n",
            "\u001b[0;31mIndexError\u001b[0m: list index out of range"
          ]
        }
      ],
      "source": [
        "index = get_number()\n",
        "print(l[index])"
      ]
    },
    {
      "cell_type": "code",
      "execution_count": 24,
      "id": "2acf1d83",
      "metadata": {},
      "outputs": [
        {
          "ename": "TypeError",
          "evalue": "list indices must be integers or slices, not float",
          "output_type": "error",
          "traceback": [
            "\u001b[0;31m---------------------------------------------------------------------------\u001b[0m",
            "\u001b[0;31mTypeError\u001b[0m                                 Traceback (most recent call last)",
            "Cell \u001b[0;32mIn [24], line 1\u001b[0m\n\u001b[0;32m----> 1\u001b[0m l[\u001b[38;5;241m0.5\u001b[39m]\n",
            "\u001b[0;31mTypeError\u001b[0m: list indices must be integers or slices, not float"
          ]
        }
      ],
      "source": [
        "l[0.5]"
      ]
    },
    {
      "cell_type": "code",
      "execution_count": 25,
      "id": "7111c53d",
      "metadata": {},
      "outputs": [
        {
          "ename": "TypeError",
          "evalue": "list indices must be integers or slices, not str",
          "output_type": "error",
          "traceback": [
            "\u001b[0;31m---------------------------------------------------------------------------\u001b[0m",
            "\u001b[0;31mTypeError\u001b[0m                                 Traceback (most recent call last)",
            "Cell \u001b[0;32mIn [25], line 1\u001b[0m\n\u001b[0;32m----> 1\u001b[0m l[\u001b[38;5;124m\"\u001b[39m\u001b[38;5;124mnick\u001b[39m\u001b[38;5;124m\"\u001b[39m]\n",
            "\u001b[0;31mTypeError\u001b[0m: list indices must be integers or slices, not str"
          ]
        }
      ],
      "source": [
        "l[\"nick\"]"
      ]
    },
    {
      "cell_type": "markdown",
      "id": "2dc35eb0",
      "metadata": {},
      "source": [
        "### Exercise 8: \n",
        "\n",
        "Write a function `calculate_age()` that takes a birth year as input and calculates the age based on the current year. Use exception handling to catch invalid inputs (non-integer years) and also catch birth years that are in the future or extremely unrealistic (e.g., before 1900).\n",
        "\n",
        "Extension: Can you check dates that are passed in as `datetime` objects? "
      ]
    },
    {
      "cell_type": "code",
      "execution_count": null,
      "id": "c0462931",
      "metadata": {},
      "outputs": [],
      "source": [
        "def calculate_age():\n",
        "    ... #Write your solution here"
      ]
    },
    {
      "cell_type": "code",
      "execution_count": null,
      "id": "050aa430",
      "metadata": {},
      "outputs": [],
      "source": [
        "calculate_age(\"01-01-2000\")"
      ]
    },
    {
      "cell_type": "markdown",
      "id": "566956a5",
      "metadata": {},
      "source": [
        "### Exercise 9: \n",
        "\n",
        "Write a your own Exception class that inherits from `Exception`. As an example, you could write one of the following:\n",
        "* `InvalidEmailError` class to catch issues an email address (missing `@` sign or no `.` characters for the domain)\n",
        "* `InvalidTranscationError` if credit card details are incorrect or have expired.\n",
        "* `InvalidPasswordError` which is thrown when a password policy is not followed (e.g. must have an upper case letter, a digit and a symbol).\n",
        "\n",
        "Extension: Can you write this in a `.py` file so it can be used in future projects too? Also test that objects of this class can be thrown."
      ]
    },
    {
      "cell_type": "code",
      "execution_count": null,
      "id": "2f047b5e",
      "metadata": {},
      "outputs": [],
      "source": [
        "# Write your solution here or in a .py file"
      ]
    },
    {
      "cell_type": "markdown",
      "id": "d44ec7d0",
      "metadata": {},
      "source": [
        "### Exercise 10: \n",
        "\n",
        "Assertions should be enabled by default in Python (not the case in Java). Write the `validate_mark()` below to ensure that a `mark < 0` and also a `mark > 100` throw an `AssertionError`. Also amend the code cells below to convert a mark to a grade providing that the mark is valid. "
      ]
    },
    {
      "cell_type": "code",
      "execution_count": null,
      "id": "afa5d6b3",
      "metadata": {},
      "outputs": [],
      "source": [
        "def validate_mark():\n",
        "    ..."
      ]
    },
    {
      "cell_type": "code",
      "execution_count": 13,
      "id": "40cf0aca",
      "metadata": {},
      "outputs": [],
      "source": [
        "def get_grade(mark):\n",
        "    if mark >= 70: return \"A\"\n",
        "    elif mark >= 60: return \"B\"\n",
        "    elif mark >= 50: return \"C\"\n",
        "    elif mark >= 40: return \"D\"\n",
        "    elif mark >= 35: return \"E\"\n",
        "    else: return \"F\""
      ]
    },
    {
      "cell_type": "code",
      "execution_count": 14,
      "id": "dab06dc7",
      "metadata": {},
      "outputs": [
        {
          "data": {
            "text/plain": [
              "'A'"
            ]
          },
          "execution_count": 14,
          "metadata": {},
          "output_type": "execute_result"
        }
      ],
      "source": [
        "get_grade(101)"
      ]
    },
    {
      "cell_type": "code",
      "execution_count": 15,
      "id": "65ac5d71",
      "metadata": {},
      "outputs": [
        {
          "data": {
            "text/plain": [
              "'F'"
            ]
          },
          "execution_count": 15,
          "metadata": {},
          "output_type": "execute_result"
        }
      ],
      "source": [
        "get_grade(-1)"
      ]
    },
    {
      "cell_type": "markdown",
      "id": "2ae0edc0",
      "metadata": {},
      "source": [
        "### Exercise 2:\n",
        "\n",
        "Create a Python dictionary which stores the price for three items of food. For example; milk is £1.30, pasta is £0.75, and strawberries are £1.50. Output the dictionary to check the values are stored, and then see if you can access the price for one of the items by using the item name as the 'key'.\n",
        "\n",
        "Extension: Now add a new key and value pair to previously defined dictionary."
      ]
    },
    {
      "cell_type": "code",
      "execution_count": 49,
      "id": "84b40bdc",
      "metadata": {},
      "outputs": [
        {
          "data": {
            "text/plain": [
              "{'milk': 1.3, 'pasta': 0.75, 'strawberries': 1.5}"
            ]
          },
          "execution_count": 49,
          "metadata": {},
          "output_type": "execute_result"
        }
      ],
      "source": [
        "#Write your solution here"
      ]
    },
    {
      "cell_type": "markdown",
      "id": "18d27a22",
      "metadata": {},
      "source": [
        "### Exercise 3: \n",
        "\n",
        "Given two sets (prices and food names), can you create a dictionary that uses the foodnames as keys, and the prices as values?\n"
      ]
    },
    {
      "cell_type": "code",
      "execution_count": 124,
      "id": "989af81c",
      "metadata": {},
      "outputs": [
        {
          "name": "stdout",
          "output_type": "stream",
          "text": [
            "{'pasta', 'milk', 'strawberries'}\n",
            "{0.75, 1.3, 1.5}\n"
          ]
        },
        {
          "data": {
            "text/plain": [
              "{'pasta': 0.75, 'milk': 1.3, 'strawberries': 1.5}"
            ]
          },
          "execution_count": 124,
          "metadata": {},
          "output_type": "execute_result"
        }
      ],
      "source": [
        "foodnames = {\"milk\", \"pasta\", \"strawberries\"}\n",
        "prices = {1.30, 0.75, 1.50}\n",
        "\n",
        "print(foodnames)\n",
        "print(prices)\n",
        "\n",
        "# Write your solution: \n"
      ]
    },
    {
      "cell_type": "markdown",
      "id": "d14cb700",
      "metadata": {},
      "source": [
        "### Exercise 4: \n",
        "\n",
        "Write one function which will return the intersection of two sets passed in. Write another function which will return the union of two sets passed in."
      ]
    },
    {
      "cell_type": "code",
      "execution_count": 174,
      "id": "c4dc15f6",
      "metadata": {},
      "outputs": [
        {
          "name": "stdout",
          "output_type": "stream",
          "text": [
            "{8, 9, 10, 7}\n",
            "{1, 2, 3, 4, 5, 6, 7, 8, 9, 10, 11, 12, 13, 14}\n"
          ]
        }
      ],
      "source": [
        "a = {1,2,3,4,5,6,7,8,9,10}\n",
        "b = {7,8,9,10,11,12,13,14}\n",
        "\n",
        "#write your solution here"
      ]
    },
    {
      "cell_type": "markdown",
      "id": "fbb5bdfe",
      "metadata": {},
      "source": [
        "### Exercise 5:\n",
        "Write a function that takes two lists of numbers, and returns the number that appears most frequently across both lists (the mode). \n",
        "\n",
        "Hint: if you get stuck, try creating a tally of how many times each number appears. This could be a list.\n"
      ]
    },
    {
      "cell_type": "code",
      "execution_count": 165,
      "id": "6f9446d9",
      "metadata": {},
      "outputs": [
        {
          "name": "stdout",
          "output_type": "stream",
          "text": [
            "[0, 0, 1, 1, 1, 1, 1, 1, 2, 2, 2, 3, 3, 3, 3, 3, 4, 4, 4, 4, 4, 5, 5, 6, 6, 6, 7, 7, 7, 7, 7, 8, 8, 9, 9, 9]\n",
            "count of 0 is 2\n",
            "count of 1 is 6\n",
            "count of 2 is 3\n",
            "count of 3 is 5\n",
            "count of 4 is 5\n",
            "count of 5 is 2\n",
            "count of 6 is 3\n",
            "count of 7 is 5\n",
            "count of 8 is 2\n",
            "count of 9 is 3\n"
          ]
        },
        {
          "data": {
            "text/plain": [
              "1"
            ]
          },
          "execution_count": 165,
          "metadata": {},
          "output_type": "execute_result"
        }
      ],
      "source": [
        "def most_frequent(a, b):\n",
        "    #write your solution here\n",
        "    ...\n",
        "    #write your solution above\n",
        "\n",
        "a = [0,1,3,4,6,3,2,4,1,9,5,6,7,7,1,8,4,0]\n",
        "b = [7,3,9,6,7,4,2,1,3,9,7,5,1,3,4,2,1,8]\n",
        "\n",
        "result = most_frequent(a, b)\n",
        "result\n"
      ]
    },
    {
      "cell_type": "markdown",
      "id": "64e7ea31",
      "metadata": {},
      "source": [
        "### Exercise 6: \n",
        "\n",
        "Return to your student class created in Python 03 notebook. Create three new student objects and add/store these objects in a list."
      ]
    },
    {
      "cell_type": "code",
      "execution_count": 67,
      "id": "c5c92884",
      "metadata": {},
      "outputs": [
        {
          "data": {
            "text/plain": [
              "[<__main__.Student at 0x103ccc940>,\n",
              " <__main__.Student at 0x103ccd210>,\n",
              " <__main__.Student at 0x103b5d870>]"
            ]
          },
          "execution_count": 67,
          "metadata": {},
          "output_type": "execute_result"
        }
      ],
      "source": [
        "class Student:\n",
        "  def __init__(self, name, id):\n",
        "    self.name = name\n",
        "    self.id = id\n",
        "  def print(self):\n",
        "      print(self.name) \n",
        "      print(self.id)\n",
        "\n",
        "#write your solution here"
      ]
    },
    {
      "cell_type": "markdown",
      "id": "99a26654",
      "metadata": {},
      "source": [
        "### Exercise 7: \n",
        "\n",
        "Amend your Module class from Python 03 notebook so that module objects can store a list of student objects (which take the module). Start by defining an attribute in the Module constructor. This could be initialised as an empty list in the constructor. Create a ```add_student()``` function which can append a student object. \n",
        "\n",
        "Extension: is it possible to use the ```add_student()``` function to add a list of students to already existing list attribute? "
      ]
    },
    {
      "cell_type": "code",
      "execution_count": 127,
      "id": "e078c746",
      "metadata": {},
      "outputs": [
        {
          "name": "stdout",
          "output_type": "stream",
          "text": [
            "Programming Concepts\n",
            "COM4008\n",
            "Programming Concepts\n",
            "COM4008\n",
            "nick\n",
            "Programming Concepts\n",
            "COM4008\n",
            "nick\n",
            "Emily\n"
          ]
        }
      ],
      "source": [
        "#Write your solution here"
      ]
    },
    {
      "cell_type": "markdown",
      "id": "f85dedf5",
      "metadata": {},
      "source": [
        "### Exercise 7\n",
        "\n",
        "Now modify the list of the students in Module, to a dictionary. The dictionary should store the student object as the 'key' and the student mark for the module as the 'value'. Test this new structure works by passing in students and their marks when you call ```add_student()```\n",
        "\n",
        "Extension: Can you now create some descriptive statistics for each module: the maximum mark, minimum mark, and mean (average)?"
      ]
    },
    {
      "cell_type": "code",
      "execution_count": 1,
      "id": "8ea7dad5",
      "metadata": {},
      "outputs": [],
      "source": [
        "#write your solution here"
      ]
    },
    {
      "cell_type": "markdown",
      "id": "2a013a70",
      "metadata": {},
      "source": [
        "### Exercise 8\n",
        "Make adjustments to the Course class from Python 03 Notebook to allow a Course to store a list of module objects. \n",
        "Create additional module objects and output their details."
      ]
    },
    {
      "cell_type": "code",
      "execution_count": 2,
      "id": "89872b11",
      "metadata": {},
      "outputs": [],
      "source": [
        "#write your solution here"
      ]
    },
    {
      "cell_type": "markdown",
      "id": "f62b3876",
      "metadata": {
        "id": "f62b3876"
      },
      "source": [
        "### Exercise 9:\n",
        "Write a function that will generate the multiplications of a number passed in. For example, if the value 5 is passed in, then generate the 5 times table. The values of the multiplication table should be stored in indivdiual elements (max 12) of a list. The list should be returned at the end of the function. \n"
      ]
    },
    {
      "cell_type": "code",
      "execution_count": 53,
      "id": "7111df18",
      "metadata": {},
      "outputs": [
        {
          "data": {
            "text/plain": [
              "[7, 14, 21, 28, 35, 42, 49, 56, 63, 70, 77, 84]"
            ]
          },
          "execution_count": 53,
          "metadata": {},
          "output_type": "execute_result"
        }
      ],
      "source": [
        "#write your solution here"
      ]
    },
    {
      "cell_type": "markdown",
      "id": "c76976fd",
      "metadata": {},
      "source": [
        "### Exercise 10:\n",
        "\n",
        "Write a function which will square any list of values passed into it. Test this works by passing in your list of numbers (1-10) you created in the first exericse.\n",
        "\n",
        "<b>Extension</b>: what happens if the values in a list are not ints or floats? How would you respond to this event?"
      ]
    },
    {
      "cell_type": "code",
      "execution_count": 60,
      "id": "7889352e",
      "metadata": {},
      "outputs": [
        {
          "data": {
            "text/plain": [
              "[1, 4, 9, 16, 25, 36]"
            ]
          },
          "execution_count": 60,
          "metadata": {},
          "output_type": "execute_result"
        }
      ],
      "source": [
        "#write your solution here"
      ]
    },
    {
      "cell_type": "markdown",
      "id": "5861f62c",
      "metadata": {},
      "source": [
        "### Bonus exercise (in the style of an interview question)\n",
        "\n",
        "You are given a list of integers, and your task is to find the longest subsequence of consecutive integers within the list. A subsequence is a sequence that can be derived from another sequence by deleting some or no elements without changing the order of the remaining elements. \n",
        "\n",
        "Write a Python function to solve this problem. Your function should return the longest consecutive subsequence found in the original list.\n",
        "\n",
        "For example, given the input list: ``` [4, 2, 8, 5, 6, 7, 11, 12, 10]```\n",
        "\n",
        "The longest consecutive subsequence is: ``` [4, 5, 6, 7, 8] ```\n"
      ]
    },
    {
      "cell_type": "code",
      "execution_count": 185,
      "id": "ddf7677c",
      "metadata": {
        "id": "ddf7677c"
      },
      "outputs": [
        {
          "name": "stdout",
          "output_type": "stream",
          "text": [
            "[4, 5, 6, 7, 8]\n"
          ]
        }
      ],
      "source": [
        "def longest_consecutive_subsequence(numbers):\n",
        "    #write your solution here\n",
        "    ...\n",
        "    #write your solution above\n",
        "\n",
        "\n",
        "numbers = [4, 2, 8, 5, 6, 7, 11, 12, 10]\n",
        "result = longest_consecutive_subsequence(numbers)\n",
        "print(result)  "
      ]
    }
  ],
  "metadata": {
    "colab": {
      "provenance": []
    },
    "kernelspec": {
      "display_name": "Python 3",
      "language": "python",
      "name": "python3"
    },
    "language_info": {
      "codemirror_mode": {
        "name": "ipython",
        "version": 3
      },
      "file_extension": ".py",
      "mimetype": "text/x-python",
      "name": "python",
      "nbconvert_exporter": "python",
      "pygments_lexer": "ipython3",
      "version": "3.9.6"
    }
  },
  "nbformat": 4,
  "nbformat_minor": 5
}
