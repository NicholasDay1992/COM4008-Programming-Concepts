{
 "cells": [
  {
   "cell_type": "markdown",
   "id": "1eba3b72",
   "metadata": {
    "id": "1eba3b72"
   },
   "source": [
    "# 05 Python Exceptions\n"
   ]
  },
  {
   "cell_type": "markdown",
   "id": "f3c63fa9",
   "metadata": {},
   "source": [
    "## 0.0 Recap / Revision \n",
    "\n",
    "* Quiz here... \n",
    "\n",
    "* Selection vs Iteration \n",
    "\n",
    "* Classes vs Objects\n",
    "\n",
    "* Inheritance \n",
    "\n",
    "* Lists, Tuples, Sets & Dicts"
   ]
  },
  {
   "cell_type": "markdown",
   "id": "104769f3",
   "metadata": {},
   "source": [
    "## Plan for the Lecture:\n",
    "\n",
    "1. Exception Theory and Inheritance Hierarchy\n",
    "\n",
    "2. Try / Except \n",
    "\n",
    "3. Keywords such as pass and break \n",
    "\n",
    "4. Assertions"
   ]
  },
  {
   "cell_type": "markdown",
   "id": "3ec7f7f9",
   "metadata": {},
   "source": [
    "## 1.0 What is an Exception? \n",
    "\n",
    "* An exception is an event that occurs during the life of a program which could cause that program to behave unreliably. \n",
    "\n",
    "* Sometimes the user will make a mistake or will interact with the program in an unintended way: \n",
    "\n",
    "    * User may enter data in the wrong format.\n",
    "    * Attempt to read an array element with an invalid index – referred to as being ‘out of bounds’\n",
    "    * Attempt to open a file which has been relocated.\n",
    "\n",
    "* Rather than 'exceptional' meaning 'brilliant', here an exception is something unexpected - an exception to the rule. \n",
    "\n",
    "* Therefore, we need to find safe ways to deal with issues when they occur, so to limit damage. \n",
    "\n",
    "* Large applications can't afford to crash by a simple issue of entering data in the wrong format! "
   ]
  },
  {
   "cell_type": "markdown",
   "id": "b9206a2c",
   "metadata": {},
   "source": [
    "## 1.1 Examples of 'Exceptions'"
   ]
  },
  {
   "cell_type": "code",
   "execution_count": 21,
   "id": "1d749343",
   "metadata": {},
   "outputs": [
    {
     "ename": "TypeError",
     "evalue": "unsupported operand type(s) for +: 'int' and 'str'",
     "output_type": "error",
     "traceback": [
      "\u001b[0;31m---------------------------------------------------------------------------\u001b[0m",
      "\u001b[0;31mTypeError\u001b[0m                                 Traceback (most recent call last)",
      "Cell \u001b[0;32mIn [21], line 3\u001b[0m\n\u001b[1;32m      1\u001b[0m first_mark \u001b[38;5;241m=\u001b[39m \u001b[38;5;241m60\u001b[39m \n\u001b[1;32m      2\u001b[0m second_mark \u001b[38;5;241m=\u001b[39m \u001b[38;5;124m\"\u001b[39m\u001b[38;5;124m40\u001b[39m\u001b[38;5;124m\"\u001b[39m \n\u001b[0;32m----> 3\u001b[0m first_mark \u001b[38;5;241m+\u001b[39m second_mark\n",
      "\u001b[0;31mTypeError\u001b[0m: unsupported operand type(s) for +: 'int' and 'str'"
     ]
    }
   ],
   "source": [
    "first_mark = 60 \n",
    "second_mark = \"40\" \n",
    "first_mark + second_mark"
   ]
  },
  {
   "cell_type": "code",
   "execution_count": 22,
   "id": "685f7bac",
   "metadata": {},
   "outputs": [
    {
     "ename": "ZeroDivisionError",
     "evalue": "division by zero",
     "output_type": "error",
     "traceback": [
      "\u001b[0;31m---------------------------------------------------------------------------\u001b[0m",
      "\u001b[0;31mZeroDivisionError\u001b[0m                         Traceback (most recent call last)",
      "Cell \u001b[0;32mIn [22], line 1\u001b[0m\n\u001b[0;32m----> 1\u001b[0m \u001b[38;5;28msum\u001b[39m \u001b[38;5;241m=\u001b[39m \u001b[38;5;241m10\u001b[39m \u001b[38;5;241m/\u001b[39m \u001b[38;5;241m0\u001b[39m\n",
      "\u001b[0;31mZeroDivisionError\u001b[0m: division by zero"
     ]
    }
   ],
   "source": [
    "sum = 10 / 0"
   ]
  },
  {
   "cell_type": "code",
   "execution_count": 23,
   "id": "b17f0847",
   "metadata": {},
   "outputs": [
    {
     "ename": "ModuleNotFoundError",
     "evalue": "No module named 'Nick'",
     "output_type": "error",
     "traceback": [
      "\u001b[0;31m---------------------------------------------------------------------------\u001b[0m",
      "\u001b[0;31mModuleNotFoundError\u001b[0m                       Traceback (most recent call last)",
      "Cell \u001b[0;32mIn [23], line 1\u001b[0m\n\u001b[0;32m----> 1\u001b[0m \u001b[38;5;28;01mimport\u001b[39;00m \u001b[38;5;21;01mNick\u001b[39;00m\n",
      "\u001b[0;31mModuleNotFoundError\u001b[0m: No module named 'Nick'"
     ]
    }
   ],
   "source": [
    "import Nick"
   ]
  },
  {
   "cell_type": "code",
   "execution_count": 26,
   "id": "e3231356",
   "metadata": {},
   "outputs": [
    {
     "ename": "SyntaxError",
     "evalue": "EOL while scanning string literal (1371898898.py, line 1)",
     "output_type": "error",
     "traceback": [
      "\u001b[0;36m  Cell \u001b[0;32mIn [26], line 1\u001b[0;36m\u001b[0m\n\u001b[0;31m    print(\"Hello)\u001b[0m\n\u001b[0m                 ^\u001b[0m\n\u001b[0;31mSyntaxError\u001b[0m\u001b[0;31m:\u001b[0m EOL while scanning string literal\n"
     ]
    }
   ],
   "source": [
    "print(\"Hello)"
   ]
  },
  {
   "cell_type": "markdown",
   "id": "9b51920e",
   "metadata": {},
   "source": [
    "There are many things that can go wrong when programming! "
   ]
  },
  {
   "cell_type": "markdown",
   "id": "9ab13298",
   "metadata": {},
   "source": [
    "## 1.2 Exception handling in Java: \n",
    "\n",
    "![Java_exceptions](https://miro.medium.com/v2/resize:fit:1400/1*_jXNZuPLKMTQ5IKjBzb8jA.png)"
   ]
  },
  {
   "cell_type": "markdown",
   "id": "b5122598",
   "metadata": {},
   "source": [
    "* Java distinguishes between checked and unchecked exceptions. \n",
    "\n",
    "* As Java is compiler-based it can 'check' exceptions before fully compiled. \n",
    "\n",
    "* By contrast, Python is an interpreted language, so doesn't have any compiler-checked exceptions. Some environments however, will point out syntax issues - and location based IO problems. See below the underlines (in VSC at least):"
   ]
  },
  {
   "cell_type": "markdown",
   "id": "552f59e3",
   "metadata": {},
   "source": [
    "## 1.3 Exception Handling in Python \n",
    "\n",
    "* Each type of event could lead to an exception has a corresponding pre-defined exception class in Python (similar in Java)\n",
    "\n",
    "* Python 3 has around 70 dedicated Exception classes that are arranged in groups in a hierarchy of inheritance\n",
    "\n",
    "* These are sub-classes of (they inherit from) the base-class `BaseException`, similar to Java's hierarchy\n",
    "\n",
    "* Important categories are: `StandardError` `FileHandling` and `Warning` classes"
   ]
  },
  {
   "cell_type": "markdown",
   "id": "29574a1d",
   "metadata": {},
   "source": [
    "![Python_exceptions](https://miro.medium.com/v2/resize:fit:745/0*v809W8GEKnvqM01c.jpg)"
   ]
  },
  {
   "cell_type": "markdown",
   "id": "bd930664",
   "metadata": {},
   "source": [
    "## 1.4 Exception vs Error - is there a difference? \n",
    "\n",
    "* Java (and C++) differentiated between an Exception and an Error. They have Exception and Error based classes. \n",
    "\n",
    "* In Python, notice how there is an Exception and a BaseException class, but the names of inheriting classes are either 'Error' or 'Warning'\n",
    "\n",
    "* <b>Error = serious issues</b>\n",
    "\n",
    "* <b>Exception = recoverable issues</b>"
   ]
  },
  {
   "cell_type": "markdown",
   "id": "fa24813c",
   "metadata": {},
   "source": [
    "## 1.5 A list of the Python Exception Classes"
   ]
  },
  {
   "cell_type": "code",
   "execution_count": 27,
   "id": "96387f51",
   "metadata": {},
   "outputs": [
    {
     "data": {
      "text/plain": [
       "['ArithmeticError',\n",
       " 'AssertionError',\n",
       " 'AttributeError',\n",
       " 'BaseException',\n",
       " 'BlockingIOError',\n",
       " 'BrokenPipeError',\n",
       " 'BufferError',\n",
       " 'BytesWarning',\n",
       " 'ChildProcessError',\n",
       " 'ConnectionAbortedError',\n",
       " 'ConnectionError',\n",
       " 'ConnectionRefusedError',\n",
       " 'ConnectionResetError',\n",
       " 'DeprecationWarning',\n",
       " 'EOFError',\n",
       " 'EnvironmentError',\n",
       " 'Exception',\n",
       " 'FileExistsError',\n",
       " 'FileNotFoundError',\n",
       " 'FloatingPointError',\n",
       " 'FutureWarning',\n",
       " 'GeneratorExit',\n",
       " 'IOError',\n",
       " 'ImportError',\n",
       " 'ImportWarning',\n",
       " 'IndentationError',\n",
       " 'IndexError',\n",
       " 'InterruptedError',\n",
       " 'IsADirectoryError',\n",
       " 'KeyError',\n",
       " 'KeyboardInterrupt',\n",
       " 'LookupError',\n",
       " 'MemoryError',\n",
       " 'ModuleNotFoundError',\n",
       " 'NameError',\n",
       " 'NotADirectoryError',\n",
       " 'NotImplementedError',\n",
       " 'OSError',\n",
       " 'OverflowError',\n",
       " 'PendingDeprecationWarning',\n",
       " 'PermissionError',\n",
       " 'ProcessLookupError',\n",
       " 'RecursionError',\n",
       " 'ReferenceError',\n",
       " 'ResourceWarning',\n",
       " 'RuntimeError',\n",
       " 'RuntimeWarning',\n",
       " 'StopAsyncIteration',\n",
       " 'StopIteration',\n",
       " 'SyntaxError',\n",
       " 'SyntaxWarning',\n",
       " 'SystemError',\n",
       " 'SystemExit',\n",
       " 'TabError',\n",
       " 'TimeoutError',\n",
       " 'TypeError',\n",
       " 'UnboundLocalError',\n",
       " 'UnicodeDecodeError',\n",
       " 'UnicodeEncodeError',\n",
       " 'UnicodeError',\n",
       " 'UnicodeTranslateError',\n",
       " 'UnicodeWarning',\n",
       " 'UserWarning',\n",
       " 'ValueError',\n",
       " 'Warning',\n",
       " 'ZeroDivisionError']"
      ]
     },
     "execution_count": 27,
     "metadata": {},
     "output_type": "execute_result"
    }
   ],
   "source": [
    "import builtins\n",
    "\n",
    "exceptions = [e for e in dir(builtins) if isinstance(getattr(builtins, e), type) and issubclass(getattr(builtins, e), BaseException)]\n",
    "# print(len(exceptions))  # To get the total number\n",
    "exceptions       # To see all the names"
   ]
  },
  {
   "cell_type": "markdown",
   "id": "0c930ffd",
   "metadata": {},
   "source": [
    "## 1.6 Arranged into a Vertical Heirarchy\n",
    "```\n",
    "BaseException\n",
    " ├── SystemExit\n",
    " ├── KeyboardInterrupt\n",
    " ├── GeneratorExit\n",
    " └── Exception\n",
    "      ├── ArithmeticError\n",
    "      │    ├── FloatingPointError\n",
    "      │    ├── OverflowError\n",
    "      │    └── ZeroDivisionError\n",
    "      ├── BufferError\n",
    "      ├── LookupError\n",
    "      │    ├── IndexError\n",
    "      │    └── KeyError\n",
    "      ├── AssertionError\n",
    "      ├── AttributeError\n",
    "      ├── EOFError\n",
    "      ├── ImportError\n",
    "      │    └── ModuleNotFoundError\n",
    "      ├── NameError\n",
    "      │    └── UnboundLocalError\n",
    "      ├── OSError\n",
    "      │    ├── BlockingIOError\n",
    "      │    ├── ChildProcessError\n",
    "      │    ├── ConnectionError\n",
    "      │    │    ├── BrokenPipeError\n",
    "      │    │    ├── ConnectionAbortedError\n",
    "      │    │    ├── ConnectionRefusedError\n",
    "      │    │    └── ConnectionResetError\n",
    "      │    ├── FileExistsError\n",
    "      │    ├── FileNotFoundError\n",
    "      │    ├── InterruptedError\n",
    "      │    ├── IsADirectoryError\n",
    "      │    ├── NotADirectoryError\n",
    "      │    ├── PermissionError\n",
    "      │    ├── ProcessLookupError\n",
    "      │    └── TimeoutError\n",
    "      ├── ReferenceError\n",
    "      ├── RuntimeError\n",
    "      │    ├── NotImplementedError\n",
    "      │    └── RecursionError\n",
    "      ├── StopIteration\n",
    "      ├── StopAsyncIteration\n",
    "      ├── SyntaxError\n",
    "      │    └── IndentationError\n",
    "      │         └── TabError\n",
    "      ├── SystemError\n",
    "      ├── TypeError\n",
    "      ├── ValueError\n",
    "      │    └── UnicodeError\n",
    "      │         ├── UnicodeDecodeError\n",
    "      │         ├── UnicodeEncodeError\n",
    "      │         └── UnicodeTranslateError\n",
    "      └── Warning\n",
    "           ├── DeprecationWarning\n",
    "           ├── PendingDeprecationWarning\n",
    "           ├── RuntimeWarning\n",
    "           ├── SyntaxWarning\n",
    "           ├── UserWarning\n",
    "           ├── FutureWarning\n",
    "           ├── ImportWarning\n",
    "           ├── UnicodeWarning\n",
    "           └── BytesWarning\n",
    "```"
   ]
  },
  {
   "cell_type": "markdown",
   "id": "6be4c6fa",
   "metadata": {},
   "source": [
    "## 2.0 The `try` / `except` Python blocks\n",
    "\n",
    "* In other languages, one would typically `try` a block of code and then `catch` any exceptions that are `thrown`\n",
    "\n",
    "* In Python, there isn't an explicit keyword for `catch`, but there `except` fulfils this functionality."
   ]
  },
  {
   "cell_type": "markdown",
   "id": "cfb01905",
   "metadata": {},
   "source": [
    "## ZeroDivisionError"
   ]
  },
  {
   "cell_type": "code",
   "execution_count": 28,
   "id": "972d3cef",
   "metadata": {},
   "outputs": [
    {
     "ename": "ZeroDivisionError",
     "evalue": "division by zero",
     "output_type": "error",
     "traceback": [
      "\u001b[0;31m---------------------------------------------------------------------------\u001b[0m",
      "\u001b[0;31mZeroDivisionError\u001b[0m                         Traceback (most recent call last)",
      "Cell \u001b[0;32mIn [28], line 1\u001b[0m\n\u001b[0;32m----> 1\u001b[0m risky_code \u001b[38;5;241m=\u001b[39m \u001b[38;5;241m10\u001b[39m \u001b[38;5;241m/\u001b[39m \u001b[38;5;241m0\u001b[39m\n",
      "\u001b[0;31mZeroDivisionError\u001b[0m: division by zero"
     ]
    }
   ],
   "source": [
    "risky_code = 10 / 0"
   ]
  },
  {
   "cell_type": "code",
   "execution_count": 29,
   "id": "2134a60f",
   "metadata": {},
   "outputs": [
    {
     "name": "stdout",
     "output_type": "stream",
     "text": [
      "You cannot divide by zero!\n"
     ]
    }
   ],
   "source": [
    "try:\n",
    "    # Code that might raise an exception\n",
    "    division = 10 / 0\n",
    "    \n",
    "except ZeroDivisionError:\n",
    "    # Code to handle the exception\n",
    "    print(\"You cannot divide by zero!\")"
   ]
  },
  {
   "cell_type": "code",
   "execution_count": null,
   "id": "fa337731",
   "metadata": {},
   "outputs": [],
   "source": [
    "list(Exception.__subclasses__())"
   ]
  },
  {
   "cell_type": "code",
   "execution_count": null,
   "id": "fd32f414",
   "metadata": {},
   "outputs": [],
   "source": [
    "list(ArithmeticError.__subclasses__())\n"
   ]
  },
  {
   "cell_type": "code",
   "execution_count": null,
   "id": "1f1cde78",
   "metadata": {},
   "outputs": [],
   "source": [
    "list(ZeroDivisionError.__subclasses__())"
   ]
  },
  {
   "cell_type": "markdown",
   "id": "f1a646d0",
   "metadata": {},
   "source": [
    "## ValueError - for type casting issues"
   ]
  },
  {
   "cell_type": "code",
   "execution_count": null,
   "id": "7b065100",
   "metadata": {},
   "outputs": [],
   "source": [
    "name = input(\"please enter your name\")"
   ]
  },
  {
   "cell_type": "code",
   "execution_count": 30,
   "id": "08b117ac",
   "metadata": {},
   "outputs": [
    {
     "ename": "TypeError",
     "evalue": "can only concatenate str (not \"int\") to str",
     "output_type": "error",
     "traceback": [
      "\u001b[0;31m---------------------------------------------------------------------------\u001b[0m",
      "\u001b[0;31mTypeError\u001b[0m                                 Traceback (most recent call last)",
      "Cell \u001b[0;32mIn [30], line 2\u001b[0m\n\u001b[1;32m      1\u001b[0m num \u001b[38;5;241m=\u001b[39m \u001b[38;5;28minput\u001b[39m(\u001b[38;5;124m\"\u001b[39m\u001b[38;5;124mplease enter a number\u001b[39m\u001b[38;5;124m\"\u001b[39m)\n\u001b[0;32m----> 2\u001b[0m num \u001b[38;5;241m+\u001b[39m\u001b[38;5;241m=\u001b[39m \u001b[38;5;241m10\u001b[39m\n",
      "\u001b[0;31mTypeError\u001b[0m: can only concatenate str (not \"int\") to str"
     ]
    }
   ],
   "source": [
    "num = input(\"please enter a number\")\n",
    "num += 10"
   ]
  },
  {
   "cell_type": "code",
   "execution_count": 32,
   "id": "984c4e40",
   "metadata": {},
   "outputs": [
    {
     "ename": "ValueError",
     "evalue": "invalid literal for int() with base 10: 'abc'",
     "output_type": "error",
     "traceback": [
      "\u001b[0;31m---------------------------------------------------------------------------\u001b[0m",
      "\u001b[0;31mValueError\u001b[0m                                Traceback (most recent call last)",
      "Cell \u001b[0;32mIn [32], line 1\u001b[0m\n\u001b[0;32m----> 1\u001b[0m risky_code \u001b[38;5;241m=\u001b[39m \u001b[38;5;28mint\u001b[39m(\u001b[38;5;124m\"\u001b[39m\u001b[38;5;124mabc\u001b[39m\u001b[38;5;124m\"\u001b[39m)\n",
      "\u001b[0;31mValueError\u001b[0m: invalid literal for int() with base 10: 'abc'"
     ]
    }
   ],
   "source": [
    "risky_code = int(\"abc\")"
   ]
  },
  {
   "cell_type": "code",
   "execution_count": 31,
   "id": "e5be8018",
   "metadata": {},
   "outputs": [
    {
     "name": "stdout",
     "output_type": "stream",
     "text": [
      "An error occurred!\n"
     ]
    }
   ],
   "source": [
    "try:\n",
    "    risky_code = int(\"abc\")  # This will raise a ValueError\n",
    "    print(risky_code)\n",
    "except (ZeroDivisionError, ValueError):\n",
    "    print(\"An error occurred!\")"
   ]
  },
  {
   "cell_type": "code",
   "execution_count": 33,
   "id": "750543cd",
   "metadata": {},
   "outputs": [
    {
     "name": "stdout",
     "output_type": "stream",
     "text": [
      "1\n"
     ]
    }
   ],
   "source": [
    "try:\n",
    "    risky_code = int(True) \n",
    "    print(risky_code)\n",
    "except (ZeroDivisionError, ValueError):\n",
    "    print(\"An error occurred!\")"
   ]
  },
  {
   "cell_type": "code",
   "execution_count": 34,
   "id": "001f1aa8",
   "metadata": {},
   "outputs": [
    {
     "name": "stdout",
     "output_type": "stream",
     "text": [
      "True\n"
     ]
    }
   ],
   "source": [
    "try:\n",
    "    risky_code = bool(\"Nick\")  # This will raise a ValueError\n",
    "    print(risky_code)\n",
    "except (ZeroDivisionError, ValueError):\n",
    "    print(\"An error occurred!\")"
   ]
  },
  {
   "cell_type": "markdown",
   "id": "e883bbf3",
   "metadata": {},
   "source": [
    "## Input Exceptions\n",
    "\n",
    "* Using dynamic typing means that we're not bound to types... \n",
    "\n",
    "* The `input()` function returns an `str` therefore numbers, characters and key presses can be stored in an `str`\n",
    "\n",
    "* With typed variables, this would be a problem... \n",
    "\n",
    "* However, be careful if casting the returned `str` from an input function to an `int` or `float`"
   ]
  },
  {
   "cell_type": "code",
   "execution_count": 38,
   "id": "d862c5a7",
   "metadata": {},
   "outputs": [
    {
     "name": "stdout",
     "output_type": "stream",
     "text": [
      "<class 'str'>\n",
      "An error occurred!\n"
     ]
    }
   ],
   "source": [
    "try: \n",
    "    num = input(\"Please enter a number\")\n",
    "    print(type(num))\n",
    "    num += 10\n",
    "except:\n",
    "    print(\"An error occurred!\")"
   ]
  },
  {
   "cell_type": "code",
   "execution_count": 36,
   "id": "2d9a237b",
   "metadata": {},
   "outputs": [
    {
     "name": "stdout",
     "output_type": "stream",
     "text": [
      "10\n"
     ]
    }
   ],
   "source": [
    "try: \n",
    "    num = int(input(\"Please enter a number\"))\n",
    "    print(num)\n",
    "except:\n",
    "    print(\"An error occurred!\")"
   ]
  },
  {
   "cell_type": "markdown",
   "id": "960a94dc",
   "metadata": {},
   "source": [
    "## List and Key Exceptions"
   ]
  },
  {
   "cell_type": "code",
   "execution_count": 39,
   "id": "e314990c",
   "metadata": {},
   "outputs": [
    {
     "ename": "IndexError",
     "evalue": "string index out of range",
     "output_type": "error",
     "traceback": [
      "\u001b[0;31m---------------------------------------------------------------------------\u001b[0m",
      "\u001b[0;31mIndexError\u001b[0m                                Traceback (most recent call last)",
      "Cell \u001b[0;32mIn [39], line 2\u001b[0m\n\u001b[1;32m      1\u001b[0m name \u001b[38;5;241m=\u001b[39m \u001b[38;5;124m\"\u001b[39m\u001b[38;5;124mNick\u001b[39m\u001b[38;5;124m\"\u001b[39m\n\u001b[0;32m----> 2\u001b[0m name[\u001b[38;5;241m4\u001b[39m]\n",
      "\u001b[0;31mIndexError\u001b[0m: string index out of range"
     ]
    }
   ],
   "source": [
    "name = \"Nick\"\n",
    "name[4]"
   ]
  },
  {
   "cell_type": "code",
   "execution_count": null,
   "id": "12da529f",
   "metadata": {},
   "outputs": [],
   "source": [
    "list(LookupError.__subclasses__())"
   ]
  },
  {
   "cell_type": "code",
   "execution_count": 40,
   "id": "65738068",
   "metadata": {},
   "outputs": [
    {
     "name": "stdout",
     "output_type": "stream",
     "text": [
      "Issue with the index\n"
     ]
    }
   ],
   "source": [
    "try: \n",
    "    name = \"Nick\"\n",
    "    name[4]\n",
    "except(IndexError):\n",
    "    print(\"Issue with the index\")"
   ]
  },
  {
   "cell_type": "code",
   "execution_count": 41,
   "id": "2531aab0",
   "metadata": {},
   "outputs": [
    {
     "ename": "KeyError",
     "evalue": "'Sam'",
     "output_type": "error",
     "traceback": [
      "\u001b[0;31m---------------------------------------------------------------------------\u001b[0m",
      "\u001b[0;31mKeyError\u001b[0m                                  Traceback (most recent call last)",
      "Cell \u001b[0;32mIn [41], line 2\u001b[0m\n\u001b[1;32m      1\u001b[0m d \u001b[38;5;241m=\u001b[39m { \u001b[38;5;124m\"\u001b[39m\u001b[38;5;124mNick\u001b[39m\u001b[38;5;124m\"\u001b[39m : \u001b[38;5;241m12345\u001b[39m}\n\u001b[0;32m----> 2\u001b[0m d[\u001b[38;5;124m\"\u001b[39m\u001b[38;5;124mSam\u001b[39m\u001b[38;5;124m\"\u001b[39m]\n",
      "\u001b[0;31mKeyError\u001b[0m: 'Sam'"
     ]
    }
   ],
   "source": [
    "d = { \"Nick\" : 12345}\n",
    "d[\"Sam\"]"
   ]
  },
  {
   "cell_type": "code",
   "execution_count": 42,
   "id": "b5707513",
   "metadata": {},
   "outputs": [
    {
     "name": "stdout",
     "output_type": "stream",
     "text": [
      "Key could not be found\n"
     ]
    }
   ],
   "source": [
    "try: \n",
    "    d = { \"Nick\" : 12345}\n",
    "    d[\"Sam\"]\n",
    "except(KeyError):\n",
    "    print(\"Key could not be found\")"
   ]
  },
  {
   "cell_type": "markdown",
   "id": "52f7efbb",
   "metadata": {},
   "source": [
    "## The `else` statement in `try` / `except` blocks"
   ]
  },
  {
   "cell_type": "code",
   "execution_count": 43,
   "id": "5930b01e",
   "metadata": {},
   "outputs": [
    {
     "name": "stdout",
     "output_type": "stream",
     "text": [
      "10\n"
     ]
    }
   ],
   "source": [
    "try: \n",
    "    num = int(input(\"Please enter a number\"))\n",
    "    print(num)\n",
    "except Exception as e:\n",
    "    print(\"An error occurred!\")"
   ]
  },
  {
   "cell_type": "code",
   "execution_count": 44,
   "id": "1bc885e1",
   "metadata": {},
   "outputs": [
    {
     "name": "stdout",
     "output_type": "stream",
     "text": [
      "10\n"
     ]
    }
   ],
   "source": [
    "try: \n",
    "    num = int(input(\"Please enter a number\"))\n",
    "    #print(num)\n",
    "except:\n",
    "    print(\"An error occurred!\")\n",
    "else: \n",
    "    print(num)"
   ]
  },
  {
   "cell_type": "markdown",
   "id": "5bf365af",
   "metadata": {},
   "source": [
    "The below would work in a Jupyter notebooks environment, because variables are cached. But in a .py file, num may only be visible to the try block, and not outside of this. "
   ]
  },
  {
   "cell_type": "code",
   "execution_count": 45,
   "id": "c3a8b2b4",
   "metadata": {},
   "outputs": [
    {
     "name": "stdout",
     "output_type": "stream",
     "text": [
      "10\n"
     ]
    }
   ],
   "source": [
    "try: \n",
    "    num = int(input(\"Please enter a number\"))\n",
    "    #print(num)\n",
    "except:\n",
    "    print(\"An error occurred!\")\n",
    "\n",
    "print(num)"
   ]
  },
  {
   "cell_type": "markdown",
   "id": "16e3c64e",
   "metadata": {},
   "source": [
    "## The `break` keyword\n",
    "\n",
    "* In the context of loops, you may wish to `break` out of loops once a condition is met.\n",
    "\n",
    "* This is effective for 'reprompting' - we need to give our users a few chances to get it right! "
   ]
  },
  {
   "cell_type": "code",
   "execution_count": 47,
   "id": "c58c5e9a",
   "metadata": {},
   "outputs": [
    {
     "name": "stdout",
     "output_type": "stream",
     "text": [
      "(\"invalid literal for int() with base 10: 'nick'\",)\n"
     ]
    }
   ],
   "source": [
    "while True: \n",
    "    try: \n",
    "        num = int(input(\"Please enter a number\"))\n",
    "        break\n",
    "    except Exception as e:\n",
    "        print(e.args)\n",
    "    else: \n",
    "        print(num)"
   ]
  },
  {
   "cell_type": "markdown",
   "id": "5341c98d",
   "metadata": {},
   "source": [
    "Whilst this effective for exiting the loop, we don't get to our `else` block, which prints the value...  \n",
    "  We could move the `break` statement:"
   ]
  },
  {
   "cell_type": "code",
   "execution_count": null,
   "id": "ca5e4023",
   "metadata": {},
   "outputs": [],
   "source": [
    "while True: \n",
    "    try: \n",
    "        num = int(input(\"Please enter a number\"))\n",
    "    except Exception as e:\n",
    "        print(e.args)\n",
    "        #pass\n",
    "    else: \n",
    "        print(num)\n",
    "        break"
   ]
  },
  {
   "cell_type": "markdown",
   "id": "7da58848",
   "metadata": {},
   "source": [
    "## Could formulate into a function\n",
    "\n",
    "* This function can be reused: getting integers likely to happen multiple times in multiple programs. \n",
    "\n",
    "* The `return` keyword `breaks` out of the function, whereas `break` is just for a loop.\n",
    "\n",
    "* The keyword `pass` could help if we don't want to print all the bad exception messages to our user. \n",
    "\n",
    "* Think about how you might get the messaging right with your context - you may need to provide some help... but maybe a message reaffirming the data sought, rather than all the exception messaging which is intended for developers - not users!"
   ]
  },
  {
   "cell_type": "code",
   "execution_count": 48,
   "id": "8c5e509a",
   "metadata": {},
   "outputs": [],
   "source": [
    "def get_int():\n",
    "    while True:\n",
    "        try:\n",
    "            return int(input(\"Please enter a number\"))\n",
    "        except Exception as e:\n",
    "            pass # may not want to print the exceptions\n",
    "            #print(e.args)"
   ]
  },
  {
   "cell_type": "code",
   "execution_count": 49,
   "id": "0ec4dc13",
   "metadata": {},
   "outputs": [
    {
     "name": "stdout",
     "output_type": "stream",
     "text": [
      "10\n"
     ]
    }
   ],
   "source": [
    "print(get_int())"
   ]
  },
  {
   "cell_type": "markdown",
   "id": "532d5bdd",
   "metadata": {},
   "source": [
    "## Exception object `e` methods\n",
    "\n",
    "* objects of an Exception/Error class can give users useful information "
   ]
  },
  {
   "cell_type": "code",
   "execution_count": 50,
   "id": "f2fb9f33",
   "metadata": {},
   "outputs": [
    {
     "name": "stdout",
     "output_type": "stream",
     "text": [
      "<class 'Exception'>\n"
     ]
    }
   ],
   "source": [
    "e = Exception()\n",
    "print(type(e))"
   ]
  },
  {
   "cell_type": "code",
   "execution_count": 51,
   "id": "4f73f677",
   "metadata": {},
   "outputs": [
    {
     "name": "stdout",
     "output_type": "stream",
     "text": [
      "An error occurred: division by zero\n"
     ]
    }
   ],
   "source": [
    "try:\n",
    "    division = 10 / 0\n",
    "    \n",
    "except Exception as e:\n",
    "    print(f\"An error occurred: {e}\")"
   ]
  },
  {
   "cell_type": "code",
   "execution_count": 52,
   "id": "f77a446a",
   "metadata": {},
   "outputs": [
    {
     "name": "stdout",
     "output_type": "stream",
     "text": [
      "An error occurred: division by zero\n",
      "arguments ('division by zero',)\n",
      "representation ZeroDivisionError('division by zero')\n",
      "context: None\n"
     ]
    }
   ],
   "source": [
    "try:\n",
    "    #num = int(input(\"Enter a number\"))\n",
    "    division = 10 / 0\n",
    "except Exception as e:\n",
    "    print(f\"An error occurred: {e}\")\n",
    "    print(\"arguments\",e.args)\n",
    "    print(\"representation\", repr(e))\n",
    "    print(\"context:\", e.__context__)"
   ]
  },
  {
   "cell_type": "code",
   "execution_count": 53,
   "id": "28f72ff0",
   "metadata": {},
   "outputs": [
    {
     "name": "stdout",
     "output_type": "stream",
     "text": [
      "Exception args: ('Encountered a value error during division',)\n",
      "String representation: Encountered a value error during division\n",
      "Official representation: ValueError('Encountered a value error during division')\n",
      "Cause: division by zero\n",
      "Context: division by zero\n",
      "Traceback:\n"
     ]
    },
    {
     "name": "stderr",
     "output_type": "stream",
     "text": [
      "  File \"/var/folders/ry/3hkntqmd6lx9rvtg9q4zp4vr0000gn/T/ipykernel_33527/1551754589.py\", line 7, in <module>\n",
      "    raise ValueError(\"Encountered a value error during division\") from e1\n"
     ]
    }
   ],
   "source": [
    "import traceback\n",
    "# Nested try and catch block for context\n",
    "try:\n",
    "    try:\n",
    "        result = 1 / 0\n",
    "    except ZeroDivisionError as e1:\n",
    "        raise ValueError(\"Encountered a value error during division\") from e1\n",
    "except Exception as e:\n",
    "    print(f\"Exception args: {e.args}\")\n",
    "    print(f\"String representation: {str(e)}\")\n",
    "    print(f\"Official representation: {repr(e)}\")\n",
    "    print(f\"Cause: {e.__cause__}\")\n",
    "    print(f\"Context: {e.__context__}\")\n",
    "    print(\"Traceback:\")\n",
    "    traceback.print_tb(e.__traceback__)"
   ]
  },
  {
   "cell_type": "code",
   "execution_count": 54,
   "id": "d086ed14",
   "metadata": {},
   "outputs": [
    {
     "data": {
      "text/plain": [
       "['__cause__',\n",
       " '__class__',\n",
       " '__context__',\n",
       " '__delattr__',\n",
       " '__dict__',\n",
       " '__dir__',\n",
       " '__doc__',\n",
       " '__eq__',\n",
       " '__format__',\n",
       " '__ge__',\n",
       " '__getattribute__',\n",
       " '__gt__',\n",
       " '__hash__',\n",
       " '__init__',\n",
       " '__init_subclass__',\n",
       " '__le__',\n",
       " '__lt__',\n",
       " '__ne__',\n",
       " '__new__',\n",
       " '__reduce__',\n",
       " '__reduce_ex__',\n",
       " '__repr__',\n",
       " '__setattr__',\n",
       " '__setstate__',\n",
       " '__sizeof__',\n",
       " '__str__',\n",
       " '__subclasshook__',\n",
       " '__suppress_context__',\n",
       " '__traceback__',\n",
       " 'args',\n",
       " 'with_traceback']"
      ]
     },
     "execution_count": 54,
     "metadata": {},
     "output_type": "execute_result"
    }
   ],
   "source": [
    "dir(Exception)"
   ]
  },
  {
   "cell_type": "markdown",
   "id": "f870ec47",
   "metadata": {},
   "source": [
    "## The need to `Raise` (Throw) an Exception\n",
    "\n",
    "* To organise code more efficiently, one can write a manually `raise` an `Exception` in a function.\n",
    "\n",
    "* Defensive programming is proactive in anticipating exceptions and write them into functions.\n",
    "\n",
    "* Other languages use the keyword `throw`, but Python uses `raise`.\n",
    "\n"
   ]
  },
  {
   "cell_type": "code",
   "execution_count": null,
   "id": "01e90fca",
   "metadata": {},
   "outputs": [],
   "source": [
    "Student(\"Nick\")"
   ]
  },
  {
   "cell_type": "code",
   "execution_count": 55,
   "id": "75078231",
   "metadata": {},
   "outputs": [],
   "source": [
    "def divide(a, b):\n",
    "    if b == 0:\n",
    "        raise ValueError(\"Cannot divide by zero.\")\n",
    "    return a / b"
   ]
  },
  {
   "cell_type": "code",
   "execution_count": 56,
   "id": "4994e94b",
   "metadata": {},
   "outputs": [
    {
     "ename": "ValueError",
     "evalue": "Cannot divide by zero.",
     "output_type": "error",
     "traceback": [
      "\u001b[0;31m---------------------------------------------------------------------------\u001b[0m",
      "\u001b[0;31mValueError\u001b[0m                                Traceback (most recent call last)",
      "Cell \u001b[0;32mIn [56], line 1\u001b[0m\n\u001b[0;32m----> 1\u001b[0m divide(\u001b[38;5;241m10\u001b[39m, \u001b[38;5;241m0\u001b[39m)\n",
      "Cell \u001b[0;32mIn [55], line 3\u001b[0m, in \u001b[0;36mdivide\u001b[0;34m(a, b)\u001b[0m\n\u001b[1;32m      1\u001b[0m \u001b[38;5;28;01mdef\u001b[39;00m \u001b[38;5;21mdivide\u001b[39m(a, b):\n\u001b[1;32m      2\u001b[0m     \u001b[38;5;28;01mif\u001b[39;00m b \u001b[38;5;241m==\u001b[39m \u001b[38;5;241m0\u001b[39m:\n\u001b[0;32m----> 3\u001b[0m         \u001b[38;5;28;01mraise\u001b[39;00m \u001b[38;5;167;01mValueError\u001b[39;00m(\u001b[38;5;124m\"\u001b[39m\u001b[38;5;124mCannot divide by zero.\u001b[39m\u001b[38;5;124m\"\u001b[39m)\n\u001b[1;32m      4\u001b[0m     \u001b[38;5;28;01mreturn\u001b[39;00m a \u001b[38;5;241m/\u001b[39m b\n",
      "\u001b[0;31mValueError\u001b[0m: Cannot divide by zero."
     ]
    }
   ],
   "source": [
    "divide(10, 0)  "
   ]
  },
  {
   "cell_type": "markdown",
   "id": "5c90a784",
   "metadata": {},
   "source": [
    "Notice below, we can surround the function call with `try` / `except` blocks, rather than the full workings of the function. "
   ]
  },
  {
   "cell_type": "code",
   "execution_count": 57,
   "id": "7e91e323",
   "metadata": {},
   "outputs": [
    {
     "name": "stdout",
     "output_type": "stream",
     "text": [
      "Exception args: ('Cannot divide by zero.',)\n",
      "Official representation: ValueError('Cannot divide by zero.')\n"
     ]
    }
   ],
   "source": [
    "try: \n",
    "    divide(10, 0)  \n",
    "except Exception as e: \n",
    "    print(f\"Exception args: {e.args}\")\n",
    "    print(f\"Official representation: {repr(e)}\")"
   ]
  },
  {
   "cell_type": "markdown",
   "id": "cc9eac08",
   "metadata": {},
   "source": [
    "Furthermore, you may want to enforce certain logical rules as `Exceptions`, even if they syntactically check out."
   ]
  },
  {
   "cell_type": "code",
   "execution_count": 59,
   "id": "5c5dc727",
   "metadata": {},
   "outputs": [],
   "source": [
    "def withdraw(amount, balance):\n",
    "    if amount > balance:\n",
    "        raise ValueError(\"Insufficient funds.\")\n",
    "    balance -= amount\n",
    "    return balance"
   ]
  },
  {
   "cell_type": "code",
   "execution_count": 60,
   "id": "b60efb6b",
   "metadata": {},
   "outputs": [
    {
     "ename": "ValueError",
     "evalue": "Insufficient funds.",
     "output_type": "error",
     "traceback": [
      "\u001b[0;31m---------------------------------------------------------------------------\u001b[0m",
      "\u001b[0;31mValueError\u001b[0m                                Traceback (most recent call last)",
      "Cell \u001b[0;32mIn [60], line 1\u001b[0m\n\u001b[0;32m----> 1\u001b[0m withdraw(\u001b[38;5;241m100\u001b[39m, \u001b[38;5;241m50\u001b[39m)\n",
      "Cell \u001b[0;32mIn [59], line 3\u001b[0m, in \u001b[0;36mwithdraw\u001b[0;34m(amount, balance)\u001b[0m\n\u001b[1;32m      1\u001b[0m \u001b[38;5;28;01mdef\u001b[39;00m \u001b[38;5;21mwithdraw\u001b[39m(amount, balance):\n\u001b[1;32m      2\u001b[0m     \u001b[38;5;28;01mif\u001b[39;00m amount \u001b[38;5;241m>\u001b[39m balance:\n\u001b[0;32m----> 3\u001b[0m         \u001b[38;5;28;01mraise\u001b[39;00m \u001b[38;5;167;01mValueError\u001b[39;00m(\u001b[38;5;124m\"\u001b[39m\u001b[38;5;124mInsufficient funds.\u001b[39m\u001b[38;5;124m\"\u001b[39m)\n\u001b[1;32m      4\u001b[0m     balance \u001b[38;5;241m-\u001b[39m\u001b[38;5;241m=\u001b[39m amount\n\u001b[1;32m      5\u001b[0m     \u001b[38;5;28;01mreturn\u001b[39;00m balance\n",
      "\u001b[0;31mValueError\u001b[0m: Insufficient funds."
     ]
    }
   ],
   "source": [
    "withdraw(100, 50)  "
   ]
  },
  {
   "cell_type": "markdown",
   "id": "b82351d5",
   "metadata": {},
   "source": [
    "Whilst our Python variable can handle a negative value, there may critical situations where negative values would cause significant damage to a system. "
   ]
  },
  {
   "cell_type": "markdown",
   "id": "eefe5aa8",
   "metadata": {},
   "source": [
    "## 3.0 Writing our own custom Exception classes\n",
    "\n",
    "* Whilst there are many (nearly 70) named `Exception` classes in Python, you may want to define your own Exception classes that are unique to your program. \n",
    "\n",
    "* Our custom Exception classes will need to inherit from the class `Exception`"
   ]
  },
  {
   "cell_type": "code",
   "execution_count": 63,
   "id": "30474739",
   "metadata": {},
   "outputs": [],
   "source": [
    "class NegativeNumberError(Exception):\n",
    "    pass"
   ]
  },
  {
   "cell_type": "code",
   "execution_count": 64,
   "id": "bd5e4bdf",
   "metadata": {},
   "outputs": [],
   "source": [
    "def square_root(x):\n",
    "    if x < 0:\n",
    "        raise NegativeNumberError(\"Cannot take square root of a negative number.\")\n",
    "    return x ** 0.5"
   ]
  },
  {
   "cell_type": "code",
   "execution_count": 65,
   "id": "b7f3ab0b",
   "metadata": {},
   "outputs": [
    {
     "ename": "NegativeNumberError",
     "evalue": "Cannot take square root of a negative number.",
     "output_type": "error",
     "traceback": [
      "\u001b[0;31m---------------------------------------------------------------------------\u001b[0m",
      "\u001b[0;31mNegativeNumberError\u001b[0m                       Traceback (most recent call last)",
      "Cell \u001b[0;32mIn [65], line 1\u001b[0m\n\u001b[0;32m----> 1\u001b[0m square_root(\u001b[38;5;241m-\u001b[39m\u001b[38;5;241m4\u001b[39m)\n",
      "Cell \u001b[0;32mIn [64], line 3\u001b[0m, in \u001b[0;36msquare_root\u001b[0;34m(x)\u001b[0m\n\u001b[1;32m      1\u001b[0m \u001b[38;5;28;01mdef\u001b[39;00m \u001b[38;5;21msquare_root\u001b[39m(x):\n\u001b[1;32m      2\u001b[0m     \u001b[38;5;28;01mif\u001b[39;00m x \u001b[38;5;241m<\u001b[39m \u001b[38;5;241m0\u001b[39m:\n\u001b[0;32m----> 3\u001b[0m         \u001b[38;5;28;01mraise\u001b[39;00m NegativeNumberError(\u001b[38;5;124m\"\u001b[39m\u001b[38;5;124mCannot take square root of a negative number.\u001b[39m\u001b[38;5;124m\"\u001b[39m)\n\u001b[1;32m      4\u001b[0m     \u001b[38;5;28;01mreturn\u001b[39;00m x \u001b[38;5;241m*\u001b[39m\u001b[38;5;241m*\u001b[39m \u001b[38;5;241m0.5\u001b[39m\n",
      "\u001b[0;31mNegativeNumberError\u001b[0m: Cannot take square root of a negative number."
     ]
    }
   ],
   "source": [
    "square_root(-4) "
   ]
  },
  {
   "cell_type": "markdown",
   "id": "b4b01a2b",
   "metadata": {},
   "source": [
    "## 4.0 Assertions in Python \n",
    "\n",
    "* Assertions can be used to check parameters of methods, or values of variables. \n",
    "\n",
    "* Assertions typically feature in Unit Testing. We'll look at the module `pytest` in due course!\n",
    "\n",
    "* In C and C++ assertions would be checked at compile-time (before the run-time exception handling). Java disables this behaviour by default, however, this can be enabled. Furthermore, in Java, an `Assertion` would be treated as an `Error`, whereas `ZeroDivision` would be an `Exception`.\n",
    "\n",
    "* In Python, `AssertionError` inherits from `Exception`. \n",
    "\n",
    "* Debugging: Assertions are commonly used to catch bugs by making assumptions about the code’s behavior explicit.\n",
    "\n",
    "* Checking Invariants: You can use assertions to ensure that certain conditions hold true at specific points in your code.\n",
    "\n",
    "* Testing Conditions: They can be used to validate inputs, outputs, and internal states during development."
   ]
  },
  {
   "cell_type": "code",
   "execution_count": 2,
   "id": "716c53b0",
   "metadata": {},
   "outputs": [
    {
     "ename": "AssertionError",
     "evalue": "",
     "output_type": "error",
     "traceback": [
      "\u001b[0;31m---------------------------------------------------------------------------\u001b[0m",
      "\u001b[0;31mAssertionError\u001b[0m                            Traceback (most recent call last)",
      "Cell \u001b[0;32mIn [2], line 2\u001b[0m\n\u001b[1;32m      1\u001b[0m x \u001b[38;5;241m=\u001b[39m \u001b[38;5;241m5\u001b[39m\n\u001b[0;32m----> 2\u001b[0m \u001b[38;5;28;01massert\u001b[39;00m x \u001b[38;5;241m>\u001b[39m \u001b[38;5;241m10\u001b[39m\n",
      "\u001b[0;31mAssertionError\u001b[0m: "
     ]
    }
   ],
   "source": [
    "x = 5\n",
    "assert x > 10"
   ]
  },
  {
   "cell_type": "markdown",
   "id": "ddc966c1",
   "metadata": {},
   "source": [
    "What do you notice above - an `AssertionError`"
   ]
  },
  {
   "cell_type": "code",
   "execution_count": 47,
   "id": "6610e02f",
   "metadata": {},
   "outputs": [],
   "source": [
    "x = 10\n",
    "assert x > 5  # This will pass since the condition is True"
   ]
  },
  {
   "cell_type": "markdown",
   "id": "0359f2fa",
   "metadata": {},
   "source": [
    "We can also add a message to accompany the assertion: "
   ]
  },
  {
   "cell_type": "code",
   "execution_count": 69,
   "id": "e25d572b",
   "metadata": {},
   "outputs": [],
   "source": [
    "def calculate_area(radius):\n",
    "    assert radius > 0, \"Radius must be positive!\"\n",
    "    return 3.14159 * radius * radius"
   ]
  },
  {
   "cell_type": "code",
   "execution_count": 71,
   "id": "140bce14",
   "metadata": {},
   "outputs": [
    {
     "ename": "AssertionError",
     "evalue": "Radius must be positive!",
     "output_type": "error",
     "traceback": [
      "\u001b[0;31m---------------------------------------------------------------------------\u001b[0m",
      "\u001b[0;31mAssertionError\u001b[0m                            Traceback (most recent call last)",
      "Cell \u001b[0;32mIn [71], line 1\u001b[0m\n\u001b[0;32m----> 1\u001b[0m \u001b[38;5;28mprint\u001b[39m(calculate_area(\u001b[38;5;241m-\u001b[39m\u001b[38;5;241m3\u001b[39m))\n",
      "Cell \u001b[0;32mIn [69], line 2\u001b[0m, in \u001b[0;36mcalculate_area\u001b[0;34m(radius)\u001b[0m\n\u001b[1;32m      1\u001b[0m \u001b[38;5;28;01mdef\u001b[39;00m \u001b[38;5;21mcalculate_area\u001b[39m(radius):\n\u001b[0;32m----> 2\u001b[0m     \u001b[38;5;28;01massert\u001b[39;00m radius \u001b[38;5;241m>\u001b[39m \u001b[38;5;241m0\u001b[39m, \u001b[38;5;124m\"\u001b[39m\u001b[38;5;124mRadius must be positive!\u001b[39m\u001b[38;5;124m\"\u001b[39m\n\u001b[1;32m      3\u001b[0m     \u001b[38;5;28;01mreturn\u001b[39;00m \u001b[38;5;241m3.14159\u001b[39m \u001b[38;5;241m*\u001b[39m radius \u001b[38;5;241m*\u001b[39m radius\n",
      "\u001b[0;31mAssertionError\u001b[0m: Radius must be positive!"
     ]
    }
   ],
   "source": [
    "print(calculate_area(-3))  # This will raise an AssertionError"
   ]
  },
  {
   "cell_type": "code",
   "execution_count": 70,
   "id": "73543949",
   "metadata": {},
   "outputs": [
    {
     "name": "stdout",
     "output_type": "stream",
     "text": [
      "78.53975\n"
     ]
    }
   ],
   "source": [
    "print(calculate_area(5))   # This works"
   ]
  },
  {
   "cell_type": "markdown",
   "id": "2bc31fd1",
   "metadata": {},
   "source": [
    "Assertions should be enabled by default in Python. This isn't the case in Java. \n",
    "\n",
    "You can disable assertions in Python by running the interpreter with the -O (optimize) flag:\n",
    "\n",
    "` python -O your_script.py `"
   ]
  },
  {
   "cell_type": "markdown",
   "id": "dd38cc99",
   "metadata": {
    "id": "dd38cc99"
   },
   "source": [
    "#### This Jupyter Notebook contains exercises for you to extend your introduction to the basics, by checking for user validation. Attempt the following exercises, which slowly build in complexity. If you get stuck, check back to the <a href = \"https://www.youtube.com/watch?v=qId30tSr-iQ\"> Python lecture recording on Exceptions here</a> or or view the <a href = \"https://www.w3schools.com/python/python_try_except.asp\">W3Schools page on Python try... except...</a>, which includes examples, exercises and quizzes to help your understanding. \n"
   ]
  },
  {
   "cell_type": "markdown",
   "id": "bcb9491d",
   "metadata": {},
   "source": [
    "### Exercise 1: \n",
    "\n",
    "Let's start by writing a function that is designed to return user input (from the keyboard) as an integer."
   ]
  },
  {
   "cell_type": "code",
   "execution_count": 1,
   "id": "2f2d4aec",
   "metadata": {},
   "outputs": [],
   "source": [
    "def get_number():\n",
    "    ... # complete the function here"
   ]
  },
  {
   "cell_type": "code",
   "execution_count": null,
   "id": "64963e54",
   "metadata": {},
   "outputs": [],
   "source": [
    "get_number()"
   ]
  },
  {
   "cell_type": "markdown",
   "id": "370155e5",
   "metadata": {},
   "source": [
    "### Exercise 2: \n",
    "\n",
    "Now add some exception handling code to guard against non-integer values (e.g. strings) from being entered and causing an error. \n",
    "\n",
    "Question: Would floating point numbers and booleans throw an error here? If you're not sure, try it and see!"
   ]
  },
  {
   "cell_type": "code",
   "execution_count": null,
   "id": "9fe9dd1b",
   "metadata": {},
   "outputs": [],
   "source": [
    "# You could modify the above function definition or copy and expand below."
   ]
  },
  {
   "cell_type": "markdown",
   "id": "0b480bec",
   "metadata": {},
   "source": [
    "### Exercise 3: \n",
    "\n",
    "Now write a block of code that asks the user to enter two numbers (call your `get_number()` twice). Divide the first number by the second number. But what happens if the second number is a zero? Write some exception handling to catch the error that is raised (thrown) when dividing by zero.\n",
    "\n",
    "Extension: If the user does enter zero, and you do successfully catch this to stop the program from failing, how would you provide another chance to enter in another number?"
   ]
  },
  {
   "cell_type": "code",
   "execution_count": null,
   "id": "2fa30b5d",
   "metadata": {},
   "outputs": [],
   "source": [
    "# Write your solution here. "
   ]
  },
  {
   "cell_type": "markdown",
   "id": "66a56f9a",
   "metadata": {},
   "source": [
    "### Exercise 4: \n",
    "\n",
    "Now write an function that `raises` an error if a user enters an age (think `get_number()`) that is not logical (e.g. -50 or 7500). \n",
    "\n",
    "Which of the error classes would be appropriate to `raise`?"
   ]
  },
  {
   "cell_type": "code",
   "execution_count": null,
   "id": "45c7e207",
   "metadata": {},
   "outputs": [],
   "source": [
    "# Write your solution here. "
   ]
  },
  {
   "cell_type": "markdown",
   "id": "7837d07f",
   "metadata": {},
   "source": [
    "### Exercise 5: \n",
    "\n",
    "Initialise a Python dictionary (`dict`) named `food` which stores prices for produce. \n",
    "\n",
    "Start by defining apples to cost 0.90, bananas to cost 1.20, and raspberries to cost 1.90.\n",
    "\n",
    "Then write functions to add items to, and remove items from this dictionary, which feature exception handling code. In this case you want ensure that keys are strings, and you may want to enforce that values are floating point numbers. You also want to ensure that there is both a key and value present for each item. You may also need to `raise` an error if you cannot find the produce to remove."
   ]
  },
  {
   "cell_type": "code",
   "execution_count": null,
   "id": "9bab0668",
   "metadata": {},
   "outputs": [],
   "source": [
    "# Write your solution here. \n",
    "food = ..."
   ]
  },
  {
   "cell_type": "markdown",
   "id": "2da007e3",
   "metadata": {},
   "source": [
    "### Exercise 6: \n",
    "\n",
    "Write exception handling into the constructor of the `Student` class below to ensure that objects are initialised with valid data. For example, student names cannot be empty strings or integers.\n",
    "\n",
    "Extension: What about `Staff` names too? Write a super class `Person` which features the exception handling code for validating names of both `Student` objects and `Staff` objects. Write both the `Staff` and `Student` classes to inherit from `Person`. "
   ]
  },
  {
   "cell_type": "code",
   "execution_count": null,
   "id": "ba2a43c9",
   "metadata": {},
   "outputs": [],
   "source": [
    "# Amend the code below to feature exception handling\n",
    "class Student: \n",
    "    def __init__(self, name, id):\n",
    "        self.name = name\n",
    "        self.id = id"
   ]
  },
  {
   "cell_type": "code",
   "execution_count": null,
   "id": "8cad462b",
   "metadata": {},
   "outputs": [],
   "source": [
    "# Create three objects of the Student class here.  \n",
    "obj1 = ..."
   ]
  },
  {
   "cell_type": "markdown",
   "id": "7ce5ed60",
   "metadata": {},
   "source": [
    "### Exercise 7: \n",
    "\n",
    "Write exception handling code to prevent `IndexErrors` below from either loops, or user entered positions which are outside the bounds (range) of a `list`. Remember negative integers and floating point numbers (`TypeErrors`) too!"
   ]
  },
  {
   "cell_type": "code",
   "execution_count": null,
   "id": "5d1147f0",
   "metadata": {},
   "outputs": [],
   "source": [
    "l = list(range(0,10))\n",
    "l"
   ]
  },
  {
   "cell_type": "code",
   "execution_count": null,
   "id": "dde7961e",
   "metadata": {},
   "outputs": [],
   "source": [
    "i = 0\n",
    "while True: \n",
    "    print(l[i])\n",
    "    i +=1"
   ]
  },
  {
   "cell_type": "code",
   "execution_count": null,
   "id": "469bce2e",
   "metadata": {},
   "outputs": [],
   "source": [
    "index = get_number()\n",
    "print(l[index])"
   ]
  },
  {
   "cell_type": "code",
   "execution_count": null,
   "id": "2acf1d83",
   "metadata": {},
   "outputs": [],
   "source": [
    "l[0.5]"
   ]
  },
  {
   "cell_type": "code",
   "execution_count": null,
   "id": "7111c53d",
   "metadata": {},
   "outputs": [],
   "source": [
    "l[\"nick\"]"
   ]
  },
  {
   "cell_type": "markdown",
   "id": "2dc35eb0",
   "metadata": {},
   "source": [
    "### Exercise 8: \n",
    "\n",
    "Write a function `calculate_age()` that takes a birth year as input and calculates the age based on the current year. Use exception handling to catch invalid inputs (non-integer years) and also catch birth years that are in the future or extremely unrealistic (e.g., before 1900).\n",
    "\n",
    "Extension: Can you check dates that are passed in as `datetime` objects? "
   ]
  },
  {
   "cell_type": "code",
   "execution_count": null,
   "id": "c0462931",
   "metadata": {},
   "outputs": [],
   "source": [
    "def calculate_age():\n",
    "    ... #Write your solution here"
   ]
  },
  {
   "cell_type": "code",
   "execution_count": null,
   "id": "050aa430",
   "metadata": {},
   "outputs": [],
   "source": [
    "calculate_age(\"01-01-2000\")"
   ]
  },
  {
   "cell_type": "markdown",
   "id": "566956a5",
   "metadata": {},
   "source": [
    "### Exercise 9: \n",
    "\n",
    "Write a your own Exception class that inherits from `Exception`. As an example, you could write one of the following:\n",
    "* `InvalidEmailError` class to catch issues an email address (missing `@` sign or no `.` characters for the domain)\n",
    "* `InvalidTranscationError` if credit card details are incorrect or have expired.\n",
    "* `InvalidPasswordError` which is thrown when a password policy is not followed (e.g. must have an upper case letter, a digit and a symbol).\n",
    "\n",
    "Extension: Can you write this in a `.py` file so it can be used in future projects too? Also test that objects of this class can be thrown."
   ]
  },
  {
   "cell_type": "code",
   "execution_count": null,
   "id": "2f047b5e",
   "metadata": {},
   "outputs": [],
   "source": [
    "# Write your solution here or in a .py file"
   ]
  },
  {
   "cell_type": "markdown",
   "id": "d44ec7d0",
   "metadata": {},
   "source": [
    "### Exercise 10: \n",
    "\n",
    "Assertions should be enabled by default in Python (not the case in Java). Write the `validate_mark()` below to ensure that a `mark < 0` and also a `mark > 100` throw an `AssertionError`. Also amend the code cells below to convert a mark to a grade providing that the mark is valid. "
   ]
  },
  {
   "cell_type": "code",
   "execution_count": null,
   "id": "afa5d6b3",
   "metadata": {},
   "outputs": [],
   "source": [
    "def validate_mark():\n",
    "    ..."
   ]
  },
  {
   "cell_type": "code",
   "execution_count": 13,
   "id": "40cf0aca",
   "metadata": {},
   "outputs": [],
   "source": [
    "def get_grade(mark):\n",
    "    if mark >= 70: return \"A\"\n",
    "    elif mark >= 60: return \"B\"\n",
    "    elif mark >= 50: return \"C\"\n",
    "    elif mark >= 40: return \"D\"\n",
    "    elif mark >= 35: return \"E\"\n",
    "    else: return \"F\""
   ]
  },
  {
   "cell_type": "code",
   "execution_count": null,
   "id": "dab06dc7",
   "metadata": {},
   "outputs": [],
   "source": [
    "get_grade(101)"
   ]
  },
  {
   "cell_type": "code",
   "execution_count": null,
   "id": "65ac5d71",
   "metadata": {},
   "outputs": [],
   "source": [
    "get_grade(-1)"
   ]
  }
 ],
 "metadata": {
  "colab": {
   "provenance": []
  },
  "kernelspec": {
   "display_name": "Python 3",
   "language": "python",
   "name": "python3"
  },
  "language_info": {
   "codemirror_mode": {
    "name": "ipython",
    "version": 3
   },
   "file_extension": ".py",
   "mimetype": "text/x-python",
   "name": "python",
   "nbconvert_exporter": "python",
   "pygments_lexer": "ipython3",
   "version": "3.9.6"
  }
 },
 "nbformat": 4,
 "nbformat_minor": 5
}
