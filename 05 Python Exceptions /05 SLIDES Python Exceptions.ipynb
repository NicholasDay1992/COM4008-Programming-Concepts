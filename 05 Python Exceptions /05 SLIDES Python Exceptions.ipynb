{
  "cells": [
    {
      "cell_type": "markdown",
      "id": "1eba3b72",
      "metadata": {
        "id": "1eba3b72"
      },
      "source": [
        "# 05 Python Exceptions\n"
      ]
    },
    {
      "cell_type": "markdown",
      "id": "104769f3",
      "metadata": {},
      "source": [
        "## Plan for the Lecture:\n",
        "\n",
        "1. Exception Theory \n",
        "\n",
        "2. Try / Except \n",
        "\n",
        "3. Pass \n",
        "\n",
        "4. Break "
      ]
    },
    {
      "cell_type": "markdown",
      "id": "f3c63fa9",
      "metadata": {},
      "source": [
        "## 0.0 Recap / Revision \n",
        "\n",
        "* Quiz here... \n",
        "\n",
        "* Selection vs Iteration \n",
        "\n",
        "* Classes vs Objects\n",
        "\n",
        "* Inheritance \n",
        "\n",
        "* Lists, Tuples, Sets & Dicts"
      ]
    },
    {
      "cell_type": "markdown",
      "id": "3ec7f7f9",
      "metadata": {},
      "source": [
        "## 1.0 What is an Exception? \n",
        "\n",
        "* An exception is an event that occurs during the life of a program which could cause that program to behave unreliably. \n",
        "\n",
        "* Sometimes the user will make a mistake or will interact with the program in an unintended way: \n",
        "\n",
        "- User may enter data in the wrong format.\n",
        "- Attempt to read an array element with an invalid index – referred to as being ‘out of bounds’\n",
        "- Attempt to open a file which has been relocated.\n",
        "\n",
        "* Rather than 'exceptional' meaning 'brilliant', here an exception is something unexpected - an exception to the rule. \n",
        "\n",
        "* Therefore, we need to find safe ways to deal with issues when they occur, so to limit damage. \n",
        "\n",
        "* Large applications can't afford to crash by a simple issue of entering data in the wrong format! "
      ]
    },
    {
      "cell_type": "markdown",
      "id": "b9206a2c",
      "metadata": {},
      "source": [
        "## 1.1 Examples of 'Exceptions'"
      ]
    },
    {
      "cell_type": "code",
      "execution_count": 63,
      "id": "1d749343",
      "metadata": {},
      "outputs": [
        {
          "ename": "TypeError",
          "evalue": "unsupported operand type(s) for +: 'int' and 'str'",
          "output_type": "error",
          "traceback": [
            "\u001b[0;31m---------------------------------------------------------------------------\u001b[0m",
            "\u001b[0;31mTypeError\u001b[0m                                 Traceback (most recent call last)",
            "Cell \u001b[0;32mIn [63], line 3\u001b[0m\n\u001b[1;32m      1\u001b[0m first_mark \u001b[38;5;241m=\u001b[39m \u001b[38;5;241m60\u001b[39m \n\u001b[1;32m      2\u001b[0m second_mark \u001b[38;5;241m=\u001b[39m \u001b[38;5;124m\"\u001b[39m\u001b[38;5;124m40\u001b[39m\u001b[38;5;124m\"\u001b[39m \n\u001b[0;32m----> 3\u001b[0m first_mark \u001b[38;5;241m+\u001b[39m second_mark\n",
            "\u001b[0;31mTypeError\u001b[0m: unsupported operand type(s) for +: 'int' and 'str'"
          ]
        }
      ],
      "source": [
        "first_mark = 60 \n",
        "second_mark = \"40\" \n",
        "first_mark + second_mark"
      ]
    },
    {
      "cell_type": "code",
      "execution_count": 62,
      "id": "685f7bac",
      "metadata": {},
      "outputs": [
        {
          "ename": "ZeroDivisionError",
          "evalue": "division by zero",
          "output_type": "error",
          "traceback": [
            "\u001b[0;31m---------------------------------------------------------------------------\u001b[0m",
            "\u001b[0;31mZeroDivisionError\u001b[0m                         Traceback (most recent call last)",
            "Cell \u001b[0;32mIn [62], line 1\u001b[0m\n\u001b[0;32m----> 1\u001b[0m \u001b[38;5;28msum\u001b[39m \u001b[38;5;241m=\u001b[39m \u001b[38;5;241m10\u001b[39m \u001b[38;5;241m/\u001b[39m \u001b[38;5;241m0\u001b[39m\n",
            "\u001b[0;31mZeroDivisionError\u001b[0m: division by zero"
          ]
        }
      ],
      "source": [
        "sum = 10 / 0"
      ]
    },
    {
      "cell_type": "code",
      "execution_count": 64,
      "id": "b17f0847",
      "metadata": {},
      "outputs": [
        {
          "ename": "ModuleNotFoundError",
          "evalue": "No module named 'Nick'",
          "output_type": "error",
          "traceback": [
            "\u001b[0;31m---------------------------------------------------------------------------\u001b[0m",
            "\u001b[0;31mModuleNotFoundError\u001b[0m                       Traceback (most recent call last)",
            "Cell \u001b[0;32mIn [64], line 1\u001b[0m\n\u001b[0;32m----> 1\u001b[0m \u001b[38;5;28;01mimport\u001b[39;00m \u001b[38;5;21;01mNick\u001b[39;00m\n",
            "\u001b[0;31mModuleNotFoundError\u001b[0m: No module named 'Nick'"
          ]
        }
      ],
      "source": [
        "import Nick"
      ]
    },
    {
      "cell_type": "markdown",
      "id": "9b51920e",
      "metadata": {},
      "source": [
        "There are many things that can go wrong when programming! "
      ]
    },
    {
      "cell_type": "markdown",
      "id": "9ab13298",
      "metadata": {},
      "source": [
        "## 1.2 Exception handling in Java: \n",
        "\n",
        "![Java_exceptions](https://miro.medium.com/v2/resize:fit:1400/1*_jXNZuPLKMTQ5IKjBzb8jA.png)"
      ]
    },
    {
      "cell_type": "markdown",
      "id": "b5122598",
      "metadata": {},
      "source": [
        "* Java distinguishes between checked and unchecked exceptions. \n",
        "\n",
        "* As Java is compiler-based it can 'check' exceptions before fully compiled. \n",
        "\n",
        "* By contrast, Python is an interpreted language, so doesn't have any compiler-checked exceptions. Some environments however, will point out syntax issues - and location based IO problems. See below the underlines (in VSC at least):"
      ]
    },
    {
      "cell_type": "code",
      "execution_count": null,
      "id": "e3231356",
      "metadata": {},
      "outputs": [],
      "source": [
        "import Nick \n",
        "print(\"Hello)"
      ]
    },
    {
      "cell_type": "markdown",
      "id": "552f59e3",
      "metadata": {},
      "source": [
        "## 1.3 Exception Handling in Python \n",
        "\n",
        "* Each type of event could lead to an exception has a corresponding pre-defined exception class in Python (similar in Java)\n",
        "\n",
        "* Python 3 has around 70 dedicated Exception classes that are arranged in groups in a hierarchy of inheritance\n",
        "\n",
        "* These are sub-classes of (they inherit from) the base-class `BaseException`, similar to Java's hierarchy\n",
        "\n",
        "* Important categories are: `StandardError` `FileHandling` and `Warning` classes"
      ]
    },
    {
      "cell_type": "markdown",
      "id": "29574a1d",
      "metadata": {},
      "source": [
        "![Python_exceptions](https://miro.medium.com/v2/resize:fit:745/0*v809W8GEKnvqM01c.jpg)"
      ]
    },
    {
      "cell_type": "markdown",
      "id": "bd930664",
      "metadata": {},
      "source": [
        "## 1.4 Exception vs Error - is there a difference? \n",
        "\n",
        "* Java (and C++) differentiated between an Exception and an Error. They have Exception and Error based classes. \n",
        "\n",
        "* In Python, notice how there is an Exception and a BaseException class, but the names of inheriting classes are either 'Error' or 'Warning'"
      ]
    },
    {
      "cell_type": "markdown",
      "id": "fa24813c",
      "metadata": {},
      "source": [
        "## 1.5 A list of the Python Exception Classes"
      ]
    },
    {
      "cell_type": "code",
      "execution_count": 11,
      "id": "96387f51",
      "metadata": {},
      "outputs": [
        {
          "data": {
            "text/plain": [
              "['ArithmeticError',\n",
              " 'AssertionError',\n",
              " 'AttributeError',\n",
              " 'BaseException',\n",
              " 'BlockingIOError',\n",
              " 'BrokenPipeError',\n",
              " 'BufferError',\n",
              " 'BytesWarning',\n",
              " 'ChildProcessError',\n",
              " 'ConnectionAbortedError',\n",
              " 'ConnectionError',\n",
              " 'ConnectionRefusedError',\n",
              " 'ConnectionResetError',\n",
              " 'DeprecationWarning',\n",
              " 'EOFError',\n",
              " 'EnvironmentError',\n",
              " 'Exception',\n",
              " 'FileExistsError',\n",
              " 'FileNotFoundError',\n",
              " 'FloatingPointError',\n",
              " 'FutureWarning',\n",
              " 'GeneratorExit',\n",
              " 'IOError',\n",
              " 'ImportError',\n",
              " 'ImportWarning',\n",
              " 'IndentationError',\n",
              " 'IndexError',\n",
              " 'InterruptedError',\n",
              " 'IsADirectoryError',\n",
              " 'KeyError',\n",
              " 'KeyboardInterrupt',\n",
              " 'LookupError',\n",
              " 'MemoryError',\n",
              " 'ModuleNotFoundError',\n",
              " 'NameError',\n",
              " 'NotADirectoryError',\n",
              " 'NotImplementedError',\n",
              " 'OSError',\n",
              " 'OverflowError',\n",
              " 'PendingDeprecationWarning',\n",
              " 'PermissionError',\n",
              " 'ProcessLookupError',\n",
              " 'RecursionError',\n",
              " 'ReferenceError',\n",
              " 'ResourceWarning',\n",
              " 'RuntimeError',\n",
              " 'RuntimeWarning',\n",
              " 'StopAsyncIteration',\n",
              " 'StopIteration',\n",
              " 'SyntaxError',\n",
              " 'SyntaxWarning',\n",
              " 'SystemError',\n",
              " 'SystemExit',\n",
              " 'TabError',\n",
              " 'TimeoutError',\n",
              " 'TypeError',\n",
              " 'UnboundLocalError',\n",
              " 'UnicodeDecodeError',\n",
              " 'UnicodeEncodeError',\n",
              " 'UnicodeError',\n",
              " 'UnicodeTranslateError',\n",
              " 'UnicodeWarning',\n",
              " 'UserWarning',\n",
              " 'ValueError',\n",
              " 'Warning',\n",
              " 'ZeroDivisionError']"
            ]
          },
          "execution_count": 11,
          "metadata": {},
          "output_type": "execute_result"
        }
      ],
      "source": [
        "import builtins\n",
        "\n",
        "exceptions = [e for e in dir(builtins) if isinstance(getattr(builtins, e), type) and issubclass(getattr(builtins, e), BaseException)]\n",
        "# print(len(exceptions))  # To get the total number\n",
        "exceptions       # To see all the names"
      ]
    },
    {
      "cell_type": "markdown",
      "id": "0c930ffd",
      "metadata": {},
      "source": [
        "\n",
        "BaseException\n",
        " ├── SystemExit\n",
        " ├── KeyboardInterrupt\n",
        " ├── GeneratorExit\n",
        " └── Exception\n",
        "      ├── ArithmeticError\n",
        "      │    ├── FloatingPointError\n",
        "      │    ├── OverflowError\n",
        "      │    └── ZeroDivisionError\n",
        "      ├── BufferError\n",
        "      ├── LookupError\n",
        "      │    ├── IndexError\n",
        "      │    └── KeyError\n",
        "      ├── AssertionError\n",
        "      ├── AttributeError\n",
        "      ├── EOFError\n",
        "      ├── ImportError\n",
        "      │    └── ModuleNotFoundError\n",
        "      ├── NameError\n",
        "      │    └── UnboundLocalError\n",
        "      ├── OSError\n",
        "      │    ├── BlockingIOError\n",
        "      │    ├── ChildProcessError\n",
        "      │    ├── ConnectionError\n",
        "      │    │    ├── BrokenPipeError\n",
        "      │    │    ├── ConnectionAbortedError\n",
        "      │    │    ├── ConnectionRefusedError\n",
        "      │    │    └── ConnectionResetError\n",
        "      │    ├── FileExistsError\n",
        "      │    ├── FileNotFoundError\n",
        "      │    ├── InterruptedError\n",
        "      │    ├── IsADirectoryError\n",
        "      │    ├── NotADirectoryError\n",
        "      │    ├── PermissionError\n",
        "      │    ├── ProcessLookupError\n",
        "      │    └── TimeoutError\n",
        "      ├── ReferenceError\n",
        "      ├── RuntimeError\n",
        "      │    ├── NotImplementedError\n",
        "      │    └── RecursionError\n",
        "      ├── StopIteration\n",
        "      ├── StopAsyncIteration\n",
        "      ├── SyntaxError\n",
        "      │    └── IndentationError\n",
        "      │         └── TabError\n",
        "      ├── SystemError\n",
        "      ├── TypeError\n",
        "      ├── ValueError\n",
        "      │    └── UnicodeError\n",
        "      │         ├── UnicodeDecodeError\n",
        "      │         ├── UnicodeEncodeError\n",
        "      │         └── UnicodeTranslateError\n",
        "      └── Warning\n",
        "           ├── DeprecationWarning\n",
        "           ├── PendingDeprecationWarning\n",
        "           ├── RuntimeWarning\n",
        "           ├── SyntaxWarning\n",
        "           ├── UserWarning\n",
        "           ├── FutureWarning\n",
        "           ├── ImportWarning\n",
        "           ├── UnicodeWarning\n",
        "           └── BytesWarning"
      ]
    },
    {
      "cell_type": "markdown",
      "id": "6be4c6fa",
      "metadata": {},
      "source": [
        "## 2.0 The `try` / `except` Python blocks\n",
        "\n",
        "* In other languages, one would typically `try` a block of code and then `catch` any exceptions that are `thrown`\n",
        "\n",
        "* In Python, there isn't an explicit keyword for `catch`, but there `except` fulfils this functionality."
      ]
    },
    {
      "cell_type": "markdown",
      "id": "f71c79fe",
      "metadata": {},
      "source": [
        "## SyntaxError"
      ]
    },
    {
      "cell_type": "code",
      "execution_count": 66,
      "id": "8ade37cd",
      "metadata": {},
      "outputs": [
        {
          "ename": "SyntaxError",
          "evalue": "EOL while scanning string literal (2344435519.py, line 1)",
          "output_type": "error",
          "traceback": [
            "\u001b[0;36m  Cell \u001b[0;32mIn [66], line 1\u001b[0;36m\u001b[0m\n\u001b[0;31m    print(\"Hello Nick)\u001b[0m\n\u001b[0m                      ^\u001b[0m\n\u001b[0;31mSyntaxError\u001b[0m\u001b[0;31m:\u001b[0m EOL while scanning string literal\n"
          ]
        }
      ],
      "source": [
        "print(\"Hello Nick)"
      ]
    },
    {
      "cell_type": "markdown",
      "id": "532d5bdd",
      "metadata": {},
      "source": [
        "## Generic Exception handling"
      ]
    },
    {
      "cell_type": "code",
      "execution_count": 60,
      "id": "972d3cef",
      "metadata": {},
      "outputs": [
        {
          "ename": "ZeroDivisionError",
          "evalue": "division by zero",
          "output_type": "error",
          "traceback": [
            "\u001b[0;31m---------------------------------------------------------------------------\u001b[0m",
            "\u001b[0;31mZeroDivisionError\u001b[0m                         Traceback (most recent call last)",
            "Cell \u001b[0;32mIn [60], line 1\u001b[0m\n\u001b[0;32m----> 1\u001b[0m risky_code \u001b[38;5;241m=\u001b[39m \u001b[38;5;241m10\u001b[39m \u001b[38;5;241m/\u001b[39m \u001b[38;5;241m0\u001b[39m\n",
            "\u001b[0;31mZeroDivisionError\u001b[0m: division by zero"
          ]
        }
      ],
      "source": [
        "risky_code = 10 / 0"
      ]
    },
    {
      "cell_type": "code",
      "execution_count": 18,
      "id": "4f73f677",
      "metadata": {},
      "outputs": [
        {
          "name": "stdout",
          "output_type": "stream",
          "text": [
            "An error occurred: division by zero\n"
          ]
        }
      ],
      "source": [
        "try:\n",
        "    risky_code = 10 / 0\n",
        "    \n",
        "except Exception as e:\n",
        "    print(f\"An error occurred: {e}\")"
      ]
    },
    {
      "cell_type": "markdown",
      "id": "cfb01905",
      "metadata": {},
      "source": [
        "## ZeroDivisionError"
      ]
    },
    {
      "cell_type": "code",
      "execution_count": 2,
      "id": "2134a60f",
      "metadata": {},
      "outputs": [
        {
          "name": "stdout",
          "output_type": "stream",
          "text": [
            "You cannot divide by zero!\n"
          ]
        }
      ],
      "source": [
        "try:\n",
        "    # Code that might raise an exception\n",
        "    risky_code = 10 / 0\n",
        "    \n",
        "except ZeroDivisionError:\n",
        "    # Code to handle the exception\n",
        "    print(\"You cannot divide by zero!\")"
      ]
    },
    {
      "cell_type": "code",
      "execution_count": 43,
      "id": "fa337731",
      "metadata": {},
      "outputs": [
        {
          "data": {
            "text/plain": [
              "[TypeError,\n",
              " StopAsyncIteration,\n",
              " StopIteration,\n",
              " ImportError,\n",
              " OSError,\n",
              " EOFError,\n",
              " RuntimeError,\n",
              " NameError,\n",
              " AttributeError,\n",
              " SyntaxError,\n",
              " LookupError,\n",
              " ValueError,\n",
              " AssertionError,\n",
              " ArithmeticError,\n",
              " SystemError,\n",
              " ReferenceError,\n",
              " MemoryError,\n",
              " BufferError,\n",
              " Warning,\n",
              " locale.Error,\n",
              " warnings._OptionError,\n",
              " re.error,\n",
              " sre_parse.Verbose,\n",
              " runpy._Error,\n",
              " subprocess.SubprocessError,\n",
              " tokenize.TokenError,\n",
              " tokenize.StopTokenizing,\n",
              " inspect.ClassFoundException,\n",
              " inspect.EndOfBlock,\n",
              " traitlets.traitlets.TraitError,\n",
              " copy.Error,\n",
              " concurrent.futures._base.Error,\n",
              " socket._GiveupOnSendfile,\n",
              " struct.error,\n",
              " binascii.Incomplete,\n",
              " asyncio.exceptions.TimeoutError,\n",
              " asyncio.exceptions.InvalidStateError,\n",
              " asyncio.exceptions.LimitOverrunError,\n",
              " asyncio.queues.QueueEmpty,\n",
              " asyncio.queues.QueueFull,\n",
              " _queue.Empty,\n",
              " queue.Full,\n",
              " ctypes.ArgumentError,\n",
              " zmq.error.ZMQBaseError,\n",
              " _pickle.PickleError,\n",
              " pickle._Stop,\n",
              " argparse.ArgumentError,\n",
              " argparse.ArgumentTypeError,\n",
              " traitlets.config.loader.ConfigError,\n",
              " traitlets.config.configurable.ConfigurableError,\n",
              " traitlets.config.application.ApplicationError,\n",
              " zlib.error,\n",
              " _curses.error,\n",
              " tornado.concurrent.ReturnValueIgnoredError,\n",
              " tornado.gen.KeyReuseError,\n",
              " tornado.gen.UnknownKeyError,\n",
              " tornado.gen.LeakedCallbackError,\n",
              " tornado.gen.BadYieldError,\n",
              " tornado.gen.ReturnValueIgnoredError,\n",
              " tornado.gen.Return,\n",
              " jupyter_client.channels.InvalidPortNumber,\n",
              " termios.error,\n",
              " _lzma.LZMAError,\n",
              " shutil.RegistryError,\n",
              " shutil._GiveupOnFastCopy,\n",
              " jupyter_client.localinterfaces.NoIPAddresses,\n",
              " zipfile.BadZipFile,\n",
              " zipfile.LargeZipFile,\n",
              " configparser.Error,\n",
              " entrypoints.BadEntryPoint,\n",
              " entrypoints.NoSuchEntryPoint,\n",
              " jupyter_client.multikernelmanager.DuplicateKernelError,\n",
              " pydoc.ErrorDuringImport,\n",
              " executing.executing.NotOneValueFound,\n",
              " pure_eval.utils.CannotEval,\n",
              " pygments.util.OptionError,\n",
              " bdb.BdbQuit,\n",
              " pdb.Restart,\n",
              " pexpect.exceptions.ExceptionPexpect,\n",
              " ptyprocess.util.PtyProcessError,\n",
              " IPython.utils.process.FindCmdError,\n",
              " IPython.utils.path.HomeDirError,\n",
              " IPython.core.profiledir.ProfileDirError,\n",
              " IPython.core.error.IPythonCoreError,\n",
              " IPython.core.error.InputRejected,\n",
              " getopt.GetoptError,\n",
              " pygments.filters.ErrorToken,\n",
              " IPython.core.prefilter.PrefilterError,\n",
              " IPython.core.alias.AliasError,\n",
              " sqlite3.Error,\n",
              " sqlite3.Warning,\n",
              " IPython.core.interactiveshell.SpaceInInput,\n",
              " xml.dom.DOMException,\n",
              " prompt_toolkit.validation.ValidationError,\n",
              " prompt_toolkit.buffer.EditReadOnlyBuffer,\n",
              " prompt_toolkit.buffer._Retry,\n",
              " prompt_toolkit.layout.layout.InvalidLayoutError,\n",
              " prompt_toolkit.renderer.HeightIsUnknownError,\n",
              " parso.parser.ParserSyntaxError,\n",
              " parso.parser.InternalParseError,\n",
              " parso.python.diff._PositionUpdatingFinished,\n",
              " jedi.inference.helpers.SimpleGetItemNotFound,\n",
              " jedi.inference.utils.UncaughtAttributeError,\n",
              " jedi.inference.base_value.HasNoContext,\n",
              " jedi.inference.arguments.ParamIssue,\n",
              " jedi.api.exceptions._JediError,\n",
              " jedi.api.helpers.OnErrorLeaf,\n",
              " jedi.api.environment.InvalidPythonEnvironment,\n",
              " email.errors.MessageError,\n",
              " uu.Error,\n",
              " http.client.HTTPException,\n",
              " IPython.core.magics.code.InteractivelyDefined,\n",
              " IPython.terminal.embed.KillEmbedded,\n",
              " psutil.Error,\n",
              " _psutil_osx.ZombieProcessError,\n",
              " tornado.queues.QueueEmpty,\n",
              " tornado.queues.QueueFull,\n",
              " _pydev_bundle._pydev_saved_modules.DebuggerInitializationError,\n",
              " xml.parsers.expat.ExpatError,\n",
              " xmlrpc.client.Error,\n",
              " pkg_resources._vendor.pyparsing.ParseBaseException,\n",
              " pkg_resources._vendor.pyparsing.RecursiveGrammarException,\n",
              " pkg_resources.ResolutionError,\n",
              " _pydevd_bundle.pydevd_runpy._Error,\n",
              " _pydevd_bundle.pydevd_resolver.UnableToResolveVariableException,\n",
              " _pydev_bundle.pydev_monkey.InvalidTypeInArgsException]"
            ]
          },
          "execution_count": 43,
          "metadata": {},
          "output_type": "execute_result"
        }
      ],
      "source": [
        "list(Exception.__subclasses__())"
      ]
    },
    {
      "cell_type": "code",
      "execution_count": 35,
      "id": "fd32f414",
      "metadata": {},
      "outputs": [
        {
          "data": {
            "text/plain": [
              "[FloatingPointError,\n",
              " OverflowError,\n",
              " ZeroDivisionError,\n",
              " decimal.DecimalException]"
            ]
          },
          "execution_count": 35,
          "metadata": {},
          "output_type": "execute_result"
        }
      ],
      "source": [
        "list(ArithmeticError.__subclasses__())\n"
      ]
    },
    {
      "cell_type": "code",
      "execution_count": 36,
      "id": "1f1cde78",
      "metadata": {},
      "outputs": [
        {
          "data": {
            "text/plain": [
              "[decimal.DivisionByZero, decimal.DivisionUndefined]"
            ]
          },
          "execution_count": 36,
          "metadata": {},
          "output_type": "execute_result"
        }
      ],
      "source": [
        "list(ZeroDivisionError.__subclasses__())"
      ]
    },
    {
      "cell_type": "markdown",
      "id": "f1a646d0",
      "metadata": {},
      "source": [
        "## ValueError - for type casting issues"
      ]
    },
    {
      "cell_type": "code",
      "execution_count": 14,
      "id": "e5be8018",
      "metadata": {},
      "outputs": [
        {
          "name": "stdout",
          "output_type": "stream",
          "text": [
            "An error occurred!\n"
          ]
        }
      ],
      "source": [
        "try:\n",
        "    risky_code = int(\"abc\")  # This will raise a ValueError\n",
        "    print(risky_code)\n",
        "except (ZeroDivisionError, ValueError):\n",
        "    print(\"An error occurred!\")"
      ]
    },
    {
      "cell_type": "code",
      "execution_count": 15,
      "id": "750543cd",
      "metadata": {},
      "outputs": [
        {
          "name": "stdout",
          "output_type": "stream",
          "text": [
            "1\n"
          ]
        }
      ],
      "source": [
        "try:\n",
        "    risky_code = int(True)  # This will raise a ValueError\n",
        "    print(risky_code)\n",
        "except (ZeroDivisionError, ValueError):\n",
        "    print(\"An error occurred!\")"
      ]
    },
    {
      "cell_type": "code",
      "execution_count": 17,
      "id": "001f1aa8",
      "metadata": {},
      "outputs": [
        {
          "name": "stdout",
          "output_type": "stream",
          "text": [
            "True\n"
          ]
        }
      ],
      "source": [
        "try:\n",
        "    risky_code = bool(\"Nick\")  # This will raise a ValueError\n",
        "    print(risky_code)\n",
        "except (ZeroDivisionError, ValueError):\n",
        "    print(\"An error occurred!\")"
      ]
    },
    {
      "cell_type": "markdown",
      "id": "e883bbf3",
      "metadata": {},
      "source": [
        "## Input Exceptions\n",
        "\n",
        "* Using dynamic typing means that we're not bound to types... \n",
        "\n",
        "* The `input()` function returns an `str` therefore numbers, characters and key presses can be stored in an `str`\n",
        "\n",
        "* With typed variables, this would be a problem... \n",
        "\n",
        "* However, be careful if casting the returned `str` from an input function to an `int` or `float`"
      ]
    },
    {
      "cell_type": "code",
      "execution_count": 52,
      "id": "d862c5a7",
      "metadata": {},
      "outputs": [
        {
          "name": "stdout",
          "output_type": "stream",
          "text": [
            "Nick\n"
          ]
        }
      ],
      "source": [
        "try: \n",
        "    num = input(\"Please enter a number\")\n",
        "    print(num)\n",
        "except:\n",
        "    print(\"An error occurred!\")"
      ]
    },
    {
      "cell_type": "code",
      "execution_count": 53,
      "id": "2d9a237b",
      "metadata": {},
      "outputs": [
        {
          "name": "stdout",
          "output_type": "stream",
          "text": [
            "An error occurred!\n"
          ]
        }
      ],
      "source": [
        "try: \n",
        "    num = int(input(\"Please enter a number\"))\n",
        "    print(num)\n",
        "except:\n",
        "    print(\"An error occurred!\")"
      ]
    },
    {
      "cell_type": "markdown",
      "id": "960a94dc",
      "metadata": {},
      "source": [
        "## List and Key Exceptions"
      ]
    },
    {
      "cell_type": "code",
      "execution_count": 54,
      "id": "e314990c",
      "metadata": {},
      "outputs": [
        {
          "ename": "IndexError",
          "evalue": "string index out of range",
          "output_type": "error",
          "traceback": [
            "\u001b[0;31m---------------------------------------------------------------------------\u001b[0m",
            "\u001b[0;31mIndexError\u001b[0m                                Traceback (most recent call last)",
            "Cell \u001b[0;32mIn [54], line 2\u001b[0m\n\u001b[1;32m      1\u001b[0m name \u001b[38;5;241m=\u001b[39m \u001b[38;5;124m\"\u001b[39m\u001b[38;5;124mNick\u001b[39m\u001b[38;5;124m\"\u001b[39m\n\u001b[0;32m----> 2\u001b[0m name[\u001b[38;5;241m4\u001b[39m]\n",
            "\u001b[0;31mIndexError\u001b[0m: string index out of range"
          ]
        }
      ],
      "source": [
        "name = \"Nick\"\n",
        "name[4]"
      ]
    },
    {
      "cell_type": "code",
      "execution_count": 57,
      "id": "12da529f",
      "metadata": {},
      "outputs": [
        {
          "data": {
            "text/plain": [
              "[IndexError, KeyError, encodings.CodecRegistryError]"
            ]
          },
          "execution_count": 57,
          "metadata": {},
          "output_type": "execute_result"
        }
      ],
      "source": [
        "list(LookupError.__subclasses__())"
      ]
    },
    {
      "cell_type": "code",
      "execution_count": 55,
      "id": "65738068",
      "metadata": {},
      "outputs": [
        {
          "name": "stdout",
          "output_type": "stream",
          "text": [
            "Issue with the index\n"
          ]
        }
      ],
      "source": [
        "try: \n",
        "    name = \"Nick\"\n",
        "    name[4]\n",
        "except(IndexError):\n",
        "    print(\"Issue with the index\")"
      ]
    },
    {
      "cell_type": "code",
      "execution_count": 58,
      "id": "2531aab0",
      "metadata": {},
      "outputs": [
        {
          "ename": "KeyError",
          "evalue": "'Sam'",
          "output_type": "error",
          "traceback": [
            "\u001b[0;31m---------------------------------------------------------------------------\u001b[0m",
            "\u001b[0;31mKeyError\u001b[0m                                  Traceback (most recent call last)",
            "Cell \u001b[0;32mIn [58], line 2\u001b[0m\n\u001b[1;32m      1\u001b[0m d \u001b[38;5;241m=\u001b[39m { \u001b[38;5;124m\"\u001b[39m\u001b[38;5;124mNick\u001b[39m\u001b[38;5;124m\"\u001b[39m : \u001b[38;5;241m12345\u001b[39m}\n\u001b[0;32m----> 2\u001b[0m d[\u001b[38;5;124m\"\u001b[39m\u001b[38;5;124mSam\u001b[39m\u001b[38;5;124m\"\u001b[39m]\n",
            "\u001b[0;31mKeyError\u001b[0m: 'Sam'"
          ]
        }
      ],
      "source": [
        "d = { \"Nick\" : 12345}\n",
        "d[\"Sam\"]"
      ]
    },
    {
      "cell_type": "code",
      "execution_count": 59,
      "id": "b5707513",
      "metadata": {},
      "outputs": [
        {
          "name": "stdout",
          "output_type": "stream",
          "text": [
            "Key could not be found\n"
          ]
        }
      ],
      "source": [
        "try: \n",
        "    d = { \"Nick\" : 12345}\n",
        "    d[\"Sam\"]\n",
        "except(KeyError):\n",
        "    print(\"Key could not be found\")"
      ]
    },
    {
      "cell_type": "markdown",
      "id": "b4b01a2b",
      "metadata": {},
      "source": [
        "## 4.0 Assertions in Python \n",
        "\n",
        "* Assertions can be used to check parameters of methods, or values of variables. \n",
        "\n",
        "* Assertions typically feature in Unit Testing. We'll look at the module `pytest` in due course!\n",
        "\n",
        "* In C and C++ assertions would be checked at compile-time (before the run-time exception handling). Java disables this behaviour by default, however, this can be enabled. \n",
        "\n",
        "* In Python, `AssertionError` inherits from `Exception`. \n",
        "\n",
        "* Debugging: Assertions are commonly used to catch bugs by making assumptions about the code’s behavior explicit.\n",
        "\n",
        "* Checking Invariants: You can use assertions to ensure that certain conditions hold true at specific points in your code.\n",
        "\n",
        "* Testing Conditions: They can be used to validate inputs, outputs, and internal states during development."
      ]
    },
    {
      "cell_type": "code",
      "execution_count": 45,
      "id": "716c53b0",
      "metadata": {},
      "outputs": [
        {
          "ename": "AssertionError",
          "evalue": "",
          "output_type": "error",
          "traceback": [
            "\u001b[0;31m---------------------------------------------------------------------------\u001b[0m",
            "\u001b[0;31mAssertionError\u001b[0m                            Traceback (most recent call last)",
            "Cell \u001b[0;32mIn [45], line 2\u001b[0m\n\u001b[1;32m      1\u001b[0m x \u001b[38;5;241m=\u001b[39m \u001b[38;5;241m5\u001b[39m\n\u001b[0;32m----> 2\u001b[0m \u001b[38;5;28;01massert\u001b[39;00m x \u001b[38;5;241m>\u001b[39m \u001b[38;5;241m10\u001b[39m\n",
            "\u001b[0;31mAssertionError\u001b[0m: "
          ]
        }
      ],
      "source": [
        "x = 5\n",
        "assert x > 10 "
      ]
    },
    {
      "cell_type": "markdown",
      "id": "ddc966c1",
      "metadata": {},
      "source": [
        "What do you notice above - an `AssertionError`"
      ]
    },
    {
      "cell_type": "code",
      "execution_count": 47,
      "id": "6610e02f",
      "metadata": {},
      "outputs": [],
      "source": [
        "x = 10\n",
        "assert x > 5  # This will pass since the condition is True"
      ]
    },
    {
      "cell_type": "markdown",
      "id": "2bc31fd1",
      "metadata": {},
      "source": [
        "Assertions can be globally disabled in Python by running the interpreter with the -O (optimize) flag:\n",
        "\n",
        "` python -O your_script.py `"
      ]
    },
    {
      "cell_type": "markdown",
      "id": "f277e2a0",
      "metadata": {},
      "source": []
    },
    {
      "cell_type": "markdown",
      "id": "dd38cc99",
      "metadata": {
        "id": "dd38cc99"
      },
      "source": [
        "#### This Jupyter Notebook contains exercises for you to extend your introduction to OOP, by creating lists, tuples, sets, dictionaries of objects. Attempt the following exercises, which slowly build in complexity. If you get stuck, check back to the <a href = \"https://youtu.be/MDZX59Lrc_g?si=MW3m7FYgfVYoYqum\"> Python lecture recording on Data Structures here</a> or look through the <a href = \"https://www.python.org\">Python documentation here</a>."
      ]
    },
    {
      "cell_type": "markdown",
      "id": "6e5075e1",
      "metadata": {
        "id": "6e5075e1"
      },
      "source": [
        "### Exercise 1:\n",
        "Create a Python list that stores the numbers 1-10 in indivdual elements. Then print out the contents of the list to check the values have been stored correctly.\n",
        "\n",
        "Extension: make use of an appropriate list method to reverse the order of this list."
      ]
    },
    {
      "cell_type": "code",
      "execution_count": 38,
      "id": "1c93996b",
      "metadata": {
        "id": "1c93996b",
        "outputId": "fc2acb5f-64bd-48f2-9659-ddbc761958a4",
        "scrolled": false
      },
      "outputs": [
        {
          "data": {
            "text/plain": [
              "[1, 2, 3, 4, 5, 6, 7, 8, 9, 10]"
            ]
          },
          "execution_count": 38,
          "metadata": {},
          "output_type": "execute_result"
        }
      ],
      "source": [
        "#Write your solution here\n"
      ]
    },
    {
      "cell_type": "markdown",
      "id": "2ae0edc0",
      "metadata": {},
      "source": [
        "### Exercise 2:\n",
        "\n",
        "Create a Python dictionary which stores the price for three items of food. For example; milk is £1.30, pasta is £0.75, and strawberries are £1.50. Output the dictionary to check the values are stored, and then see if you can access the price for one of the items by using the item name as the 'key'.\n",
        "\n",
        "Extension: Now add a new key and value pair to previously defined dictionary."
      ]
    },
    {
      "cell_type": "code",
      "execution_count": 49,
      "id": "84b40bdc",
      "metadata": {},
      "outputs": [
        {
          "data": {
            "text/plain": [
              "{'milk': 1.3, 'pasta': 0.75, 'strawberries': 1.5}"
            ]
          },
          "execution_count": 49,
          "metadata": {},
          "output_type": "execute_result"
        }
      ],
      "source": [
        "#Write your solution here"
      ]
    },
    {
      "cell_type": "markdown",
      "id": "18d27a22",
      "metadata": {},
      "source": [
        "### Exercise 3: \n",
        "\n",
        "Given two sets (prices and food names), can you create a dictionary that uses the foodnames as keys, and the prices as values?\n"
      ]
    },
    {
      "cell_type": "code",
      "execution_count": 124,
      "id": "989af81c",
      "metadata": {},
      "outputs": [
        {
          "name": "stdout",
          "output_type": "stream",
          "text": [
            "{'pasta', 'milk', 'strawberries'}\n",
            "{0.75, 1.3, 1.5}\n"
          ]
        },
        {
          "data": {
            "text/plain": [
              "{'pasta': 0.75, 'milk': 1.3, 'strawberries': 1.5}"
            ]
          },
          "execution_count": 124,
          "metadata": {},
          "output_type": "execute_result"
        }
      ],
      "source": [
        "foodnames = {\"milk\", \"pasta\", \"strawberries\"}\n",
        "prices = {1.30, 0.75, 1.50}\n",
        "\n",
        "print(foodnames)\n",
        "print(prices)\n",
        "\n",
        "# Write your solution: \n"
      ]
    },
    {
      "cell_type": "markdown",
      "id": "d14cb700",
      "metadata": {},
      "source": [
        "### Exercise 4: \n",
        "\n",
        "Write one function which will return the intersection of two sets passed in. Write another function which will return the union of two sets passed in."
      ]
    },
    {
      "cell_type": "code",
      "execution_count": 174,
      "id": "c4dc15f6",
      "metadata": {},
      "outputs": [
        {
          "name": "stdout",
          "output_type": "stream",
          "text": [
            "{8, 9, 10, 7}\n",
            "{1, 2, 3, 4, 5, 6, 7, 8, 9, 10, 11, 12, 13, 14}\n"
          ]
        }
      ],
      "source": [
        "a = {1,2,3,4,5,6,7,8,9,10}\n",
        "b = {7,8,9,10,11,12,13,14}\n",
        "\n",
        "#write your solution here"
      ]
    },
    {
      "cell_type": "markdown",
      "id": "fbb5bdfe",
      "metadata": {},
      "source": [
        "### Exercise 5:\n",
        "Write a function that takes two lists of numbers, and returns the number that appears most frequently across both lists (the mode). \n",
        "\n",
        "Hint: if you get stuck, try creating a tally of how many times each number appears. This could be a list.\n"
      ]
    },
    {
      "cell_type": "code",
      "execution_count": 165,
      "id": "6f9446d9",
      "metadata": {},
      "outputs": [
        {
          "name": "stdout",
          "output_type": "stream",
          "text": [
            "[0, 0, 1, 1, 1, 1, 1, 1, 2, 2, 2, 3, 3, 3, 3, 3, 4, 4, 4, 4, 4, 5, 5, 6, 6, 6, 7, 7, 7, 7, 7, 8, 8, 9, 9, 9]\n",
            "count of 0 is 2\n",
            "count of 1 is 6\n",
            "count of 2 is 3\n",
            "count of 3 is 5\n",
            "count of 4 is 5\n",
            "count of 5 is 2\n",
            "count of 6 is 3\n",
            "count of 7 is 5\n",
            "count of 8 is 2\n",
            "count of 9 is 3\n"
          ]
        },
        {
          "data": {
            "text/plain": [
              "1"
            ]
          },
          "execution_count": 165,
          "metadata": {},
          "output_type": "execute_result"
        }
      ],
      "source": [
        "def most_frequent(a, b):\n",
        "    #write your solution here\n",
        "    ...\n",
        "    #write your solution above\n",
        "\n",
        "a = [0,1,3,4,6,3,2,4,1,9,5,6,7,7,1,8,4,0]\n",
        "b = [7,3,9,6,7,4,2,1,3,9,7,5,1,3,4,2,1,8]\n",
        "\n",
        "result = most_frequent(a, b)\n",
        "result\n"
      ]
    },
    {
      "cell_type": "markdown",
      "id": "64e7ea31",
      "metadata": {},
      "source": [
        "### Exercise 6: \n",
        "\n",
        "Return to your student class created in Python 03 notebook. Create three new student objects and add/store these objects in a list."
      ]
    },
    {
      "cell_type": "code",
      "execution_count": 67,
      "id": "c5c92884",
      "metadata": {},
      "outputs": [
        {
          "data": {
            "text/plain": [
              "[<__main__.Student at 0x103ccc940>,\n",
              " <__main__.Student at 0x103ccd210>,\n",
              " <__main__.Student at 0x103b5d870>]"
            ]
          },
          "execution_count": 67,
          "metadata": {},
          "output_type": "execute_result"
        }
      ],
      "source": [
        "class Student:\n",
        "  def __init__(self, name, id):\n",
        "    self.name = name\n",
        "    self.id = id\n",
        "  def print(self):\n",
        "      print(self.name) \n",
        "      print(self.id)\n",
        "\n",
        "#write your solution here"
      ]
    },
    {
      "cell_type": "markdown",
      "id": "99a26654",
      "metadata": {},
      "source": [
        "### Exercise 7: \n",
        "\n",
        "Amend your Module class from Python 03 notebook so that module objects can store a list of student objects (which take the module). Start by defining an attribute in the Module constructor. This could be initialised as an empty list in the constructor. Create a ```add_student()``` function which can append a student object. \n",
        "\n",
        "Extension: is it possible to use the ```add_student()``` function to add a list of students to already existing list attribute? "
      ]
    },
    {
      "cell_type": "code",
      "execution_count": 127,
      "id": "e078c746",
      "metadata": {},
      "outputs": [
        {
          "name": "stdout",
          "output_type": "stream",
          "text": [
            "Programming Concepts\n",
            "COM4008\n",
            "Programming Concepts\n",
            "COM4008\n",
            "nick\n",
            "Programming Concepts\n",
            "COM4008\n",
            "nick\n",
            "Emily\n"
          ]
        }
      ],
      "source": [
        "#Write your solution here"
      ]
    },
    {
      "cell_type": "markdown",
      "id": "f85dedf5",
      "metadata": {},
      "source": [
        "### Exercise 7\n",
        "\n",
        "Now modify the list of the students in Module, to a dictionary. The dictionary should store the student object as the 'key' and the student mark for the module as the 'value'. Test this new structure works by passing in students and their marks when you call ```add_student()```\n",
        "\n",
        "Extension: Can you now create some descriptive statistics for each module: the maximum mark, minimum mark, and mean (average)?"
      ]
    },
    {
      "cell_type": "code",
      "execution_count": 1,
      "id": "8ea7dad5",
      "metadata": {},
      "outputs": [],
      "source": [
        "#write your solution here"
      ]
    },
    {
      "cell_type": "markdown",
      "id": "2a013a70",
      "metadata": {},
      "source": [
        "### Exercise 8\n",
        "Make adjustments to the Course class from Python 03 Notebook to allow a Course to store a list of module objects. \n",
        "Create additional module objects and output their details."
      ]
    },
    {
      "cell_type": "code",
      "execution_count": 2,
      "id": "89872b11",
      "metadata": {},
      "outputs": [],
      "source": [
        "#write your solution here"
      ]
    },
    {
      "cell_type": "markdown",
      "id": "f62b3876",
      "metadata": {
        "id": "f62b3876"
      },
      "source": [
        "### Exercise 9:\n",
        "Write a function that will generate the multiplications of a number passed in. For example, if the value 5 is passed in, then generate the 5 times table. The values of the multiplication table should be stored in indivdiual elements (max 12) of a list. The list should be returned at the end of the function. \n"
      ]
    },
    {
      "cell_type": "code",
      "execution_count": 53,
      "id": "7111df18",
      "metadata": {},
      "outputs": [
        {
          "data": {
            "text/plain": [
              "[7, 14, 21, 28, 35, 42, 49, 56, 63, 70, 77, 84]"
            ]
          },
          "execution_count": 53,
          "metadata": {},
          "output_type": "execute_result"
        }
      ],
      "source": [
        "#write your solution here"
      ]
    },
    {
      "cell_type": "markdown",
      "id": "c76976fd",
      "metadata": {},
      "source": [
        "### Exercise 10:\n",
        "\n",
        "Write a function which will square any list of values passed into it. Test this works by passing in your list of numbers (1-10) you created in the first exericse.\n",
        "\n",
        "<b>Extension</b>: what happens if the values in a list are not ints or floats? How would you respond to this event?"
      ]
    },
    {
      "cell_type": "code",
      "execution_count": 60,
      "id": "7889352e",
      "metadata": {},
      "outputs": [
        {
          "data": {
            "text/plain": [
              "[1, 4, 9, 16, 25, 36]"
            ]
          },
          "execution_count": 60,
          "metadata": {},
          "output_type": "execute_result"
        }
      ],
      "source": [
        "#write your solution here"
      ]
    },
    {
      "cell_type": "markdown",
      "id": "5861f62c",
      "metadata": {},
      "source": [
        "### Bonus exercise (in the style of an interview question)\n",
        "\n",
        "You are given a list of integers, and your task is to find the longest subsequence of consecutive integers within the list. A subsequence is a sequence that can be derived from another sequence by deleting some or no elements without changing the order of the remaining elements. \n",
        "\n",
        "Write a Python function to solve this problem. Your function should return the longest consecutive subsequence found in the original list.\n",
        "\n",
        "For example, given the input list: ``` [4, 2, 8, 5, 6, 7, 11, 12, 10]```\n",
        "\n",
        "The longest consecutive subsequence is: ``` [4, 5, 6, 7, 8] ```\n"
      ]
    },
    {
      "cell_type": "code",
      "execution_count": 185,
      "id": "ddf7677c",
      "metadata": {
        "id": "ddf7677c"
      },
      "outputs": [
        {
          "name": "stdout",
          "output_type": "stream",
          "text": [
            "[4, 5, 6, 7, 8]\n"
          ]
        }
      ],
      "source": [
        "def longest_consecutive_subsequence(numbers):\n",
        "    #write your solution here\n",
        "    ...\n",
        "    #write your solution above\n",
        "\n",
        "\n",
        "numbers = [4, 2, 8, 5, 6, 7, 11, 12, 10]\n",
        "result = longest_consecutive_subsequence(numbers)\n",
        "print(result)  "
      ]
    }
  ],
  "metadata": {
    "colab": {
      "provenance": []
    },
    "kernelspec": {
      "display_name": "Python 3 (ipykernel)",
      "language": "python",
      "name": "python3"
    },
    "language_info": {
      "codemirror_mode": {
        "name": "ipython",
        "version": 3
      },
      "file_extension": ".py",
      "mimetype": "text/x-python",
      "name": "python",
      "nbconvert_exporter": "python",
      "pygments_lexer": "ipython3",
      "version": "3.9.6"
    }
  },
  "nbformat": 4,
  "nbformat_minor": 5
}
