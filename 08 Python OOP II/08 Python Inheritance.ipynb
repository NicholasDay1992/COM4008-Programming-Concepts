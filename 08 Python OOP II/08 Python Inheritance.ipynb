{
 "cells": [
  {
   "cell_type": "markdown",
   "id": "1eba3b72",
   "metadata": {
    "id": "1eba3b72"
   },
   "source": [
    "# 08 Python Object Oriented Programming II - Inheritance"
   ]
  },
  {
   "cell_type": "markdown",
   "id": "57bc8bf6",
   "metadata": {},
   "source": [
    "## Plan for the Lecture\n",
    "\n",
    "0. Recap on Classes and Objects\n",
    "\n",
    "1. Inheritance\n",
    "\n",
    "2. Encapsulation \n",
    "\n",
    "3. Polymorphism \n"
   ]
  },
  {
   "cell_type": "markdown",
   "id": "ceb02aaf",
   "metadata": {},
   "source": [
    "## 0. Recap on Classes and Objects\n",
    "\n",
    "* Classes act as a `blueprint` for objects instantiated of them\n",
    "\n",
    "* Objects are the unique instances of this class blueprint. "
   ]
  },
  {
   "cell_type": "code",
   "execution_count": 110,
   "id": "a8226438",
   "metadata": {},
   "outputs": [],
   "source": [
    "class Student: \n",
    "    pass"
   ]
  },
  {
   "cell_type": "markdown",
   "id": "8f8667c6",
   "metadata": {},
   "source": [
    "* To create an object we call the constructor - a method with the same name as the class:\n",
    "\n",
    "* The constructor returns a memory address for an object - we can store this."
   ]
  },
  {
   "cell_type": "code",
   "execution_count": 111,
   "id": "3337ce2c",
   "metadata": {},
   "outputs": [
    {
     "data": {
      "text/plain": [
       "<__main__.Student at 0x10d089cd0>"
      ]
     },
     "execution_count": 111,
     "metadata": {},
     "output_type": "execute_result"
    }
   ],
   "source": [
    "Student() # Constructor - same name as the class and is a method"
   ]
  },
  {
   "cell_type": "code",
   "execution_count": 112,
   "id": "5d8f047f",
   "metadata": {},
   "outputs": [
    {
     "name": "stdout",
     "output_type": "stream",
     "text": [
      "<__main__.Student object at 0x107fcec10>\n",
      "<__main__.Student object at 0x10d089a90>\n"
     ]
    }
   ],
   "source": [
    "nick_obj = Student() # store returned object memory address\n",
    "print(nick_obj)\n",
    "\n",
    "sam_obj = Student() # store returned object memory address\n",
    "print(sam_obj)"
   ]
  },
  {
   "cell_type": "markdown",
   "id": "e521d84d",
   "metadata": {},
   "source": [
    "* The constructor in Python is the `__init__()` method: "
   ]
  },
  {
   "cell_type": "code",
   "execution_count": 117,
   "id": "dbaedbec",
   "metadata": {},
   "outputs": [],
   "source": [
    "class Student: \n",
    "    def __init__(self):\n",
    "        print(\"Constructor method called\")\n",
    "    def Student(self):\n",
    "        print(\"in Student method\")"
   ]
  },
  {
   "cell_type": "code",
   "execution_count": 118,
   "id": "3e7d6aef",
   "metadata": {},
   "outputs": [
    {
     "name": "stdout",
     "output_type": "stream",
     "text": [
      "Constructor method called\n",
      "nick_obj mem addr: <__main__.Student object at 0x10d098490>\n",
      "Constructor method called\n",
      "sam_obj mem addr: <__main__.Student object at 0x10d088400>\n"
     ]
    }
   ],
   "source": [
    "nick_obj = Student() # one object\n",
    "print(\"nick_obj mem addr:\", nick_obj)\n",
    "\n",
    "sam_obj = Student() # another object!\n",
    "print(\"sam_obj mem addr:\", sam_obj)"
   ]
  },
  {
   "cell_type": "markdown",
   "id": "e9a028c5",
   "metadata": {},
   "source": [
    "* The `self` reference is a placeholder for the current object address at that point in code. \n",
    "\n",
    "* This allows us to reuse the methods in a class, to operate on any given object address."
   ]
  },
  {
   "cell_type": "code",
   "execution_count": 119,
   "id": "87ed79c2",
   "metadata": {},
   "outputs": [],
   "source": [
    "class Student: \n",
    "    def __init__(self):\n",
    "        print(\"self refers to\", self)"
   ]
  },
  {
   "cell_type": "code",
   "execution_count": 120,
   "id": "f490d3af",
   "metadata": {},
   "outputs": [
    {
     "name": "stdout",
     "output_type": "stream",
     "text": [
      "self refers to <__main__.Student object at 0x10d098550>\n",
      "nick_obj mem addr: <__main__.Student object at 0x10d098550>\n",
      "self refers to <__main__.Student object at 0x10d098490>\n",
      "sam_obj mem addr: <__main__.Student object at 0x10d098490>\n"
     ]
    }
   ],
   "source": [
    "nick_obj = Student() # one object\n",
    "print(\"nick_obj mem addr:\", nick_obj)\n",
    "\n",
    "sam_obj = Student() # another object!\n",
    "print(\"sam_obj mem addr:\", sam_obj)"
   ]
  },
  {
   "cell_type": "markdown",
   "id": "6681f4f7",
   "metadata": {},
   "source": [
    "* Classes define attributes and methods for an entity.\n",
    "\n",
    "* Objects can then provide unique values for the structure provided by classes."
   ]
  },
  {
   "cell_type": "code",
   "execution_count": 121,
   "id": "657f172d",
   "metadata": {},
   "outputs": [],
   "source": [
    "class Student:\n",
    "    def __init__(self, name, id):\n",
    "        self.name = name\n",
    "        self.id = id\n",
    "        \n",
    "    def print(self):\n",
    "        print(self.name)\n",
    "        print(self.id)"
   ]
  },
  {
   "cell_type": "code",
   "execution_count": 123,
   "id": "db6cf61c",
   "metadata": {},
   "outputs": [
    {
     "name": "stdout",
     "output_type": "stream",
     "text": [
      "Nick\n",
      "21345628\n"
     ]
    }
   ],
   "source": [
    "nick_obj = Student(\"Nick\", 21345628)\n",
    "nick_obj.print()"
   ]
  },
  {
   "cell_type": "code",
   "execution_count": 125,
   "id": "d3e6ebda",
   "metadata": {},
   "outputs": [
    {
     "name": "stdout",
     "output_type": "stream",
     "text": [
      "Sam\n",
      "29876543\n"
     ]
    }
   ],
   "source": [
    "sam_obj = Student(\"Sam\", 29876543)\n",
    "sam_obj.print()"
   ]
  },
  {
   "cell_type": "markdown",
   "id": "706c7807",
   "metadata": {},
   "source": [
    "* We can then go on to provide `setter` and `getter` functions for our Class attributes"
   ]
  },
  {
   "cell_type": "code",
   "execution_count": 130,
   "id": "3a1c7349",
   "metadata": {},
   "outputs": [],
   "source": [
    "class Student:\n",
    "    def __init__(self, name = \"\", id = 0): #notice here how we've provided 'default values' \n",
    "        self.name = name\n",
    "        self.id = id\n",
    "# SETTER METHODS:\n",
    "    def set_name(self, name):\n",
    "        self.name = name\n",
    "    \n",
    "    def set_id(self, id):\n",
    "        self.id = id\n",
    "# GETTER METHODS:    \n",
    "    def get_name(self):\n",
    "        return self.name\n",
    "    \n",
    "    def get_id(self):\n",
    "        return self.id\n",
    "    \n",
    "    def print(self):\n",
    "        print(self.name)\n",
    "        print(self.id)"
   ]
  },
  {
   "cell_type": "code",
   "execution_count": 131,
   "id": "d7cbcc75",
   "metadata": {},
   "outputs": [],
   "source": [
    "nick_obj = Student()"
   ]
  },
  {
   "cell_type": "markdown",
   "id": "2582c4cc",
   "metadata": {},
   "source": [
    "* We can then call the getters to return data to then print and format as we wish. "
   ]
  },
  {
   "cell_type": "code",
   "execution_count": 132,
   "id": "77489c8a",
   "metadata": {},
   "outputs": [
    {
     "name": "stdout",
     "output_type": "stream",
     "text": [
      "Nick 21345628\n"
     ]
    }
   ],
   "source": [
    "nick_obj = Student(\"Nick\", 21345628)\n",
    "print(nick_obj.get_name(), nick_obj.get_id() )"
   ]
  },
  {
   "cell_type": "markdown",
   "id": "4fd2f7d4",
   "metadata": {},
   "source": [
    "* Furthermore, if we've provided `default values` in the constructor (or we didn't know this data at object creation), we could `set` this data later via the `setter` methods."
   ]
  },
  {
   "cell_type": "code",
   "execution_count": 133,
   "id": "8da70f89",
   "metadata": {},
   "outputs": [],
   "source": [
    "nick_obj = Student()\n",
    "nick_obj.set_name(\"Nick\")\n",
    "nick_obj.set_id(21345628)"
   ]
  },
  {
   "cell_type": "markdown",
   "id": "5cb7add1",
   "metadata": {},
   "source": [
    "<img src=\"https://media.dev.to/cdn-cgi/image/width=800%2Cheight=%2Cfit=scale-down%2Cgravity=auto%2Cformat=auto/https%3A%2F%2Fdev-to-uploads.s3.amazonaws.com%2Fuploads%2Farticles%2Fbpcvpxpcdqnxqn53n3zf.png\" alt=\"class_entity\" width=\"650\"> "
   ]
  },
  {
   "cell_type": "markdown",
   "id": "8432eb7c",
   "metadata": {},
   "source": [
    "<img src=\"https://scaler.com/topics/images/What-is-class-768x659.webp\" alt=\"classes_objects2\" width=\"650\"> "
   ]
  },
  {
   "cell_type": "markdown",
   "id": "c34c3f11",
   "metadata": {},
   "source": [
    "## 1.0 OOP Pillars - Inheritance\n",
    "\n",
    "* Inheritance is one of four pilars of OOP \n",
    "\n",
    "* Encapsulation \n",
    "\n",
    "* Polymorphism \n",
    "\n",
    "* Abstraction \n",
    "\n",
    "<!--![OOP_Pillars](https://media2.dev.to/dynamic/image/width=1000,height=420,fit=cover,gravity=auto,format=auto/https%3A%2F%2Fdev-to-uploads.s3.amazonaws.com%2Fuploads%2Farticles%2Fjnjgfl10cn4tm9qlztv1.png)-->\n",
    "\n",
    "<!--![pillars_oop](https://lh7-rt.googleusercontent.com/docsz/AD_4nXfHNRu5SrGEUYIGPMnX-P_mI7cXunFZNoPqJ_PBeqspnze5PDKgQWwpkFhOleKcNHet5KCSwfc1a_HNdbIQYZsAIq2bqAQXlBLz5HvfJIdjIKjf9OjBrKXC8kRZS8z7Lie3joyhJg?key=NQuwChz9lRo4tw988XUOtw)-->\n",
    "\n",
    "<img src=\"https://lh7-rt.googleusercontent.com/docsz/AD_4nXfHNRu5SrGEUYIGPMnX-P_mI7cXunFZNoPqJ_PBeqspnze5PDKgQWwpkFhOleKcNHet5KCSwfc1a_HNdbIQYZsAIq2bqAQXlBLz5HvfJIdjIKjf9OjBrKXC8kRZS8z7Lie3joyhJg?key=NQuwChz9lRo4tw988XUOtw\" alt=\"pillars_OOP\" width=\"850\"> "
   ]
  },
  {
   "cell_type": "markdown",
   "id": "e0aeb8f7",
   "metadata": {},
   "source": [
    "## You've seen Inheritance before...\n",
    "\n",
    "* Remember our Exception Heirarchy?\n",
    "\n",
    "* Python 3 has around 70 dedicated Exception classes that are arranged in groups in a hierarchy of inheritance\n",
    "\n",
    "* These are sub-classes of (they inherit from) the base-class `BaseException`, similar to Java's hierarchy\n",
    "\n",
    "* Important categories are: `StandardError` `FileHandling` and `Warning` classes"
   ]
  },
  {
   "cell_type": "markdown",
   "id": "5b652292",
   "metadata": {},
   "source": [
    "![Python_exceptions](https://miro.medium.com/v2/resize:fit:745/0*v809W8GEKnvqM01c.jpg)"
   ]
  },
  {
   "cell_type": "code",
   "execution_count": 134,
   "id": "1df73677",
   "metadata": {},
   "outputs": [
    {
     "data": {
      "text/plain": [
       "['ArithmeticError',\n",
       " 'AssertionError',\n",
       " 'AttributeError',\n",
       " 'BaseException',\n",
       " 'BlockingIOError',\n",
       " 'BrokenPipeError',\n",
       " 'BufferError',\n",
       " 'BytesWarning',\n",
       " 'ChildProcessError',\n",
       " 'ConnectionAbortedError',\n",
       " 'ConnectionError',\n",
       " 'ConnectionRefusedError',\n",
       " 'ConnectionResetError',\n",
       " 'DeprecationWarning',\n",
       " 'EOFError',\n",
       " 'EnvironmentError',\n",
       " 'Exception',\n",
       " 'FileExistsError',\n",
       " 'FileNotFoundError',\n",
       " 'FloatingPointError',\n",
       " 'FutureWarning',\n",
       " 'GeneratorExit',\n",
       " 'IOError',\n",
       " 'ImportError',\n",
       " 'ImportWarning',\n",
       " 'IndentationError',\n",
       " 'IndexError',\n",
       " 'InterruptedError',\n",
       " 'IsADirectoryError',\n",
       " 'KeyError',\n",
       " 'KeyboardInterrupt',\n",
       " 'LookupError',\n",
       " 'MemoryError',\n",
       " 'ModuleNotFoundError',\n",
       " 'NameError',\n",
       " 'NotADirectoryError',\n",
       " 'NotImplementedError',\n",
       " 'OSError',\n",
       " 'OverflowError',\n",
       " 'PendingDeprecationWarning',\n",
       " 'PermissionError',\n",
       " 'ProcessLookupError',\n",
       " 'RecursionError',\n",
       " 'ReferenceError',\n",
       " 'ResourceWarning',\n",
       " 'RuntimeError',\n",
       " 'RuntimeWarning',\n",
       " 'StopAsyncIteration',\n",
       " 'StopIteration',\n",
       " 'SyntaxError',\n",
       " 'SyntaxWarning',\n",
       " 'SystemError',\n",
       " 'SystemExit',\n",
       " 'TabError',\n",
       " 'TimeoutError',\n",
       " 'TypeError',\n",
       " 'UnboundLocalError',\n",
       " 'UnicodeDecodeError',\n",
       " 'UnicodeEncodeError',\n",
       " 'UnicodeError',\n",
       " 'UnicodeTranslateError',\n",
       " 'UnicodeWarning',\n",
       " 'UserWarning',\n",
       " 'ValueError',\n",
       " 'Warning',\n",
       " 'ZeroDivisionError']"
      ]
     },
     "execution_count": 134,
     "metadata": {},
     "output_type": "execute_result"
    }
   ],
   "source": [
    "import builtins\n",
    "\n",
    "exceptions = [e for e in dir(builtins) if isinstance(getattr(builtins, e), type) and issubclass(getattr(builtins, e), BaseException)]\n",
    "# print(len(exceptions))  # To get the total number\n",
    "exceptions       # To see all the names"
   ]
  },
  {
   "cell_type": "markdown",
   "id": "1ed62f96",
   "metadata": {},
   "source": [
    "## 1.1 Inheritance in Python\n",
    "\n",
    "* Inheritance is one of the pillars of OOP.\n",
    "\n",
    "* In our social world; inheritance means the passing down of assets from generation to generation; children inherit from their parents.\n",
    "\n",
    "* In programming, inheritance is modelled by allowing 'child' classes to access variables and methods from the 'parent' class.\n",
    "\n",
    "* Furthermore, Children classes often extend (are specialist versions of) the Parent classes. \n",
    "\n",
    "* Inheritance is known as a <b>'is a'</b> relationship\n",
    "    * A ‘dog’ <b>is a</b> ‘mammal’, \n",
    "    * A ‘janitor’ <b>is an</b> ‘employee’ \n",
    "    * A ‘ford focus’ <b>is a</b> ‘ford car’\n",
    "\n"
   ]
  },
  {
   "cell_type": "markdown",
   "id": "268cc1a1",
   "metadata": {},
   "source": [
    "<img src=\"https://www.oreilly.com/api/v2/epubs/urn:orm:book:9781786463593/files/assets/ba825a8f-bf4e-4f82-9846-feb9c5df8d27.jpg\" alt=\"uml_inheritance_vehicles\" width=\"850\"> \n",
    "\n",
    "<!--![uml_inheritance_](https://www.oreilly.com/api/v2/epubs/urn:orm:book:9781786463593/files/assets/ba825a8f-bf4e-4f82-9846-feb9c5df8d27.jpg)-->\n",
    "\n",
    "<!--![uml_inheritance](https://www.cs.sjsu.edu/~pearce/modules/lectures/uml/class/Generalization_files/image008.jpg)-->"
   ]
  },
  {
   "cell_type": "markdown",
   "id": "1c99378f",
   "metadata": {},
   "source": [
    "* Java uses the key word `extends`:  \n",
    "  `ChildClass extends ParentClass`\n",
    "* C family languages use the `:` (colon) operator:   \n",
    "  `ChildClass : ParentClass`\n",
    "\n",
    "* In Python, we have to pass the Parent reference to the Child class.   \n",
    "   `ChildClass(ParentClass)`\n"
   ]
  },
  {
   "cell_type": "code",
   "execution_count": 138,
   "id": "02caa347",
   "metadata": {},
   "outputs": [],
   "source": [
    "class Parent:\n",
    "    def print(self):\n",
    "        print(\"Hi from Parent Class\") "
   ]
  },
  {
   "cell_type": "code",
   "execution_count": 139,
   "id": "6ee18d82",
   "metadata": {},
   "outputs": [],
   "source": [
    "class Child(Parent):\n",
    "    def print(self):\n",
    "        print(\"Hi from Child Class\") \n"
   ]
  },
  {
   "cell_type": "code",
   "execution_count": 140,
   "id": "f0a18b45",
   "metadata": {},
   "outputs": [
    {
     "name": "stdout",
     "output_type": "stream",
     "text": [
      "Hi from Child Class\n"
     ]
    }
   ],
   "source": [
    "child_obj = Child()\n",
    "child_obj.print()"
   ]
  },
  {
   "cell_type": "code",
   "execution_count": 66,
   "id": "36760262",
   "metadata": {},
   "outputs": [
    {
     "name": "stdout",
     "output_type": "stream",
     "text": [
      "Hi from Child Class\n"
     ]
    }
   ],
   "source": [
    "child_obj = Child() # call constructor\n",
    "child_obj.print() "
   ]
  },
  {
   "cell_type": "code",
   "execution_count": 67,
   "id": "07c00866",
   "metadata": {},
   "outputs": [
    {
     "name": "stdout",
     "output_type": "stream",
     "text": [
      "Hi from Parent Class\n"
     ]
    }
   ],
   "source": [
    "parent_obj = Parent()\n",
    "parent_obj.print()"
   ]
  },
  {
   "cell_type": "markdown",
   "id": "e0a51e5f",
   "metadata": {},
   "source": [
    "## 1.2 The `super()` reference\n",
    "\n",
    "* We’ve used the keyword `self` within class constructors to refer to variables of any given object that is created. \n",
    "\n",
    "* In an inheritance hierarchy, the child constructor may want to invoke the parent constructor to initialise values for inherited attributes. \n",
    "\n",
    "* The `super()` is a reference to the parent’s constructor. Actually gives us back a `proxy object` of the parent class which we can use to get access to parent's attributes and methods. \n",
    "\n",
    "* You can also refer to attributes and functions through the `super()` reference.\n"
   ]
  },
  {
   "cell_type": "code",
   "execution_count": 149,
   "id": "934a9260",
   "metadata": {},
   "outputs": [],
   "source": [
    "class Parent:\n",
    "    def print(self):\n",
    "        print(\"Hi from Parent Class\") "
   ]
  },
  {
   "cell_type": "code",
   "execution_count": 150,
   "id": "ad42a85a",
   "metadata": {},
   "outputs": [],
   "source": [
    "class Child(Parent):\n",
    "    def print(self):\n",
    "        super().print()\n",
    "        print(\"add specific details from Child\")"
   ]
  },
  {
   "cell_type": "code",
   "execution_count": 151,
   "id": "91b3e841",
   "metadata": {},
   "outputs": [
    {
     "name": "stdout",
     "output_type": "stream",
     "text": [
      "Hi from Parent Class\n",
      "add specific details from Child\n"
     ]
    }
   ],
   "source": [
    "child_obj = Child() # call constructor\n",
    "child_obj.print() "
   ]
  },
  {
   "cell_type": "markdown",
   "id": "6db9b37f",
   "metadata": {},
   "source": [
    "* A call to the `super()` returns a `proxy object` — an instance of the built-in super type. \n",
    "\n",
    "* The `proxy object` returned gives you access to the next class in the `method resolution order (MRO)`.\n",
    "\n",
    "* That means the `super object` lets you call methods (or access attributes) from the parent class, but in a controlled way that respects inheritance hierarchies."
   ]
  },
  {
   "cell_type": "code",
   "execution_count": 152,
   "id": "3c7fc8a6",
   "metadata": {},
   "outputs": [],
   "source": [
    "class Child(Parent):\n",
    "    def __init__(self):\n",
    "        print(\"self:\", self)\n",
    "        print(\"super:\", super()) # notice how this wraps around the child object\n",
    "        print(\"super proxy obj:\", hex(id(super().__thisclass__))) # mem addr of the super/parent proxy obj\n",
    "        print(\"super proxy obj\", hex(id(super().__thisclass__)), \"wraps around the child object: \", super().__repr__())"
   ]
  },
  {
   "cell_type": "code",
   "execution_count": 153,
   "id": "efc2d9e6",
   "metadata": {},
   "outputs": [
    {
     "name": "stdout",
     "output_type": "stream",
     "text": [
      "self: <__main__.Child object at 0x107f9f1c0>\n",
      "super: <super: <class 'Child'>, <Child object>>\n",
      "super proxy obj: 0x107d0ac20\n",
      "super proxy obj 0x107d0ac20 wraps around the child object:  <__main__.Child object at 0x107f9f1c0>\n"
     ]
    }
   ],
   "source": [
    "child_obj = Child() # call constructor"
   ]
  },
  {
   "cell_type": "markdown",
   "id": "a0a7da87",
   "metadata": {},
   "source": [
    "## 1.3 Inheritance Extension"
   ]
  },
  {
   "cell_type": "code",
   "execution_count": 156,
   "id": "608b60ea",
   "metadata": {},
   "outputs": [],
   "source": [
    "class Person: \n",
    "    def __init__(self, name):\n",
    "        self.name = name"
   ]
  },
  {
   "cell_type": "code",
   "execution_count": 157,
   "id": "b79a47b1",
   "metadata": {},
   "outputs": [],
   "source": [
    "class Student(Person):\n",
    "    def __init__(self, name):\n",
    "        #self.name = name\n",
    "        super().__init__(name)"
   ]
  },
  {
   "cell_type": "code",
   "execution_count": 159,
   "id": "095704f6",
   "metadata": {},
   "outputs": [
    {
     "name": "stdout",
     "output_type": "stream",
     "text": [
      "Sam\n",
      "<class '__main__.Student'>\n"
     ]
    }
   ],
   "source": [
    "sam_obj = Student(\"Sam\") \n",
    "print(sam_obj.name) \n",
    "print(type(sam_obj))"
   ]
  },
  {
   "cell_type": "code",
   "execution_count": 163,
   "id": "975dd0d5",
   "metadata": {},
   "outputs": [],
   "source": [
    "class Staff(Person):\n",
    "    def __init__(self, name):\n",
    "        super().__init__(name)"
   ]
  },
  {
   "cell_type": "code",
   "execution_count": 162,
   "id": "7b50e499",
   "metadata": {},
   "outputs": [
    {
     "name": "stdout",
     "output_type": "stream",
     "text": [
      "Nick\n",
      "<class '__main__.Staff'>\n"
     ]
    }
   ],
   "source": [
    "nick_obj = Staff(\"Nick\")\n",
    "print(nick_obj.name)\n",
    "print(type(nick_obj))"
   ]
  },
  {
   "cell_type": "markdown",
   "id": "cb8dc33f",
   "metadata": {},
   "source": [
    "Whilst staff and students will have other common attributes (which we could add to the `Person` class): \n",
    "* First and last name \n",
    "\n",
    "* An ID number of the University\n",
    "\n",
    "* Both assigned to modules\n",
    "\n",
    "* Have a printing balance\n",
    "\n",
    "* A library account\n",
    "\n",
    "Let's focus on somethiing unique to each, so we can demonstrate specialism: \n",
    "\n",
    "* Students have an overall grade for their degree (+ individual marks for each module)\n",
    "\n",
    "* Staff attend meetings (a behaviour / method). They also have objectives set in their PDRs (an attribute)"
   ]
  },
  {
   "cell_type": "markdown",
   "id": "8aa49408",
   "metadata": {},
   "source": [
    "So let's add a `mark` attribute which is unique to the `Student` class:"
   ]
  },
  {
   "cell_type": "code",
   "execution_count": 166,
   "id": "6aef4b37",
   "metadata": {},
   "outputs": [],
   "source": [
    "class Student(Person):\n",
    "    def __init__(self, name, mark):\n",
    "        super().__init__(name) # common to both Student and Staff therefore stored in Person.\n",
    "        self.mark = mark # unique to Student therefore stored in self here.\n",
    "    \n",
    "    def get_mark(self):\n",
    "        print(self.mark)"
   ]
  },
  {
   "cell_type": "markdown",
   "id": "afc51f20",
   "metadata": {},
   "source": [
    "And let's add an `objective` attribute which is unqiue to the `Staff` class"
   ]
  },
  {
   "cell_type": "code",
   "execution_count": 167,
   "id": "bc3b0f8e",
   "metadata": {},
   "outputs": [],
   "source": [
    "class Staff(Person):\n",
    "    def __init__(self, name, objective):\n",
    "        super().__init__(name) # common to both Student and Staff therefore stored in Person.\n",
    "        self.objective = objective # unique to Staff therefore stored in self here.\n",
    "        \n",
    "    def get_objective(self):\n",
    "        print(self.objective)"
   ]
  },
  {
   "cell_type": "code",
   "execution_count": 168,
   "id": "2b757fd8",
   "metadata": {},
   "outputs": [
    {
     "name": "stdout",
     "output_type": "stream",
     "text": [
      "Nick\n",
      "Write a blended Computer Science Curriculum\n",
      "<class '__main__.Staff'>\n"
     ]
    }
   ],
   "source": [
    "nick_obj = Staff(\"Nick\", \"Write a blended Computer Science Curriculum\")\n",
    "print(nick_obj.name)\n",
    "nick_obj.get_objective()\n",
    "print(type(nick_obj))"
   ]
  },
  {
   "cell_type": "code",
   "execution_count": 169,
   "id": "2d3aabbb",
   "metadata": {},
   "outputs": [
    {
     "name": "stdout",
     "output_type": "stream",
     "text": [
      "Sam\n",
      "75\n",
      "<class '__main__.Student'>\n"
     ]
    }
   ],
   "source": [
    "sam_obj = Student(\"Sam\", 75)\n",
    "print(sam_obj.name)\n",
    "sam_obj.get_mark()\n",
    "print(type(sam_obj))"
   ]
  },
  {
   "cell_type": "markdown",
   "id": "25d207c4",
   "metadata": {},
   "source": [
    "Finally, for convenience, let's create a print method for each of the entities"
   ]
  },
  {
   "cell_type": "code",
   "execution_count": 170,
   "id": "177fe959",
   "metadata": {},
   "outputs": [],
   "source": [
    "class Person: \n",
    "    def __init__(self, name):\n",
    "        self.name = name\n",
    "        \n",
    "    def get_name(self):\n",
    "        return self.name"
   ]
  },
  {
   "cell_type": "code",
   "execution_count": 172,
   "id": "75131a66",
   "metadata": {},
   "outputs": [],
   "source": [
    "class Student(Person):\n",
    "    def __init__(self, name, mark):\n",
    "        super().__init__(name)\n",
    "        self.mark = mark\n",
    "    \n",
    "    def get_mark(self):\n",
    "        print(self.mark)\n",
    "        \n",
    "    def print(self):\n",
    "        \"\"\" Unique print method for Student attributes \"\"\"\n",
    "        print(super().get_name(), \"is a\", type(self))\n",
    "        print(\"Mark:\", self.mark)"
   ]
  },
  {
   "cell_type": "code",
   "execution_count": 173,
   "id": "860202f1",
   "metadata": {},
   "outputs": [],
   "source": [
    "class Staff(Person):\n",
    "    def __init__(self, name, objective):\n",
    "        super().__init__(name)\n",
    "        self.objective = objective\n",
    "        \n",
    "    def get_objective(self):\n",
    "        print(self.objective)\n",
    "        \n",
    "    def print(self): \n",
    "        \"\"\" Unique print method for Staff attributes \"\"\"\n",
    "        print(super().get_name(), \"is a\", type(self))\n",
    "        print(\"Objective:\", self.objective)\n",
    "        "
   ]
  },
  {
   "cell_type": "code",
   "execution_count": 174,
   "id": "93ba0da8",
   "metadata": {},
   "outputs": [
    {
     "name": "stdout",
     "output_type": "stream",
     "text": [
      "Nick is a <class '__main__.Staff'>\n",
      "Objective: Write a blended Computer Science Curriculum\n"
     ]
    }
   ],
   "source": [
    "nick_obj = Staff(\"Nick\", \"Write a blended Computer Science Curriculum\")\n",
    "nick_obj.print()"
   ]
  },
  {
   "cell_type": "code",
   "execution_count": 175,
   "id": "b08284e4",
   "metadata": {},
   "outputs": [
    {
     "name": "stdout",
     "output_type": "stream",
     "text": [
      "Sam is a <class '__main__.Student'>\n",
      "Mark: 75\n"
     ]
    }
   ],
   "source": [
    "sam_obj = Student(\"Sam\", 75)\n",
    "sam_obj.print()"
   ]
  },
  {
   "cell_type": "markdown",
   "id": "1fe7ddbc",
   "metadata": {},
   "source": [
    "So what we have here are the same data, but custom print methods each each child class `Student` and `Staff` that prints the relevant attribute data."
   ]
  },
  {
   "cell_type": "markdown",
   "id": "ebd2bec5",
   "metadata": {},
   "source": [
    "## Writing our own custom Exception classes\n",
    "\n",
    "* Whilst there are many (nearly 70) named `Exception` classes in Python, you may want to define your own Exception classes that are unique to your program. \n",
    "\n",
    "* Our custom Exception classes will need to inherit from the class `Exception`"
   ]
  },
  {
   "cell_type": "code",
   "execution_count": 177,
   "id": "fb5de4d2",
   "metadata": {},
   "outputs": [],
   "source": [
    "class NegativeNumberError(Exception):\n",
    "    pass"
   ]
  },
  {
   "cell_type": "code",
   "execution_count": 176,
   "id": "e23a5d2c",
   "metadata": {},
   "outputs": [],
   "source": [
    "def square_root(x):\n",
    "    if x < 0:\n",
    "        raise NegativeNumberError(\"Cannot take square root of a negative number.\")\n",
    "    return x ** 0.5"
   ]
  },
  {
   "cell_type": "code",
   "execution_count": 178,
   "id": "5d598284",
   "metadata": {},
   "outputs": [
    {
     "ename": "NegativeNumberError",
     "evalue": "Cannot take square root of a negative number.",
     "output_type": "error",
     "traceback": [
      "\u001b[0;31m---------------------------------------------------------------------------\u001b[0m",
      "\u001b[0;31mNegativeNumberError\u001b[0m                       Traceback (most recent call last)",
      "Cell \u001b[0;32mIn [178], line 1\u001b[0m\n\u001b[0;32m----> 1\u001b[0m square_root(\u001b[38;5;241m-\u001b[39m\u001b[38;5;241m4\u001b[39m)\n",
      "Cell \u001b[0;32mIn [176], line 3\u001b[0m, in \u001b[0;36msquare_root\u001b[0;34m(x)\u001b[0m\n\u001b[1;32m      1\u001b[0m \u001b[38;5;28;01mdef\u001b[39;00m \u001b[38;5;21msquare_root\u001b[39m(x):\n\u001b[1;32m      2\u001b[0m     \u001b[38;5;28;01mif\u001b[39;00m x \u001b[38;5;241m<\u001b[39m \u001b[38;5;241m0\u001b[39m:\n\u001b[0;32m----> 3\u001b[0m         \u001b[38;5;28;01mraise\u001b[39;00m NegativeNumberError(\u001b[38;5;124m\"\u001b[39m\u001b[38;5;124mCannot take square root of a negative number.\u001b[39m\u001b[38;5;124m\"\u001b[39m)\n\u001b[1;32m      4\u001b[0m     \u001b[38;5;28;01mreturn\u001b[39;00m x \u001b[38;5;241m*\u001b[39m\u001b[38;5;241m*\u001b[39m \u001b[38;5;241m0.5\u001b[39m\n",
      "\u001b[0;31mNegativeNumberError\u001b[0m: Cannot take square root of a negative number."
     ]
    }
   ],
   "source": [
    "square_root(-4) "
   ]
  },
  {
   "cell_type": "markdown",
   "id": "f2c905bb",
   "metadata": {},
   "source": [
    "### Another example of a custom Exception class"
   ]
  },
  {
   "cell_type": "code",
   "execution_count": 179,
   "id": "108ed490",
   "metadata": {},
   "outputs": [],
   "source": [
    "class InvalidMarkError(Exception):\n",
    "    \"\"\"Raised when a mark is not an integer between 0 and 100.\"\"\"\n",
    "    def __init__(self, mark, message=\"Mark must be an integer between 0 and 100.\"):\n",
    "        self.mark = mark\n",
    "        self.message = message\n",
    "        super().__init__(f\"{message} Got: {mark}\")"
   ]
  },
  {
   "cell_type": "code",
   "execution_count": 180,
   "id": "3c946bb7",
   "metadata": {},
   "outputs": [
    {
     "ename": "InvalidMarkError",
     "evalue": "Mark must be an integer between 0 and 100. Got: -1",
     "output_type": "error",
     "traceback": [
      "\u001b[0;31m---------------------------------------------------------------------------\u001b[0m",
      "\u001b[0;31mInvalidMarkError\u001b[0m                          Traceback (most recent call last)",
      "Cell \u001b[0;32mIn [180], line 1\u001b[0m\n\u001b[0;32m----> 1\u001b[0m \u001b[38;5;28;01mraise\u001b[39;00m InvalidMarkError(\u001b[38;5;241m-\u001b[39m\u001b[38;5;241m1\u001b[39m)\n",
      "\u001b[0;31mInvalidMarkError\u001b[0m: Mark must be an integer between 0 and 100. Got: -1"
     ]
    }
   ],
   "source": [
    "raise InvalidMarkError(-1)"
   ]
  },
  {
   "cell_type": "code",
   "execution_count": 181,
   "id": "85606856",
   "metadata": {},
   "outputs": [
    {
     "ename": "InvalidMarkError",
     "evalue": "Mark must be an integer between 0 and 100. Got: 101",
     "output_type": "error",
     "traceback": [
      "\u001b[0;31m---------------------------------------------------------------------------\u001b[0m",
      "\u001b[0;31mInvalidMarkError\u001b[0m                          Traceback (most recent call last)",
      "Cell \u001b[0;32mIn [181], line 1\u001b[0m\n\u001b[0;32m----> 1\u001b[0m \u001b[38;5;28;01mraise\u001b[39;00m InvalidMarkError(\u001b[38;5;241m101\u001b[39m)\n",
      "\u001b[0;31mInvalidMarkError\u001b[0m: Mark must be an integer between 0 and 100. Got: 101"
     ]
    }
   ],
   "source": [
    "raise InvalidMarkError(101)"
   ]
  },
  {
   "cell_type": "code",
   "execution_count": 182,
   "id": "39fe7558",
   "metadata": {},
   "outputs": [],
   "source": [
    "class InvalidMarkError(Exception):\n",
    "    \"\"\"Raised when a mark is not an integer between 0 and 100.\"\"\"\n",
    "    def __init__(self, mark, message=\"Mark must be an integer between 0 and 100.\"):\n",
    "        self.mark = mark\n",
    "        self.message = message\n",
    "        super().__init__(f\"{message} Got: {mark}\")\n",
    "        print(super().args) # let's have a look at the arguments passed to Exception\n",
    "        print(super().__cause__) # let's browse some more data in the base class\n",
    "        print(super().__str__) # let's browse some more data in the base class"
   ]
  },
  {
   "cell_type": "code",
   "execution_count": 183,
   "id": "d058a1a3",
   "metadata": {},
   "outputs": [
    {
     "name": "stdout",
     "output_type": "stream",
     "text": [
      "('Mark must be an integer between 0 and 100. Got: 101',)\n",
      "None\n",
      "<method-wrapper '__str__' of InvalidMarkError object at 0x10daa7940>\n"
     ]
    },
    {
     "ename": "InvalidMarkError",
     "evalue": "Mark must be an integer between 0 and 100. Got: 101",
     "output_type": "error",
     "traceback": [
      "\u001b[0;31m---------------------------------------------------------------------------\u001b[0m",
      "\u001b[0;31mInvalidMarkError\u001b[0m                          Traceback (most recent call last)",
      "Cell \u001b[0;32mIn [183], line 1\u001b[0m\n\u001b[0;32m----> 1\u001b[0m \u001b[38;5;28;01mraise\u001b[39;00m InvalidMarkError(\u001b[38;5;241m101\u001b[39m)\n",
      "\u001b[0;31mInvalidMarkError\u001b[0m: Mark must be an integer between 0 and 100. Got: 101"
     ]
    }
   ],
   "source": [
    "raise InvalidMarkError(101)"
   ]
  },
  {
   "cell_type": "markdown",
   "id": "a8eecb93",
   "metadata": {},
   "source": [
    "## 2.0 Encapsulation (and Abstraction)\n",
    "\n",
    "* OOP also specifies other key 'pillars' - encapsulation and polymorphism \n",
    "\n",
    "* Encapsulation means <b>bundling data (attributes) and methods (functions) that operate on that data together</b>, while restricting direct access to the internal details of an object.\n",
    "\n",
    "* The idea is that we use public interfaces (functions/methods) which control access to private data.\n",
    "\n",
    "* Think of APIs (interfaces) which control access to an organisation's data. They certainly do not provide complete access to the internals of an organisation. \n"
   ]
  },
  {
   "cell_type": "markdown",
   "id": "7ee8d749",
   "metadata": {},
   "source": [
    "## 2.1 Access Modifiers: Public vs Private vs Protected\n",
    "\n",
    "* In programming languages such as C++ and Java, encapsulation is typically implemented through <b>access modifiers </b>:\n",
    "\n",
    "* <b> private </b> is used to prevent access from outside the class. Normally class variables are defined as private e.g. `private String name;` Private attributes are notated by the `-` symbol in UML diagrams. \n",
    "\n",
    "* <b> public </b> is used to make a method available to the world outside the class e.g. `public void inputData()`. Public methods are notated by the `+` symbol in UML diagrams.\n",
    "\n",
    "* <b> protected </b> keeps the data of parent private (classes outside of the inheritance hierarchy cannot access it), but will be public to the child (it’s kept within the family). Sometimes notated by the `#` symbol in UML diagrams.\n",
    "\n",
    "![uml_diagram_](https://cdn-images.visual-paradigm.com/guide/uml/uml-class-diagram-tutorial/04-class-attributes-with-different-visibility.png)\n"
   ]
  },
  {
   "cell_type": "markdown",
   "id": "70efe5cb",
   "metadata": {},
   "source": [
    "## 2.2 Access Modifiers support Abstraction \n",
    "\n",
    "* <b>Access modifiers support abstraction </b> indirectly by helping hide non-essential implementation details\n",
    "\n",
    "* Simplifying complexity by exposing only essential features (e.g., using interfaces or high-level methods)\n",
    "\n",
    "* Access modifiers implement encapsulation, and encapsulation enables abstraction.\n",
    "\n",
    "* Encapsulation is about putting data and behavior together.\n",
    "\n",
    "* Information hiding is about controlling what outsiders can see or change.\n"
   ]
  },
  {
   "cell_type": "markdown",
   "id": "0bf6b8a4",
   "metadata": {},
   "source": [
    "## 2.3 Python's approach to Encapsulation\n",
    "\n",
    "* <b>Python’s approach to encapsulation is quite different </b> from languages like Java or C++.\n",
    "\n",
    "* Python doesn't use keywords such as `public`, `private` and `protected` that other languages would. \n",
    "\n",
    "* <b>Python doesn’t enforce strict access control — instead, it relies on convention and name mangling.</b>"
   ]
  },
  {
   "cell_type": "code",
   "execution_count": 184,
   "id": "174166d3",
   "metadata": {},
   "outputs": [],
   "source": [
    "class Student:\n",
    "    def __init__(self, name):\n",
    "        self.name = name  # public"
   ]
  },
  {
   "cell_type": "code",
   "execution_count": 185,
   "id": "f9991591",
   "metadata": {},
   "outputs": [
    {
     "name": "stdout",
     "output_type": "stream",
     "text": [
      "Nick\n"
     ]
    }
   ],
   "source": [
    "nick = Student(\"Nick\")\n",
    "print(nick.name)"
   ]
  },
  {
   "cell_type": "markdown",
   "id": "72b0461f",
   "metadata": {},
   "source": [
    "### Internal attributes"
   ]
  },
  {
   "cell_type": "markdown",
   "id": "a3f8f3cf",
   "metadata": {},
   "source": [
    "* A single leading underscore `_attribute` signals that it’s intended for <b>internal use</b> \n",
    "\n",
    "* However, this is <b>not enforced</b> by Python - this is a convention"
   ]
  },
  {
   "cell_type": "code",
   "execution_count": 101,
   "id": "278d1771",
   "metadata": {},
   "outputs": [],
   "source": [
    "class Student:\n",
    "    def __init__(self, name):\n",
    "        self._name = name  # protected (by convention)"
   ]
  },
  {
   "cell_type": "code",
   "execution_count": 102,
   "id": "1bc493c6",
   "metadata": {},
   "outputs": [
    {
     "name": "stdout",
     "output_type": "stream",
     "text": [
      "Nick\n"
     ]
    }
   ],
   "source": [
    "nick = Student(\"Nick\")\n",
    "print(nick._name)"
   ]
  },
  {
   "cell_type": "markdown",
   "id": "7c2b7953",
   "metadata": {},
   "source": [
    "* We can still access this `_name` internal attribute - it's still public...\n",
    "\n",
    "* Like naming convention for constants (e.g.`MAX`) - Python uses convention to signal, not to enforce."
   ]
  },
  {
   "cell_type": "markdown",
   "id": "48d7ff69",
   "metadata": {},
   "source": [
    "### Name mangling"
   ]
  },
  {
   "cell_type": "markdown",
   "id": "fcc520f6",
   "metadata": {},
   "source": [
    "* A double leading underscore `__attribute` triggers <b>name mangling</b>.\n",
    "\n",
    "* Python changes the attribute name internally to `_ClassName__attribute`, which makes accidental access harder.\n",
    "\n",
    "* So `__name` is internally stored as `_Student__name`."
   ]
  },
  {
   "cell_type": "code",
   "execution_count": 186,
   "id": "cd20ca47",
   "metadata": {},
   "outputs": [],
   "source": [
    "class Student:\n",
    "    def __init__(self, name):\n",
    "        self.__name = name  # private (via name mangling)\n"
   ]
  },
  {
   "cell_type": "code",
   "execution_count": 187,
   "id": "f2ea41c9",
   "metadata": {},
   "outputs": [
    {
     "ename": "AttributeError",
     "evalue": "'Student' object has no attribute '__name'",
     "output_type": "error",
     "traceback": [
      "\u001b[0;31m---------------------------------------------------------------------------\u001b[0m",
      "\u001b[0;31mAttributeError\u001b[0m                            Traceback (most recent call last)",
      "Cell \u001b[0;32mIn [187], line 2\u001b[0m\n\u001b[1;32m      1\u001b[0m p \u001b[38;5;241m=\u001b[39m Student(\u001b[38;5;124m\"\u001b[39m\u001b[38;5;124mNick\u001b[39m\u001b[38;5;124m\"\u001b[39m)\n\u001b[0;32m----> 2\u001b[0m \u001b[38;5;28mprint\u001b[39m(p\u001b[38;5;241m.\u001b[39m__name)\n",
      "\u001b[0;31mAttributeError\u001b[0m: 'Student' object has no attribute '__name'"
     ]
    }
   ],
   "source": [
    "p = Student(\"Nick\")\n",
    "print(p.__name) # AttributeError"
   ]
  },
  {
   "cell_type": "markdown",
   "id": "b59869bd",
   "metadata": {},
   "source": [
    "* However, you can prepend the class name: `_Student__name` to get access to the attribute data.\n",
    "\n",
    "* This isn’t true privacy — just a safeguard against accidental name collisions."
   ]
  },
  {
   "cell_type": "code",
   "execution_count": 188,
   "id": "8bc521a4",
   "metadata": {},
   "outputs": [
    {
     "name": "stdout",
     "output_type": "stream",
     "text": [
      "Nick\n"
     ]
    }
   ],
   "source": [
    "print(p._Student__name)"
   ]
  },
  {
   "cell_type": "markdown",
   "id": "547650d0",
   "metadata": {},
   "source": [
    "### Getter and Setter methods\n",
    "\n",
    "* You can control attribute access using `property decorators`:\n",
    "\n",
    "* Here we're controlling access and changes through decorator methods - interfaces...\n",
    "\n",
    "* This gives you controlled access — the core goal of encapsulation."
   ]
  },
  {
   "cell_type": "code",
   "execution_count": 119,
   "id": "e16f0f2d",
   "metadata": {},
   "outputs": [],
   "source": [
    "class Student:\n",
    "    def __init__(self, name):\n",
    "        self.__name = name\n",
    "\n",
    "    @property\n",
    "    def name(self):\n",
    "        return self.__name\n",
    "\n",
    "    @name.setter\n",
    "    def name(self, value):\n",
    "        if not value: # exception handling\n",
    "            raise ValueError(\"Name cannot be empty\")\n",
    "        self.__name = value"
   ]
  },
  {
   "cell_type": "code",
   "execution_count": 120,
   "id": "e9d72a1d",
   "metadata": {},
   "outputs": [
    {
     "name": "stdout",
     "output_type": "stream",
     "text": [
      "Nick\n",
      "Bob\n"
     ]
    }
   ],
   "source": [
    "nick = Student(\"Nick\")\n",
    "print(nick.name) # uses getter\n",
    "nick.name = \"Bob\" # uses setter\n",
    "print(nick.name) # uses getter"
   ]
  },
  {
   "cell_type": "markdown",
   "id": "15e0fe22",
   "metadata": {},
   "source": [
    "* Here we're controlling access and changes through decorator methods - interfaces...\n",
    "\n",
    "* This gives you controlled access — the core goal of encapsulation."
   ]
  },
  {
   "cell_type": "markdown",
   "id": "ceecceb0",
   "metadata": {},
   "source": [
    "## 3.0 Polymorphism \n",
    "\n",
    "* Like inheritance and encapsulation, polymorphism is another of the OOP pillars\n",
    "\n",
    "* 'poly' = many\n",
    "\n",
    "* 'morph' = form \n",
    "\n",
    "* Therefore, polymorphism literally means <i>many forms</i>.\n",
    "\n",
    "* In object-oriented programming (OOP), it refers to the ability to use a common interface for different underlying data types.\n",
    "\n",
    "* In practice, it means you can call the same method name on objects of different classes, and Python will automatically use the right implementation depending on the object type.\n"
   ]
  },
  {
   "cell_type": "markdown",
   "id": "d7d38c61",
   "metadata": {},
   "source": [
    "## 3.1 Operator Overloading \n",
    "\n",
    "* Remember this? "
   ]
  },
  {
   "cell_type": "code",
   "execution_count": 189,
   "id": "0f70cea5",
   "metadata": {},
   "outputs": [
    {
     "data": {
      "text/plain": [
       "100"
      ]
     },
     "execution_count": 189,
     "metadata": {},
     "output_type": "execute_result"
    }
   ],
   "source": [
    "first_mark = 60\n",
    "second_mark = 40\n",
    "first_mark + second_mark"
   ]
  },
  {
   "cell_type": "code",
   "execution_count": 190,
   "id": "36587057",
   "metadata": {},
   "outputs": [
    {
     "data": {
      "text/plain": [
       "'6040'"
      ]
     },
     "execution_count": 190,
     "metadata": {},
     "output_type": "execute_result"
    }
   ],
   "source": [
    "first_mark = \"60\"\n",
    "second_mark = \"40\"\n",
    "first_mark + second_mark"
   ]
  },
  {
   "cell_type": "markdown",
   "id": "e65e618a",
   "metadata": {},
   "source": [
    "Notice how we used the same `+` operator to perform both: \n",
    "\n",
    "* addition\n",
    "\n",
    "* concatenation\n",
    "\n",
    "The `+` operator behaves differently based on the `types`.\n",
    "\n",
    "That’s because Python internally calls `dunder` (<u>d</u>ouble <u>under</u>score) methods:\n",
    "\n",
    "* `int.__add__(60, 40)`\n",
    "\n",
    "* `str.__add__(\"60\", \"40\")`"
   ]
  },
  {
   "cell_type": "code",
   "execution_count": 18,
   "id": "82afab07",
   "metadata": {},
   "outputs": [
    {
     "data": {
      "text/plain": [
       "100"
      ]
     },
     "execution_count": 18,
     "metadata": {},
     "output_type": "execute_result"
    }
   ],
   "source": [
    "int.__add__(60, 40)"
   ]
  },
  {
   "cell_type": "code",
   "execution_count": 19,
   "id": "0440d2a6",
   "metadata": {},
   "outputs": [
    {
     "data": {
      "text/plain": [
       "'6040'"
      ]
     },
     "execution_count": 19,
     "metadata": {},
     "output_type": "execute_result"
    }
   ],
   "source": [
    "str.__add__(\"60\", \"40\")"
   ]
  },
  {
   "cell_type": "markdown",
   "id": "97a36767",
   "metadata": {},
   "source": [
    "This is an example of <b>polymorphism</b> in operators, using dunder methods like `__add__`, `__len__`, etc."
   ]
  },
  {
   "cell_type": "code",
   "execution_count": null,
   "id": "ef8894bd",
   "metadata": {},
   "outputs": [],
   "source": [
    "class Vector:\n",
    "    def __init__(self, x, y):\n",
    "        self.x, self.y = x, y\n",
    "\n",
    "    def __add__(self, other):\n",
    "        return Vector(self.x + other.x, self.y + other.y)\n",
    "\n",
    "    def __repr__(self):\n",
    "        return f\"Vector({self.x}, {self.y})\""
   ]
  },
  {
   "cell_type": "code",
   "execution_count": null,
   "id": "b86100bc",
   "metadata": {},
   "outputs": [],
   "source": [
    "v1 = Vector(1, 2)\n",
    "v2 = Vector(3, 4)\n",
    "print(v1 + v2)  # Vector(4, 6)"
   ]
  },
  {
   "cell_type": "markdown",
   "id": "c2b9838d",
   "metadata": {},
   "source": [
    "Unlike statically typed languages (like Java or C++), Python is dynamically typed — which makes polymorphism very natural and flexible.\n",
    "\n",
    "There are two main kinds of polymorphism in Python:\n",
    "\n",
    "* <b>Duck Typing (Informal Polymorphism)</b>\n",
    "\n",
    "* <b>Method Overriding (Classical Polymorphism)</b>"
   ]
  },
  {
   "cell_type": "markdown",
   "id": "953eb46e",
   "metadata": {},
   "source": [
    "## 3.2 Duck Typing \n",
    "\n",
    "Python’s motto:\n",
    "\n",
    "> “If it walks like a duck and quacks like a duck, it’s a duck.”\n",
    "> - Guido Van Roosum \n",
    "\n",
    "\n",
    "* If two different classes implement the same method name, Python doesn’t care about their type — as long as they can both respond to that method call.\n"
   ]
  },
  {
   "cell_type": "code",
   "execution_count": 20,
   "id": "f76d8ad2",
   "metadata": {},
   "outputs": [],
   "source": [
    "class Dog:\n",
    "    def speak(self):\n",
    "        return \"Woof!\"\n",
    "\n",
    "class Cat:\n",
    "    def speak(self):\n",
    "        return \"Meow!\"\n",
    "\n",
    "# Function that accepts any object with a 'speak' method\n",
    "def make_it_speak(animal):\n",
    "    print(animal.speak())\n"
   ]
  },
  {
   "cell_type": "code",
   "execution_count": 21,
   "id": "fbc53c5a",
   "metadata": {},
   "outputs": [
    {
     "name": "stdout",
     "output_type": "stream",
     "text": [
      "Woof!\n",
      "Meow!\n"
     ]
    }
   ],
   "source": [
    "dog = Dog()\n",
    "cat = Cat()\n",
    "\n",
    "make_it_speak(dog)  # Woof!\n",
    "make_it_speak(cat)  # Meow!"
   ]
  },
  {
   "cell_type": "markdown",
   "id": "132eb510",
   "metadata": {},
   "source": [
    "Here, Dog and Cat are totally unrelated classes — yet both work because they implement the same method interface (speak()).\n",
    "\n",
    "That’s runtime polymorphism in Python — handled dynamically."
   ]
  },
  {
   "cell_type": "markdown",
   "id": "05ed4e07",
   "metadata": {},
   "source": [
    "* Let's see if we can adopt this principle into our `Student` and `Staff` example...  "
   ]
  },
  {
   "cell_type": "code",
   "execution_count": 4,
   "id": "1e14d2c2",
   "metadata": {},
   "outputs": [],
   "source": [
    "class Student:\n",
    "    def print(self):\n",
    "        return \"Student\"\n",
    "\n",
    "class Staff:\n",
    "    def print(self):\n",
    "        return \"Staff\"\n",
    "\n",
    "# Function that accepts any object with a 'print' method\n",
    "def print_identity(person):\n",
    "    print(person.print())\n"
   ]
  },
  {
   "cell_type": "code",
   "execution_count": 3,
   "id": "2c3e1be6",
   "metadata": {},
   "outputs": [
    {
     "name": "stdout",
     "output_type": "stream",
     "text": [
      "Student\n",
      "Staff\n"
     ]
    }
   ],
   "source": [
    "nick_obj = Student()\n",
    "sam_obj = Staff()\n",
    "\n",
    "print_identity(nick_obj)\n",
    "print_identity(sam_obj)"
   ]
  },
  {
   "cell_type": "markdown",
   "id": "61fe7ee8",
   "metadata": {},
   "source": [
    "## 3.3 Method Overriding (Classical Polymorphism)\n",
    "This is the more traditional form:\n",
    "A subclass overrides a method from its parent class to change or extend its behavior.\n",
    "\n"
   ]
  },
  {
   "cell_type": "code",
   "execution_count": 22,
   "id": "3d35fa45",
   "metadata": {},
   "outputs": [],
   "source": [
    "class Animal:\n",
    "    def speak(self):\n",
    "        return \"Some sound\"\n",
    "\n",
    "class Dog(Animal):\n",
    "    def speak(self):\n",
    "        return \"Woof!\"\n",
    "\n",
    "class Cat(Animal):\n",
    "    def speak(self):\n",
    "        return \"Meow!\"\n"
   ]
  },
  {
   "cell_type": "code",
   "execution_count": 23,
   "id": "47e78675",
   "metadata": {},
   "outputs": [
    {
     "name": "stdout",
     "output_type": "stream",
     "text": [
      "Woof!\n",
      "Meow!\n",
      "Some sound\n"
     ]
    }
   ],
   "source": [
    "animals = [Dog(), Cat(), Animal()]\n",
    "\n",
    "for a in animals:\n",
    "    print(a.speak())"
   ]
  },
  {
   "cell_type": "markdown",
   "id": "0f02f502",
   "metadata": {},
   "source": [
    "Here, each subclass provides its own implementation of the speak() method — Python automatically dispatches the correct one at runtime.\n",
    "\n",
    "That’s subtype polymorphism."
   ]
  },
  {
   "cell_type": "code",
   "execution_count": 5,
   "id": "2aa579c8",
   "metadata": {},
   "outputs": [],
   "source": [
    "class Person:\n",
    "    def print(self):\n",
    "        return \"Person\"\n",
    "\n",
    "class Student(Person):\n",
    "    def print(self):\n",
    "        return \"Student\"\n",
    "\n",
    "class Staf(Person):\n",
    "    def print(self):\n",
    "        return \"Staff\""
   ]
  },
  {
   "cell_type": "code",
   "execution_count": 6,
   "id": "4cb0e03a",
   "metadata": {},
   "outputs": [
    {
     "name": "stdout",
     "output_type": "stream",
     "text": [
      "Student\n",
      "Staff\n",
      "Person\n"
     ]
    }
   ],
   "source": [
    "people = [Student(), Staff(), Person()]\n",
    "\n",
    "for person in people:\n",
    "    print(person.print())"
   ]
  },
  {
   "cell_type": "markdown",
   "id": "dd38cc99",
   "metadata": {
    "id": "dd38cc99"
   },
   "source": [
    "#### This Jupyter Notebook contains exercises for you to organise attributes and functions related to an entity into classes. You can then instantiate these classes (create objects) and assign unique values for these attributes. Attempt the following exercises, which slowly build in complexity. If you get stuck, check back to the <a href = \"https://youtu.be/druwXuJ-X4g?si=AuSmSu0RCVxdP8HC\"> Python lecture recording on Object Orientation here</a> or view the <a href = \"https://www.w3schools.com/python/python_classes.asp\">W3Schools page on Python Classes and Objects</a>, which includes examples, exercises and quizzes to help your understanding. \n"
   ]
  },
  {
   "cell_type": "markdown",
   "id": "b9c2cfb5",
   "metadata": {},
   "source": [
    "### Exercise 1\n",
    "\n",
    "Define a `Student` class, which stores a name, and id for a student. Assign these details via the constructor. Also create a print method.\n",
    "\n",
    "Now create an object of this class, passing in the student name (which could be yours), and a student id number to the constructor. \n",
    "\n",
    "Extension: Create a list of student objects (say 3 to 5 objects). Print all the details for these student objects."
   ]
  },
  {
   "cell_type": "code",
   "execution_count": null,
   "id": "fead51d7",
   "metadata": {},
   "outputs": [],
   "source": [
    "# Write your solution here - use as many cells as you need.\n"
   ]
  },
  {
   "cell_type": "code",
   "execution_count": null,
   "id": "f636baf0",
   "metadata": {},
   "outputs": [
    {
     "name": "stdout",
     "output_type": "stream",
     "text": [
      "<__main__.Student object at 0x110ee5e50>\n",
      "<__main__.Student object at 0x11519b9a0>\n",
      "<__main__.Student object at 0x11519b160>\n"
     ]
    }
   ],
   "source": []
  },
  {
   "cell_type": "markdown",
   "id": "9da56d23",
   "metadata": {},
   "source": [
    "### Exercise 2: \n",
    "\n",
    "Now move this `Student` class you wrote in the previous exercise to a `student.py` file. Also define a `main.py` file (if you haven't already), in which you instantiate objects and call methods. Remember to import the `Student` class from `student.py`.\n",
    "Remember that you can run python files from the terminal with the command `python main.py`.\n",
    "\n",
    "Extension: Pass in the names of students as command line arguments to `main.py`. Initially store these names in a list. Then create objects for each of these students. You may need to modify the constructor of your Student class to assign certain details by default (default values)..."
   ]
  },
  {
   "cell_type": "code",
   "execution_count": null,
   "id": "44ab2ad1",
   "metadata": {},
   "outputs": [],
   "source": [
    "# Write your solution here or in dedicated py files - student.py and main.py"
   ]
  },
  {
   "cell_type": "markdown",
   "id": "33b82fb6",
   "metadata": {},
   "source": [
    "### Exericse 3 \n",
    "\n",
    "Now create a `course.py` file that contains a Course class. \n",
    "\n",
    "This `Course` class should define a constructor that takes the course's name and code as arguments. Also define a print function that will output these values to screen for any object of the Course class.\n",
    "\n",
    "Test this by instantiating the class (in `main.py`), creating an object for the course you are enrolled on here at BNU. Call the constructor and pass the course name and code. Then call the Course's print method on your object to see the details on the screen.\n",
    "\n",
    "FYI: You can find the official BNU Course Codes in the Programme Specifications <a href = \"https://www.bucks.ac.uk/search/courses?query=computing\"> which are linked under the course pages on our website </a>\n",
    "\n",
    "Extension: With the `Course` class created, now enrol student objects on a course object. e.g. one course object which represents the Computer Science course. This course has either a `list` or `dictionary` attribute to store the student objects. Enrol the students via a method (e.g. `enrol_student()`) to ensure the use of interfaces when making changes. \n",
    "\n",
    "Extension: How would you ensure that attributes of the `Course` class can only be changed through its interfaces (methods)?"
   ]
  },
  {
   "cell_type": "code",
   "execution_count": null,
   "id": "2acfea54",
   "metadata": {},
   "outputs": [],
   "source": [
    "# Write your solution here or in a dedicated py file.\n"
   ]
  },
  {
   "cell_type": "markdown",
   "id": "c54bfb9e",
   "metadata": {},
   "source": [
    "### Exercise 5 \n",
    "\n",
    "Building towards inheritance, now create a `Staff` class. This class should feature some attributes for staff (name, employee id, objectives, role description etc) and also methods to set, get and print these details for each staff object. \n",
    "\n",
    "Also make sure to save this class in a `staff.py` file, once finished and tested."
   ]
  },
  {
   "cell_type": "code",
   "execution_count": null,
   "id": "b7733fbd",
   "metadata": {},
   "outputs": [],
   "source": [
    "# Write your solution here or in a dedicated py file.\n"
   ]
  },
  {
   "cell_type": "markdown",
   "id": "bc0c6441",
   "metadata": {},
   "source": [
    "### Exercise 6\n",
    "\n",
    "Now that you have a `Student` and `Staff` class in respective `.py` files, let's try some inheritance! \n",
    "\n",
    "Create a `Person` class, which will be the superclass of both `Student` and `Staff`. Redesign the Student and Staff classes to inherit common attributes and methods from the `Person` class. \n",
    "\n",
    "Hint: Remember that Python syntax for inheritance is the colon `:` e.g. `class Child(Parent): `\n",
    "\n",
    "Extension: Redesign the print method so that the children classes first call the `print()` method of the Parent (which prints ths data common to both Students and Staff). Then within each child's `print()` also print the unique attribute data. "
   ]
  },
  {
   "cell_type": "code",
   "execution_count": null,
   "id": "27d34b36",
   "metadata": {},
   "outputs": [],
   "source": [
    "# Write your solution here or in a dedicated py file.\n"
   ]
  },
  {
   "cell_type": "markdown",
   "id": "0d3e7bae",
   "metadata": {},
   "source": [
    "### Exercise 7: \n",
    "\n",
    "Complete the `InvalidMarkError` class below which inherits from the base class `Exception`. An error of this type should be `raised` (thrown) when a mark is not an integer between 0 and 100. Write a custom message depending on whether the mark needs to be an integer or between 0-100.  \n",
    "\n",
    "Extension: Call some of the well known methods of the Exception class through an object (conventionally `e`). e.g. `e.args` to check that your arguments are being passed to the constructor of the base Exception class. \n",
    "\n",
    "Extension: Think of another logical error that could be thrown (`raised`) when dealing with student marks, enrolments and other such data entry. Write another class for this specific error, then implement Exception handling code to catch (`except`) this error.  "
   ]
  },
  {
   "cell_type": "code",
   "execution_count": null,
   "id": "ad012d97",
   "metadata": {},
   "outputs": [],
   "source": [
    "# Define your InvalidMarkError class here. \n",
    "class InvalidMarkError(Exception):\n",
    "    \"\"\"Raised when a mark is not an integer between 0 and 100.\"\"\"\n",
    "    def __init__(self, mark, message=\"Mark must be an integer between 0 and 100.\"):\n",
    "        self.mark = mark\n",
    "        self.message = message\n",
    "        super().__init__(f\"{message} Got: {mark}\") #pass the custom message to the super()"
   ]
  },
  {
   "cell_type": "code",
   "execution_count": null,
   "id": "5a2384bb",
   "metadata": {},
   "outputs": [],
   "source": [
    "# Write your solution here or in a .py file\n",
    "def assign_mark(mark):\n",
    "    ...\n",
    "    raise InvalidMarkError"
   ]
  },
  {
   "cell_type": "code",
   "execution_count": 109,
   "id": "d896eb49",
   "metadata": {},
   "outputs": [],
   "source": [
    "assign_mark(101) # should throw/raise an InvalidMarkError"
   ]
  },
  {
   "cell_type": "code",
   "execution_count": 110,
   "id": "6f94acf3",
   "metadata": {},
   "outputs": [],
   "source": [
    "assign_mark(-1) # should throw/raise an InvalidMarkError"
   ]
  },
  {
   "cell_type": "markdown",
   "id": "39ff7db0",
   "metadata": {},
   "source": [
    "### Exercise 8 \n",
    "\n",
    "See if you can implement polymorphism by operator overloading. Presently, if you were try to use the greater than operator on two student objects below, you would get a `TypeError`. However, with operator overloading, you can change the behaviour of the `>` to look at the `mark` attribute of a student. Integrate the function given to you in the code cell below, into your `Student` class.\n",
    "\n",
    "Extension: Can you expand this example to store a list of marks for each student object. Calculate the average mark for each student, and by comparing each student object, find the student with the highest average.\n",
    "\n",
    "Extension: Overload the `+` when used on `Student` objects, so that marks can be `appended` to their list. Remember to recalculate the average mark."
   ]
  },
  {
   "cell_type": "code",
   "execution_count": null,
   "id": "58e96e51",
   "metadata": {},
   "outputs": [],
   "source": [
    "nick_obj = Student(...)\n",
    "sam_obj = Student(...)"
   ]
  },
  {
   "cell_type": "code",
   "execution_count": 118,
   "id": "09954ead",
   "metadata": {},
   "outputs": [
    {
     "ename": "TypeError",
     "evalue": "'>' not supported between instances of 'Student' and 'Student'",
     "output_type": "error",
     "traceback": [
      "\u001b[0;31m---------------------------------------------------------------------------\u001b[0m",
      "\u001b[0;31mTypeError\u001b[0m                                 Traceback (most recent call last)",
      "Cell \u001b[0;32mIn [118], line 1\u001b[0m\n\u001b[0;32m----> 1\u001b[0m nick_obj \u001b[38;5;241m>\u001b[39m sam_obj\n",
      "\u001b[0;31mTypeError\u001b[0m: '>' not supported between instances of 'Student' and 'Student'"
     ]
    }
   ],
   "source": [
    "nick_obj > sam_obj"
   ]
  },
  {
   "cell_type": "markdown",
   "id": "95af7d4e",
   "metadata": {},
   "source": [
    "Add the below method to your `Student` class to overload the `>` operator:"
   ]
  },
  {
   "cell_type": "code",
   "execution_count": null,
   "id": "9ec22c48",
   "metadata": {},
   "outputs": [],
   "source": [
    "# Operator overloading for '>' (greater than)\n",
    "def __gt__(self, other): #self = left, and other = right\n",
    "    return self.mark() > other.mark()"
   ]
  }
 ],
 "metadata": {
  "colab": {
   "provenance": []
  },
  "kernelspec": {
   "display_name": "Python 3",
   "language": "python",
   "name": "python3"
  },
  "language_info": {
   "codemirror_mode": {
    "name": "ipython",
    "version": 3
   },
   "file_extension": ".py",
   "mimetype": "text/x-python",
   "name": "python",
   "nbconvert_exporter": "python",
   "pygments_lexer": "ipython3",
   "version": "3.9.6"
  }
 },
 "nbformat": 4,
 "nbformat_minor": 5
}
