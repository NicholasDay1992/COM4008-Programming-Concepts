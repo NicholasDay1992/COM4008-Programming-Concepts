{
 "cells": [
  {
   "attachments": {},
   "cell_type": "markdown",
   "id": "1eba3b72",
   "metadata": {},
   "source": [
    "# 01 Python Basics \n",
    "ND May 2023"
   ]
  },
  {
   "cell_type": "markdown",
   "id": "dd38cc99",
   "metadata": {},
   "source": [
    "#### This Jupyter Notebook contains exercises for you to practice the basics of Python. You'll see a mixture of markdown cells and interactive code cells. Attempt the following exercises, which slowly build in complexity. If you get stuck, check back to the <a href = \"https://www.youtube.com/watch?v=9yCSlN2VLSQ\">introductory Python lecture recording here</a> or look through the <a href = \"https://www.python.org\">Python documentation here</a>."
   ]
  },
  {
   "cell_type": "markdown",
   "id": "6e5075e1",
   "metadata": {},
   "source": [
    "### Exercise 1:\n",
    "\n",
    "Write a line of code in Python that prints 'Hello World' to the screen."
   ]
  },
  {
   "cell_type": "code",
   "execution_count": null,
   "id": "1c93996b",
   "metadata": {
    "scrolled": true
   },
   "outputs": [],
   "source": [
    "# Write your Python code in this interactive code cell and 'run' the code to check it works.\n",
    "\n"
   ]
  },
  {
   "cell_type": "markdown",
   "id": "3ebccf84",
   "metadata": {},
   "source": [
    "### Exercise 2:\n",
    "Now declare a variable called name. Assign your firstname as the value for this variable. Print this value to the screen to check that it has been assigned to the variable."
   ]
  },
  {
   "cell_type": "code",
   "execution_count": null,
   "id": "0cadfab5",
   "metadata": {},
   "outputs": [],
   "source": []
  },
  {
   "cell_type": "markdown",
   "id": "32bfa255",
   "metadata": {},
   "source": [
    "### Exercise 3:\n",
    "\n",
    "Now declare two variables. Assign the value 10 to the first variable. Then assign the value 40 to the second variable. Then add the variables together and print out the result."
   ]
  },
  {
   "cell_type": "code",
   "execution_count": null,
   "id": "942a91d0",
   "metadata": {
    "scrolled": true
   },
   "outputs": [],
   "source": []
  },
  {
   "cell_type": "markdown",
   "id": "42004548",
   "metadata": {},
   "source": [
    "### Exercise 4: \n",
    "Providing you have completed the previous two exercises, you should have three variables with assigned values. Now write code in the cell below which will print out the individual values for these variables declared previously. In terms of formatting, print out one value for each line. You could use the '\\n' escape character for a 'new line'\n",
    "\n",
    "Note: You won't need to re-declare these variables as the values should still be stored in memory until the session is closed."
   ]
  },
  {
   "cell_type": "code",
   "execution_count": null,
   "id": "93304814",
   "metadata": {},
   "outputs": [],
   "source": []
  },
  {
   "cell_type": "markdown",
   "id": "7d697f44",
   "metadata": {},
   "source": [
    "### Exericse 5:\n",
    "Now use a function in Python to ask the user to enter their name. This name should be stored in an appropriate variable. Once stored, print the value of this variable (what the user entered) to the screen."
   ]
  },
  {
   "cell_type": "code",
   "execution_count": null,
   "id": "c6a148e5",
   "metadata": {},
   "outputs": [],
   "source": []
  },
  {
   "cell_type": "markdown",
   "id": "f02de2c2",
   "metadata": {},
   "source": [
    "### Exercise 6: \n",
    "Now ask the user to enter two numbers, and store these inputs in two variables. Once stored, print out the average of the two numbers.\n",
    "\n",
    "Hint: If you get stuck, first check which type of data is being returned from the Python function."
   ]
  },
  {
   "cell_type": "code",
   "execution_count": null,
   "id": "22b02237",
   "metadata": {},
   "outputs": [],
   "source": []
  },
  {
   "cell_type": "markdown",
   "id": "84a47670",
   "metadata": {},
   "source": [
    "### Exercise 7:\n",
    "Design a program that asks the user to enter values for the length and height of a rectangle and then outputs the perimeter and area of the rectangle to the screen.\n",
    "\n",
    "Extension: ask the user to also type in a unit: cm, m, inches etc. Include this unit in the output. "
   ]
  },
  {
   "cell_type": "code",
   "execution_count": null,
   "id": "e32e93c8",
   "metadata": {},
   "outputs": [],
   "source": []
  },
  {
   "cell_type": "markdown",
   "id": "07c657a6",
   "metadata": {},
   "source": [
    "### Exercise 8:\n",
    "\n",
    "Write a script that will convert miles to feet. First ask the user to enter a quantity of miles. Store this in an appropriate variable. Then convert and output (print) the number of feet to the screen. Test this for a number of inputs to check the conversion works correctly.\n",
    "\n",
    "For reference, there are 5280 feet in 1.0 mile. \n",
    "\n",
    "Extension: Also ask the user to enter the same number of feet and check this converts back to the original number of miles."
   ]
  },
  {
   "cell_type": "code",
   "execution_count": null,
   "id": "b12c7cd7",
   "metadata": {},
   "outputs": [],
   "source": []
  },
  {
   "cell_type": "markdown",
   "id": "11077868",
   "metadata": {},
   "source": [
    "### Exercise 9:\n",
    "\n",
    "Write a program that will calculate the how much interest will paid on money invested in a savings account. Select an appropriate interest rate (based on the current markets at time of reading) and consider how you will represent this in your program. The user should enter the deposit amount and the program should display how much money the user will have after the interest is paid at the end of the year.\n",
    "\n",
    "Extension: Think about the appropriate formatting for currency. For example, consider how to print the output with two decimal places for pound sterling."
   ]
  },
  {
   "cell_type": "code",
   "execution_count": null,
   "id": "ddf7677c",
   "metadata": {},
   "outputs": [],
   "source": []
  },
  {
   "cell_type": "markdown",
   "id": "611abb55",
   "metadata": {},
   "source": [
    "### Exercise 10:\n",
    "\n",
    "Ask the user to enter the month that they were born in. Calculate how many months it will be until their next birthday.\n",
    "\n",
    "For simplicity, it would be easier if they enter this in the format of an integer (int). For example, May would be the 5th month of the year.\n",
    "\n",
    "Challenge: Instead of asking for integers, ask the user to enter their month of birth as a string (str)! "
   ]
  },
  {
   "cell_type": "code",
   "execution_count": null,
   "id": "7eb7cb96",
   "metadata": {},
   "outputs": [],
   "source": []
  },
  {
   "cell_type": "markdown",
   "id": "b3515ece",
   "metadata": {},
   "source": [
    "### (Bonus) Exercise 11:\n",
    "\n",
    "Further to the previous exercise, write some code that asks the user to enter their date of birth (DOB). Now calculate how old the user is from their date of birth and output this to the screen."
   ]
  },
  {
   "cell_type": "code",
   "execution_count": null,
   "id": "1e99eb4e",
   "metadata": {},
   "outputs": [],
   "source": []
  },
  {
   "cell_type": "markdown",
   "id": "befecdab",
   "metadata": {},
   "source": [
    "### (Bonus) Exercise 12:\n",
    "Extend the previous exercise to calculate how many days it is until the user's next birthday from the DOB entered.\n",
    "\n",
    "Extension: Check whether this is a leap year, and if it is, remember to make an adjustment."
   ]
  },
  {
   "cell_type": "code",
   "execution_count": null,
   "id": "352f7891",
   "metadata": {},
   "outputs": [],
   "source": []
  },
  {
   "cell_type": "markdown",
   "id": "3c4f2883",
   "metadata": {},
   "source": [
    "### (Bonus) Exercise 13:\n",
    "\n",
    "Write a script which will process the user's DOB and output which day of the week they were born. "
   ]
  },
  {
   "cell_type": "code",
   "execution_count": null,
   "id": "ec494e87",
   "metadata": {},
   "outputs": [],
   "source": []
  },
  {
   "cell_type": "markdown",
   "id": "32fb89f8",
   "metadata": {},
   "source": [
    "### (Bonus) Exercise 14: \n",
    "Define a function called 'get_input'. The function should prompt the user to enter an input and then return this to the calling location. Test this works by calling the function a few times, prompting the user for different types of data.\n",
    "\n",
    "Extension 1: You may wish to extend this further to create a separate function which will 'get' (return) integers. This would be a separate function from the 'get_input' function, which would by default return strings (str). \n",
    "\n",
    "Extension 2: You may wish to incorporate this function into the scripts which process the user's DOB."
   ]
  },
  {
   "cell_type": "code",
   "execution_count": null,
   "id": "a3a12465",
   "metadata": {},
   "outputs": [],
   "source": []
  },
  {
   "cell_type": "markdown",
   "id": "c9e5e008",
   "metadata": {},
   "source": [
    "### (Bonus) Exercise 15:\n",
    "Continuing from the previous exercise, can you add conditional statements that will evaluate whether the input is 'valid'. For example, if the user was asked to type in their date of birth, check to see whether this is the format required (this could be DD/MM/YYYY). Output a message to prompt the user if the format entered is not to the program's specification."
   ]
  },
  {
   "cell_type": "code",
   "execution_count": null,
   "id": "c391b1c0",
   "metadata": {},
   "outputs": [],
   "source": []
  }
 ],
 "metadata": {
  "kernelspec": {
   "display_name": "Python 3 (ipykernel)",
   "language": "python",
   "name": "python3"
  },
  "language_info": {
   "codemirror_mode": {
    "name": "ipython",
    "version": 3
   },
   "file_extension": ".py",
   "mimetype": "text/x-python",
   "name": "python",
   "nbconvert_exporter": "python",
   "pygments_lexer": "ipython3",
   "version": "3.10.9"
  }
 },
 "nbformat": 4,
 "nbformat_minor": 5
}
