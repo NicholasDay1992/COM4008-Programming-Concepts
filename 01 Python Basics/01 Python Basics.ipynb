{
 "cells": [
  {
   "attachments": {},
   "cell_type": "markdown",
   "id": "1eba3b72",
   "metadata": {
    "slideshow": {
     "slide_type": "slide"
    }
   },
   "source": [
    "# 01 Python Basics "
   ]
  },
  {
   "cell_type": "markdown",
   "id": "53108ee3",
   "metadata": {
    "slideshow": {
     "slide_type": "slide"
    }
   },
   "source": [
    "## Plan for this Lecture\n",
    "\n",
    "1. Introduction to Python and first program (Output)\n",
    "\n",
    "2. Input \n",
    "\n",
    "3. Variables, Types, and Values\n"
   ]
  },
  {
   "cell_type": "markdown",
   "id": "a87b3412",
   "metadata": {
    "slideshow": {
     "slide_type": "slide"
    }
   },
   "source": [
    "## 1.1. What is Python?\n",
    "\n",
    "> “Python is a high level programming language, and its core design philosophy is all about code readability and a syntax which allows programmers to express concepts in a few lines of code.”\n",
    "> - Guido Van Roosum "
   ]
  },
  {
   "cell_type": "markdown",
   "id": "890788e3",
   "metadata": {
    "slideshow": {
     "slide_type": "slide"
    }
   },
   "source": [
    "## 1.2. History of Python\n",
    "\n",
    "* Python was originally developed by Dutch programmer Guido van Rossum throughout the 1980s. \n",
    "\n",
    "* Guido named the language after UK comedy series Monty Python.\n",
    "\n",
    "![Guido](https://live.staticflickr.com/66/199700290_22808a0357_m.jpg)\n",
    "\n",
    "* Python 0.9.0 was released in 1991 \n",
    "* Python 2 was released in 2000\n",
    "* Python 3.0 was released in 2008\n",
    "\n",
    "Python has gained in popularity thanks data science and national school curriculums.\n"
   ]
  },
  {
   "cell_type": "markdown",
   "id": "c38b0f3f",
   "metadata": {
    "slideshow": {
     "slide_type": "slide"
    }
   },
   "source": [
    "## 1.3. Philosophy of Python \n",
    "\n",
    "First posted in 1999, and later published in the [Zen of Python](https://peps.python.org/pep-0020/):\n",
    "\n",
    "* Beautiful is better than ugly.\n",
    "\n",
    "* Explicit is better than implicit.\n",
    "\n",
    "* Simple is better than complex.\n",
    "\n",
    "* Complex is better than complicated.\n",
    "\n",
    "* Readability counts.\n"
   ]
  },
  {
   "cell_type": "markdown",
   "id": "7358bd83",
   "metadata": {
    "slideshow": {
     "slide_type": "slide"
    }
   },
   "source": [
    "## 1.4. Advantages of Python\n",
    "\n",
    "* <b>Readable</b>: intuitive and strict syntax\n",
    "\n",
    "* <b>Productive</b>: saves a lot of code\n",
    "\n",
    "* <b>Portable</b>: for every operating system\n",
    "\n",
    "* <b>Reloaded</b>: it comes with many libraries\n"
   ]
  },
  {
   "cell_type": "markdown",
   "id": "0ef3af4b",
   "metadata": {
    "slideshow": {
     "slide_type": "slide"
    }
   },
   "source": [
    "## 1.5. Uses of Python\n",
    "\n",
    "* <b>Web Development</b>: Frameworks such as Django and Flask\n",
    "\n",
    "* <b>Data Analysis</b>: Libraries such as NumPy, Pandas, Matplotlib\n",
    "\n",
    "* <b>Internet of Things</b>: Raspberry Pi + Python \n",
    "\n",
    "* <b>Web Scraping</b>: e.g. Scrapy\n",
    "\n",
    "* <b>Computer Vision</b>: e.g. OpenCV\n",
    "\n",
    "* <b>Machine Learning</b>: Sci-kit Learn, NLTK, TensorFlow\n",
    "\n",
    "* <b>Game Development</b>: PyGame\n"
   ]
  },
  {
   "cell_type": "markdown",
   "id": "90249bf7",
   "metadata": {
    "slideshow": {
     "slide_type": "slide"
    }
   },
   "source": [
    "## 1.6 Output in Python (first program!)"
   ]
  },
  {
   "cell_type": "code",
   "execution_count": null,
   "id": "880df6e7",
   "metadata": {},
   "outputs": [],
   "source": [
    "print(\"Hello World\")"
   ]
  },
  {
   "cell_type": "code",
   "execution_count": null,
   "id": "7e9cce3f",
   "metadata": {
    "slideshow": {
     "slide_type": "slide"
    }
   },
   "outputs": [],
   "source": [
    "print(\"Hello Nick\") \n",
    "print(\"Your ID is 12345678\") "
   ]
  },
  {
   "cell_type": "markdown",
   "id": "e40689de",
   "metadata": {
    "slideshow": {
     "slide_type": "slide"
    }
   },
   "source": [
    "## 2.1 Variables\n",
    "\n",
    "* Variables are a way to store data temporarily in our programs.\n",
    "\n",
    "* Just like the word variable implies, this data can vary; it can change throughout the course of the program. \n",
    "* We can store data (value) by assigning it (=) to a memory location. That memory location is then referred to by a variable name. \n",
    "\n",
    "* The value is stored at a memory address (RAM, which is temporary memory) and can then be accessed through the variable name.\n",
    "\n",
    "* The opposite of a value changing throughout the program would be a constant, which never changes; it has a fixed value.\n",
    "\n",
    "![vars_illustration](https://programmingwithbabu.wordpress.com/wp-content/uploads/2017/08/assignment_operators.gif?w=300)\n"
   ]
  },
  {
   "cell_type": "markdown",
   "id": "41b1e17a",
   "metadata": {},
   "source": [
    "## 2.2 Variables in C / Java\n",
    "\n",
    "* In C, C++, C# and Java, the programmer would have to first define the data type, then a meaningful name for the variable:\n",
    "\n",
    "`String name = \"Nick\" `"
   ]
  },
  {
   "cell_type": "markdown",
   "id": "d49c16f3",
   "metadata": {},
   "source": [
    "## 2.3 Variables in Python\n",
    "\n",
    "* Python does not require the type to be stated! Although it is good to be aware of types…\n",
    "\n",
    "* It is good practice to consider the name of your variable (storage area) and of course what value you will store there:\n",
    "\n",
    "`name = \"Nick\" `"
   ]
  },
  {
   "cell_type": "markdown",
   "id": "fa8e6e1b",
   "metadata": {
    "slideshow": {
     "slide_type": "slide"
    }
   },
   "source": [
    "![python_var](https://miro.medium.com/v2/resize:fit:1400/1*dvv6ffYSxqTtd9wTB3TeKw.png)"
   ]
  },
  {
   "cell_type": "markdown",
   "id": "d205c0dc",
   "metadata": {
    "slideshow": {
     "slide_type": "slide"
    }
   },
   "source": [
    "## Assignment \n",
    "* We can store data (value) by assigning it `=` to a memory location. That memory location is then referred to by a variable name. \n",
    "\n",
    "* Remember that the `=` sign in programming is different to mathematics (which compares two sides of the equation)!\n"
   ]
  },
  {
   "cell_type": "markdown",
   "id": "7787d51f",
   "metadata": {},
   "source": [
    "## 2.4 Output of values held in variables"
   ]
  },
  {
   "cell_type": "code",
   "execution_count": 5,
   "id": "fae44c97",
   "metadata": {},
   "outputs": [
    {
     "name": "stdout",
     "output_type": "stream",
     "text": [
      "Hello Nick\n"
     ]
    }
   ],
   "source": [
    "name = \"Nick\" \n",
    "print(\"Hello\", name) "
   ]
  },
  {
   "cell_type": "code",
   "execution_count": null,
   "id": "67c4121f",
   "metadata": {
    "slideshow": {
     "slide_type": "slide"
    }
   },
   "outputs": [],
   "source": [
    "name = \"Nick\" \n",
    "print(\"Hello\" + name) \n"
   ]
  },
  {
   "cell_type": "code",
   "execution_count": null,
   "id": "37329feb",
   "metadata": {
    "slideshow": {
     "slide_type": "slide"
    }
   },
   "outputs": [],
   "source": [
    "name = \"Nick\" \n",
    "print(\"Hello \" + name) "
   ]
  },
  {
   "cell_type": "markdown",
   "id": "d9163cc4",
   "metadata": {},
   "source": [
    "In Jupyter you can also just state the variable name to reveal the contents:"
   ]
  },
  {
   "cell_type": "code",
   "execution_count": null,
   "id": "10ffed40",
   "metadata": {},
   "outputs": [],
   "source": [
    "name = \"Nick\" \n",
    "name \n"
   ]
  },
  {
   "cell_type": "markdown",
   "id": "39d0ed6a",
   "metadata": {},
   "source": [
    "## 2.5 Multiple variables"
   ]
  },
  {
   "cell_type": "code",
   "execution_count": null,
   "id": "6cc65f28",
   "metadata": {},
   "outputs": [],
   "source": [
    "name = \"Nick\" \n",
    "age = 30\n",
    "print(\"Hello\", name, \"you are\", age) "
   ]
  },
  {
   "cell_type": "markdown",
   "id": "aa2ed371",
   "metadata": {
    "slideshow": {
     "slide_type": "slide"
    }
   },
   "source": [
    "## 2.7 f-strings (Formatted String Literals)\n",
    "* Introduced in Python 3.6, f-strings provide an efficient and readable way to embed expressions inside string literals. \n",
    "\n",
    "* You prefix the string with `f` and insert variables or expressions inside curly braces `{ }`.\n",
    "\n",
    "* This method is more widely known as <b>string interpolation</b> which embeds expressions or variable values inside a string."
   ]
  },
  {
   "cell_type": "code",
   "execution_count": null,
   "id": "74670c17",
   "metadata": {},
   "outputs": [],
   "source": [
    "name = \"Nick\"\n",
    "age = 30\n",
    "print(f\"My name is {name} and I am {age} years old.\")"
   ]
  },
  {
   "cell_type": "markdown",
   "id": "f1e73d63",
   "metadata": {
    "slideshow": {
     "slide_type": "slide"
    }
   },
   "source": [
    "## 2.8 C-format specifiers\n",
    "* The C programming language was first developed in the 1970s by Dennis Ritchie at Bell Labs. \n",
    "\n",
    "* C is a strongly typed language and required the format of the data to be included in the 'output stream'.\n",
    "\n",
    "* Python can also utilise these 'format specifiers' for outputing data.\n",
    "\n",
    "| Syntax      | Description |\n",
    "| ----------- | ----------- |\n",
    "| <b> %d, %i</b>     | Integer       |\n",
    "| <b>%u</b>   | Unsigned Integer        |\n",
    "| <b>%f</b>   | Floating point as m.ddddd       |\n",
    "| <b>%e</b>   | Floating point as m.ddddde+/-xx       |\n",
    "| <b>%E</b>   | Floating point as m.dddddE+/-xx       |\n",
    "| <b>%g</b>   |  Use %e for exponents <-4 or >+5, otherwise use %f    |\n",
    "| <b>%c</b>    |  Single character   |\n",
    "| <b>%s</b>    |  String, or any object that be converted via str()  |\n",
    "| <b>%%</b>    |  Insert a literal % character  |\n"
   ]
  },
  {
   "cell_type": "code",
   "execution_count": null,
   "id": "dd825943",
   "metadata": {
    "slideshow": {
     "slide_type": "slide"
    }
   },
   "outputs": [],
   "source": [
    "print(\"%s is %d years old\" % (name, age) )"
   ]
  },
  {
   "cell_type": "markdown",
   "id": "25cb2d89",
   "metadata": {},
   "source": [
    "## 2.9 Dynamic vs Static typing\n",
    "\n",
    "* Python is dynamically typed (type checked at run-time). \n",
    "\n",
    "* Python variables can be initially assigned a value of one type, and then be reassigned a value of a different type!\n",
    "\n",
    "* Statically typed languages (such as C, C++, C# and Java, which check type at compile-time) only allow values of the same type to be assigned. \n"
   ]
  },
  {
   "cell_type": "code",
   "execution_count": null,
   "id": "ccd0fe27",
   "metadata": {},
   "outputs": [],
   "source": [
    "age = 30 \n",
    "print(\"You are\", age)\n",
    "age = \"Nick\" \n",
    "print(\"You are\", age) \n"
   ]
  },
  {
   "cell_type": "code",
   "execution_count": null,
   "id": "ab37bdfb",
   "metadata": {
    "slideshow": {
     "slide_type": "slide"
    }
   },
   "outputs": [],
   "source": [
    "age = 30 \n",
    "print(type(age))\n",
    "name = \"Nick\" \n",
    "print(type(name)) \n"
   ]
  },
  {
   "cell_type": "markdown",
   "id": "fe8e8726",
   "metadata": {},
   "source": [
    "## 2.10 Type Casting"
   ]
  },
  {
   "cell_type": "code",
   "execution_count": null,
   "id": "99abc6b6",
   "metadata": {},
   "outputs": [],
   "source": [
    "first_mark = 60 \n",
    "second_mark = \"40\" \n",
    "first_mark + second_mark\n"
   ]
  },
  {
   "cell_type": "code",
   "execution_count": null,
   "id": "290a379a",
   "metadata": {
    "slideshow": {
     "slide_type": "slide"
    }
   },
   "outputs": [],
   "source": [
    "first_mark = 60 \n",
    "second_mark = int(\"40\")\n",
    "first_mark + second_mark\n"
   ]
  },
  {
   "cell_type": "code",
   "execution_count": null,
   "id": "f72cce79",
   "metadata": {
    "slideshow": {
     "slide_type": "slide"
    }
   },
   "outputs": [],
   "source": [
    "age = int(30) \n",
    "print(age)\n",
    "age = float(30) \n",
    "print(age) \n"
   ]
  },
  {
   "cell_type": "markdown",
   "id": "6c636299",
   "metadata": {},
   "source": [
    "## 2.11 Case Sensitivity \n",
    "\n"
   ]
  },
  {
   "cell_type": "code",
   "execution_count": null,
   "id": "cebc95eb",
   "metadata": {},
   "outputs": [],
   "source": [
    "age = 30 \n",
    "print(age)\n",
    "Age = 35 \n",
    "print(Age) \n"
   ]
  },
  {
   "cell_type": "markdown",
   "id": "6fee49e1",
   "metadata": {},
   "source": [
    "## Quiz Questions: \n",
    "What will the output be of the below: "
   ]
  },
  {
   "cell_type": "code",
   "execution_count": null,
   "id": "143c7b1c",
   "metadata": {},
   "outputs": [],
   "source": [
    "first_mark = \"60\" \n",
    "second_mark = \"40\"\n",
    "first_mark + second_mark\n"
   ]
  },
  {
   "cell_type": "code",
   "execution_count": null,
   "id": "d01b52ec",
   "metadata": {
    "slideshow": {
     "slide_type": "slide"
    }
   },
   "outputs": [],
   "source": [
    "str1 = \"Nick is\" \n",
    "str2 = 30 \n",
    "str3 = \"years old\" \n",
    "print(str1 + str2 + str3)\n"
   ]
  },
  {
   "cell_type": "code",
   "execution_count": null,
   "id": "fdf113b6",
   "metadata": {
    "slideshow": {
     "slide_type": "slide"
    }
   },
   "outputs": [],
   "source": [
    "str1 = \"Nick is\" \n",
    "str2 = 30 \n",
    "str3 = \"years old\" \n",
    "print(str1, str2, str3)\n"
   ]
  },
  {
   "cell_type": "markdown",
   "id": "9ec0b31e",
   "metadata": {},
   "source": [
    "## 3. Input! "
   ]
  },
  {
   "cell_type": "code",
   "execution_count": null,
   "id": "962c698c",
   "metadata": {
    "slideshow": {
     "slide_type": "slide"
    }
   },
   "outputs": [],
   "source": [
    "input(\"Please enter your name\")"
   ]
  },
  {
   "cell_type": "code",
   "execution_count": null,
   "id": "65fd5000",
   "metadata": {
    "slideshow": {
     "slide_type": "slide"
    }
   },
   "outputs": [],
   "source": [
    "name = input(\"Please enter your name: \") \n",
    "print(\"Hello\", name) "
   ]
  },
  {
   "cell_type": "code",
   "execution_count": null,
   "id": "d21b412a",
   "metadata": {
    "slideshow": {
     "slide_type": "slide"
    }
   },
   "outputs": [],
   "source": [
    "print(\"the value\", name, \"is\", type(name))"
   ]
  },
  {
   "cell_type": "code",
   "execution_count": null,
   "id": "44342db6",
   "metadata": {
    "slideshow": {
     "slide_type": "slide"
    }
   },
   "outputs": [],
   "source": [
    "age = input(\"Please enter your age: \")\n",
    "print(\"You are\", age, \"years old\") \n",
    "print(\"the value\", age, \"is\", type(age))"
   ]
  },
  {
   "cell_type": "code",
   "execution_count": null,
   "id": "bb7cf1f2",
   "metadata": {
    "slideshow": {
     "slide_type": "slide"
    }
   },
   "outputs": [],
   "source": [
    "age = int(input(\"Please enter your age: \"))\n",
    "print(\"You are\", age, \"years old\") \n",
    "print(\"the value\", age, \"is\", type(age))"
   ]
  },
  {
   "cell_type": "markdown",
   "id": "8f243d94",
   "metadata": {},
   "source": [
    "## Comments in Python\n",
    "\n",
    "* Code comments are useful for documentation purposes. \n",
    "\n",
    "* They are known as [docstrings](https://realpython.com/documenting-python-code/) in Python. \n",
    "\n",
    "* They can also be used for beginners to test and debug their code.\n",
    "\n",
    "`\"\"\"`  for block summary comments  (three quotation marks)  \n",
    "  `#`  for single line comments\n"
   ]
  },
  {
   "cell_type": "code",
   "execution_count": 25,
   "id": "c0f34981",
   "metadata": {
    "slideshow": {
     "slide_type": "slide"
    }
   },
   "outputs": [],
   "source": [
    "# age = 18\n",
    "# print(\"You are\", age, \"years old\") \n"
   ]
  },
  {
   "cell_type": "code",
   "execution_count": null,
   "id": "77b64c18",
   "metadata": {
    "slideshow": {
     "slide_type": "slide"
    }
   },
   "outputs": [],
   "source": [
    "age = 18  # declare age variable\n",
    "print(\"You are\", age, \"years old\") \n"
   ]
  },
  {
   "cell_type": "code",
   "execution_count": null,
   "id": "92c3c1a8",
   "metadata": {
    "slideshow": {
     "slide_type": "slide"
    }
   },
   "outputs": [],
   "source": [
    "'''print(\"hello\")'''\n"
   ]
  },
  {
   "cell_type": "markdown",
   "id": "955b7813",
   "metadata": {},
   "source": [
    "Use docstrings carefully: [Docstrings](https://realpython.com/documenting-python-code/) (triple-quoted strings) are not true comments but can be used for multi-line commenting in some cases. Just ensure it doesn’t accidentally get treated as documentation."
   ]
  },
  {
   "cell_type": "code",
   "execution_count": null,
   "id": "1d2e0081",
   "metadata": {},
   "outputs": [],
   "source": [
    "print(\"hello\")\n",
    "\n",
    "\"\"\" \n",
    "def add(x, y):\n",
    "    return x + y\n",
    "    \n",
    "print( add(5, 5)) \n",
    "\"\"\""
   ]
  },
  {
   "cell_type": "code",
   "execution_count": null,
   "id": "18ea9a50",
   "metadata": {
    "slideshow": {
     "slide_type": "slide"
    }
   },
   "outputs": [],
   "source": [
    "def get_input():\n",
    "    \"\"\"This is a class method comment.\"\"\"\n",
    "    return input(\"Please enter your name: \")\n",
    "\n",
    "get_input()"
   ]
  },
  {
   "cell_type": "markdown",
   "id": "dd38cc99",
   "metadata": {},
   "source": [
    "#### This Jupyter Notebook contains exercises for you to practice the basics of Python. You'll see a mixture of markdown cells and interactive code cells. Attempt the following exercises, which slowly build in complexity. If you get stuck, check back to the <a href = \"https://www.youtube.com/watch?v=9yCSlN2VLSQ\">introductory Python lecture recording here</a> or look through the <a href = \"https://www.python.org\">Python documentation here</a>."
   ]
  },
  {
   "cell_type": "markdown",
   "id": "6e5075e1",
   "metadata": {},
   "source": [
    "### Exercise 1:\n",
    "\n",
    "Write a line of code in Python that prints 'Hello World' to the screen."
   ]
  },
  {
   "cell_type": "code",
   "execution_count": 3,
   "id": "1c93996b",
   "metadata": {
    "scrolled": true
   },
   "outputs": [],
   "source": [
    "# Write your Python code in this interactive code cell and 'run' the code to check it works.\n"
   ]
  },
  {
   "cell_type": "markdown",
   "id": "3ebccf84",
   "metadata": {},
   "source": [
    "### Exercise 2:\n",
    "Now declare a variable called name. Assign your firstname as the value for this variable. Print this value to the screen to check that it has been assigned to the variable."
   ]
  },
  {
   "cell_type": "code",
   "execution_count": null,
   "id": "0cadfab5",
   "metadata": {},
   "outputs": [],
   "source": []
  },
  {
   "cell_type": "markdown",
   "id": "32bfa255",
   "metadata": {},
   "source": [
    "### Exercise 3:\n",
    "\n",
    "Now declare two variables. Assign the value 10 to the first variable. Then assign the value 40 to the second variable. Then add the variables together and print out the result."
   ]
  },
  {
   "cell_type": "code",
   "execution_count": null,
   "id": "942a91d0",
   "metadata": {
    "scrolled": true
   },
   "outputs": [],
   "source": []
  },
  {
   "cell_type": "markdown",
   "id": "42004548",
   "metadata": {},
   "source": [
    "### Exercise 4: \n",
    "Providing you have completed the previous two exercises, you should have three variables with assigned values. Now write code in the cell below which will print out the individual values for these variables declared previously. In terms of formatting, print out one value for each line. You could use the '\\n' escape character for a 'new line'\n",
    "\n",
    "Note: You won't need to re-declare these variables as the values should still be stored in memory until the session is closed."
   ]
  },
  {
   "cell_type": "code",
   "execution_count": null,
   "id": "93304814",
   "metadata": {},
   "outputs": [],
   "source": []
  },
  {
   "cell_type": "markdown",
   "id": "7d697f44",
   "metadata": {},
   "source": [
    "### Exericse 5:\n",
    "Now use a function in Python to ask the user to enter their name. This name should be stored in an appropriate variable. Once stored, print the value of this variable (what the user entered) to the screen."
   ]
  },
  {
   "cell_type": "code",
   "execution_count": null,
   "id": "c6a148e5",
   "metadata": {},
   "outputs": [],
   "source": []
  },
  {
   "cell_type": "markdown",
   "id": "f02de2c2",
   "metadata": {},
   "source": [
    "### Exercise 6: \n",
    "Now ask the user to enter two numbers, and store these inputs in two variables. Once stored, print out the average of the two numbers.\n",
    "\n",
    "Hint: If you get stuck, first check which type of data is being returned from the Python function."
   ]
  },
  {
   "cell_type": "code",
   "execution_count": null,
   "id": "22b02237",
   "metadata": {},
   "outputs": [],
   "source": []
  },
  {
   "cell_type": "markdown",
   "id": "84a47670",
   "metadata": {},
   "source": [
    "### Exercise 7:\n",
    "Design a program that asks the user to enter values for the length and height of a rectangle and then outputs the perimeter and area of the rectangle to the screen.\n",
    "\n",
    "Extension: ask the user to also type in a unit: cm, m, inches etc. Include this unit in the output. "
   ]
  },
  {
   "cell_type": "code",
   "execution_count": null,
   "id": "e32e93c8",
   "metadata": {},
   "outputs": [],
   "source": []
  },
  {
   "cell_type": "markdown",
   "id": "07c657a6",
   "metadata": {},
   "source": [
    "### Exercise 8:\n",
    "\n",
    "Write a script that will convert miles to feet. First ask the user to enter a quantity of miles. Store this in an appropriate variable. Then convert and output (print) the number of feet to the screen. Test this for a number of inputs to check the conversion works correctly.\n",
    "\n",
    "For reference, there are 5280 feet in 1.0 mile. \n",
    "\n",
    "Extension: Also ask the user to enter the same number of feet and check this converts back to the original number of miles."
   ]
  },
  {
   "cell_type": "code",
   "execution_count": null,
   "id": "b12c7cd7",
   "metadata": {},
   "outputs": [],
   "source": []
  },
  {
   "cell_type": "markdown",
   "id": "11077868",
   "metadata": {},
   "source": [
    "### Exercise 9:\n",
    "\n",
    "Write a program that will calculate the how much interest will paid on money invested in a savings account. Select an appropriate interest rate (based on the current markets at time of reading) and consider how you will represent this in your program. The user should enter the deposit amount and the program should display how much money the user will have after the interest is paid at the end of the year.\n",
    "\n",
    "Extension: Think about the appropriate formatting for currency. For example, consider how to print the output with two decimal places for pound sterling."
   ]
  },
  {
   "cell_type": "code",
   "execution_count": null,
   "id": "ddf7677c",
   "metadata": {},
   "outputs": [],
   "source": []
  },
  {
   "cell_type": "markdown",
   "id": "611abb55",
   "metadata": {},
   "source": [
    "### Exercise 10:\n",
    "\n",
    "Ask the user to enter the month that they were born in. Calculate how many months it will be until their next birthday (from today's date).\n",
    "\n",
    "For simplicity, it would be easier if they enter this in the format of an integer (int). For example, May would be the 5th month of the year.\n",
    "\n",
    "Challenge: Instead of asking for integers, ask the user to enter their month of birth as a string (str)! "
   ]
  },
  {
   "cell_type": "code",
   "execution_count": null,
   "id": "7eb7cb96",
   "metadata": {},
   "outputs": [],
   "source": []
  },
  {
   "cell_type": "markdown",
   "id": "b3515ece",
   "metadata": {},
   "source": [
    "### (Bonus) Exercise 11:\n",
    "\n",
    "Further to the previous exercise, write some code that asks the user to enter their date of birth (DOB). Now calculate how old the user is from their date of birth and output this to the screen."
   ]
  },
  {
   "cell_type": "code",
   "execution_count": null,
   "id": "1e99eb4e",
   "metadata": {},
   "outputs": [],
   "source": []
  },
  {
   "cell_type": "markdown",
   "id": "befecdab",
   "metadata": {},
   "source": [
    "### (Bonus) Exercise 12:\n",
    "Extend the previous exercise to calculate how many days it is until the user's next birthday from the DOB entered.\n",
    "\n",
    "Extension: Check whether this is a leap year, and if it is, remember to make an adjustment."
   ]
  },
  {
   "cell_type": "code",
   "execution_count": null,
   "id": "352f7891",
   "metadata": {},
   "outputs": [],
   "source": []
  },
  {
   "cell_type": "markdown",
   "id": "3c4f2883",
   "metadata": {},
   "source": [
    "### (Bonus) Exercise 13:\n",
    "\n",
    "Write a script which will process the user's DOB and output which day of the week they were born. "
   ]
  },
  {
   "cell_type": "code",
   "execution_count": null,
   "id": "ec494e87",
   "metadata": {},
   "outputs": [],
   "source": []
  },
  {
   "cell_type": "markdown",
   "id": "32fb89f8",
   "metadata": {},
   "source": [
    "### (Bonus) Exercise 14: \n",
    "Define a function called 'get_input'. The function should prompt the user to enter an input and then return this to the calling location. Test this works by calling the function a few times, prompting the user for different types of data.\n",
    "\n",
    "Extension 1: You may wish to extend this further to create a separate function which will 'get' (return) integers. This would be a separate function from the 'get_input' function, which would by default return strings (str). \n",
    "\n",
    "Extension 2: You may wish to incorporate this function into the scripts which process the user's DOB."
   ]
  },
  {
   "cell_type": "code",
   "execution_count": null,
   "id": "a3a12465",
   "metadata": {},
   "outputs": [],
   "source": []
  },
  {
   "cell_type": "markdown",
   "id": "c9e5e008",
   "metadata": {},
   "source": [
    "### (Bonus) Exercise 15:\n",
    "Continuing from the previous exercise, can you add conditional statements that will evaluate whether the input is 'valid'. For example, if the user was asked to type in their date of birth, check to see whether this is the format required (this could be DD/MM/YYYY). Output a message to prompt the user if the format entered is not to the program's specification."
   ]
  },
  {
   "cell_type": "code",
   "execution_count": null,
   "id": "c391b1c0",
   "metadata": {},
   "outputs": [],
   "source": []
  }
 ],
 "metadata": {
  "kernelspec": {
   "display_name": "Python 3 (ipykernel)",
   "language": "python",
   "name": "python3"
  },
  "language_info": {
   "codemirror_mode": {
    "name": "ipython",
    "version": 3
   },
   "file_extension": ".py",
   "mimetype": "text/x-python",
   "name": "python",
   "nbconvert_exporter": "python",
   "pygments_lexer": "ipython3",
   "version": "3.9.6"
  }
 },
 "nbformat": 4,
 "nbformat_minor": 5
}
