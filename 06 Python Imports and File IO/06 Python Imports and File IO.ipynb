{
 "cells": [
  {
   "cell_type": "markdown",
   "id": "1eba3b72",
   "metadata": {
    "id": "1eba3b72"
   },
   "source": [
    "# 06 Python Imports and File IO\n"
   ]
  },
  {
   "cell_type": "markdown",
   "id": "104769f3",
   "metadata": {},
   "source": [
    "## Plan for the Lecture:\n",
    "\n",
    "1. Imports \n",
    "\n",
    "2. `main.py` and `argv`\n",
    "\n",
    "3. File Handling (I/O)"
   ]
  },
  {
   "cell_type": "code",
   "execution_count": 10,
   "id": "a6392b92",
   "metadata": {},
   "outputs": [],
   "source": [
    "def get_int(prompt):\n",
    "    while True:\n",
    "        try:\n",
    "            num = int(input(prompt))\n",
    "            break\n",
    "        except: \n",
    "            pass\n",
    "    return num"
   ]
  },
  {
   "cell_type": "code",
   "execution_count": 11,
   "id": "e33f5b18",
   "metadata": {},
   "outputs": [
    {
     "name": "stdout",
     "output_type": "stream",
     "text": [
      "please don't divide by zero\n",
      "2.0\n"
     ]
    }
   ],
   "source": [
    "num1 = get_int(\"please enter an integer\")\n",
    "while True:\n",
    "    try:\n",
    "        num2 = get_int(\"please enter another integer\")\n",
    "        result = num1 / num2\n",
    "        break\n",
    "    except ZeroDivisionError: \n",
    "        print(\"please don't divide by zero\")\n",
    "print(result)"
   ]
  },
  {
   "cell_type": "code",
   "execution_count": 12,
   "id": "a293b4d7",
   "metadata": {},
   "outputs": [
    {
     "ename": "ModuleNotFoundError",
     "evalue": "No module named 'Nick'",
     "output_type": "error",
     "traceback": [
      "\u001b[0;31m---------------------------------------------------------------------------\u001b[0m",
      "\u001b[0;31mModuleNotFoundError\u001b[0m                       Traceback (most recent call last)",
      "Cell \u001b[0;32mIn [12], line 1\u001b[0m\n\u001b[0;32m----> 1\u001b[0m \u001b[38;5;28;01mimport\u001b[39;00m \u001b[38;5;21;01mNick\u001b[39;00m\n",
      "\u001b[0;31mModuleNotFoundError\u001b[0m: No module named 'Nick'"
     ]
    }
   ],
   "source": [
    "import Nick"
   ]
  },
  {
   "cell_type": "markdown",
   "id": "8c46bc3d",
   "metadata": {},
   "source": [
    "## 1.0 Framework, Package, Modules, Library - aren't they all the same?\n",
    "\n",
    "* Modules = self contained file or script. e.g. `maths_utils.py`\n",
    "\n",
    "* Package = a group of modules (self-contained scripts) e.g. Pandas. Packages will contain a `__init__.py` file that indicates to Python that this directory should be treated as a package.\n",
    "\n",
    "* Library = like a library of books, in software development, a library is a collection of classes and functions. In Python, this would be a collection of related packages.\n",
    "\n",
    "* Framework = more extensive system that provides a structure for building applications, often dictating architecture and calling your code.\n"
   ]
  },
  {
   "cell_type": "markdown",
   "id": "8326f023",
   "metadata": {},
   "source": [
    "## 1.0 The `import` keyword"
   ]
  },
  {
   "cell_type": "code",
   "execution_count": 17,
   "id": "5257524e",
   "metadata": {},
   "outputs": [
    {
     "data": {
      "text/plain": [
       "<module 'numpy' from '/Users/nick/Library/Python/3.9/lib/python/site-packages/numpy/__init__.py'>"
      ]
     },
     "execution_count": 17,
     "metadata": {},
     "output_type": "execute_result"
    }
   ],
   "source": [
    "import numpy as np\n",
    "np"
   ]
  },
  {
   "cell_type": "code",
   "execution_count": 16,
   "id": "d1c61ab5",
   "metadata": {},
   "outputs": [
    {
     "data": {
      "text/plain": [
       "<module 'random' from '/Library/Developer/CommandLineTools/Library/Frameworks/Python3.framework/Versions/3.9/lib/python3.9/random.py'>"
      ]
     },
     "execution_count": 16,
     "metadata": {},
     "output_type": "execute_result"
    }
   ],
   "source": [
    "import random\n",
    "random"
   ]
  },
  {
   "cell_type": "code",
   "execution_count": 18,
   "id": "43ec3b8d",
   "metadata": {},
   "outputs": [
    {
     "data": {
      "text/plain": [
       "<bound method Random.shuffle of <random.Random object at 0x14e034210>>"
      ]
     },
     "execution_count": 18,
     "metadata": {},
     "output_type": "execute_result"
    }
   ],
   "source": [
    "random.shuffle"
   ]
  },
  {
   "cell_type": "code",
   "execution_count": 31,
   "id": "0194485f",
   "metadata": {},
   "outputs": [
    {
     "name": "stdout",
     "output_type": "stream",
     "text": [
      "[5, 4, 1, 6, 2, 3]\n"
     ]
    }
   ],
   "source": [
    "numbers = [1,2,3,4,5,6]\n",
    "\n",
    "random.shuffle(numbers)\n",
    "\n",
    "print(numbers)"
   ]
  },
  {
   "cell_type": "code",
   "execution_count": 32,
   "id": "3142bf92",
   "metadata": {},
   "outputs": [
    {
     "data": {
      "text/plain": [
       "['/Users/nick/Documents/GitHub/COM4008-Programming-Concepts/06 Python Imports and APIs',\n",
       " '/Library/Developer/CommandLineTools/Library/Frameworks/Python3.framework/Versions/3.9/lib/python39.zip',\n",
       " '/Library/Developer/CommandLineTools/Library/Frameworks/Python3.framework/Versions/3.9/lib/python3.9',\n",
       " '/Library/Developer/CommandLineTools/Library/Frameworks/Python3.framework/Versions/3.9/lib/python3.9/lib-dynload',\n",
       " '',\n",
       " '/Users/nick/Library/Python/3.9/lib/python/site-packages',\n",
       " '/Library/Developer/CommandLineTools/Library/Frameworks/Python3.framework/Versions/3.9/lib/python3.9/site-packages',\n",
       " '/Users/nick/Library/Python/3.9/lib/python/site-packages/setuptools/_vendor']"
      ]
     },
     "execution_count": 32,
     "metadata": {},
     "output_type": "execute_result"
    }
   ],
   "source": [
    "import sys\n",
    "sys.path"
   ]
  },
  {
   "cell_type": "code",
   "execution_count": 15,
   "id": "58bca8a8",
   "metadata": {},
   "outputs": [
    {
     "data": {
      "text/plain": [
       "['/Users/nick/Library/Python/3.9/lib/python/site-packages/ipykernel_launcher.py',\n",
       " '--f=/Users/nick/Library/Jupyter/runtime/kernel-v3a7c360767756b51e4cfd49797ed3ebfe37648a4a.json']"
      ]
     },
     "execution_count": 15,
     "metadata": {},
     "output_type": "execute_result"
    }
   ],
   "source": [
    "sys.argv"
   ]
  },
  {
   "cell_type": "code",
   "execution_count": 33,
   "id": "0513df02",
   "metadata": {},
   "outputs": [
    {
     "data": {
      "text/plain": [
       "'/Users/nick/Library/Python/3.9/lib/python/site-packages/ipykernel_launcher.py'"
      ]
     },
     "execution_count": 33,
     "metadata": {},
     "output_type": "execute_result"
    }
   ],
   "source": [
    "sys.argv[0]"
   ]
  },
  {
   "cell_type": "code",
   "execution_count": 34,
   "id": "34e22e9e",
   "metadata": {},
   "outputs": [
    {
     "data": {
      "text/plain": [
       "'--f=/Users/nick/Library/Jupyter/runtime/kernel-v3a69ac48b52c0211a6024d2bed84b9d366adac43d.json'"
      ]
     },
     "execution_count": 34,
     "metadata": {},
     "output_type": "execute_result"
    }
   ],
   "source": [
    "sys.argv[1]"
   ]
  },
  {
   "cell_type": "code",
   "execution_count": 40,
   "id": "fbfce1d8",
   "metadata": {},
   "outputs": [
    {
     "name": "stdout",
     "output_type": "stream",
     "text": [
      "5.0\n"
     ]
    }
   ],
   "source": [
    "import math\n",
    "print(math.sqrt(25)) "
   ]
  },
  {
   "cell_type": "code",
   "execution_count": null,
   "id": "76b14d87",
   "metadata": {},
   "outputs": [],
   "source": []
  },
  {
   "cell_type": "code",
   "execution_count": 66,
   "id": "2638695c",
   "metadata": {},
   "outputs": [
    {
     "data": {
      "text/plain": [
       "['__doc__',\n",
       " '__file__',\n",
       " '__loader__',\n",
       " '__name__',\n",
       " '__package__',\n",
       " '__spec__',\n",
       " 'acos',\n",
       " 'acosh',\n",
       " 'asin',\n",
       " 'asinh',\n",
       " 'atan',\n",
       " 'atan2',\n",
       " 'atanh',\n",
       " 'ceil',\n",
       " 'comb',\n",
       " 'copysign',\n",
       " 'cos',\n",
       " 'cosh',\n",
       " 'degrees',\n",
       " 'dist',\n",
       " 'e',\n",
       " 'erf',\n",
       " 'erfc',\n",
       " 'exp',\n",
       " 'expm1',\n",
       " 'fabs',\n",
       " 'factorial',\n",
       " 'floor',\n",
       " 'fmod',\n",
       " 'frexp',\n",
       " 'fsum',\n",
       " 'gamma',\n",
       " 'gcd',\n",
       " 'hypot',\n",
       " 'inf',\n",
       " 'isclose',\n",
       " 'isfinite',\n",
       " 'isinf',\n",
       " 'isnan',\n",
       " 'isqrt',\n",
       " 'lcm',\n",
       " 'ldexp',\n",
       " 'lgamma',\n",
       " 'log',\n",
       " 'log10',\n",
       " 'log1p',\n",
       " 'log2',\n",
       " 'modf',\n",
       " 'nan',\n",
       " 'nextafter',\n",
       " 'perm',\n",
       " 'pi',\n",
       " 'pow',\n",
       " 'prod',\n",
       " 'radians',\n",
       " 'remainder',\n",
       " 'sin',\n",
       " 'sinh',\n",
       " 'sqrt',\n",
       " 'tan',\n",
       " 'tanh',\n",
       " 'tau',\n",
       " 'trunc',\n",
       " 'ulp']"
      ]
     },
     "execution_count": 66,
     "metadata": {},
     "output_type": "execute_result"
    }
   ],
   "source": [
    "dir(math)"
   ]
  },
  {
   "cell_type": "markdown",
   "id": "679dd8d0",
   "metadata": {},
   "source": [
    "## The `from` keyword"
   ]
  },
  {
   "cell_type": "code",
   "execution_count": 41,
   "id": "b812b4e8",
   "metadata": {},
   "outputs": [
    {
     "name": "stdout",
     "output_type": "stream",
     "text": [
      "0\n",
      "1\n",
      "2\n"
     ]
    }
   ],
   "source": [
    "for x in range(0,3):\n",
    "    print(x)"
   ]
  },
  {
   "cell_type": "code",
   "execution_count": 50,
   "id": "ceb9d5f1",
   "metadata": {},
   "outputs": [
    {
     "data": {
      "text/plain": [
       "10"
      ]
     },
     "execution_count": 50,
     "metadata": {},
     "output_type": "execute_result"
    }
   ],
   "source": [
    "from random import randint\n",
    "\n",
    "num = randint(0, 10) # lower bound to upper bound (incl.)\n",
    "num"
   ]
  },
  {
   "cell_type": "code",
   "execution_count": 42,
   "id": "181ad923",
   "metadata": {},
   "outputs": [
    {
     "data": {
      "text/plain": [
       "9"
      ]
     },
     "execution_count": 42,
     "metadata": {},
     "output_type": "execute_result"
    }
   ],
   "source": [
    "num = random.randint(0, 10)\n",
    "num "
   ]
  },
  {
   "cell_type": "code",
   "execution_count": 69,
   "id": "21389584",
   "metadata": {},
   "outputs": [
    {
     "name": "stdout",
     "output_type": "stream",
     "text": [
      "Nick\n",
      "12345678\n"
     ]
    }
   ],
   "source": [
    "from student import Student\n",
    "\n",
    "nick_obj = Student(\"Nick\", 12345678)\n",
    "nick_obj.print()"
   ]
  },
  {
   "cell_type": "markdown",
   "id": "9c1d0984",
   "metadata": {},
   "source": [
    "## 2.0 Now switch to `main.py`\n",
    "\n",
    "* Open a terminal window in VSC (or other environment)\n",
    "\n",
    "* `cd \"06 Python Imports and File IO`\n",
    "\n",
    "* `python main.py`"
   ]
  },
  {
   "cell_type": "markdown",
   "id": "9618942b",
   "metadata": {},
   "source": [
    "You can run this script via terminal commands. First make sure your terminal is pointing to the correct file directory. You may need to `c`hange `d`irectory with the `cd` command. Once pointing to the correct directory, run the command `python main.py` in a VSC terminal to run the main.py - which should route to the main function. \n",
    "\n",
    "The convention for calling the main function: \n",
    "\n",
    "```\n",
    "if __name__ == \"__main__\":\n",
    "    main()\n",
    "```"
   ]
  },
  {
   "cell_type": "code",
   "execution_count": 75,
   "id": "2f58cc5e",
   "metadata": {},
   "outputs": [
    {
     "name": "stdout",
     "output_type": "stream",
     "text": [
      "hello world\n"
     ]
    }
   ],
   "source": [
    "from main import main\n",
    "\n",
    "main()"
   ]
  },
  {
   "cell_type": "code",
   "execution_count": null,
   "id": "22c69731",
   "metadata": {},
   "outputs": [
    {
     "name": "stdout",
     "output_type": "stream",
     "text": [
      "Hello from main.py\n"
     ]
    }
   ],
   "source": [
    "# main.py: \n",
    "def main():\n",
    "    print(\"Hello from main.py\")\n"
   ]
  },
  {
   "cell_type": "markdown",
   "id": "81ae29f3",
   "metadata": {},
   "source": [
    "Alternatively, you can simply write the following:"
   ]
  },
  {
   "cell_type": "code",
   "execution_count": null,
   "id": "eba84a0a",
   "metadata": {},
   "outputs": [],
   "source": [
    "def main():\n",
    "    print(\"Hello from main.py\")\n",
    "\n",
    "main()"
   ]
  },
  {
   "cell_type": "markdown",
   "id": "35a90728",
   "metadata": {},
   "source": [
    "## Let's bring back some code which uses exception handling \n",
    "\n",
    "* `get_int()`"
   ]
  },
  {
   "cell_type": "code",
   "execution_count": 53,
   "id": "a63b6600",
   "metadata": {},
   "outputs": [
    {
     "name": "stdout",
     "output_type": "stream",
     "text": [
      "hello world\n",
      "45\n"
     ]
    }
   ],
   "source": [
    "from total import get_total, get_int\n",
    "\n",
    "def main():\n",
    "    print(\"hello world\")\n",
    "    numbers = [1,2,3,4,5,6,7,8]\n",
    "    numbers.append(get_int(\"supply a number:\"))\n",
    "    total = get_total(numbers)\n",
    "    print(total)\n",
    "    \n",
    "main()"
   ]
  },
  {
   "cell_type": "markdown",
   "id": "c50a4fde",
   "metadata": {},
   "source": [
    "## 2.2 Command line arguments\n",
    "\n",
    "* You can pass command-line arguments into a Python program, and they do go into `sys.argv`"
   ]
  },
  {
   "cell_type": "code",
   "execution_count": 1,
   "id": "53d48c50",
   "metadata": {},
   "outputs": [
    {
     "data": {
      "text/plain": [
       "['/Users/nick/Library/Python/3.9/lib/python/site-packages/ipykernel_launcher.py',\n",
       " '--f=/Users/nick/Library/Jupyter/runtime/kernel-v3083a42bb89ce776cf2a9a6d49f3ae2dcd9340459.json']"
      ]
     },
     "execution_count": 1,
     "metadata": {},
     "output_type": "execute_result"
    }
   ],
   "source": [
    "import sys\n",
    "sys.argv"
   ]
  },
  {
   "cell_type": "markdown",
   "id": "f1d0b374",
   "metadata": {},
   "source": [
    "`python main.py arg1 arg2 arg3`\n",
    "\n",
    "* Python automatically stores the command-line arguments in a list called sys.argv, from the sys module.\n",
    "\n",
    "* `sys.argv[0]` = the script name (\"myscript.py\")\n",
    "\n",
    "* `sys.argv[1]` = the first argument (\"arg1\")\n",
    "\n",
    "* `sys.argv[2]` = the second argument (\"arg2\")"
   ]
  },
  {
   "cell_type": "code",
   "execution_count": null,
   "id": "0ae84586",
   "metadata": {},
   "outputs": [],
   "source": [
    "import sys\n",
    "\n",
    "def main():\n",
    "    print(\"Arguments:\", sys.argv)\n",
    "    if len(sys.argv) > 1:\n",
    "        print(\"First argument:\", sys.argv[1])\n",
    "\n",
    "if __name__ == \"__main__\":\n",
    "    main()"
   ]
  },
  {
   "cell_type": "markdown",
   "id": "cdbac273",
   "metadata": {},
   "source": [
    "`python myscript.py hello world`"
   ]
  },
  {
   "cell_type": "code",
   "execution_count": null,
   "id": "e3311f72",
   "metadata": {},
   "outputs": [],
   "source": [
    "import sys\n",
    "\n",
    "def main(argv):\n",
    "    print(\"Arguments:\", argv)\n",
    "    if len(argv) > 1:\n",
    "        print(\"First argument:\", argv[1])\n",
    "\n",
    "if __name__ == \"__main__\":\n",
    "    main(sys.argv)"
   ]
  },
  {
   "cell_type": "markdown",
   "id": "2ebc4ebe",
   "metadata": {},
   "source": [
    "* For more complex command-line tools, Python’s built-in `argparse` module is the standard approach \n",
    "\n",
    "* it lets you define and parse named arguments cleanly, e.g.:"
   ]
  },
  {
   "cell_type": "code",
   "execution_count": null,
   "id": "90ee2bf4",
   "metadata": {},
   "outputs": [],
   "source": [
    "import argparse\n",
    "\n",
    "def main():\n",
    "    parser = argparse.ArgumentParser()\n",
    "    parser.add_argument(\"filename\", help=\"Name of the file to process\")\n",
    "    args = parser.parse_args()\n",
    "    print(\"Filename:\", args.filename)\n",
    "\n",
    "if __name__ == \"__main__\":\n",
    "    main()"
   ]
  },
  {
   "cell_type": "markdown",
   "id": "26a57d7b",
   "metadata": {},
   "source": [
    "`python myscript.py data.csv`"
   ]
  },
  {
   "cell_type": "markdown",
   "id": "b5b6f79a",
   "metadata": {},
   "source": [
    "## 3.0 File I/O\n",
    "\n",
    "* In Python, the `open()` function is used to manage external files. \n",
    "\n",
    "* The `open()` function takes two parameters; <b>filepath</b>, and <b>mode</b>.\n",
    "\n",
    "\n",
    "\n",
    "* There are four different methods (modes) for opening a file:\n",
    "\n",
    "* `\"r\"` - Read - Default value. Opens a file for reading, error if the file does not exist\n",
    "\n",
    "* `\"a\"` - Append - Opens a file for appending, creates the file if it does not exist\n",
    "\n",
    "* `\"w\"` - Write - Opens a file for writing, creates the file if it does not exist\n",
    "\n",
    "* `\"x\"` - Create - Creates the specified file, returns an error if the file exists"
   ]
  },
  {
   "cell_type": "markdown",
   "id": "ef103ac9",
   "metadata": {},
   "source": [
    "## 3.1 Create and Write to File\n",
    "Create and write a message to a text file"
   ]
  },
  {
   "cell_type": "code",
   "execution_count": 55,
   "id": "1d519000",
   "metadata": {},
   "outputs": [
    {
     "data": {
      "text/plain": [
       "42"
      ]
     },
     "execution_count": 55,
     "metadata": {},
     "output_type": "execute_result"
    }
   ],
   "source": [
    "file_content = open(\"message.txt\", \"w\") # w for write - create the file\n",
    "file_content.write(\"Hello from message and hello from nick.txt\")"
   ]
  },
  {
   "cell_type": "markdown",
   "id": "19e7d3b3",
   "metadata": {},
   "source": [
    "Read from this text file"
   ]
  },
  {
   "cell_type": "code",
   "execution_count": 56,
   "id": "aed2749c",
   "metadata": {},
   "outputs": [
    {
     "name": "stdout",
     "output_type": "stream",
     "text": [
      "Hello from message and hello from nick.txt\n"
     ]
    }
   ],
   "source": [
    "file_content = open(\"message.txt\", \"r\")\n",
    "print(file_content.read())"
   ]
  },
  {
   "cell_type": "code",
   "execution_count": 58,
   "id": "5b451236",
   "metadata": {},
   "outputs": [
    {
     "data": {
      "text/plain": [
       "31"
      ]
     },
     "execution_count": 58,
     "metadata": {},
     "output_type": "execute_result"
    }
   ],
   "source": [
    "file_content = open(\"message.txt\", \"a\") # a for append - add to the file\n",
    "file_content.write(\"\\nAdditional line in message.txt\")"
   ]
  },
  {
   "cell_type": "markdown",
   "id": "962177fd",
   "metadata": {},
   "source": [
    "## 3.2 Read Methods"
   ]
  },
  {
   "cell_type": "code",
   "execution_count": 61,
   "id": "19ac1b4b",
   "metadata": {},
   "outputs": [
    {
     "name": "stdout",
     "output_type": "stream",
     "text": [
      "Hello from message and hello from nick.txt\n",
      "Additional line in message.txt\n",
      "Additional line in message.txt\n"
     ]
    }
   ],
   "source": [
    "file_content = open(\"message.txt\", \"r\")\n",
    "print(file_content.read())"
   ]
  },
  {
   "cell_type": "code",
   "execution_count": 62,
   "id": "dadbe62f",
   "metadata": {},
   "outputs": [
    {
     "name": "stdout",
     "output_type": "stream",
     "text": [
      "Hello from message and hello from nick.txt\n",
      "\n"
     ]
    }
   ],
   "source": [
    "file_content = open(\"message.txt\", \"r\")\n",
    "print(file_content.readline())"
   ]
  },
  {
   "cell_type": "code",
   "execution_count": 63,
   "id": "5e9b946f",
   "metadata": {},
   "outputs": [
    {
     "name": "stdout",
     "output_type": "stream",
     "text": [
      "Hello from message and hello from nick.txt\n",
      "\n",
      "Additional line in message.txt\n",
      "\n"
     ]
    }
   ],
   "source": [
    "file_content = open(\"message.txt\", \"r\")\n",
    "print(file_content.readline())\n",
    "print(file_content.readline())"
   ]
  },
  {
   "cell_type": "code",
   "execution_count": 64,
   "id": "cf2f5f0a",
   "metadata": {},
   "outputs": [
    {
     "name": "stdout",
     "output_type": "stream",
     "text": [
      "Hello from message and hello from nick.txt\n",
      "Additional line in message.txt\n",
      "Additional line in message.txt\n",
      "\n"
     ]
    }
   ],
   "source": [
    "file_content = open(\"message.txt\", \"r\")\n",
    "print(file_content.read())\n",
    "print(file_content.read())"
   ]
  },
  {
   "cell_type": "code",
   "execution_count": 55,
   "id": "6e119eef",
   "metadata": {},
   "outputs": [
    {
     "name": "stdout",
     "output_type": "stream",
     "text": [
      "N\n",
      "i\n",
      "c\n",
      "k\n"
     ]
    }
   ],
   "source": [
    "name = \"Nick\"\n",
    "for character in name:\n",
    "    print(character)"
   ]
  },
  {
   "cell_type": "code",
   "execution_count": 56,
   "id": "7ab14679",
   "metadata": {},
   "outputs": [
    {
     "name": "stdout",
     "output_type": "stream",
     "text": [
      "Hello from message and hello from nick.txt\n",
      "\n",
      "Additional line in message.txt\n",
      "\n",
      "Additional line in message.txt\n"
     ]
    }
   ],
   "source": [
    "file_content = open(\"message.txt\", \"r\")\n",
    "for line in file_content:\n",
    "  print(line)"
   ]
  },
  {
   "cell_type": "markdown",
   "id": "8e823ec0",
   "metadata": {},
   "source": [
    "## 3.3 Adding Exception Handling\n",
    "\n",
    "* Here is where we can guard against `IOErrors` as file management concerns input and output of text."
   ]
  },
  {
   "cell_type": "code",
   "execution_count": 67,
   "id": "7fe61504",
   "metadata": {},
   "outputs": [],
   "source": [
    "def open_file(filename):\n",
    "    if not filename.endswith('.txt'):\n",
    "        raise IOError(\"Only .txt files are supported.\")\n",
    "    with open(filename) as file:\n",
    "        return file.read()"
   ]
  },
  {
   "cell_type": "code",
   "execution_count": 68,
   "id": "3540d07f",
   "metadata": {},
   "outputs": [
    {
     "ename": "OSError",
     "evalue": "Only .txt files are supported.",
     "output_type": "error",
     "traceback": [
      "\u001b[0;31m---------------------------------------------------------------------------\u001b[0m",
      "\u001b[0;31mOSError\u001b[0m                                   Traceback (most recent call last)",
      "Cell \u001b[0;32mIn [68], line 1\u001b[0m\n\u001b[0;32m----> 1\u001b[0m file_content \u001b[38;5;241m=\u001b[39m open_file(\u001b[38;5;124m\"\u001b[39m\u001b[38;5;124mdata.csv\u001b[39m\u001b[38;5;124m\"\u001b[39m)\n",
      "Cell \u001b[0;32mIn [67], line 3\u001b[0m, in \u001b[0;36mopen_file\u001b[0;34m(filename)\u001b[0m\n\u001b[1;32m      1\u001b[0m \u001b[38;5;28;01mdef\u001b[39;00m \u001b[38;5;21mopen_file\u001b[39m(filename):\n\u001b[1;32m      2\u001b[0m     \u001b[38;5;28;01mif\u001b[39;00m \u001b[38;5;129;01mnot\u001b[39;00m filename\u001b[38;5;241m.\u001b[39mendswith(\u001b[38;5;124m'\u001b[39m\u001b[38;5;124m.txt\u001b[39m\u001b[38;5;124m'\u001b[39m):\n\u001b[0;32m----> 3\u001b[0m         \u001b[38;5;28;01mraise\u001b[39;00m \u001b[38;5;167;01mIOError\u001b[39;00m(\u001b[38;5;124m\"\u001b[39m\u001b[38;5;124mOnly .txt files are supported.\u001b[39m\u001b[38;5;124m\"\u001b[39m)\n\u001b[1;32m      4\u001b[0m     \u001b[38;5;28;01mwith\u001b[39;00m \u001b[38;5;28mopen\u001b[39m(filename) \u001b[38;5;28;01mas\u001b[39;00m file:\n\u001b[1;32m      5\u001b[0m         \u001b[38;5;28;01mreturn\u001b[39;00m file\u001b[38;5;241m.\u001b[39mread()\n",
      "\u001b[0;31mOSError\u001b[0m: Only .txt files are supported."
     ]
    }
   ],
   "source": [
    "file_content = open_file(\"data.csv\")  # Raises IOError: Only .txt files are supported."
   ]
  },
  {
   "cell_type": "code",
   "execution_count": 69,
   "id": "e91d3016",
   "metadata": {},
   "outputs": [],
   "source": [
    "file_content = open_file(\"message.txt\")"
   ]
  },
  {
   "cell_type": "code",
   "execution_count": 70,
   "id": "78a7942c",
   "metadata": {},
   "outputs": [
    {
     "data": {
      "text/plain": [
       "'Hello from message and hello from nick.txt\\nAdditional line in message.txt\\nAdditional line in message.txt'"
      ]
     },
     "execution_count": 70,
     "metadata": {},
     "output_type": "execute_result"
    }
   ],
   "source": [
    "file_content"
   ]
  },
  {
   "cell_type": "code",
   "execution_count": 61,
   "id": "072e99a5",
   "metadata": {},
   "outputs": [
    {
     "data": {
      "text/plain": [
       "['Hello from message and hello from nick.txt',\n",
       " 'Additional line in message.txt',\n",
       " 'Additional line in message.txt']"
      ]
     },
     "execution_count": 61,
     "metadata": {},
     "output_type": "execute_result"
    }
   ],
   "source": [
    "file_content.split(\"\\n\")"
   ]
  },
  {
   "cell_type": "code",
   "execution_count": 74,
   "id": "67e7adfb",
   "metadata": {},
   "outputs": [
    {
     "data": {
      "text/plain": [
       "['Hello',\n",
       " 'from',\n",
       " 'message',\n",
       " 'and',\n",
       " 'hello',\n",
       " 'from',\n",
       " 'nick.txt\\nAdditional',\n",
       " 'line',\n",
       " 'in',\n",
       " 'message.txt\\nAdditional',\n",
       " 'line',\n",
       " 'in',\n",
       " 'message.txt']"
      ]
     },
     "execution_count": 74,
     "metadata": {},
     "output_type": "execute_result"
    }
   ],
   "source": [
    "file_content.split(\" \")"
   ]
  },
  {
   "cell_type": "markdown",
   "id": "d5162b7f",
   "metadata": {},
   "source": [
    "## 3.4 Converting file content to `str`\n",
    "\n",
    "* Helpful for searching and navigating the contents of files\n",
    "\n",
    "* Also good for using this content in your python applications. "
   ]
  },
  {
   "cell_type": "code",
   "execution_count": 62,
   "id": "c50e484f",
   "metadata": {},
   "outputs": [
    {
     "data": {
      "text/plain": [
       "_io.TextIOWrapper"
      ]
     },
     "execution_count": 62,
     "metadata": {},
     "output_type": "execute_result"
    }
   ],
   "source": [
    "file_content = open(\"message.txt\", \"r\")\n",
    "type(file_content)"
   ]
  },
  {
   "cell_type": "code",
   "execution_count": 63,
   "id": "85b39307",
   "metadata": {},
   "outputs": [],
   "source": [
    "file_str = str(file_content)"
   ]
  },
  {
   "cell_type": "code",
   "execution_count": 64,
   "id": "f4f64cff",
   "metadata": {},
   "outputs": [
    {
     "data": {
      "text/plain": [
       "\"<_io.TextIOWrapper name='message.txt' mode='r' encoding='UTF-8'>\""
      ]
     },
     "execution_count": 64,
     "metadata": {},
     "output_type": "execute_result"
    }
   ],
   "source": [
    "file_str"
   ]
  },
  {
   "cell_type": "code",
   "execution_count": 65,
   "id": "9de16b76",
   "metadata": {},
   "outputs": [
    {
     "name": "stdout",
     "output_type": "stream",
     "text": [
      "Hello from message and hello from nick.txt\n",
      "Additional line in message.txt\n",
      "Additional line in message.txt\n"
     ]
    }
   ],
   "source": [
    "file_content = open(\"message.txt\", \"r\")\n",
    "print(file_content.read())"
   ]
  },
  {
   "cell_type": "code",
   "execution_count": 66,
   "id": "590aa116",
   "metadata": {},
   "outputs": [
    {
     "data": {
      "text/plain": [
       "str"
      ]
     },
     "execution_count": 66,
     "metadata": {},
     "output_type": "execute_result"
    }
   ],
   "source": [
    "file_content = open(\"message.txt\", \"r\")\n",
    "file_str = file_content.read()\n",
    "type(file_str)"
   ]
  },
  {
   "cell_type": "code",
   "execution_count": 71,
   "id": "878e4c5b",
   "metadata": {},
   "outputs": [
    {
     "data": {
      "text/plain": [
       "['Hello',\n",
       " 'from',\n",
       " 'message',\n",
       " 'and',\n",
       " 'hello',\n",
       " 'from',\n",
       " 'nick.txt\\nAdditional',\n",
       " 'line',\n",
       " 'in',\n",
       " 'message.txt\\nAdditional',\n",
       " 'line',\n",
       " 'in',\n",
       " 'message.txt']"
      ]
     },
     "execution_count": 71,
     "metadata": {},
     "output_type": "execute_result"
    }
   ],
   "source": [
    "file_str.split(\" \")"
   ]
  },
  {
   "cell_type": "code",
   "execution_count": 75,
   "id": "e82b4df1",
   "metadata": {},
   "outputs": [
    {
     "data": {
      "text/plain": [
       "'Hello'"
      ]
     },
     "execution_count": 75,
     "metadata": {},
     "output_type": "execute_result"
    }
   ],
   "source": [
    "file_str[0:5]"
   ]
  },
  {
   "cell_type": "code",
   "execution_count": 76,
   "id": "8d46c13d",
   "metadata": {},
   "outputs": [
    {
     "data": {
      "text/plain": [
       "6"
      ]
     },
     "execution_count": 76,
     "metadata": {},
     "output_type": "execute_result"
    }
   ],
   "source": [
    "file_str.find('from')"
   ]
  },
  {
   "cell_type": "code",
   "execution_count": 79,
   "id": "d7476226",
   "metadata": {},
   "outputs": [
    {
     "name": "stdout",
     "output_type": "stream",
     "text": [
      "HELLO FROM MESSAGE.TXT\n"
     ]
    }
   ],
   "source": [
    "print(file_str.upper())"
   ]
  },
  {
   "cell_type": "code",
   "execution_count": 80,
   "id": "6b70b339",
   "metadata": {},
   "outputs": [
    {
     "data": {
      "text/plain": [
       "['Hello', 'from', 'message.txt']"
      ]
     },
     "execution_count": 80,
     "metadata": {},
     "output_type": "execute_result"
    }
   ],
   "source": [
    "words = file_str.split()\n",
    "words"
   ]
  },
  {
   "cell_type": "markdown",
   "id": "9cc5caea",
   "metadata": {},
   "source": [
    "File path of the file represented as a `str`, followed by `r` for read"
   ]
  },
  {
   "cell_type": "markdown",
   "id": "bf18580b",
   "metadata": {},
   "source": [
    "## 4.X APIs - Application Programming Interface\n",
    "\n",
    "* APIs are interfaces to an existing system/application\n",
    "\n",
    "* When you touch your smartphone, you're tapping the interface (the screen) to communicate with the OS.\n",
    "\n",
    "* Someone has already coded great applications that serve useful data. E.g. Google Maps, PayPal, iTunes, TFL etc\n",
    "\n",
    "* Therefore, you don't need to code this from scratch - you can communicate with their service/system via the API. \n",
    "\n",
    "* You can use your file structure and navigation skills to ascertain the data you're looking for. "
   ]
  },
  {
   "cell_type": "markdown",
   "id": "b00f38de",
   "metadata": {},
   "source": [
    "## 4.1 JSON\n",
    "\n",
    "* JavaScript Object Notation (JSON) is near universal form that REST APIs use today to communicate data. \n",
    "\n",
    "* We can import this format into Python. \n",
    "\n",
    "* As you'll see, JSON utilises a similar key and value pair to the `dict` Python structure/type."
   ]
  },
  {
   "cell_type": "code",
   "execution_count": 73,
   "id": "8bb4c16c",
   "metadata": {},
   "outputs": [],
   "source": [
    "import json"
   ]
  },
  {
   "cell_type": "code",
   "execution_count": 74,
   "id": "1cea71d4",
   "metadata": {},
   "outputs": [
    {
     "name": "stdout",
     "output_type": "stream",
     "text": [
      "30\n"
     ]
    }
   ],
   "source": [
    "# some JSON:\n",
    "x =  '{ \"name\":\"John\", \"age\":30, \"city\":\"New York\"}'\n",
    "\n",
    "# parse x:\n",
    "y = json.loads(x)\n",
    "\n",
    "# the result is a Python dictionary:\n",
    "print(y[\"age\"])"
   ]
  },
  {
   "cell_type": "code",
   "execution_count": 77,
   "id": "d3e0c75f",
   "metadata": {},
   "outputs": [
    {
     "data": {
      "text/plain": [
       "{'name': 'John', 'age': 30, 'city': 'New York'}"
      ]
     },
     "execution_count": 77,
     "metadata": {},
     "output_type": "execute_result"
    }
   ],
   "source": [
    "y"
   ]
  },
  {
   "cell_type": "code",
   "execution_count": null,
   "id": "19a693e0",
   "metadata": {},
   "outputs": [],
   "source": [
    "import json\n",
    "\n",
    "# a Python object (dict):\n",
    "x = {\n",
    "  \"name\": \"John\",\n",
    "  \"age\": 30,\n",
    "  \"city\": \"New York\"\n",
    "}\n",
    "\n",
    "# convert into JSON:\n",
    "y = json.dumps(x)\n",
    "\n",
    "# the result is a JSON string:\n",
    "print(y)"
   ]
  },
  {
   "cell_type": "code",
   "execution_count": null,
   "id": "02186998",
   "metadata": {},
   "outputs": [],
   "source": [
    "print(json.dumps({\"name\": \"John\", \"age\": 30}))\n",
    "print(json.dumps([\"apple\", \"bananas\"]))\n",
    "print(json.dumps((\"apple\", \"bananas\")))\n",
    "print(json.dumps(\"hello\"))\n",
    "print(json.dumps(42))\n",
    "print(json.dumps(31.76))\n",
    "print(json.dumps(True))\n",
    "print(json.dumps(False))\n",
    "print(json.dumps(None))"
   ]
  },
  {
   "cell_type": "code",
   "execution_count": null,
   "id": "fc643fdd",
   "metadata": {},
   "outputs": [],
   "source": [
    "x = {\n",
    "  \"name\": \"John\",\n",
    "  \"age\": 30,\n",
    "  \"married\": True,\n",
    "  \"divorced\": False,\n",
    "  \"children\": (\"Ann\",\"Billy\"),\n",
    "  \"pets\": None,\n",
    "  \"cars\": [\n",
    "    {\"model\": \"BMW 230\", \"mpg\": 27.5},\n",
    "    {\"model\": \"Ford Edge\", \"mpg\": 24.1}\n",
    "  ]\n",
    "}\n",
    "\n",
    "print(json.dumps(x))"
   ]
  },
  {
   "cell_type": "code",
   "execution_count": null,
   "id": "a978eb73",
   "metadata": {},
   "outputs": [],
   "source": [
    "json.dumps(x, indent=4)"
   ]
  },
  {
   "cell_type": "code",
   "execution_count": null,
   "id": "3c44609f",
   "metadata": {},
   "outputs": [],
   "source": [
    "json.dumps(x, indent=4, separators=(\". \", \" = \"))"
   ]
  },
  {
   "cell_type": "code",
   "execution_count": null,
   "id": "6f2b5c38",
   "metadata": {},
   "outputs": [],
   "source": [
    "json.dumps(x, indent=4, sort_keys=True)"
   ]
  },
  {
   "cell_type": "markdown",
   "id": "694d71cd",
   "metadata": {},
   "source": [
    "## 4.X iTunes example \n",
    "\n",
    "Example searches:\n",
    "\n",
    "* `https://itunes.apple.com/search?term=jack+johnson`\n",
    "\n",
    "* `https://itunes.apple.com/search?term=jack+johnson&limit=25`\n",
    "\n",
    "* `https://itunes.apple.com/search?term=queen&limit=25`\n",
    "\n",
    "Not just music either, iTunes has books, which you can lookup via ISBN:\n",
    "\n",
    "* `https://itunes.apple.com/lookup?isbn=9780316069359`\n",
    "\n",
    "For more information and examples of how to construct search queries, see the [iTunes documentation here](https://developer.apple.com/library/archive/documentation/AudioVideo/Conceptual/iTuneSearchAPI/SearchExamples.html#//apple_ref/doc/uid/TP40017632-CH6-SW1).\n",
    "\n"
   ]
  },
  {
   "cell_type": "markdown",
   "id": "237b5838",
   "metadata": {},
   "source": [
    "Depending on which environment you're running this notebook, you may need to install `requests` before using this package. \n",
    "\n",
    "`pip install requests`\n",
    "\n",
    "`python3 -m pip install -U requests --user`"
   ]
  },
  {
   "cell_type": "code",
   "execution_count": 78,
   "id": "7c773d49",
   "metadata": {},
   "outputs": [],
   "source": [
    "import requests"
   ]
  },
  {
   "cell_type": "code",
   "execution_count": 79,
   "id": "c6a4e264",
   "metadata": {},
   "outputs": [
    {
     "name": "stdout",
     "output_type": "stream",
     "text": [
      "{'resultCount': 10, 'results': [{'wrapperType': 'track', 'kind': 'song', 'artistId': 498030399, 'collectionId': 1842227753, 'trackId': 1842227766, 'artistName': 'The Piano Guys', 'collectionName': 'Classical Love & Romance', 'trackName': 'Begin Again', 'collectionCensoredName': 'Classical Love & Romance', 'trackCensoredName': 'Begin Again', 'artistViewUrl': 'https://music.apple.com/us/artist/the-piano-guys/498030399?uo=4', 'collectionViewUrl': 'https://music.apple.com/us/album/begin-again/1842227753?i=1842227766&uo=4', 'trackViewUrl': 'https://music.apple.com/us/album/begin-again/1842227753?i=1842227766&uo=4', 'previewUrl': 'https://audio-ssl.itunes.apple.com/itunes-assets/AudioPreview221/v4/bd/11/c3/bd11c38b-0421-754f-de85-d4e4f404b945/mzaf_16160488660575910214.plus.aac.p.m4a', 'artworkUrl30': 'https://is1-ssl.mzstatic.com/image/thumb/Music221/v4/68/90/94/689094bc-8664-200b-2978-5952f424381c/25SYMIM22599.rgb.jpg/30x30bb.jpg', 'artworkUrl60': 'https://is1-ssl.mzstatic.com/image/thumb/Music221/v4/68/90/94/689094bc-8664-200b-2978-5952f424381c/25SYMIM22599.rgb.jpg/60x60bb.jpg', 'artworkUrl100': 'https://is1-ssl.mzstatic.com/image/thumb/Music221/v4/68/90/94/689094bc-8664-200b-2978-5952f424381c/25SYMIM22599.rgb.jpg/100x100bb.jpg', 'releaseDate': '2025-10-17T12:00:00Z', 'collectionExplicitness': 'notExplicit', 'trackExplicitness': 'notExplicit', 'discCount': 1, 'discNumber': 1, 'trackCount': 8, 'trackNumber': 5, 'trackTimeMillis': 245506, 'country': 'USA', 'currency': 'USD', 'primaryGenreName': 'Classical Crossover', 'isStreamable': True}, {'wrapperType': 'track', 'kind': 'song', 'artistId': 159260351, 'collectionId': 1468058165, 'trackId': 1468058171, 'artistName': 'Taylor Swift', 'collectionName': 'Lover', 'trackName': 'Cruel Summer', 'collectionCensoredName': 'Lover', 'trackCensoredName': 'Cruel Summer', 'artistViewUrl': 'https://music.apple.com/us/artist/taylor-swift/159260351?uo=4', 'collectionViewUrl': 'https://music.apple.com/us/album/cruel-summer/1468058165?i=1468058171&uo=4', 'trackViewUrl': 'https://music.apple.com/us/album/cruel-summer/1468058165?i=1468058171&uo=4', 'previewUrl': 'https://audio-ssl.itunes.apple.com/itunes-assets/AudioPreview211/v4/96/61/ff/9661ff73-0d57-582a-5e57-5687abb33313/mzaf_15246628164161261055.plus.aac.p.m4a', 'artworkUrl30': 'https://is1-ssl.mzstatic.com/image/thumb/Music125/v4/49/3d/ab/493dab54-f920-9043-6181-80993b8116c9/19UMGIM53909.rgb.jpg/30x30bb.jpg', 'artworkUrl60': 'https://is1-ssl.mzstatic.com/image/thumb/Music125/v4/49/3d/ab/493dab54-f920-9043-6181-80993b8116c9/19UMGIM53909.rgb.jpg/60x60bb.jpg', 'artworkUrl100': 'https://is1-ssl.mzstatic.com/image/thumb/Music125/v4/49/3d/ab/493dab54-f920-9043-6181-80993b8116c9/19UMGIM53909.rgb.jpg/100x100bb.jpg', 'collectionPrice': 11.99, 'trackPrice': 1.29, 'releaseDate': '2019-08-23T07:00:00Z', 'collectionExplicitness': 'notExplicit', 'trackExplicitness': 'notExplicit', 'discCount': 1, 'discNumber': 1, 'trackCount': 18, 'trackNumber': 2, 'trackTimeMillis': 178426, 'country': 'USA', 'currency': 'USD', 'primaryGenreName': 'Pop', 'isStreamable': True}, {'wrapperType': 'track', 'kind': 'song', 'artistId': 159260351, 'collectionId': 1440935467, 'trackId': 1440936016, 'artistName': 'Taylor Swift', 'collectionName': '1989', 'trackName': 'Shake It Off', 'collectionCensoredName': '1989', 'trackCensoredName': 'Shake It Off', 'artistViewUrl': 'https://music.apple.com/us/artist/taylor-swift/159260351?uo=4', 'collectionViewUrl': 'https://music.apple.com/us/album/shake-it-off/1440935467?i=1440936016&uo=4', 'trackViewUrl': 'https://music.apple.com/us/album/shake-it-off/1440935467?i=1440936016&uo=4', 'previewUrl': 'https://audio-ssl.itunes.apple.com/itunes-assets/AudioPreview126/v4/5e/10/7c/5e107c9b-5fe8-581a-5ea4-717903781d94/mzaf_13937309032449903025.plus.aac.p.m4a', 'artworkUrl30': 'https://is1-ssl.mzstatic.com/image/thumb/Music115/v4/09/01/16/090116af-770e-23da-21a9-6bd30782eda5/00843930013562.rgb.jpg/30x30bb.jpg', 'artworkUrl60': 'https://is1-ssl.mzstatic.com/image/thumb/Music115/v4/09/01/16/090116af-770e-23da-21a9-6bd30782eda5/00843930013562.rgb.jpg/60x60bb.jpg', 'artworkUrl100': 'https://is1-ssl.mzstatic.com/image/thumb/Music115/v4/09/01/16/090116af-770e-23da-21a9-6bd30782eda5/00843930013562.rgb.jpg/100x100bb.jpg', 'collectionPrice': 10.99, 'trackPrice': 1.29, 'releaseDate': '2014-08-19T07:00:00Z', 'collectionExplicitness': 'notExplicit', 'trackExplicitness': 'notExplicit', 'discCount': 1, 'discNumber': 1, 'trackCount': 13, 'trackNumber': 6, 'trackTimeMillis': 219209, 'country': 'USA', 'currency': 'USD', 'primaryGenreName': 'Pop', 'isStreamable': True}, {'wrapperType': 'track', 'kind': 'song', 'artistId': 159260351, 'collectionId': 1838810949, 'trackId': 1838810952, 'artistName': 'Taylor Swift', 'collectionName': 'The Life of a Showgirl', 'trackName': 'Elizabeth Taylor', 'collectionCensoredName': 'The Life of a Showgirl', 'trackCensoredName': 'Elizabeth Taylor', 'artistViewUrl': 'https://music.apple.com/us/artist/taylor-swift/159260351?uo=4', 'collectionViewUrl': 'https://music.apple.com/us/album/elizabeth-taylor/1838810949?i=1838810952&uo=4', 'trackViewUrl': 'https://music.apple.com/us/album/elizabeth-taylor/1838810949?i=1838810952&uo=4', 'previewUrl': 'https://audio-ssl.itunes.apple.com/itunes-assets/AudioPreview211/v4/c7/21/81/c721818e-c817-802f-90ce-0e77bcacdfa5/mzaf_13328160812088078800.plus.aac.p.m4a', 'artworkUrl30': 'https://is1-ssl.mzstatic.com/image/thumb/Music221/v4/58/8f/a9/588fa9a2-7cc5-f02c-9ce6-c986e0dc1c15/25UM1IM19577.rgb.jpg/30x30bb.jpg', 'artworkUrl60': 'https://is1-ssl.mzstatic.com/image/thumb/Music221/v4/58/8f/a9/588fa9a2-7cc5-f02c-9ce6-c986e0dc1c15/25UM1IM19577.rgb.jpg/60x60bb.jpg', 'artworkUrl100': 'https://is1-ssl.mzstatic.com/image/thumb/Music221/v4/58/8f/a9/588fa9a2-7cc5-f02c-9ce6-c986e0dc1c15/25UM1IM19577.rgb.jpg/100x100bb.jpg', 'collectionPrice': 11.99, 'trackPrice': -1.0, 'releaseDate': '2025-10-03T12:00:00Z', 'collectionExplicitness': 'explicit', 'trackExplicitness': 'notExplicit', 'discCount': 1, 'discNumber': 1, 'trackCount': 12, 'trackNumber': 2, 'trackTimeMillis': 208292, 'country': 'USA', 'currency': 'USD', 'primaryGenreName': 'Pop', 'isStreamable': True}, {'wrapperType': 'track', 'kind': 'song', 'artistId': 159260351, 'collectionId': 1452859090, 'trackId': 1452859410, 'artistName': 'Taylor Swift', 'collectionName': 'Fearless (Platinum Edition)', 'trackName': 'Love Story', 'collectionCensoredName': 'Fearless (Platinum Edition)', 'trackCensoredName': 'Love Story', 'artistViewUrl': 'https://music.apple.com/us/artist/taylor-swift/159260351?uo=4', 'collectionViewUrl': 'https://music.apple.com/us/album/love-story/1452859090?i=1452859410&uo=4', 'trackViewUrl': 'https://music.apple.com/us/album/love-story/1452859090?i=1452859410&uo=4', 'previewUrl': 'https://audio-ssl.itunes.apple.com/itunes-assets/AudioPreview126/v4/01/b2/d3/01b2d3f4-d1ea-0a9e-3090-e6d609b33691/mzaf_17152798784953812339.plus.aac.p.m4a', 'artworkUrl30': 'https://is1-ssl.mzstatic.com/image/thumb/Music115/v4/59/dc/cb/59dccbb0-73f9-701e-7b5b-58c902ddfe68/09UMDIM00338.rgb.jpg/30x30bb.jpg', 'artworkUrl60': 'https://is1-ssl.mzstatic.com/image/thumb/Music115/v4/59/dc/cb/59dccbb0-73f9-701e-7b5b-58c902ddfe68/09UMDIM00338.rgb.jpg/60x60bb.jpg', 'artworkUrl100': 'https://is1-ssl.mzstatic.com/image/thumb/Music115/v4/59/dc/cb/59dccbb0-73f9-701e-7b5b-58c902ddfe68/09UMDIM00338.rgb.jpg/100x100bb.jpg', 'collectionPrice': -1.0, 'trackPrice': 1.29, 'releaseDate': '2008-09-12T12:00:00Z', 'collectionExplicitness': 'notExplicit', 'trackExplicitness': 'notExplicit', 'discCount': 1, 'discNumber': 1, 'trackCount': 19, 'trackNumber': 9, 'trackTimeMillis': 235280, 'country': 'USA', 'currency': 'USD', 'primaryGenreName': 'Country', 'isStreamable': True}, {'wrapperType': 'track', 'kind': 'song', 'artistId': 159260351, 'collectionId': 1440935467, 'trackId': 1440935808, 'artistName': 'Taylor Swift', 'collectionName': '1989', 'trackName': 'Blank Space', 'collectionCensoredName': '1989', 'trackCensoredName': 'Blank Space', 'artistViewUrl': 'https://music.apple.com/us/artist/taylor-swift/159260351?uo=4', 'collectionViewUrl': 'https://music.apple.com/us/album/blank-space/1440935467?i=1440935808&uo=4', 'trackViewUrl': 'https://music.apple.com/us/album/blank-space/1440935467?i=1440935808&uo=4', 'previewUrl': 'https://audio-ssl.itunes.apple.com/itunes-assets/AudioPreview125/v4/57/dc/f4/57dcf476-1af6-3706-c0b4-aa2d97c702ce/mzaf_509502127790931850.plus.aac.p.m4a', 'artworkUrl30': 'https://is1-ssl.mzstatic.com/image/thumb/Music115/v4/09/01/16/090116af-770e-23da-21a9-6bd30782eda5/00843930013562.rgb.jpg/30x30bb.jpg', 'artworkUrl60': 'https://is1-ssl.mzstatic.com/image/thumb/Music115/v4/09/01/16/090116af-770e-23da-21a9-6bd30782eda5/00843930013562.rgb.jpg/60x60bb.jpg', 'artworkUrl100': 'https://is1-ssl.mzstatic.com/image/thumb/Music115/v4/09/01/16/090116af-770e-23da-21a9-6bd30782eda5/00843930013562.rgb.jpg/100x100bb.jpg', 'collectionPrice': 10.99, 'trackPrice': 1.29, 'releaseDate': '2014-10-27T07:00:00Z', 'collectionExplicitness': 'notExplicit', 'trackExplicitness': 'notExplicit', 'discCount': 1, 'discNumber': 1, 'trackCount': 13, 'trackNumber': 2, 'trackTimeMillis': 231833, 'country': 'USA', 'currency': 'USD', 'primaryGenreName': 'Pop', 'isStreamable': True}, {'wrapperType': 'track', 'kind': 'song', 'artistId': 159260351, 'collectionId': 1452859090, 'trackId': 1452859427, 'artistName': 'Taylor Swift', 'collectionName': 'Fearless (Platinum Edition)', 'trackName': 'You Belong With Me', 'collectionCensoredName': 'Fearless (Platinum Edition)', 'trackCensoredName': 'You Belong With Me', 'artistViewUrl': 'https://music.apple.com/us/artist/taylor-swift/159260351?uo=4', 'collectionViewUrl': 'https://music.apple.com/us/album/you-belong-with-me/1452859090?i=1452859427&uo=4', 'trackViewUrl': 'https://music.apple.com/us/album/you-belong-with-me/1452859090?i=1452859427&uo=4', 'previewUrl': 'https://audio-ssl.itunes.apple.com/itunes-assets/AudioPreview125/v4/d4/2f/90/d42f9068-510c-b84d-4a88-4db0bda8b33d/mzaf_11067083354470849837.plus.aac.p.m4a', 'artworkUrl30': 'https://is1-ssl.mzstatic.com/image/thumb/Music115/v4/59/dc/cb/59dccbb0-73f9-701e-7b5b-58c902ddfe68/09UMDIM00338.rgb.jpg/30x30bb.jpg', 'artworkUrl60': 'https://is1-ssl.mzstatic.com/image/thumb/Music115/v4/59/dc/cb/59dccbb0-73f9-701e-7b5b-58c902ddfe68/09UMDIM00338.rgb.jpg/60x60bb.jpg', 'artworkUrl100': 'https://is1-ssl.mzstatic.com/image/thumb/Music115/v4/59/dc/cb/59dccbb0-73f9-701e-7b5b-58c902ddfe68/09UMDIM00338.rgb.jpg/100x100bb.jpg', 'collectionPrice': -1.0, 'trackPrice': 1.29, 'releaseDate': '2008-11-11T12:00:00Z', 'collectionExplicitness': 'notExplicit', 'trackExplicitness': 'notExplicit', 'discCount': 1, 'discNumber': 1, 'trackCount': 19, 'trackNumber': 12, 'trackTimeMillis': 231147, 'country': 'USA', 'currency': 'USD', 'primaryGenreName': 'Country', 'isStreamable': True}, {'wrapperType': 'track', 'kind': 'song', 'artistId': 159260351, 'collectionId': 1440913923, 'trackId': 1440914010, 'artistName': 'Taylor Swift', 'collectionName': 'Taylor Swift (Bonus Track Version)', 'trackName': 'Our Song', 'collectionCensoredName': 'Taylor Swift (Bonus Track Version)', 'trackCensoredName': 'Our Song', 'artistViewUrl': 'https://music.apple.com/us/artist/taylor-swift/159260351?uo=4', 'collectionViewUrl': 'https://music.apple.com/us/album/our-song/1440913923?i=1440914010&uo=4', 'trackViewUrl': 'https://music.apple.com/us/album/our-song/1440913923?i=1440914010&uo=4', 'previewUrl': 'https://audio-ssl.itunes.apple.com/itunes-assets/AudioPreview211/v4/5c/f3/b9/5cf3b960-a9b0-cba9-33e5-b3131772e824/mzaf_5736754108227620654.plus.aac.p.m4a', 'artworkUrl30': 'https://is1-ssl.mzstatic.com/image/thumb/Music114/v4/32/b5/6b/32b56b49-0075-7128-e6ec-7c3c4c697242/00843930000821.rgb.jpg/30x30bb.jpg', 'artworkUrl60': 'https://is1-ssl.mzstatic.com/image/thumb/Music114/v4/32/b5/6b/32b56b49-0075-7128-e6ec-7c3c4c697242/00843930000821.rgb.jpg/60x60bb.jpg', 'artworkUrl100': 'https://is1-ssl.mzstatic.com/image/thumb/Music114/v4/32/b5/6b/32b56b49-0075-7128-e6ec-7c3c4c697242/00843930000821.rgb.jpg/100x100bb.jpg', 'collectionPrice': 9.99, 'trackPrice': 1.29, 'releaseDate': '2006-10-24T12:00:00Z', 'collectionExplicitness': 'notExplicit', 'trackExplicitness': 'notExplicit', 'discCount': 1, 'discNumber': 1, 'trackCount': 15, 'trackNumber': 11, 'trackTimeMillis': 201107, 'country': 'USA', 'currency': 'USD', 'primaryGenreName': 'Country', 'isStreamable': True}, {'wrapperType': 'track', 'kind': 'song', 'artistId': 159260351, 'collectionId': 1440935467, 'trackId': 1440936028, 'artistName': 'Taylor Swift', 'collectionName': '1989', 'trackName': 'Bad Blood', 'collectionCensoredName': '1989', 'trackCensoredName': 'Bad Blood', 'artistViewUrl': 'https://music.apple.com/us/artist/taylor-swift/159260351?uo=4', 'collectionViewUrl': 'https://music.apple.com/us/album/bad-blood/1440935467?i=1440936028&uo=4', 'trackViewUrl': 'https://music.apple.com/us/album/bad-blood/1440935467?i=1440936028&uo=4', 'previewUrl': 'https://audio-ssl.itunes.apple.com/itunes-assets/AudioPreview125/v4/80/e6/a8/80e6a803-1117-cd3f-48da-a3e6799eea3c/mzaf_10174351058545549372.plus.aac.p.m4a', 'artworkUrl30': 'https://is1-ssl.mzstatic.com/image/thumb/Music115/v4/09/01/16/090116af-770e-23da-21a9-6bd30782eda5/00843930013562.rgb.jpg/30x30bb.jpg', 'artworkUrl60': 'https://is1-ssl.mzstatic.com/image/thumb/Music115/v4/09/01/16/090116af-770e-23da-21a9-6bd30782eda5/00843930013562.rgb.jpg/60x60bb.jpg', 'artworkUrl100': 'https://is1-ssl.mzstatic.com/image/thumb/Music115/v4/09/01/16/090116af-770e-23da-21a9-6bd30782eda5/00843930013562.rgb.jpg/100x100bb.jpg', 'collectionPrice': 10.99, 'trackPrice': 1.29, 'releaseDate': '2014-10-27T07:00:00Z', 'collectionExplicitness': 'notExplicit', 'trackExplicitness': 'notExplicit', 'discCount': 1, 'discNumber': 1, 'trackCount': 13, 'trackNumber': 8, 'trackTimeMillis': 211933, 'country': 'USA', 'currency': 'USD', 'primaryGenreName': 'Pop', 'isStreamable': True}, {'wrapperType': 'track', 'kind': 'song', 'artistId': 159260351, 'collectionId': 1440935467, 'trackId': 1440936036, 'artistName': 'Taylor Swift', 'collectionName': '1989', 'trackName': 'Wildest Dreams', 'collectionCensoredName': '1989', 'trackCensoredName': 'Wildest Dreams', 'artistViewUrl': 'https://music.apple.com/us/artist/taylor-swift/159260351?uo=4', 'collectionViewUrl': 'https://music.apple.com/us/album/wildest-dreams/1440935467?i=1440936036&uo=4', 'trackViewUrl': 'https://music.apple.com/us/album/wildest-dreams/1440935467?i=1440936036&uo=4', 'previewUrl': 'https://audio-ssl.itunes.apple.com/itunes-assets/AudioPreview115/v4/84/fa/ad/84faad60-0a35-ddaf-ceb5-2ff09e0b0e5a/mzaf_4333199558904738055.plus.aac.p.m4a', 'artworkUrl30': 'https://is1-ssl.mzstatic.com/image/thumb/Music115/v4/09/01/16/090116af-770e-23da-21a9-6bd30782eda5/00843930013562.rgb.jpg/30x30bb.jpg', 'artworkUrl60': 'https://is1-ssl.mzstatic.com/image/thumb/Music115/v4/09/01/16/090116af-770e-23da-21a9-6bd30782eda5/00843930013562.rgb.jpg/60x60bb.jpg', 'artworkUrl100': 'https://is1-ssl.mzstatic.com/image/thumb/Music115/v4/09/01/16/090116af-770e-23da-21a9-6bd30782eda5/00843930013562.rgb.jpg/100x100bb.jpg', 'collectionPrice': 10.99, 'trackPrice': 1.29, 'releaseDate': '2014-10-27T07:00:00Z', 'collectionExplicitness': 'notExplicit', 'trackExplicitness': 'notExplicit', 'discCount': 1, 'discNumber': 1, 'trackCount': 13, 'trackNumber': 9, 'trackTimeMillis': 220433, 'country': 'USA', 'currency': 'USD', 'primaryGenreName': 'Pop', 'isStreamable': True}]}\n"
     ]
    }
   ],
   "source": [
    "def search_itunes(query, media_type=\"music\"):\n",
    "    \"\"\"Search iTunes and return results in JSON format.\n",
    "    \n",
    "    Args:\n",
    "        query (str): The search term.\n",
    "        media_type (str): The type of media to search for (e.g., music, movie, podcast).\n",
    "    \n",
    "    Returns:\n",
    "        dict: The JSON response from the iTunes API.\n",
    "    \"\"\"\n",
    "    base_url = \"https://itunes.apple.com/search\"\n",
    "    params = {\n",
    "        \"term\": query,\n",
    "        \"media\": media_type,\n",
    "        \"limit\": 10  # Limit the number of results to 10\n",
    "    }\n",
    "    \n",
    "    response = requests.get(base_url, params=params)\n",
    "    \n",
    "    # Check if the request was successful\n",
    "    if response.status_code == 200:\n",
    "        return response.json()  # Convert the response to JSON\n",
    "    else:\n",
    "        response.raise_for_status()  # Raise an exception for HTTP errors\n",
    "\n",
    "# Example usage\n",
    "query = \"Taylor Swift\"\n",
    "media_type = \"music\"\n",
    "results = search_itunes(query, media_type)\n",
    "\n",
    "print(results)"
   ]
  },
  {
   "cell_type": "code",
   "execution_count": 117,
   "id": "6533c4d1",
   "metadata": {},
   "outputs": [
    {
     "data": {
      "text/plain": [
       "{'resultCount': 10,\n",
       " 'results': [{'wrapperType': 'track',\n",
       "   'kind': 'song',\n",
       "   'artistId': 159260351,\n",
       "   'collectionId': 1468058165,\n",
       "   'trackId': 1468058173,\n",
       "   'artistName': 'Taylor Swift',\n",
       "   'collectionName': 'Lover',\n",
       "   'trackName': 'Lover',\n",
       "   'collectionCensoredName': 'Lover',\n",
       "   'trackCensoredName': 'Lover',\n",
       "   'artistViewUrl': 'https://music.apple.com/us/artist/taylor-swift/159260351?uo=4',\n",
       "   'collectionViewUrl': 'https://music.apple.com/us/album/lover/1468058165?i=1468058173&uo=4',\n",
       "   'trackViewUrl': 'https://music.apple.com/us/album/lover/1468058165?i=1468058173&uo=4',\n",
       "   'previewUrl': 'https://audio-ssl.itunes.apple.com/itunes-assets/AudioPreview211/v4/4f/fd/c7/4ffdc746-c0de-999b-eb93-2753eaa18978/mzaf_8574966813156057641.plus.aac.p.m4a',\n",
       "   'artworkUrl30': 'https://is1-ssl.mzstatic.com/image/thumb/Music125/v4/49/3d/ab/493dab54-f920-9043-6181-80993b8116c9/19UMGIM53909.rgb.jpg/30x30bb.jpg',\n",
       "   'artworkUrl60': 'https://is1-ssl.mzstatic.com/image/thumb/Music125/v4/49/3d/ab/493dab54-f920-9043-6181-80993b8116c9/19UMGIM53909.rgb.jpg/60x60bb.jpg',\n",
       "   'artworkUrl100': 'https://is1-ssl.mzstatic.com/image/thumb/Music125/v4/49/3d/ab/493dab54-f920-9043-6181-80993b8116c9/19UMGIM53909.rgb.jpg/100x100bb.jpg',\n",
       "   'collectionPrice': 11.99,\n",
       "   'trackPrice': 1.29,\n",
       "   'releaseDate': '2019-08-16T07:00:00Z',\n",
       "   'collectionExplicitness': 'notExplicit',\n",
       "   'trackExplicitness': 'notExplicit',\n",
       "   'discCount': 1,\n",
       "   'discNumber': 1,\n",
       "   'trackCount': 18,\n",
       "   'trackNumber': 3,\n",
       "   'trackTimeMillis': 221300,\n",
       "   'country': 'USA',\n",
       "   'currency': 'USD',\n",
       "   'primaryGenreName': 'Pop',\n",
       "   'isStreamable': True},\n",
       "  {'wrapperType': 'track',\n",
       "   'kind': 'song',\n",
       "   'artistId': 159260351,\n",
       "   'collectionId': 1468058165,\n",
       "   'trackId': 1468058704,\n",
       "   'artistName': 'Taylor Swift',\n",
       "   'collectionName': 'Lover',\n",
       "   'trackName': 'You Need To Calm Down',\n",
       "   'collectionCensoredName': 'Lover',\n",
       "   'trackCensoredName': 'You Need To Calm Down',\n",
       "   'artistViewUrl': 'https://music.apple.com/us/artist/taylor-swift/159260351?uo=4',\n",
       "   'collectionViewUrl': 'https://music.apple.com/us/album/you-need-to-calm-down/1468058165?i=1468058704&uo=4',\n",
       "   'trackViewUrl': 'https://music.apple.com/us/album/you-need-to-calm-down/1468058165?i=1468058704&uo=4',\n",
       "   'previewUrl': 'https://audio-ssl.itunes.apple.com/itunes-assets/AudioPreview211/v4/85/05/a9/8505a97c-15ff-f665-fec4-f6bf59e5b0fa/mzaf_5253572336075386160.plus.aac.p.m4a',\n",
       "   'artworkUrl30': 'https://is1-ssl.mzstatic.com/image/thumb/Music125/v4/49/3d/ab/493dab54-f920-9043-6181-80993b8116c9/19UMGIM53909.rgb.jpg/30x30bb.jpg',\n",
       "   'artworkUrl60': 'https://is1-ssl.mzstatic.com/image/thumb/Music125/v4/49/3d/ab/493dab54-f920-9043-6181-80993b8116c9/19UMGIM53909.rgb.jpg/60x60bb.jpg',\n",
       "   'artworkUrl100': 'https://is1-ssl.mzstatic.com/image/thumb/Music125/v4/49/3d/ab/493dab54-f920-9043-6181-80993b8116c9/19UMGIM53909.rgb.jpg/100x100bb.jpg',\n",
       "   'collectionPrice': 11.99,\n",
       "   'trackPrice': 1.29,\n",
       "   'releaseDate': '2019-06-14T07:00:00Z',\n",
       "   'collectionExplicitness': 'notExplicit',\n",
       "   'trackExplicitness': 'notExplicit',\n",
       "   'discCount': 1,\n",
       "   'discNumber': 1,\n",
       "   'trackCount': 18,\n",
       "   'trackNumber': 14,\n",
       "   'trackTimeMillis': 171352,\n",
       "   'country': 'USA',\n",
       "   'currency': 'USD',\n",
       "   'primaryGenreName': 'Pop',\n",
       "   'isStreamable': True},\n",
       "  {'wrapperType': 'track',\n",
       "   'kind': 'song',\n",
       "   'artistId': 159260351,\n",
       "   'collectionId': 1468058165,\n",
       "   'trackId': 1468058171,\n",
       "   'artistName': 'Taylor Swift',\n",
       "   'collectionName': 'Lover',\n",
       "   'trackName': 'Cruel Summer',\n",
       "   'collectionCensoredName': 'Lover',\n",
       "   'trackCensoredName': 'Cruel Summer',\n",
       "   'artistViewUrl': 'https://music.apple.com/us/artist/taylor-swift/159260351?uo=4',\n",
       "   'collectionViewUrl': 'https://music.apple.com/us/album/cruel-summer/1468058165?i=1468058171&uo=4',\n",
       "   'trackViewUrl': 'https://music.apple.com/us/album/cruel-summer/1468058165?i=1468058171&uo=4',\n",
       "   'previewUrl': 'https://audio-ssl.itunes.apple.com/itunes-assets/AudioPreview211/v4/96/61/ff/9661ff73-0d57-582a-5e57-5687abb33313/mzaf_15246628164161261055.plus.aac.p.m4a',\n",
       "   'artworkUrl30': 'https://is1-ssl.mzstatic.com/image/thumb/Music125/v4/49/3d/ab/493dab54-f920-9043-6181-80993b8116c9/19UMGIM53909.rgb.jpg/30x30bb.jpg',\n",
       "   'artworkUrl60': 'https://is1-ssl.mzstatic.com/image/thumb/Music125/v4/49/3d/ab/493dab54-f920-9043-6181-80993b8116c9/19UMGIM53909.rgb.jpg/60x60bb.jpg',\n",
       "   'artworkUrl100': 'https://is1-ssl.mzstatic.com/image/thumb/Music125/v4/49/3d/ab/493dab54-f920-9043-6181-80993b8116c9/19UMGIM53909.rgb.jpg/100x100bb.jpg',\n",
       "   'collectionPrice': 11.99,\n",
       "   'trackPrice': 1.29,\n",
       "   'releaseDate': '2019-08-23T07:00:00Z',\n",
       "   'collectionExplicitness': 'notExplicit',\n",
       "   'trackExplicitness': 'notExplicit',\n",
       "   'discCount': 1,\n",
       "   'discNumber': 1,\n",
       "   'trackCount': 18,\n",
       "   'trackNumber': 2,\n",
       "   'trackTimeMillis': 178426,\n",
       "   'country': 'USA',\n",
       "   'currency': 'USD',\n",
       "   'primaryGenreName': 'Pop',\n",
       "   'isStreamable': True},\n",
       "  {'wrapperType': 'track',\n",
       "   'kind': 'song',\n",
       "   'artistId': 159260351,\n",
       "   'collectionId': 1468058165,\n",
       "   'trackId': 1468058177,\n",
       "   'artistName': 'Taylor Swift',\n",
       "   'collectionName': 'Lover',\n",
       "   'trackName': 'The Archer',\n",
       "   'collectionCensoredName': 'Lover',\n",
       "   'trackCensoredName': 'The Archer',\n",
       "   'artistViewUrl': 'https://music.apple.com/us/artist/taylor-swift/159260351?uo=4',\n",
       "   'collectionViewUrl': 'https://music.apple.com/us/album/the-archer/1468058165?i=1468058177&uo=4',\n",
       "   'trackViewUrl': 'https://music.apple.com/us/album/the-archer/1468058165?i=1468058177&uo=4',\n",
       "   'previewUrl': 'https://audio-ssl.itunes.apple.com/itunes-assets/AudioPreview221/v4/d6/72/ff/d672ffa9-9504-10b0-d3e6-bcf888b7ef00/mzaf_6747193909082167147.plus.aac.p.m4a',\n",
       "   'artworkUrl30': 'https://is1-ssl.mzstatic.com/image/thumb/Music125/v4/49/3d/ab/493dab54-f920-9043-6181-80993b8116c9/19UMGIM53909.rgb.jpg/30x30bb.jpg',\n",
       "   'artworkUrl60': 'https://is1-ssl.mzstatic.com/image/thumb/Music125/v4/49/3d/ab/493dab54-f920-9043-6181-80993b8116c9/19UMGIM53909.rgb.jpg/60x60bb.jpg',\n",
       "   'artworkUrl100': 'https://is1-ssl.mzstatic.com/image/thumb/Music125/v4/49/3d/ab/493dab54-f920-9043-6181-80993b8116c9/19UMGIM53909.rgb.jpg/100x100bb.jpg',\n",
       "   'collectionPrice': 11.99,\n",
       "   'trackPrice': 1.29,\n",
       "   'releaseDate': '2019-07-23T07:00:00Z',\n",
       "   'collectionExplicitness': 'notExplicit',\n",
       "   'trackExplicitness': 'notExplicit',\n",
       "   'discCount': 1,\n",
       "   'discNumber': 1,\n",
       "   'trackCount': 18,\n",
       "   'trackNumber': 5,\n",
       "   'trackTimeMillis': 211235,\n",
       "   'country': 'USA',\n",
       "   'currency': 'USD',\n",
       "   'primaryGenreName': 'Pop',\n",
       "   'isStreamable': True},\n",
       "  {'wrapperType': 'track',\n",
       "   'kind': 'song',\n",
       "   'artistId': 159260351,\n",
       "   'collectionId': 1468058165,\n",
       "   'trackId': 1468058706,\n",
       "   'artistName': 'Taylor Swift',\n",
       "   'collectionName': 'Lover',\n",
       "   'trackName': 'ME! (feat. Brendon Urie of Panic! At The Disco)',\n",
       "   'collectionCensoredName': 'Lover',\n",
       "   'trackCensoredName': 'ME! (feat. Brendon Urie of Panic! At The Disco)',\n",
       "   'artistViewUrl': 'https://music.apple.com/us/artist/taylor-swift/159260351?uo=4',\n",
       "   'collectionViewUrl': 'https://music.apple.com/us/album/me-feat-brendon-urie-of-panic-at-the-disco/1468058165?i=1468058706&uo=4',\n",
       "   'trackViewUrl': 'https://music.apple.com/us/album/me-feat-brendon-urie-of-panic-at-the-disco/1468058165?i=1468058706&uo=4',\n",
       "   'previewUrl': 'https://audio-ssl.itunes.apple.com/itunes-assets/AudioPreview221/v4/08/b2/a1/08b2a176-be4a-6218-3339-dd1dbf00c443/mzaf_13396297911439214793.plus.aac.p.m4a',\n",
       "   'artworkUrl30': 'https://is1-ssl.mzstatic.com/image/thumb/Music125/v4/49/3d/ab/493dab54-f920-9043-6181-80993b8116c9/19UMGIM53909.rgb.jpg/30x30bb.jpg',\n",
       "   'artworkUrl60': 'https://is1-ssl.mzstatic.com/image/thumb/Music125/v4/49/3d/ab/493dab54-f920-9043-6181-80993b8116c9/19UMGIM53909.rgb.jpg/60x60bb.jpg',\n",
       "   'artworkUrl100': 'https://is1-ssl.mzstatic.com/image/thumb/Music125/v4/49/3d/ab/493dab54-f920-9043-6181-80993b8116c9/19UMGIM53909.rgb.jpg/100x100bb.jpg',\n",
       "   'collectionPrice': 11.99,\n",
       "   'trackPrice': 1.29,\n",
       "   'releaseDate': '2019-04-26T07:00:00Z',\n",
       "   'collectionExplicitness': 'notExplicit',\n",
       "   'trackExplicitness': 'notExplicit',\n",
       "   'discCount': 1,\n",
       "   'discNumber': 1,\n",
       "   'trackCount': 18,\n",
       "   'trackNumber': 16,\n",
       "   'trackTimeMillis': 193000,\n",
       "   'country': 'USA',\n",
       "   'currency': 'USD',\n",
       "   'primaryGenreName': 'Pop',\n",
       "   'isStreamable': True},\n",
       "  {'wrapperType': 'track',\n",
       "   'kind': 'song',\n",
       "   'artistId': 159260351,\n",
       "   'collectionId': 1468058165,\n",
       "   'trackId': 1468058699,\n",
       "   'artistName': 'Taylor Swift',\n",
       "   'collectionName': 'Lover',\n",
       "   'trackName': 'Soon You’ll Get Better (feat. The Chicks)',\n",
       "   'collectionCensoredName': 'Lover',\n",
       "   'trackCensoredName': 'Soon You’ll Get Better (feat. The Chicks)',\n",
       "   'artistViewUrl': 'https://music.apple.com/us/artist/taylor-swift/159260351?uo=4',\n",
       "   'collectionViewUrl': 'https://music.apple.com/us/album/soon-youll-get-better-feat-the-chicks/1468058165?i=1468058699&uo=4',\n",
       "   'trackViewUrl': 'https://music.apple.com/us/album/soon-youll-get-better-feat-the-chicks/1468058165?i=1468058699&uo=4',\n",
       "   'previewUrl': 'https://audio-ssl.itunes.apple.com/itunes-assets/AudioPreview211/v4/a4/cd/f3/a4cdf39b-9a13-9826-54d6-1f1d26485dca/mzaf_2564565437711864211.plus.aac.p.m4a',\n",
       "   'artworkUrl30': 'https://is1-ssl.mzstatic.com/image/thumb/Music125/v4/49/3d/ab/493dab54-f920-9043-6181-80993b8116c9/19UMGIM53909.rgb.jpg/30x30bb.jpg',\n",
       "   'artworkUrl60': 'https://is1-ssl.mzstatic.com/image/thumb/Music125/v4/49/3d/ab/493dab54-f920-9043-6181-80993b8116c9/19UMGIM53909.rgb.jpg/60x60bb.jpg',\n",
       "   'artworkUrl100': 'https://is1-ssl.mzstatic.com/image/thumb/Music125/v4/49/3d/ab/493dab54-f920-9043-6181-80993b8116c9/19UMGIM53909.rgb.jpg/100x100bb.jpg',\n",
       "   'collectionPrice': 11.99,\n",
       "   'trackPrice': 1.29,\n",
       "   'releaseDate': '2019-08-23T07:00:00Z',\n",
       "   'collectionExplicitness': 'notExplicit',\n",
       "   'trackExplicitness': 'notExplicit',\n",
       "   'discCount': 1,\n",
       "   'discNumber': 1,\n",
       "   'trackCount': 18,\n",
       "   'trackNumber': 12,\n",
       "   'trackTimeMillis': 201590,\n",
       "   'country': 'USA',\n",
       "   'currency': 'USD',\n",
       "   'primaryGenreName': 'Pop',\n",
       "   'isStreamable': True},\n",
       "  {'wrapperType': 'track',\n",
       "   'kind': 'song',\n",
       "   'artistId': 159260351,\n",
       "   'collectionId': 1468058165,\n",
       "   'trackId': 1468058169,\n",
       "   'artistName': 'Taylor Swift',\n",
       "   'collectionName': 'Lover',\n",
       "   'trackName': 'I Forgot That You Existed',\n",
       "   'collectionCensoredName': 'Lover',\n",
       "   'trackCensoredName': 'I Forgot That You Existed',\n",
       "   'artistViewUrl': 'https://music.apple.com/us/artist/taylor-swift/159260351?uo=4',\n",
       "   'collectionViewUrl': 'https://music.apple.com/us/album/i-forgot-that-you-existed/1468058165?i=1468058169&uo=4',\n",
       "   'trackViewUrl': 'https://music.apple.com/us/album/i-forgot-that-you-existed/1468058165?i=1468058169&uo=4',\n",
       "   'previewUrl': 'https://audio-ssl.itunes.apple.com/itunes-assets/AudioPreview211/v4/47/0e/44/470e44f6-b7f6-d9b6-2808-0c0396351fd2/mzaf_10683787134779885341.plus.aac.p.m4a',\n",
       "   'artworkUrl30': 'https://is1-ssl.mzstatic.com/image/thumb/Music125/v4/49/3d/ab/493dab54-f920-9043-6181-80993b8116c9/19UMGIM53909.rgb.jpg/30x30bb.jpg',\n",
       "   'artworkUrl60': 'https://is1-ssl.mzstatic.com/image/thumb/Music125/v4/49/3d/ab/493dab54-f920-9043-6181-80993b8116c9/19UMGIM53909.rgb.jpg/60x60bb.jpg',\n",
       "   'artworkUrl100': 'https://is1-ssl.mzstatic.com/image/thumb/Music125/v4/49/3d/ab/493dab54-f920-9043-6181-80993b8116c9/19UMGIM53909.rgb.jpg/100x100bb.jpg',\n",
       "   'collectionPrice': 11.99,\n",
       "   'trackPrice': 1.29,\n",
       "   'releaseDate': '2019-08-23T07:00:00Z',\n",
       "   'collectionExplicitness': 'notExplicit',\n",
       "   'trackExplicitness': 'notExplicit',\n",
       "   'discCount': 1,\n",
       "   'discNumber': 1,\n",
       "   'trackCount': 18,\n",
       "   'trackNumber': 1,\n",
       "   'trackTimeMillis': 170651,\n",
       "   'country': 'USA',\n",
       "   'currency': 'USD',\n",
       "   'primaryGenreName': 'Pop',\n",
       "   'isStreamable': True},\n",
       "  {'wrapperType': 'track',\n",
       "   'kind': 'song',\n",
       "   'artistId': 159260351,\n",
       "   'collectionId': 1468058165,\n",
       "   'trackId': 1468058180,\n",
       "   'artistName': 'Taylor Swift',\n",
       "   'collectionName': 'Lover',\n",
       "   'trackName': 'Miss Americana & The Heartbreak Prince',\n",
       "   'collectionCensoredName': 'Lover',\n",
       "   'trackCensoredName': 'Miss Americana & The Heartbreak Prince',\n",
       "   'artistViewUrl': 'https://music.apple.com/us/artist/taylor-swift/159260351?uo=4',\n",
       "   'collectionViewUrl': 'https://music.apple.com/us/album/miss-americana-the-heartbreak-prince/1468058165?i=1468058180&uo=4',\n",
       "   'trackViewUrl': 'https://music.apple.com/us/album/miss-americana-the-heartbreak-prince/1468058165?i=1468058180&uo=4',\n",
       "   'previewUrl': 'https://audio-ssl.itunes.apple.com/itunes-assets/AudioPreview221/v4/c4/38/9b/c4389b8d-bb1e-2713-3fdb-a63c5d737ccb/mzaf_8781066753461023269.plus.aac.p.m4a',\n",
       "   'artworkUrl30': 'https://is1-ssl.mzstatic.com/image/thumb/Music125/v4/49/3d/ab/493dab54-f920-9043-6181-80993b8116c9/19UMGIM53909.rgb.jpg/30x30bb.jpg',\n",
       "   'artworkUrl60': 'https://is1-ssl.mzstatic.com/image/thumb/Music125/v4/49/3d/ab/493dab54-f920-9043-6181-80993b8116c9/19UMGIM53909.rgb.jpg/60x60bb.jpg',\n",
       "   'artworkUrl100': 'https://is1-ssl.mzstatic.com/image/thumb/Music125/v4/49/3d/ab/493dab54-f920-9043-6181-80993b8116c9/19UMGIM53909.rgb.jpg/100x100bb.jpg',\n",
       "   'collectionPrice': 11.99,\n",
       "   'trackPrice': 1.29,\n",
       "   'releaseDate': '2019-08-23T07:00:00Z',\n",
       "   'collectionExplicitness': 'notExplicit',\n",
       "   'trackExplicitness': 'notExplicit',\n",
       "   'discCount': 1,\n",
       "   'discNumber': 1,\n",
       "   'trackCount': 18,\n",
       "   'trackNumber': 7,\n",
       "   'trackTimeMillis': 234137,\n",
       "   'country': 'USA',\n",
       "   'currency': 'USD',\n",
       "   'primaryGenreName': 'Pop',\n",
       "   'isStreamable': True},\n",
       "  {'wrapperType': 'track',\n",
       "   'kind': 'song',\n",
       "   'artistId': 159260351,\n",
       "   'collectionId': 1468058165,\n",
       "   'trackId': 1468058185,\n",
       "   'artistName': 'Taylor Swift',\n",
       "   'collectionName': 'Lover',\n",
       "   'trackName': 'Death By A Thousand Cuts',\n",
       "   'collectionCensoredName': 'Lover',\n",
       "   'trackCensoredName': 'Death By A Thousand Cuts',\n",
       "   'artistViewUrl': 'https://music.apple.com/us/artist/taylor-swift/159260351?uo=4',\n",
       "   'collectionViewUrl': 'https://music.apple.com/us/album/death-by-a-thousand-cuts/1468058165?i=1468058185&uo=4',\n",
       "   'trackViewUrl': 'https://music.apple.com/us/album/death-by-a-thousand-cuts/1468058165?i=1468058185&uo=4',\n",
       "   'previewUrl': 'https://audio-ssl.itunes.apple.com/itunes-assets/AudioPreview221/v4/9d/e4/21/9de42109-b4b4-9989-c0af-e23b565c031d/mzaf_9751897862617583377.plus.aac.p.m4a',\n",
       "   'artworkUrl30': 'https://is1-ssl.mzstatic.com/image/thumb/Music125/v4/49/3d/ab/493dab54-f920-9043-6181-80993b8116c9/19UMGIM53909.rgb.jpg/30x30bb.jpg',\n",
       "   'artworkUrl60': 'https://is1-ssl.mzstatic.com/image/thumb/Music125/v4/49/3d/ab/493dab54-f920-9043-6181-80993b8116c9/19UMGIM53909.rgb.jpg/60x60bb.jpg',\n",
       "   'artworkUrl100': 'https://is1-ssl.mzstatic.com/image/thumb/Music125/v4/49/3d/ab/493dab54-f920-9043-6181-80993b8116c9/19UMGIM53909.rgb.jpg/100x100bb.jpg',\n",
       "   'collectionPrice': 11.99,\n",
       "   'trackPrice': 1.29,\n",
       "   'releaseDate': '2019-08-23T07:00:00Z',\n",
       "   'collectionExplicitness': 'notExplicit',\n",
       "   'trackExplicitness': 'notExplicit',\n",
       "   'discCount': 1,\n",
       "   'discNumber': 1,\n",
       "   'trackCount': 18,\n",
       "   'trackNumber': 10,\n",
       "   'trackTimeMillis': 198530,\n",
       "   'country': 'USA',\n",
       "   'currency': 'USD',\n",
       "   'primaryGenreName': 'Pop',\n",
       "   'isStreamable': True},\n",
       "  {'wrapperType': 'track',\n",
       "   'kind': 'song',\n",
       "   'artistId': 159260351,\n",
       "   'collectionId': 1468058165,\n",
       "   'trackId': 1468058181,\n",
       "   'artistName': 'Taylor Swift',\n",
       "   'collectionName': 'Lover',\n",
       "   'trackName': 'Paper Rings',\n",
       "   'collectionCensoredName': 'Lover',\n",
       "   'trackCensoredName': 'Paper Rings',\n",
       "   'artistViewUrl': 'https://music.apple.com/us/artist/taylor-swift/159260351?uo=4',\n",
       "   'collectionViewUrl': 'https://music.apple.com/us/album/paper-rings/1468058165?i=1468058181&uo=4',\n",
       "   'trackViewUrl': 'https://music.apple.com/us/album/paper-rings/1468058165?i=1468058181&uo=4',\n",
       "   'previewUrl': 'https://audio-ssl.itunes.apple.com/itunes-assets/AudioPreview221/v4/cd/f1/47/cdf1474c-fe9f-3d45-7ca1-c7a8e1aad405/mzaf_7251368477724682182.plus.aac.p.m4a',\n",
       "   'artworkUrl30': 'https://is1-ssl.mzstatic.com/image/thumb/Music125/v4/49/3d/ab/493dab54-f920-9043-6181-80993b8116c9/19UMGIM53909.rgb.jpg/30x30bb.jpg',\n",
       "   'artworkUrl60': 'https://is1-ssl.mzstatic.com/image/thumb/Music125/v4/49/3d/ab/493dab54-f920-9043-6181-80993b8116c9/19UMGIM53909.rgb.jpg/60x60bb.jpg',\n",
       "   'artworkUrl100': 'https://is1-ssl.mzstatic.com/image/thumb/Music125/v4/49/3d/ab/493dab54-f920-9043-6181-80993b8116c9/19UMGIM53909.rgb.jpg/100x100bb.jpg',\n",
       "   'collectionPrice': 11.99,\n",
       "   'trackPrice': 1.29,\n",
       "   'releaseDate': '2019-08-23T07:00:00Z',\n",
       "   'collectionExplicitness': 'notExplicit',\n",
       "   'trackExplicitness': 'notExplicit',\n",
       "   'discCount': 1,\n",
       "   'discNumber': 1,\n",
       "   'trackCount': 18,\n",
       "   'trackNumber': 8,\n",
       "   'trackTimeMillis': 222407,\n",
       "   'country': 'USA',\n",
       "   'currency': 'USD',\n",
       "   'primaryGenreName': 'Pop',\n",
       "   'isStreamable': True}]}"
      ]
     },
     "execution_count": 117,
     "metadata": {},
     "output_type": "execute_result"
    }
   ],
   "source": [
    "results"
   ]
  },
  {
   "cell_type": "code",
   "execution_count": 118,
   "id": "baa0141f",
   "metadata": {},
   "outputs": [
    {
     "data": {
      "text/plain": [
       "dict"
      ]
     },
     "execution_count": 118,
     "metadata": {},
     "output_type": "execute_result"
    }
   ],
   "source": [
    "type(results)"
   ]
  },
  {
   "cell_type": "markdown",
   "id": "c298fb1c",
   "metadata": {},
   "source": [
    "However, this result 'dictionary' is in fact a list of dictionaries!"
   ]
  },
  {
   "cell_type": "code",
   "execution_count": 119,
   "id": "cb8c2cc8",
   "metadata": {},
   "outputs": [
    {
     "name": "stdout",
     "output_type": "stream",
     "text": [
      "Number of results: 10\n"
     ]
    }
   ],
   "source": [
    "print(f\"Number of results: {results['resultCount']}\")"
   ]
  },
  {
   "cell_type": "code",
   "execution_count": 120,
   "id": "a49b57ff",
   "metadata": {},
   "outputs": [
    {
     "data": {
      "text/plain": [
       "[{'wrapperType': 'track',\n",
       "  'kind': 'song',\n",
       "  'artistId': 159260351,\n",
       "  'collectionId': 1468058165,\n",
       "  'trackId': 1468058173,\n",
       "  'artistName': 'Taylor Swift',\n",
       "  'collectionName': 'Lover',\n",
       "  'trackName': 'Lover',\n",
       "  'collectionCensoredName': 'Lover',\n",
       "  'trackCensoredName': 'Lover',\n",
       "  'artistViewUrl': 'https://music.apple.com/us/artist/taylor-swift/159260351?uo=4',\n",
       "  'collectionViewUrl': 'https://music.apple.com/us/album/lover/1468058165?i=1468058173&uo=4',\n",
       "  'trackViewUrl': 'https://music.apple.com/us/album/lover/1468058165?i=1468058173&uo=4',\n",
       "  'previewUrl': 'https://audio-ssl.itunes.apple.com/itunes-assets/AudioPreview211/v4/4f/fd/c7/4ffdc746-c0de-999b-eb93-2753eaa18978/mzaf_8574966813156057641.plus.aac.p.m4a',\n",
       "  'artworkUrl30': 'https://is1-ssl.mzstatic.com/image/thumb/Music125/v4/49/3d/ab/493dab54-f920-9043-6181-80993b8116c9/19UMGIM53909.rgb.jpg/30x30bb.jpg',\n",
       "  'artworkUrl60': 'https://is1-ssl.mzstatic.com/image/thumb/Music125/v4/49/3d/ab/493dab54-f920-9043-6181-80993b8116c9/19UMGIM53909.rgb.jpg/60x60bb.jpg',\n",
       "  'artworkUrl100': 'https://is1-ssl.mzstatic.com/image/thumb/Music125/v4/49/3d/ab/493dab54-f920-9043-6181-80993b8116c9/19UMGIM53909.rgb.jpg/100x100bb.jpg',\n",
       "  'collectionPrice': 11.99,\n",
       "  'trackPrice': 1.29,\n",
       "  'releaseDate': '2019-08-16T07:00:00Z',\n",
       "  'collectionExplicitness': 'notExplicit',\n",
       "  'trackExplicitness': 'notExplicit',\n",
       "  'discCount': 1,\n",
       "  'discNumber': 1,\n",
       "  'trackCount': 18,\n",
       "  'trackNumber': 3,\n",
       "  'trackTimeMillis': 221300,\n",
       "  'country': 'USA',\n",
       "  'currency': 'USD',\n",
       "  'primaryGenreName': 'Pop',\n",
       "  'isStreamable': True},\n",
       " {'wrapperType': 'track',\n",
       "  'kind': 'song',\n",
       "  'artistId': 159260351,\n",
       "  'collectionId': 1468058165,\n",
       "  'trackId': 1468058704,\n",
       "  'artistName': 'Taylor Swift',\n",
       "  'collectionName': 'Lover',\n",
       "  'trackName': 'You Need To Calm Down',\n",
       "  'collectionCensoredName': 'Lover',\n",
       "  'trackCensoredName': 'You Need To Calm Down',\n",
       "  'artistViewUrl': 'https://music.apple.com/us/artist/taylor-swift/159260351?uo=4',\n",
       "  'collectionViewUrl': 'https://music.apple.com/us/album/you-need-to-calm-down/1468058165?i=1468058704&uo=4',\n",
       "  'trackViewUrl': 'https://music.apple.com/us/album/you-need-to-calm-down/1468058165?i=1468058704&uo=4',\n",
       "  'previewUrl': 'https://audio-ssl.itunes.apple.com/itunes-assets/AudioPreview211/v4/85/05/a9/8505a97c-15ff-f665-fec4-f6bf59e5b0fa/mzaf_5253572336075386160.plus.aac.p.m4a',\n",
       "  'artworkUrl30': 'https://is1-ssl.mzstatic.com/image/thumb/Music125/v4/49/3d/ab/493dab54-f920-9043-6181-80993b8116c9/19UMGIM53909.rgb.jpg/30x30bb.jpg',\n",
       "  'artworkUrl60': 'https://is1-ssl.mzstatic.com/image/thumb/Music125/v4/49/3d/ab/493dab54-f920-9043-6181-80993b8116c9/19UMGIM53909.rgb.jpg/60x60bb.jpg',\n",
       "  'artworkUrl100': 'https://is1-ssl.mzstatic.com/image/thumb/Music125/v4/49/3d/ab/493dab54-f920-9043-6181-80993b8116c9/19UMGIM53909.rgb.jpg/100x100bb.jpg',\n",
       "  'collectionPrice': 11.99,\n",
       "  'trackPrice': 1.29,\n",
       "  'releaseDate': '2019-06-14T07:00:00Z',\n",
       "  'collectionExplicitness': 'notExplicit',\n",
       "  'trackExplicitness': 'notExplicit',\n",
       "  'discCount': 1,\n",
       "  'discNumber': 1,\n",
       "  'trackCount': 18,\n",
       "  'trackNumber': 14,\n",
       "  'trackTimeMillis': 171352,\n",
       "  'country': 'USA',\n",
       "  'currency': 'USD',\n",
       "  'primaryGenreName': 'Pop',\n",
       "  'isStreamable': True},\n",
       " {'wrapperType': 'track',\n",
       "  'kind': 'song',\n",
       "  'artistId': 159260351,\n",
       "  'collectionId': 1468058165,\n",
       "  'trackId': 1468058171,\n",
       "  'artistName': 'Taylor Swift',\n",
       "  'collectionName': 'Lover',\n",
       "  'trackName': 'Cruel Summer',\n",
       "  'collectionCensoredName': 'Lover',\n",
       "  'trackCensoredName': 'Cruel Summer',\n",
       "  'artistViewUrl': 'https://music.apple.com/us/artist/taylor-swift/159260351?uo=4',\n",
       "  'collectionViewUrl': 'https://music.apple.com/us/album/cruel-summer/1468058165?i=1468058171&uo=4',\n",
       "  'trackViewUrl': 'https://music.apple.com/us/album/cruel-summer/1468058165?i=1468058171&uo=4',\n",
       "  'previewUrl': 'https://audio-ssl.itunes.apple.com/itunes-assets/AudioPreview211/v4/96/61/ff/9661ff73-0d57-582a-5e57-5687abb33313/mzaf_15246628164161261055.plus.aac.p.m4a',\n",
       "  'artworkUrl30': 'https://is1-ssl.mzstatic.com/image/thumb/Music125/v4/49/3d/ab/493dab54-f920-9043-6181-80993b8116c9/19UMGIM53909.rgb.jpg/30x30bb.jpg',\n",
       "  'artworkUrl60': 'https://is1-ssl.mzstatic.com/image/thumb/Music125/v4/49/3d/ab/493dab54-f920-9043-6181-80993b8116c9/19UMGIM53909.rgb.jpg/60x60bb.jpg',\n",
       "  'artworkUrl100': 'https://is1-ssl.mzstatic.com/image/thumb/Music125/v4/49/3d/ab/493dab54-f920-9043-6181-80993b8116c9/19UMGIM53909.rgb.jpg/100x100bb.jpg',\n",
       "  'collectionPrice': 11.99,\n",
       "  'trackPrice': 1.29,\n",
       "  'releaseDate': '2019-08-23T07:00:00Z',\n",
       "  'collectionExplicitness': 'notExplicit',\n",
       "  'trackExplicitness': 'notExplicit',\n",
       "  'discCount': 1,\n",
       "  'discNumber': 1,\n",
       "  'trackCount': 18,\n",
       "  'trackNumber': 2,\n",
       "  'trackTimeMillis': 178426,\n",
       "  'country': 'USA',\n",
       "  'currency': 'USD',\n",
       "  'primaryGenreName': 'Pop',\n",
       "  'isStreamable': True},\n",
       " {'wrapperType': 'track',\n",
       "  'kind': 'song',\n",
       "  'artistId': 159260351,\n",
       "  'collectionId': 1468058165,\n",
       "  'trackId': 1468058177,\n",
       "  'artistName': 'Taylor Swift',\n",
       "  'collectionName': 'Lover',\n",
       "  'trackName': 'The Archer',\n",
       "  'collectionCensoredName': 'Lover',\n",
       "  'trackCensoredName': 'The Archer',\n",
       "  'artistViewUrl': 'https://music.apple.com/us/artist/taylor-swift/159260351?uo=4',\n",
       "  'collectionViewUrl': 'https://music.apple.com/us/album/the-archer/1468058165?i=1468058177&uo=4',\n",
       "  'trackViewUrl': 'https://music.apple.com/us/album/the-archer/1468058165?i=1468058177&uo=4',\n",
       "  'previewUrl': 'https://audio-ssl.itunes.apple.com/itunes-assets/AudioPreview221/v4/d6/72/ff/d672ffa9-9504-10b0-d3e6-bcf888b7ef00/mzaf_6747193909082167147.plus.aac.p.m4a',\n",
       "  'artworkUrl30': 'https://is1-ssl.mzstatic.com/image/thumb/Music125/v4/49/3d/ab/493dab54-f920-9043-6181-80993b8116c9/19UMGIM53909.rgb.jpg/30x30bb.jpg',\n",
       "  'artworkUrl60': 'https://is1-ssl.mzstatic.com/image/thumb/Music125/v4/49/3d/ab/493dab54-f920-9043-6181-80993b8116c9/19UMGIM53909.rgb.jpg/60x60bb.jpg',\n",
       "  'artworkUrl100': 'https://is1-ssl.mzstatic.com/image/thumb/Music125/v4/49/3d/ab/493dab54-f920-9043-6181-80993b8116c9/19UMGIM53909.rgb.jpg/100x100bb.jpg',\n",
       "  'collectionPrice': 11.99,\n",
       "  'trackPrice': 1.29,\n",
       "  'releaseDate': '2019-07-23T07:00:00Z',\n",
       "  'collectionExplicitness': 'notExplicit',\n",
       "  'trackExplicitness': 'notExplicit',\n",
       "  'discCount': 1,\n",
       "  'discNumber': 1,\n",
       "  'trackCount': 18,\n",
       "  'trackNumber': 5,\n",
       "  'trackTimeMillis': 211235,\n",
       "  'country': 'USA',\n",
       "  'currency': 'USD',\n",
       "  'primaryGenreName': 'Pop',\n",
       "  'isStreamable': True},\n",
       " {'wrapperType': 'track',\n",
       "  'kind': 'song',\n",
       "  'artistId': 159260351,\n",
       "  'collectionId': 1468058165,\n",
       "  'trackId': 1468058706,\n",
       "  'artistName': 'Taylor Swift',\n",
       "  'collectionName': 'Lover',\n",
       "  'trackName': 'ME! (feat. Brendon Urie of Panic! At The Disco)',\n",
       "  'collectionCensoredName': 'Lover',\n",
       "  'trackCensoredName': 'ME! (feat. Brendon Urie of Panic! At The Disco)',\n",
       "  'artistViewUrl': 'https://music.apple.com/us/artist/taylor-swift/159260351?uo=4',\n",
       "  'collectionViewUrl': 'https://music.apple.com/us/album/me-feat-brendon-urie-of-panic-at-the-disco/1468058165?i=1468058706&uo=4',\n",
       "  'trackViewUrl': 'https://music.apple.com/us/album/me-feat-brendon-urie-of-panic-at-the-disco/1468058165?i=1468058706&uo=4',\n",
       "  'previewUrl': 'https://audio-ssl.itunes.apple.com/itunes-assets/AudioPreview221/v4/08/b2/a1/08b2a176-be4a-6218-3339-dd1dbf00c443/mzaf_13396297911439214793.plus.aac.p.m4a',\n",
       "  'artworkUrl30': 'https://is1-ssl.mzstatic.com/image/thumb/Music125/v4/49/3d/ab/493dab54-f920-9043-6181-80993b8116c9/19UMGIM53909.rgb.jpg/30x30bb.jpg',\n",
       "  'artworkUrl60': 'https://is1-ssl.mzstatic.com/image/thumb/Music125/v4/49/3d/ab/493dab54-f920-9043-6181-80993b8116c9/19UMGIM53909.rgb.jpg/60x60bb.jpg',\n",
       "  'artworkUrl100': 'https://is1-ssl.mzstatic.com/image/thumb/Music125/v4/49/3d/ab/493dab54-f920-9043-6181-80993b8116c9/19UMGIM53909.rgb.jpg/100x100bb.jpg',\n",
       "  'collectionPrice': 11.99,\n",
       "  'trackPrice': 1.29,\n",
       "  'releaseDate': '2019-04-26T07:00:00Z',\n",
       "  'collectionExplicitness': 'notExplicit',\n",
       "  'trackExplicitness': 'notExplicit',\n",
       "  'discCount': 1,\n",
       "  'discNumber': 1,\n",
       "  'trackCount': 18,\n",
       "  'trackNumber': 16,\n",
       "  'trackTimeMillis': 193000,\n",
       "  'country': 'USA',\n",
       "  'currency': 'USD',\n",
       "  'primaryGenreName': 'Pop',\n",
       "  'isStreamable': True},\n",
       " {'wrapperType': 'track',\n",
       "  'kind': 'song',\n",
       "  'artistId': 159260351,\n",
       "  'collectionId': 1468058165,\n",
       "  'trackId': 1468058699,\n",
       "  'artistName': 'Taylor Swift',\n",
       "  'collectionName': 'Lover',\n",
       "  'trackName': 'Soon You’ll Get Better (feat. The Chicks)',\n",
       "  'collectionCensoredName': 'Lover',\n",
       "  'trackCensoredName': 'Soon You’ll Get Better (feat. The Chicks)',\n",
       "  'artistViewUrl': 'https://music.apple.com/us/artist/taylor-swift/159260351?uo=4',\n",
       "  'collectionViewUrl': 'https://music.apple.com/us/album/soon-youll-get-better-feat-the-chicks/1468058165?i=1468058699&uo=4',\n",
       "  'trackViewUrl': 'https://music.apple.com/us/album/soon-youll-get-better-feat-the-chicks/1468058165?i=1468058699&uo=4',\n",
       "  'previewUrl': 'https://audio-ssl.itunes.apple.com/itunes-assets/AudioPreview211/v4/a4/cd/f3/a4cdf39b-9a13-9826-54d6-1f1d26485dca/mzaf_2564565437711864211.plus.aac.p.m4a',\n",
       "  'artworkUrl30': 'https://is1-ssl.mzstatic.com/image/thumb/Music125/v4/49/3d/ab/493dab54-f920-9043-6181-80993b8116c9/19UMGIM53909.rgb.jpg/30x30bb.jpg',\n",
       "  'artworkUrl60': 'https://is1-ssl.mzstatic.com/image/thumb/Music125/v4/49/3d/ab/493dab54-f920-9043-6181-80993b8116c9/19UMGIM53909.rgb.jpg/60x60bb.jpg',\n",
       "  'artworkUrl100': 'https://is1-ssl.mzstatic.com/image/thumb/Music125/v4/49/3d/ab/493dab54-f920-9043-6181-80993b8116c9/19UMGIM53909.rgb.jpg/100x100bb.jpg',\n",
       "  'collectionPrice': 11.99,\n",
       "  'trackPrice': 1.29,\n",
       "  'releaseDate': '2019-08-23T07:00:00Z',\n",
       "  'collectionExplicitness': 'notExplicit',\n",
       "  'trackExplicitness': 'notExplicit',\n",
       "  'discCount': 1,\n",
       "  'discNumber': 1,\n",
       "  'trackCount': 18,\n",
       "  'trackNumber': 12,\n",
       "  'trackTimeMillis': 201590,\n",
       "  'country': 'USA',\n",
       "  'currency': 'USD',\n",
       "  'primaryGenreName': 'Pop',\n",
       "  'isStreamable': True},\n",
       " {'wrapperType': 'track',\n",
       "  'kind': 'song',\n",
       "  'artistId': 159260351,\n",
       "  'collectionId': 1468058165,\n",
       "  'trackId': 1468058169,\n",
       "  'artistName': 'Taylor Swift',\n",
       "  'collectionName': 'Lover',\n",
       "  'trackName': 'I Forgot That You Existed',\n",
       "  'collectionCensoredName': 'Lover',\n",
       "  'trackCensoredName': 'I Forgot That You Existed',\n",
       "  'artistViewUrl': 'https://music.apple.com/us/artist/taylor-swift/159260351?uo=4',\n",
       "  'collectionViewUrl': 'https://music.apple.com/us/album/i-forgot-that-you-existed/1468058165?i=1468058169&uo=4',\n",
       "  'trackViewUrl': 'https://music.apple.com/us/album/i-forgot-that-you-existed/1468058165?i=1468058169&uo=4',\n",
       "  'previewUrl': 'https://audio-ssl.itunes.apple.com/itunes-assets/AudioPreview211/v4/47/0e/44/470e44f6-b7f6-d9b6-2808-0c0396351fd2/mzaf_10683787134779885341.plus.aac.p.m4a',\n",
       "  'artworkUrl30': 'https://is1-ssl.mzstatic.com/image/thumb/Music125/v4/49/3d/ab/493dab54-f920-9043-6181-80993b8116c9/19UMGIM53909.rgb.jpg/30x30bb.jpg',\n",
       "  'artworkUrl60': 'https://is1-ssl.mzstatic.com/image/thumb/Music125/v4/49/3d/ab/493dab54-f920-9043-6181-80993b8116c9/19UMGIM53909.rgb.jpg/60x60bb.jpg',\n",
       "  'artworkUrl100': 'https://is1-ssl.mzstatic.com/image/thumb/Music125/v4/49/3d/ab/493dab54-f920-9043-6181-80993b8116c9/19UMGIM53909.rgb.jpg/100x100bb.jpg',\n",
       "  'collectionPrice': 11.99,\n",
       "  'trackPrice': 1.29,\n",
       "  'releaseDate': '2019-08-23T07:00:00Z',\n",
       "  'collectionExplicitness': 'notExplicit',\n",
       "  'trackExplicitness': 'notExplicit',\n",
       "  'discCount': 1,\n",
       "  'discNumber': 1,\n",
       "  'trackCount': 18,\n",
       "  'trackNumber': 1,\n",
       "  'trackTimeMillis': 170651,\n",
       "  'country': 'USA',\n",
       "  'currency': 'USD',\n",
       "  'primaryGenreName': 'Pop',\n",
       "  'isStreamable': True},\n",
       " {'wrapperType': 'track',\n",
       "  'kind': 'song',\n",
       "  'artistId': 159260351,\n",
       "  'collectionId': 1468058165,\n",
       "  'trackId': 1468058180,\n",
       "  'artistName': 'Taylor Swift',\n",
       "  'collectionName': 'Lover',\n",
       "  'trackName': 'Miss Americana & The Heartbreak Prince',\n",
       "  'collectionCensoredName': 'Lover',\n",
       "  'trackCensoredName': 'Miss Americana & The Heartbreak Prince',\n",
       "  'artistViewUrl': 'https://music.apple.com/us/artist/taylor-swift/159260351?uo=4',\n",
       "  'collectionViewUrl': 'https://music.apple.com/us/album/miss-americana-the-heartbreak-prince/1468058165?i=1468058180&uo=4',\n",
       "  'trackViewUrl': 'https://music.apple.com/us/album/miss-americana-the-heartbreak-prince/1468058165?i=1468058180&uo=4',\n",
       "  'previewUrl': 'https://audio-ssl.itunes.apple.com/itunes-assets/AudioPreview221/v4/c4/38/9b/c4389b8d-bb1e-2713-3fdb-a63c5d737ccb/mzaf_8781066753461023269.plus.aac.p.m4a',\n",
       "  'artworkUrl30': 'https://is1-ssl.mzstatic.com/image/thumb/Music125/v4/49/3d/ab/493dab54-f920-9043-6181-80993b8116c9/19UMGIM53909.rgb.jpg/30x30bb.jpg',\n",
       "  'artworkUrl60': 'https://is1-ssl.mzstatic.com/image/thumb/Music125/v4/49/3d/ab/493dab54-f920-9043-6181-80993b8116c9/19UMGIM53909.rgb.jpg/60x60bb.jpg',\n",
       "  'artworkUrl100': 'https://is1-ssl.mzstatic.com/image/thumb/Music125/v4/49/3d/ab/493dab54-f920-9043-6181-80993b8116c9/19UMGIM53909.rgb.jpg/100x100bb.jpg',\n",
       "  'collectionPrice': 11.99,\n",
       "  'trackPrice': 1.29,\n",
       "  'releaseDate': '2019-08-23T07:00:00Z',\n",
       "  'collectionExplicitness': 'notExplicit',\n",
       "  'trackExplicitness': 'notExplicit',\n",
       "  'discCount': 1,\n",
       "  'discNumber': 1,\n",
       "  'trackCount': 18,\n",
       "  'trackNumber': 7,\n",
       "  'trackTimeMillis': 234137,\n",
       "  'country': 'USA',\n",
       "  'currency': 'USD',\n",
       "  'primaryGenreName': 'Pop',\n",
       "  'isStreamable': True},\n",
       " {'wrapperType': 'track',\n",
       "  'kind': 'song',\n",
       "  'artistId': 159260351,\n",
       "  'collectionId': 1468058165,\n",
       "  'trackId': 1468058185,\n",
       "  'artistName': 'Taylor Swift',\n",
       "  'collectionName': 'Lover',\n",
       "  'trackName': 'Death By A Thousand Cuts',\n",
       "  'collectionCensoredName': 'Lover',\n",
       "  'trackCensoredName': 'Death By A Thousand Cuts',\n",
       "  'artistViewUrl': 'https://music.apple.com/us/artist/taylor-swift/159260351?uo=4',\n",
       "  'collectionViewUrl': 'https://music.apple.com/us/album/death-by-a-thousand-cuts/1468058165?i=1468058185&uo=4',\n",
       "  'trackViewUrl': 'https://music.apple.com/us/album/death-by-a-thousand-cuts/1468058165?i=1468058185&uo=4',\n",
       "  'previewUrl': 'https://audio-ssl.itunes.apple.com/itunes-assets/AudioPreview221/v4/9d/e4/21/9de42109-b4b4-9989-c0af-e23b565c031d/mzaf_9751897862617583377.plus.aac.p.m4a',\n",
       "  'artworkUrl30': 'https://is1-ssl.mzstatic.com/image/thumb/Music125/v4/49/3d/ab/493dab54-f920-9043-6181-80993b8116c9/19UMGIM53909.rgb.jpg/30x30bb.jpg',\n",
       "  'artworkUrl60': 'https://is1-ssl.mzstatic.com/image/thumb/Music125/v4/49/3d/ab/493dab54-f920-9043-6181-80993b8116c9/19UMGIM53909.rgb.jpg/60x60bb.jpg',\n",
       "  'artworkUrl100': 'https://is1-ssl.mzstatic.com/image/thumb/Music125/v4/49/3d/ab/493dab54-f920-9043-6181-80993b8116c9/19UMGIM53909.rgb.jpg/100x100bb.jpg',\n",
       "  'collectionPrice': 11.99,\n",
       "  'trackPrice': 1.29,\n",
       "  'releaseDate': '2019-08-23T07:00:00Z',\n",
       "  'collectionExplicitness': 'notExplicit',\n",
       "  'trackExplicitness': 'notExplicit',\n",
       "  'discCount': 1,\n",
       "  'discNumber': 1,\n",
       "  'trackCount': 18,\n",
       "  'trackNumber': 10,\n",
       "  'trackTimeMillis': 198530,\n",
       "  'country': 'USA',\n",
       "  'currency': 'USD',\n",
       "  'primaryGenreName': 'Pop',\n",
       "  'isStreamable': True},\n",
       " {'wrapperType': 'track',\n",
       "  'kind': 'song',\n",
       "  'artistId': 159260351,\n",
       "  'collectionId': 1468058165,\n",
       "  'trackId': 1468058181,\n",
       "  'artistName': 'Taylor Swift',\n",
       "  'collectionName': 'Lover',\n",
       "  'trackName': 'Paper Rings',\n",
       "  'collectionCensoredName': 'Lover',\n",
       "  'trackCensoredName': 'Paper Rings',\n",
       "  'artistViewUrl': 'https://music.apple.com/us/artist/taylor-swift/159260351?uo=4',\n",
       "  'collectionViewUrl': 'https://music.apple.com/us/album/paper-rings/1468058165?i=1468058181&uo=4',\n",
       "  'trackViewUrl': 'https://music.apple.com/us/album/paper-rings/1468058165?i=1468058181&uo=4',\n",
       "  'previewUrl': 'https://audio-ssl.itunes.apple.com/itunes-assets/AudioPreview221/v4/cd/f1/47/cdf1474c-fe9f-3d45-7ca1-c7a8e1aad405/mzaf_7251368477724682182.plus.aac.p.m4a',\n",
       "  'artworkUrl30': 'https://is1-ssl.mzstatic.com/image/thumb/Music125/v4/49/3d/ab/493dab54-f920-9043-6181-80993b8116c9/19UMGIM53909.rgb.jpg/30x30bb.jpg',\n",
       "  'artworkUrl60': 'https://is1-ssl.mzstatic.com/image/thumb/Music125/v4/49/3d/ab/493dab54-f920-9043-6181-80993b8116c9/19UMGIM53909.rgb.jpg/60x60bb.jpg',\n",
       "  'artworkUrl100': 'https://is1-ssl.mzstatic.com/image/thumb/Music125/v4/49/3d/ab/493dab54-f920-9043-6181-80993b8116c9/19UMGIM53909.rgb.jpg/100x100bb.jpg',\n",
       "  'collectionPrice': 11.99,\n",
       "  'trackPrice': 1.29,\n",
       "  'releaseDate': '2019-08-23T07:00:00Z',\n",
       "  'collectionExplicitness': 'notExplicit',\n",
       "  'trackExplicitness': 'notExplicit',\n",
       "  'discCount': 1,\n",
       "  'discNumber': 1,\n",
       "  'trackCount': 18,\n",
       "  'trackNumber': 8,\n",
       "  'trackTimeMillis': 222407,\n",
       "  'country': 'USA',\n",
       "  'currency': 'USD',\n",
       "  'primaryGenreName': 'Pop',\n",
       "  'isStreamable': True}]"
      ]
     },
     "execution_count": 120,
     "metadata": {},
     "output_type": "execute_result"
    }
   ],
   "source": [
    "results['results']"
   ]
  },
  {
   "cell_type": "code",
   "execution_count": 121,
   "id": "4a60a395",
   "metadata": {},
   "outputs": [
    {
     "name": "stdout",
     "output_type": "stream",
     "text": [
      "Artist: Taylor Swift\n",
      "Track: Lover\n",
      "Album: Lover\n",
      "Release Date: 2019-08-16T07:00:00Z\n",
      "Genre: Pop\n",
      "URL: https://music.apple.com/us/album/lover/1468058165?i=1468058173&uo=4\n",
      "----------------------------------------\n",
      "Artist: Taylor Swift\n",
      "Track: You Need To Calm Down\n",
      "Album: Lover\n",
      "Release Date: 2019-06-14T07:00:00Z\n",
      "Genre: Pop\n",
      "URL: https://music.apple.com/us/album/you-need-to-calm-down/1468058165?i=1468058704&uo=4\n",
      "----------------------------------------\n",
      "Artist: Taylor Swift\n",
      "Track: Cruel Summer\n",
      "Album: Lover\n",
      "Release Date: 2019-08-23T07:00:00Z\n",
      "Genre: Pop\n",
      "URL: https://music.apple.com/us/album/cruel-summer/1468058165?i=1468058171&uo=4\n",
      "----------------------------------------\n",
      "Artist: Taylor Swift\n",
      "Track: The Archer\n",
      "Album: Lover\n",
      "Release Date: 2019-07-23T07:00:00Z\n",
      "Genre: Pop\n",
      "URL: https://music.apple.com/us/album/the-archer/1468058165?i=1468058177&uo=4\n",
      "----------------------------------------\n",
      "Artist: Taylor Swift\n",
      "Track: ME! (feat. Brendon Urie of Panic! At The Disco)\n",
      "Album: Lover\n",
      "Release Date: 2019-04-26T07:00:00Z\n",
      "Genre: Pop\n",
      "URL: https://music.apple.com/us/album/me-feat-brendon-urie-of-panic-at-the-disco/1468058165?i=1468058706&uo=4\n",
      "----------------------------------------\n",
      "Artist: Taylor Swift\n",
      "Track: Soon You’ll Get Better (feat. The Chicks)\n",
      "Album: Lover\n",
      "Release Date: 2019-08-23T07:00:00Z\n",
      "Genre: Pop\n",
      "URL: https://music.apple.com/us/album/soon-youll-get-better-feat-the-chicks/1468058165?i=1468058699&uo=4\n",
      "----------------------------------------\n",
      "Artist: Taylor Swift\n",
      "Track: I Forgot That You Existed\n",
      "Album: Lover\n",
      "Release Date: 2019-08-23T07:00:00Z\n",
      "Genre: Pop\n",
      "URL: https://music.apple.com/us/album/i-forgot-that-you-existed/1468058165?i=1468058169&uo=4\n",
      "----------------------------------------\n",
      "Artist: Taylor Swift\n",
      "Track: Miss Americana & The Heartbreak Prince\n",
      "Album: Lover\n",
      "Release Date: 2019-08-23T07:00:00Z\n",
      "Genre: Pop\n",
      "URL: https://music.apple.com/us/album/miss-americana-the-heartbreak-prince/1468058165?i=1468058180&uo=4\n",
      "----------------------------------------\n",
      "Artist: Taylor Swift\n",
      "Track: Death By A Thousand Cuts\n",
      "Album: Lover\n",
      "Release Date: 2019-08-23T07:00:00Z\n",
      "Genre: Pop\n",
      "URL: https://music.apple.com/us/album/death-by-a-thousand-cuts/1468058165?i=1468058185&uo=4\n",
      "----------------------------------------\n",
      "Artist: Taylor Swift\n",
      "Track: Paper Rings\n",
      "Album: Lover\n",
      "Release Date: 2019-08-23T07:00:00Z\n",
      "Genre: Pop\n",
      "URL: https://music.apple.com/us/album/paper-rings/1468058165?i=1468058181&uo=4\n",
      "----------------------------------------\n"
     ]
    }
   ],
   "source": [
    "# Iterate through each item in the 'results' list\n",
    "for item in results['results']:\n",
    "    # Access common attributes\n",
    "    artist_name = item.get('artistName', 'Unknown Artist')\n",
    "    track_name = item.get('trackName', 'Unknown Track')\n",
    "    collection_name = item.get('collectionName', 'Unknown Album')\n",
    "    release_date = item.get('releaseDate', 'Unknown Date')\n",
    "    genre = item.get('primaryGenreName', 'Unknown Genre')\n",
    "    track_url = item.get('trackViewUrl', 'No URL Available')\n",
    "    \n",
    "    # Print the extracted information\n",
    "    print(f\"Artist: {artist_name}\")\n",
    "    print(f\"Track: {track_name}\")\n",
    "    print(f\"Album: {collection_name}\")\n",
    "    print(f\"Release Date: {release_date}\")\n",
    "    print(f\"Genre: {genre}\")\n",
    "    print(f\"URL: {track_url}\")\n",
    "    print(\"-\" * 40)"
   ]
  },
  {
   "cell_type": "code",
   "execution_count": 123,
   "id": "f25529b5",
   "metadata": {},
   "outputs": [
    {
     "name": "stdout",
     "output_type": "stream",
     "text": [
      "Lover by Taylor Swift\n",
      "You Need To Calm Down by Taylor Swift\n",
      "Cruel Summer by Taylor Swift\n",
      "The Archer by Taylor Swift\n",
      "ME! (feat. Brendon Urie of Panic! At The Disco) by Taylor Swift\n",
      "Soon You’ll Get Better (feat. The Chicks) by Taylor Swift\n",
      "I Forgot That You Existed by Taylor Swift\n",
      "Miss Americana & The Heartbreak Prince by Taylor Swift\n",
      "Death By A Thousand Cuts by Taylor Swift\n",
      "Paper Rings by Taylor Swift\n"
     ]
    }
   ],
   "source": [
    "for item in results['results']:\n",
    "    artist_name = item.get('artistName', 'Unknown Artist')\n",
    "    track_name = item.get('trackName', 'Unknown Track')\n",
    "    \n",
    "    #print(track_name)\n",
    "    print(track_name, \"by\", artist_name)\n",
    "    \n",
    "    "
   ]
  },
  {
   "cell_type": "markdown",
   "id": "666335c1",
   "metadata": {},
   "source": [
    "## Media Type = `ebook` example\n",
    "\n",
    "* for digital books, use the media type value `ebook`\n",
    "\n",
    "* for audiobooks, use media type value `audiobooks`"
   ]
  },
  {
   "cell_type": "markdown",
   "id": "1bd98602",
   "metadata": {},
   "source": [
    "`media_type` = \n",
    "\n",
    "Common media Types in the iTunes Search API\n",
    "\n",
    "* `\"music\"`: For music content, including songs, albums, and artists.\n",
    "* `\"movie\"`: For movies available in the iTunes Store.\n",
    "* `\"podcast\"`: For podcasts.\n",
    "* `\"musicVideo\"`: For music videos.\n",
    "* `\"audiobook\"`: For audiobooks.\n",
    "* `\"shortFilm\"`: For short films.\n",
    "* `\"tvShow\"`: For TV shows.\n",
    "* `\"software\"`: For apps available in the App Store.\n",
    "* `\"ebook\"`: For books available in the iBooks Store.\n",
    "* `\"all\"`: To search across all media types.\n"
   ]
  },
  {
   "cell_type": "markdown",
   "id": "f8238714",
   "metadata": {},
   "source": [
    "You could search via the ISBN (International Standard Book Number) - a unique id for each published book."
   ]
  },
  {
   "cell_type": "code",
   "execution_count": 125,
   "id": "79ce8fed",
   "metadata": {},
   "outputs": [],
   "source": [
    "query = \"9780316069359\"\n",
    "media_type = \"ebook\"\n",
    "results = search_itunes(query, media_type)\n"
   ]
  },
  {
   "cell_type": "code",
   "execution_count": 126,
   "id": "d390dcc7",
   "metadata": {},
   "outputs": [
    {
     "data": {
      "text/plain": [
       "{'resultCount': 1,\n",
       " 'results': [{'currency': 'USD',\n",
       "   'trackCensoredName': 'The Fifth Witness',\n",
       "   'fileSizeBytes': 3982112,\n",
       "   'formattedPrice': '$9.99',\n",
       "   'trackViewUrl': 'https://books.apple.com/us/book/the-fifth-witness/id395519191?uo=4',\n",
       "   'artworkUrl60': 'https://is1-ssl.mzstatic.com/image/thumb/Publication126/v4/de/df/4c/dedf4cde-adb4-7c3b-35d7-dda44ab83cf2/9780316069380.jpg/60x60bb.jpg',\n",
       "   'artworkUrl100': 'https://is1-ssl.mzstatic.com/image/thumb/Publication126/v4/de/df/4c/dedf4cde-adb4-7c3b-35d7-dda44ab83cf2/9780316069380.jpg/100x100bb.jpg',\n",
       "   'artistViewUrl': 'https://books.apple.com/us/artist/michael-connelly/2087642?uo=4',\n",
       "   'artistIds': [2087642],\n",
       "   'artistId': 2087642,\n",
       "   'artistName': 'Michael Connelly',\n",
       "   'genres': ['Mysteries & Thrillers', 'Books', 'Police Procedural'],\n",
       "   'price': 9.99,\n",
       "   'description': '<b>In this #1&#xa0;<i>New York Times</i>&#xa0;bestselling thriller, after taking on a foreclosure case, defense attorney Mickey Haller fights to prove his client’s innocence—but first he must follow a trail of black market evidence to its sinister end.</b> &#xa0;  Mickey Haller has fallen on tough times. He expands his business into foreclosure defense, only to see one of his clients accused of killing the banker she blames for trying to take away her home.<br /><br /> Mickey puts his team into high gear to exonerate Lisa Trammel, even though the evidence and his own suspicions tell him his client is guilty. Soon after he learns that the victim had black market dealings of his own, Haller is assaulted, too -- and he\\'s certain he\\'s on the right trail.<br /><br /> Despite the danger and uncertainty, Haller mounts the best defense of his career in a trial where the last surprise comes after the verdict is in. Connelly proves again why he \"may very well be the best novelist working in the United States today\" (<i>San Francisco Chronicle</i>).',\n",
       "   'trackId': 395519191,\n",
       "   'trackName': 'The Fifth Witness',\n",
       "   'genreIds': ['9032', '38', '10052'],\n",
       "   'releaseDate': '2011-04-05T07:00:00Z',\n",
       "   'kind': 'ebook',\n",
       "   'averageUserRating': 4.0,\n",
       "   'userRatingCount': 2783}]}"
      ]
     },
     "execution_count": 126,
     "metadata": {},
     "output_type": "execute_result"
    }
   ],
   "source": [
    "results"
   ]
  },
  {
   "cell_type": "code",
   "execution_count": 127,
   "id": "d06b8015",
   "metadata": {},
   "outputs": [],
   "source": [
    "query = \"Python Programming\"\n",
    "media_type = \"ebook\"\n",
    "results = search_itunes(query, media_type)"
   ]
  },
  {
   "cell_type": "code",
   "execution_count": 128,
   "id": "fc39b011",
   "metadata": {},
   "outputs": [
    {
     "name": "stdout",
     "output_type": "stream",
     "text": [
      "Python For Beginners: A Practical and Step-by-Step Guide to Programming with Python by Daniel Correa\n",
      "Python Simplified by Ratneshwaran Maheswaran\n",
      "Python 3 Tutorial by Python Software Foundation.\n",
      "Fundamentals of Programming: Using Python by Bruce Embry\n",
      "Python Programming by Ryan Turner\n",
      "Python Programming For Beginners by James Tudor\n",
      "Python Programming by Ryan Turner\n",
      "Python Programming by Knowledge flow\n",
      "Non-Programmer's Tutorial for Python 3 by Wikibooks\n",
      "Learn Python by Shyam Bharath, S.D.\n"
     ]
    }
   ],
   "source": [
    "for item in results['results']:\n",
    "    artist_name = item.get('artistName', 'Unknown Artist')\n",
    "    track_name = item.get('trackName', 'Unknown Track')\n",
    "    \n",
    "    print(track_name, \"by\", artist_name)"
   ]
  },
  {
   "cell_type": "markdown",
   "id": "34dd1bb6",
   "metadata": {},
   "source": [
    "## Extension - Spotify \n",
    "\n",
    "There is a Spotify equivalent of this API, which allows you to search their database, but it has a few extra steps, such as linking your account (whereas iTunes API doesn't require an API key).\n",
    "\n",
    "[Spotify API](https://developer.spotify.com/documentation/web-api/howtos/web-app-profile)"
   ]
  },
  {
   "cell_type": "markdown",
   "id": "dd38cc99",
   "metadata": {
    "id": "dd38cc99"
   },
   "source": [
    "#### This Jupyter Notebook contains exercises for you to extend your introduction to the basics with Python libraries and packages. Attempt the following exercises, which slowly build in complexity. If you get stuck, check back to the <a href = \"https://youtu.be/mO_YFFa7wEU\"> Python lecture recording on Imports and File Handling here</a> or view the <a href = \"https://www.w3schools.com/python/python_file_handling.asp\">W3Schools page on Python File Handling</a>, which includes examples, exercises and quizzes to help your understanding. "
   ]
  },
  {
   "cell_type": "markdown",
   "id": "24a00e9e",
   "metadata": {},
   "source": [
    "### Exercise 1\n",
    "\n",
    "Define a `main()` function in a `main.py` file. To start with, let's print out a message to ensure we're in the main function. \n",
    "\n",
    "Remember that you can run this script by writing `python main.py` in the terminal. \n",
    "Alternatively, you could write `python3 main.py`\n",
    "\n",
    "Remember there is a convention for calling the main function: \n",
    "\n",
    "```\n",
    "if __name__ == \"__main__\":\n",
    "    main()\n",
    "```\n",
    "\n",
    "Alternatively, you could just call `main()` without the conditional statement.\n"
   ]
  },
  {
   "cell_type": "code",
   "execution_count": null,
   "id": "c2442e91",
   "metadata": {},
   "outputs": [],
   "source": [
    "# Write your solution in a main.py file\n"
   ]
  },
  {
   "cell_type": "markdown",
   "id": "5310e5c9",
   "metadata": {},
   "source": [
    "### Exercise 2\n",
    "\n",
    "Now `import` the `random` module in your `main.py` file (or in this `.ipynb` file). Call the `shuffle()` function to change the order a list passed into this. Print the list before being shuffled (in initialisation order), and then print the shuffled list after. "
   ]
  },
  {
   "cell_type": "code",
   "execution_count": null,
   "id": "4bf3e9fc",
   "metadata": {},
   "outputs": [],
   "source": [
    "# Write your solution in a main.py file\n"
   ]
  },
  {
   "cell_type": "markdown",
   "id": "59b2ca06",
   "metadata": {},
   "source": [
    "### Exercise 3 \n",
    "\n",
    "Change the flow of the program so that data can be passed into `main.py` as command line arguments. \n",
    "\n",
    "For every number received by command line, this should be in a unique position in the list. \n",
    "\n",
    "For example, if you were to write: \n",
    "`python main.py 1 2 3 4 5 6`\n",
    "\n",
    "your main.py should store a list of `[1,2,3,4,5,6]`\n",
    "\n",
    "Then check that your `shuffle()` function still works!"
   ]
  },
  {
   "cell_type": "code",
   "execution_count": null,
   "id": "679fd813",
   "metadata": {},
   "outputs": [],
   "source": [
    "# Write your solution in a main.py file\n"
   ]
  },
  {
   "cell_type": "markdown",
   "id": "e70953b0",
   "metadata": {},
   "source": [
    "### Exercise 3 \n",
    "\n",
    "Now incorporate file handling code. Write a new python script (e.g. `file_utils.py`) which has functions for reading in data from a txt file.  \n",
    "\n",
    "Hint: Remember to use the function `open()` "
   ]
  },
  {
   "cell_type": "code",
   "execution_count": null,
   "id": "9650c2a3",
   "metadata": {},
   "outputs": [],
   "source": [
    "# Write your solution in a main.py file\n"
   ]
  },
  {
   "cell_type": "markdown",
   "id": "ec0cf6c0",
   "metadata": {},
   "source": [
    "### Exercise 3\n",
    "\n",
    "Now import the `random` module in your `main.py` or in this `.ipynb` file. Can you use a function `from` this module to generate a random id value for a student object? How would you generate eight digit id numbers which start with a `2` then proceeded by seven digits?\n",
    "\n",
    "Extension: What if the ID card convention involed both letters and numbers. Can you concatenate (join) the first four letters of a student's last name 'jones' e.g. `\"jone\"` with four randomly generated numbers `7621` as a string?"
   ]
  },
  {
   "cell_type": "code",
   "execution_count": null,
   "id": "a2a6750c",
   "metadata": {},
   "outputs": [],
   "source": [
    "# Write your solution here or in your main.py file.\n"
   ]
  },
  {
   "cell_type": "markdown",
   "id": "d22b3855",
   "metadata": {},
   "source": [
    "### Exercise 5\n",
    "\n",
    "Move your `Student` class (or create one if you haven't yet) to a `student.py` file. Then `import` the `Student` class `from` `student` either here in this `.ipynb` file or in your `main.py` that you created in the above exercise. Create an object in the location where this class is imported to ensure you have access to this class. "
   ]
  },
  {
   "cell_type": "code",
   "execution_count": null,
   "id": "5bd682f6",
   "metadata": {},
   "outputs": [],
   "source": [
    "# Either import your Student class here or in your main.py file\n",
    "# Create an object of Student here.\n"
   ]
  },
  {
   "cell_type": "markdown",
   "id": "a2561583",
   "metadata": {},
   "source": [
    "### Exercise 4\n",
    "\n",
    "Now write the data of the student object to a file (e.g. `students.txt`). Check that you can read it back in successfully. Display this data (either via printing in `main.py` or via this `.ipynb` file) to check the data has been written and read correctly.\n"
   ]
  },
  {
   "cell_type": "code",
   "execution_count": null,
   "id": "91184c9b",
   "metadata": {},
   "outputs": [],
   "source": [
    "# Write your solution here or in your main.py file\n"
   ]
  },
  {
   "cell_type": "markdown",
   "id": "7070939a",
   "metadata": {},
   "source": [
    "### Exercise 5 \n",
    "\n",
    "Add exception/error handling code to your file handling code. Which errors do you need to guard against? If you have a lot of file handling code, consider whether this needs to be a file/package in its own right (e.g. `file_utils`)?"
   ]
  },
  {
   "cell_type": "code",
   "execution_count": null,
   "id": "fb84c958",
   "metadata": {},
   "outputs": [],
   "source": [
    "# Write your solution here or in your main.py file\n"
   ]
  },
  {
   "cell_type": "markdown",
   "id": "0d0111ff",
   "metadata": {},
   "source": [
    "### Exercise 6 \n",
    "\n",
    "Now create multiple student objects and add them to a data structure (recommend `list` or `dict`). How would you then write this structure (the data of multiple student objects) to a file? Furthermore, how would you format the data when reading this in? \n",
    "\n",
    "Extension: Can you create a function which arrange student data from objects in rows and columns (like a table/CSV)?"
   ]
  },
  {
   "cell_type": "code",
   "execution_count": null,
   "id": "0f3bb9fb",
   "metadata": {},
   "outputs": [],
   "source": [
    "# Write your solution here or in your main.py file\n",
    " "
   ]
  },
  {
   "cell_type": "markdown",
   "id": "bc2077f1",
   "metadata": {},
   "source": [
    "### Exercise 7\n",
    "\n",
    "Move the `search_itunes()` function from the above lecture notes into a dedicated `.py` file.\n",
    "\n",
    "Then `import` this function `from` this `.py` file (module) into either this `.ipynb` file or your `main.py` file. \n",
    "\n",
    "Now write some code which will allow the user enter their favourite artist, and this data is passed to the `search_itunes()` function, and the result printed to the screen for the user.\n",
    "\n",
    "Question: do you need to add any exception/error handling code here? "
   ]
  },
  {
   "cell_type": "code",
   "execution_count": null,
   "id": "1297066d",
   "metadata": {},
   "outputs": [],
   "source": [
    "# Write your solution here or in your main.py file\n"
   ]
  },
  {
   "cell_type": "markdown",
   "id": "8a519024",
   "metadata": {},
   "source": [
    "### Exercise 8\n",
    "\n",
    "Observe the structure of data in which the results are returned by the `search_itunes()` function. If you had to convert this data into objects of a class, how would you do so? \n",
    "\n",
    "Hint: start by creating a `Song` class, and defining attributes for the data which you see returned (or at least some of them!)."
   ]
  },
  {
   "cell_type": "code",
   "execution_count": null,
   "id": "6219427b",
   "metadata": {},
   "outputs": [],
   "source": [
    "# Write your solution here or in your main.py file\n"
   ]
  },
  {
   "cell_type": "markdown",
   "id": "1ba28a54",
   "metadata": {},
   "source": [
    "### Exercise 9\n",
    "\n",
    "Write a function which will sort either your `Song` objects, or the data structure returned by `search_itunes()` by release date so that the most recent song is displayed first in the output."
   ]
  },
  {
   "cell_type": "code",
   "execution_count": null,
   "id": "cb02ea6e",
   "metadata": {},
   "outputs": [],
   "source": [
    "# Write your solution here or in your main.py file\n"
   ]
  },
  {
   "cell_type": "markdown",
   "id": "3c3cfa3d",
   "metadata": {},
   "source": [
    "### Exercise 10\n",
    "\n",
    "Write the `Song` objects to a file (or the data structure returned from `search_itunes()` to a file). See if you can read the contents of this file back in and display the contents (or some of the most relevant metadata) to the user. \n",
    "\n",
    "Do you need to update any of your exception/error handling code? "
   ]
  },
  {
   "cell_type": "code",
   "execution_count": null,
   "id": "d51f8e11",
   "metadata": {},
   "outputs": [],
   "source": [
    "# Write your solution here or in your main.py file\n"
   ]
  }
 ],
 "metadata": {
  "colab": {
   "provenance": []
  },
  "kernelspec": {
   "display_name": "Python 3",
   "language": "python",
   "name": "python3"
  },
  "language_info": {
   "codemirror_mode": {
    "name": "ipython",
    "version": 3
   },
   "file_extension": ".py",
   "mimetype": "text/x-python",
   "name": "python",
   "nbconvert_exporter": "python",
   "pygments_lexer": "ipython3",
   "version": "3.9.6"
  }
 },
 "nbformat": 4,
 "nbformat_minor": 5
}
