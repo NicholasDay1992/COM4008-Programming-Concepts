{
 "cells": [
  {
   "cell_type": "markdown",
   "metadata": {
    "slideshow": {
     "slide_type": "slide"
    }
   },
   "source": [
    "<!-- <img src=\"https://www.conted.ox.ac.uk/www/static/images/oudce_logo.svg\" alt=\"OXF_logo_HTML\" width=\"300\"> \n",
    "-->\n",
    "\n",
    "<img src=\"data:image/png;base64,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\" alt=\"OXF_logo_HTML\" width=\"300\"> \n",
    "\n",
    "<h1>Python Programming for Data Science Introduction</h1>\n",
    "Weekly Oxford Worldwide (WOW) Course Format\n",
    "\n",
    "<style>\n",
    "div.scrollable {\n",
    "    height: 300px;  /* Adjust this value as needed */\n",
    "    overflow: auto;\n",
    "    border: 1px solid #ccc;  /* Optional: Adds a border */\n",
    "    padding: 10px;           /* Optional: Adds padding inside the box */\n",
    "}\n",
    "</style>"
   ]
  },
  {
   "cell_type": "markdown",
   "metadata": {
    "slideshow": {
     "slide_type": "slide"
    }
   },
   "source": [
    "<h2> Lecture 1 Plan </h2> \n",
    "\n",
    "1. Introduction to the Course and Tutor\n",
    "\n",
    "2. History of Data Science \n",
    "\n",
    "3. Python Basics\n",
    "\n",
    "4. Environments: Anaconda / Jupyter / VSC / Git etc"
   ]
  },
  {
   "cell_type": "markdown",
   "metadata": {
    "slideshow": {
     "slide_type": "slide"
    }
   },
   "source": [
    "# 1.0 Introduction to the Course \n",
    "\n",
    "1. Introduction to Nick \n",
    "\n",
    "2. Course Curriculum \n",
    "\n",
    "3. Course Format \n",
    "\n",
    "4. Assessment \n",
    "\n",
    "5. Motivations for taking the course"
   ]
  },
  {
   "cell_type": "markdown",
   "metadata": {
    "slideshow": {
     "slide_type": "slide"
    }
   },
   "source": [
    "## 1.1 Introduction to your Tutor (Nick)\n",
    "<!--![nick_day](https://www.bucks.ac.uk/sites/default/files/styles/400x400/public/2022-03/ND%202022.png?h=7ed3a6cc&itok=RfSzJ_7X)-->\n",
    "<img src=\"https://www.bucks.ac.uk/sites/default/files/styles/400x400/public/2022-03/ND%202022.png?h=7ed3a6cc&itok=RfSzJ_7X\" alt=\"Nick_Day_HTML\" width=\"150\"> \n",
    "\n",
    "<div class=\"scrollable\">\n",
    "<ul>\n",
    "    <li> Nick holds a PhD in Computer Science Education Research (CSER). </li>\n",
    "    <br>\n",
    "    <li>Holds a PGCert (T&L in Higher Education) and is a Senior Fellow of the HEA (SFHEA).</li>\n",
    "    <br>\n",
    "    <li>Has over ten years of experience teaching in HE (BNU since 2014 and OUDCE since 2016). </li>\n",
    "    <br>\n",
    "    <li>Senior Lecturer in Computing and AI at BNU since Sept 2023. </li>\n",
    "    <br>\n",
    "    <li>Departmental Lecturer in Lifelong Learning at OUDCE since Sept 2024.</li>\n",
    "    <br>\n",
    "    <li>Also a Member of the British Computing Society (MBCS) and is presently an External Examiner for Cardiff University.</li>\n",
    "    <br>\n",
    "    <li>Email: <a href>nick.day@conted.ox.ac.uk</a> </li>\n",
    "    <br>\n",
    "    <li>Nick will also monitor the Canvas Chat and Forum Discussions. </li>\n",
    "</ul>\n",
    "</div>"
   ]
  },
  {
   "cell_type": "markdown",
   "metadata": {
    "slideshow": {
     "slide_type": "slide"
    }
   },
   "source": [
    "## 1.2 Course Curriculum \n",
    "\n",
    "1.  Introduction to Data Science\n",
    "\n",
    "2.  Python basics: built-in types, functions and methods, if statement\n",
    "\n",
    "3.  Python data structures: list, dicts, tuples, sets; for loops\n",
    "\n",
    "4.  NumPy and the SciPy ecosistem. Basic statistics with NumPy\n",
    "\n",
    "5.  Pandas for data science I\n",
    "\n",
    "6.  Pandas for data science II\n",
    "\n",
    "7.  Data Visualisation: Matplotlib and Seaborn\n",
    "\n",
    "8. Object-oriented programming: classes, inheritance, and applications\n",
    "\n",
    "9. Data gathering and cleaning. Text pre-processing\n",
    "\n",
    "10.  Introduction to experimental design and statistical test. Time-series Analysis."
   ]
  },
  {
   "cell_type": "markdown",
   "metadata": {
    "slideshow": {
     "slide_type": "slide"
    }
   },
   "source": [
    "## 1.3 Format of the Course \n",
    "\n",
    "* 1 hour pre-recorded videos - split into 15-20 minute chunks.\n",
    "\n",
    "* 1 hour live interactive sessions - featuring discussions / polls / quizzes etc.\n",
    "\n",
    "* Flipped classroom - attempt the exercises and bring attempts to the live online class. "
   ]
  },
  {
   "cell_type": "markdown",
   "metadata": {
    "slideshow": {
     "slide_type": "slide"
    }
   },
   "source": [
    "## 1.4 Assessments: \n",
    "\n",
    "There will be two assessments for this course. \n",
    "\n",
    "* Formative assessment due mid-term (typically Week 5 or 6) - this is for feedback (no marks).\n",
    "\n",
    "* Summative assessment due end-of-term (typically two weeks after completion of the course).\n",
    "\n",
    "Accreditation:   \n",
    "\n",
    "* Worth 10 CATS points (Credit Accumulation Transfer Scheme) at Level 4. \n",
    "\n",
    "* Can count towards a CertHE at L4 if 120 credits are accumulated."
   ]
  },
  {
   "cell_type": "markdown",
   "metadata": {
    "slideshow": {
     "slide_type": "slide"
    }
   },
   "source": [
    "## 1.5 What is your motivation for taking this course?\n",
    "\n",
    "* Take a few minutes to note down your motivations for taking the course. \n",
    "\n",
    "* It would also be useful to know whether you have existing python experience or whether you are brand new to coding.\n",
    "\n",
    "* Also take a moment to introduce yourself on the Canvas Chat / Discusion Forum so you can get to know each other!"
   ]
  },
  {
   "cell_type": "markdown",
   "metadata": {
    "slideshow": {
     "slide_type": "slide"
    }
   },
   "source": [
    "# 2.0 Brief History of Data Science\n",
    "\n",
    "1. Google Trend Analysis \n",
    "\n",
    "2. What is Data Science\n",
    "\n",
    "3. Python vs R"
   ]
  },
  {
   "cell_type": "markdown",
   "metadata": {
    "slideshow": {
     "slide_type": "slide"
    }
   },
   "source": [
    "## 2.1 Rise in Popularity of Data Science\n",
    "\n",
    "* Google Search Term/Trend analysis reveals how influential the term has become of late.\n",
    "\n",
    "![rise_of_data_science](https://csdl-images.ieeecomputer.org/mags/co/2022/02/figures/data01-3130365.gif)\n",
    "https://www.computer.org/csdl/magazine/co/2022/02/09714109/1AZLhxxmP4Y\n",
    "\n",
    "Google Trends for worldwide interest in data science versus computer science over time as of 29 October 2021. 100 designates the peak popularity of the term."
   ]
  },
  {
   "cell_type": "markdown",
   "metadata": {
    "slideshow": {
     "slide_type": "slide"
    }
   },
   "source": [
    "![big_data_ml_data_science](http://blog.espydata.com/wp-content/uploads/2017/06/google_search_big_data.png)\n",
    "\n",
    "http://blog.espydata.com/2018/03/07/why-data-science-is-so-popular-and-why-thats-not-necessarily-a-good-thing/"
   ]
  },
  {
   "cell_type": "markdown",
   "metadata": {},
   "source": [
    "Can generate a live trends view via Google Trends: \n",
    "\n",
    "https://trends.google.com/trends/explore?date=2010-02-08%202025-09-02&geo=GB&q=data%20science,machine%20learning,big%20data&hl=en"
   ]
  },
  {
   "cell_type": "code",
   "execution_count": 2,
   "metadata": {},
   "outputs": [
    {
     "data": {
      "text/html": [
       "\n",
       "<iframe \n",
       "  width=\"800\" \n",
       "  height=\"600\" \n",
       "  src=\"https://trends.google.com/trends/embed/explore/TIMESERIES?req=%7B%22comparisonItem%22%3A%5B%7B%22keyword%22%3A%22data%20science%22%2C%22geo%22%3A%22GB%22%2C%22time%22%3A%222004-01-01%202025-09-02%22%7D%2C%7B%22keyword%22%3A%22machine%20learning%22%2C%22geo%22%3A%22GB%22%2C%22time%22%3A%222004-01-01%202025-09-02%22%7D%2C%7B%22keyword%22%3A%22big%20data%22%2C%22geo%22%3A%22GB%22%2C%22time%22%3A%222004-01-01%202025-09-02%22%7D%5D%2C%22category%22%3A0%2C%22property%22%3A%22%22%7D&hl=en\"\n",
       "  frameborder=\"0\" \n",
       "  scrolling=\"0\">\n",
       "</iframe>\n"
      ],
      "text/plain": [
       "<IPython.core.display.HTML object>"
      ]
     },
     "execution_count": 2,
     "metadata": {},
     "output_type": "execute_result"
    }
   ],
   "source": [
    "from IPython.display import HTML\n",
    "\n",
    "HTML(\"\"\"\n",
    "<iframe \n",
    "  width=\"800\" \n",
    "  height=\"600\" \n",
    "  src=\"https://trends.google.com/trends/embed/explore/TIMESERIES?req=%7B%22comparisonItem%22%3A%5B%7B%22keyword%22%3A%22data%20science%22%2C%22geo%22%3A%22GB%22%2C%22time%22%3A%222004-01-01%202025-09-02%22%7D%2C%7B%22keyword%22%3A%22machine%20learning%22%2C%22geo%22%3A%22GB%22%2C%22time%22%3A%222004-01-01%202025-09-02%22%7D%2C%7B%22keyword%22%3A%22big%20data%22%2C%22geo%22%3A%22GB%22%2C%22time%22%3A%222004-01-01%202025-09-02%22%7D%5D%2C%22category%22%3A0%2C%22property%22%3A%22%22%7D&hl=en\"\n",
    "  frameborder=\"0\" \n",
    "  scrolling=\"0\">\n",
    "</iframe>\n",
    "\"\"\")"
   ]
  },
  {
   "cell_type": "markdown",
   "metadata": {},
   "source": [
    "<script type=\"text/javascript\" src=\"https://ssl.gstatic.com/trends_nrtr/4207_RC01/embed_loader.js\"></script> <script type=\"text/javascript\"> trends.embed.renderExploreWidget(\"TIMESERIES\", {\"comparisonItem\":[{\"keyword\":\"data science\",\"geo\":\"GB\",\"time\":\"2004-01-01 2025-09-02\"},{\"keyword\":\"machine learning\",\"geo\":\"GB\",\"time\":\"2004-01-01 2025-09-02\"},{\"keyword\":\"big data\",\"geo\":\"GB\",\"time\":\"2004-01-01 2025-09-02\"}],\"category\":0,\"property\":\"\"}, {\"exploreQuery\":\"date=all&geo=GB&q=data%20science,machine%20learning,big%20data&hl=en\",\"guestPath\":\"https://trends.google.com:443/trends/embed/\"}); </script>"
   ]
  },
  {
   "cell_type": "markdown",
   "metadata": {},
   "source": []
  },
  {
   "cell_type": "markdown",
   "metadata": {
    "slideshow": {
     "slide_type": "slide"
    }
   },
   "source": [
    "## 2.2 What is Data Science?\n",
    "\n",
    "<img src=\"https://miro.medium.com/v2/resize:fit:1400/format:webp/1*WvOnZ27TdPUbJfa9q21QJw.png\" alt=\"DS_AI_HTML\" width=\"600\">\n",
    "\n",
    "https://towardsdatascience.com/the-essential-data-science-venn-diagram-35800c3bef40"
   ]
  },
  {
   "cell_type": "markdown",
   "metadata": {
    "slideshow": {
     "slide_type": "slide"
    }
   },
   "source": [
    "![ds_ai](https://miro.medium.com/v2/resize:fit:1300/format:webp/1*-XKVI5SAEpffNR7BusdvNQ.png)\n",
    "\n",
    "https://ai.plainenglish.io/data-science-vs-artificial-intelligence-vs-machine-learning-vs-deep-learning-50d3718d51e5"
   ]
  },
  {
   "cell_type": "markdown",
   "metadata": {
    "slideshow": {
     "slide_type": "slide"
    }
   },
   "source": [
    "![data_engineer_scientist_analyst](https://www.kdnuggets.com/wp-content/uploads/rosidi_navigating_data_science_job_titles_data_analyst_data_scientist_data_engineer_3.jpg)\n",
    "\n",
    "https://www.kdnuggets.com/navigating-data-science-job-titles-data-analyst-vs-data-scientist-vs-data-engineer"
   ]
  },
  {
   "cell_type": "markdown",
   "metadata": {
    "slideshow": {
     "slide_type": "slide"
    }
   },
   "source": [
    "## Data Science Life Cycle\n",
    "\n",
    "<img src=\"https://www.sudeep.co/images/post_images/2018-02-09-Understanding-the-Data-Science-Lifecycle/chart.png\" alt=\"DS_CYCLE_HTML\" width=\"500\">\n",
    "\n",
    "https://www.sudeep.co/data-science/2018/02/09/Understanding-the-Data-Science-Lifecycle.html\n"
   ]
  },
  {
   "cell_type": "markdown",
   "metadata": {
    "slideshow": {
     "slide_type": "slide"
    }
   },
   "source": [
    "![MS_DS_lifecycle](https://learn.microsoft.com/en-us/azure/architecture/data-science-process/media/lifecycle/tdsp-lifecycle2.png)\n",
    "\n",
    "https://learn.microsoft.com/en-us/azure/architecture/data-science-process/lifecycle"
   ]
  },
  {
   "cell_type": "markdown",
   "metadata": {
    "slideshow": {
     "slide_type": "slide"
    }
   },
   "source": [
    "## Time spent on tasks of the lifecycle\n",
    "<!--![2023_time](https://www.anaconda.com/wp-content/uploads/2023/02/sjospxffwpllegouega.svg)-->\n",
    "\n",
    "<img src=\"https://www.anaconda.com/wp-content/uploads/2023/02/sjospxffwpllegouega.svg\" alt=\"2023_time_HTML\" width=\"500\">\n",
    "\n",
    "https://www.anaconda.com/resources/whitepapers/state-of-data-science-report-2022  "
   ]
  },
  {
   "cell_type": "markdown",
   "metadata": {
    "slideshow": {
     "slide_type": "slide"
    }
   },
   "source": [
    "## 2.3 Python vs R \n",
    "![Python_R_](https://pathrise-website-guide-wp.s3.us-west-1.amazonaws.com/guides/wp-content/uploads/2021/07/07162126/Python-vs-R-1.png)\n",
    "\n",
    "<!--\n",
    "\n",
    "<b> Programming experience </b>\n",
    "\n",
    "* Python is considered to be a good language for beginners due to efficient syntax.\n",
    "* R can be used to run data analysis within minutes, but the advanced features makes for a steeper and specalist learning curve, therefore making it harder to develop expertise.\n",
    "\n",
    "<b> Working in a team or business </b>\n",
    "\n",
    "* Python is a production-ready language used in a wide range of industry, research and engineering workflows.\n",
    "* R is a statistical tool used by academics, engineers and scientists without any programming skills. \n",
    "\n",
    "<b> Nature of the problem </b>\n",
    "\n",
    "* R programming is better suited for statistical learning, with excellent libraries for data exploration and experimentation. \n",
    "* Python is a better choice for machine learning and large-scale applications, especially for data analysis within web applications.\n",
    "\n",
    "<b> Data visualisation </b>\n",
    "\n",
    "* R applications are ideal for visualizing your data in beautiful graphics. \n",
    "* Python applications are easier to integrate in an engineering environment.\n",
    "\n",
    "https://www.ibm.com/think/topics/python-vs-r/\n",
    "\n",
    "\n",
    "-->\n",
    "\n"
   ]
  },
  {
   "cell_type": "markdown",
   "metadata": {
    "slideshow": {
     "slide_type": "slide"
    }
   },
   "source": [
    "## Anaconda's State of Data Science Survey\n",
    "![Python_r_anaconda](https://www.anaconda.com/wp-content/uploads/2023/02/e6hhzi17d8plegpnsfx.svg)\n",
    "n=3104 \n",
    "https://www.anaconda.com/resources/whitepapers/state-of-data-science-2021 "
   ]
  },
  {
   "cell_type": "markdown",
   "metadata": {
    "slideshow": {
     "slide_type": "slide"
    }
   },
   "source": [
    "## Python Developers Survey\n",
    "https://lp.jetbrains.com/python-developers-survey-2022/"
   ]
  },
  {
   "cell_type": "markdown",
   "metadata": {
    "slideshow": {
     "slide_type": "slide"
    }
   },
   "source": [
    "## Stack Overflow Survey 2024 \n",
    "\n",
    "* StackOverflow conduct an annual survey of developers all over the world.\n",
    "\n",
    "* Note: This survey doesn't just focus on data science, but useful to understand the wider context.\n",
    "\n",
    "https://survey.stackoverflow.co/2024/technology#most-popular-technologies-language"
   ]
  },
  {
   "cell_type": "markdown",
   "metadata": {
    "slideshow": {
     "slide_type": "slide"
    }
   },
   "source": [
    "## Question\n",
    "\n",
    "* Why do you think data preparation takes the largest proportion of developers' time? \n",
    "\n",
    "* Is there any benefit to spending longer on data preparation? \n",
    "\n",
    "<img src=\"https://www.anaconda.com/wp-content/uploads/2023/02/sjospxffwpllegouega.svg\" alt=\"2023_time_HTML\" width=\"250\">\n"
   ]
  },
  {
   "cell_type": "markdown",
   "metadata": {
    "slideshow": {
     "slide_type": "slide"
    }
   },
   "source": [
    "# 3.0 Python Basics\n",
    "\n",
    "1. Output \n",
    "\n",
    "2. Variables, Types, Assignment \n",
    "\n",
    "3. Input "
   ]
  },
  {
   "cell_type": "markdown",
   "metadata": {
    "slideshow": {
     "slide_type": "slide"
    }
   },
   "source": [
    "## 3.0 'Mechanics' of Python \n",
    "![Python_Interpreter](https://miro.medium.com/v2/resize:fit:1400/format:webp/1*1athPfdP9St4mkB_hElM6g.png)"
   ]
  },
  {
   "cell_type": "markdown",
   "metadata": {
    "slideshow": {
     "slide_type": "slide"
    }
   },
   "source": [
    "## 3.1 Output (First program)"
   ]
  },
  {
   "cell_type": "code",
   "execution_count": null,
   "metadata": {},
   "outputs": [],
   "source": [
    "print(\"Hello World\")"
   ]
  },
  {
   "cell_type": "markdown",
   "metadata": {
    "slideshow": {
     "slide_type": "slide"
    }
   },
   "source": [
    "## 3.2 Variables and Types"
   ]
  },
  {
   "cell_type": "code",
   "execution_count": null,
   "metadata": {},
   "outputs": [],
   "source": [
    "name = \"Nick\" "
   ]
  },
  {
   "cell_type": "code",
   "execution_count": null,
   "metadata": {},
   "outputs": [],
   "source": [
    "a = 15 "
   ]
  },
  {
   "cell_type": "code",
   "execution_count": null,
   "metadata": {},
   "outputs": [],
   "source": [
    "isComplete = True"
   ]
  },
  {
   "cell_type": "code",
   "execution_count": null,
   "metadata": {},
   "outputs": [],
   "source": [
    "b = 3.14"
   ]
  },
  {
   "cell_type": "markdown",
   "metadata": {
    "slideshow": {
     "slide_type": "slide"
    }
   },
   "source": [
    "![vars_illustration](https://programmingwithbabu.wordpress.com/wp-content/uploads/2017/08/assignment_operators.gif?w=300)"
   ]
  },
  {
   "cell_type": "markdown",
   "metadata": {
    "slideshow": {
     "slide_type": "slide"
    }
   },
   "source": [
    "![python_var](https://miro.medium.com/v2/resize:fit:1400/1*dvv6ffYSxqTtd9wTB3TeKw.png)"
   ]
  },
  {
   "cell_type": "markdown",
   "metadata": {
    "slideshow": {
     "slide_type": "slide"
    }
   },
   "source": [
    "## 3.2 Output data held in Variables"
   ]
  },
  {
   "cell_type": "code",
   "execution_count": 4,
   "metadata": {},
   "outputs": [
    {
     "name": "stdout",
     "output_type": "stream",
     "text": [
      "Hello Nick\n"
     ]
    }
   ],
   "source": [
    "name = \"Nick\" \n",
    "print(\"Hello \" + name) "
   ]
  },
  {
   "cell_type": "code",
   "execution_count": 5,
   "metadata": {},
   "outputs": [
    {
     "name": "stdout",
     "output_type": "stream",
     "text": [
      "Hello Nick\n"
     ]
    }
   ],
   "source": [
    "name = \"Nick\" \n",
    "print(\"Hello \" + name) "
   ]
  },
  {
   "cell_type": "code",
   "execution_count": 6,
   "metadata": {},
   "outputs": [
    {
     "name": "stdout",
     "output_type": "stream",
     "text": [
      "Hello Nick\n"
     ]
    }
   ],
   "source": [
    "print(\"Hello\", name)"
   ]
  },
  {
   "cell_type": "markdown",
   "metadata": {},
   "source": [
    "In Jupyter Notebooks you can also just state the variable name to reveal the contents:  \n",
    "This is really helpful for quick testing!"
   ]
  },
  {
   "cell_type": "code",
   "execution_count": null,
   "metadata": {},
   "outputs": [],
   "source": [
    "name = \"Nick\" \n",
    "name "
   ]
  },
  {
   "cell_type": "code",
   "execution_count": 7,
   "metadata": {},
   "outputs": [
    {
     "data": {
      "text/plain": [
       "'Nick'"
      ]
     },
     "execution_count": 7,
     "metadata": {},
     "output_type": "execute_result"
    }
   ],
   "source": [
    "name"
   ]
  },
  {
   "cell_type": "markdown",
   "metadata": {
    "slideshow": {
     "slide_type": "slide"
    }
   },
   "source": [
    "## f-strings (Formatted String Literals)\n",
    "* Introduced in Python 3.6, f-strings provide an efficient and readable way to embed expressions inside string literals. \n",
    "\n",
    "* You prefix the string with `f` and insert variables or expressions inside curly braces `{ }`.\n",
    "\n",
    "* This method is more widely known as <b>string interpolation</b> which embeds expressions or variable values inside a string."
   ]
  },
  {
   "cell_type": "code",
   "execution_count": 8,
   "metadata": {},
   "outputs": [
    {
     "name": "stdout",
     "output_type": "stream",
     "text": [
      "My name is Nick and I am 30 years old.\n"
     ]
    }
   ],
   "source": [
    "name = \"Nick\"\n",
    "age = 30\n",
    "print(f\"My name is {name} and I am {age} years old.\")"
   ]
  },
  {
   "cell_type": "markdown",
   "metadata": {
    "slideshow": {
     "slide_type": "slide"
    }
   },
   "source": [
    "## C-format specifiers\n",
    "* The C programming language was first developed in the 1970s by Dennis Ritchie at Bell Labs. \n",
    "\n",
    "* C is a strongly typed language and required the format of the data to be included in the 'output stream'.\n",
    "\n",
    "* Python can also utilise these 'format specifiers' for outputing data.\n",
    "\n",
    "| Syntax      | Description |\n",
    "| ----------- | ----------- |\n",
    "| <b> %d, %i</b>     | Integer       |\n",
    "| <b>%u</b>   | Unsigned Integer        |\n",
    "| <b>%f</b>   | Floating point as m.ddddd       |\n",
    "| <b>%e</b>   | Floating point as m.ddddde+/-xx       |\n",
    "| <b>%E</b>   | Floating point as m.dddddE+/-xx       |\n",
    "| <b>%g</b>   |  Use %e for exponents <-4 or >+5, otherwise use %f    |\n",
    "| <b>%c</b>    |  Single character   |\n",
    "| <b>%s</b>    |  String, or any object that be converted via str()  |\n",
    "| <b>%%</b>    |  Insert a literal % character  |"
   ]
  },
  {
   "cell_type": "code",
   "execution_count": 9,
   "metadata": {},
   "outputs": [
    {
     "name": "stdout",
     "output_type": "stream",
     "text": [
      "Nick is 30 years old\n"
     ]
    }
   ],
   "source": [
    "print(\"%s is %d years old\" % (name, age) )"
   ]
  },
  {
   "cell_type": "markdown",
   "metadata": {
    "slideshow": {
     "slide_type": "slide"
    }
   },
   "source": [
    "## Dynamic vs Static typing\n",
    "\n",
    "* Python is dynamically typed (type checked at run-time). \n",
    "\n",
    "* Python variables can be initially assigned a value of one type, and then be reassigned a value of a different type!\n",
    "\n",
    "* Statically typed languages (such as C, C++, C# and Java, which check type at compile-time) only allow values of the same type to be assigned. "
   ]
  },
  {
   "cell_type": "code",
   "execution_count": 10,
   "metadata": {},
   "outputs": [
    {
     "name": "stdout",
     "output_type": "stream",
     "text": [
      "You are 30\n",
      "You are Nick\n"
     ]
    }
   ],
   "source": [
    "age = 30 \n",
    "print(\"You are\", age)\n",
    "age = \"Nick\" \n",
    "print(\"You are\", age) "
   ]
  },
  {
   "cell_type": "code",
   "execution_count": 12,
   "metadata": {},
   "outputs": [
    {
     "name": "stdout",
     "output_type": "stream",
     "text": [
      "<class 'int'>\n",
      "<class 'str'>\n"
     ]
    }
   ],
   "source": [
    "age = 30 \n",
    "print(type(age))\n",
    "age = \"Nick\" \n",
    "print(type(age)) "
   ]
  },
  {
   "cell_type": "markdown",
   "metadata": {
    "slideshow": {
     "slide_type": "slide"
    }
   },
   "source": [
    "## 3.3 Input "
   ]
  },
  {
   "cell_type": "code",
   "execution_count": 1,
   "metadata": {},
   "outputs": [
    {
     "name": "stdout",
     "output_type": "stream",
     "text": [
      "Please enter your namenick\n"
     ]
    },
    {
     "data": {
      "text/plain": [
       "'nick'"
      ]
     },
     "execution_count": 1,
     "metadata": {},
     "output_type": "execute_result"
    }
   ],
   "source": [
    "input(\"Please enter your name\")"
   ]
  },
  {
   "cell_type": "code",
   "execution_count": 14,
   "metadata": {},
   "outputs": [
    {
     "name": "stdout",
     "output_type": "stream",
     "text": [
      "Hello nick\n"
     ]
    }
   ],
   "source": [
    "name = input(\"Please enter your name: \") \n",
    "print(\"Hello\", name) "
   ]
  },
  {
   "cell_type": "code",
   "execution_count": 15,
   "metadata": {},
   "outputs": [
    {
     "name": "stdout",
     "output_type": "stream",
     "text": [
      "the value nick is <class 'str'>\n"
     ]
    }
   ],
   "source": [
    "print(\"the value\", name, \"is\", type(name))"
   ]
  },
  {
   "cell_type": "code",
   "execution_count": 1,
   "metadata": {},
   "outputs": [
    {
     "name": "stdout",
     "output_type": "stream",
     "text": [
      "You are 30 years old\n",
      "the value 30 is <class 'str'>\n"
     ]
    }
   ],
   "source": [
    "age = input(\"Please enter your age: \")\n",
    "print(\"You are\", age, \"years old\") \n",
    "print(\"the value\", age, \"is\", type(age))"
   ]
  },
  {
   "cell_type": "code",
   "execution_count": 17,
   "metadata": {},
   "outputs": [
    {
     "name": "stdout",
     "output_type": "stream",
     "text": [
      "You are 30 years old\n",
      "the value 30 is <class 'int'>\n"
     ]
    }
   ],
   "source": [
    "age = int(input(\"Please enter your age: \"))\n",
    "print(\"You are\", age, \"years old\") \n",
    "print(\"the value\", age, \"is\", type(age))"
   ]
  },
  {
   "cell_type": "markdown",
   "metadata": {
    "slideshow": {
     "slide_type": "slide"
    }
   },
   "source": [
    "# 4.0 Tour of Anaconda, VSC, Git\n",
    "\n",
    "* Git / GitHub / GitLab demo - make changes and sync\n",
    "\n",
    "* VSC - setup, tabs and extensions\n",
    "\n",
    "* Anaconda - Jupyter "
   ]
  },
  {
   "cell_type": "markdown",
   "metadata": {
    "slideshow": {
     "slide_type": "slide"
    }
   },
   "source": [
    "## 4.1 Git Commands\n",
    "` git config --global user.name \"Your Name\" `    \n",
    "  ` git config --global user.email \"you@example.com\"`"
   ]
  },
  {
   "cell_type": "markdown",
   "metadata": {
    "slideshow": {
     "slide_type": "slide"
    }
   },
   "source": [
    "` git init `  \n",
    "  `git add file.txt`  \n",
    "  `git commit -m \"Describe what changed\"`  \n",
    "  `git log`"
   ]
  },
  {
   "cell_type": "markdown",
   "metadata": {
    "slideshow": {
     "slide_type": "slide"
    }
   },
   "source": [
    "`git remote add origin https://github.com/username/repository.git`  \n",
    "  `git push origin main`  \n",
    "  `git clone https://github.com/username/repository.git`"
   ]
  },
  {
   "cell_type": "markdown",
   "metadata": {
    "slideshow": {
     "slide_type": "slide"
    }
   },
   "source": [
    "`git pull origin main`  \n",
    "  `git branch feature-branch`  \n",
    "  `git checkout feature-branch`\n",
    "    "
   ]
  },
  {
   "cell_type": "markdown",
   "metadata": {},
   "source": [
    "## 4.2 Git 'Cheatsheet'\n",
    "* `git init`: Initialize a repository.\n",
    "\n",
    "* `git clone`: Clone a repository from a remote.\n",
    "\n",
    "* `git add` <file>: Stage changes.\n",
    "\n",
    "* `git commit -m \"message\"`: Commit changes.\n",
    "\n",
    "* `git status`: Show the status of files.\n",
    "\n",
    "* `git log`: Show commit history.\n",
    "\n",
    "* `git pull`: Fetch and merge from the remote repository.\n",
    "\n",
    "* `git push`: Push changes to the remote repository."
   ]
  },
  {
   "cell_type": "markdown",
   "metadata": {
    "slideshow": {
     "slide_type": "slide"
    }
   },
   "source": [
    "# Formative Exercises\n",
    "\n",
    "Once you've installed Anaconda or Visual Studio Code (VSC) with the Python and Jupyter Extensions, Read through the supplementary notebooks 1A, 1B, 1C and 1D to familiarise yourself with the Jupyter environment. Then have a go at the following exercises to put this into practice:\n"
   ]
  },
  {
   "cell_type": "markdown",
   "metadata": {},
   "source": [
    "## Exercise 1: \n",
    "\n",
    "Insert a 'code cell' below this 'markdown cell'. In this code cell, write a Python command to print 'hello world' to the screen. Make sure you run this cell to see the output below the code cell.\n",
    "\n",
    "Extension: Modify the Python code to ask for the user's name (your name). Store this name and then output a greeting to the screen. "
   ]
  },
  {
   "cell_type": "markdown",
   "metadata": {},
   "source": [
    "## Exercise 2: \n",
    "\n",
    "Create a Python code cell below and write code which allows the user (you) to enter and store three numbers (floats or integers). Then calculate and output the aithemetic mean (average) of these entered numbers. \n",
    "\n",
    "Extension: We'll look at conditionals and functions over the next week, but if you have time, consider how you can improve upon the efficiency of your solution. "
   ]
  },
  {
   "cell_type": "markdown",
   "metadata": {},
   "source": [
    "## Exercise 3: \n",
    "\n",
    "Add a markdown cell below and re-create the equation of the straight line (y = mx + c) using MathJax (use the $ dollar symbols).\n",
    "\n",
    "Upon success, why not try recreating some more formulas in markdown (e.g. the Quadratic formula or the Standard Deviation formula)? Create each formula in a separate markdown cell with either a HTML `<h2>` heading or a markdown level-2 heading `##`."
   ]
  },
  {
   "cell_type": "markdown",
   "metadata": {},
   "source": [
    "## Exercise 4: \n",
    "\n",
    "Now insert a Python cell below and code a solution to the following problem: \n",
    "\n",
    "Calculate the distance between two points $(x_1, y_1)$ and $(x_2, y_2)$ in a 2D plane using Pythagoras’ theorem.\n",
    "\n",
    "Hint: To calculate distance (denoted as $d$) applying the following formula:   \n",
    "$d = \\sqrt{(x_2 - x_1)^2 + (y_2 - y_1)^2}$ "
   ]
  },
  {
   "cell_type": "markdown",
   "metadata": {},
   "source": [
    "## Exercise 5:\n",
    "\n",
    "Set up a Git/GitHub/GitLab account, and synchronise your changes to this notebook with your account (by making 'commits' and 'pushing' these commits to the server). \n",
    "\n",
    "  If you've set up a GitHub or GitLab account, you'll be able to see a record of these commits via the web. \n",
    "\n",
    "  Furthermore, you may wish to download and set up GitHub Desktop, or use the VSC Source Control tab for GUI integration. "
   ]
  },
  {
   "cell_type": "markdown",
   "metadata": {},
   "source": [
    "## Well done! \n",
    "\n",
    "Remember to bring these solutions to the first live call! "
   ]
  }
 ],
 "metadata": {
  "celltoolbar": "Slideshow",
  "kernelspec": {
   "display_name": "Python 3 (ipykernel)",
   "language": "python",
   "name": "python3"
  },
  "language_info": {
   "codemirror_mode": {
    "name": "ipython",
    "version": 3
   },
   "file_extension": ".py",
   "mimetype": "text/x-python",
   "name": "python",
   "nbconvert_exporter": "python",
   "pygments_lexer": "ipython3",
   "version": "3.11.5"
  }
 },
 "nbformat": 4,
 "nbformat_minor": 4
}
