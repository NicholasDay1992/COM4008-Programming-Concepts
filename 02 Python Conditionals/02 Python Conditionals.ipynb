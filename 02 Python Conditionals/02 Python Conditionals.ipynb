{
 "cells": [
  {
   "cell_type": "markdown",
   "id": "1eba3b72",
   "metadata": {
    "slideshow": {
     "slide_type": "slide"
    }
   },
   "source": [
    "# 02 Python Conditionals "
   ]
  },
  {
   "cell_type": "markdown",
   "id": "bc8c3f11",
   "metadata": {
    "slideshow": {
     "slide_type": "slide"
    }
   },
   "source": [
    "## Plan for this Lecture\n",
    "\n",
    "1. Selection \n",
    "\n",
    "2. Operators (Comparison, Arithmetic, Logical)\n",
    "\n",
    "2. Iteration\n",
    "\n",
    "3. Functions"
   ]
  },
  {
   "cell_type": "code",
   "execution_count": 37,
   "id": "ef512719",
   "metadata": {},
   "outputs": [
    {
     "name": "stdout",
     "output_type": "stream",
     "text": [
      "hello\n"
     ]
    }
   ],
   "source": [
    "print(\"hello\")"
   ]
  },
  {
   "cell_type": "code",
   "execution_count": null,
   "id": "1587d5ac",
   "metadata": {},
   "outputs": [
    {
     "data": {
      "text/plain": [
       "40"
      ]
     },
     "execution_count": 41,
     "metadata": {},
     "output_type": "execute_result"
    }
   ],
   "source": [
    "num = int(input(\"please enter a number\"))\n",
    "num += 10\n",
    "num"
   ]
  },
  {
   "cell_type": "markdown",
   "id": "4026c3f7",
   "metadata": {
    "slideshow": {
     "slide_type": "slide"
    }
   },
   "source": [
    "## 1.0 Selection\n",
    "\n",
    "* Selection gives users choice in programs.\n",
    "\n",
    "* Blocks of code run providing a comparison results in `True`\n",
    "\n",
    "* This binary evaluation applies for both selection statements and iterative statements!\n"
   ]
  },
  {
   "cell_type": "markdown",
   "id": "2e158973",
   "metadata": {
    "slideshow": {
     "slide_type": "slide"
    }
   },
   "source": [
    "## 1.1 The `if` statement\n",
    "* Like most programming languages, Python uses the `if` statement to evaluate whether it should run a block of code or not.\n",
    "\n",
    "* If the evaluation is `True`, the body of the `if` statement will be run.\n",
    "\n",
    "* If the evaluation is `False`, the body is not run (ignored)."
   ]
  },
  {
   "cell_type": "code",
   "execution_count": 46,
   "id": "b5787018",
   "metadata": {
    "slideshow": {
     "slide_type": "fragment"
    }
   },
   "outputs": [
    {
     "name": "stdout",
     "output_type": "stream",
     "text": [
      "You passed!\n"
     ]
    }
   ],
   "source": [
    "score = 45\n",
    "if score >= 40 :\n",
    "    print(\"You passed!\")\n"
   ]
  },
  {
   "cell_type": "markdown",
   "id": "6834c07f",
   "metadata": {
    "slideshow": {
     "slide_type": "slide"
    }
   },
   "source": [
    "Read this evaluation out loud in natural language. \n",
    "* Q: What's the value of score? A: 45\n",
    "\n",
    "* Q: Is 45 greater than OR equal to 40? A: Yes\n",
    "\n",
    "* Q: Do we run the body of the if statement? A: Yes\n"
   ]
  },
  {
   "cell_type": "code",
   "execution_count": 47,
   "id": "a6cc9447",
   "metadata": {
    "slideshow": {
     "slide_type": "slide"
    }
   },
   "outputs": [],
   "source": [
    "score = 35\n",
    "if score >= 40 :\n",
    "    print(\"You passed!\")"
   ]
  },
  {
   "cell_type": "markdown",
   "id": "66311bc9",
   "metadata": {},
   "source": [
    "Note on Python syntax\n",
    "* Indentation is important with Python blocks. \n",
    "\n",
    "* The following statement doesn't run if the 'body' of the if statement is not indented (press tab on the keyboard)."
   ]
  },
  {
   "cell_type": "code",
   "execution_count": 48,
   "id": "866df21d",
   "metadata": {
    "slideshow": {
     "slide_type": "slide"
    }
   },
   "outputs": [
    {
     "name": "stdout",
     "output_type": "stream",
     "text": [
      "You passed!\n"
     ]
    }
   ],
   "source": [
    "score = 40\n",
    "if score == 40 :\n",
    "    print(\"You passed!\")"
   ]
  },
  {
   "cell_type": "code",
   "execution_count": 50,
   "id": "98faf2d8",
   "metadata": {
    "slideshow": {
     "slide_type": "fragment"
    }
   },
   "outputs": [
    {
     "name": "stdout",
     "output_type": "stream",
     "text": [
      "Hi Nick\n"
     ]
    }
   ],
   "source": [
    "name = 'Nick'\n",
    "if name == \"Nick\":\n",
    "    print(\"Hi\", name)"
   ]
  },
  {
   "cell_type": "markdown",
   "id": "d48dcfbc",
   "metadata": {
    "slideshow": {
     "slide_type": "slide"
    }
   },
   "source": [
    "## 1.2 `else` statement\n",
    "\n",
    "* The `else` statement could be seen as the counterpart to the `if` statement.\n",
    "\n",
    "* Placed underneath the `if` statement, the `else` statement would run should the `if` statement evaluate to `False`.\n",
    "\n",
    "* In the context of a series of evaluations, the `else` would come last, and only run if all the above evaluations are `False`."
   ]
  },
  {
   "cell_type": "code",
   "execution_count": null,
   "id": "e0d6500e",
   "metadata": {
    "slideshow": {
     "slide_type": "slide"
    }
   },
   "outputs": [
    {
     "name": "stdout",
     "output_type": "stream",
     "text": [
      "You passed!\n"
     ]
    }
   ],
   "source": [
    "score = 35\n",
    "if score >= 40 :\n",
    "    print(\"You passed!\")\n",
    "else:\n",
    "    print(\"Try again...\")\n"
   ]
  },
  {
   "cell_type": "code",
   "execution_count": 53,
   "id": "2496df10",
   "metadata": {
    "slideshow": {
     "slide_type": "slide"
    }
   },
   "outputs": [
    {
     "name": "stdout",
     "output_type": "stream",
     "text": [
      "Hello someone else!\n"
     ]
    }
   ],
   "source": [
    "name = \"Sam\"\n",
    "if name == \"Nick\":\n",
    "    print(\"Hi Nick!\")\n",
    "else:\n",
    "    print(\"Hello someone else!\")\n"
   ]
  },
  {
   "cell_type": "code",
   "execution_count": 55,
   "id": "8f4b38ce",
   "metadata": {
    "slideshow": {
     "slide_type": "slide"
    }
   },
   "outputs": [
    {
     "name": "stdout",
     "output_type": "stream",
     "text": [
      "Hello someone else!\n"
     ]
    }
   ],
   "source": [
    "name = \"nick\"\n",
    "if name == \"Nick\":\n",
    "    print(\"Hi Nick!\")\n",
    "else:\n",
    "    print(\"Hello someone else!\")"
   ]
  },
  {
   "cell_type": "markdown",
   "id": "ccc2af11",
   "metadata": {
    "slideshow": {
     "slide_type": "slide"
    }
   },
   "source": [
    "## 1.3 The `elif` statement\n",
    "\n",
    "* `elif` is Python's keyword for else if. \n",
    "\n",
    "* Sequentially, `elif` statements fit between the opening `if` statement and a closing `else` statement.\n",
    "\n",
    "* `elif` statements are exclusive. They are only checked providing the preceeding conditional evaluated to `False`."
   ]
  },
  {
   "cell_type": "code",
   "execution_count": null,
   "id": "df5982e0",
   "metadata": {
    "slideshow": {
     "slide_type": "slide"
    }
   },
   "outputs": [
    {
     "name": "stdout",
     "output_type": "stream",
     "text": [
      "You passed!\n"
     ]
    }
   ],
   "source": [
    "score = 55\n",
    "if score >= 40 :\n",
    "    print(\"You passed!\")\n",
    "elif score >= 50 :\n",
    "    print(\"You scored a C\")\n",
    "elif score >= 60 :\n",
    "    print(\"You scored a B\")\n",
    "elif score >= 70 :\n",
    "    print(\"You scored a A\")\n",
    "else :\n",
    "    print(\"Try again...\")\n"
   ]
  },
  {
   "cell_type": "markdown",
   "id": "331831c2",
   "metadata": {
    "slideshow": {
     "slide_type": "slide"
    }
   },
   "source": [
    "Question: is this output logically correct?"
   ]
  },
  {
   "cell_type": "code",
   "execution_count": 60,
   "id": "129f93a8",
   "metadata": {
    "slideshow": {
     "slide_type": "slide"
    }
   },
   "outputs": [
    {
     "name": "stdout",
     "output_type": "stream",
     "text": [
      "You scored a A!\n"
     ]
    }
   ],
   "source": [
    "score = 75\n",
    "if score >= 70:\n",
    "    print(\"You scored a A!\")\n",
    "elif score >= 60:\n",
    "    print(\"You scored a B!\")\n",
    "elif score >= 50 :\n",
    "    print(\"You scored a C!\")\n",
    "elif score >= 40 :\n",
    "    print(\"You passed!\")\n",
    "else :\n",
    "    print(\"Try again...\")"
   ]
  },
  {
   "cell_type": "markdown",
   "id": "439f19d0",
   "metadata": {
    "slideshow": {
     "slide_type": "slide"
    }
   },
   "source": [
    "What would happen if we used `if` statements here rather than `elif` statements?"
   ]
  },
  {
   "cell_type": "code",
   "execution_count": 12,
   "id": "20abe238",
   "metadata": {
    "slideshow": {
     "slide_type": "slide"
    }
   },
   "outputs": [
    {
     "name": "stdout",
     "output_type": "stream",
     "text": [
      "You scored a C!\n",
      "You passed!\n"
     ]
    }
   ],
   "source": [
    "score = 55\n",
    "if score >= 60:\n",
    "    print(\"You scored a B!\")\n",
    "if score >= 50 :\n",
    "    print(\"You scored a C!\")\n",
    "if score >= 40 :\n",
    "    print(\"You passed!\")\n",
    "else :\n",
    "    print(\"Try again...\")"
   ]
  },
  {
   "cell_type": "markdown",
   "id": "64d94a48",
   "metadata": {},
   "source": [
    "Multiple `if` statements could be true at the same time - they are not exclusive like `elif` statements."
   ]
  },
  {
   "cell_type": "markdown",
   "id": "27a3da44",
   "metadata": {
    "slideshow": {
     "slide_type": "slide"
    }
   },
   "source": [
    "## Selection in other languages\n",
    "\n",
    "* Other languages: C, C++, C# and Java feature a `switch` statement and a ternary `?` operator as alternate ways to select between blocks of code. \n",
    "\n",
    "* For a long time, `switch` was not present in Python, however in `Python 3.10`, the keyword `match` was introduced as equivalent! \n",
    "\n",
    "* Like the `switch` statement in other languages, Python's `match` keyword uses cases (values of a variable). The `_` `case` is used as an equivalent to the `default case` or `else` - if all the above are `False`.\n"
   ]
  },
  {
   "cell_type": "code",
   "execution_count": null,
   "id": "5f6d3855",
   "metadata": {},
   "outputs": [],
   "source": [
    "grade = 'C'\n",
    "\n",
    "match grade:\n",
    "    case \"A\": \n",
    "        print(\"You achieved a first class\")\n",
    "    case \"B\": \n",
    "        print(\"You achieved a second class: upper division\")\n",
    "    case \"C\": \n",
    "        print(\"You achieved a second class: lower division\")\n",
    "    case \"D\": \n",
    "        print(\"You achieved a third class\")\n",
    "    case _:\n",
    "        print(\"You did not pass\")\n",
    "    "
   ]
  },
  {
   "cell_type": "markdown",
   "id": "35e995ee",
   "metadata": {},
   "source": [
    "* Furthermore, whilst the ternary operator `?` is not used in Python, this  functionality can be performed with if and else in the same line (introduced in Python 2.5):    \n",
    "`value_if_true if condition else value_if_false`"
   ]
  },
  {
   "cell_type": "code",
   "execution_count": 61,
   "id": "3550d8de",
   "metadata": {
    "slideshow": {
     "slide_type": "slide"
    }
   },
   "outputs": [
    {
     "name": "stdout",
     "output_type": "stream",
     "text": [
      "You passed!\n"
     ]
    }
   ],
   "source": [
    "score = 50\n",
    "print(\"You passed!\") if score >= 40 else print(\"Try again...\")"
   ]
  },
  {
   "cell_type": "code",
   "execution_count": 62,
   "id": "9cac3c21",
   "metadata": {
    "slideshow": {
     "slide_type": "slide"
    }
   },
   "outputs": [
    {
     "name": "stdout",
     "output_type": "stream",
     "text": [
      "Try again...\n"
     ]
    }
   ],
   "source": [
    "score = 30\n",
    "print(\"You passed!\") if score >= 40 else print(\"Try again...\")"
   ]
  },
  {
   "cell_type": "markdown",
   "id": "c64fae2d",
   "metadata": {
    "slideshow": {
     "slide_type": "slide"
    }
   },
   "source": [
    "## 2.1 Comparison Operators\n",
    "\n",
    "* `>` Greater than\n",
    "\n",
    "* `<` Less than\n",
    "\n",
    "* `>=` Greater than or equal\n",
    "\n",
    "* `<=` Less than or equal\n",
    "\n",
    "* `==` Equality\n",
    "\n",
    "* `!=` Not equal"
   ]
  },
  {
   "cell_type": "markdown",
   "id": "dd91af97",
   "metadata": {
    "slideshow": {
     "slide_type": "slide"
    }
   },
   "source": [
    "| Syntax      | Description |\n",
    "| ----------- | ----------- |\n",
    "| <b>x == y</b>   | True if x and y have same value |\n",
    "| <b>x != y</b>   | True if x and y do not have the same value |\n",
    "| <b>x < y</b>   | True if x is less than y |\n",
    "| <b>x > y</b>   | True if x is greater than y |\n",
    "| <b>x <= y</b>   | True if x is less than OR equal to y |\n",
    "| <b>x >= y</b>   | True if x is greater than OR equal to y |"
   ]
  },
  {
   "cell_type": "code",
   "execution_count": 63,
   "id": "4ee1f29f",
   "metadata": {
    "slideshow": {
     "slide_type": "slide"
    }
   },
   "outputs": [
    {
     "data": {
      "text/plain": [
       "True"
      ]
     },
     "execution_count": 63,
     "metadata": {},
     "output_type": "execute_result"
    }
   ],
   "source": [
    "score = 45\n",
    "score >= 40 "
   ]
  },
  {
   "cell_type": "code",
   "execution_count": 64,
   "id": "c9cbe1f0",
   "metadata": {
    "slideshow": {
     "slide_type": "slide"
    }
   },
   "outputs": [
    {
     "data": {
      "text/plain": [
       "True"
      ]
     },
     "execution_count": 64,
     "metadata": {},
     "output_type": "execute_result"
    }
   ],
   "source": [
    "score = 45\n",
    "score == 45 "
   ]
  },
  {
   "cell_type": "code",
   "execution_count": 65,
   "id": "3463e520",
   "metadata": {
    "slideshow": {
     "slide_type": "slide"
    }
   },
   "outputs": [
    {
     "data": {
      "text/plain": [
       "False"
      ]
     },
     "execution_count": 65,
     "metadata": {},
     "output_type": "execute_result"
    }
   ],
   "source": [
    "score = 45\n",
    "score == '45' "
   ]
  },
  {
   "cell_type": "code",
   "execution_count": 66,
   "id": "9cc05c04",
   "metadata": {
    "slideshow": {
     "slide_type": "slide"
    }
   },
   "outputs": [
    {
     "data": {
      "text/plain": [
       "False"
      ]
     },
     "execution_count": 66,
     "metadata": {},
     "output_type": "execute_result"
    }
   ],
   "source": [
    "score = 45\n",
    "score != 45 "
   ]
  },
  {
   "cell_type": "markdown",
   "id": "25d65a1e",
   "metadata": {
    "slideshow": {
     "slide_type": "slide"
    }
   },
   "source": [
    "## 2.2 Arithmetic Operators\n",
    "\n",
    "* `+` Addition\n",
    "\n",
    "* `-` Subtraction\n",
    "\n",
    "* `/` Division\n",
    "\n",
    "* `%` Modulus\n",
    "\n",
    "* `*` Multiplication\n",
    "\n",
    "* `//` Floor Division\n",
    "\n",
    "* `**` Power of\n"
   ]
  },
  {
   "cell_type": "markdown",
   "id": "dd39cb4b",
   "metadata": {
    "slideshow": {
     "slide_type": "subslide"
    }
   },
   "source": [
    "| Syntax      | Output |\n",
    "| ----------- | ----------- |\n",
    "| <b>5 + 5</b>   | 10 |\n",
    "| <b>5 - 4</b>   | 1 |\n",
    "| <b>5 / 2</b>   | 2.5 |\n",
    "| <b>50 % 4</b>   | 2 (mod gives remainder) |\n",
    "| <b>5 * 10</b>   | 50 |\n",
    "| <b>5 // 2</b>   | 2 (round 2.5 down) |\n",
    "| <b>5 ** 2</b>   | 25 (5 x 5) |"
   ]
  },
  {
   "cell_type": "code",
   "execution_count": 67,
   "id": "bf1a2aaf",
   "metadata": {
    "slideshow": {
     "slide_type": "slide"
    }
   },
   "outputs": [
    {
     "data": {
      "text/plain": [
       "16.0"
      ]
     },
     "execution_count": 67,
     "metadata": {},
     "output_type": "execute_result"
    }
   ],
   "source": [
    "8 ** 2 / 4 "
   ]
  },
  {
   "cell_type": "markdown",
   "id": "070bec93",
   "metadata": {
    "slideshow": {
     "slide_type": "slide"
    }
   },
   "source": [
    "* 8 ** 2 = $8^2$ = 64\n",
    "\n",
    "* $ 64/4 $ = 16"
   ]
  },
  {
   "cell_type": "code",
   "execution_count": 68,
   "id": "932b4689",
   "metadata": {
    "slideshow": {
     "slide_type": "slide"
    }
   },
   "outputs": [
    {
     "data": {
      "text/plain": [
       "20"
      ]
     },
     "execution_count": 68,
     "metadata": {},
     "output_type": "execute_result"
    }
   ],
   "source": [
    "4 + 4 ** 2 "
   ]
  },
  {
   "cell_type": "markdown",
   "id": "45bddc87",
   "metadata": {
    "slideshow": {
     "slide_type": "slide"
    }
   },
   "source": [
    "* 4 ** 2 = $4^2$ = 16\n",
    "\n",
    "* 4 + 16 = 20"
   ]
  },
  {
   "cell_type": "code",
   "execution_count": 69,
   "id": "6c1c1614",
   "metadata": {
    "slideshow": {
     "slide_type": "slide"
    }
   },
   "outputs": [
    {
     "data": {
      "text/plain": [
       "64"
      ]
     },
     "execution_count": 69,
     "metadata": {},
     "output_type": "execute_result"
    }
   ],
   "source": [
    "(4 + 4) ** 2 "
   ]
  },
  {
   "cell_type": "markdown",
   "id": "6f137e9c",
   "metadata": {
    "slideshow": {
     "slide_type": "slide"
    }
   },
   "source": [
    "* 4 + 4 = 8\n",
    "\n",
    "* 8 ** 2 = $8^2$ = 64"
   ]
  },
  {
   "cell_type": "markdown",
   "id": "42719a3f",
   "metadata": {
    "slideshow": {
     "slide_type": "slide"
    }
   },
   "source": [
    "## 2.3 Logical Operators\n",
    "\n",
    "* `and` logical AND\n",
    "\n",
    "* `or` logical OR\n",
    "\n",
    "* `not` logical NOT"
   ]
  },
  {
   "cell_type": "markdown",
   "id": "0fad98d1",
   "metadata": {
    "slideshow": {
     "slide_type": "slide"
    }
   },
   "source": [
    "\n",
    "| Syntax      | Output |\n",
    "| ----------- | ----------- |\n",
    "| <b>x or y</b>   | Either x or y can be be True |\n",
    "| <b>x and y</b>   | Both x and y have to be True |\n",
    "| <b>not x</b>   | True only if x is False |"
   ]
  },
  {
   "cell_type": "code",
   "execution_count": 71,
   "id": "d40484f1",
   "metadata": {
    "slideshow": {
     "slide_type": "slide"
    }
   },
   "outputs": [
    {
     "name": "stdout",
     "output_type": "stream",
     "text": [
      "You passed!\n"
     ]
    }
   ],
   "source": [
    "score = 45\n",
    "if score >= 40 and score <= 100 :\n",
    "    print(\"You passed!\")"
   ]
  },
  {
   "cell_type": "code",
   "execution_count": 74,
   "id": "9d9072ab",
   "metadata": {
    "slideshow": {
     "slide_type": "slide"
    }
   },
   "outputs": [
    {
     "name": "stdout",
     "output_type": "stream",
     "text": [
      "Incorrect mark!\n"
     ]
    }
   ],
   "source": [
    "score = 101\n",
    "if score < 0 or score > 100 :\n",
    "    print(\"Incorrect mark!\")"
   ]
  },
  {
   "cell_type": "code",
   "execution_count": 75,
   "id": "63f623a9",
   "metadata": {
    "slideshow": {
     "slide_type": "slide"
    }
   },
   "outputs": [
    {
     "name": "stdout",
     "output_type": "stream",
     "text": [
      "Incorrect mark!\n"
     ]
    }
   ],
   "source": [
    "score = -1\n",
    "if score < 0 or score > 100 :\n",
    "    print(\"Incorrect mark!\")\n"
   ]
  },
  {
   "cell_type": "code",
   "execution_count": 39,
   "id": "a9a4b9d6",
   "metadata": {
    "slideshow": {
     "slide_type": "slide"
    }
   },
   "outputs": [
    {
     "name": "stdout",
     "output_type": "stream",
     "text": [
      "Mark between correct boundaries!\n"
     ]
    }
   ],
   "source": [
    "score = 50\n",
    "if not score < 0 and not score > 100 :\n",
    "    print(\"Mark between correct boundaries!\")"
   ]
  },
  {
   "cell_type": "code",
   "execution_count": 76,
   "id": "1299f138",
   "metadata": {
    "slideshow": {
     "slide_type": "slide"
    }
   },
   "outputs": [
    {
     "name": "stdout",
     "output_type": "stream",
     "text": [
      "Incorrect mark!\n"
     ]
    }
   ],
   "source": [
    "score = 101\n",
    "if not score < 0 and not score > 100 :\n",
    "    print(\"Mark between correct boundaries!\")\n",
    "else:\n",
    "    print(\"Incorrect mark!\")"
   ]
  },
  {
   "cell_type": "markdown",
   "id": "a3369fe1",
   "metadata": {
    "slideshow": {
     "slide_type": "slide"
    }
   },
   "source": [
    "## 3.0 Iteration\n",
    "\n",
    "* Like the `if` statement, iterative statements (loops) will run the block whilst the evaluate is `True`.\n",
    "\n",
    "* To prevent an infinite loop, you would need to set a case where the evaluation is `False` so to exit the loop. \n",
    "\n",
    "* The number of repetitions could be static or dyanmic (dependent upon circumstance or input)\n",
    "\n",
    "REMEMBER: \n",
    "* A selection statement executes the block ONCE if the valuation is `True`. \n",
    "\n",
    "* Whereas an iterative statement REPEATS the block whilst the evaluation is `True`\n",
    "\n",
    "![for_loop](https://www.mathwarehouse.com/programming/images/while_loop/top-5-programming-animated-gifs_demonstration-of-while-loop-animation_logo.gif)"
   ]
  },
  {
   "cell_type": "code",
   "execution_count": 77,
   "id": "86a3a748",
   "metadata": {},
   "outputs": [],
   "source": [
    "import time # for illustration purposes - delaying outputs"
   ]
  },
  {
   "cell_type": "code",
   "execution_count": null,
   "id": "8de8d150",
   "metadata": {
    "slideshow": {
     "slide_type": "slide"
    }
   },
   "outputs": [
    {
     "name": "stdout",
     "output_type": "stream",
     "text": [
      "Loop 0\n",
      "Loop 1\n",
      "Loop 2\n"
     ]
    }
   ],
   "source": [
    "i = 0\n",
    "while i < 3:\n",
    "    print(\"Loop\", i)\n",
    "    time.sleep(1) # for illustration purposes\n",
    "    i += 1\n"
   ]
  },
  {
   "cell_type": "code",
   "execution_count": 82,
   "id": "80bf40b8",
   "metadata": {
    "slideshow": {
     "slide_type": "slide"
    }
   },
   "outputs": [
    {
     "name": "stdout",
     "output_type": "stream",
     "text": [
      "0\n",
      "1\n",
      "2\n"
     ]
    }
   ],
   "source": [
    "for i in range(0,3):\n",
    "    print(i)\n",
    "    time.sleep(1) # for illustration purposes"
   ]
  },
  {
   "cell_type": "markdown",
   "id": "eca3a99b",
   "metadata": {
    "slideshow": {
     "slide_type": "slide"
    }
   },
   "source": [
    "Like most languages, Python strings are 'arrays', in which each character is stored in an indexed position (more on this in Lecture 4):"
   ]
  },
  {
   "cell_type": "code",
   "execution_count": 83,
   "id": "ee35c82c",
   "metadata": {
    "slideshow": {
     "slide_type": "slide"
    }
   },
   "outputs": [
    {
     "name": "stdout",
     "output_type": "stream",
     "text": [
      "N\n",
      "i\n",
      "c\n",
      "k\n"
     ]
    }
   ],
   "source": [
    "name = \"Nick\"\n",
    "for letter in name :\n",
    "    print(letter)\n",
    "    time.sleep(1) # for illustration purposes\n"
   ]
  },
  {
   "cell_type": "markdown",
   "id": "62dcfecc",
   "metadata": {
    "slideshow": {
     "slide_type": "slide"
    }
   },
   "source": [
    "## Iteration in other languages\n",
    "\n",
    "* Other languages: C, C++, C# and Java feature a `do while` and the traditional for loop `for(int i = 0; i < 5; i++)` loop as alternate ways to iterate over between blocks of code. \n",
    "\n",
    "* The `for… in…` in Python is equivalent to the `for each` loop in other languages.\n",
    "\n",
    "* `do while` is not present in Python, nor the traditional `for` loop.\n",
    "\n",
    "* Increment operator (`++`) also not in Python because `int` is a class, not a primitive type.\n"
   ]
  },
  {
   "cell_type": "markdown",
   "id": "c33c0e31",
   "metadata": {
    "slideshow": {
     "slide_type": "slide"
    }
   },
   "source": [
    "## Reminder of the core constructs: \n",
    "\n",
    "* <b>Sequence</b> mandates that statements be executed in order (line by line)\n",
    "\n",
    "* <b>Selection</b> (conditional) statements will execute a block of code once when the condition is `True`\n",
    "\n",
    "* <b>Iteration</b> allows us to repeat statements within a block whilst the condition is `True`\n"
   ]
  },
  {
   "cell_type": "markdown",
   "id": "9512ff48",
   "metadata": {
    "slideshow": {
     "slide_type": "slide"
    }
   },
   "source": [
    "## 4. Functions!\n",
    "* A function is a block of code that performs a well defined task. \n",
    "\n",
    "* Could be a single line of code, or could be multiple statements which contribute to the achievement of a task. \n",
    "\n",
    "* In our first week, we shall use the main method to achieve basic tasks, such as outputting a message to the screen, or storing the user’s name.\n"
   ]
  },
  {
   "cell_type": "code",
   "execution_count": 87,
   "id": "5df50a6d",
   "metadata": {
    "slideshow": {
     "slide_type": "slide"
    }
   },
   "outputs": [],
   "source": [
    "def get_input():\n",
    "    return input(\"Please enter your name: \")"
   ]
  },
  {
   "cell_type": "code",
   "execution_count": 88,
   "id": "167b407e",
   "metadata": {
    "slideshow": {
     "slide_type": "slide"
    }
   },
   "outputs": [
    {
     "data": {
      "text/plain": [
       "'Sam'"
      ]
     },
     "execution_count": 88,
     "metadata": {},
     "output_type": "execute_result"
    }
   ],
   "source": [
    "name = get_input()\n",
    "name"
   ]
  },
  {
   "cell_type": "code",
   "execution_count": null,
   "id": "e7884cda",
   "metadata": {
    "slideshow": {
     "slide_type": "slide"
    }
   },
   "outputs": [],
   "source": [
    "name = get_input()\n",
    "print(name)"
   ]
  },
  {
   "cell_type": "code",
   "execution_count": 89,
   "id": "b383391c",
   "metadata": {
    "slideshow": {
     "slide_type": "slide"
    }
   },
   "outputs": [],
   "source": [
    "def add(x, y):\n",
    "    return x + y"
   ]
  },
  {
   "cell_type": "code",
   "execution_count": 90,
   "id": "fe0624f9",
   "metadata": {
    "slideshow": {
     "slide_type": "slide"
    }
   },
   "outputs": [
    {
     "data": {
      "text/plain": [
       "90"
      ]
     },
     "execution_count": 90,
     "metadata": {},
     "output_type": "execute_result"
    }
   ],
   "source": [
    "z = 80 \n",
    "a = 10\n",
    "total = add(80,10)\n",
    "total"
   ]
  },
  {
   "cell_type": "markdown",
   "id": "dd38cc99",
   "metadata": {},
   "source": [
    "#### This Jupyter Notebook contains exercises for you to extend the basics of Python to write blocks of code that are run once (or repetitively) when a condition is met. Attempt the following exercises, which slowly build in complexity. If you get stuck, check back to the <a href = \"https://www.youtube.com/watch?v=Ac3BS0ksg4s\">Python lecture recording on Conditionals here</a> or view the <a href = \"https://www.w3schools.com/python/python_conditions.asp\">W3Schools page on Python Conditionals</a>, which includes examples, exercises and quizzes to help your understanding. "
   ]
  },
  {
   "cell_type": "markdown",
   "id": "6e5075e1",
   "metadata": {},
   "source": [
    "### Exercise 1:\n",
    "\n",
    "First ask the user to input their age and store this in a variable. Then output an appropriate message which confirms whether they are an adult or a child."
   ]
  },
  {
   "cell_type": "code",
   "execution_count": null,
   "id": "1c93996b",
   "metadata": {
    "scrolled": false
   },
   "outputs": [],
   "source": []
  },
  {
   "cell_type": "markdown",
   "id": "c8b02873",
   "metadata": {},
   "source": [
    "### Exercise 2\n",
    "Ask the user to enter two numbers and store these in variables respectively. Then display which one of the two numbers is greatest. \n",
    "\n",
    "Extension: Define this simple algorithm in a function that can be called to return the greater of the two numbers. Don't forget to call this function!"
   ]
  },
  {
   "cell_type": "code",
   "execution_count": null,
   "id": "77aca078",
   "metadata": {},
   "outputs": [],
   "source": []
  },
  {
   "cell_type": "markdown",
   "id": "8689e876",
   "metadata": {},
   "source": [
    "### Exercise 3:\n",
    "Write a program that uses a loop to print the numbers 1-10 to the screen. Check that you know how to achieve this with both the 'while' loop and the 'for' loop so you know how the syntax differs. "
   ]
  },
  {
   "cell_type": "code",
   "execution_count": null,
   "id": "46ea8406",
   "metadata": {},
   "outputs": [],
   "source": [
    "#print numbers 1-10 using the for loop\n"
   ]
  },
  {
   "cell_type": "code",
   "execution_count": null,
   "id": "9ba8d87b",
   "metadata": {},
   "outputs": [],
   "source": [
    "#print numbers 1-10 using the while loop\n"
   ]
  },
  {
   "cell_type": "markdown",
   "id": "9c60fde7",
   "metadata": {},
   "source": [
    "### Exercise 4:\n",
    "Write a program that will print only even numbers from a loop that repeats 10 times. \n",
    "\n",
    "Extension: Can you make a simple amendment to print only odd numbers?"
   ]
  },
  {
   "cell_type": "code",
   "execution_count": null,
   "id": "0f03f2b6",
   "metadata": {},
   "outputs": [],
   "source": []
  },
  {
   "cell_type": "markdown",
   "id": "17a23b32",
   "metadata": {},
   "source": [
    "### Exercise 5:\n",
    "Write a program that uses a loop to efficiently print the \"seven times multiplication table\". The output on screen should resemble the following: \n",
    "<p>\n",
    "1 x 7 = 7 <br>\n",
    "2 x 7 = 14 <br>\n",
    "3 x 7 = 21 <br>\n",
    "4 x 7 = 28 <br>\n",
    "5 x 7 = 35 <br>\n",
    "6 x 7 = 42 <br>\n",
    "7 x 7 = 49 <br>\n",
    "8 x 7 = 56 <br>\n",
    "9 x 7 = 63 <br>\n",
    "10 x 7 = 70 <br>\n",
    "11 x 7 = 77 <br>\n",
    "12 x 7 = 84 <br>\n",
    "</p>\n",
    "\n",
    "Extension: Can you write this so that any 'times table' can be generated from the number that a user enters."
   ]
  },
  {
   "cell_type": "code",
   "execution_count": null,
   "id": "30ddf09e",
   "metadata": {},
   "outputs": [],
   "source": []
  },
  {
   "cell_type": "markdown",
   "id": "3ebccf84",
   "metadata": {},
   "source": [
    "### Exercise 6:\n",
    "Write a program that enables a student to enter a letter grade (A, B, C, D, E or F), then convert that to a university undergraduate classification (1st, 2:1, 2:2, 3rd, ordinary, fail).\n",
    "\n",
    "Extension 1: What happens if the user types in a lowercase letter? Does this affect the program? If so, how would you change the script?\n",
    "\n",
    "Extension 2: Can you place this conditional logic that converts grades to classifications in a function? Don't forget to call this function!"
   ]
  },
  {
   "cell_type": "code",
   "execution_count": null,
   "id": "0cadfab5",
   "metadata": {},
   "outputs": [],
   "source": []
  },
  {
   "cell_type": "markdown",
   "id": "ce4bbb2c",
   "metadata": {},
   "source": [
    "### Exercise 7: \n",
    "Write a new program that asks the user to enter an exam mark (0-100). Write conditional statements to print out the grade they would achieve from this mark.\n",
    "\n",
    "Extension 1: Also define this logic as a function 'convert_mark_to_grade'\n",
    "\n",
    "Extension 2: Furthermore, also call the 'convert_grade_to_classification' function defined previously. The user should be able to enter a single mark, which is then converted to a grade, which in turn is then converted to a degree classification."
   ]
  },
  {
   "cell_type": "code",
   "execution_count": null,
   "id": "8678ebbd",
   "metadata": {
    "scrolled": true
   },
   "outputs": [],
   "source": []
  },
  {
   "cell_type": "markdown",
   "id": "29e16034",
   "metadata": {},
   "source": [
    "### Exercise 8: \n",
    "Write a guessing game program in Python. The game should randomly assign a number between 1 and 100 to a variable (without the user knowing the selected number) each time the game is run. The user must then guess the number selected and should be guided by whether their guess is greater or less than the randomly chosen number. The program should record how many guess attempts it takes to correctly identify the number. \n"
   ]
  },
  {
   "cell_type": "code",
   "execution_count": null,
   "id": "b5378255",
   "metadata": {},
   "outputs": [],
   "source": [
    "# Start by checking that the code provided outputs random numbers between 1 and 100\n",
    "\n",
    "import random\n",
    "target = 0\n",
    "target = random.uniform(1, 100)\n",
    "target = int(target)\n",
    "\n",
    "print(target) # Don't forget to comment this print statement when the game starts!\n",
    "\n",
    "# Code your solution here\n"
   ]
  },
  {
   "cell_type": "markdown",
   "id": "07c657a6",
   "metadata": {},
   "source": [
    "### Exercise 9 (which extends Exercise 8 from 01 Python Basics):\n",
    "\n",
    "<b>Extend the previous exercise below to ask the user to first select which conversion they want to make. Either 'miles to feet' or 'feet to miles'. Once they have chosen, then run the appropriate code to make the selected conversion. You may wish to use functions to separate code.</b>\n",
    "\n",
    "Write a script that will convert miles to feet. First ask the user to enter a quantity of miles. Store this in an appropriate variable. Then convert and output (print) the number of feet to the screen. Test this for a number of inputs to check the conversion works correctly.\n",
    "\n",
    "For reference, there are 5280 feet in 1.0 mile. \n",
    "\n",
    "Also ask the user to enter the same number of feet and check this converts back to the original number of miles."
   ]
  },
  {
   "cell_type": "code",
   "execution_count": null,
   "id": "b12c7cd7",
   "metadata": {},
   "outputs": [],
   "source": []
  },
  {
   "cell_type": "markdown",
   "id": "11077868",
   "metadata": {},
   "source": [
    "### Exercise 10:\n",
    "\n",
    "To extend the previous unit conversion exercise, now add a third unit (for example 'metres'). Amend your code to account for conversions between three (3) units. Consider whether there are efficiencies that can be made to prevent duplication across functions. \n",
    "\n",
    "Hint: You could create a single input function and output function. Then you may be able to merge all the conversions into one convert function.\n",
    "\n",
    "You can also add another 'code cell' to separate the function definitions and the function calls. This also helps to prevent one cell becoming too big!"
   ]
  },
  {
   "cell_type": "code",
   "execution_count": 2,
   "id": "ddf7677c",
   "metadata": {},
   "outputs": [],
   "source": [
    "feet_to_miles = 5280\n",
    "\n",
    "from_unit = \"\"\n",
    "to_unit = \"\"\n",
    "from_dist = 0\n",
    "to_dist = 0\n",
    "\n",
    "\n",
    "def display_menu():\n",
    "    print('1. Miles')\n",
    "    print('2. Feet')\n",
    "    print('3. Metres')\n",
    "\n",
    "def get_menu_choice():\n",
    "    \"\"\" return the selected unit - this can be reused for 'from_unit' and 'to_unit' \"\"\"\n",
    "    \n",
    "    \n",
    "def get_from_distance():\n",
    "    \"\"\" gets the from_dist from the keyboard\"\"\"\n",
    "    \n",
    "def convert_distance():\n",
    "    if from_unit == \"Miles\" and to_unit == \"Feet\":\n",
    "        to_dist = from_dist * feet_to_miles\n",
    "    # suggested that you add the other conversions here...\n",
    "        \n",
    "\n",
    "def output():\n",
    "    \"\"\" outputs the final result to the screen \"\"\"\n",
    "    print(from_dist, from_unit, \"is\", to_dist, to_unit)"
   ]
  },
  {
   "cell_type": "code",
   "execution_count": null,
   "id": "029944ac",
   "metadata": {},
   "outputs": [],
   "source": [
    "\n",
    "# Sample output to get you started: \n",
    "\n",
    "from_unit = \"Miles\"\n",
    "to_unit = \"Feet\"\n",
    "from_dist = 0\n",
    "to_dist = 0\n",
    "\n",
    "output()"
   ]
  },
  {
   "cell_type": "code",
   "execution_count": null,
   "id": "8d4d6eca",
   "metadata": {},
   "outputs": [],
   "source": []
  }
 ],
 "metadata": {
  "kernelspec": {
   "display_name": "Python 3",
   "language": "python",
   "name": "python3"
  },
  "language_info": {
   "codemirror_mode": {
    "name": "ipython",
    "version": 3
   },
   "file_extension": ".py",
   "mimetype": "text/x-python",
   "name": "python",
   "nbconvert_exporter": "python",
   "pygments_lexer": "ipython3",
   "version": "3.9.6"
  }
 },
 "nbformat": 4,
 "nbformat_minor": 5
}
