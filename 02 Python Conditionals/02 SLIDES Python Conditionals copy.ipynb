{
 "cells": [
  {
   "cell_type": "markdown",
   "id": "1eba3b72",
   "metadata": {},
   "source": [
    "# 02 Python Conditionals "
   ]
  },
  {
   "cell_type": "markdown",
   "id": "bc8c3f11",
   "metadata": {},
   "source": [
    "## Plan for this Lecture\n",
    "\n",
    "1. Selection \n",
    "\n",
    "2. Operators (Comparison, Arithmetic, Logical)\n",
    "\n",
    "2. Iteration\n",
    "\n",
    "3. Functions"
   ]
  },
  {
   "cell_type": "markdown",
   "id": "4026c3f7",
   "metadata": {},
   "source": [
    "## 1.0 Selection\n",
    "\n",
    "* Selection gives users choice in programs.\n",
    "\n",
    "* Blocks of code run providing a comparison results in `True`\n",
    "\n",
    "* This binary evaluation applies for both selection statements and iterative statements!\n"
   ]
  },
  {
   "cell_type": "markdown",
   "id": "2e158973",
   "metadata": {},
   "source": [
    "## 1.1 The `if` statement\n",
    "* Like most programming languages, Python uses the `if` statement to evaluate whether it should run a block of code or not.\n",
    "\n",
    "* If the evaluation is `True`, the body of the `if` statement will be run.\n",
    "\n",
    "* If the evaluation is `False`, the body is not run (ignored)."
   ]
  },
  {
   "cell_type": "code",
   "execution_count": 3,
   "id": "b5787018",
   "metadata": {},
   "outputs": [
    {
     "name": "stdout",
     "output_type": "stream",
     "text": [
      "You passed!\n"
     ]
    }
   ],
   "source": [
    "score = 45\n",
    "if score >= 40 :\n",
    "    print(\"You passed!\")\n"
   ]
  },
  {
   "cell_type": "markdown",
   "id": "6834c07f",
   "metadata": {},
   "source": [
    "Read this evaluation out loud in natural language. \n",
    "* Q: What's the value of score? A: 45\n",
    "\n",
    "* Q: Is 45 greater than OR equal to 40? A: Yes\n",
    "\n",
    "* Q: Do we run the body of the if statement? A: Yes\n"
   ]
  },
  {
   "cell_type": "code",
   "execution_count": 12,
   "id": "a6cc9447",
   "metadata": {},
   "outputs": [],
   "source": [
    "score = 35\n",
    "if score >= 40 :\n",
    "    print(\"You passed!\")"
   ]
  },
  {
   "cell_type": "markdown",
   "id": "66311bc9",
   "metadata": {},
   "source": [
    "Note on Python syntax\n",
    "* Indentation is important with Python blocks. \n",
    "* The following statement doesn't run if the 'body' of the if statement is not indented (press tab on the keyboard)."
   ]
  },
  {
   "cell_type": "code",
   "execution_count": 4,
   "id": "866df21d",
   "metadata": {},
   "outputs": [
    {
     "ename": "IndentationError",
     "evalue": "expected an indented block (1150838026.py, line 3)",
     "output_type": "error",
     "traceback": [
      "\u001b[0;36m  Cell \u001b[0;32mIn [4], line 3\u001b[0;36m\u001b[0m\n\u001b[0;31m    print(\"You passed!\")\u001b[0m\n\u001b[0m    ^\u001b[0m\n\u001b[0;31mIndentationError\u001b[0m\u001b[0;31m:\u001b[0m expected an indented block\n"
     ]
    }
   ],
   "source": [
    "score = 45\n",
    "if score >= 40 :\n",
    "print(\"You passed!\")"
   ]
  },
  {
   "cell_type": "code",
   "execution_count": 9,
   "id": "98faf2d8",
   "metadata": {},
   "outputs": [
    {
     "name": "stdout",
     "output_type": "stream",
     "text": [
      "Hi Nick\n"
     ]
    }
   ],
   "source": [
    "name = 'Nick'\n",
    "if name == \"Nick\":\n",
    "    print(\"Hi\", name)"
   ]
  },
  {
   "cell_type": "markdown",
   "id": "d48dcfbc",
   "metadata": {},
   "source": [
    "## 1.2 `else` statement\n",
    "\n",
    "* The `else` statement could be seen as the counterpart to the `if` statement.\n",
    "\n",
    "* Placed underneath the `if` statement, the `else` statement would run should the `if` statement evaluate to `False`.\n",
    "\n",
    "* "
   ]
  },
  {
   "cell_type": "code",
   "execution_count": 2,
   "id": "e0d6500e",
   "metadata": {},
   "outputs": [
    {
     "name": "stdout",
     "output_type": "stream",
     "text": [
      "Try again...\n"
     ]
    }
   ],
   "source": [
    "score = 35\n",
    "if score >= 40 :\n",
    "    print(\"You passed!\")\n",
    "else:\n",
    "    print(\"Try again...\")\n"
   ]
  },
  {
   "cell_type": "code",
   "execution_count": 11,
   "id": "2496df10",
   "metadata": {},
   "outputs": [
    {
     "name": "stdout",
     "output_type": "stream",
     "text": [
      "Hello someone else!\n"
     ]
    }
   ],
   "source": [
    "name = \"Sam\"\n",
    "if name == \"Nick\":\n",
    "    print(\"Hi Nick!\")\n",
    "else:\n",
    "    print(\"Hello someone else!\")\n"
   ]
  },
  {
   "cell_type": "code",
   "execution_count": 6,
   "id": "8f4b38ce",
   "metadata": {},
   "outputs": [
    {
     "name": "stdout",
     "output_type": "stream",
     "text": [
      "Hello someone else!\n"
     ]
    }
   ],
   "source": [
    "name = \"nick\"\n",
    "if name == \"Nick\":\n",
    "    print(\"Hi Nick!\")\n",
    "else:\n",
    "    print(\"Hello someone else!\")"
   ]
  },
  {
   "cell_type": "markdown",
   "id": "ccc2af11",
   "metadata": {},
   "source": [
    "## 1.3 The `elif` statement\n",
    "\n",
    "* `elif` is Python's keyword for else if. \n",
    "\n",
    "* Sequentially, `elif` statements fit between the opening `if` statement and a closing `else` statement.\n",
    "\n",
    "* `elif` statements are exclusive. They are only checked providing the preceeding conditional evaluated to `False`."
   ]
  },
  {
   "cell_type": "code",
   "execution_count": 1,
   "id": "df5982e0",
   "metadata": {},
   "outputs": [
    {
     "name": "stdout",
     "output_type": "stream",
     "text": [
      "You passed!\n"
     ]
    }
   ],
   "source": [
    "score = 55\n",
    "if score >= 40 :\n",
    "    print(\"You passed!\")\n",
    "elif score >= 50 :\n",
    "    print(\"You scored a C\")\n",
    "else :\n",
    "    print(\"Try again...\")\n"
   ]
  },
  {
   "cell_type": "markdown",
   "id": "331831c2",
   "metadata": {},
   "source": [
    "Question: is this output logically correct?"
   ]
  },
  {
   "cell_type": "code",
   "execution_count": 7,
   "id": "129f93a8",
   "metadata": {},
   "outputs": [
    {
     "name": "stdout",
     "output_type": "stream",
     "text": [
      "You scored a C!\n"
     ]
    }
   ],
   "source": [
    "score = 55\n",
    "if score >= 60:\n",
    "    print(\"You scored a B!\")\n",
    "elif score >= 50 :\n",
    "    print(\"You scored a C!\")\n",
    "elif score >= 40 :\n",
    "    print(\"You passed!\")\n",
    "else :\n",
    "    print(\"Try again...\")"
   ]
  },
  {
   "cell_type": "markdown",
   "id": "439f19d0",
   "metadata": {},
   "source": [
    "What would happen if we used `if` statements here rather than `elif` statements?"
   ]
  },
  {
   "cell_type": "code",
   "execution_count": 8,
   "id": "20abe238",
   "metadata": {},
   "outputs": [
    {
     "name": "stdout",
     "output_type": "stream",
     "text": [
      "You scored a C!\n",
      "You passed!\n"
     ]
    }
   ],
   "source": [
    "score = 55\n",
    "if score >= 60:\n",
    "    print(\"You scored a B!\")\n",
    "if score >= 50 :\n",
    "    print(\"You scored a C!\")\n",
    "if score >= 40 :\n",
    "    print(\"You passed!\")\n",
    "else :\n",
    "    print(\"Try again...\")"
   ]
  },
  {
   "cell_type": "markdown",
   "id": "64d94a48",
   "metadata": {},
   "source": [
    "Multiple `if` statements could be true at the same time - they are not exclusive like `elif` statements."
   ]
  },
  {
   "cell_type": "markdown",
   "id": "27a3da44",
   "metadata": {},
   "source": [
    "## Selection in other languages\n",
    "\n",
    "* Other languages: C, C++, C# and Java feature a `switch` statement and a ternary `?` operator as alternate ways to select between blocks of code. \n",
    "\n",
    "* `switch` is not present in Python, nor is the `?` used.\n",
    "\n",
    "* But the ternary functionality can be performed with if and else in the same line (introduced in Python 2.5):    \n",
    "`value_if_true if condition else value_if_false`\n"
   ]
  },
  {
   "cell_type": "code",
   "execution_count": 13,
   "id": "3550d8de",
   "metadata": {},
   "outputs": [
    {
     "name": "stdout",
     "output_type": "stream",
     "text": [
      "You passed!\n"
     ]
    }
   ],
   "source": [
    "score = 50\n",
    "print(\"You passed!\") if score >= 40 else print(\"Try again...\")"
   ]
  },
  {
   "cell_type": "code",
   "execution_count": 14,
   "id": "9cac3c21",
   "metadata": {},
   "outputs": [
    {
     "name": "stdout",
     "output_type": "stream",
     "text": [
      "Try again...\n"
     ]
    }
   ],
   "source": [
    "score = 30\n",
    "print(\"You passed!\") if score >= 40 else print(\"Try again...\")"
   ]
  },
  {
   "cell_type": "code",
   "execution_count": null,
   "id": "4ee1f29f",
   "metadata": {},
   "outputs": [],
   "source": []
  },
  {
   "cell_type": "markdown",
   "id": "dd38cc99",
   "metadata": {},
   "source": [
    "#### This Jupyter Notebook contains exercises for you to extend the basics of Python to write blocks of code that are run once (or repetitively) when a condition is met. Attempt the following exercises, which slowly build in complexity. If you get stuck, check back to the <a href = \"https://www.youtube.com/watch?v=cNAdWBN9GA\">Python lecture recording on Conditionals here</a> or look through the <a href = \"https://www.python.org\">Python documentation here</a>."
   ]
  },
  {
   "cell_type": "markdown",
   "id": "6e5075e1",
   "metadata": {},
   "source": [
    "### Exercise 1:\n",
    "\n",
    "First ask the user to input their age and store this in a variable. Then output an appropriate message which confirms whether they are an adult or a child."
   ]
  },
  {
   "cell_type": "code",
   "execution_count": null,
   "id": "1c93996b",
   "metadata": {
    "scrolled": false
   },
   "outputs": [],
   "source": []
  },
  {
   "cell_type": "markdown",
   "id": "c8b02873",
   "metadata": {},
   "source": [
    "### Exercise 2\n",
    "Ask the user to enter two numbers and store these in variables respectively. Then display which one of the two numbers is greatest. \n",
    "\n",
    "Extension: Define this simple algorithm in a function that can be called to return the greater of the two numbers. Don't forget to call this function!"
   ]
  },
  {
   "cell_type": "code",
   "execution_count": null,
   "id": "77aca078",
   "metadata": {},
   "outputs": [],
   "source": []
  },
  {
   "cell_type": "markdown",
   "id": "8689e876",
   "metadata": {},
   "source": [
    "### Exercise 3:\n",
    "Write a program that uses a loop to print the numbers 1-10 to the screen. Check that you know how to achieve this with both the 'while' loop and the 'for' loop so you know how the syntax differs. "
   ]
  },
  {
   "cell_type": "code",
   "execution_count": null,
   "id": "46ea8406",
   "metadata": {},
   "outputs": [],
   "source": [
    "#print numbers 1-10 using the for loop\n"
   ]
  },
  {
   "cell_type": "code",
   "execution_count": null,
   "id": "9ba8d87b",
   "metadata": {},
   "outputs": [],
   "source": [
    "#print numbers 1-10 using the while loop\n"
   ]
  },
  {
   "cell_type": "markdown",
   "id": "9c60fde7",
   "metadata": {},
   "source": [
    "### Exercise 4:\n",
    "Write a program that will print only even numbers from a loop that repeats 10 times. \n",
    "\n",
    "Extension: Can you make a simple amendment to print only odd numbers?"
   ]
  },
  {
   "cell_type": "code",
   "execution_count": null,
   "id": "0f03f2b6",
   "metadata": {},
   "outputs": [],
   "source": []
  },
  {
   "cell_type": "markdown",
   "id": "17a23b32",
   "metadata": {},
   "source": [
    "### Exercise 5:\n",
    "Write a program that uses a loop to efficiently print the \"seven times multiplication table\". The output on screen should resemble the following: \n",
    "<p>\n",
    "1 x 7 = 7 <br>\n",
    "2 x 7 = 14 <br>\n",
    "3 x 7 = 21 <br>\n",
    "4 x 7 = 28 <br>\n",
    "5 x 7 = 35 <br>\n",
    "6 x 7 = 42 <br>\n",
    "7 x 7 = 49 <br>\n",
    "8 x 7 = 56 <br>\n",
    "9 x 7 = 63 <br>\n",
    "10 x 7 = 70 <br>\n",
    "11 x 7 = 77 <br>\n",
    "12 x 7 = 84 <br>\n",
    "</p>\n",
    "\n",
    "Extension: Can you write this so that any 'times table' can be generated from the number that a user enters."
   ]
  },
  {
   "cell_type": "code",
   "execution_count": null,
   "id": "30ddf09e",
   "metadata": {},
   "outputs": [],
   "source": []
  },
  {
   "cell_type": "markdown",
   "id": "3ebccf84",
   "metadata": {},
   "source": [
    "### Exercise 6:\n",
    "Write a program that enables a student to enter a letter grade (A, B, C, D, E or F), then convert that to a university undergraduate classification (1st, 2:1, 2:2, 3rd, ordinary, fail).\n",
    "\n",
    "Extension 1: What happens if the user types in a lowercase letter? Does this affect the program? If so, how would you change the script?\n",
    "\n",
    "Extension 2: Can you place this conditional logic that converts grades to classifications in a function? Don't forget to call this function!"
   ]
  },
  {
   "cell_type": "code",
   "execution_count": null,
   "id": "0cadfab5",
   "metadata": {},
   "outputs": [],
   "source": []
  },
  {
   "cell_type": "markdown",
   "id": "ce4bbb2c",
   "metadata": {},
   "source": [
    "### Exercise 7: \n",
    "Write a new program that asks the user to enter an exam mark (0-100). Write conditional statements to print out the grade they would achieve from this mark.\n",
    "\n",
    "Extension 1: Also define this logic as a function 'convert_mark_to_grade'\n",
    "\n",
    "Extension 2: Furthermore, also call the 'convert_grade_to_classification' function defined previously. The user should be able to enter a single mark, which is then converted to a grade, which in turn is then converted to a degree classification."
   ]
  },
  {
   "cell_type": "code",
   "execution_count": null,
   "id": "8678ebbd",
   "metadata": {
    "scrolled": true
   },
   "outputs": [],
   "source": []
  },
  {
   "cell_type": "markdown",
   "id": "29e16034",
   "metadata": {},
   "source": [
    "### Exercise 8: \n",
    "Write a guessing game program in Python. The game should randomly assign a number between 1 and 100 to a variable (without the user knowing the selected number) each time the game is run. The user must then guess the number selected and should be guided by whether their guess is greater or less than the randomly chosen number. The program should record how many guess attempts it takes to correctly identify the number. \n"
   ]
  },
  {
   "cell_type": "code",
   "execution_count": 1,
   "id": "b5378255",
   "metadata": {},
   "outputs": [
    {
     "name": "stdout",
     "output_type": "stream",
     "text": [
      "45\n"
     ]
    }
   ],
   "source": [
    "# Start by checking that the code provided outputs random numbers between 1 and 100\n",
    "\n",
    "import random\n",
    "target = 0\n",
    "target = random.uniform(1, 100)\n",
    "target = int(target)\n",
    "\n",
    "print(target) # Don't forget to comment this print statement when the game starts!\n",
    "\n",
    "# Code your solution here\n"
   ]
  },
  {
   "cell_type": "markdown",
   "id": "07c657a6",
   "metadata": {},
   "source": [
    "### Exercise 9 (which extends Exercise 8 from 01 Python Basics):\n",
    "\n",
    "<b>Extend the previous exercise below to ask the user to first select which conversion they want to make. Either 'miles to feet' or 'feet to miles'. Once they have chosen, then run the appropriate code to make the selected conversion. You may wish to use functions to separate code.</b>\n",
    "\n",
    "Write a script that will convert miles to feet. First ask the user to enter a quantity of miles. Store this in an appropriate variable. Then convert and output (print) the number of feet to the screen. Test this for a number of inputs to check the conversion works correctly.\n",
    "\n",
    "For reference, there are 5280 feet in 1.0 mile. \n",
    "\n",
    "Also ask the user to enter the same number of feet and check this converts back to the original number of miles."
   ]
  },
  {
   "cell_type": "code",
   "execution_count": null,
   "id": "b12c7cd7",
   "metadata": {},
   "outputs": [],
   "source": []
  },
  {
   "cell_type": "markdown",
   "id": "11077868",
   "metadata": {},
   "source": [
    "### Exercise 10:\n",
    "\n",
    "To extend the previous unit conversion exercise, now add a third unit (for example 'metres'). Amend your code to account for conversions between three (3) units. Consider whether there are efficiencies that can be made to prevent duplication across functions. \n",
    "\n",
    "Hint: You could create a single input function and output function. Then you may be able to merge all the conversions into one convert function.\n",
    "\n",
    "You can also add another 'code cell' to separate the function definitions and the function calls. This also helps to prevent one cell becoming too big!"
   ]
  },
  {
   "cell_type": "code",
   "execution_count": 2,
   "id": "ddf7677c",
   "metadata": {},
   "outputs": [],
   "source": [
    "feet_to_miles = 5280\n",
    "\n",
    "from_unit = \"\"\n",
    "to_unit = \"\"\n",
    "from_dist = 0\n",
    "to_dist = 0\n",
    "\n",
    "\n",
    "def display_menu():\n",
    "    print('1. Miles')\n",
    "    print('2. Feet')\n",
    "    print('3. Metres')\n",
    "\n",
    "def get_menu_choice():\n",
    "    \"\"\" return the selected unit - this can be reused for 'from_unit' and 'to_unit' \"\"\"\n",
    "    \n",
    "    \n",
    "def get_from_distance():\n",
    "    \"\"\" gets the from_dist from the keyboard\"\"\"\n",
    "    \n",
    "def convert_distance():\n",
    "    if from_unit == \"Miles\" and to_unit == \"Feet\":\n",
    "        to_dist = from_dist * feet_to_miles\n",
    "    # suggested that you add the other conversions here...\n",
    "        \n",
    "\n",
    "def output():\n",
    "    \"\"\" outputs the final result to the screen \"\"\"\n",
    "    print(from_dist, from_unit, \"is\", to_dist, to_unit)"
   ]
  },
  {
   "cell_type": "code",
   "execution_count": 3,
   "id": "029944ac",
   "metadata": {},
   "outputs": [
    {
     "name": "stdout",
     "output_type": "stream",
     "text": [
      "0 Miles is 0 Feet\n"
     ]
    }
   ],
   "source": [
    "\n",
    "# Sample output to get you started: \n",
    "\n",
    "from_unit = \"Miles\"\n",
    "to_unit = \"Feet\"\n",
    "from_dist = 0\n",
    "to_dist = 0\n",
    "\n",
    "output()"
   ]
  },
  {
   "cell_type": "code",
   "execution_count": null,
   "id": "8d4d6eca",
   "metadata": {},
   "outputs": [],
   "source": []
  }
 ],
 "metadata": {
  "kernelspec": {
   "display_name": "Python 3 (ipykernel)",
   "language": "python",
   "name": "python3"
  },
  "language_info": {
   "codemirror_mode": {
    "name": "ipython",
    "version": 3
   },
   "file_extension": ".py",
   "mimetype": "text/x-python",
   "name": "python",
   "nbconvert_exporter": "python",
   "pygments_lexer": "ipython3",
   "version": "3.9.6"
  }
 },
 "nbformat": 4,
 "nbformat_minor": 5
}
