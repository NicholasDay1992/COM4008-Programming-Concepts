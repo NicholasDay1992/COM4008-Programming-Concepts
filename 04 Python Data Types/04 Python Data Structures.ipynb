{
  "cells": [
    {
      "cell_type": "markdown",
      "id": "1eba3b72",
      "metadata": {
        "id": "1eba3b72"
      },
      "source": [
        "# 04 Python Data Structures\n",
        "ND August 2023"
      ]
    },
    {
      "cell_type": "markdown",
      "id": "dd38cc99",
      "metadata": {
        "id": "dd38cc99"
      },
      "source": [
        "#### This Jupyter Notebook contains exercises for you to extend your introduction to OOP, by creating lists, tuples, sets, dictionaries of objects. Attempt the following exercises, which slowly build in complexity. If you get stuck, check back to the <a href = \"https://youtu.be/MDZX59Lrc_g?si=MW3m7FYgfVYoYqum\"> Python lecture recording on Data Structures here</a> or look through the <a href = \"https://www.python.org\">Python documentation here</a>."
      ]
    },
    {
      "cell_type": "markdown",
      "id": "6e5075e1",
      "metadata": {
        "id": "6e5075e1"
      },
      "source": [
        "### Exercise 1:\n",
        "Create a Python list that stores the numbers 1-10 in indivdual elements. Then print out the contents of the list to check the values have been stored correctly.\n",
        "\n",
        "Extension: make use of an appropriate list method to reverse the order of this list."
      ]
    },
    {
      "cell_type": "code",
      "execution_count": 38,
      "id": "1c93996b",
      "metadata": {
        "id": "1c93996b",
        "outputId": "fc2acb5f-64bd-48f2-9659-ddbc761958a4",
        "scrolled": false
      },
      "outputs": [
        {
          "data": {
            "text/plain": [
              "[1, 2, 3, 4, 5, 6, 7, 8, 9, 10]"
            ]
          },
          "execution_count": 38,
          "metadata": {},
          "output_type": "execute_result"
        }
      ],
      "source": [
        "#Write your solution here\n"
      ]
    },
    {
      "cell_type": "markdown",
      "id": "2ae0edc0",
      "metadata": {},
      "source": [
        "### Exercise 2:\n",
        "\n",
        "Create a Python dictionary which stores the price for three items of food. For example; milk is £1.30, pasta is £0.75, and strawberries are £1.50. Output the dictionary to check the values are stored, and then see if you can access the price for one of the items by using the item name as the 'key'.\n",
        "\n",
        "Extension: Now add a new key and value pair to previously defined dictionary."
      ]
    },
    {
      "cell_type": "code",
      "execution_count": 49,
      "id": "84b40bdc",
      "metadata": {},
      "outputs": [
        {
          "data": {
            "text/plain": [
              "{'milk': 1.3, 'pasta': 0.75, 'strawberries': 1.5}"
            ]
          },
          "execution_count": 49,
          "metadata": {},
          "output_type": "execute_result"
        }
      ],
      "source": [
        "#Write your solution here"
      ]
    },
    {
      "cell_type": "markdown",
      "id": "18d27a22",
      "metadata": {},
      "source": [
        "### Exercise 3: \n",
        "\n",
        "Given two sets (prices and food names), can you create a dictionary that uses the foodnames as keys, and the prices as values?\n"
      ]
    },
    {
      "cell_type": "code",
      "execution_count": 124,
      "id": "989af81c",
      "metadata": {},
      "outputs": [
        {
          "name": "stdout",
          "output_type": "stream",
          "text": [
            "{'pasta', 'milk', 'strawberries'}\n",
            "{0.75, 1.3, 1.5}\n"
          ]
        },
        {
          "data": {
            "text/plain": [
              "{'pasta': 0.75, 'milk': 1.3, 'strawberries': 1.5}"
            ]
          },
          "execution_count": 124,
          "metadata": {},
          "output_type": "execute_result"
        }
      ],
      "source": [
        "foodnames = {\"milk\", \"pasta\", \"strawberries\"}\n",
        "prices = {1.30, 0.75, 1.50}\n",
        "\n",
        "print(foodnames)\n",
        "print(prices)\n",
        "\n",
        "# Write your solution: \n"
      ]
    },
    {
      "cell_type": "markdown",
      "id": "d14cb700",
      "metadata": {},
      "source": [
        "### Exercise 4: \n",
        "\n",
        "Write one function which will return the intersection of two sets passed in. Write another function which will return the union of two sets passed in."
      ]
    },
    {
      "cell_type": "code",
      "execution_count": 174,
      "id": "c4dc15f6",
      "metadata": {},
      "outputs": [
        {
          "name": "stdout",
          "output_type": "stream",
          "text": [
            "{8, 9, 10, 7}\n",
            "{1, 2, 3, 4, 5, 6, 7, 8, 9, 10, 11, 12, 13, 14}\n"
          ]
        }
      ],
      "source": [
        "a = {1,2,3,4,5,6,7,8,9,10}\n",
        "b = {7,8,9,10,11,12,13,14}\n",
        "\n",
        "#write your solution here"
      ]
    },
    {
      "cell_type": "markdown",
      "id": "fbb5bdfe",
      "metadata": {},
      "source": [
        "### Exercise 5:\n",
        "Write a function that takes two lists of numbers, and returns the number that appears most frequently across both lists (the mode). \n",
        "\n",
        "Hint: if you get stuck, try creating a tally of how many times each number appears. This could be a list.\n"
      ]
    },
    {
      "cell_type": "code",
      "execution_count": 165,
      "id": "6f9446d9",
      "metadata": {},
      "outputs": [
        {
          "name": "stdout",
          "output_type": "stream",
          "text": [
            "[0, 0, 1, 1, 1, 1, 1, 1, 2, 2, 2, 3, 3, 3, 3, 3, 4, 4, 4, 4, 4, 5, 5, 6, 6, 6, 7, 7, 7, 7, 7, 8, 8, 9, 9, 9]\n",
            "count of 0 is 2\n",
            "count of 1 is 6\n",
            "count of 2 is 3\n",
            "count of 3 is 5\n",
            "count of 4 is 5\n",
            "count of 5 is 2\n",
            "count of 6 is 3\n",
            "count of 7 is 5\n",
            "count of 8 is 2\n",
            "count of 9 is 3\n"
          ]
        },
        {
          "data": {
            "text/plain": [
              "1"
            ]
          },
          "execution_count": 165,
          "metadata": {},
          "output_type": "execute_result"
        }
      ],
      "source": [
        "def most_frequent(a, b):\n",
        "    #write your solution here\n",
        "    ...\n",
        "    #write your solution above\n",
        "\n",
        "a = [0,1,3,4,6,3,2,4,1,9,5,6,7,7,1,8,4,0]\n",
        "b = [7,3,9,6,7,4,2,1,3,9,7,5,1,3,4,2,1,8]\n",
        "\n",
        "result = most_frequent(a, b)\n",
        "result\n"
      ]
    },
    {
      "cell_type": "markdown",
      "id": "64e7ea31",
      "metadata": {},
      "source": [
        "### Exercise 6: \n",
        "\n",
        "Return to your student class created in Python 03 notebook. Create three new student objects and add/store these objects in a list."
      ]
    },
    {
      "cell_type": "code",
      "execution_count": 67,
      "id": "c5c92884",
      "metadata": {},
      "outputs": [
        {
          "data": {
            "text/plain": [
              "[<__main__.Student at 0x103ccc940>,\n",
              " <__main__.Student at 0x103ccd210>,\n",
              " <__main__.Student at 0x103b5d870>]"
            ]
          },
          "execution_count": 67,
          "metadata": {},
          "output_type": "execute_result"
        }
      ],
      "source": [
        "class Student:\n",
        "  def __init__(self, name, id):\n",
        "    self.name = name\n",
        "    self.id = id\n",
        "  def print(self):\n",
        "      print(self.name) \n",
        "      print(self.id)\n",
        "\n",
        "#write your solution here"
      ]
    },
    {
      "cell_type": "markdown",
      "id": "99a26654",
      "metadata": {},
      "source": [
        "### Exercise 7: \n",
        "\n",
        "Amend your Module class from Python 03 notebook so that module objects can store a list of student objects (which take the module). Start by defining an attribute in the Module constructor. This could be initialised as an empty list in the constructor. Create a ```add_student()``` function which can append a student object. \n",
        "\n",
        "Extension: is it possible to use the ```add_student()``` function to add a list of students to already existing list attribute? "
      ]
    },
    {
      "cell_type": "code",
      "execution_count": 127,
      "id": "e078c746",
      "metadata": {},
      "outputs": [
        {
          "name": "stdout",
          "output_type": "stream",
          "text": [
            "Programming Concepts\n",
            "COM4008\n",
            "Programming Concepts\n",
            "COM4008\n",
            "nick\n",
            "Programming Concepts\n",
            "COM4008\n",
            "nick\n",
            "Emily\n"
          ]
        }
      ],
      "source": [
        "#Write your solution here"
      ]
    },
    {
      "cell_type": "markdown",
      "id": "f85dedf5",
      "metadata": {},
      "source": [
        "### Exercise 7\n",
        "\n",
        "Now modify the list of the students in Module, to a dictionary. The dictionary should store the student object as the 'key' and the student mark for the module as the 'value'. Test this new structure works by passing in students and their marks when you call ```add_student()```\n",
        "\n",
        "Extension: Can you now create some descriptive statistics for each module: the maximum mark, minimum mark, and mean (average)?"
      ]
    },
    {
      "cell_type": "code",
      "execution_count": 1,
      "id": "8ea7dad5",
      "metadata": {},
      "outputs": [],
      "source": [
        "#write your solution here"
      ]
    },
    {
      "cell_type": "markdown",
      "id": "2a013a70",
      "metadata": {},
      "source": [
        "### Exercise 8\n",
        "Make adjustments to the Course class from Python 03 Notebook to allow a Course to store a list of module objects. \n",
        "Create additional module objects and output their details."
      ]
    },
    {
      "cell_type": "code",
      "execution_count": 2,
      "id": "89872b11",
      "metadata": {},
      "outputs": [],
      "source": [
        "#write your solution here"
      ]
    },
    {
      "cell_type": "markdown",
      "id": "f62b3876",
      "metadata": {
        "id": "f62b3876"
      },
      "source": [
        "### Exercise 9:\n",
        "Write a function that will generate the multiplications of a number passed in. For example, if the value 5 is passed in, then generate the 5 times table. The values of the multiplication table should be stored in indivdiual elements (max 12) of a list. The list should be returned at the end of the function. \n"
      ]
    },
    {
      "cell_type": "code",
      "execution_count": 53,
      "id": "7111df18",
      "metadata": {},
      "outputs": [
        {
          "data": {
            "text/plain": [
              "[7, 14, 21, 28, 35, 42, 49, 56, 63, 70, 77, 84]"
            ]
          },
          "execution_count": 53,
          "metadata": {},
          "output_type": "execute_result"
        }
      ],
      "source": [
        "#write your solution here"
      ]
    },
    {
      "cell_type": "markdown",
      "id": "c76976fd",
      "metadata": {},
      "source": [
        "### Exercise 10:\n",
        "\n",
        "Write a function which will square any list of values passed into it. Test this works by passing in your list of numbers (1-10) you created in the first exericse.\n",
        "\n",
        "<b>Extension</b>: what happens if the values in a list are not ints or floats? How would you respond to this event?"
      ]
    },
    {
      "cell_type": "code",
      "execution_count": 60,
      "id": "7889352e",
      "metadata": {},
      "outputs": [
        {
          "data": {
            "text/plain": [
              "[1, 4, 9, 16, 25, 36]"
            ]
          },
          "execution_count": 60,
          "metadata": {},
          "output_type": "execute_result"
        }
      ],
      "source": [
        "#write your solution here"
      ]
    },
    {
      "cell_type": "markdown",
      "id": "5861f62c",
      "metadata": {},
      "source": [
        "### Bonus exercise (in the style of an interview question)\n",
        "\n",
        "You are given a list of integers, and your task is to find the longest subsequence of consecutive integers within the list. A subsequence is a sequence that can be derived from another sequence by deleting some or no elements without changing the order of the remaining elements. \n",
        "\n",
        "Write a Python function to solve this problem. Your function should return the longest consecutive subsequence found in the original list.\n",
        "\n",
        "For example, given the input list: ``` [4, 2, 8, 5, 6, 7, 11, 12, 10]```\n",
        "\n",
        "The longest consecutive subsequence is: ``` [4, 5, 6, 7, 8] ```\n"
      ]
    },
    {
      "cell_type": "code",
      "execution_count": 185,
      "id": "ddf7677c",
      "metadata": {
        "id": "ddf7677c"
      },
      "outputs": [
        {
          "name": "stdout",
          "output_type": "stream",
          "text": [
            "[4, 5, 6, 7, 8]\n"
          ]
        }
      ],
      "source": [
        "def longest_consecutive_subsequence(numbers):\n",
        "    #write your solution here\n",
        "    ...\n",
        "    #write your solution above\n",
        "\n",
        "\n",
        "numbers = [4, 2, 8, 5, 6, 7, 11, 12, 10]\n",
        "result = longest_consecutive_subsequence(numbers)\n",
        "print(result)  "
      ]
    }
  ],
  "metadata": {
    "colab": {
      "provenance": []
    },
    "kernelspec": {
      "display_name": "Python 3 (ipykernel)",
      "language": "python",
      "name": "python3"
    },
    "language_info": {
      "codemirror_mode": {
        "name": "ipython",
        "version": 3
      },
      "file_extension": ".py",
      "mimetype": "text/x-python",
      "name": "python",
      "nbconvert_exporter": "python",
      "pygments_lexer": "ipython3",
      "version": "3.10.9"
    }
  },
  "nbformat": 4,
  "nbformat_minor": 5
}
