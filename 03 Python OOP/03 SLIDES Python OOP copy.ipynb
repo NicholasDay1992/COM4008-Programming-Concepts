{
  "cells": [
    {
      "cell_type": "markdown",
      "id": "1eba3b72",
      "metadata": {
        "id": "1eba3b72"
      },
      "source": [
        "# 03 Python Object Oriented Programming"
      ]
    },
    {
      "cell_type": "markdown",
      "id": "57bc8bf6",
      "metadata": {},
      "source": [
        "## Plan for the Lecture\n",
        "\n",
        "1. Object Oriented Programming Theory\n",
        "\n",
        "2. Classes and Objects in Python\n",
        "\n",
        "3. Inheritance\n"
      ]
    },
    {
      "cell_type": "markdown",
      "id": "3fbf16b5",
      "metadata": {},
      "source": [
        "## 0.0 Reminder that you have seen classes before! "
      ]
    },
    {
      "cell_type": "code",
      "execution_count": null,
      "id": "e3b7329e",
      "metadata": {},
      "outputs": [],
      "source": [
        "age = 30 \n",
        "print(type(age))\n",
        "name = \"Nick\" \n",
        "print(type(name)) "
      ]
    },
    {
      "cell_type": "markdown",
      "id": "afd7247b",
      "metadata": {},
      "source": [
        "## 1.0 Object Oriented Programming Theory \n",
        "* The Object-Oriented Paradigm originated in the 1980s. \n",
        "\n",
        "* C++ was originally known as 'C with classes'.\n",
        "\n",
        "* Procedural programming would separate data from procedures. \n",
        "\n",
        "* Object Oriented Programming encapsulates both data and procedures into a package (an object).\n",
        "\n",
        "* As we have seen, Python build primitive types as classes: `int`, `str`, `float`, `bool`\n"
      ]
    },
    {
      "cell_type": "markdown",
      "id": "5cb7add1",
      "metadata": {},
      "source": [
        "![class_entity](https://media.dev.to/cdn-cgi/image/width=800%2Cheight=%2Cfit=scale-down%2Cgravity=auto%2Cformat=auto/https%3A%2F%2Fdev-to-uploads.s3.amazonaws.com%2Fuploads%2Farticles%2Fbpcvpxpcdqnxqn53n3zf.png)"
      ]
    },
    {
      "cell_type": "markdown",
      "id": "372ec4ee",
      "metadata": {},
      "source": [
        "![classes_and_objects](https://miro.medium.com/v2/resize:fit:1400/1*CM0Jy_kA06FwPx0O432RxA.png)"
      ]
    },
    {
      "cell_type": "markdown",
      "id": "08387436",
      "metadata": {},
      "source": [
        "![classes_objects2](https://techbeamers.com/wp-content/uploads/2019/04/Java-Class-and-Object-Concept.png)"
      ]
    },
    {
      "cell_type": "markdown",
      "id": "8432eb7c",
      "metadata": {},
      "source": [
        "![class_entity2](https://scaler.com/topics/images/What-is-class-768x659.webp)"
      ]
    },
    {
      "cell_type": "markdown",
      "id": "d8700915",
      "metadata": {},
      "source": [
        "![uml_classes](https://media.geeksforgeeks.org/wp-content/uploads/20220520121002/classdiagramaccount-660x604.jpg)"
      ]
    },
    {
      "cell_type": "markdown",
      "id": "0fd95e05",
      "metadata": {},
      "source": [
        "![class_vs_method](https://i.pinimg.com/originals/c7/68/b5/c768b570174bf91975dc894501e9d13f.jpg)"
      ]
    },
    {
      "cell_type": "markdown",
      "id": "768df662",
      "metadata": {},
      "source": [
        "## 2.1 Classes and Objects\n",
        "\n",
        "Let's start by defining a simple `Student` class (entity). \n"
      ]
    },
    {
      "cell_type": "code",
      "execution_count": 4,
      "id": "e5312596",
      "metadata": {},
      "outputs": [],
      "source": [
        "class Student:\n",
        "    def print_name(self):\n",
        "        print(\"Hi Nick\") "
      ]
    },
    {
      "cell_type": "markdown",
      "id": "97c71e8b",
      "metadata": {},
      "source": [
        "Now that we have this class defined, we can instantiate an object from this blueprint."
      ]
    },
    {
      "cell_type": "code",
      "execution_count": 5,
      "id": "c7e275cc",
      "metadata": {},
      "outputs": [
        {
          "name": "stdout",
          "output_type": "stream",
          "text": [
            "Hi Nick\n"
          ]
        }
      ],
      "source": [
        "obj = Student() # call constructor\n",
        "obj.print_name() "
      ]
    },
    {
      "cell_type": "markdown",
      "id": "8fee52b4",
      "metadata": {},
      "source": [
        "## 2.2 Object Addresses"
      ]
    },
    {
      "cell_type": "code",
      "execution_count": 6,
      "id": "190832b1",
      "metadata": {},
      "outputs": [
        {
          "name": "stdout",
          "output_type": "stream",
          "text": [
            "<__main__.Student object at 0x102cdc730>\n"
          ]
        }
      ],
      "source": [
        "obj = Student() # call constructor\n",
        "print(obj)\n"
      ]
    },
    {
      "cell_type": "markdown",
      "id": "e81fb3f2",
      "metadata": {},
      "source": [
        "## 2.3 Multiple Objects of the same Class\n",
        "\n",
        "* Notice below how we can create more than one object of the same class blueprint (structure).\n",
        "\n",
        "* Each object has its own unique memory address (hexedecimal printed below)\n",
        "\n",
        "* The object name stores this memory address - like a variable would store a value (an integer or a str value)"
      ]
    },
    {
      "cell_type": "code",
      "execution_count": 8,
      "id": "95f1c5a1",
      "metadata": {},
      "outputs": [
        {
          "name": "stdout",
          "output_type": "stream",
          "text": [
            "<__main__.Student object at 0x102ceea60>\n",
            "<__main__.Student object at 0x102ceeb20>\n"
          ]
        }
      ],
      "source": [
        "nick = Student() # one object\n",
        "print(nick)\n",
        "\n",
        "sam = Student() # another object!\n",
        "print(sam)"
      ]
    },
    {
      "cell_type": "code",
      "execution_count": 11,
      "id": "f66b8b29",
      "metadata": {},
      "outputs": [
        {
          "name": "stdout",
          "output_type": "stream",
          "text": [
            "Hi Nick\n",
            "Hi Nick\n"
          ]
        }
      ],
      "source": [
        "nick.print_name()\n",
        "sam.print_name()"
      ]
    },
    {
      "cell_type": "markdown",
      "id": "43a30c22",
      "metadata": {},
      "source": [
        "Problem... how should we address this?"
      ]
    },
    {
      "cell_type": "markdown",
      "id": "b9026ec0",
      "metadata": {},
      "source": [
        "## 2.4 The `self` reference\n",
        "\n",
        "* `self` can be substituted for any given object created of the class.\n",
        "\n",
        "* Rather than specifying one object that will be referred to every time the method is run, `self` can refer to the object that the method is being called on.\n",
        "\n",
        "* In Python, `self` is automatically passed (so we don’t have to), but it is received, so has to be defined in class methods.\n"
      ]
    },
    {
      "cell_type": "markdown",
      "id": "0f80f220",
      "metadata": {},
      "source": [
        "Let's update the `Student` class below with `self`:"
      ]
    },
    {
      "cell_type": "code",
      "execution_count": 13,
      "id": "6a245cb7",
      "metadata": {},
      "outputs": [],
      "source": [
        "class Student:\n",
        "    def set_name(self, name):\n",
        "        self.name = name"
      ]
    },
    {
      "cell_type": "code",
      "execution_count": 14,
      "id": "d7c64a37",
      "metadata": {},
      "outputs": [
        {
          "name": "stdout",
          "output_type": "stream",
          "text": [
            "Nick\n"
          ]
        }
      ],
      "source": [
        "nick = Student() # call constructor\n",
        "nick.set_name(\"Nick\") \n",
        "print(nick.name) "
      ]
    },
    {
      "cell_type": "code",
      "execution_count": 16,
      "id": "dd55b89e",
      "metadata": {},
      "outputs": [
        {
          "name": "stdout",
          "output_type": "stream",
          "text": [
            "Nick\n",
            "Sam\n"
          ]
        }
      ],
      "source": [
        "nick = Student() # One object\n",
        "nick.set_name(\"Nick\") \n",
        "print(nick.name)\n",
        "\n",
        "sam = Student() # Another object\n",
        "sam.set_name(\"Sam\") \n",
        "print(sam.name)"
      ]
    },
    {
      "cell_type": "markdown",
      "id": "6d08aa6c",
      "metadata": {},
      "source": [
        "## 2.5 Constructor `__init__()`\n",
        "\n",
        "* A constructor is a method which has the same name as the class. \n",
        "\n",
        "* In Python, we can use the <b>dunder method</b> (double underscore) `__init__()` to refer to the constructor. \n",
        "\n",
        "* Dunder methods are called by the Python interpreter. It initialises the object and sets values for attributes (variables).\n",
        "\n",
        "* The constructor is called when we create an object of the class.\n",
        "\n",
        "* In Python we can still call the constructor (same name as the class). The Python interpreter then calls the `__init__()` method.\n",
        "\n"
      ]
    },
    {
      "cell_type": "markdown",
      "id": "e944d46c",
      "metadata": {},
      "source": [
        "Now let's 'set' the name of our student in this constructor `__init__()`\n",
        "\n",
        "We also have to include the `self` reference and the name to be passed in."
      ]
    },
    {
      "cell_type": "code",
      "execution_count": 17,
      "id": "7b16e332",
      "metadata": {},
      "outputs": [],
      "source": [
        "class Student:\n",
        "    def __init__(self, name):\n",
        "        self.name = name"
      ]
    },
    {
      "cell_type": "markdown",
      "id": "e12c75b6",
      "metadata": {},
      "source": [
        "Now, when we call the constructor to instantiate the object, we pass in the name via the parentheses `()`."
      ]
    },
    {
      "cell_type": "code",
      "execution_count": 18,
      "id": "f1466cda",
      "metadata": {},
      "outputs": [
        {
          "name": "stdout",
          "output_type": "stream",
          "text": [
            "Nick\n"
          ]
        }
      ],
      "source": [
        "nick = Student(\"Nick\") \n",
        "print(nick.name) "
      ]
    },
    {
      "cell_type": "markdown",
      "id": "41216819",
      "metadata": {},
      "source": [
        "Now that we can customise the name for each object we can bring our earlier print method:"
      ]
    },
    {
      "cell_type": "code",
      "execution_count": 20,
      "id": "f9bf4019",
      "metadata": {},
      "outputs": [],
      "source": [
        "class Student:\n",
        "    \n",
        "    def __init__(self, name):\n",
        "        self.name = name\n",
        "        \n",
        "    def print_name(self):\n",
        "        print(self.name) "
      ]
    },
    {
      "cell_type": "markdown",
      "id": "1e8fd58d",
      "metadata": {},
      "source": [
        "Note: remember the indentation for each block (the functions that sit in the class)"
      ]
    },
    {
      "cell_type": "code",
      "execution_count": 26,
      "id": "b679b736",
      "metadata": {},
      "outputs": [
        {
          "name": "stdout",
          "output_type": "stream",
          "text": [
            "Nick\n",
            "Sam\n"
          ]
        }
      ],
      "source": [
        "nick = Student(\"Nick\") \n",
        "nick.print_name()\n",
        "\n",
        "sam = Student(\"Sam\") \n",
        "sam.print_name()"
      ]
    },
    {
      "cell_type": "code",
      "execution_count": 29,
      "id": "929ca251",
      "metadata": {},
      "outputs": [
        {
          "name": "stdout",
          "output_type": "stream",
          "text": [
            "Nick\n",
            "Sam\n"
          ]
        }
      ],
      "source": [
        "print(nick.name) \n",
        "print(sam.name) "
      ]
    },
    {
      "cell_type": "markdown",
      "id": "1ed62f96",
      "metadata": {},
      "source": [
        "## 3.0 Inheritance\n",
        "\n",
        "* In our social world; inheritance means the passing down of assets from generation to generation; children inherit from their parents.\n",
        "\n",
        "* In programming, inheritance is modelled by allowing 'child' classes to access variables and methods from the 'parent' class.\n",
        "\n",
        "* Furthermore, Children classes often extend (are specialist versions of) the Parent classes. \n",
        "\n"
      ]
    },
    {
      "cell_type": "markdown",
      "id": "1c99378f",
      "metadata": {},
      "source": [
        "* Java uses the key word `extends`:  \n",
        "  `ChildClass extends ParentClass`\n",
        "* C family languages use the `:` (colon) operator:   \n",
        "  `ChildClass : ParentClass`\n",
        "\n",
        "* In Python, we have to pass the Parent reference to the Child class.\n"
      ]
    },
    {
      "cell_type": "code",
      "execution_count": 30,
      "id": "02caa347",
      "metadata": {},
      "outputs": [],
      "source": [
        "class Parent:\n",
        "    def print(self):\n",
        "        print(\"Hi from Parent Class\") "
      ]
    },
    {
      "cell_type": "code",
      "execution_count": 31,
      "id": "6ee18d82",
      "metadata": {},
      "outputs": [],
      "source": [
        "class Child(Parent):\n",
        "    def print(self):\n",
        "        print(\"Hi from Child Class\") \n"
      ]
    },
    {
      "cell_type": "code",
      "execution_count": 32,
      "id": "36760262",
      "metadata": {},
      "outputs": [
        {
          "name": "stdout",
          "output_type": "stream",
          "text": [
            "Hi from Child Class\n"
          ]
        }
      ],
      "source": [
        "childobj = Child() # call constructor\n",
        "childobj.print() "
      ]
    },
    {
      "cell_type": "markdown",
      "id": "e0a51e5f",
      "metadata": {},
      "source": [
        "## 3.2 The `super()` reference\n",
        "\n",
        "* We’ve used the keyword `self` within class constructors to refer to variables of any given object that is created. \n",
        "\n",
        "* In an inheritance hierarchy, the child constructor may want to invoke the parent constructor to initialise values for inherited attributes. \n",
        "\n",
        "* The `super()` is a reference to the parent’s constructor. \n",
        "\n",
        "* You can also refer to attributes and functions through the `super()` reference.\n"
      ]
    },
    {
      "cell_type": "code",
      "execution_count": 33,
      "id": "934a9260",
      "metadata": {},
      "outputs": [],
      "source": [
        "class Parent:\n",
        "    def print(self):\n",
        "        print(\"Hi from Parent Class\") "
      ]
    },
    {
      "cell_type": "code",
      "execution_count": 34,
      "id": "ad42a85a",
      "metadata": {},
      "outputs": [],
      "source": [
        "class Child(Parent):\n",
        "    def print(self):\n",
        "        super().print()"
      ]
    },
    {
      "cell_type": "code",
      "execution_count": 37,
      "id": "91b3e841",
      "metadata": {},
      "outputs": [
        {
          "name": "stdout",
          "output_type": "stream",
          "text": [
            "Hi from Parent Class\n"
          ]
        }
      ],
      "source": [
        "child_obj = Child() # call constructor\n",
        "child_obj.print() "
      ]
    },
    {
      "cell_type": "markdown",
      "id": "a0a7da87",
      "metadata": {},
      "source": [
        "## 3.3 Inheritance Extension"
      ]
    },
    {
      "cell_type": "code",
      "execution_count": 51,
      "id": "608b60ea",
      "metadata": {},
      "outputs": [],
      "source": [
        "class Person: \n",
        "    def __init__(self, name):\n",
        "        self.name = name"
      ]
    },
    {
      "cell_type": "code",
      "execution_count": 52,
      "id": "b79a47b1",
      "metadata": {},
      "outputs": [],
      "source": [
        "class Student(Person):\n",
        "    def __init__(self, name):\n",
        "        super().__init__(name)"
      ]
    },
    {
      "cell_type": "code",
      "execution_count": 53,
      "id": "095704f6",
      "metadata": {},
      "outputs": [
        {
          "name": "stdout",
          "output_type": "stream",
          "text": [
            "Sam\n",
            "<class '__main__.Student'>\n"
          ]
        }
      ],
      "source": [
        "sam = Student(\"Sam\") \n",
        "print(sam.name) \n",
        "print(type(sam))"
      ]
    },
    {
      "cell_type": "code",
      "execution_count": 54,
      "id": "975dd0d5",
      "metadata": {},
      "outputs": [],
      "source": [
        "class Staff(Person):\n",
        "    def __init__(self, name):\n",
        "        super().__init__(name)"
      ]
    },
    {
      "cell_type": "code",
      "execution_count": 55,
      "id": "7b50e499",
      "metadata": {},
      "outputs": [
        {
          "name": "stdout",
          "output_type": "stream",
          "text": [
            "Nick\n",
            "<class '__main__.Staff'>\n"
          ]
        }
      ],
      "source": [
        "nick = Staff(\"Nick\")\n",
        "print(nick.name)\n",
        "print(type(nick))"
      ]
    },
    {
      "cell_type": "markdown",
      "id": "cb8dc33f",
      "metadata": {},
      "source": [
        "Whilst staff and students will have other common attributes (which we could add to the `Person` class): \n",
        "* First and last name \n",
        "\n",
        "* An ID number of the University\n",
        "\n",
        "* Both assigned to modules\n",
        "\n",
        "* Have a printing balance\n",
        "\n",
        "* A library account\n",
        "\n",
        "Let's focus on somethiing unique to each, so we can demonstrate specialism: \n",
        "\n",
        "* Students have an overall grade for their degree (+ individual marks for each module)\n",
        "\n",
        "* Staff attend meetings (a behaviour / method). They also have objectives set in their PDRs (an attribute)"
      ]
    },
    {
      "cell_type": "markdown",
      "id": "8aa49408",
      "metadata": {},
      "source": [
        "So let's add a `mark` attribute which is unique to the `Student` class:"
      ]
    },
    {
      "cell_type": "code",
      "execution_count": 122,
      "id": "6aef4b37",
      "metadata": {},
      "outputs": [],
      "source": [
        "class Student(Person):\n",
        "    def __init__(self, name, mark):\n",
        "        super().__init__(name) # common to both Student and Staff therefore stored in Person.\n",
        "        self.mark = mark # unique to Student therefore stored in self here.\n",
        "    \n",
        "    def get_mark(self):\n",
        "        print(self.mark)"
      ]
    },
    {
      "cell_type": "markdown",
      "id": "afc51f20",
      "metadata": {},
      "source": [
        "And let's add an `objective` attribute which is unqiue to the `Staff` class"
      ]
    },
    {
      "cell_type": "code",
      "execution_count": 123,
      "id": "bc3b0f8e",
      "metadata": {},
      "outputs": [],
      "source": [
        "class Staff(Person):\n",
        "    def __init__(self, name, objective):\n",
        "        super().__init__(name) # common to both Student and Staff therefore stored in Person.\n",
        "        self.objective = objective # unique to Staff therefore stored in self here.\n",
        "        \n",
        "    def get_objective(self):\n",
        "        print(self.objective)"
      ]
    },
    {
      "cell_type": "code",
      "execution_count": 124,
      "id": "2b757fd8",
      "metadata": {},
      "outputs": [
        {
          "name": "stdout",
          "output_type": "stream",
          "text": [
            "Nick\n",
            "Write a blended Computer Science Curriculum\n",
            "<class '__main__.Staff'>\n"
          ]
        }
      ],
      "source": [
        "nick = Staff(\"Nick\", \"Write a blended Computer Science Curriculum\")\n",
        "print(nick.name)\n",
        "nick.get_objective()\n",
        "print(type(nick))"
      ]
    },
    {
      "cell_type": "code",
      "execution_count": 125,
      "id": "2d3aabbb",
      "metadata": {},
      "outputs": [
        {
          "name": "stdout",
          "output_type": "stream",
          "text": [
            "Sam\n",
            "75\n",
            "<class '__main__.Student'>\n"
          ]
        }
      ],
      "source": [
        "sam = Student(\"Sam\", 75)\n",
        "print(sam.name)\n",
        "sam.get_mark()\n",
        "print(type(sam))"
      ]
    },
    {
      "cell_type": "markdown",
      "id": "25d207c4",
      "metadata": {},
      "source": [
        "Finally, for convenience, let's create a print method for each of the entities"
      ]
    },
    {
      "cell_type": "code",
      "execution_count": 126,
      "id": "177fe959",
      "metadata": {},
      "outputs": [],
      "source": [
        "class Person: \n",
        "    def __init__(self, name):\n",
        "        self.name = name\n",
        "        \n",
        "    def get_name(self):\n",
        "        return self.name"
      ]
    },
    {
      "cell_type": "code",
      "execution_count": 127,
      "id": "75131a66",
      "metadata": {},
      "outputs": [],
      "source": [
        "class Student(Person):\n",
        "    def __init__(self, name, mark):\n",
        "        super().__init__(name)\n",
        "        self.mark = mark\n",
        "    \n",
        "    def get_mark(self):\n",
        "        print(self.mark)\n",
        "        \n",
        "    def print(self):\n",
        "        \"\"\" Unique print method for Student attributes \"\"\"\n",
        "        print(super().get_name(), \"is a\", type(self))\n",
        "        print(\"Mark:\", self.mark)"
      ]
    },
    {
      "cell_type": "code",
      "execution_count": 128,
      "id": "860202f1",
      "metadata": {},
      "outputs": [],
      "source": [
        "class Staff(Person):\n",
        "    def __init__(self, name, objective):\n",
        "        super().__init__(name)\n",
        "        self.objective = objective\n",
        "        \n",
        "    def get_objective(self):\n",
        "        print(self.objective)\n",
        "        \n",
        "    def print(self): \n",
        "        \"\"\" Unique print method for Staff attributes \"\"\"\n",
        "        print(super().get_name(), \"is a\", type(self))\n",
        "        print(\"Objective:\", self.objective)\n",
        "        "
      ]
    },
    {
      "cell_type": "code",
      "execution_count": 129,
      "id": "93ba0da8",
      "metadata": {},
      "outputs": [
        {
          "name": "stdout",
          "output_type": "stream",
          "text": [
            "Nick is a <class '__main__.Staff'>\n",
            "Objective: Write a blended Computer Science Curriculum\n"
          ]
        }
      ],
      "source": [
        "nick = Staff(\"Nick\", \"Write a blended Computer Science Curriculum\")\n",
        "nick.print()"
      ]
    },
    {
      "cell_type": "code",
      "execution_count": 130,
      "id": "b08284e4",
      "metadata": {},
      "outputs": [
        {
          "name": "stdout",
          "output_type": "stream",
          "text": [
            "Sam is a <class '__main__.Student'>\n",
            "Mark: 75\n"
          ]
        }
      ],
      "source": [
        "sam = Student(\"Sam\", 75)\n",
        "sam.print()"
      ]
    },
    {
      "cell_type": "markdown",
      "id": "1fe7ddbc",
      "metadata": {},
      "source": [
        "So what we have here are the same data, but custom print methods each each child class `Student` and `Staff` that prints the relevant attribute data."
      ]
    },
    {
      "cell_type": "markdown",
      "id": "dd38cc99",
      "metadata": {
        "id": "dd38cc99"
      },
      "source": [
        "#### This Jupyter Notebook contains exercises for you to organise attributes and functions related to an entity into classes. You can then instantiate these classes (create objects) and assign unique values for these attributes. Attempt the following exercises, which slowly build in complexity. If you get stuck, check back to the <a href = \"https://youtu.be/RZeZ1Ig0T_E?si=RJ0DtJbsCDrJw8zv\"> Python lecture recording on Object Orientation here</a> or look through the <a href = \"https://www.python.org\">Python documentation here</a>."
      ]
    },
    {
      "cell_type": "markdown",
      "id": "6e5075e1",
      "metadata": {
        "id": "6e5075e1"
      },
      "source": [
        "### Exercise 1:\n",
        "\n",
        "First define a Student class with an initialisation function  ``` __init__() ``` (otherwise known as a constructor) that prints out a message (e.g. \"Student constructor called\"). \n",
        "\n",
        "Then call this constructor (in other cell or underneath the class definition) to check that the right function is being called. Hint: rememember that the constructor function has the same name as the class. \n",
        "\n",
        "<b>Question:</b> If you see this output:  ``` <__main__.Student at 0x10422b3d0> ``` What does it refer to?"
      ]
    },
    {
      "cell_type": "code",
      "execution_count": 4,
      "id": "1c93996b",
      "metadata": {
        "id": "1c93996b",
        "outputId": "fc2acb5f-64bd-48f2-9659-ddbc761958a4",
        "scrolled": false
      },
      "outputs": [
        {
          "name": "stdout",
          "output_type": "stream",
          "text": [
            "Student constructor called\n"
          ]
        },
        {
          "data": {
            "text/plain": [
              "<__main__.Student at 0x10422b3d0>"
            ]
          },
          "execution_count": 4,
          "metadata": {},
          "output_type": "execute_result"
        }
      ],
      "source": [
        "# Write your solution here"
      ]
    },
    {
      "cell_type": "markdown",
      "id": "f62b3876",
      "metadata": {
        "id": "f62b3876"
      },
      "source": [
        "### Exercise 2\n",
        "Now modify the parameter list of the ```__init__()``` constructor, and add variable names for the student's name and id. The values passed in as parameters will need to be stored in attributes of the self reference so they can be retreived. \n",
        "\n",
        "When you next call the constructor, you will have to supply values for these variables/attributes (name and id) in the paretheses of the constructor (values separated by a comma , ).\n"
      ]
    },
    {
      "cell_type": "code",
      "execution_count": 6,
      "id": "b9e65ba7",
      "metadata": {
        "id": "b9e65ba7",
        "outputId": "efd8e87b-3df2-4d76-e08c-06eefe519d7d"
      },
      "outputs": [],
      "source": [
        "# Write your solution here"
      ]
    },
    {
      "cell_type": "markdown",
      "id": "82b6c407",
      "metadata": {
        "id": "82b6c407"
      },
      "source": [
        "### Exercise 3:\n",
        "Now provide an object name for the reference that is returned from calling the constructor (self), and which you see you output so far. In this case, as the context is students, use your first name as the name of the object.\n",
        "\n",
        "As the attributes of self are public, you can refer to them directly. Print the name and id values which you assigned to the object (by passing to the constructor), through the name of the object (your firstname that you gave to the object)."
      ]
    },
    {
      "cell_type": "code",
      "execution_count": 5,
      "id": "d786193b",
      "metadata": {
        "id": "d786193b",
        "outputId": "3e3128f6-0046-4064-c8af-e19e9f32bd99"
      },
      "outputs": [],
      "source": [
        "# Write your solution here"
      ]
    },
    {
      "cell_type": "markdown",
      "id": "fbe9071a",
      "metadata": {
        "id": "fbe9071a"
      },
      "source": [
        "### Exercise 4:\n",
        "Now reuse the same instructions in Exercise 3, to create two new objects which have unique names and id values. Print their details to the screen again (remember that each value is scoped to an object - make sure you refer to the right one!).\n",
        "\n",
        "(This step should illustrate the importance of defining a class structure that can be instantiated many times as objects)."
      ]
    },
    {
      "cell_type": "code",
      "execution_count": 4,
      "id": "2097420a",
      "metadata": {
        "id": "2097420a",
        "outputId": "63566834-43e9-40b2-9720-d7cb20961a41"
      },
      "outputs": [],
      "source": [
        "# Write your solution here"
      ]
    },
    {
      "cell_type": "markdown",
      "id": "564b04d8",
      "metadata": {
        "id": "564b04d8"
      },
      "source": [
        "### Exercise 5:\n",
        "For the sake of efficiency, let's define a print function in the Student class that will output the name and id values of self. Feel free to format how you would like. \n",
        "\n",
        "Check this works by calling the Student's print function. <b> You'll need to create new objects though </b>"
      ]
    },
    {
      "cell_type": "code",
      "execution_count": 3,
      "id": "e921a81c",
      "metadata": {
        "id": "e921a81c",
        "outputId": "53918f7e-b710-4784-b217-eaff27019afa"
      },
      "outputs": [],
      "source": [
        "# Write your solution here"
      ]
    },
    {
      "cell_type": "markdown",
      "id": "3ebccf84",
      "metadata": {
        "id": "3ebccf84"
      },
      "source": [
        "### Exercise 6:\n",
        "Now that you've managed to create one class for Students, define a Course class.\n",
        "\n",
        "This Course class should define a constructor that takes the course's name and code as arguments. Also define a print function that will output these values to screen for any object of the Course class.\n",
        "\n",
        "Test this by instantiating the class, creating an object for the course you are enrolled on here at BNU. Call the constructor and pass the course name and code. Then call the Course's print method on your object to see the details on the screen. \n",
        "\n",
        "FYI: You can find the official BNU Course Codes in the Programme Specifications <a href = \"https://www.bucks.ac.uk/search/courses?query=computing\"> which are linked under the course pages on our website </a>\n"
      ]
    },
    {
      "cell_type": "code",
      "execution_count": 2,
      "id": "0cadfab5",
      "metadata": {
        "id": "0cadfab5",
        "outputId": "a97500bd-0e84-477b-b939-33555d4a4c4d"
      },
      "outputs": [],
      "source": [
        "# Write your solution here"
      ]
    },
    {
      "cell_type": "markdown",
      "id": "7b1efbdb",
      "metadata": {
        "id": "7b1efbdb"
      },
      "source": [
        "### Exercise 7:\n",
        "\n",
        "Now add an attribute to the Student class, which will resemble the course object that a particular student is enroled one. Modify the constructor to accept an object of the Course class. Also amend the print function to call the Course's function defined previously (saving you having to write it again!).\n"
      ]
    },
    {
      "cell_type": "code",
      "execution_count": 1,
      "id": "08a6006b",
      "metadata": {},
      "outputs": [],
      "source": [
        "# Write your solution here"
      ]
    },
    {
      "cell_type": "markdown",
      "id": "1c4a232a",
      "metadata": {
        "id": "1c4a232a"
      },
      "source": [
        "### Exercise 8 (Which reuses the functions from Exercise 6 and 7 in 02 Python Selection and Iteration):\n",
        "\n",
        "Now add an appropriate variable to the Student class, which will store each student's overall mark for their course. \n",
        "Rather than defining the mark at compile time, ask a user to enter a mark. \n",
        "\n",
        "This concept can be expanded later for modules (each course has modules, and each module has its own mark), but for this exercise let's work with one overall mark for the student's course. \n",
        "\n",
        "Then amend the print function of the Student class to print their mark (for the course), in addition to printing the details of the course they are enrolled on.\n",
        "\n",
        "\n",
        "Extension: you could reuse the functions from the previous notebook for converting the mark to a grade, and the grade to a university classification. Consider whether could define these functions in one of your two classes (Student or Course) - which is a better fit for the logic?"
      ]
    },
    {
      "cell_type": "code",
      "execution_count": null,
      "id": "f2120fbd",
      "metadata": {},
      "outputs": [],
      "source": [
        "# Write your solution here. Also integrate the functions below as you see fit."
      ]
    },
    {
      "cell_type": "code",
      "execution_count": 58,
      "id": "71adb574",
      "metadata": {
        "id": "71adb574",
        "outputId": "caf99270-db1e-4717-b546-0828602acf6a"
      },
      "outputs": [],
      "source": [
        "''' Function from Python 02 '''\n",
        "def convert_mark_to_grade():\n",
        "    if mark < 0 or mark > 100:\n",
        "        return 'invalid mark'\n",
        "    elif mark < 40:\n",
        "        return 'F'\n",
        "    elif mark < 50:\n",
        "        return 'D'\n",
        "    elif mark < 60:\n",
        "        return 'C'\n",
        "    elif mark < 70:\n",
        "        return 'B'\n",
        "    else:\n",
        "        return 'A'"
      ]
    },
    {
      "cell_type": "code",
      "execution_count": 60,
      "id": "561092b7",
      "metadata": {},
      "outputs": [],
      "source": [
        "''' Function from Python 02 '''\n",
        "def convert_grade_to_classification():\n",
        "    if grade == 'A':\n",
        "        return '1st class'\n",
        "    elif grade == 'B':\n",
        "        return '2:1'\n",
        "    elif grade == 'C':\n",
        "        return '2:2'\n",
        "    elif grade == 'D':\n",
        "        return '3rd'\n",
        "    elif grade == 'E':\n",
        "        return 'ordinary'\n",
        "    else:\n",
        "        return 'fail'"
      ]
    },
    {
      "cell_type": "markdown",
      "id": "07c657a6",
      "metadata": {
        "id": "07c657a6"
      },
      "source": [
        "### Exercise 9\n",
        "\n",
        "In preparation for further work (and one final practice of writing classes and instantiating objects), write a Module class where the constructor will store the module name and module code. Also create a print function which will output the relevant values for an object of this class. \n",
        "\n",
        "Call the constructor and create a module object (e.g. COM4008 Programming Concepts). \n",
        "\n",
        "Extension: Link the Course and Module class so that students on a course, also take a module. To keep it simple, write a function in the Course class that enables module objects to be added (e.g. ``` add_module() ``` ) to an attribute of a course object. "
      ]
    },
    {
      "cell_type": "code",
      "execution_count": null,
      "id": "917a0a3f",
      "metadata": {
        "id": "917a0a3f",
        "outputId": "936088ec-1292-41d1-cf52-7702569c3122"
      },
      "outputs": [],
      "source": [
        "# Write your solution here"
      ]
    },
    {
      "cell_type": "markdown",
      "id": "11077868",
      "metadata": {
        "id": "11077868"
      },
      "source": [
        "### Exercise 10 (Extensions on this example):\n",
        "\n",
        "If you've successfully managed to create the Student, Course, Module classes by navigating the previous exercises. Why not continue to develop this example. \n",
        "\n",
        "You could:\n",
        "- Ahead of the next Python class (04), look into Python lists. You could create a list of students that take one module, and a list of modules that are associated with one course.  \n",
        "- Create statistics: average mark across one student's modules. And/or average mark across a cohort of students for one module.\n",
        "- Save the code for each Class as a separate .py file (rather than ipynb file). This would allow you to expand upon the code for each class (Student, Course, Module etc). You could also then have a dedicated main file that manages the program. "
      ]
    },
    {
      "cell_type": "code",
      "execution_count": null,
      "id": "ddf7677c",
      "metadata": {
        "id": "ddf7677c"
      },
      "outputs": [],
      "source": [
        "# Write your solution here"
      ]
    }
  ],
  "metadata": {
    "colab": {
      "provenance": []
    },
    "kernelspec": {
      "display_name": "Python 3 (ipykernel)",
      "language": "python",
      "name": "python3"
    },
    "language_info": {
      "codemirror_mode": {
        "name": "ipython",
        "version": 3
      },
      "file_extension": ".py",
      "mimetype": "text/x-python",
      "name": "python",
      "nbconvert_exporter": "python",
      "pygments_lexer": "ipython3",
      "version": "3.9.6"
    }
  },
  "nbformat": 4,
  "nbformat_minor": 5
}
