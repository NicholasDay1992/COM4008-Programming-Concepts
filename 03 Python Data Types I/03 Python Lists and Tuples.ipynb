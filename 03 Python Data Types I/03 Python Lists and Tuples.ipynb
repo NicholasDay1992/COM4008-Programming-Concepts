{
 "cells": [
  {
   "cell_type": "markdown",
   "id": "1eba3b72",
   "metadata": {
    "id": "1eba3b72"
   },
   "source": [
    "# 03 Python Data Structures I - Lists and Tuples\n"
   ]
  },
  {
   "cell_type": "markdown",
   "id": "104769f3",
   "metadata": {},
   "source": [
    "## Plan for the Lecture:\n",
    "\n",
    "1. Concept of a Data Structure and Memory\n",
    "\n",
    "2. Strings, Arrays and Characters\n",
    "\n",
    "3. Lists \n",
    "\n",
    "4. Tuples "
   ]
  },
  {
   "cell_type": "code",
   "execution_count": 15,
   "id": "c87f18db",
   "metadata": {},
   "outputs": [],
   "source": [
    "def get_number():\n",
    "    return int(input(\"please enter a number\"))"
   ]
  },
  {
   "cell_type": "code",
   "execution_count": 16,
   "id": "e2e45207",
   "metadata": {},
   "outputs": [],
   "source": [
    "numbers = []"
   ]
  },
  {
   "cell_type": "code",
   "execution_count": 17,
   "id": "dabd0931",
   "metadata": {},
   "outputs": [],
   "source": [
    "for number in range(0,3):\n",
    "    numbers.append(get_number())"
   ]
  },
  {
   "cell_type": "code",
   "execution_count": 18,
   "id": "dfac787b",
   "metadata": {},
   "outputs": [
    {
     "data": {
      "text/plain": [
       "[10, 20, 30]"
      ]
     },
     "execution_count": 18,
     "metadata": {},
     "output_type": "execute_result"
    }
   ],
   "source": [
    "numbers"
   ]
  },
  {
   "cell_type": "code",
   "execution_count": null,
   "id": "a5790903",
   "metadata": {},
   "outputs": [
    {
     "data": {
      "text/plain": [
       "15.0"
      ]
     },
     "execution_count": 13,
     "metadata": {},
     "output_type": "execute_result"
    }
   ],
   "source": [
    "num1 = get_number()\n",
    "num2 = get_number()\n",
    "num3 = get_number()\n",
    "((num1 + num2) / 2)"
   ]
  },
  {
   "cell_type": "markdown",
   "id": "3ec7f7f9",
   "metadata": {},
   "source": [
    "## 1.0 Concept of a Data Structure\n",
    "\n",
    "* Unlike a variable which stores one value at a time, a data structure is built to store a collection of values. \n",
    "\n",
    "* Indexed structures allow for random access (RAM) – can locate an item by the index location. An array and vector allow for this.  \n",
    "\n",
    "* Non-indexed structures (or referenced) structures, on the other hand, are navigated sequentially. For example, a stream of data from the keyboard or from a file, or a linked list in which each node has a pointer the next in the sequence.\n",
    "\n"
   ]
  },
  {
   "cell_type": "code",
   "execution_count": 19,
   "id": "da40c13a",
   "metadata": {},
   "outputs": [],
   "source": [
    "num1 = 10\n",
    "num2 = 20\n",
    "num3 = 30\n",
    "num4 = 40\n",
    "num5 = 50\n",
    "num6 = 60\n",
    "num7 = 70\n",
    "num8 = 80\n",
    "num9 = 90\n",
    "num10 = 100"
   ]
  },
  {
   "cell_type": "markdown",
   "id": "fc60907c",
   "metadata": {},
   "source": [
    "This is a lot of variables... isn't there a better way to <b>collect</b> these values in one place?"
   ]
  },
  {
   "cell_type": "code",
   "execution_count": 40,
   "id": "3e1134be",
   "metadata": {},
   "outputs": [],
   "source": [
    "numbers = [10,20,30,40,50,60,70,80,90,100]"
   ]
  },
  {
   "cell_type": "markdown",
   "id": "c1b24d4f",
   "metadata": {},
   "source": [
    "## 1.1 Application of Data Structures\n",
    "* There are entire modules (courses) dedicated to this subject.\n",
    "\n",
    "* The performance of typical operations (insert, delete, search and sort) vary across the structures. \n",
    "\n",
    "* Big O notation (complexity): constant, linear, polynomial, linearithmic, quadratic etc. \n",
    "\n",
    "* Path finding algorithms. \n",
    "\n",
    "* Computer vision. \n"
   ]
  },
  {
   "cell_type": "markdown",
   "id": "e847e486",
   "metadata": {},
   "source": [
    "## 1.2 Recap on the Data Types we've seen: \n",
    "\n",
    "* `str` = string \n",
    "\n",
    "* `int` = integer\n",
    "\n",
    "* `float` = floating point number\n",
    "\n",
    "* `bool` = boolean (True/False)"
   ]
  },
  {
   "cell_type": "code",
   "execution_count": null,
   "id": "a874c47f",
   "metadata": {},
   "outputs": [],
   "source": [
    "name = \"Nick\""
   ]
  },
  {
   "cell_type": "code",
   "execution_count": null,
   "id": "62ce55be",
   "metadata": {},
   "outputs": [],
   "source": [
    "num = 5"
   ]
  },
  {
   "cell_type": "code",
   "execution_count": null,
   "id": "6f1f4b34",
   "metadata": {},
   "outputs": [],
   "source": [
    "pi = 3.14"
   ]
  },
  {
   "cell_type": "code",
   "execution_count": null,
   "id": "7576339b",
   "metadata": {},
   "outputs": [],
   "source": [
    "is_enrolled = True"
   ]
  },
  {
   "cell_type": "markdown",
   "id": "8d26d6f6",
   "metadata": {},
   "source": [
    "## 1.3 Memory (briefly) - Base-10 to Base-2\n",
    "\n",
    "* We're familiar with base-10 (decimal): 10, 255, 1024 etc\n",
    "\n",
    "* A byte is 8 bits. \n",
    "\n",
    "* Bits (base-2) can be turned on or off. "
   ]
  },
  {
   "cell_type": "markdown",
   "id": "0a247fcd",
   "metadata": {},
   "source": [
    "<img src=\"https://knowthecode.io/wp-content/uploads/2016/10/CS_0100_Understanding_How_a_Computer_Works__1__key10.png\" alt=\"base_2_number_system\" width=\"650\"> "
   ]
  },
  {
   "cell_type": "code",
   "execution_count": 20,
   "id": "d8348413",
   "metadata": {},
   "outputs": [],
   "source": [
    "num = 10 "
   ]
  },
  {
   "cell_type": "markdown",
   "id": "b9885451",
   "metadata": {},
   "source": [
    "Easy way to convert decimal to binary (base-2) in Python is the `bin()` function "
   ]
  },
  {
   "cell_type": "code",
   "execution_count": 19,
   "id": "0fe2a93a",
   "metadata": {},
   "outputs": [
    {
     "data": {
      "text/plain": [
       "'0b1010'"
      ]
     },
     "execution_count": 19,
     "metadata": {},
     "output_type": "execute_result"
    }
   ],
   "source": [
    "bin(num)"
   ]
  },
  {
   "cell_type": "code",
   "execution_count": 20,
   "id": "aec72d8f",
   "metadata": {},
   "outputs": [
    {
     "data": {
      "text/plain": [
       "'1010'"
      ]
     },
     "execution_count": 20,
     "metadata": {},
     "output_type": "execute_result"
    }
   ],
   "source": [
    "bin(num)[2:]"
   ]
  },
  {
   "cell_type": "code",
   "execution_count": 23,
   "id": "3d442d84",
   "metadata": {},
   "outputs": [
    {
     "data": {
      "text/plain": [
       "10"
      ]
     },
     "execution_count": 23,
     "metadata": {},
     "output_type": "execute_result"
    }
   ],
   "source": [
    "binary = \"1010\"\n",
    "decimal = int(binary, 2)\n",
    "decimal"
   ]
  },
  {
   "cell_type": "markdown",
   "id": "adf83158",
   "metadata": {},
   "source": [
    "## 1.4 How Data Types are represented in Memory\n",
    "\n",
    "* These figures below are <b>signed</b> - that means it spreads the range across positive and <b>negative</b> numbers.\n",
    "\n",
    "\n",
    "<img src=\"https://scaler.com/topics/images/data-type-size-based-3.webp\" alt=\"base_2_number_system\" width=\"650\"> "
   ]
  },
  {
   "cell_type": "markdown",
   "id": "0bc6aeb2",
   "metadata": {},
   "source": [
    "What about a boolean? Could this be represented as a single 'bit'?   \n",
    "   0 = False and 1 = True?"
   ]
  },
  {
   "cell_type": "code",
   "execution_count": 21,
   "id": "326b1bec",
   "metadata": {},
   "outputs": [
    {
     "data": {
      "text/plain": [
       "0"
      ]
     },
     "execution_count": 21,
     "metadata": {},
     "output_type": "execute_result"
    }
   ],
   "source": [
    "binary = \"00000000\"\n",
    "decimal = int(binary, 2)\n",
    "decimal"
   ]
  },
  {
   "cell_type": "code",
   "execution_count": 22,
   "id": "d4212424",
   "metadata": {},
   "outputs": [
    {
     "data": {
      "text/plain": [
       "255"
      ]
     },
     "execution_count": 22,
     "metadata": {},
     "output_type": "execute_result"
    }
   ],
   "source": [
    "binary = \"11111111\"\n",
    "decimal = int(binary, 2)\n",
    "decimal"
   ]
  },
  {
   "cell_type": "markdown",
   "id": "033921c6",
   "metadata": {},
   "source": [
    "* The above is <b>unsigned</b> as the range is 0 to 255\n",
    "\n",
    "* As you can see in the diagram, a <b>signed</b> byte would be -127 to 128"
   ]
  },
  {
   "cell_type": "markdown",
   "id": "c23b70c8",
   "metadata": {},
   "source": [
    "## 1.5 Signed vs unsigned \n",
    "\n",
    "* The diagram below shows the contrast between signed and unsigned ranges: \n",
    "\n",
    "![signed_unsigned](https://fastbitlab.com/wp-content/uploads/2022/05/Figure-2-1024x544.png)"
   ]
  },
  {
   "cell_type": "code",
   "execution_count": 24,
   "id": "39dcf695",
   "metadata": {},
   "outputs": [
    {
     "name": "stdout",
     "output_type": "stream",
     "text": [
      "<class 'int'>\n",
      "number of bytes: 28\n"
     ]
    }
   ],
   "source": [
    "import sys\n",
    "\n",
    "num = 10\n",
    "print(type(num))\n",
    "print(\"number of bytes:\", sys.getsizeof(num))"
   ]
  },
  {
   "cell_type": "markdown",
   "id": "ec2bd21c",
   "metadata": {},
   "source": [
    "Huh?!\n",
    "\n",
    "  Shouldn't an integer be either 32 bits (4 bytes) or 64 bits (8 bytes)? \n",
    "\n",
    "   <b>Python adds a significant overhead of bytes here</b>"
   ]
  },
  {
   "cell_type": "markdown",
   "id": "e73585cd",
   "metadata": {},
   "source": [
    "## 2.0 Array \n",
    "\n",
    "* The items in an array are called elements.\n",
    "\n",
    "* We specify how many elements an array will have when we declare the size of the array (if ‘fixed-size’), unlike flexible sized collections (e.g. ArrayList in Java).\n",
    "\n",
    "* Elements are numbered and can referred to by number inside the `[ ]` is called the index. This is used when data is input and output.\n",
    "\n",
    "* Can only store data if it matches the type the array is declared with.\n",
    "\n"
   ]
  },
  {
   "cell_type": "markdown",
   "id": "23e525d0",
   "metadata": {},
   "source": [
    "<img src=\"https://scaler.com/topics/images/character-in-character-array.webp\" alt=\"char_array\" width=\"650\"> "
   ]
  },
  {
   "cell_type": "markdown",
   "id": "6a2d6284",
   "metadata": {},
   "source": [
    "* In 'strongly typed languages' such as C, we have to declare up-front how much memory is required:\n",
    "\n",
    "* `char name[5] = {'N', 'i', 'c', 'k', '\\0'}; `\n",
    "\n",
    "* Here, 5 x byte - 4 characters + the null terminator `'\\0'`\n",
    "\n",
    "* Not necessary to allocate memory at declaration with Python. "
   ]
  },
  {
   "cell_type": "code",
   "execution_count": 25,
   "id": "e1f452c5",
   "metadata": {},
   "outputs": [],
   "source": [
    "name = \"Nick\""
   ]
  },
  {
   "cell_type": "code",
   "execution_count": 26,
   "id": "c05e749d",
   "metadata": {},
   "outputs": [
    {
     "name": "stdout",
     "output_type": "stream",
     "text": [
      "N\n",
      "i\n",
      "c\n",
      "k\n"
     ]
    }
   ],
   "source": [
    "for letter in name:\n",
    "    print(letter)"
   ]
  },
  {
   "cell_type": "markdown",
   "id": "f90a4775",
   "metadata": {},
   "source": [
    "## 2.1 ASCII Table (quickly)\n",
    "\n",
    "* How to represent alphanumerics (characters, symbols, numbers, keyboard characters) in decimal format: \n",
    "\n",
    "![ascii_table](https://www.asciitable.com/asciifull.gif)"
   ]
  },
  {
   "cell_type": "code",
   "execution_count": 30,
   "id": "945ef250",
   "metadata": {},
   "outputs": [
    {
     "data": {
      "text/plain": [
       "True"
      ]
     },
     "execution_count": 30,
     "metadata": {},
     "output_type": "execute_result"
    }
   ],
   "source": [
    "'A' == 'A'"
   ]
  },
  {
   "cell_type": "markdown",
   "id": "f6e4981f",
   "metadata": {},
   "source": [
    "* Like `bin()`, the function `ord()` converts a character to its decimal equivalent.\n",
    "\n",
    "* Can also use the `chr()` to convert back to character."
   ]
  },
  {
   "cell_type": "code",
   "execution_count": 28,
   "id": "95fd61d6",
   "metadata": {},
   "outputs": [
    {
     "data": {
      "text/plain": [
       "65"
      ]
     },
     "execution_count": 28,
     "metadata": {},
     "output_type": "execute_result"
    }
   ],
   "source": [
    "ord('A')"
   ]
  },
  {
   "cell_type": "code",
   "execution_count": 29,
   "id": "013dc6b6",
   "metadata": {},
   "outputs": [
    {
     "data": {
      "text/plain": [
       "97"
      ]
     },
     "execution_count": 29,
     "metadata": {},
     "output_type": "execute_result"
    }
   ],
   "source": [
    "ord('a')"
   ]
  },
  {
   "cell_type": "code",
   "execution_count": 30,
   "id": "78cb57d0",
   "metadata": {},
   "outputs": [
    {
     "data": {
      "text/plain": [
       "78"
      ]
     },
     "execution_count": 30,
     "metadata": {},
     "output_type": "execute_result"
    }
   ],
   "source": [
    "ord('N')"
   ]
  },
  {
   "cell_type": "code",
   "execution_count": 31,
   "id": "9e6dc4cd",
   "metadata": {},
   "outputs": [
    {
     "name": "stdout",
     "output_type": "stream",
     "text": [
      "N : 78\n",
      "i : 105\n",
      "c : 99\n",
      "k : 107\n"
     ]
    }
   ],
   "source": [
    "name = \"Nick\"\n",
    "\n",
    "for letter in name:\n",
    "    print(letter, \":\", ord(letter))"
   ]
  },
  {
   "cell_type": "code",
   "execution_count": 43,
   "id": "35a354e4",
   "metadata": {},
   "outputs": [
    {
     "data": {
      "text/plain": [
       "65"
      ]
     },
     "execution_count": 43,
     "metadata": {},
     "output_type": "execute_result"
    }
   ],
   "source": [
    "ord('A')"
   ]
  },
  {
   "cell_type": "code",
   "execution_count": 42,
   "id": "6edad1f7",
   "metadata": {},
   "outputs": [
    {
     "data": {
      "text/plain": [
       "'A'"
      ]
     },
     "execution_count": 42,
     "metadata": {},
     "output_type": "execute_result"
    }
   ],
   "source": [
    "chr(65)"
   ]
  },
  {
   "cell_type": "code",
   "execution_count": 32,
   "id": "a0c89b86",
   "metadata": {},
   "outputs": [
    {
     "data": {
      "text/plain": [
       "'0b1000001'"
      ]
     },
     "execution_count": 32,
     "metadata": {},
     "output_type": "execute_result"
    }
   ],
   "source": [
    "bin(65)"
   ]
  },
  {
   "cell_type": "code",
   "execution_count": 33,
   "id": "b06300f2",
   "metadata": {},
   "outputs": [
    {
     "name": "stdout",
     "output_type": "stream",
     "text": [
      "65 A\n",
      "66 B\n",
      "67 C\n",
      "68 D\n",
      "69 E\n",
      "70 F\n",
      "71 G\n",
      "72 H\n",
      "73 I\n",
      "74 J\n",
      "75 K\n",
      "76 L\n",
      "77 M\n",
      "78 N\n",
      "79 O\n",
      "80 P\n",
      "81 Q\n",
      "82 R\n",
      "83 S\n",
      "84 T\n",
      "85 U\n",
      "86 V\n",
      "87 W\n",
      "88 X\n",
      "89 Y\n",
      "90 Z\n"
     ]
    }
   ],
   "source": [
    "for i in range(65, 91):\n",
    "    print(i, chr(i))"
   ]
  },
  {
   "cell_type": "markdown",
   "id": "79a86422",
   "metadata": {},
   "source": [
    "## 2.2 Strings are an Array (or in Python, an str list)\n",
    "\n",
    "* A String (str) object is an immutable array of characters. \n",
    "\n",
    "* Each character has a numbered position in the array (index):\n",
    "\n",
    "* We can make use of functions to be able to perform operations on the string.\n",
    "\n"
   ]
  },
  {
   "cell_type": "code",
   "execution_count": 34,
   "id": "185b2f1a",
   "metadata": {},
   "outputs": [],
   "source": [
    "name = \"Nick\""
   ]
  },
  {
   "cell_type": "code",
   "execution_count": 35,
   "id": "891b7600",
   "metadata": {},
   "outputs": [
    {
     "name": "stdout",
     "output_type": "stream",
     "text": [
      "[0] : N\n",
      "[1] : i\n",
      "[2] : c\n",
      "[3] : k\n"
     ]
    }
   ],
   "source": [
    "i = 0\n",
    "for x in name: \n",
    "    print(\"[\" + str(i) + \"]\" + \" : \" + str(x))\n",
    "    i += 1"
   ]
  },
  {
   "cell_type": "code",
   "execution_count": 41,
   "id": "a28fc426",
   "metadata": {},
   "outputs": [
    {
     "data": {
      "text/plain": [
       "'k'"
      ]
     },
     "execution_count": 41,
     "metadata": {},
     "output_type": "execute_result"
    }
   ],
   "source": [
    "name[-1]"
   ]
  },
  {
   "cell_type": "code",
   "execution_count": 4,
   "id": "cc8ff8e8",
   "metadata": {},
   "outputs": [
    {
     "data": {
      "text/plain": [
       "'k'"
      ]
     },
     "execution_count": 4,
     "metadata": {},
     "output_type": "execute_result"
    }
   ],
   "source": [
    "name[3]"
   ]
  },
  {
   "cell_type": "code",
   "execution_count": 6,
   "id": "c138f99d",
   "metadata": {},
   "outputs": [
    {
     "data": {
      "text/plain": [
       "str"
      ]
     },
     "execution_count": 6,
     "metadata": {},
     "output_type": "execute_result"
    }
   ],
   "source": [
    "type(name[0])"
   ]
  },
  {
   "cell_type": "code",
   "execution_count": 5,
   "id": "9ed51425",
   "metadata": {},
   "outputs": [
    {
     "name": "stdout",
     "output_type": "stream",
     "text": [
      "<class 'str'>\n"
     ]
    }
   ],
   "source": [
    "print(type(name[0]))"
   ]
  },
  {
   "cell_type": "markdown",
   "id": "2b82c1b7",
   "metadata": {},
   "source": [
    "## 2.3 The `dir` of methods"
   ]
  },
  {
   "cell_type": "code",
   "execution_count": 42,
   "id": "67dc765f",
   "metadata": {},
   "outputs": [
    {
     "data": {
      "text/plain": [
       "['__add__',\n",
       " '__class__',\n",
       " '__contains__',\n",
       " '__delattr__',\n",
       " '__dir__',\n",
       " '__doc__',\n",
       " '__eq__',\n",
       " '__format__',\n",
       " '__ge__',\n",
       " '__getattribute__',\n",
       " '__getitem__',\n",
       " '__getnewargs__',\n",
       " '__gt__',\n",
       " '__hash__',\n",
       " '__init__',\n",
       " '__init_subclass__',\n",
       " '__iter__',\n",
       " '__le__',\n",
       " '__len__',\n",
       " '__lt__',\n",
       " '__mod__',\n",
       " '__mul__',\n",
       " '__ne__',\n",
       " '__new__',\n",
       " '__reduce__',\n",
       " '__reduce_ex__',\n",
       " '__repr__',\n",
       " '__rmod__',\n",
       " '__rmul__',\n",
       " '__setattr__',\n",
       " '__sizeof__',\n",
       " '__str__',\n",
       " '__subclasshook__',\n",
       " 'capitalize',\n",
       " 'casefold',\n",
       " 'center',\n",
       " 'count',\n",
       " 'encode',\n",
       " 'endswith',\n",
       " 'expandtabs',\n",
       " 'find',\n",
       " 'format',\n",
       " 'format_map',\n",
       " 'index',\n",
       " 'isalnum',\n",
       " 'isalpha',\n",
       " 'isascii',\n",
       " 'isdecimal',\n",
       " 'isdigit',\n",
       " 'isidentifier',\n",
       " 'islower',\n",
       " 'isnumeric',\n",
       " 'isprintable',\n",
       " 'isspace',\n",
       " 'istitle',\n",
       " 'isupper',\n",
       " 'join',\n",
       " 'ljust',\n",
       " 'lower',\n",
       " 'lstrip',\n",
       " 'maketrans',\n",
       " 'partition',\n",
       " 'removeprefix',\n",
       " 'removesuffix',\n",
       " 'replace',\n",
       " 'rfind',\n",
       " 'rindex',\n",
       " 'rjust',\n",
       " 'rpartition',\n",
       " 'rsplit',\n",
       " 'rstrip',\n",
       " 'split',\n",
       " 'splitlines',\n",
       " 'startswith',\n",
       " 'strip',\n",
       " 'swapcase',\n",
       " 'title',\n",
       " 'translate',\n",
       " 'upper',\n",
       " 'zfill']"
      ]
     },
     "execution_count": 42,
     "metadata": {},
     "output_type": "execute_result"
    }
   ],
   "source": [
    "dir(str)"
   ]
  },
  {
   "cell_type": "code",
   "execution_count": 43,
   "id": "2a6c94e5",
   "metadata": {},
   "outputs": [
    {
     "data": {
      "text/plain": [
       "'Nick'"
      ]
     },
     "execution_count": 43,
     "metadata": {},
     "output_type": "execute_result"
    }
   ],
   "source": [
    "name"
   ]
  },
  {
   "cell_type": "code",
   "execution_count": 45,
   "id": "9c4bb1e3",
   "metadata": {},
   "outputs": [
    {
     "data": {
      "text/plain": [
       "'c'"
      ]
     },
     "execution_count": 45,
     "metadata": {},
     "output_type": "execute_result"
    }
   ],
   "source": [
    "name[2]"
   ]
  },
  {
   "cell_type": "code",
   "execution_count": 46,
   "id": "7021809b",
   "metadata": {},
   "outputs": [
    {
     "data": {
      "text/plain": [
       "2"
      ]
     },
     "execution_count": 46,
     "metadata": {},
     "output_type": "execute_result"
    }
   ],
   "source": [
    "name.find('c')"
   ]
  },
  {
   "cell_type": "code",
   "execution_count": 48,
   "id": "2aa2ab17",
   "metadata": {},
   "outputs": [
    {
     "data": {
      "text/plain": [
       "-1"
      ]
     },
     "execution_count": 48,
     "metadata": {},
     "output_type": "execute_result"
    }
   ],
   "source": [
    "name.find('C')"
   ]
  },
  {
   "cell_type": "code",
   "execution_count": 50,
   "id": "80eb0f7e",
   "metadata": {},
   "outputs": [
    {
     "data": {
      "text/plain": [
       "99"
      ]
     },
     "execution_count": 50,
     "metadata": {},
     "output_type": "execute_result"
    }
   ],
   "source": [
    "ord('c')"
   ]
  },
  {
   "cell_type": "code",
   "execution_count": 51,
   "id": "93dc58c4",
   "metadata": {},
   "outputs": [
    {
     "data": {
      "text/plain": [
       "'nick'"
      ]
     },
     "execution_count": 51,
     "metadata": {},
     "output_type": "execute_result"
    }
   ],
   "source": [
    "name.lower()"
   ]
  },
  {
   "cell_type": "code",
   "execution_count": 52,
   "id": "9a364bee",
   "metadata": {},
   "outputs": [
    {
     "data": {
      "text/plain": [
       "'NICK'"
      ]
     },
     "execution_count": 52,
     "metadata": {},
     "output_type": "execute_result"
    }
   ],
   "source": [
    "name.upper()"
   ]
  },
  {
   "cell_type": "markdown",
   "id": "2a9e354f",
   "metadata": {},
   "source": [
    "## 3. Python Lists `[ ]`\n",
    "\n",
    "* A list in Python does use the subscript operator `[ ]` typically associated with an array. Elements in this list are also indexed.\n",
    "\n",
    "* The list will maintain a pointer (reference) to objects, rather the integer values (remember Python types are classes).\n",
    "\n",
    "* Lists in python are resizable, unlike static arrays which are fixed.\n",
    "\n",
    "* Python lists can store elements of different types, whereas arrays are declared to store values of one type.\n"
   ]
  },
  {
   "cell_type": "code",
   "execution_count": 53,
   "id": "9045400c",
   "metadata": {},
   "outputs": [
    {
     "data": {
      "text/plain": [
       "[1, 2.25, 'Nick', 'N', True]"
      ]
     },
     "execution_count": 53,
     "metadata": {},
     "output_type": "execute_result"
    }
   ],
   "source": [
    "l = [1,2.25,\"Nick\",\"N\",True]\n",
    "l"
   ]
  },
  {
   "cell_type": "code",
   "execution_count": 58,
   "id": "0e8744b8",
   "metadata": {},
   "outputs": [
    {
     "data": {
      "text/plain": [
       "1"
      ]
     },
     "execution_count": 58,
     "metadata": {},
     "output_type": "execute_result"
    }
   ],
   "source": [
    "l[0]"
   ]
  },
  {
   "cell_type": "code",
   "execution_count": 56,
   "id": "33926c89",
   "metadata": {},
   "outputs": [
    {
     "data": {
      "text/plain": [
       "5"
      ]
     },
     "execution_count": 56,
     "metadata": {},
     "output_type": "execute_result"
    }
   ],
   "source": [
    "len(l)"
   ]
  },
  {
   "cell_type": "code",
   "execution_count": 89,
   "id": "c7ad067e",
   "metadata": {},
   "outputs": [
    {
     "data": {
      "text/plain": [
       "[1, 2, 3, 4, 5, 6]"
      ]
     },
     "execution_count": 89,
     "metadata": {},
     "output_type": "execute_result"
    }
   ],
   "source": [
    "l = [1,2,3,4,5,6]\n",
    "l"
   ]
  },
  {
   "cell_type": "code",
   "execution_count": 60,
   "id": "55fe606b",
   "metadata": {},
   "outputs": [
    {
     "data": {
      "text/plain": [
       "1"
      ]
     },
     "execution_count": 60,
     "metadata": {},
     "output_type": "execute_result"
    }
   ],
   "source": [
    "l[0]"
   ]
  },
  {
   "cell_type": "code",
   "execution_count": 61,
   "id": "c972039a",
   "metadata": {},
   "outputs": [
    {
     "data": {
      "text/plain": [
       "6"
      ]
     },
     "execution_count": 61,
     "metadata": {},
     "output_type": "execute_result"
    }
   ],
   "source": [
    "l[-1]"
   ]
  },
  {
   "cell_type": "code",
   "execution_count": 62,
   "id": "a6e5eeb9",
   "metadata": {},
   "outputs": [
    {
     "data": {
      "text/plain": [
       "5"
      ]
     },
     "execution_count": 62,
     "metadata": {},
     "output_type": "execute_result"
    }
   ],
   "source": [
    "l[-2]"
   ]
  },
  {
   "cell_type": "code",
   "execution_count": 63,
   "id": "ee446907",
   "metadata": {},
   "outputs": [
    {
     "data": {
      "text/plain": [
       "[1, 2, 3, 4, 5, 6]"
      ]
     },
     "execution_count": 63,
     "metadata": {},
     "output_type": "execute_result"
    }
   ],
   "source": [
    "l"
   ]
  },
  {
   "cell_type": "code",
   "execution_count": 67,
   "id": "78df89ed",
   "metadata": {},
   "outputs": [
    {
     "data": {
      "text/plain": [
       "[3, 4]"
      ]
     },
     "execution_count": 67,
     "metadata": {},
     "output_type": "execute_result"
    }
   ],
   "source": [
    "l[2:4]"
   ]
  },
  {
   "cell_type": "code",
   "execution_count": 68,
   "id": "8a3bb35c",
   "metadata": {},
   "outputs": [
    {
     "data": {
      "text/plain": [
       "str"
      ]
     },
     "execution_count": 68,
     "metadata": {},
     "output_type": "execute_result"
    }
   ],
   "source": [
    "type(name)"
   ]
  },
  {
   "cell_type": "code",
   "execution_count": 69,
   "id": "a12c8033",
   "metadata": {},
   "outputs": [
    {
     "data": {
      "text/plain": [
       "list"
      ]
     },
     "execution_count": 69,
     "metadata": {},
     "output_type": "execute_result"
    }
   ],
   "source": [
    "type(l)"
   ]
  },
  {
   "cell_type": "code",
   "execution_count": 70,
   "id": "f0223eb3",
   "metadata": {},
   "outputs": [
    {
     "data": {
      "text/plain": [
       "['__add__',\n",
       " '__class__',\n",
       " '__class_getitem__',\n",
       " '__contains__',\n",
       " '__delattr__',\n",
       " '__delitem__',\n",
       " '__dir__',\n",
       " '__doc__',\n",
       " '__eq__',\n",
       " '__format__',\n",
       " '__ge__',\n",
       " '__getattribute__',\n",
       " '__getitem__',\n",
       " '__gt__',\n",
       " '__hash__',\n",
       " '__iadd__',\n",
       " '__imul__',\n",
       " '__init__',\n",
       " '__init_subclass__',\n",
       " '__iter__',\n",
       " '__le__',\n",
       " '__len__',\n",
       " '__lt__',\n",
       " '__mul__',\n",
       " '__ne__',\n",
       " '__new__',\n",
       " '__reduce__',\n",
       " '__reduce_ex__',\n",
       " '__repr__',\n",
       " '__reversed__',\n",
       " '__rmul__',\n",
       " '__setattr__',\n",
       " '__setitem__',\n",
       " '__sizeof__',\n",
       " '__str__',\n",
       " '__subclasshook__',\n",
       " 'append',\n",
       " 'clear',\n",
       " 'copy',\n",
       " 'count',\n",
       " 'extend',\n",
       " 'index',\n",
       " 'insert',\n",
       " 'pop',\n",
       " 'remove',\n",
       " 'reverse',\n",
       " 'sort']"
      ]
     },
     "execution_count": 70,
     "metadata": {},
     "output_type": "execute_result"
    }
   ],
   "source": [
    "dir(list)"
   ]
  },
  {
   "cell_type": "code",
   "execution_count": 90,
   "id": "3f0aba95",
   "metadata": {},
   "outputs": [
    {
     "data": {
      "text/plain": [
       "[1, 2, 3, 4, 5, 6]"
      ]
     },
     "execution_count": 90,
     "metadata": {},
     "output_type": "execute_result"
    }
   ],
   "source": [
    "l"
   ]
  },
  {
   "cell_type": "code",
   "execution_count": 72,
   "id": "734ca2d6",
   "metadata": {},
   "outputs": [
    {
     "data": {
      "text/plain": [
       "[1, 2, 3, 4, 5, 6, 7]"
      ]
     },
     "execution_count": 72,
     "metadata": {},
     "output_type": "execute_result"
    }
   ],
   "source": [
    "l.append(7)\n",
    "l"
   ]
  },
  {
   "cell_type": "code",
   "execution_count": 74,
   "id": "32b84092",
   "metadata": {},
   "outputs": [],
   "source": [
    "l = [7,1,2,3,4,5,6]"
   ]
  },
  {
   "cell_type": "code",
   "execution_count": 75,
   "id": "5fc103ca",
   "metadata": {},
   "outputs": [
    {
     "data": {
      "text/plain": [
       "[1, 2, 3, 4, 5, 6]"
      ]
     },
     "execution_count": 75,
     "metadata": {},
     "output_type": "execute_result"
    }
   ],
   "source": [
    "l.remove(7)\n",
    "l"
   ]
  },
  {
   "cell_type": "code",
   "execution_count": 91,
   "id": "86683d6d",
   "metadata": {},
   "outputs": [
    {
     "data": {
      "text/plain": [
       "[1, 2, 3, 4, 5, 6]"
      ]
     },
     "execution_count": 91,
     "metadata": {},
     "output_type": "execute_result"
    }
   ],
   "source": [
    "l.sort()\n",
    "l"
   ]
  },
  {
   "cell_type": "code",
   "execution_count": null,
   "id": "e60da9e4",
   "metadata": {},
   "outputs": [
    {
     "data": {
      "text/plain": [
       "[6, 5, 4, 3, 2, 1]"
      ]
     },
     "execution_count": 93,
     "metadata": {},
     "output_type": "execute_result"
    }
   ],
   "source": [
    "l.sort(reverse=True)\n",
    "l"
   ]
  },
  {
   "cell_type": "markdown",
   "id": "b2543d9e",
   "metadata": {},
   "source": [
    "## 3.1 List comprehension\n",
    "\n",
    "* We saw iteration via the `for...in...` and `while` loop in the previous notebook. \n",
    "\n",
    "* List comprehension provides a concise way to create lists in a single line\n",
    "\n",
    "* Combine loops and optional conditions into a compact expression\n",
    "\n",
    "* Often faster (but arguably less readable?)\n",
    "\n",
    "` [expression for item in iterable if condition] `"
   ]
  },
  {
   "cell_type": "markdown",
   "id": "58f2e3fa",
   "metadata": {},
   "source": [
    "Iteratively: "
   ]
  },
  {
   "cell_type": "code",
   "execution_count": 76,
   "id": "ee295cfb",
   "metadata": {},
   "outputs": [],
   "source": [
    "squares = []\n",
    "for x in range(11):\n",
    "    if x % 2 == 0: \n",
    "        squares.append(x**2)"
   ]
  },
  {
   "cell_type": "code",
   "execution_count": 77,
   "id": "a4773810",
   "metadata": {},
   "outputs": [
    {
     "data": {
      "text/plain": [
       "[0, 4, 16, 36, 64, 100]"
      ]
     },
     "execution_count": 77,
     "metadata": {},
     "output_type": "execute_result"
    }
   ],
   "source": [
    "squares"
   ]
  },
  {
   "cell_type": "markdown",
   "id": "131a88af",
   "metadata": {},
   "source": [
    "Re-ordered using list comprehension:"
   ]
  },
  {
   "cell_type": "code",
   "execution_count": 9,
   "id": "d6f06fbd",
   "metadata": {},
   "outputs": [
    {
     "data": {
      "text/plain": [
       "[0, 4, 16, 36, 64, 100]"
      ]
     },
     "execution_count": 9,
     "metadata": {},
     "output_type": "execute_result"
    }
   ],
   "source": [
    "squares = [x**2 for x in range(11) if x % 2 == 0]\n",
    "squares"
   ]
  },
  {
   "cell_type": "markdown",
   "id": "fbcc593e",
   "metadata": {},
   "source": [
    "## 3.2 Numpy Arrays\n",
    "\n",
    "![numpy_logo](https://upload.wikimedia.org/wikipedia/commons/thumb/3/31/NumPy_logo_2020.svg/320px-NumPy_logo_2020.svg.png)\n",
    "* Numerical Python (NumPy) is a package full of methods that can perform useful operations on data.  \n",
    "\n",
    "* NumPy provides a convenient API (Application Programmable Interface) that provides a way to ‘interface’ with / operate on data. \n",
    "\n",
    "* It reintroduces types which is more coding but more efficient way to search/sort/store data than the ‘loosely’ typed nature of Python that we’ve seen so far. \n",
    "\n",
    "* More documentation available at: https://numpy.org "
   ]
  },
  {
   "cell_type": "markdown",
   "id": "3369da09",
   "metadata": {},
   "source": [
    "## 3.2.1 Numpy Arrays vs Python List\n",
    "\n",
    "* NumPy arrays are different to Python Lists. \n",
    "\n",
    "* NumPy arrays reintroduce the ‘typed’ nature of more ‘verbose’ languages (C, C++, Java), where everything is explicitly typed. \n",
    "\n",
    "* NumPy arrays operate like arrays from C and Java where they declared to store data of one type (only integers), unlike Python and JS, which can store data of different types. \n",
    "\n",
    "* NumPy arrays therefore data is ‘cast’ – floating point numbers to integers, or in some cases – an error is produced (strings to integers)."
   ]
  },
  {
   "cell_type": "code",
   "execution_count": 12,
   "id": "936bfb3b",
   "metadata": {},
   "outputs": [],
   "source": [
    "import numpy as np"
   ]
  },
  {
   "cell_type": "code",
   "execution_count": 56,
   "id": "94b0132f",
   "metadata": {},
   "outputs": [
    {
     "data": {
      "text/plain": [
       "array([3.14, 2.  , 3.  , 4.  , 5.  ])"
      ]
     },
     "execution_count": 56,
     "metadata": {},
     "output_type": "execute_result"
    }
   ],
   "source": [
    "numpy_arr = np.array([3.14,2,3,4,5]) \n",
    "numpy_arr"
   ]
  },
  {
   "cell_type": "code",
   "execution_count": 57,
   "id": "0711259b",
   "metadata": {},
   "outputs": [
    {
     "data": {
      "text/plain": [
       "[0, 1.0, 'N', True]"
      ]
     },
     "execution_count": 57,
     "metadata": {},
     "output_type": "execute_result"
    }
   ],
   "source": [
    "py_list = [0, 1.0, \"N\", True]\n",
    "py_list"
   ]
  },
  {
   "cell_type": "code",
   "execution_count": 58,
   "id": "d23d69b6",
   "metadata": {},
   "outputs": [
    {
     "data": {
      "text/plain": [
       "dtype('float64')"
      ]
     },
     "execution_count": 58,
     "metadata": {},
     "output_type": "execute_result"
    }
   ],
   "source": [
    "numpy_arr[3].dtype"
   ]
  },
  {
   "cell_type": "markdown",
   "id": "e593c312",
   "metadata": {},
   "source": [
    "How many bytes is 64-bits? "
   ]
  },
  {
   "cell_type": "code",
   "execution_count": 59,
   "id": "4aff6525",
   "metadata": {},
   "outputs": [
    {
     "name": "stdout",
     "output_type": "stream",
     "text": [
      "3.14 : 8\n",
      "2.0 : 8\n",
      "3.0 : 8\n",
      "4.0 : 8\n",
      "5.0 : 8\n"
     ]
    }
   ],
   "source": [
    "i = 0\n",
    "for x in numpy_arr:\n",
    "    print(x, \":\", numpy_arr[i].nbytes)\n",
    "    i += 1"
   ]
  },
  {
   "cell_type": "code",
   "execution_count": 61,
   "id": "f729aec1",
   "metadata": {},
   "outputs": [
    {
     "data": {
      "text/plain": [
       "array([1., 2., 3.], dtype=float32)"
      ]
     },
     "execution_count": 61,
     "metadata": {},
     "output_type": "execute_result"
    }
   ],
   "source": [
    "numpy_arr = np.array([1,2,3],dtype='float32')\n",
    "numpy_arr\n"
   ]
  },
  {
   "cell_type": "code",
   "execution_count": 62,
   "id": "a5dd3b51",
   "metadata": {},
   "outputs": [
    {
     "data": {
      "text/plain": [
       "dtype('float32')"
      ]
     },
     "execution_count": 62,
     "metadata": {},
     "output_type": "execute_result"
    }
   ],
   "source": [
    "numpy_arr[0].dtype"
   ]
  },
  {
   "cell_type": "markdown",
   "id": "684334d9",
   "metadata": {},
   "source": [
    "How many bytes? "
   ]
  },
  {
   "cell_type": "code",
   "execution_count": 63,
   "id": "bc7ea447",
   "metadata": {},
   "outputs": [
    {
     "name": "stdout",
     "output_type": "stream",
     "text": [
      "1.0 : 4\n",
      "2.0 : 4\n",
      "3.0 : 4\n"
     ]
    }
   ],
   "source": [
    "i = 0\n",
    "for x in numpy_arr:\n",
    "    print(x, \":\", numpy_arr[i].nbytes)\n",
    "    i += 1"
   ]
  },
  {
   "cell_type": "markdown",
   "id": "9b6ced46",
   "metadata": {},
   "source": [
    "## 4. Tuples in Python `( )`\n",
    "\n",
    "* We’ve seen that a Python list is indexed and can store elements of different types (heterogeneity) \n",
    "\n",
    "* Tuples are constant (immutable) – once they are declared, they cannot be reassigned. \n",
    "\n",
    "* A list is declared with `[ ]` whereas the tuple is declared with `( )`\n",
    "\n",
    "* We can still refer to elements in a tuple via the `[ ]` \n"
   ]
  },
  {
   "cell_type": "code",
   "execution_count": 78,
   "id": "c7c55820",
   "metadata": {},
   "outputs": [],
   "source": [
    "l = []"
   ]
  },
  {
   "cell_type": "code",
   "execution_count": 79,
   "id": "5c1eb4d8",
   "metadata": {},
   "outputs": [
    {
     "data": {
      "text/plain": [
       "(1, 2, 3, 4, 5, 6)"
      ]
     },
     "execution_count": 79,
     "metadata": {},
     "output_type": "execute_result"
    }
   ],
   "source": [
    "t = (1,2,3,4,5,6)\n",
    "t"
   ]
  },
  {
   "cell_type": "code",
   "execution_count": 80,
   "id": "5f9a7f4d",
   "metadata": {},
   "outputs": [
    {
     "data": {
      "text/plain": [
       "1"
      ]
     },
     "execution_count": 80,
     "metadata": {},
     "output_type": "execute_result"
    }
   ],
   "source": [
    "t[0]"
   ]
  },
  {
   "cell_type": "code",
   "execution_count": 81,
   "id": "effe2260",
   "metadata": {},
   "outputs": [
    {
     "ename": "TypeError",
     "evalue": "'tuple' object does not support item assignment",
     "output_type": "error",
     "traceback": [
      "\u001b[0;31m---------------------------------------------------------------------------\u001b[0m",
      "\u001b[0;31mTypeError\u001b[0m                                 Traceback (most recent call last)",
      "Cell \u001b[0;32mIn [81], line 1\u001b[0m\n\u001b[0;32m----> 1\u001b[0m t[\u001b[38;5;241m0\u001b[39m] \u001b[38;5;241m=\u001b[39m \u001b[38;5;241m5\u001b[39m\n",
      "\u001b[0;31mTypeError\u001b[0m: 'tuple' object does not support item assignment"
     ]
    }
   ],
   "source": [
    "t[0] = 5"
   ]
  },
  {
   "cell_type": "code",
   "execution_count": 82,
   "id": "79f7e94f",
   "metadata": {},
   "outputs": [
    {
     "data": {
      "text/plain": [
       "tuple"
      ]
     },
     "execution_count": 82,
     "metadata": {},
     "output_type": "execute_result"
    }
   ],
   "source": [
    "type(t)"
   ]
  },
  {
   "cell_type": "code",
   "execution_count": null,
   "id": "1f7936fb",
   "metadata": {},
   "outputs": [],
   "source": [
    "dir(tuple)"
   ]
  },
  {
   "cell_type": "code",
   "execution_count": 83,
   "id": "e33b316f",
   "metadata": {},
   "outputs": [],
   "source": [
    "t1 = (1,1,1,1,1,1,1,1,2,2,2,2,2,2,2,2,3,3,3,3,3,3)"
   ]
  },
  {
   "cell_type": "code",
   "execution_count": 84,
   "id": "7f3797bc",
   "metadata": {},
   "outputs": [
    {
     "data": {
      "text/plain": [
       "6"
      ]
     },
     "execution_count": 84,
     "metadata": {},
     "output_type": "execute_result"
    }
   ],
   "source": [
    "t1.count(3)"
   ]
  },
  {
   "cell_type": "code",
   "execution_count": 85,
   "id": "698b5fa8",
   "metadata": {},
   "outputs": [
    {
     "data": {
      "text/plain": [
       "4"
      ]
     },
     "execution_count": 85,
     "metadata": {},
     "output_type": "execute_result"
    }
   ],
   "source": [
    "t.index(5)"
   ]
  },
  {
   "cell_type": "markdown",
   "id": "2cf034f4",
   "metadata": {},
   "source": [
    "## Summary of Tuples vs Lists \n",
    "\n",
    "* Tuples are immutable (constant) – once they are declared, they cannot be reassigned. \n",
    "\n",
    "* A list is mutable – elements can be reassigned. \n",
    "\n",
    "* A list is declared with `[ ]` whereas the tuple is declared with `( )`\n",
    "\n",
    "* We can refer to elements in both a list and tuple via the `[ ]` \n",
    "\n",
    "* You can distinguish between the key collections by the pairs of brackets used: \n",
    "\n",
    "| Structure | Brackets | Characteristics |\n",
    "| ----------- | ----------- | --------- |\n",
    "| Lists |\t`[ , ]` | mutable |\n",
    "| Tuples |\t`( , )` | immutable | \n"
   ]
  },
  {
   "cell_type": "markdown",
   "id": "dd38cc99",
   "metadata": {
    "id": "dd38cc99"
   },
   "source": [
    "#### This Jupyter Notebook contains exercises for you to extend your introduction to OOP, by creating lists, tuples, sets, dictionaries of objects. Attempt the following exercises, which slowly build in complexity. If you get stuck, check back to the <a href = \"https://www.youtube.com/watch?v=359eGFD7hS4\"> Python lecture recording on Data Structures here</a> or view the <a href = \"https://www.w3schools.com/python/python_lists.asp\">W3Schools page on Python Variables</a>, which includes examples, exercises and quizzes to help your understanding. "
   ]
  },
  {
   "cell_type": "markdown",
   "id": "12a4fcc2",
   "metadata": {},
   "source": [
    "### Exercise 1: \n",
    "\n",
    "Write your name as a string, and print out the last character of your name. Is there a convenient way to get to the last character of a `list`?\n",
    "\n",
    "Extension: Can you write a loop to print out all letters of your name on a separate line?\n",
    "\n",
    "Extension: Can you use Python to write your name in binary (base-2)?"
   ]
  },
  {
   "cell_type": "code",
   "execution_count": null,
   "id": "245bd97d",
   "metadata": {},
   "outputs": [],
   "source": [
    "# Write your solution here\n"
   ]
  },
  {
   "cell_type": "markdown",
   "id": "6e5075e1",
   "metadata": {
    "id": "6e5075e1"
   },
   "source": [
    "### Exercise 2:\n",
    "Create a Python `list` that stores the numbers 1-10 in indivdual elements. Then print out the contents of the `list` to check the values have been stored correctly.\n",
    "\n",
    "Extension: Can you write a function which will add up all the numbers in the list and print the total? \n",
    "\n",
    "Extension: How much memory does this list take up? Can you use Python to calculate the total size in memory? "
   ]
  },
  {
   "cell_type": "code",
   "execution_count": null,
   "id": "1c93996b",
   "metadata": {
    "id": "1c93996b",
    "outputId": "fc2acb5f-64bd-48f2-9659-ddbc761958a4",
    "scrolled": false
   },
   "outputs": [],
   "source": [
    "# Write your solution here\n"
   ]
  },
  {
   "cell_type": "markdown",
   "id": "0944e60a",
   "metadata": {},
   "source": [
    "### Exercise 3: \n",
    "\n",
    "Create a function which will return the first value of a `list` passed in. Also create another function which will return the last value of a `list` passed in. Code these functions so they work with any length of a `list`. \n",
    "\n",
    "Question: Which `list` function will return the length of a `list`?"
   ]
  },
  {
   "cell_type": "code",
   "execution_count": null,
   "id": "d8b9aca3",
   "metadata": {},
   "outputs": [],
   "source": [
    "def get_first():\n",
    "    ... # Write your solution here."
   ]
  },
  {
   "cell_type": "code",
   "execution_count": null,
   "id": "a454e8fb",
   "metadata": {},
   "outputs": [],
   "source": [
    "def get_last():\n",
    "    ... # Write your solution here."
   ]
  },
  {
   "cell_type": "code",
   "execution_count": null,
   "id": "f6500a77",
   "metadata": {},
   "outputs": [],
   "source": [
    "l = ...\n",
    "print(\"list: \", l)\n",
    "print(\"first value:\", get_first(l))\n",
    "print(\"last value:\", get_last(l))"
   ]
  },
  {
   "cell_type": "markdown",
   "id": "d2e6731c",
   "metadata": {},
   "source": [
    "### Exercise 4: \n",
    "\n",
    "For the code below, rewrite this using list comprehension. \n",
    "\n"
   ]
  },
  {
   "cell_type": "code",
   "execution_count": 16,
   "id": "21640786",
   "metadata": {},
   "outputs": [
    {
     "name": "stdout",
     "output_type": "stream",
     "text": [
      "[4, 3, 6, 6, 6, 7, 5]\n"
     ]
    }
   ],
   "source": [
    "names = [\"nick\", \"sam\", \"andrew\", \"claire\", \"amelia\", \"charlie\", \"robin\"]\n",
    "\n",
    "name_lengths = []\n",
    "for name in names:\n",
    "    name_lengths.append(len(name))\n",
    "\n",
    "print(name_lengths)"
   ]
  },
  {
   "cell_type": "code",
   "execution_count": null,
   "id": "652ef5ab",
   "metadata": {},
   "outputs": [
    {
     "data": {
      "text/plain": [
       "[4, 3, 6, 6, 6, 7, 5]"
      ]
     },
     "execution_count": 18,
     "metadata": {},
     "output_type": "execute_result"
    }
   ],
   "source": [
    "name_lengths = [...] # re-order the components above in list comprehension format\n",
    "name_lengths"
   ]
  },
  {
   "cell_type": "markdown",
   "id": "e2fccebf",
   "metadata": {},
   "source": [
    "### Exercise 5: \n",
    "\n",
    "Consider the given `tuple` below. Is there a function you can call to return the `count` of the value `6`?\n",
    "\n",
    "Extension: Now create your own function which will return the count of any value contained in a tuple.\n",
    "\n",
    "Extension: Extend this function to work with either lists or tuples. \n",
    "\n",
    "Extension: Write a function which will return all the index positions of the values being counted."
   ]
  },
  {
   "cell_type": "code",
   "execution_count": 19,
   "id": "62d20dee",
   "metadata": {},
   "outputs": [],
   "source": [
    "t = (1,2,3,4,5,6,4,5,6,7,8,9,1,2,3,7,8,9,4,5,6)\n",
    "\n",
    "# Write your solution here"
   ]
  },
  {
   "cell_type": "markdown",
   "id": "09984c4a",
   "metadata": {},
   "source": [
    "Question: Why does the following code not work? "
   ]
  },
  {
   "cell_type": "code",
   "execution_count": 22,
   "id": "02215672",
   "metadata": {},
   "outputs": [
    {
     "ename": "AttributeError",
     "evalue": "'tuple' object has no attribute 'append'",
     "output_type": "error",
     "traceback": [
      "\u001b[0;31m---------------------------------------------------------------------------\u001b[0m",
      "\u001b[0;31mAttributeError\u001b[0m                            Traceback (most recent call last)",
      "Cell \u001b[0;32mIn [22], line 1\u001b[0m\n\u001b[0;32m----> 1\u001b[0m t\u001b[38;5;241m.\u001b[39mappend(\u001b[38;5;241m6\u001b[39m)\n",
      "\u001b[0;31mAttributeError\u001b[0m: 'tuple' object has no attribute 'append'"
     ]
    }
   ],
   "source": [
    "t.append(6)"
   ]
  },
  {
   "cell_type": "markdown",
   "id": "c76976fd",
   "metadata": {},
   "source": [
    "### Exercise 6:\n",
    "\n",
    "Write a function which will square (raise to the power of 2) the contents of a list of values passed in. Test this works by passing in a list of numbers. \n",
    "\n",
    "Extension: Re-write your solution to use list comprehension.\n",
    "\n",
    "Extension: Re-write your square function to be a `power` function, which can raise any number to any power. \n",
    "\n",
    "Extension: What happens if the values in a list are not `ints` or `floats`? What happens if you supply `strs` or `bools`?"
   ]
  },
  {
   "cell_type": "code",
   "execution_count": null,
   "id": "8361ab2a",
   "metadata": {},
   "outputs": [],
   "source": [
    "def square():\n",
    "    ... # Write your solution here"
   ]
  },
  {
   "cell_type": "code",
   "execution_count": null,
   "id": "7889352e",
   "metadata": {},
   "outputs": [],
   "source": [
    "# Sample list, but test with others too.\n",
    "l = [-5,-4,-3,-2,-1,0,1,2,3,4,5]\n"
   ]
  },
  {
   "cell_type": "markdown",
   "id": "200fb490",
   "metadata": {},
   "source": [
    "### Exercise 7: \n",
    "\n",
    "Write function that will find a middle element of a given `list`. \n",
    "\n",
    "If you had a `list` with an odd number as its length : `[1,2,3,4,5,6,7,8,9]`, then the middle element will have a symmetric halves (four values either side of the middle value 5). \n",
    "\n",
    "For an even number as a length, either return both elements in the middle or round up or down to either side.  \n",
    "\n",
    "Check your function works for a variety of `list` sizes."
   ]
  },
  {
   "cell_type": "code",
   "execution_count": null,
   "id": "593f67e2",
   "metadata": {},
   "outputs": [],
   "source": [
    "# Write your solution here\n"
   ]
  },
  {
   "cell_type": "markdown",
   "id": "fbb5bdfe",
   "metadata": {},
   "source": [
    "### Exercise 8:\n",
    "Write a function that takes in a `lists` of numbers, and returns the number that appears most frequently (the mode). \n",
    "\n",
    "Hint: If you get stuck, try creating a tally of how many times each number appears. Have you `counted` the instances of the same value before?\n",
    "\n",
    "Question: What happens when there is a tie - where two values have the same count? \n"
   ]
  },
  {
   "cell_type": "code",
   "execution_count": null,
   "id": "6f9446d9",
   "metadata": {},
   "outputs": [],
   "source": [
    "def most_frequent(a):\n",
    "    ... #write your solution here\n"
   ]
  },
  {
   "cell_type": "code",
   "execution_count": null,
   "id": "7b8f8087",
   "metadata": {},
   "outputs": [],
   "source": [
    "a = [0,1,3,4,6,3,2,4,1,9,5,6,7,7,1,8,4,0]\n",
    "\n",
    "result = most_frequent(a)\n",
    "result"
   ]
  },
  {
   "cell_type": "markdown",
   "id": "6f22c77a",
   "metadata": {},
   "source": [
    "### Exercise 9: \n",
    "\n",
    "Write a function which will 'unpack' the values of the following `tuple`, and store each inner value as a separate value in a `list`\n",
    "\n"
   ]
  },
  {
   "cell_type": "code",
   "execution_count": 24,
   "id": "2787b65f",
   "metadata": {},
   "outputs": [],
   "source": [
    "tuplex = ((1,2,3), (4,5,6), (7,8,9), (10,11,12), (13,14,15))\n",
    "# Write your solution here"
   ]
  },
  {
   "cell_type": "markdown",
   "id": "da347d9c",
   "metadata": {},
   "source": [
    "### Exercise 10: \n",
    "\n",
    "From the given `list` below, write a block of code which will create two separate `lists`. One `list` should contain all the elements of `str` type, and the other `list` should contain all the elements of `float` type. \n",
    "\n",
    "Extension: If you haven't already, use list comprehension to separate the values. \n",
    "\n",
    "Extension: Sort the strings list in ascending order. \n",
    "\n",
    "Extension: Sort the number list from lowest to highest\n",
    "\n",
    "Extension (requires knowledge of `dictionaries` which is coming up in the next lecture - so perhaps come back to this): Can you can store these separated lists as `values` of corresponding `keys` in a `dictionary`. The `dictionary` should look like this: \n",
    "\n",
    "`gadgets_dict = { str_list : [...], float_list : [...]}`\n"
   ]
  },
  {
   "cell_type": "code",
   "execution_count": 15,
   "id": "f416c8b2",
   "metadata": {},
   "outputs": [
    {
     "data": {
      "text/plain": [
       "['Smartphone',\n",
       " 'Tablet',\n",
       " 250,\n",
       " 'Smartwatch',\n",
       " 179.99,\n",
       " 'Bluetooth Earbuds',\n",
       " 59.5,\n",
       " 'Gaming Console',\n",
       " 499.0,\n",
       " 'Wireless Mouse',\n",
       " 'Mechanical Keyboard']"
      ]
     },
     "execution_count": 15,
     "metadata": {},
     "output_type": "execute_result"
    }
   ],
   "source": [
    "gadgets = [\"Smartphone\", \"Tablet\", 250, \"Smartwatch\", 179.99, \"Bluetooth Earbuds\", 59.50,\n",
    "           \"Gaming Console\", 499.00, \"Wireless Mouse\", \"Mechanical Keyboard\"]\n",
    "gadgets"
   ]
  },
  {
   "cell_type": "code",
   "execution_count": 14,
   "id": "09125392",
   "metadata": {},
   "outputs": [],
   "source": [
    "str_list = [...] # write your solution here.\n",
    "float_list = [...] # write your solution here."
   ]
  },
  {
   "cell_type": "markdown",
   "id": "5861f62c",
   "metadata": {},
   "source": [
    "### (Bonus) Challenge (interview question):\n",
    "\n",
    "You are given a list of integers, and your task is to find the longest subsequence of consecutive integers within the list. A subsequence is a sequence that can be derived from another sequence by deleting some or no elements without changing the order of the remaining elements. \n",
    "\n",
    "Write a Python function to solve this problem. Your function should return the longest consecutive subsequence found in the original list.\n",
    "\n",
    "For example, given the input list: ``` [4, 2, 8, 5, 6, 7, 11, 12, 10]```\n",
    "\n",
    "The longest consecutive subsequence is: ``` [4, 5, 6, 7, 8] ```\n"
   ]
  },
  {
   "cell_type": "code",
   "execution_count": null,
   "id": "ddf7677c",
   "metadata": {
    "id": "ddf7677c"
   },
   "outputs": [],
   "source": [
    "def longest_consecutive_subsequence(numbers):\n",
    "    #write your solution here\n",
    "    ...\n",
    "    #write your solution above\n",
    "\n",
    "\n",
    "numbers = [4, 2, 8, 5, 6, 7, 11, 12, 10]\n",
    "result = longest_consecutive_subsequence(numbers)\n",
    "print(result)  "
   ]
  }
 ],
 "metadata": {
  "colab": {
   "provenance": []
  },
  "kernelspec": {
   "display_name": "Python 3",
   "language": "python",
   "name": "python3"
  },
  "language_info": {
   "codemirror_mode": {
    "name": "ipython",
    "version": 3
   },
   "file_extension": ".py",
   "mimetype": "text/x-python",
   "name": "python",
   "nbconvert_exporter": "python",
   "pygments_lexer": "ipython3",
   "version": "3.9.6"
  }
 },
 "nbformat": 4,
 "nbformat_minor": 5
}
