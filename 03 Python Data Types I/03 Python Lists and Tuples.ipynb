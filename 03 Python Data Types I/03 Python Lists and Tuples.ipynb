{
 "cells": [
  {
   "cell_type": "markdown",
   "id": "1eba3b72",
   "metadata": {
    "id": "1eba3b72"
   },
   "source": [
    "# 03 Python Lists and Tuples\n"
   ]
  },
  {
   "cell_type": "markdown",
   "id": "104769f3",
   "metadata": {},
   "source": [
    "## Plan for the Lecture:\n",
    "\n",
    "1. Concept of a Data Structure\n",
    "\n",
    "2. Array and Strings\n",
    "\n",
    "3. Lists \n",
    "\n",
    "4. Tuples "
   ]
  },
  {
   "cell_type": "markdown",
   "id": "3ec7f7f9",
   "metadata": {},
   "source": [
    "## 1.0 Concept of a Data Structure\n",
    "\n",
    "* Unlike a variable which stores one value at a time, a data structure is built to store a collection of values. \n",
    "\n",
    "* Indexed structures allow for random access (RAM) – can locate an item by the index location. An array and vector allow for this.  \n",
    "\n",
    "* Non-indexed structures (or referenced) structures, on the other hand, are navigated sequentially. For example, a stream of data from the keyboard or from a file, or a linked list in which each node has a pointer the next in the sequence.\n",
    "\n"
   ]
  },
  {
   "cell_type": "markdown",
   "id": "c1b24d4f",
   "metadata": {},
   "source": [
    "## 1.1 Application of Data Structures\n",
    "* There are entire modules (courses) dedicated to this subject.\n",
    "\n",
    "* The performance of typical operations (insert, delete, search and sort) vary across the structures. \n",
    "\n",
    "* Big O notation (complexity): constant, linear, polynomial, linearithmic, quadratic etc. \n",
    "\n",
    "* Path finding algorithms. \n",
    "\n",
    "* Computer vision. \n"
   ]
  },
  {
   "cell_type": "markdown",
   "id": "e73585cd",
   "metadata": {},
   "source": [
    "## 2.0 Array \n",
    "\n",
    "* The items in an array are called elements.\n",
    "\n",
    "* We specify how many elements an array will have when we declare the size of the array (if ‘fixed-size’), unlike flexible sized collections (e.g. ArrayList in Java).\n",
    "\n",
    "* Elements are numbered and can referred to by number inside the `[ ]` is called the index. This is used when data is input and output.\n",
    "\n",
    "* Can only store data if it matches the type the array is declared with.\n",
    "\n"
   ]
  },
  {
   "cell_type": "markdown",
   "id": "23e525d0",
   "metadata": {},
   "source": [
    "![char_array](https://scaler.com/topics/images/character-in-character-array.webp)"
   ]
  },
  {
   "cell_type": "markdown",
   "id": "79a86422",
   "metadata": {},
   "source": [
    "## 2.1 Strings are an Array (or in Python, an str list)\n",
    "\n",
    "* A String (str) object is an immutable array of characters. \n",
    "\n",
    "* Each character has a numbered position in the array (index):\n",
    "\n",
    "* We can make use of functions to be able to perform operations on the string.\n",
    "\n"
   ]
  },
  {
   "cell_type": "code",
   "execution_count": null,
   "id": "185b2f1a",
   "metadata": {},
   "outputs": [],
   "source": [
    "name = \"Nick\""
   ]
  },
  {
   "cell_type": "code",
   "execution_count": null,
   "id": "891b7600",
   "metadata": {},
   "outputs": [],
   "source": [
    "i = 0\n",
    "for x in name: \n",
    "    print(\"[\" + str(i) + \"]\" + \" : \" + str(x))\n",
    "    i += 1"
   ]
  },
  {
   "cell_type": "code",
   "execution_count": null,
   "id": "a28fc426",
   "metadata": {},
   "outputs": [],
   "source": [
    "name[0]"
   ]
  },
  {
   "cell_type": "code",
   "execution_count": null,
   "id": "cc8ff8e8",
   "metadata": {},
   "outputs": [],
   "source": [
    "name[3]"
   ]
  },
  {
   "cell_type": "markdown",
   "id": "2b82c1b7",
   "metadata": {},
   "source": [
    "## 2.2 The `dir` of methods"
   ]
  },
  {
   "cell_type": "code",
   "execution_count": null,
   "id": "67dc765f",
   "metadata": {},
   "outputs": [],
   "source": [
    "dir(str)"
   ]
  },
  {
   "cell_type": "code",
   "execution_count": null,
   "id": "2a6c94e5",
   "metadata": {},
   "outputs": [],
   "source": [
    "name"
   ]
  },
  {
   "cell_type": "code",
   "execution_count": null,
   "id": "7021809b",
   "metadata": {},
   "outputs": [],
   "source": [
    "name.find('c')"
   ]
  },
  {
   "cell_type": "code",
   "execution_count": null,
   "id": "2aa2ab17",
   "metadata": {},
   "outputs": [],
   "source": [
    "name.find('C')"
   ]
  },
  {
   "cell_type": "code",
   "execution_count": null,
   "id": "93dc58c4",
   "metadata": {},
   "outputs": [],
   "source": [
    "name.lower()"
   ]
  },
  {
   "cell_type": "code",
   "execution_count": null,
   "id": "9a364bee",
   "metadata": {},
   "outputs": [],
   "source": [
    "name.upper()"
   ]
  },
  {
   "cell_type": "markdown",
   "id": "2a9e354f",
   "metadata": {},
   "source": [
    "## 3. Lists `[ ]`\n",
    "\n",
    "* A list in Python does use the subscript operator `[ ]` typically associated with an array. Elements in this list are also indexed.\n",
    "\n",
    "* The list will maintain a pointer (reference) to objects, rather the integer values (remember Python types are classes).\n",
    "\n",
    "* Lists in python are resizable, unlike static arrays which are fixed.\n",
    "\n",
    "* Python lists can store elements of different types, whereas arrays are declared to store values of one type.\n"
   ]
  },
  {
   "cell_type": "code",
   "execution_count": null,
   "id": "9045400c",
   "metadata": {},
   "outputs": [],
   "source": [
    "l = [1,2.25,\"Nick\",\"N\",True]\n",
    "l"
   ]
  },
  {
   "cell_type": "code",
   "execution_count": null,
   "id": "0e8744b8",
   "metadata": {},
   "outputs": [],
   "source": [
    "l[5]"
   ]
  },
  {
   "cell_type": "code",
   "execution_count": null,
   "id": "33926c89",
   "metadata": {},
   "outputs": [],
   "source": [
    "len(l)"
   ]
  },
  {
   "cell_type": "code",
   "execution_count": null,
   "id": "c7ad067e",
   "metadata": {},
   "outputs": [],
   "source": [
    "l = [1,2,3,4,5,6]\n",
    "l"
   ]
  },
  {
   "cell_type": "code",
   "execution_count": null,
   "id": "55fe606b",
   "metadata": {},
   "outputs": [],
   "source": [
    "l[0]"
   ]
  },
  {
   "cell_type": "code",
   "execution_count": null,
   "id": "c972039a",
   "metadata": {},
   "outputs": [],
   "source": [
    "l[-1]"
   ]
  },
  {
   "cell_type": "code",
   "execution_count": null,
   "id": "a6e5eeb9",
   "metadata": {},
   "outputs": [],
   "source": [
    "l[-2]"
   ]
  },
  {
   "cell_type": "code",
   "execution_count": null,
   "id": "ee446907",
   "metadata": {},
   "outputs": [],
   "source": [
    "l"
   ]
  },
  {
   "cell_type": "code",
   "execution_count": null,
   "id": "78df89ed",
   "metadata": {},
   "outputs": [],
   "source": [
    "l[2:4]"
   ]
  },
  {
   "cell_type": "code",
   "execution_count": null,
   "id": "8a3bb35c",
   "metadata": {},
   "outputs": [],
   "source": [
    "type(name)"
   ]
  },
  {
   "cell_type": "code",
   "execution_count": null,
   "id": "a12c8033",
   "metadata": {},
   "outputs": [],
   "source": [
    "type(l)"
   ]
  },
  {
   "cell_type": "code",
   "execution_count": null,
   "id": "f0223eb3",
   "metadata": {},
   "outputs": [],
   "source": [
    "dir(list)"
   ]
  },
  {
   "cell_type": "code",
   "execution_count": null,
   "id": "3f0aba95",
   "metadata": {},
   "outputs": [],
   "source": [
    "l"
   ]
  },
  {
   "cell_type": "code",
   "execution_count": null,
   "id": "734ca2d6",
   "metadata": {},
   "outputs": [],
   "source": [
    "l.append(7)\n",
    "l"
   ]
  },
  {
   "cell_type": "code",
   "execution_count": null,
   "id": "5fc103ca",
   "metadata": {},
   "outputs": [],
   "source": [
    "l.remove(7)\n",
    "l"
   ]
  },
  {
   "cell_type": "markdown",
   "id": "9b6ced46",
   "metadata": {},
   "source": [
    "## 4. Tuples in Python `( )`\n",
    "\n",
    "* We’ve seen that a Python list is indexed and can store elements of different types (heterogeneity) \n",
    "\n",
    "* Tuples are constant (immutable) – once they are declared, they cannot be reassigned. \n",
    "\n",
    "* A list is declared with `[ ]` whereas the tuple is declared with `( )`\n",
    "\n",
    "* We can still refer to elements in a tuple via the `[ ]` \n"
   ]
  },
  {
   "cell_type": "code",
   "execution_count": null,
   "id": "c7c55820",
   "metadata": {},
   "outputs": [],
   "source": [
    "l = []"
   ]
  },
  {
   "cell_type": "code",
   "execution_count": null,
   "id": "5c1eb4d8",
   "metadata": {},
   "outputs": [],
   "source": [
    "t = (1,2,3,4,5,6)\n",
    "t"
   ]
  },
  {
   "cell_type": "code",
   "execution_count": null,
   "id": "5f9a7f4d",
   "metadata": {},
   "outputs": [],
   "source": [
    "t[0]"
   ]
  },
  {
   "cell_type": "code",
   "execution_count": null,
   "id": "effe2260",
   "metadata": {},
   "outputs": [],
   "source": [
    "t[0] = 5"
   ]
  },
  {
   "cell_type": "code",
   "execution_count": null,
   "id": "79f7e94f",
   "metadata": {},
   "outputs": [],
   "source": [
    "type(t)"
   ]
  },
  {
   "cell_type": "code",
   "execution_count": null,
   "id": "1f7936fb",
   "metadata": {},
   "outputs": [],
   "source": [
    "dir(tuple)"
   ]
  },
  {
   "cell_type": "code",
   "execution_count": 97,
   "id": "e33b316f",
   "metadata": {},
   "outputs": [],
   "source": [
    "t1 = (1,1,1,1,1,1,1,1,2,2,2,2,2,2,2,2,3,3,3,3,3,3)"
   ]
  },
  {
   "cell_type": "code",
   "execution_count": null,
   "id": "7f3797bc",
   "metadata": {},
   "outputs": [],
   "source": [
    "t1.count(3)"
   ]
  },
  {
   "cell_type": "code",
   "execution_count": null,
   "id": "698b5fa8",
   "metadata": {},
   "outputs": [],
   "source": [
    "t.index(5)"
   ]
  },
  {
   "cell_type": "markdown",
   "id": "2cf034f4",
   "metadata": {},
   "source": [
    "## 4.1 Tuples vs Lists \n",
    "\n",
    "* Tuples are immutable (constant) – once they are declared, they cannot be reassigned. \n",
    "\n",
    "* A list is mutable – elements can be reassigned. \n",
    "\n",
    "* A list is declared with `[ ]` whereas the tuple is declared with `( )`\n",
    "\n",
    "* We can refer to elements in both a list and tuple via the `[ ]` \n"
   ]
  },
  {
   "cell_type": "markdown",
   "id": "7274d3c9",
   "metadata": {},
   "source": [
    "## Summary \n",
    "\n",
    "* You can distinguish between the key collections by the pairs of brackets used: \n",
    "\n",
    "| Structure | Brackets | Characteristics |\n",
    "| ----------- | ----------- | --------- |\n",
    "| Lists |\t`[ , ]` | mutable |\n",
    "| Tuples |\t`( , )` | immutable | \n"
   ]
  },
  {
   "cell_type": "markdown",
   "id": "dd38cc99",
   "metadata": {
    "id": "dd38cc99"
   },
   "source": [
    "#### This Jupyter Notebook contains exercises for you to extend your introduction to OOP, by creating lists, tuples, sets, dictionaries of objects. Attempt the following exercises, which slowly build in complexity. If you get stuck, check back to the <a href = \"https://www.youtube.com/watch?v=359eGFD7hS4\"> Python lecture recording on Data Structures here</a> or view the <a href = \"https://www.w3schools.com/python/python_lists.asp\">W3Schools page on Python Variables</a>, which includes examples, exercises and quizzes to help your understanding. "
   ]
  },
  {
   "cell_type": "markdown",
   "id": "12a4fcc2",
   "metadata": {},
   "source": [
    "### Exercise 1: \n",
    "\n",
    "Write your name as a string, and print out the last character of your name. Is there a convenient way to get to the last character of a `list`?\n",
    "\n",
    "Extension: Can you write a loop to print out all letters of your name on a separate line?"
   ]
  },
  {
   "cell_type": "code",
   "execution_count": null,
   "id": "245bd97d",
   "metadata": {},
   "outputs": [],
   "source": [
    "# Write your solution here\n"
   ]
  },
  {
   "cell_type": "markdown",
   "id": "6e5075e1",
   "metadata": {
    "id": "6e5075e1"
   },
   "source": [
    "### Exercise 2:\n",
    "Create a Python `list` that stores the numbers 1-10 in indivdual elements. Then print out the contents of the `list` to check the values have been stored correctly.\n",
    "\n",
    "Extension: make use of an appropriate `list` method to reverse the order of this `list`."
   ]
  },
  {
   "cell_type": "code",
   "execution_count": null,
   "id": "1c93996b",
   "metadata": {
    "id": "1c93996b",
    "outputId": "fc2acb5f-64bd-48f2-9659-ddbc761958a4",
    "scrolled": false
   },
   "outputs": [],
   "source": [
    "# Write your solution here\n"
   ]
  },
  {
   "cell_type": "markdown",
   "id": "0944e60a",
   "metadata": {},
   "source": [
    "### Exercise 3: \n",
    "\n",
    "Now can you create a function which will return the first and last value of a `list` passed in. Code this function so that it will work with any length of `list`. \n",
    "\n",
    "Question: Which `list` function will return the length of a `list`?"
   ]
  },
  {
   "cell_type": "code",
   "execution_count": null,
   "id": "d8b9aca3",
   "metadata": {},
   "outputs": [],
   "source": [
    "def first_and_last():\n",
    "    ... # Write your solution here."
   ]
  },
  {
   "cell_type": "code",
   "execution_count": null,
   "id": "f6500a77",
   "metadata": {},
   "outputs": [],
   "source": [
    "l = ...\n",
    "first_and_last(l)"
   ]
  },
  {
   "cell_type": "markdown",
   "id": "e2fccebf",
   "metadata": {},
   "source": [
    "### Exercise 4: \n",
    "\n",
    "Consider the given `tuple` below. Is there a function you call to return the `count` of the value `6`?"
   ]
  },
  {
   "cell_type": "code",
   "execution_count": 1,
   "id": "62d20dee",
   "metadata": {},
   "outputs": [],
   "source": [
    "t = (1,2,3,4,5,6,4,5,6,7,8,9,1,2,3,7,8,9,4,5,6)\n",
    "\n",
    "# Write your solution here"
   ]
  },
  {
   "cell_type": "markdown",
   "id": "c76976fd",
   "metadata": {},
   "source": [
    "### Exercise 5:\n",
    "\n",
    "Write a function which will square (raise to the power of 2) the contents of a list of values passed in. Test this works by passing in your list of numbers (1-10) you created in the first exericse.\n",
    "\n",
    "<b>Extension</b>: what happens if the values in a list are not `ints` or `floats`? How would you respond to this event?"
   ]
  },
  {
   "cell_type": "code",
   "execution_count": null,
   "id": "8361ab2a",
   "metadata": {},
   "outputs": [],
   "source": [
    "def square():\n",
    "    ..."
   ]
  },
  {
   "cell_type": "code",
   "execution_count": null,
   "id": "7889352e",
   "metadata": {},
   "outputs": [],
   "source": [
    "# Write your solution here\n"
   ]
  },
  {
   "cell_type": "markdown",
   "id": "200fb490",
   "metadata": {},
   "source": [
    "### Exercise 6: \n",
    "\n",
    "Write function that will find a middle element of a given `list`. \n",
    "\n",
    "If you had a `list` with an odd number as its length : `[1,2,3,4,5,6,7,8,9]`, then the middle element will have a symmetric halves (four values either side of the middle value 5). \n",
    "\n",
    "For an even number as a length, either return both elements in the middle or round up or down to either side.  \n",
    "\n",
    "Check your function works for a variety of `list` sizes."
   ]
  },
  {
   "cell_type": "code",
   "execution_count": null,
   "id": "593f67e2",
   "metadata": {},
   "outputs": [],
   "source": [
    "# Write your solution here\n"
   ]
  },
  {
   "cell_type": "markdown",
   "id": "fbb5bdfe",
   "metadata": {},
   "source": [
    "### Exercise 7:\n",
    "Write a function that takes two `lists` of numbers, and returns the number that appears most frequently across both `lists` (the mode). \n",
    "\n",
    "Hint: if you get stuck, try creating a tally of how many times each number appears. Have you `counted` the instances of the same value before?\n"
   ]
  },
  {
   "cell_type": "code",
   "execution_count": null,
   "id": "6f9446d9",
   "metadata": {},
   "outputs": [],
   "source": [
    "def most_frequent(a, b):\n",
    "    ... #write your solution here\n",
    "\n",
    "a = [0,1,3,4,6,3,2,4,1,9,5,6,7,7,1,8,4,0]\n",
    "b = [7,3,9,6,7,4,2,1,3,9,7,5,1,3,4,2,1,8]\n",
    "\n",
    "result = most_frequent(a, b)\n",
    "result\n"
   ]
  },
  {
   "cell_type": "markdown",
   "id": "5861f62c",
   "metadata": {},
   "source": [
    "### (Bonus) Exercise (in the style of an interview question)\n",
    "\n",
    "You are given a list of integers, and your task is to find the longest subsequence of consecutive integers within the list. A subsequence is a sequence that can be derived from another sequence by deleting some or no elements without changing the order of the remaining elements. \n",
    "\n",
    "Write a Python function to solve this problem. Your function should return the longest consecutive subsequence found in the original list.\n",
    "\n",
    "For example, given the input list: ``` [4, 2, 8, 5, 6, 7, 11, 12, 10]```\n",
    "\n",
    "The longest consecutive subsequence is: ``` [4, 5, 6, 7, 8] ```\n"
   ]
  },
  {
   "cell_type": "code",
   "execution_count": null,
   "id": "ddf7677c",
   "metadata": {
    "id": "ddf7677c"
   },
   "outputs": [],
   "source": [
    "def longest_consecutive_subsequence(numbers):\n",
    "    #write your solution here\n",
    "    ...\n",
    "    #write your solution above\n",
    "\n",
    "\n",
    "numbers = [4, 2, 8, 5, 6, 7, 11, 12, 10]\n",
    "result = longest_consecutive_subsequence(numbers)\n",
    "print(result)  "
   ]
  }
 ],
 "metadata": {
  "colab": {
   "provenance": []
  },
  "kernelspec": {
   "display_name": "Python 3",
   "language": "python",
   "name": "python3"
  },
  "language_info": {
   "codemirror_mode": {
    "name": "ipython",
    "version": 3
   },
   "file_extension": ".py",
   "mimetype": "text/x-python",
   "name": "python",
   "nbconvert_exporter": "python",
   "pygments_lexer": "ipython3",
   "version": "3.9.6"
  }
 },
 "nbformat": 4,
 "nbformat_minor": 5
}
