{
 "cells": [
  {
   "cell_type": "markdown",
   "id": "1eba3b72",
   "metadata": {
    "id": "1eba3b72"
   },
   "source": [
    "# 03 Python Data Structures I - Lists and Tuples\n"
   ]
  },
  {
   "cell_type": "markdown",
   "id": "104769f3",
   "metadata": {},
   "source": [
    "## Plan for the Lecture:\n",
    "\n",
    "1. Concept of a Data Structure\n",
    "\n",
    "2. Array and Strings\n",
    "\n",
    "3. Lists \n",
    "\n",
    "4. Tuples "
   ]
  },
  {
   "cell_type": "markdown",
   "id": "3ec7f7f9",
   "metadata": {},
   "source": [
    "## 1.0 Concept of a Data Structure\n",
    "\n",
    "* Unlike a variable which stores one value at a time, a data structure is built to store a collection of values. \n",
    "\n",
    "* Indexed structures allow for random access (RAM) – can locate an item by the index location. An array and vector allow for this.  \n",
    "\n",
    "* Non-indexed structures (or referenced) structures, on the other hand, are navigated sequentially. For example, a stream of data from the keyboard or from a file, or a linked list in which each node has a pointer the next in the sequence.\n",
    "\n"
   ]
  },
  {
   "cell_type": "code",
   "execution_count": 29,
   "id": "da40c13a",
   "metadata": {},
   "outputs": [],
   "source": [
    "num1 = 10\n",
    "num2 = 20\n",
    "num3 = 30\n",
    "num4 = 40\n",
    "num5 = 50\n",
    "num6 = 60\n",
    "num7 = 70\n",
    "num8 = 80\n",
    "num9 = 90\n",
    "num10 = 100"
   ]
  },
  {
   "cell_type": "markdown",
   "id": "fc60907c",
   "metadata": {},
   "source": [
    "This is a lot of variables... isn't there a better way to <b>collect</b> these values in one place?"
   ]
  },
  {
   "cell_type": "code",
   "execution_count": 40,
   "id": "3e1134be",
   "metadata": {},
   "outputs": [],
   "source": [
    "numbers = [10,20,30,40,50,60,70,80,90,100]"
   ]
  },
  {
   "cell_type": "markdown",
   "id": "c1b24d4f",
   "metadata": {},
   "source": [
    "## 1.1 Application of Data Structures\n",
    "* There are entire modules (courses) dedicated to this subject.\n",
    "\n",
    "* The performance of typical operations (insert, delete, search and sort) vary across the structures. \n",
    "\n",
    "* Big O notation (complexity): constant, linear, polynomial, linearithmic, quadratic etc. \n",
    "\n",
    "* Path finding algorithms. \n",
    "\n",
    "* Computer vision. \n"
   ]
  },
  {
   "cell_type": "markdown",
   "id": "e847e486",
   "metadata": {},
   "source": [
    "## 1.2 Recap on the Data Types we've seen: \n",
    "\n",
    "* `str` = string \n",
    "\n",
    "* `int` = integer\n",
    "\n",
    "* `float` = floating point number\n",
    "\n",
    "* `bool` = boolean (True/False)"
   ]
  },
  {
   "cell_type": "code",
   "execution_count": null,
   "id": "a874c47f",
   "metadata": {},
   "outputs": [],
   "source": [
    "name = \"Nick\""
   ]
  },
  {
   "cell_type": "code",
   "execution_count": null,
   "id": "62ce55be",
   "metadata": {},
   "outputs": [],
   "source": [
    "num = 5"
   ]
  },
  {
   "cell_type": "code",
   "execution_count": null,
   "id": "6f1f4b34",
   "metadata": {},
   "outputs": [],
   "source": [
    "pi = 3.14"
   ]
  },
  {
   "cell_type": "code",
   "execution_count": null,
   "id": "7576339b",
   "metadata": {},
   "outputs": [],
   "source": [
    "is_enrolled = True"
   ]
  },
  {
   "cell_type": "markdown",
   "id": "8d26d6f6",
   "metadata": {},
   "source": [
    "## 1.3 Memory (briefly) - Base-10 to Base-2\n",
    "\n",
    "* We're familiar with base-10 (decimal): 10, 255, 1024 etc\n",
    "\n",
    "* A byte is 8 bits. \n",
    "\n",
    "* Bits (base-2) can be turned on or off. "
   ]
  },
  {
   "cell_type": "markdown",
   "id": "0a247fcd",
   "metadata": {},
   "source": [
    "<img src=\"https://knowthecode.io/wp-content/uploads/2016/10/CS_0100_Understanding_How_a_Computer_Works__1__key10.png\" alt=\"base_2_number_system\" width=\"650\"> "
   ]
  },
  {
   "cell_type": "code",
   "execution_count": 17,
   "id": "d8348413",
   "metadata": {},
   "outputs": [],
   "source": [
    "num = 10 "
   ]
  },
  {
   "cell_type": "markdown",
   "id": "b9885451",
   "metadata": {},
   "source": [
    "Easy way to convert decimal to binary (base-2) in Python is the `bin()` function "
   ]
  },
  {
   "cell_type": "code",
   "execution_count": 19,
   "id": "0fe2a93a",
   "metadata": {},
   "outputs": [
    {
     "data": {
      "text/plain": [
       "'0b1010'"
      ]
     },
     "execution_count": 19,
     "metadata": {},
     "output_type": "execute_result"
    }
   ],
   "source": [
    "bin(num)"
   ]
  },
  {
   "cell_type": "code",
   "execution_count": 20,
   "id": "aec72d8f",
   "metadata": {},
   "outputs": [
    {
     "data": {
      "text/plain": [
       "'1010'"
      ]
     },
     "execution_count": 20,
     "metadata": {},
     "output_type": "execute_result"
    }
   ],
   "source": [
    "bin(num)[2:]"
   ]
  },
  {
   "cell_type": "code",
   "execution_count": 23,
   "id": "3d442d84",
   "metadata": {},
   "outputs": [
    {
     "data": {
      "text/plain": [
       "10"
      ]
     },
     "execution_count": 23,
     "metadata": {},
     "output_type": "execute_result"
    }
   ],
   "source": [
    "binary = \"1010\"\n",
    "decimal = int(binary, 2)\n",
    "decimal"
   ]
  },
  {
   "cell_type": "markdown",
   "id": "adf83158",
   "metadata": {},
   "source": [
    "## 0.2 How Data Types are represented in Memory\n",
    "\n",
    "* These figures below are <b>signed</b> - that means it spreads the range across positive and <b>negative</b> numbers.\n",
    "\n",
    "\n",
    "<img src=\"https://scaler.com/topics/images/data-type-size-based-3.webp\" alt=\"base_2_number_system\" width=\"650\"> "
   ]
  },
  {
   "cell_type": "markdown",
   "id": "0bc6aeb2",
   "metadata": {},
   "source": [
    "What about a boolean? Could this be represented as a single 'bit'?   \n",
    "   0 = False and 1 = True?"
   ]
  },
  {
   "cell_type": "code",
   "execution_count": 25,
   "id": "326b1bec",
   "metadata": {},
   "outputs": [
    {
     "data": {
      "text/plain": [
       "0"
      ]
     },
     "execution_count": 25,
     "metadata": {},
     "output_type": "execute_result"
    }
   ],
   "source": [
    "binary = \"00000000\"\n",
    "decimal = int(binary, 2)\n",
    "decimal"
   ]
  },
  {
   "cell_type": "code",
   "execution_count": 24,
   "id": "d4212424",
   "metadata": {},
   "outputs": [
    {
     "data": {
      "text/plain": [
       "255"
      ]
     },
     "execution_count": 24,
     "metadata": {},
     "output_type": "execute_result"
    }
   ],
   "source": [
    "binary = \"11111111\"\n",
    "decimal = int(binary, 2)\n",
    "decimal"
   ]
  },
  {
   "cell_type": "markdown",
   "id": "033921c6",
   "metadata": {},
   "source": [
    "* The above is <b>unsigned</b> as the range is 0 to 255\n",
    "\n",
    "* As you can see in the diagram, a <b>signed</b> byte would be -127 to 128"
   ]
  },
  {
   "cell_type": "markdown",
   "id": "c23b70c8",
   "metadata": {},
   "source": [
    "## 0.3 Signed vs unsigned \n",
    "\n",
    "* The diagram below shows the contrast between signed and unsigned ranges: \n",
    "\n",
    "![signed_unsigned](https://fastbitlab.com/wp-content/uploads/2022/05/Figure-2-1024x544.png)"
   ]
  },
  {
   "cell_type": "code",
   "execution_count": 39,
   "id": "39dcf695",
   "metadata": {},
   "outputs": [
    {
     "name": "stdout",
     "output_type": "stream",
     "text": [
      "<class 'int'>\n",
      "number of bytes: 28\n"
     ]
    }
   ],
   "source": [
    "import sys\n",
    "\n",
    "num = 10\n",
    "print(type(num))\n",
    "print(\"number of bytes:\", sys.getsizeof(num))"
   ]
  },
  {
   "cell_type": "markdown",
   "id": "ec2bd21c",
   "metadata": {},
   "source": [
    "Huh?!\n",
    "\n",
    "  Shouldn't an integer be either 32 bits (4 bytes) or 64 bits (8 bytes)? \n",
    "\n",
    "   <b>Python adds a significant overhead of bytes here</b>"
   ]
  },
  {
   "cell_type": "markdown",
   "id": "e73585cd",
   "metadata": {},
   "source": [
    "## 2.0 Array \n",
    "\n",
    "* The items in an array are called elements.\n",
    "\n",
    "* We specify how many elements an array will have when we declare the size of the array (if ‘fixed-size’), unlike flexible sized collections (e.g. ArrayList in Java).\n",
    "\n",
    "* Elements are numbered and can referred to by number inside the `[ ]` is called the index. This is used when data is input and output.\n",
    "\n",
    "* Can only store data if it matches the type the array is declared with.\n",
    "\n"
   ]
  },
  {
   "cell_type": "markdown",
   "id": "23e525d0",
   "metadata": {},
   "source": [
    "<img src=\"https://scaler.com/topics/images/character-in-character-array.webp\" alt=\"char_array\" width=\"650\"> "
   ]
  },
  {
   "cell_type": "markdown",
   "id": "6a2d6284",
   "metadata": {},
   "source": [
    "* In 'strongly typed languages' such as C, we have to declare up-front how much memory is required:\n",
    "\n",
    "* `char name[5] = {'N', 'i', 'c', 'k', '\\0'}; `\n",
    "\n",
    "* Here, 5 x byte - 4 characters + the null terminator `'\\0'`\n",
    "\n",
    "* Not necessary to allocate memory at declaration with Python. "
   ]
  },
  {
   "cell_type": "markdown",
   "id": "f90a4775",
   "metadata": {},
   "source": [
    "## ASCII Table (quickly)\n",
    "\n",
    "* How to represent alphanumerics (characters, symbols, numbers, keyboard characters) in decimal format: \n",
    "\n",
    "![ascii_table](https://www.asciitable.com/asciifull.gif)"
   ]
  },
  {
   "cell_type": "markdown",
   "id": "f6e4981f",
   "metadata": {},
   "source": [
    "* Like `bin()`, the function `ord()` converts a character to its decimal equivalent.\n",
    "\n",
    "* Can also use the `chr()` to convert back to character."
   ]
  },
  {
   "cell_type": "code",
   "execution_count": 32,
   "id": "95fd61d6",
   "metadata": {},
   "outputs": [
    {
     "data": {
      "text/plain": [
       "65"
      ]
     },
     "execution_count": 32,
     "metadata": {},
     "output_type": "execute_result"
    }
   ],
   "source": [
    "ord('A')"
   ]
  },
  {
   "cell_type": "code",
   "execution_count": 31,
   "id": "013dc6b6",
   "metadata": {},
   "outputs": [
    {
     "data": {
      "text/plain": [
       "97"
      ]
     },
     "execution_count": 31,
     "metadata": {},
     "output_type": "execute_result"
    }
   ],
   "source": [
    "ord('a')"
   ]
  },
  {
   "cell_type": "code",
   "execution_count": 30,
   "id": "78cb57d0",
   "metadata": {},
   "outputs": [
    {
     "data": {
      "text/plain": [
       "78"
      ]
     },
     "execution_count": 30,
     "metadata": {},
     "output_type": "execute_result"
    }
   ],
   "source": [
    "ord('N')"
   ]
  },
  {
   "cell_type": "code",
   "execution_count": 36,
   "id": "9e6dc4cd",
   "metadata": {},
   "outputs": [
    {
     "name": "stdout",
     "output_type": "stream",
     "text": [
      "N : 78\n",
      "i : 105\n",
      "c : 99\n",
      "k : 107\n"
     ]
    }
   ],
   "source": [
    "name = \"Nick\"\n",
    "\n",
    "for letter in name:\n",
    "    print(letter, \":\", ord(letter))"
   ]
  },
  {
   "cell_type": "code",
   "execution_count": 43,
   "id": "35a354e4",
   "metadata": {},
   "outputs": [
    {
     "data": {
      "text/plain": [
       "65"
      ]
     },
     "execution_count": 43,
     "metadata": {},
     "output_type": "execute_result"
    }
   ],
   "source": [
    "ord('A')"
   ]
  },
  {
   "cell_type": "code",
   "execution_count": 42,
   "id": "6edad1f7",
   "metadata": {},
   "outputs": [
    {
     "data": {
      "text/plain": [
       "'A'"
      ]
     },
     "execution_count": 42,
     "metadata": {},
     "output_type": "execute_result"
    }
   ],
   "source": [
    "chr(65)"
   ]
  },
  {
   "cell_type": "code",
   "execution_count": 44,
   "id": "a0c89b86",
   "metadata": {},
   "outputs": [
    {
     "data": {
      "text/plain": [
       "'0b1000001'"
      ]
     },
     "execution_count": 44,
     "metadata": {},
     "output_type": "execute_result"
    }
   ],
   "source": [
    "bin(65)"
   ]
  },
  {
   "cell_type": "code",
   "execution_count": 47,
   "id": "b06300f2",
   "metadata": {},
   "outputs": [
    {
     "name": "stdout",
     "output_type": "stream",
     "text": [
      "65 A\n",
      "66 B\n",
      "67 C\n",
      "68 D\n",
      "69 E\n",
      "70 F\n",
      "71 G\n",
      "72 H\n",
      "73 I\n",
      "74 J\n",
      "75 K\n",
      "76 L\n",
      "77 M\n",
      "78 N\n",
      "79 O\n",
      "80 P\n",
      "81 Q\n",
      "82 R\n",
      "83 S\n",
      "84 T\n",
      "85 U\n",
      "86 V\n",
      "87 W\n",
      "88 X\n",
      "89 Y\n",
      "90 Z\n"
     ]
    }
   ],
   "source": [
    "for i in range(65, 91):\n",
    "    print(i, chr(i))"
   ]
  },
  {
   "cell_type": "markdown",
   "id": "79a86422",
   "metadata": {},
   "source": [
    "## 2.1 Strings are an Array (or in Python, an str list)\n",
    "\n",
    "* A String (str) object is an immutable array of characters. \n",
    "\n",
    "* Each character has a numbered position in the array (index):\n",
    "\n",
    "* We can make use of functions to be able to perform operations on the string.\n",
    "\n"
   ]
  },
  {
   "cell_type": "code",
   "execution_count": 1,
   "id": "185b2f1a",
   "metadata": {},
   "outputs": [],
   "source": [
    "name = \"Nick\""
   ]
  },
  {
   "cell_type": "code",
   "execution_count": 2,
   "id": "891b7600",
   "metadata": {},
   "outputs": [
    {
     "name": "stdout",
     "output_type": "stream",
     "text": [
      "[0] : N\n",
      "[1] : i\n",
      "[2] : c\n",
      "[3] : k\n"
     ]
    }
   ],
   "source": [
    "i = 0\n",
    "for x in name: \n",
    "    print(\"[\" + str(i) + \"]\" + \" : \" + str(x))\n",
    "    i += 1"
   ]
  },
  {
   "cell_type": "code",
   "execution_count": 3,
   "id": "a28fc426",
   "metadata": {},
   "outputs": [
    {
     "data": {
      "text/plain": [
       "'N'"
      ]
     },
     "execution_count": 3,
     "metadata": {},
     "output_type": "execute_result"
    }
   ],
   "source": [
    "name[0]"
   ]
  },
  {
   "cell_type": "code",
   "execution_count": 4,
   "id": "cc8ff8e8",
   "metadata": {},
   "outputs": [
    {
     "data": {
      "text/plain": [
       "'k'"
      ]
     },
     "execution_count": 4,
     "metadata": {},
     "output_type": "execute_result"
    }
   ],
   "source": [
    "name[3]"
   ]
  },
  {
   "cell_type": "code",
   "execution_count": 6,
   "id": "c138f99d",
   "metadata": {},
   "outputs": [
    {
     "data": {
      "text/plain": [
       "str"
      ]
     },
     "execution_count": 6,
     "metadata": {},
     "output_type": "execute_result"
    }
   ],
   "source": [
    "type(name[0])"
   ]
  },
  {
   "cell_type": "code",
   "execution_count": 5,
   "id": "9ed51425",
   "metadata": {},
   "outputs": [
    {
     "name": "stdout",
     "output_type": "stream",
     "text": [
      "<class 'str'>\n"
     ]
    }
   ],
   "source": [
    "print(type(name[0]))"
   ]
  },
  {
   "cell_type": "markdown",
   "id": "2b82c1b7",
   "metadata": {},
   "source": [
    "## 2.2 The `dir` of methods"
   ]
  },
  {
   "cell_type": "code",
   "execution_count": null,
   "id": "67dc765f",
   "metadata": {},
   "outputs": [],
   "source": [
    "dir(str)"
   ]
  },
  {
   "cell_type": "code",
   "execution_count": null,
   "id": "2a6c94e5",
   "metadata": {},
   "outputs": [],
   "source": [
    "name"
   ]
  },
  {
   "cell_type": "code",
   "execution_count": null,
   "id": "7021809b",
   "metadata": {},
   "outputs": [],
   "source": [
    "name.find('c')"
   ]
  },
  {
   "cell_type": "code",
   "execution_count": null,
   "id": "2aa2ab17",
   "metadata": {},
   "outputs": [],
   "source": [
    "name.find('C')"
   ]
  },
  {
   "cell_type": "code",
   "execution_count": null,
   "id": "93dc58c4",
   "metadata": {},
   "outputs": [],
   "source": [
    "name.lower()"
   ]
  },
  {
   "cell_type": "code",
   "execution_count": null,
   "id": "9a364bee",
   "metadata": {},
   "outputs": [],
   "source": [
    "name.upper()"
   ]
  },
  {
   "cell_type": "markdown",
   "id": "2a9e354f",
   "metadata": {},
   "source": [
    "## 3. Python Lists `[ ]`\n",
    "\n",
    "* A list in Python does use the subscript operator `[ ]` typically associated with an array. Elements in this list are also indexed.\n",
    "\n",
    "* The list will maintain a pointer (reference) to objects, rather the integer values (remember Python types are classes).\n",
    "\n",
    "* Lists in python are resizable, unlike static arrays which are fixed.\n",
    "\n",
    "* Python lists can store elements of different types, whereas arrays are declared to store values of one type.\n"
   ]
  },
  {
   "cell_type": "code",
   "execution_count": null,
   "id": "9045400c",
   "metadata": {},
   "outputs": [],
   "source": [
    "l = [1,2.25,\"Nick\",\"N\",True]\n",
    "l"
   ]
  },
  {
   "cell_type": "code",
   "execution_count": null,
   "id": "0e8744b8",
   "metadata": {},
   "outputs": [],
   "source": [
    "l[5]"
   ]
  },
  {
   "cell_type": "code",
   "execution_count": null,
   "id": "33926c89",
   "metadata": {},
   "outputs": [],
   "source": [
    "len(l)"
   ]
  },
  {
   "cell_type": "code",
   "execution_count": null,
   "id": "c7ad067e",
   "metadata": {},
   "outputs": [],
   "source": [
    "l = [1,2,3,4,5,6]\n",
    "l"
   ]
  },
  {
   "cell_type": "code",
   "execution_count": null,
   "id": "55fe606b",
   "metadata": {},
   "outputs": [],
   "source": [
    "l[0]"
   ]
  },
  {
   "cell_type": "code",
   "execution_count": null,
   "id": "c972039a",
   "metadata": {},
   "outputs": [],
   "source": [
    "l[-1]"
   ]
  },
  {
   "cell_type": "code",
   "execution_count": null,
   "id": "a6e5eeb9",
   "metadata": {},
   "outputs": [],
   "source": [
    "l[-2]"
   ]
  },
  {
   "cell_type": "code",
   "execution_count": null,
   "id": "ee446907",
   "metadata": {},
   "outputs": [],
   "source": [
    "l"
   ]
  },
  {
   "cell_type": "code",
   "execution_count": null,
   "id": "78df89ed",
   "metadata": {},
   "outputs": [],
   "source": [
    "l[2:4]"
   ]
  },
  {
   "cell_type": "code",
   "execution_count": null,
   "id": "8a3bb35c",
   "metadata": {},
   "outputs": [],
   "source": [
    "type(name)"
   ]
  },
  {
   "cell_type": "code",
   "execution_count": null,
   "id": "a12c8033",
   "metadata": {},
   "outputs": [],
   "source": [
    "type(l)"
   ]
  },
  {
   "cell_type": "code",
   "execution_count": null,
   "id": "f0223eb3",
   "metadata": {},
   "outputs": [],
   "source": [
    "dir(list)"
   ]
  },
  {
   "cell_type": "code",
   "execution_count": null,
   "id": "3f0aba95",
   "metadata": {},
   "outputs": [],
   "source": [
    "l"
   ]
  },
  {
   "cell_type": "code",
   "execution_count": null,
   "id": "734ca2d6",
   "metadata": {},
   "outputs": [],
   "source": [
    "l.append(7)\n",
    "l"
   ]
  },
  {
   "cell_type": "code",
   "execution_count": null,
   "id": "5fc103ca",
   "metadata": {},
   "outputs": [],
   "source": [
    "l.remove(7)\n",
    "l"
   ]
  },
  {
   "cell_type": "markdown",
   "id": "fbcc593e",
   "metadata": {},
   "source": [
    "## 3.2 Numpy Arrays\n",
    "\n",
    "![numpy_logo](https://upload.wikimedia.org/wikipedia/commons/thumb/3/31/NumPy_logo_2020.svg/320px-NumPy_logo_2020.svg.png)\n",
    "* Numerical Python (NumPy) is a package full of methods that can perform useful operations on data.  \n",
    "\n",
    "* NumPy provides a convenient API (Application Programmable Interface) that provides a way to ‘interface’ with / operate on data. \n",
    "\n",
    "* It reintroduces types which is more coding but more efficient way to search/sort/store data than the ‘loosely’ typed nature of Python that we’ve seen so far. \n",
    "\n",
    "* More documentation available at: https://numpy.org "
   ]
  },
  {
   "cell_type": "markdown",
   "id": "3369da09",
   "metadata": {},
   "source": [
    "## 3.2.1 Numpy Arrays vs Python List\n",
    "\n",
    "* NumPy arrays are different to Python Lists. \n",
    "\n",
    "* NumPy arrays reintroduce the ‘typed’ nature of more ‘verbose’ languages (C, C++, Java), where everything is explicitly typed. \n",
    "\n",
    "* NumPy arrays operate like arrays from C and Java where they declared to store data of one type (only integers), unlike Python and JS, which can store data of different types. \n",
    "\n",
    "* NumPy arrays therefore data is ‘cast’ – floating point numbers to integers, or in some cases – an error is produced (strings to integers)."
   ]
  },
  {
   "cell_type": "code",
   "execution_count": 12,
   "id": "936bfb3b",
   "metadata": {},
   "outputs": [],
   "source": [
    "import numpy as np"
   ]
  },
  {
   "cell_type": "code",
   "execution_count": 13,
   "id": "94b0132f",
   "metadata": {},
   "outputs": [
    {
     "data": {
      "text/plain": [
       "array([3.14, 2.  , 3.  , 4.  , 5.  ])"
      ]
     },
     "execution_count": 13,
     "metadata": {},
     "output_type": "execute_result"
    }
   ],
   "source": [
    "numpy_arr = np.array([3.14,2,3,4,5]) \n",
    "numpy_arr"
   ]
  },
  {
   "cell_type": "code",
   "execution_count": 14,
   "id": "0711259b",
   "metadata": {},
   "outputs": [
    {
     "data": {
      "text/plain": [
       "[0, 1.0, 'N', True]"
      ]
     },
     "execution_count": 14,
     "metadata": {},
     "output_type": "execute_result"
    }
   ],
   "source": [
    "py_list = [0, 1.0, \"N\", True]\n",
    "py_list"
   ]
  },
  {
   "cell_type": "code",
   "execution_count": 16,
   "id": "d23d69b6",
   "metadata": {},
   "outputs": [
    {
     "data": {
      "text/plain": [
       "dtype('float64')"
      ]
     },
     "execution_count": 16,
     "metadata": {},
     "output_type": "execute_result"
    }
   ],
   "source": [
    "numpy_arr[3].dtype"
   ]
  },
  {
   "cell_type": "markdown",
   "id": "e593c312",
   "metadata": {},
   "source": [
    "How many bytes is 64-bits? "
   ]
  },
  {
   "cell_type": "code",
   "execution_count": 45,
   "id": "f729aec1",
   "metadata": {},
   "outputs": [
    {
     "data": {
      "text/plain": [
       "array([1., 2., 3.], dtype=float32)"
      ]
     },
     "execution_count": 45,
     "metadata": {},
     "output_type": "execute_result"
    }
   ],
   "source": [
    "a = np.array([1,2,3],dtype='float32')\n",
    "a\n"
   ]
  },
  {
   "cell_type": "code",
   "execution_count": 46,
   "id": "a5dd3b51",
   "metadata": {},
   "outputs": [
    {
     "data": {
      "text/plain": [
       "dtype('float32')"
      ]
     },
     "execution_count": 46,
     "metadata": {},
     "output_type": "execute_result"
    }
   ],
   "source": [
    "a[0].dtype"
   ]
  },
  {
   "cell_type": "markdown",
   "id": "684334d9",
   "metadata": {},
   "source": [
    "How many bytes? "
   ]
  },
  {
   "cell_type": "markdown",
   "id": "9b6ced46",
   "metadata": {},
   "source": [
    "## 4. Tuples in Python `( )`\n",
    "\n",
    "* We’ve seen that a Python list is indexed and can store elements of different types (heterogeneity) \n",
    "\n",
    "* Tuples are constant (immutable) – once they are declared, they cannot be reassigned. \n",
    "\n",
    "* A list is declared with `[ ]` whereas the tuple is declared with `( )`\n",
    "\n",
    "* We can still refer to elements in a tuple via the `[ ]` \n"
   ]
  },
  {
   "cell_type": "code",
   "execution_count": null,
   "id": "c7c55820",
   "metadata": {},
   "outputs": [],
   "source": [
    "l = []"
   ]
  },
  {
   "cell_type": "code",
   "execution_count": null,
   "id": "5c1eb4d8",
   "metadata": {},
   "outputs": [],
   "source": [
    "t = (1,2,3,4,5,6)\n",
    "t"
   ]
  },
  {
   "cell_type": "code",
   "execution_count": null,
   "id": "5f9a7f4d",
   "metadata": {},
   "outputs": [],
   "source": [
    "t[0]"
   ]
  },
  {
   "cell_type": "code",
   "execution_count": null,
   "id": "effe2260",
   "metadata": {},
   "outputs": [],
   "source": [
    "t[0] = 5"
   ]
  },
  {
   "cell_type": "code",
   "execution_count": null,
   "id": "79f7e94f",
   "metadata": {},
   "outputs": [],
   "source": [
    "type(t)"
   ]
  },
  {
   "cell_type": "code",
   "execution_count": null,
   "id": "1f7936fb",
   "metadata": {},
   "outputs": [],
   "source": [
    "dir(tuple)"
   ]
  },
  {
   "cell_type": "code",
   "execution_count": 97,
   "id": "e33b316f",
   "metadata": {},
   "outputs": [],
   "source": [
    "t1 = (1,1,1,1,1,1,1,1,2,2,2,2,2,2,2,2,3,3,3,3,3,3)"
   ]
  },
  {
   "cell_type": "code",
   "execution_count": null,
   "id": "7f3797bc",
   "metadata": {},
   "outputs": [],
   "source": [
    "t1.count(3)"
   ]
  },
  {
   "cell_type": "code",
   "execution_count": null,
   "id": "698b5fa8",
   "metadata": {},
   "outputs": [],
   "source": [
    "t.index(5)"
   ]
  },
  {
   "cell_type": "markdown",
   "id": "2cf034f4",
   "metadata": {},
   "source": [
    "## 5. Tuples vs Lists \n",
    "\n",
    "* Tuples are immutable (constant) – once they are declared, they cannot be reassigned. \n",
    "\n",
    "* A list is mutable – elements can be reassigned. \n",
    "\n",
    "* A list is declared with `[ ]` whereas the tuple is declared with `( )`\n",
    "\n",
    "* We can refer to elements in both a list and tuple via the `[ ]` \n"
   ]
  },
  {
   "cell_type": "markdown",
   "id": "7274d3c9",
   "metadata": {},
   "source": [
    "## Summary \n",
    "\n",
    "* You can distinguish between the key collections by the pairs of brackets used: \n",
    "\n",
    "| Structure | Brackets | Characteristics |\n",
    "| ----------- | ----------- | --------- |\n",
    "| Lists |\t`[ , ]` | mutable |\n",
    "| Tuples |\t`( , )` | immutable | \n"
   ]
  },
  {
   "cell_type": "markdown",
   "id": "dd38cc99",
   "metadata": {
    "id": "dd38cc99"
   },
   "source": [
    "#### This Jupyter Notebook contains exercises for you to extend your introduction to OOP, by creating lists, tuples, sets, dictionaries of objects. Attempt the following exercises, which slowly build in complexity. If you get stuck, check back to the <a href = \"https://www.youtube.com/watch?v=359eGFD7hS4\"> Python lecture recording on Data Structures here</a> or view the <a href = \"https://www.w3schools.com/python/python_lists.asp\">W3Schools page on Python Variables</a>, which includes examples, exercises and quizzes to help your understanding. "
   ]
  },
  {
   "cell_type": "markdown",
   "id": "12a4fcc2",
   "metadata": {},
   "source": [
    "### Exercise 1: \n",
    "\n",
    "Write your name as a string, and print out the last character of your name. Is there a convenient way to get to the last character of a `list`?\n",
    "\n",
    "Extension: Can you write a loop to print out all letters of your name on a separate line?\n",
    "\n",
    "Extension: Can you use Python to write your name in binary (base-2)?"
   ]
  },
  {
   "cell_type": "code",
   "execution_count": null,
   "id": "245bd97d",
   "metadata": {},
   "outputs": [],
   "source": [
    "# Write your solution here\n"
   ]
  },
  {
   "cell_type": "markdown",
   "id": "6e5075e1",
   "metadata": {
    "id": "6e5075e1"
   },
   "source": [
    "### Exercise 2:\n",
    "Create a Python `list` that stores the numbers 1-10 in indivdual elements. Then print out the contents of the `list` to check the values have been stored correctly.\n",
    "\n",
    "Extension: make use of an appropriate `list` method to reverse the order of this `list`.\n",
    "\n",
    "Extension: how much memory does this list take up? Can you use Python to calculate the total size in memory? "
   ]
  },
  {
   "cell_type": "code",
   "execution_count": null,
   "id": "1c93996b",
   "metadata": {
    "id": "1c93996b",
    "outputId": "fc2acb5f-64bd-48f2-9659-ddbc761958a4",
    "scrolled": false
   },
   "outputs": [],
   "source": [
    "# Write your solution here\n"
   ]
  },
  {
   "cell_type": "markdown",
   "id": "0944e60a",
   "metadata": {},
   "source": [
    "### Exercise 3: \n",
    "\n",
    "Now can you create a function which will return the first and last value of a `list` passed in. Code this function so that it will work with any length of `list`. \n",
    "\n",
    "Question: Which `list` function will return the length of a `list`?"
   ]
  },
  {
   "cell_type": "code",
   "execution_count": null,
   "id": "d8b9aca3",
   "metadata": {},
   "outputs": [],
   "source": [
    "def first_and_last():\n",
    "    ... # Write your solution here."
   ]
  },
  {
   "cell_type": "code",
   "execution_count": null,
   "id": "f6500a77",
   "metadata": {},
   "outputs": [],
   "source": [
    "l = ...\n",
    "first_and_last(l)"
   ]
  },
  {
   "cell_type": "markdown",
   "id": "e2fccebf",
   "metadata": {},
   "source": [
    "### Exercise 4: \n",
    "\n",
    "Consider the given `tuple` below. Is there a function you call to return the `count` of the value `6`?"
   ]
  },
  {
   "cell_type": "code",
   "execution_count": 1,
   "id": "62d20dee",
   "metadata": {},
   "outputs": [],
   "source": [
    "t = (1,2,3,4,5,6,4,5,6,7,8,9,1,2,3,7,8,9,4,5,6)\n",
    "\n",
    "# Write your solution here"
   ]
  },
  {
   "cell_type": "markdown",
   "id": "c76976fd",
   "metadata": {},
   "source": [
    "### Exercise 5:\n",
    "\n",
    "Write a function which will square (raise to the power of 2) the contents of a list of values passed in. Test this works by passing in your list of numbers (1-10) you created in the first exericse.\n",
    "\n",
    "<b>Extension</b>: what happens if the values in a list are not `ints` or `floats`? How would you respond to this event?"
   ]
  },
  {
   "cell_type": "code",
   "execution_count": null,
   "id": "8361ab2a",
   "metadata": {},
   "outputs": [],
   "source": [
    "def square():\n",
    "    ..."
   ]
  },
  {
   "cell_type": "code",
   "execution_count": null,
   "id": "7889352e",
   "metadata": {},
   "outputs": [],
   "source": [
    "# Write your solution here\n"
   ]
  },
  {
   "cell_type": "markdown",
   "id": "200fb490",
   "metadata": {},
   "source": [
    "### Exercise 6: \n",
    "\n",
    "Write function that will find a middle element of a given `list`. \n",
    "\n",
    "If you had a `list` with an odd number as its length : `[1,2,3,4,5,6,7,8,9]`, then the middle element will have a symmetric halves (four values either side of the middle value 5). \n",
    "\n",
    "For an even number as a length, either return both elements in the middle or round up or down to either side.  \n",
    "\n",
    "Check your function works for a variety of `list` sizes."
   ]
  },
  {
   "cell_type": "code",
   "execution_count": null,
   "id": "593f67e2",
   "metadata": {},
   "outputs": [],
   "source": [
    "# Write your solution here\n"
   ]
  },
  {
   "cell_type": "markdown",
   "id": "fbb5bdfe",
   "metadata": {},
   "source": [
    "### Exercise 7:\n",
    "Write a function that takes two `lists` of numbers, and returns the number that appears most frequently across both `lists` (the mode). \n",
    "\n",
    "Hint: if you get stuck, try creating a tally of how many times each number appears. Have you `counted` the instances of the same value before?\n"
   ]
  },
  {
   "cell_type": "code",
   "execution_count": null,
   "id": "6f9446d9",
   "metadata": {},
   "outputs": [],
   "source": [
    "def most_frequent(a, b):\n",
    "    ... #write your solution here\n",
    "\n",
    "a = [0,1,3,4,6,3,2,4,1,9,5,6,7,7,1,8,4,0]\n",
    "b = [7,3,9,6,7,4,2,1,3,9,7,5,1,3,4,2,1,8]\n",
    "\n",
    "result = most_frequent(a, b)\n",
    "result\n"
   ]
  },
  {
   "cell_type": "markdown",
   "id": "5861f62c",
   "metadata": {},
   "source": [
    "### (Bonus) Exercise (in the style of an interview question)\n",
    "\n",
    "You are given a list of integers, and your task is to find the longest subsequence of consecutive integers within the list. A subsequence is a sequence that can be derived from another sequence by deleting some or no elements without changing the order of the remaining elements. \n",
    "\n",
    "Write a Python function to solve this problem. Your function should return the longest consecutive subsequence found in the original list.\n",
    "\n",
    "For example, given the input list: ``` [4, 2, 8, 5, 6, 7, 11, 12, 10]```\n",
    "\n",
    "The longest consecutive subsequence is: ``` [4, 5, 6, 7, 8] ```\n"
   ]
  },
  {
   "cell_type": "code",
   "execution_count": null,
   "id": "ddf7677c",
   "metadata": {
    "id": "ddf7677c"
   },
   "outputs": [],
   "source": [
    "def longest_consecutive_subsequence(numbers):\n",
    "    #write your solution here\n",
    "    ...\n",
    "    #write your solution above\n",
    "\n",
    "\n",
    "numbers = [4, 2, 8, 5, 6, 7, 11, 12, 10]\n",
    "result = longest_consecutive_subsequence(numbers)\n",
    "print(result)  "
   ]
  }
 ],
 "metadata": {
  "colab": {
   "provenance": []
  },
  "kernelspec": {
   "display_name": "Python 3",
   "language": "python",
   "name": "python3"
  },
  "language_info": {
   "codemirror_mode": {
    "name": "ipython",
    "version": 3
   },
   "file_extension": ".py",
   "mimetype": "text/x-python",
   "name": "python",
   "nbconvert_exporter": "python",
   "pygments_lexer": "ipython3",
   "version": "3.9.6"
  }
 },
 "nbformat": 4,
 "nbformat_minor": 5
}
