{
 "cells": [
  {
   "cell_type": "markdown",
   "metadata": {},
   "source": [
    "# 08 Flask\n"
   ]
  },
  {
   "cell_type": "markdown",
   "metadata": {},
   "source": [
    "## Plan for the Lecture\n",
    "\n",
    "1. Getting started with Flask\n",
    "\n",
    "2. HTML\n",
    "\n",
    "3. CSS"
   ]
  },
  {
   "cell_type": "markdown",
   "metadata": {},
   "source": [
    "## 1.0 What is Flask?\n",
    "\n",
    "<img src=\"https://flask.palletsprojects.com/en/3.0.x/_images/flask-horizontal.png\" alt=\"Flask_logo\" width=\"250\"> \n",
    "\n",
    "* Flask is a framework for developing web applications, utilizing HTML and CSS to provide an interface for Python.\n",
    "\n",
    "* Flask includes a built-in development server, unit testing, and RESTful request handling, a templating engine called Jinja2 for dynamic web pages. \n",
    "\n",
    "* Django is a more comprehensive Python web framework, featuring DjangoAdmin, but what you learn in Flask is transferable.\n",
    "\n",
    "* See the documentation at : http://flask.palletsprojects.com/   \n"
   ]
  },
  {
   "cell_type": "markdown",
   "metadata": {},
   "source": [
    "## 1.1 Installing Flask \n",
    "\n",
    "`pip install flask`\n",
    "\n",
    "or \n",
    "\n",
    "`python3 -m pip install -U flask --user`"
   ]
  },
  {
   "cell_type": "markdown",
   "metadata": {},
   "source": [
    "## 1.2 Make folder directory: \n",
    "\n",
    "* You could type the following into a terminal\n",
    "`mkdir my_flask_app` or alternatively create this folder manually in your GUI. \n",
    "\n",
    "* Next you want to <b><u>c</b></u>hange <b><u>d</u></b>irectory with `cd`\n",
    "`cd my_flask_app`\n",
    "\n",
    "* Now that you are pointing to this root directory, start by creating an `app.py` python file. "
   ]
  },
  {
   "cell_type": "markdown",
   "metadata": {},
   "source": [
    "\\my_flask_app<br>\n",
    "&nbsp;&nbsp;&nbsp;&nbsp;`\\app.py`\n"
   ]
  },
  {
   "cell_type": "markdown",
   "metadata": {},
   "source": [
    "## Your `app.py` file:\n",
    "\n",
    "* Inside your `app.py` file, copy the below Python script into this file, and then save. "
   ]
  },
  {
   "cell_type": "code",
   "execution_count": null,
   "metadata": {},
   "outputs": [],
   "source": [
    "from flask import Flask\n",
    "# First Flask App\n",
    "app = Flask(__name__)\n",
    "\n",
    "@app.route('/')\n",
    "def home():\n",
    "    return \"Hello, Flask!\"\n",
    "\n",
    "if __name__ == '__main__':\n",
    "    app.run(debug=True)\n"
   ]
  },
  {
   "cell_type": "markdown",
   "metadata": {},
   "source": [
    "## Create a localhost as a terminal \n",
    "\n",
    "Check this works by running the following in a terminal: \n",
    "\n",
    "`python app.py`"
   ]
  },
  {
   "cell_type": "markdown",
   "metadata": {},
   "source": [
    "Hopefully, in your web browser, you'll see something like the following (the below is a different example, so the port number will be different, as will the message): \n",
    "![hello_f](https://d33wubrfki0l68.cloudfront.net/39e9486b028ee4bc7327d6a2c69e27790f95640f/f69aa/wp-content/uploads/2019/10/flask.png)"
   ]
  },
  {
   "cell_type": "markdown",
   "metadata": {},
   "source": [
    "If your web browser hasn’t opened automatically, you should be able to click on the localhost link provided, or copy this link into your web browser. By default it is usually: http://127.0.0.1:5000 "
   ]
  },
  {
   "cell_type": "markdown",
   "metadata": {},
   "source": [
    "## The `templates` folder\n",
    "\n",
    "* To use HTML in Flask applications, you need to create a ‘template’ folder and place the HTML files in here. \n",
    "\n",
    "* This is the same for Django.\n",
    "\n",
    "Use the terminal command: \n",
    "`mkdir templates` \n",
    "or alternatively create a new folder manually via your GUI named `templates` within your flask root folder."
   ]
  },
  {
   "cell_type": "markdown",
   "metadata": {},
   "source": [
    "\\my_flask_app<br>\n",
    "&nbsp;&nbsp;&nbsp;&nbsp;\\templates<br>\n",
    "&nbsp;&nbsp;&nbsp;&nbsp;&nbsp;&nbsp;&nbsp;&nbsp;<b><font color = \"yellow\">\\home.html</b></font><br>\n",
    "&nbsp;&nbsp;&nbsp;&nbsp;\\app.py"
   ]
  },
  {
   "cell_type": "markdown",
   "metadata": {},
   "source": [
    "## Then add the following HTML code to this newly created `home.html` file:\n",
    "```\n",
    "<!DOCTYPE html>\n",
    "<html lang=\"en\">\n",
    "<head>\n",
    "    <meta charset=\"UTF-8\">\n",
    "    <meta name=\"viewport\" content=\"width=device-width, initial-scale=1.0\">\n",
    "    <title>Home</title>\n",
    "</head>\n",
    "<body>\n",
    "    <h1>Hello, Flask with Templates!</h1>\n",
    "</body>\n",
    "</html>\n",
    "```"
   ]
  },
  {
   "cell_type": "markdown",
   "metadata": {},
   "source": [
    "which looks like this: "
   ]
  },
  {
   "cell_type": "markdown",
   "metadata": {},
   "source": [
    "<!DOCTYPE html>\n",
    "<html lang=\"en\">\n",
    "<head>\n",
    "    <meta charset=\"UTF-8\">\n",
    "    <meta name=\"viewport\" content=\"width=device-width, initial-scale=1.0\">\n",
    "    <title>Home</title>\n",
    "</head>\n",
    "<body>\n",
    "    <h1>Hello, Flask with Templates!</h1>\n",
    "</body>\n",
    "</html>\n"
   ]
  },
  {
   "cell_type": "markdown",
   "metadata": {},
   "source": [
    "## Update your `app.py` file: "
   ]
  },
  {
   "cell_type": "code",
   "execution_count": null,
   "metadata": {},
   "outputs": [],
   "source": [
    "from flask import Flask, render_template\n",
    "# First Flask App\n",
    "app = Flask(__name__)\n",
    "\n",
    "@app.route('/')\n",
    "def home():\n",
    "    return render_template('home.html')\n",
    "\n",
    "if __name__ == '__main__':\n",
    "    app.run(debug=True)\n"
   ]
  },
  {
   "cell_type": "markdown",
   "metadata": {},
   "source": [
    "## HTML \n",
    "\n",
    "* HyperText Markup Language (HTML) was first created in 1991 by Tim-Burners Lee.\n",
    "\n",
    "* HTML enables developers to define the structure and elements that constitute a page. \n",
    "\n",
    "* HTML elements have an opening `< >` tag and closing tag `</ >` \n",
    "\n",
    "* HTML 5, first released in 2008, remains the latest version of HTML to date.\n",
    "\n"
   ]
  },
  {
   "cell_type": "markdown",
   "metadata": {},
   "source": [
    "## Copy the code below into a `index.html` file"
   ]
  },
  {
   "cell_type": "markdown",
   "metadata": {},
   "source": [
    "```\n",
    "<!DOCTYPE html>\n",
    "<html>\n",
    "   <head>\n",
    "      <title>Page Title</title>\n",
    "   </head>\n",
    "   <body>\n",
    "      <h1>This is a Heading</h1>\n",
    "      <p>This is a paragraph</p>\n",
    "   </body>\n",
    "</html>\n",
    "```"
   ]
  },
  {
   "cell_type": "markdown",
   "metadata": {},
   "source": [
    "Markdown can actually read HTML! See below:"
   ]
  },
  {
   "cell_type": "markdown",
   "metadata": {},
   "source": [
    "<!DOCTYPE html>\n",
    "<html>\n",
    "   <head>\n",
    "      <title>Page Title</title>\n",
    "   </head>\n",
    "   <body>\n",
    "      <h1>This is a Heading</h1>\n",
    "      <p>This is a paragraph</p>\n",
    "   </body>\n",
    "</html>\n"
   ]
  },
  {
   "cell_type": "markdown",
   "metadata": {},
   "source": [
    "## HTML Headings `<h1>` - `<h6>`: "
   ]
  },
  {
   "cell_type": "markdown",
   "metadata": {},
   "source": [
    "<h1>Heading 1</h1>\n",
    "<h2>Heading 2</h2>\n",
    "<h3>Heading 3</h3>\n",
    "<h4>Heading 4</h4>\n",
    "<h5>Heading 5</h5>\n",
    "<h6>Heading 6</h6>"
   ]
  },
  {
   "cell_type": "markdown",
   "metadata": {},
   "source": [
    "## Markdown headings are `#` to `#######`"
   ]
  },
  {
   "cell_type": "markdown",
   "metadata": {},
   "source": [
    "# Heading 1 \n",
    "## Heading 2\n",
    "### Heading 3\n",
    "#### Heading 4\n",
    "##### Heading 5\n",
    "###### Heading 6"
   ]
  },
  {
   "cell_type": "markdown",
   "metadata": {},
   "source": [
    "## CSS\n",
    "\n",
    "* Cascading Style Sheets (CSS) was first released in December 1996.\n",
    "\n",
    "* CSS enables developers to define the presentation of HTML elements – known as rules\n",
    "\n",
    "* CSS rules are specified using `{` and `}` with values being assigned by the `=` operator and `;` \n",
    "\n",
    "* CSS 3, first released in 1999, and had over 40 modules by 2011. It is the latest major version of CSS to date.\n"
   ]
  },
  {
   "cell_type": "markdown",
   "metadata": {},
   "source": [
    "## Copy the code below into a `style.css` file"
   ]
  },
  {
   "cell_type": "markdown",
   "metadata": {},
   "source": [
    "```\n",
    "h1 {\n",
    "    color: #243bb9;\n",
    "}\n",
    "p {\n",
    "    color:#9e3992;\n",
    "}\n",
    "```"
   ]
  },
  {
   "cell_type": "markdown",
   "metadata": {},
   "source": [
    "## The static folder\n",
    "\n",
    "* `mkdir static` "
   ]
  },
  {
   "cell_type": "markdown",
   "metadata": {},
   "source": [
    "\\my_flask_app<br>\n",
    "&nbsp;&nbsp;&nbsp;&nbsp;\\static<br>\n",
    "&nbsp;&nbsp;&nbsp;&nbsp;&nbsp;&nbsp;&nbsp;&nbsp;<b><font color = \"yellow\">\\style.css</b></font><br>\n",
    "&nbsp;&nbsp;&nbsp;&nbsp;\\templates<br>\n",
    "&nbsp;&nbsp;&nbsp;&nbsp;&nbsp;&nbsp;&nbsp;&nbsp;\\home.html<br>\n",
    "&nbsp;&nbsp;&nbsp;&nbsp;\\app.py"
   ]
  },
  {
   "cell_type": "markdown",
   "metadata": {},
   "source": [
    "## Update the HTML to link to the stylesheet (CSS)"
   ]
  },
  {
   "cell_type": "markdown",
   "metadata": {},
   "source": [
    "```\n",
    "<!DOCTYPE html>\n",
    "<html lang=\"en\">\n",
    "<head>\n",
    "    <meta charset=\"UTF-8\">\n",
    "    <meta name=\"viewport\" content=\"width=device-width, initial-scale=1.0\">\n",
    "    <title>Home</title>\n",
    "    <!-- Link to the CSS file -->\n",
    "    <link rel=\"stylesheet\" href=\"{{ url_for('static', filename='style.css') }}\">\n",
    "</head>\n",
    "<body>\n",
    "    <h1>Hello, Flask with Templates!</h1>\n",
    "    <a href = \"/about\">about</a>\n",
    "</body>\n",
    "</html>\n",
    "```"
   ]
  },
  {
   "cell_type": "markdown",
   "metadata": {},
   "source": [
    "## Integrating Python scripts\n",
    "\n",
    "Now, let's create a Python script in a dedicated `.py` file, which will represent the server-side processing. Remember that Python scripts sit at the 'backend' on the server (like PHP/Ruby), where as the HTML, CSS (and JS) are client side. \n",
    "\n",
    "Below is a very simple script that will sum the items of a Python list and return this value. Place this python script in `.py` file named: `data_processing.py`"
   ]
  },
  {
   "cell_type": "markdown",
   "metadata": {},
   "source": [
    "\\my_flask_app<br>\n",
    "&nbsp;&nbsp;&nbsp;&nbsp;\\static<br>\n",
    "&nbsp;&nbsp;&nbsp;&nbsp;&nbsp;&nbsp;&nbsp;&nbsp;\\style.css<br>\n",
    "&nbsp;&nbsp;&nbsp;&nbsp;\\templates<br>\n",
    "&nbsp;&nbsp;&nbsp;&nbsp;&nbsp;&nbsp;&nbsp;&nbsp;\\home.html<br>\n",
    "&nbsp;&nbsp;&nbsp;&nbsp;\\app.py<br>\n",
    "&nbsp;&nbsp;&nbsp;&nbsp;<b><font color = \"yellow\">\\data_processing.py<b></font><br>"
   ]
  },
  {
   "cell_type": "code",
   "execution_count": null,
   "metadata": {},
   "outputs": [],
   "source": [
    "def process_data():\n",
    "    l = [1,2,3,4,5,6,7]\n",
    "    total = sum(l)\n",
    "    return total"
   ]
  },
  {
   "cell_type": "markdown",
   "metadata": {},
   "source": [
    "### Now update your `app.py` file to import this function from the `data_processing.py` file"
   ]
  },
  {
   "cell_type": "code",
   "execution_count": null,
   "metadata": {},
   "outputs": [],
   "source": [
    "from flask import Flask, render_template\n",
    "from data_processing import process_data  # Import your script\n",
    "# First Flask App\n",
    "app = Flask(__name__)\n",
    "\n",
    "@app.route('/')\n",
    "def home():\n",
    "    result = process_data()  # Call the function from the script\n",
    "    return render_template('home.html', result=result)\n",
    " \n",
    "@app.route('/about')\n",
    "def about():\n",
    "    return render_template('about.html')\n",
    "\n",
    "if __name__ == '__main__':\n",
    "    app.run(debug=True)\n"
   ]
  },
  {
   "cell_type": "markdown",
   "metadata": {},
   "source": [
    "### Now you need to update your HTML page to display the result (supplied by the `data_processing.py` script)"
   ]
  },
  {
   "cell_type": "markdown",
   "metadata": {},
   "source": [
    "```\n",
    "<!DOCTYPE html>\n",
    "<html lang=\"en\">\n",
    "<head>\n",
    "    <meta charset=\"UTF-8\">\n",
    "    <meta name=\"viewport\" content=\"width=device-width, initial-scale=1.0\">\n",
    "    <title>Home</title>\n",
    "    <!-- Link to the CSS file -->\n",
    "    <link rel=\"stylesheet\" href=\"{{ url_for('static', filename='style.css') }}\">\n",
    "</head>\n",
    "<body>\n",
    "    <h1>Hello, Flask with Templates!</h1>\n",
    "    <h2>{{ result }}</h2>  <!-- Display the processed data result -->\n",
    "    <a href = \"/about\">about</a>\n",
    "</body>\n",
    "</html>\n",
    "```"
   ]
  },
  {
   "cell_type": "markdown",
   "metadata": {},
   "source": [
    "## Now reload the terminal or run `python app.py` to check this sum is printed to the screen."
   ]
  },
  {
   "cell_type": "code",
   "execution_count": null,
   "metadata": {},
   "outputs": [],
   "source": []
  },
  {
   "cell_type": "markdown",
   "metadata": {},
   "source": [
    "#### This Jupyter Notebook contains exercises for you to extend your introduction to the basics with Python libraries and packages. Attempt the following exercises, which slowly build in complexity. If you get stuck, check back to the <a href = \"https://www.youtube.com/watch?v=JWb-m8rSND0\"> Python lecture recording on Flask here</a> or view the <a href = \"https://www.w3schools.com/django/index.php\">W3Schools page on Python Flask and Django</a>, which includes examples, exercises and quizzes to help your understanding. "
   ]
  },
  {
   "cell_type": "markdown",
   "metadata": {},
   "source": [
    "### Exercise 1 (set up)\n",
    "\n",
    "If you haven't already, you'll need to install flask:\n",
    "\n",
    "`pip install flask`\n",
    "\n",
    "or \n",
    "\n",
    "`python3 -m pip install -U flask --user`"
   ]
  },
  {
   "cell_type": "markdown",
   "metadata": {},
   "source": [
    "* Then it would be a good idea to a create folder which will serve as the root directory for your flask project.\n",
    "\n",
    "* Create an `app.py` file in this folder:\n",
    "\n",
    "\\my_flask_app<br>\n",
    "&nbsp;&nbsp;&nbsp;&nbsp;`\\app.py`"
   ]
  },
  {
   "cell_type": "markdown",
   "metadata": {},
   "source": [
    "Then you'll need to import flask, and add the following python code below to your `app.py` file."
   ]
  },
  {
   "cell_type": "code",
   "execution_count": null,
   "metadata": {},
   "outputs": [],
   "source": [
    "from flask import Flask\n",
    "# First Flask App\n",
    "app = Flask(__name__)\n",
    "\n",
    "@app.route('/')\n",
    "def home():\n",
    "    return \"Hello, Flask!\"\n",
    "\n",
    "if __name__ == '__main__':\n",
    "    app.run(debug=True)\n"
   ]
  },
  {
   "cell_type": "markdown",
   "metadata": {},
   "source": [
    "Open a terminal window and run the following script: \n",
    "\n",
    "`python app.py`\n",
    "\n",
    "This should then open your flask app in a local web browser - you should see `Hello, Flask!`\n",
    "\n",
    "Question: What is a `localhost`? and what does the four digit number (e.g. `8000`) refer to? "
   ]
  },
  {
   "cell_type": "markdown",
   "metadata": {},
   "source": [
    "### Exercise 2\n",
    "\n",
    "Create a HTML table in a markdown cell below - using the following tags: \n",
    "* `<table>` as the container \n",
    "* `<tr>` for <b><u>t</b></u>able <b><u>r</b></u>ow.\n",
    "* `<td>` for <b><u>t</b></u>able <b><u>d</b></u>efinition.\n",
    "\n",
    "Press the 'tick' in VSC or run in Colab / Anaconda to see whether it creates the HTML table. \n"
   ]
  },
  {
   "cell_type": "markdown",
   "metadata": {},
   "source": [
    "<table>\n",
    "    <tr><td>Write your HTML table here...</td></tr>\n",
    "</table>"
   ]
  },
  {
   "cell_type": "markdown",
   "metadata": {},
   "source": [
    "### Exercise 3 \n",
    "\n",
    "Complete the HTML unordered list `<ul>` below, by adding more `<li>` elements. \n",
    "Then write an ordered list underneath this using the `<ol>` tag. \n",
    "\n",
    "Extension: How would you create a nested list if you needed to?   \n",
    "\n",
    "Extension: Try the definition list - what does this remind you in Python? Which of the Python structures also uses `key` and `value` pairs? "
   ]
  },
  {
   "cell_type": "markdown",
   "metadata": {},
   "source": [
    "Unordered list:\n",
    "<ul>\n",
    "    <li> Here is a sample list element - write more list elements below </li>\n",
    "</ul>\n",
    "\n",
    "Ordered List: \n",
    "    <!--Write your ordered list here...-->\n"
   ]
  },
  {
   "cell_type": "markdown",
   "metadata": {},
   "source": [
    "### Exercise 4 \n",
    "\n",
    "Write some inline CSS styling to change the font `color` for the unordered list.\n",
    "\n",
    "You can do this in your markdown cell, or feel free to migrate this to a HTML file if you prefer, and load in your local web browser. Just ensure that the file has a `.html` extension."
   ]
  },
  {
   "cell_type": "markdown",
   "metadata": {},
   "source": [
    "You could move your unordered list here and add inline <font color = \"red\">CSS styling </font> here..."
   ]
  },
  {
   "cell_type": "markdown",
   "metadata": {},
   "source": [
    "### Exercise 5:\n",
    "\n",
    "If you haven't already, move your HTML code to a dedicated `.html` file (e.g. `home.html`). Feel free to also add a heading `<h1>` to title your page. \n",
    "\n",
    "Now let's define an external CSS file (e.g `style.css`) which defines some rules for your lists and tables. From your `.html` file, add a link to this external `style.css` file so you can separate the `html` structure from the `css` styling.\n",
    "\n",
    "Hint: Remember to adhere to the CSS conventions - you'll need `{ }` for each HTML element you're defining style rules for, and the statements within the block will need to terminate with `;` (semi-colons). \n",
    "\n",
    "For example: \n",
    "\n",
    "```\n",
    "h1 {\n",
    "    color: #243bb9;\n",
    "}\n",
    "```"
   ]
  },
  {
   "cell_type": "markdown",
   "metadata": {},
   "source": [
    "Create a `style.css` that can be linked to with a `.html` file.\n",
    "<!--\n",
    "<head>\n",
    "  <link rel=\"stylesheet\" href=\"styles.css\">\n",
    "</head>\n",
    "-->"
   ]
  },
  {
   "cell_type": "markdown",
   "metadata": {},
   "source": [
    "### Exercise 6 \n",
    "\n",
    "Now that we're getting the hang of HTML and CSS basics, let's return to Flask and start to integrate this code. \n",
    "\n",
    "Create a `templates` folder within your flask root directory, and then move your `.html` file from previous exercises here. \n",
    "\n",
    "\\my_flask_app<br>\n",
    "&nbsp;&nbsp;&nbsp;&nbsp;\\templates<br>\n",
    "&nbsp;&nbsp;&nbsp;&nbsp;&nbsp;&nbsp;&nbsp;&nbsp;<b><font color = \"yellow\">\\home.html</b></font><br>\n",
    "&nbsp;&nbsp;&nbsp;&nbsp;\\app.py\n",
    "\n",
    "Then add update your `app.py` file to `route` through to this `.html` file: \n"
   ]
  },
  {
   "cell_type": "code",
   "execution_count": null,
   "metadata": {},
   "outputs": [],
   "source": [
    "@app.route('/')\n",
    "def home():\n",
    "    return render_template('home.html')"
   ]
  },
  {
   "cell_type": "markdown",
   "metadata": {},
   "source": [
    "If you still have your localhost running, you should be able to refresh the page to see the changes. \n",
    "\n",
    "However, if you need to restart the localhost, remember that you can do so by writing the following into the terminal: \n",
    "\n",
    "`python app.py`"
   ]
  },
  {
   "cell_type": "markdown",
   "metadata": {},
   "source": [
    "### Exercise 7: \n",
    "\n",
    "Now, let's integrate our CSS. Create a `static` folder within your flask root directory, and then move your `style.css` file from previous exercises here. \n",
    "\n",
    "\\my_flask_app<br>\n",
    "&nbsp;&nbsp;&nbsp;&nbsp;\\static<br>\n",
    "&nbsp;&nbsp;&nbsp;&nbsp;&nbsp;&nbsp;&nbsp;&nbsp;<b><font color = \"yellow\">\\style.css</b></font><br>\n",
    "&nbsp;&nbsp;&nbsp;&nbsp;\\templates<br>\n",
    "&nbsp;&nbsp;&nbsp;&nbsp;&nbsp;&nbsp;&nbsp;&nbsp;\\home.html<br>\n",
    "&nbsp;&nbsp;&nbsp;&nbsp;\\app.py\n",
    "\n",
    "Refresh the Flask app - do you see your CSS styling applied? "
   ]
  },
  {
   "cell_type": "markdown",
   "metadata": {},
   "source": [
    "If not... how should you modify the link to the stylesheet - where has it moved to? \n",
    "\n",
    "Hint: check the notes from the lecture! \n",
    "\n",
    "<!-- Link to the CSS file -->\n",
    "<!--\n",
    "<link rel=\"stylesheet\" href=\"{{ url_for('static', filename='style.css') }}\">\n",
    "-->"
   ]
  },
  {
   "cell_type": "markdown",
   "metadata": {},
   "source": [
    "### Exercise 8: \n",
    "Create another HTML file for a separate page (route). Modify your `app.py` to link to this page (route) and also add html hyperlinks so you can navigate between your pages. Also apply the same CSS styling that you created for the initial pages (update these if you wish)."
   ]
  },
  {
   "cell_type": "code",
   "execution_count": null,
   "metadata": {},
   "outputs": [],
   "source": [
    "# Write your solution in your html file and app.py "
   ]
  },
  {
   "cell_type": "markdown",
   "metadata": {},
   "source": [
    "### Exercise 9: \n",
    "\n",
    "Now, let's amend the `data_processing.py` to process an input from the user. Create a input field on one of your HTML pages where the user can enter their name and submit this form. Upon form submission, the `data_processing.py` file should apply a greeting to the name entered (e.g. \"Hello John!\"). Make sure this greeting is then displayed to the screen."
   ]
  },
  {
   "cell_type": "markdown",
   "metadata": {},
   "source": [
    "### Exercise 10: \n",
    "\n",
    "Whilst HTML tables aren't always convenient for applications(!), take the HTML table you constructed in `Exercise 2` above, and copy it into your html file in your flask app.\n",
    "\n",
    "Now populate this HTML table with data supplied by a Python dictionary `{k:v}`. Either create your own dictionary or use this sample data: `{ student: ['Nick', 'Sam', 'Emily], mark: [56, 67, 89]}`. This will be useful preparation for future examples which integrate data from different sources."
   ]
  },
  {
   "cell_type": "markdown",
   "metadata": {},
   "source": [
    "### Exercise 11: \n",
    "\n",
    "If you're familiar with SQL commands, you have the ability to create an SQLite3 database file via Python and you can then utilise this with your flask application. Create a dedicated `.py` file which contains a script to `import sqlite3` and `connect` to the created `.db` file."
   ]
  },
  {
   "cell_type": "markdown",
   "metadata": {},
   "source": [
    "### Exercise 12: \n",
    "\n",
    "Create a simple `users` table in SQL, with columns for a username and password. Allow users to register this data in your front end, and store this data in your `users` SQL table.\n",
    "\n",
    "Extension: Add more data entry fields to your HTML form such as Date of Birth (DOB), address, mobile phone number, email address etc. These details should then be stored in the SQL table. \n",
    "\n",
    "Extension: Create a login page which allows previously registered users to sign in - add validation to ensure that incorrectly entered details do not allow a user to sign in. "
   ]
  }
 ],
 "metadata": {
  "kernelspec": {
   "display_name": "Python 3",
   "language": "python",
   "name": "python3"
  },
  "language_info": {
   "codemirror_mode": {
    "name": "ipython",
    "version": 3
   },
   "file_extension": ".py",
   "mimetype": "text/x-python",
   "name": "python",
   "nbconvert_exporter": "python",
   "pygments_lexer": "ipython3",
   "version": "3.9.6"
  }
 },
 "nbformat": 4,
 "nbformat_minor": 0
}
